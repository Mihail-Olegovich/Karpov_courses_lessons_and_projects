{
 "cells": [
  {
   "cell_type": "markdown",
   "id": "6b6c8c24",
   "metadata": {},
   "source": [
    "# Проект e-commerce"
   ]
  },
  {
   "cell_type": "markdown",
   "id": "318491a6",
   "metadata": {},
   "source": [
    "![ecommerce](ecommerce.png)"
   ]
  },
  {
   "cell_type": "markdown",
   "id": "5ea77768",
   "metadata": {},
   "source": [
    "В данном проекте я буду анализировать данные из e-commerce. Для начала я предварительно исследую данные, сформулирую, что мы будем считать покупкой, посмотрю на пользователей, их заказы и товары в самых разных срезах, а затем проведу когортный и качественный анализы аудитории."
   ]
  },
  {
   "cell_type": "markdown",
   "id": "b2132671",
   "metadata": {},
   "source": [
    "Описание имеющихся данных:"
   ]
  },
  {
   "cell_type": "markdown",
   "id": "e39b5ca4",
   "metadata": {},
   "source": [
    "1) olist_customers_dataset.csv — таблица с уникальными идентификаторами пользователей\n",
    "\n",
    "    customer_id — позаказный идентификатор пользователя\n",
    "\n",
    "    customer_unique_id —  уникальный идентификатор пользователя  (аналог номера паспорта)\n",
    "\n",
    "    customer_zip_code_prefix —  почтовый индекс пользователя\n",
    "\n",
    "    customer_city —  город доставки пользователя\n",
    "\n",
    "    customer_state —  штат доставки пользователя"
   ]
  },
  {
   "cell_type": "markdown",
   "id": "9d53424c",
   "metadata": {},
   "source": [
    "2) olist_orders_dataset.csv —  таблица заказов\n",
    "\n",
    "    order_id —  уникальный идентификатор заказа (номер чека)\n",
    "\n",
    "    customer_id —  позаказный идентификатор пользователя\n",
    "\n",
    "    order_status —  статус заказа\n",
    "\n",
    "    order_purchase_timestamp —  время создания заказа\n",
    "\n",
    "    order_approved_at —  время подтверждения оплаты заказа\n",
    "\n",
    "    order_delivered_carrier_date —  время передачи заказа в логистическую службу\n",
    "\n",
    "    order_delivered_customer_date —  время доставки заказа\n",
    "\n",
    "    order_estimated_delivery_date —  обещанная дата доставки"
   ]
  },
  {
   "cell_type": "markdown",
   "id": "b396f289",
   "metadata": {},
   "source": [
    "3) olist_order_items_dataset.csv —  товарные позиции, входящие в заказы\n",
    "\n",
    "    order_id —  уникальный идентификатор заказа (номер чека)\n",
    "\n",
    "    order_item_id —  идентификатор товара внутри одного заказа\n",
    "\n",
    "    product_id —  ид товара (аналог штрихкода)\n",
    "\n",
    "    seller_id — ид производителя товара\n",
    "\n",
    "    shipping_limit_date —  максимальная дата доставки продавцом для передачи заказа партнеру по логистике\n",
    "\n",
    "    price —  цена за единицу товара\n",
    "\n",
    "    freight_value —  вес товара"
   ]
  },
  {
   "cell_type": "markdown",
   "id": "494954de",
   "metadata": {},
   "source": [
    "Уникальные статусы заказов в таблице olist_orders_dataset:\n",
    "\n",
    "    created —  создан\n",
    "\n",
    "    approved —  подтверждён\n",
    "\n",
    "    invoiced —  выставлен счёт\n",
    "\n",
    "    processing —  в процессе сборки заказа\n",
    "\n",
    "    shipped —  отгружен со склада\n",
    "\n",
    "    delivered —  доставлен пользователю\n",
    "\n",
    "    unavailable —  недоступен\n",
    "\n",
    "    canceled —  отменён"
   ]
  },
  {
   "cell_type": "markdown",
   "id": "e634c032",
   "metadata": {},
   "source": [
    "По этим данным мне предстоит ответить на следующие вопросы:\n",
    "\n",
    "1. Сколько у нас пользователей, которые совершили покупку только один раз?\n",
    "\n",
    "2. Сколько заказов в месяц в среднем не доставляется по разным причинам (с детализацией по причинам)?\n",
    "\n",
    "3. По каждому товару определим, в какой день недели товар чаще всего покупается.\n",
    "\n",
    "4. Сколько у каждого из пользователей в среднем покупок в неделю (по месяцам)? Не будем забывать, что внутри месяца может быть не целое количество недель. Например, в ноябре 2021 года 4,28 недели. И внутри метрики это учтем.\n",
    "\n",
    "5. Используя pandas, проведем когортный анализ пользователей. В период с января по декабрь выявим когорту с самым высоким retention на 3й месяц.\n",
    "\n",
    "6. Используя python, построим RFM-сегментацию пользователей, чтобы качественно оценить нашу аудиторию. В кластеризации выберем следующие метрики: R - время от последней покупки пользователя до текущей даты, F - суммарное количество покупок у пользователя за всё время, M - сумма покупок за всё время. Для каждого RFM-сегмента построим границы метрик recency, frequency и monetary для интерпретации этих кластеров.\n",
    "\n",
    "Для решения задачи проведем предварительное исследование данных и сформулируем, что должно считаться покупкой."
   ]
  },
  {
   "cell_type": "markdown",
   "id": "7e76f8d5",
   "metadata": {
    "ExecuteTime": {
     "end_time": "2023-03-15T09:03:55.510410Z",
     "start_time": "2023-03-15T09:03:55.433091Z"
    }
   },
   "source": [
    "![Scheme](Scheme.png)"
   ]
  },
  {
   "cell_type": "markdown",
   "id": "1cbccf3d",
   "metadata": {},
   "source": [
    "# Исследовательский анализ данных"
   ]
  },
  {
   "cell_type": "code",
   "execution_count": 172,
   "id": "abc6b989",
   "metadata": {
    "ExecuteTime": {
     "end_time": "2023-04-02T07:35:59.116244Z",
     "start_time": "2023-04-02T07:35:59.090970Z"
    }
   },
   "outputs": [],
   "source": [
    "#импорт всех необходимых библиотек\n",
    "import pandas as pd\n",
    "import numpy as np\n",
    "import matplotlib.pyplot as plt\n",
    "import seaborn as sns\n",
    "from datetime import timedelta \n",
    "\n",
    "%matplotlib inline\n",
    "sns.set()"
   ]
  },
  {
   "cell_type": "code",
   "execution_count": 173,
   "id": "e33c4bc5",
   "metadata": {
    "ExecuteTime": {
     "end_time": "2023-04-02T07:36:01.403845Z",
     "start_time": "2023-04-02T07:35:59.172243Z"
    },
    "scrolled": true
   },
   "outputs": [],
   "source": [
    "#считаем данные в pandas DataFrame и сразу же переведем все даты к типу datetime\n",
    "olist_customers_dataset   = pd.read_csv('olist_customers_dataset.csv')\n",
    "olist_orders_dataset      = pd.read_csv('olist_orders_dataset.csv',\n",
    "                                      parse_dates=['order_purchase_timestamp', 'order_approved_at', \n",
    "                                                   'order_delivered_carrier_date', 'order_delivered_customer_date',\n",
    "                                                   'order_estimated_delivery_date'])\n",
    "olist_order_items_dataset = pd.read_csv('olist_order_items_dataset.csv', parse_dates=['shipping_limit_date'])"
   ]
  },
  {
   "cell_type": "markdown",
   "id": "fdd9a9ca",
   "metadata": {},
   "source": [
    "Посмотрим на то, как выглядят наши данные"
   ]
  },
  {
   "cell_type": "code",
   "execution_count": 174,
   "id": "357ceead",
   "metadata": {
    "ExecuteTime": {
     "end_time": "2023-04-02T07:36:01.436134Z",
     "start_time": "2023-04-02T07:36:01.403845Z"
    }
   },
   "outputs": [
    {
     "data": {
      "text/html": [
       "<div>\n",
       "<style scoped>\n",
       "    .dataframe tbody tr th:only-of-type {\n",
       "        vertical-align: middle;\n",
       "    }\n",
       "\n",
       "    .dataframe tbody tr th {\n",
       "        vertical-align: top;\n",
       "    }\n",
       "\n",
       "    .dataframe thead th {\n",
       "        text-align: right;\n",
       "    }\n",
       "</style>\n",
       "<table border=\"1\" class=\"dataframe\">\n",
       "  <thead>\n",
       "    <tr style=\"text-align: right;\">\n",
       "      <th></th>\n",
       "      <th>customer_id</th>\n",
       "      <th>customer_unique_id</th>\n",
       "      <th>customer_zip_code_prefix</th>\n",
       "      <th>customer_city</th>\n",
       "      <th>customer_state</th>\n",
       "    </tr>\n",
       "  </thead>\n",
       "  <tbody>\n",
       "    <tr>\n",
       "      <th>0</th>\n",
       "      <td>06b8999e2fba1a1fbc88172c00ba8bc7</td>\n",
       "      <td>861eff4711a542e4b93843c6dd7febb0</td>\n",
       "      <td>14409</td>\n",
       "      <td>franca</td>\n",
       "      <td>SP</td>\n",
       "    </tr>\n",
       "    <tr>\n",
       "      <th>1</th>\n",
       "      <td>18955e83d337fd6b2def6b18a428ac77</td>\n",
       "      <td>290c77bc529b7ac935b93aa66c333dc3</td>\n",
       "      <td>9790</td>\n",
       "      <td>sao bernardo do campo</td>\n",
       "      <td>SP</td>\n",
       "    </tr>\n",
       "    <tr>\n",
       "      <th>2</th>\n",
       "      <td>4e7b3e00288586ebd08712fdd0374a03</td>\n",
       "      <td>060e732b5b29e8181a18229c7b0b2b5e</td>\n",
       "      <td>1151</td>\n",
       "      <td>sao paulo</td>\n",
       "      <td>SP</td>\n",
       "    </tr>\n",
       "    <tr>\n",
       "      <th>3</th>\n",
       "      <td>b2b6027bc5c5109e529d4dc6358b12c3</td>\n",
       "      <td>259dac757896d24d7702b9acbbff3f3c</td>\n",
       "      <td>8775</td>\n",
       "      <td>mogi das cruzes</td>\n",
       "      <td>SP</td>\n",
       "    </tr>\n",
       "    <tr>\n",
       "      <th>4</th>\n",
       "      <td>4f2d8ab171c80ec8364f7c12e35b23ad</td>\n",
       "      <td>345ecd01c38d18a9036ed96c73b8d066</td>\n",
       "      <td>13056</td>\n",
       "      <td>campinas</td>\n",
       "      <td>SP</td>\n",
       "    </tr>\n",
       "  </tbody>\n",
       "</table>\n",
       "</div>"
      ],
      "text/plain": [
       "                        customer_id                customer_unique_id  \\\n",
       "0  06b8999e2fba1a1fbc88172c00ba8bc7  861eff4711a542e4b93843c6dd7febb0   \n",
       "1  18955e83d337fd6b2def6b18a428ac77  290c77bc529b7ac935b93aa66c333dc3   \n",
       "2  4e7b3e00288586ebd08712fdd0374a03  060e732b5b29e8181a18229c7b0b2b5e   \n",
       "3  b2b6027bc5c5109e529d4dc6358b12c3  259dac757896d24d7702b9acbbff3f3c   \n",
       "4  4f2d8ab171c80ec8364f7c12e35b23ad  345ecd01c38d18a9036ed96c73b8d066   \n",
       "\n",
       "   customer_zip_code_prefix          customer_city customer_state  \n",
       "0                     14409                 franca             SP  \n",
       "1                      9790  sao bernardo do campo             SP  \n",
       "2                      1151              sao paulo             SP  \n",
       "3                      8775        mogi das cruzes             SP  \n",
       "4                     13056               campinas             SP  "
      ]
     },
     "execution_count": 174,
     "metadata": {},
     "output_type": "execute_result"
    }
   ],
   "source": [
    "olist_customers_dataset.head()"
   ]
  },
  {
   "cell_type": "code",
   "execution_count": 175,
   "id": "4fdc7cea",
   "metadata": {
    "ExecuteTime": {
     "end_time": "2023-04-02T07:36:01.468121Z",
     "start_time": "2023-04-02T07:36:01.436134Z"
    }
   },
   "outputs": [
    {
     "data": {
      "text/html": [
       "<div>\n",
       "<style scoped>\n",
       "    .dataframe tbody tr th:only-of-type {\n",
       "        vertical-align: middle;\n",
       "    }\n",
       "\n",
       "    .dataframe tbody tr th {\n",
       "        vertical-align: top;\n",
       "    }\n",
       "\n",
       "    .dataframe thead th {\n",
       "        text-align: right;\n",
       "    }\n",
       "</style>\n",
       "<table border=\"1\" class=\"dataframe\">\n",
       "  <thead>\n",
       "    <tr style=\"text-align: right;\">\n",
       "      <th></th>\n",
       "      <th>order_id</th>\n",
       "      <th>customer_id</th>\n",
       "      <th>order_status</th>\n",
       "      <th>order_purchase_timestamp</th>\n",
       "      <th>order_approved_at</th>\n",
       "      <th>order_delivered_carrier_date</th>\n",
       "      <th>order_delivered_customer_date</th>\n",
       "      <th>order_estimated_delivery_date</th>\n",
       "    </tr>\n",
       "  </thead>\n",
       "  <tbody>\n",
       "    <tr>\n",
       "      <th>0</th>\n",
       "      <td>e481f51cbdc54678b7cc49136f2d6af7</td>\n",
       "      <td>9ef432eb6251297304e76186b10a928d</td>\n",
       "      <td>delivered</td>\n",
       "      <td>2017-10-02 10:56:33</td>\n",
       "      <td>2017-10-02 11:07:15</td>\n",
       "      <td>2017-10-04 19:55:00</td>\n",
       "      <td>2017-10-10 21:25:13</td>\n",
       "      <td>2017-10-18</td>\n",
       "    </tr>\n",
       "    <tr>\n",
       "      <th>1</th>\n",
       "      <td>53cdb2fc8bc7dce0b6741e2150273451</td>\n",
       "      <td>b0830fb4747a6c6d20dea0b8c802d7ef</td>\n",
       "      <td>delivered</td>\n",
       "      <td>2018-07-24 20:41:37</td>\n",
       "      <td>2018-07-26 03:24:27</td>\n",
       "      <td>2018-07-26 14:31:00</td>\n",
       "      <td>2018-08-07 15:27:45</td>\n",
       "      <td>2018-08-13</td>\n",
       "    </tr>\n",
       "    <tr>\n",
       "      <th>2</th>\n",
       "      <td>47770eb9100c2d0c44946d9cf07ec65d</td>\n",
       "      <td>41ce2a54c0b03bf3443c3d931a367089</td>\n",
       "      <td>delivered</td>\n",
       "      <td>2018-08-08 08:38:49</td>\n",
       "      <td>2018-08-08 08:55:23</td>\n",
       "      <td>2018-08-08 13:50:00</td>\n",
       "      <td>2018-08-17 18:06:29</td>\n",
       "      <td>2018-09-04</td>\n",
       "    </tr>\n",
       "    <tr>\n",
       "      <th>3</th>\n",
       "      <td>949d5b44dbf5de918fe9c16f97b45f8a</td>\n",
       "      <td>f88197465ea7920adcdbec7375364d82</td>\n",
       "      <td>delivered</td>\n",
       "      <td>2017-11-18 19:28:06</td>\n",
       "      <td>2017-11-18 19:45:59</td>\n",
       "      <td>2017-11-22 13:39:59</td>\n",
       "      <td>2017-12-02 00:28:42</td>\n",
       "      <td>2017-12-15</td>\n",
       "    </tr>\n",
       "    <tr>\n",
       "      <th>4</th>\n",
       "      <td>ad21c59c0840e6cb83a9ceb5573f8159</td>\n",
       "      <td>8ab97904e6daea8866dbdbc4fb7aad2c</td>\n",
       "      <td>delivered</td>\n",
       "      <td>2018-02-13 21:18:39</td>\n",
       "      <td>2018-02-13 22:20:29</td>\n",
       "      <td>2018-02-14 19:46:34</td>\n",
       "      <td>2018-02-16 18:17:02</td>\n",
       "      <td>2018-02-26</td>\n",
       "    </tr>\n",
       "  </tbody>\n",
       "</table>\n",
       "</div>"
      ],
      "text/plain": [
       "                           order_id                       customer_id  \\\n",
       "0  e481f51cbdc54678b7cc49136f2d6af7  9ef432eb6251297304e76186b10a928d   \n",
       "1  53cdb2fc8bc7dce0b6741e2150273451  b0830fb4747a6c6d20dea0b8c802d7ef   \n",
       "2  47770eb9100c2d0c44946d9cf07ec65d  41ce2a54c0b03bf3443c3d931a367089   \n",
       "3  949d5b44dbf5de918fe9c16f97b45f8a  f88197465ea7920adcdbec7375364d82   \n",
       "4  ad21c59c0840e6cb83a9ceb5573f8159  8ab97904e6daea8866dbdbc4fb7aad2c   \n",
       "\n",
       "  order_status order_purchase_timestamp   order_approved_at  \\\n",
       "0    delivered      2017-10-02 10:56:33 2017-10-02 11:07:15   \n",
       "1    delivered      2018-07-24 20:41:37 2018-07-26 03:24:27   \n",
       "2    delivered      2018-08-08 08:38:49 2018-08-08 08:55:23   \n",
       "3    delivered      2017-11-18 19:28:06 2017-11-18 19:45:59   \n",
       "4    delivered      2018-02-13 21:18:39 2018-02-13 22:20:29   \n",
       "\n",
       "  order_delivered_carrier_date order_delivered_customer_date  \\\n",
       "0          2017-10-04 19:55:00           2017-10-10 21:25:13   \n",
       "1          2018-07-26 14:31:00           2018-08-07 15:27:45   \n",
       "2          2018-08-08 13:50:00           2018-08-17 18:06:29   \n",
       "3          2017-11-22 13:39:59           2017-12-02 00:28:42   \n",
       "4          2018-02-14 19:46:34           2018-02-16 18:17:02   \n",
       "\n",
       "  order_estimated_delivery_date  \n",
       "0                    2017-10-18  \n",
       "1                    2018-08-13  \n",
       "2                    2018-09-04  \n",
       "3                    2017-12-15  \n",
       "4                    2018-02-26  "
      ]
     },
     "execution_count": 175,
     "metadata": {},
     "output_type": "execute_result"
    }
   ],
   "source": [
    "olist_orders_dataset.head()"
   ]
  },
  {
   "cell_type": "code",
   "execution_count": 176,
   "id": "5bb4c487",
   "metadata": {
    "ExecuteTime": {
     "end_time": "2023-04-02T07:36:01.500118Z",
     "start_time": "2023-04-02T07:36:01.468121Z"
    }
   },
   "outputs": [
    {
     "data": {
      "text/html": [
       "<div>\n",
       "<style scoped>\n",
       "    .dataframe tbody tr th:only-of-type {\n",
       "        vertical-align: middle;\n",
       "    }\n",
       "\n",
       "    .dataframe tbody tr th {\n",
       "        vertical-align: top;\n",
       "    }\n",
       "\n",
       "    .dataframe thead th {\n",
       "        text-align: right;\n",
       "    }\n",
       "</style>\n",
       "<table border=\"1\" class=\"dataframe\">\n",
       "  <thead>\n",
       "    <tr style=\"text-align: right;\">\n",
       "      <th></th>\n",
       "      <th>order_id</th>\n",
       "      <th>order_item_id</th>\n",
       "      <th>product_id</th>\n",
       "      <th>seller_id</th>\n",
       "      <th>shipping_limit_date</th>\n",
       "      <th>price</th>\n",
       "      <th>freight_value</th>\n",
       "    </tr>\n",
       "  </thead>\n",
       "  <tbody>\n",
       "    <tr>\n",
       "      <th>0</th>\n",
       "      <td>00010242fe8c5a6d1ba2dd792cb16214</td>\n",
       "      <td>1</td>\n",
       "      <td>4244733e06e7ecb4970a6e2683c13e61</td>\n",
       "      <td>48436dade18ac8b2bce089ec2a041202</td>\n",
       "      <td>2017-09-19 09:45:35</td>\n",
       "      <td>58.90</td>\n",
       "      <td>13.29</td>\n",
       "    </tr>\n",
       "    <tr>\n",
       "      <th>1</th>\n",
       "      <td>00018f77f2f0320c557190d7a144bdd3</td>\n",
       "      <td>1</td>\n",
       "      <td>e5f2d52b802189ee658865ca93d83a8f</td>\n",
       "      <td>dd7ddc04e1b6c2c614352b383efe2d36</td>\n",
       "      <td>2017-05-03 11:05:13</td>\n",
       "      <td>239.90</td>\n",
       "      <td>19.93</td>\n",
       "    </tr>\n",
       "    <tr>\n",
       "      <th>2</th>\n",
       "      <td>000229ec398224ef6ca0657da4fc703e</td>\n",
       "      <td>1</td>\n",
       "      <td>c777355d18b72b67abbeef9df44fd0fd</td>\n",
       "      <td>5b51032eddd242adc84c38acab88f23d</td>\n",
       "      <td>2018-01-18 14:48:30</td>\n",
       "      <td>199.00</td>\n",
       "      <td>17.87</td>\n",
       "    </tr>\n",
       "    <tr>\n",
       "      <th>3</th>\n",
       "      <td>00024acbcdf0a6daa1e931b038114c75</td>\n",
       "      <td>1</td>\n",
       "      <td>7634da152a4610f1595efa32f14722fc</td>\n",
       "      <td>9d7a1d34a5052409006425275ba1c2b4</td>\n",
       "      <td>2018-08-15 10:10:18</td>\n",
       "      <td>12.99</td>\n",
       "      <td>12.79</td>\n",
       "    </tr>\n",
       "    <tr>\n",
       "      <th>4</th>\n",
       "      <td>00042b26cf59d7ce69dfabb4e55b4fd9</td>\n",
       "      <td>1</td>\n",
       "      <td>ac6c3623068f30de03045865e4e10089</td>\n",
       "      <td>df560393f3a51e74553ab94004ba5c87</td>\n",
       "      <td>2017-02-13 13:57:51</td>\n",
       "      <td>199.90</td>\n",
       "      <td>18.14</td>\n",
       "    </tr>\n",
       "  </tbody>\n",
       "</table>\n",
       "</div>"
      ],
      "text/plain": [
       "                           order_id  order_item_id  \\\n",
       "0  00010242fe8c5a6d1ba2dd792cb16214              1   \n",
       "1  00018f77f2f0320c557190d7a144bdd3              1   \n",
       "2  000229ec398224ef6ca0657da4fc703e              1   \n",
       "3  00024acbcdf0a6daa1e931b038114c75              1   \n",
       "4  00042b26cf59d7ce69dfabb4e55b4fd9              1   \n",
       "\n",
       "                         product_id                         seller_id  \\\n",
       "0  4244733e06e7ecb4970a6e2683c13e61  48436dade18ac8b2bce089ec2a041202   \n",
       "1  e5f2d52b802189ee658865ca93d83a8f  dd7ddc04e1b6c2c614352b383efe2d36   \n",
       "2  c777355d18b72b67abbeef9df44fd0fd  5b51032eddd242adc84c38acab88f23d   \n",
       "3  7634da152a4610f1595efa32f14722fc  9d7a1d34a5052409006425275ba1c2b4   \n",
       "4  ac6c3623068f30de03045865e4e10089  df560393f3a51e74553ab94004ba5c87   \n",
       "\n",
       "  shipping_limit_date   price  freight_value  \n",
       "0 2017-09-19 09:45:35   58.90          13.29  \n",
       "1 2017-05-03 11:05:13  239.90          19.93  \n",
       "2 2018-01-18 14:48:30  199.00          17.87  \n",
       "3 2018-08-15 10:10:18   12.99          12.79  \n",
       "4 2017-02-13 13:57:51  199.90          18.14  "
      ]
     },
     "execution_count": 176,
     "metadata": {},
     "output_type": "execute_result"
    }
   ],
   "source": [
    "olist_order_items_dataset.head()"
   ]
  },
  {
   "cell_type": "markdown",
   "id": "2be28eda",
   "metadata": {},
   "source": [
    "Посмотрим на информацию по столбцам наших таблиц"
   ]
  },
  {
   "cell_type": "code",
   "execution_count": 177,
   "id": "4c641e8d",
   "metadata": {
    "ExecuteTime": {
     "end_time": "2023-04-02T07:36:01.628128Z",
     "start_time": "2023-04-02T07:36:01.500118Z"
    }
   },
   "outputs": [
    {
     "name": "stdout",
     "output_type": "stream",
     "text": [
      "<class 'pandas.core.frame.DataFrame'>\n",
      "RangeIndex: 99441 entries, 0 to 99440\n",
      "Data columns (total 5 columns):\n",
      " #   Column                    Non-Null Count  Dtype \n",
      "---  ------                    --------------  ----- \n",
      " 0   customer_id               99441 non-null  object\n",
      " 1   customer_unique_id        99441 non-null  object\n",
      " 2   customer_zip_code_prefix  99441 non-null  int64 \n",
      " 3   customer_city             99441 non-null  object\n",
      " 4   customer_state            99441 non-null  object\n",
      "dtypes: int64(1), object(4)\n",
      "memory usage: 3.8+ MB\n"
     ]
    }
   ],
   "source": [
    "olist_customers_dataset.info()"
   ]
  },
  {
   "cell_type": "code",
   "execution_count": 178,
   "id": "e64e9ca8",
   "metadata": {
    "ExecuteTime": {
     "end_time": "2023-04-02T07:36:01.740119Z",
     "start_time": "2023-04-02T07:36:01.628128Z"
    }
   },
   "outputs": [
    {
     "name": "stdout",
     "output_type": "stream",
     "text": [
      "<class 'pandas.core.frame.DataFrame'>\n",
      "RangeIndex: 99441 entries, 0 to 99440\n",
      "Data columns (total 8 columns):\n",
      " #   Column                         Non-Null Count  Dtype         \n",
      "---  ------                         --------------  -----         \n",
      " 0   order_id                       99441 non-null  object        \n",
      " 1   customer_id                    99441 non-null  object        \n",
      " 2   order_status                   99441 non-null  object        \n",
      " 3   order_purchase_timestamp       99441 non-null  datetime64[ns]\n",
      " 4   order_approved_at              99281 non-null  datetime64[ns]\n",
      " 5   order_delivered_carrier_date   97658 non-null  datetime64[ns]\n",
      " 6   order_delivered_customer_date  96476 non-null  datetime64[ns]\n",
      " 7   order_estimated_delivery_date  99441 non-null  datetime64[ns]\n",
      "dtypes: datetime64[ns](5), object(3)\n",
      "memory usage: 6.1+ MB\n"
     ]
    }
   ],
   "source": [
    "olist_orders_dataset.info()"
   ]
  },
  {
   "cell_type": "code",
   "execution_count": 179,
   "id": "765242a0",
   "metadata": {
    "ExecuteTime": {
     "end_time": "2023-04-02T07:36:01.857707Z",
     "start_time": "2023-04-02T07:36:01.740119Z"
    }
   },
   "outputs": [
    {
     "name": "stdout",
     "output_type": "stream",
     "text": [
      "<class 'pandas.core.frame.DataFrame'>\n",
      "RangeIndex: 112650 entries, 0 to 112649\n",
      "Data columns (total 7 columns):\n",
      " #   Column               Non-Null Count   Dtype         \n",
      "---  ------               --------------   -----         \n",
      " 0   order_id             112650 non-null  object        \n",
      " 1   order_item_id        112650 non-null  int64         \n",
      " 2   product_id           112650 non-null  object        \n",
      " 3   seller_id            112650 non-null  object        \n",
      " 4   shipping_limit_date  112650 non-null  datetime64[ns]\n",
      " 5   price                112650 non-null  float64       \n",
      " 6   freight_value        112650 non-null  float64       \n",
      "dtypes: datetime64[ns](1), float64(2), int64(1), object(3)\n",
      "memory usage: 6.0+ MB\n"
     ]
    }
   ],
   "source": [
    "olist_order_items_dataset.info()"
   ]
  },
  {
   "cell_type": "code",
   "execution_count": 180,
   "id": "f7a017cd",
   "metadata": {
    "ExecuteTime": {
     "end_time": "2023-04-02T07:36:01.905728Z",
     "start_time": "2023-04-02T07:36:01.857707Z"
    }
   },
   "outputs": [
    {
     "data": {
      "text/html": [
       "<div>\n",
       "<style scoped>\n",
       "    .dataframe tbody tr th:only-of-type {\n",
       "        vertical-align: middle;\n",
       "    }\n",
       "\n",
       "    .dataframe tbody tr th {\n",
       "        vertical-align: top;\n",
       "    }\n",
       "\n",
       "    .dataframe thead th {\n",
       "        text-align: right;\n",
       "    }\n",
       "</style>\n",
       "<table border=\"1\" class=\"dataframe\">\n",
       "  <thead>\n",
       "    <tr style=\"text-align: right;\">\n",
       "      <th></th>\n",
       "      <th>order_item_id</th>\n",
       "      <th>price</th>\n",
       "      <th>freight_value</th>\n",
       "    </tr>\n",
       "  </thead>\n",
       "  <tbody>\n",
       "    <tr>\n",
       "      <th>count</th>\n",
       "      <td>112650.000000</td>\n",
       "      <td>112650.000000</td>\n",
       "      <td>112650.000000</td>\n",
       "    </tr>\n",
       "    <tr>\n",
       "      <th>mean</th>\n",
       "      <td>1.197834</td>\n",
       "      <td>120.653739</td>\n",
       "      <td>19.990320</td>\n",
       "    </tr>\n",
       "    <tr>\n",
       "      <th>std</th>\n",
       "      <td>0.705124</td>\n",
       "      <td>183.633928</td>\n",
       "      <td>15.806405</td>\n",
       "    </tr>\n",
       "    <tr>\n",
       "      <th>min</th>\n",
       "      <td>1.000000</td>\n",
       "      <td>0.850000</td>\n",
       "      <td>0.000000</td>\n",
       "    </tr>\n",
       "    <tr>\n",
       "      <th>25%</th>\n",
       "      <td>1.000000</td>\n",
       "      <td>39.900000</td>\n",
       "      <td>13.080000</td>\n",
       "    </tr>\n",
       "    <tr>\n",
       "      <th>50%</th>\n",
       "      <td>1.000000</td>\n",
       "      <td>74.990000</td>\n",
       "      <td>16.260000</td>\n",
       "    </tr>\n",
       "    <tr>\n",
       "      <th>75%</th>\n",
       "      <td>1.000000</td>\n",
       "      <td>134.900000</td>\n",
       "      <td>21.150000</td>\n",
       "    </tr>\n",
       "    <tr>\n",
       "      <th>max</th>\n",
       "      <td>21.000000</td>\n",
       "      <td>6735.000000</td>\n",
       "      <td>409.680000</td>\n",
       "    </tr>\n",
       "  </tbody>\n",
       "</table>\n",
       "</div>"
      ],
      "text/plain": [
       "       order_item_id          price  freight_value\n",
       "count  112650.000000  112650.000000  112650.000000\n",
       "mean        1.197834     120.653739      19.990320\n",
       "std         0.705124     183.633928      15.806405\n",
       "min         1.000000       0.850000       0.000000\n",
       "25%         1.000000      39.900000      13.080000\n",
       "50%         1.000000      74.990000      16.260000\n",
       "75%         1.000000     134.900000      21.150000\n",
       "max        21.000000    6735.000000     409.680000"
      ]
     },
     "execution_count": 180,
     "metadata": {},
     "output_type": "execute_result"
    }
   ],
   "source": [
    "#посмотрим описательную статистику для числовых переменных в таблице товаров\n",
    "olist_order_items_dataset.describe()"
   ]
  },
  {
   "cell_type": "code",
   "execution_count": 181,
   "id": "ae636b22",
   "metadata": {
    "ExecuteTime": {
     "end_time": "2023-04-02T07:36:01.921710Z",
     "start_time": "2023-04-02T07:36:01.905728Z"
    }
   },
   "outputs": [
    {
     "data": {
      "text/plain": [
       "(Timestamp('2016-09-04 21:15:19'), Timestamp('2018-10-17 17:30:18'))"
      ]
     },
     "execution_count": 181,
     "metadata": {},
     "output_type": "execute_result"
    }
   ],
   "source": [
    "# интересно понимать, за какой период эти данные\n",
    "olist_orders_dataset.order_purchase_timestamp.min(), olist_orders_dataset.order_purchase_timestamp.max()"
   ]
  },
  {
   "cell_type": "markdown",
   "id": "77b28c59",
   "metadata": {},
   "source": [
    "Мы видим, что в таблицах olist_customers_dataset и olist_orders_dataset одинаковое число строчек. Попробуем разобраться, почему так."
   ]
  },
  {
   "cell_type": "code",
   "execution_count": 182,
   "id": "6b5adac7",
   "metadata": {
    "ExecuteTime": {
     "end_time": "2023-04-02T07:36:02.177991Z",
     "start_time": "2023-04-02T07:36:01.921710Z"
    }
   },
   "outputs": [
    {
     "data": {
      "text/html": [
       "<div>\n",
       "<style scoped>\n",
       "    .dataframe tbody tr th:only-of-type {\n",
       "        vertical-align: middle;\n",
       "    }\n",
       "\n",
       "    .dataframe tbody tr th {\n",
       "        vertical-align: top;\n",
       "    }\n",
       "\n",
       "    .dataframe thead th {\n",
       "        text-align: right;\n",
       "    }\n",
       "</style>\n",
       "<table border=\"1\" class=\"dataframe\">\n",
       "  <thead>\n",
       "    <tr style=\"text-align: right;\">\n",
       "      <th></th>\n",
       "      <th>customer_id</th>\n",
       "      <th>order_id_count</th>\n",
       "    </tr>\n",
       "  </thead>\n",
       "  <tbody>\n",
       "    <tr>\n",
       "      <th>0</th>\n",
       "      <td>00012a2ce6f8dcda20d059ce98491703</td>\n",
       "      <td>1</td>\n",
       "    </tr>\n",
       "    <tr>\n",
       "      <th>66279</th>\n",
       "      <td>aa62a16b10e3fb24ecdefd7e4dc3fa65</td>\n",
       "      <td>1</td>\n",
       "    </tr>\n",
       "    <tr>\n",
       "      <th>66301</th>\n",
       "      <td>aa738cdb72af39e38482fa25b992c67c</td>\n",
       "      <td>1</td>\n",
       "    </tr>\n",
       "    <tr>\n",
       "      <th>66300</th>\n",
       "      <td>aa7210736aad65a84e964cfa8d64aa66</td>\n",
       "      <td>1</td>\n",
       "    </tr>\n",
       "    <tr>\n",
       "      <th>66299</th>\n",
       "      <td>aa72002446dfbac0691304465c1b982d</td>\n",
       "      <td>1</td>\n",
       "    </tr>\n",
       "  </tbody>\n",
       "</table>\n",
       "</div>"
      ],
      "text/plain": [
       "                            customer_id  order_id_count\n",
       "0      00012a2ce6f8dcda20d059ce98491703               1\n",
       "66279  aa62a16b10e3fb24ecdefd7e4dc3fa65               1\n",
       "66301  aa738cdb72af39e38482fa25b992c67c               1\n",
       "66300  aa7210736aad65a84e964cfa8d64aa66               1\n",
       "66299  aa72002446dfbac0691304465c1b982d               1"
      ]
     },
     "execution_count": 182,
     "metadata": {},
     "output_type": "execute_result"
    }
   ],
   "source": [
    "#Группируем таблицу с заказами по customer_id, подсчитываем количество заказов и сортируем по убыванию\n",
    "olist_orders_dataset.groupby('customer_id', as_index=False) \\\n",
    "                    .agg(order_id_count=('order_id', 'count')) \\\n",
    "                    .sort_values('order_id_count', ascending=False).head()"
   ]
  },
  {
   "cell_type": "markdown",
   "id": "fb8bcde8",
   "metadata": {},
   "source": [
    "Так как customer_id - позаказный идентификатор, на один customer_id в таблице olist_orders_dataset приходится один заказ. Понять, сколько у нас уникальных пользователей мы можем по таблице olist_customers_dataset:"
   ]
  },
  {
   "cell_type": "code",
   "execution_count": 183,
   "id": "c447bcde",
   "metadata": {
    "ExecuteTime": {
     "end_time": "2023-04-02T07:36:02.238489Z",
     "start_time": "2023-04-02T07:36:02.177991Z"
    }
   },
   "outputs": [
    {
     "data": {
      "text/plain": [
       "96096"
      ]
     },
     "execution_count": 183,
     "metadata": {},
     "output_type": "execute_result"
    }
   ],
   "source": [
    "olist_customers_dataset.customer_unique_id.nunique()"
   ]
  },
  {
   "cell_type": "markdown",
   "id": "0c77f8ba",
   "metadata": {},
   "source": [
    "Теперь давайте разберемся, что мы будем считать покупкой. Для этого посмотрим на уникальные статусы заказов и решим, какие состояния нам подходят."
   ]
  },
  {
   "cell_type": "markdown",
   "id": "3bd3b8b9",
   "metadata": {},
   "source": [
    "Статус created"
   ]
  },
  {
   "cell_type": "code",
   "execution_count": 184,
   "id": "b5c79416",
   "metadata": {
    "ExecuteTime": {
     "end_time": "2023-04-02T07:36:02.286485Z",
     "start_time": "2023-04-02T07:36:02.238489Z"
    }
   },
   "outputs": [
    {
     "data": {
      "text/html": [
       "<div>\n",
       "<style scoped>\n",
       "    .dataframe tbody tr th:only-of-type {\n",
       "        vertical-align: middle;\n",
       "    }\n",
       "\n",
       "    .dataframe tbody tr th {\n",
       "        vertical-align: top;\n",
       "    }\n",
       "\n",
       "    .dataframe thead th {\n",
       "        text-align: right;\n",
       "    }\n",
       "</style>\n",
       "<table border=\"1\" class=\"dataframe\">\n",
       "  <thead>\n",
       "    <tr style=\"text-align: right;\">\n",
       "      <th></th>\n",
       "      <th>order_id</th>\n",
       "      <th>customer_id</th>\n",
       "      <th>order_status</th>\n",
       "      <th>order_purchase_timestamp</th>\n",
       "      <th>order_approved_at</th>\n",
       "      <th>order_delivered_carrier_date</th>\n",
       "      <th>order_delivered_customer_date</th>\n",
       "      <th>order_estimated_delivery_date</th>\n",
       "    </tr>\n",
       "  </thead>\n",
       "  <tbody>\n",
       "    <tr>\n",
       "      <th>7434</th>\n",
       "      <td>b5359909123fa03c50bdb0cfed07f098</td>\n",
       "      <td>438449d4af8980d107bf04571413a8e7</td>\n",
       "      <td>created</td>\n",
       "      <td>2017-12-05 01:07:52</td>\n",
       "      <td>NaT</td>\n",
       "      <td>NaT</td>\n",
       "      <td>NaT</td>\n",
       "      <td>2018-01-11</td>\n",
       "    </tr>\n",
       "    <tr>\n",
       "      <th>9238</th>\n",
       "      <td>dba5062fbda3af4fb6c33b1e040ca38f</td>\n",
       "      <td>964a6df3d9bdf60fe3e7b8bb69ed893a</td>\n",
       "      <td>created</td>\n",
       "      <td>2018-02-09 17:21:04</td>\n",
       "      <td>NaT</td>\n",
       "      <td>NaT</td>\n",
       "      <td>NaT</td>\n",
       "      <td>2018-03-07</td>\n",
       "    </tr>\n",
       "    <tr>\n",
       "      <th>21441</th>\n",
       "      <td>7a4df5d8cff4090e541401a20a22bb80</td>\n",
       "      <td>725e9c75605414b21fd8c8d5a1c2f1d6</td>\n",
       "      <td>created</td>\n",
       "      <td>2017-11-25 11:10:33</td>\n",
       "      <td>NaT</td>\n",
       "      <td>NaT</td>\n",
       "      <td>NaT</td>\n",
       "      <td>2017-12-12</td>\n",
       "    </tr>\n",
       "    <tr>\n",
       "      <th>55086</th>\n",
       "      <td>35de4050331c6c644cddc86f4f2d0d64</td>\n",
       "      <td>4ee64f4bfc542546f422da0aeb462853</td>\n",
       "      <td>created</td>\n",
       "      <td>2017-12-05 01:07:58</td>\n",
       "      <td>NaT</td>\n",
       "      <td>NaT</td>\n",
       "      <td>NaT</td>\n",
       "      <td>2018-01-08</td>\n",
       "    </tr>\n",
       "    <tr>\n",
       "      <th>58958</th>\n",
       "      <td>90ab3e7d52544ec7bc3363c82689965f</td>\n",
       "      <td>7d61b9f4f216052ba664f22e9c504ef1</td>\n",
       "      <td>created</td>\n",
       "      <td>2017-11-06 13:12:34</td>\n",
       "      <td>NaT</td>\n",
       "      <td>NaT</td>\n",
       "      <td>NaT</td>\n",
       "      <td>2017-12-01</td>\n",
       "    </tr>\n",
       "  </tbody>\n",
       "</table>\n",
       "</div>"
      ],
      "text/plain": [
       "                               order_id                       customer_id  \\\n",
       "7434   b5359909123fa03c50bdb0cfed07f098  438449d4af8980d107bf04571413a8e7   \n",
       "9238   dba5062fbda3af4fb6c33b1e040ca38f  964a6df3d9bdf60fe3e7b8bb69ed893a   \n",
       "21441  7a4df5d8cff4090e541401a20a22bb80  725e9c75605414b21fd8c8d5a1c2f1d6   \n",
       "55086  35de4050331c6c644cddc86f4f2d0d64  4ee64f4bfc542546f422da0aeb462853   \n",
       "58958  90ab3e7d52544ec7bc3363c82689965f  7d61b9f4f216052ba664f22e9c504ef1   \n",
       "\n",
       "      order_status order_purchase_timestamp order_approved_at  \\\n",
       "7434       created      2017-12-05 01:07:52               NaT   \n",
       "9238       created      2018-02-09 17:21:04               NaT   \n",
       "21441      created      2017-11-25 11:10:33               NaT   \n",
       "55086      created      2017-12-05 01:07:58               NaT   \n",
       "58958      created      2017-11-06 13:12:34               NaT   \n",
       "\n",
       "      order_delivered_carrier_date order_delivered_customer_date  \\\n",
       "7434                           NaT                           NaT   \n",
       "9238                           NaT                           NaT   \n",
       "21441                          NaT                           NaT   \n",
       "55086                          NaT                           NaT   \n",
       "58958                          NaT                           NaT   \n",
       "\n",
       "      order_estimated_delivery_date  \n",
       "7434                     2018-01-11  \n",
       "9238                     2018-03-07  \n",
       "21441                    2017-12-12  \n",
       "55086                    2018-01-08  \n",
       "58958                    2017-12-01  "
      ]
     },
     "execution_count": 184,
     "metadata": {},
     "output_type": "execute_result"
    }
   ],
   "source": [
    "olist_orders_dataset.query('order_status == \"created\"') #отбор заказов со статусом \"создан\""
   ]
  },
  {
   "cell_type": "markdown",
   "id": "1ed23aca",
   "metadata": {},
   "source": [
    "Мы видим, что у нас всего 5 таких наблюдений. По отсутствию данных в колонке order_approved_at можно сделать вывод, что эти заказы не были подтверждены со стороны магазина. Давайте проверим, что было добавлено в корзину у этих пользователей:"
   ]
  },
  {
   "cell_type": "code",
   "execution_count": 185,
   "id": "01bddeef",
   "metadata": {
    "ExecuteTime": {
     "end_time": "2023-04-02T07:36:02.334859Z",
     "start_time": "2023-04-02T07:36:02.286485Z"
    }
   },
   "outputs": [
    {
     "data": {
      "text/html": [
       "<div>\n",
       "<style scoped>\n",
       "    .dataframe tbody tr th:only-of-type {\n",
       "        vertical-align: middle;\n",
       "    }\n",
       "\n",
       "    .dataframe tbody tr th {\n",
       "        vertical-align: top;\n",
       "    }\n",
       "\n",
       "    .dataframe thead th {\n",
       "        text-align: right;\n",
       "    }\n",
       "</style>\n",
       "<table border=\"1\" class=\"dataframe\">\n",
       "  <thead>\n",
       "    <tr style=\"text-align: right;\">\n",
       "      <th></th>\n",
       "      <th>order_id</th>\n",
       "      <th>order_item_id</th>\n",
       "      <th>product_id</th>\n",
       "      <th>seller_id</th>\n",
       "      <th>shipping_limit_date</th>\n",
       "      <th>price</th>\n",
       "      <th>freight_value</th>\n",
       "    </tr>\n",
       "  </thead>\n",
       "  <tbody>\n",
       "  </tbody>\n",
       "</table>\n",
       "</div>"
      ],
      "text/plain": [
       "Empty DataFrame\n",
       "Columns: [order_id, order_item_id, product_id, seller_id, shipping_limit_date, price, freight_value]\n",
       "Index: []"
      ]
     },
     "execution_count": 185,
     "metadata": {},
     "output_type": "execute_result"
    }
   ],
   "source": [
    "created_orders = olist_orders_dataset.query('order_status == \"created\"').order_id\n",
    "olist_order_items_dataset.query('order_id in @created_orders')"
   ]
  },
  {
   "cell_type": "markdown",
   "id": "e964f2fa",
   "metadata": {},
   "source": [
    "Теперь становится ясно, что подтверждения не было по причине того, что эти пользоатели создали пустые заказы.\n",
    "Вывод: заказы со статусом \"created\" не являются покупками. "
   ]
  },
  {
   "cell_type": "markdown",
   "id": "9b9a4fb7",
   "metadata": {},
   "source": [
    "Статус approved"
   ]
  },
  {
   "cell_type": "code",
   "execution_count": 186,
   "id": "65a4fa62",
   "metadata": {
    "ExecuteTime": {
     "end_time": "2023-04-02T07:36:02.580652Z",
     "start_time": "2023-04-02T07:36:02.542506Z"
    }
   },
   "outputs": [
    {
     "data": {
      "text/html": [
       "<div>\n",
       "<style scoped>\n",
       "    .dataframe tbody tr th:only-of-type {\n",
       "        vertical-align: middle;\n",
       "    }\n",
       "\n",
       "    .dataframe tbody tr th {\n",
       "        vertical-align: top;\n",
       "    }\n",
       "\n",
       "    .dataframe thead th {\n",
       "        text-align: right;\n",
       "    }\n",
       "</style>\n",
       "<table border=\"1\" class=\"dataframe\">\n",
       "  <thead>\n",
       "    <tr style=\"text-align: right;\">\n",
       "      <th></th>\n",
       "      <th>order_id</th>\n",
       "      <th>customer_id</th>\n",
       "      <th>order_status</th>\n",
       "      <th>order_purchase_timestamp</th>\n",
       "      <th>order_approved_at</th>\n",
       "      <th>order_delivered_carrier_date</th>\n",
       "      <th>order_delivered_customer_date</th>\n",
       "      <th>order_estimated_delivery_date</th>\n",
       "    </tr>\n",
       "  </thead>\n",
       "  <tbody>\n",
       "    <tr>\n",
       "      <th>44897</th>\n",
       "      <td>a2e4c44360b4a57bdff22f3a4630c173</td>\n",
       "      <td>8886130db0ea6e9e70ba0b03d7c0d286</td>\n",
       "      <td>approved</td>\n",
       "      <td>2017-02-06 20:18:17</td>\n",
       "      <td>2017-02-06 20:30:19</td>\n",
       "      <td>NaT</td>\n",
       "      <td>NaT</td>\n",
       "      <td>2017-03-01</td>\n",
       "    </tr>\n",
       "    <tr>\n",
       "      <th>88457</th>\n",
       "      <td>132f1e724165a07f6362532bfb97486e</td>\n",
       "      <td>b2191912d8ad6eac2e4dc3b6e1459515</td>\n",
       "      <td>approved</td>\n",
       "      <td>2017-04-25 01:25:34</td>\n",
       "      <td>2017-04-30 20:32:41</td>\n",
       "      <td>NaT</td>\n",
       "      <td>NaT</td>\n",
       "      <td>2017-05-22</td>\n",
       "    </tr>\n",
       "  </tbody>\n",
       "</table>\n",
       "</div>"
      ],
      "text/plain": [
       "                               order_id                       customer_id  \\\n",
       "44897  a2e4c44360b4a57bdff22f3a4630c173  8886130db0ea6e9e70ba0b03d7c0d286   \n",
       "88457  132f1e724165a07f6362532bfb97486e  b2191912d8ad6eac2e4dc3b6e1459515   \n",
       "\n",
       "      order_status order_purchase_timestamp   order_approved_at  \\\n",
       "44897     approved      2017-02-06 20:18:17 2017-02-06 20:30:19   \n",
       "88457     approved      2017-04-25 01:25:34 2017-04-30 20:32:41   \n",
       "\n",
       "      order_delivered_carrier_date order_delivered_customer_date  \\\n",
       "44897                          NaT                           NaT   \n",
       "88457                          NaT                           NaT   \n",
       "\n",
       "      order_estimated_delivery_date  \n",
       "44897                    2017-03-01  \n",
       "88457                    2017-05-22  "
      ]
     },
     "execution_count": 186,
     "metadata": {},
     "output_type": "execute_result"
    }
   ],
   "source": [
    "olist_orders_dataset.query('order_status == \"approved\"') #отбор заказов со статусом \"подтверждён\""
   ]
  },
  {
   "cell_type": "code",
   "execution_count": 187,
   "id": "3bc43a74",
   "metadata": {
    "ExecuteTime": {
     "end_time": "2023-04-02T07:36:02.692654Z",
     "start_time": "2023-04-02T07:36:02.644671Z"
    }
   },
   "outputs": [
    {
     "data": {
      "text/html": [
       "<div>\n",
       "<style scoped>\n",
       "    .dataframe tbody tr th:only-of-type {\n",
       "        vertical-align: middle;\n",
       "    }\n",
       "\n",
       "    .dataframe tbody tr th {\n",
       "        vertical-align: top;\n",
       "    }\n",
       "\n",
       "    .dataframe thead th {\n",
       "        text-align: right;\n",
       "    }\n",
       "</style>\n",
       "<table border=\"1\" class=\"dataframe\">\n",
       "  <thead>\n",
       "    <tr style=\"text-align: right;\">\n",
       "      <th></th>\n",
       "      <th>order_id</th>\n",
       "      <th>order_item_id</th>\n",
       "      <th>product_id</th>\n",
       "      <th>seller_id</th>\n",
       "      <th>shipping_limit_date</th>\n",
       "      <th>price</th>\n",
       "      <th>freight_value</th>\n",
       "    </tr>\n",
       "  </thead>\n",
       "  <tbody>\n",
       "    <tr>\n",
       "      <th>8409</th>\n",
       "      <td>132f1e724165a07f6362532bfb97486e</td>\n",
       "      <td>1</td>\n",
       "      <td>c4a1c4638fa9e2e4861d141d6e0259e7</td>\n",
       "      <td>5444b12c82f21c923f2639ebc722c1ea</td>\n",
       "      <td>2017-05-08 20:32:41</td>\n",
       "      <td>169.90</td>\n",
       "      <td>9.56</td>\n",
       "    </tr>\n",
       "    <tr>\n",
       "      <th>71423</th>\n",
       "      <td>a2e4c44360b4a57bdff22f3a4630c173</td>\n",
       "      <td>1</td>\n",
       "      <td>dcecb611ba878d5d8c7853585b285c12</td>\n",
       "      <td>8cc6a0e5738e61a87b03c78b2ba9db4b</td>\n",
       "      <td>2017-02-10 20:18:17</td>\n",
       "      <td>19.85</td>\n",
       "      <td>10.96</td>\n",
       "    </tr>\n",
       "    <tr>\n",
       "      <th>71424</th>\n",
       "      <td>a2e4c44360b4a57bdff22f3a4630c173</td>\n",
       "      <td>2</td>\n",
       "      <td>dcecb611ba878d5d8c7853585b285c12</td>\n",
       "      <td>8cc6a0e5738e61a87b03c78b2ba9db4b</td>\n",
       "      <td>2017-02-10 20:18:17</td>\n",
       "      <td>19.85</td>\n",
       "      <td>10.96</td>\n",
       "    </tr>\n",
       "  </tbody>\n",
       "</table>\n",
       "</div>"
      ],
      "text/plain": [
       "                               order_id  order_item_id  \\\n",
       "8409   132f1e724165a07f6362532bfb97486e              1   \n",
       "71423  a2e4c44360b4a57bdff22f3a4630c173              1   \n",
       "71424  a2e4c44360b4a57bdff22f3a4630c173              2   \n",
       "\n",
       "                             product_id                         seller_id  \\\n",
       "8409   c4a1c4638fa9e2e4861d141d6e0259e7  5444b12c82f21c923f2639ebc722c1ea   \n",
       "71423  dcecb611ba878d5d8c7853585b285c12  8cc6a0e5738e61a87b03c78b2ba9db4b   \n",
       "71424  dcecb611ba878d5d8c7853585b285c12  8cc6a0e5738e61a87b03c78b2ba9db4b   \n",
       "\n",
       "      shipping_limit_date   price  freight_value  \n",
       "8409  2017-05-08 20:32:41  169.90           9.56  \n",
       "71423 2017-02-10 20:18:17   19.85          10.96  \n",
       "71424 2017-02-10 20:18:17   19.85          10.96  "
      ]
     },
     "execution_count": 187,
     "metadata": {},
     "output_type": "execute_result"
    }
   ],
   "source": [
    "# проверяем, есть ли товары в корзине\n",
    "approved_orders = olist_orders_dataset.query('order_status == \"approved\"').order_id\n",
    "olist_order_items_dataset.query('order_id in @approved_orders')"
   ]
  },
  {
   "cell_type": "markdown",
   "id": "735876ed",
   "metadata": {},
   "source": [
    "Два непустых заказа, которые были подтверждены, но по какой-то причине для них не был выставлен счет. \n",
    "Вывод: заказы со статусом \"approved\" не являются покупками. "
   ]
  },
  {
   "cell_type": "markdown",
   "id": "8e2e93ad",
   "metadata": {},
   "source": [
    "Статус invoiced"
   ]
  },
  {
   "cell_type": "code",
   "execution_count": 188,
   "id": "f331c56a",
   "metadata": {
    "ExecuteTime": {
     "end_time": "2023-04-02T07:36:03.214568Z",
     "start_time": "2023-04-02T07:36:03.175009Z"
    }
   },
   "outputs": [
    {
     "data": {
      "text/html": [
       "<div>\n",
       "<style scoped>\n",
       "    .dataframe tbody tr th:only-of-type {\n",
       "        vertical-align: middle;\n",
       "    }\n",
       "\n",
       "    .dataframe tbody tr th {\n",
       "        vertical-align: top;\n",
       "    }\n",
       "\n",
       "    .dataframe thead th {\n",
       "        text-align: right;\n",
       "    }\n",
       "</style>\n",
       "<table border=\"1\" class=\"dataframe\">\n",
       "  <thead>\n",
       "    <tr style=\"text-align: right;\">\n",
       "      <th></th>\n",
       "      <th>order_id</th>\n",
       "      <th>customer_id</th>\n",
       "      <th>order_status</th>\n",
       "      <th>order_purchase_timestamp</th>\n",
       "      <th>order_approved_at</th>\n",
       "      <th>order_delivered_carrier_date</th>\n",
       "      <th>order_delivered_customer_date</th>\n",
       "      <th>order_estimated_delivery_date</th>\n",
       "    </tr>\n",
       "  </thead>\n",
       "  <tbody>\n",
       "    <tr>\n",
       "      <th>6</th>\n",
       "      <td>136cce7faa42fdb2cefd53fdc79a6098</td>\n",
       "      <td>ed0271e0b7da060a393796590e7b737a</td>\n",
       "      <td>invoiced</td>\n",
       "      <td>2017-04-11 12:22:08</td>\n",
       "      <td>2017-04-13 13:25:17</td>\n",
       "      <td>NaT</td>\n",
       "      <td>NaT</td>\n",
       "      <td>2017-05-09</td>\n",
       "    </tr>\n",
       "    <tr>\n",
       "      <th>103</th>\n",
       "      <td>0760a852e4e9d89eb77bf631eaaf1c84</td>\n",
       "      <td>d2a79636084590b7465af8ab374a8cf5</td>\n",
       "      <td>invoiced</td>\n",
       "      <td>2018-08-03 17:44:42</td>\n",
       "      <td>2018-08-07 06:15:14</td>\n",
       "      <td>NaT</td>\n",
       "      <td>NaT</td>\n",
       "      <td>2018-08-21</td>\n",
       "    </tr>\n",
       "    <tr>\n",
       "      <th>455</th>\n",
       "      <td>38b7efdf33dd5561f4f5d4f6e07b0414</td>\n",
       "      <td>021e84751ba0ead75b6d314a6ead88d9</td>\n",
       "      <td>invoiced</td>\n",
       "      <td>2017-08-01 18:17:41</td>\n",
       "      <td>2017-08-01 18:32:30</td>\n",
       "      <td>NaT</td>\n",
       "      <td>NaT</td>\n",
       "      <td>2017-08-28</td>\n",
       "    </tr>\n",
       "    <tr>\n",
       "      <th>1833</th>\n",
       "      <td>51b0dccc8596ce37a930dff2d63a10a2</td>\n",
       "      <td>31bf1057b00f14804278590bbac18b1b</td>\n",
       "      <td>invoiced</td>\n",
       "      <td>2017-05-05 22:34:48</td>\n",
       "      <td>2017-05-05 22:45:12</td>\n",
       "      <td>NaT</td>\n",
       "      <td>NaT</td>\n",
       "      <td>2017-06-06</td>\n",
       "    </tr>\n",
       "    <tr>\n",
       "      <th>2116</th>\n",
       "      <td>5504eaa5a86eb25fa666cf2e6b96c701</td>\n",
       "      <td>a30be38e1ed0ffb39b318bf1d15e98d9</td>\n",
       "      <td>invoiced</td>\n",
       "      <td>2017-11-29 08:33:06</td>\n",
       "      <td>2017-11-29 08:56:23</td>\n",
       "      <td>NaT</td>\n",
       "      <td>NaT</td>\n",
       "      <td>2017-12-20</td>\n",
       "    </tr>\n",
       "  </tbody>\n",
       "</table>\n",
       "</div>"
      ],
      "text/plain": [
       "                              order_id                       customer_id  \\\n",
       "6     136cce7faa42fdb2cefd53fdc79a6098  ed0271e0b7da060a393796590e7b737a   \n",
       "103   0760a852e4e9d89eb77bf631eaaf1c84  d2a79636084590b7465af8ab374a8cf5   \n",
       "455   38b7efdf33dd5561f4f5d4f6e07b0414  021e84751ba0ead75b6d314a6ead88d9   \n",
       "1833  51b0dccc8596ce37a930dff2d63a10a2  31bf1057b00f14804278590bbac18b1b   \n",
       "2116  5504eaa5a86eb25fa666cf2e6b96c701  a30be38e1ed0ffb39b318bf1d15e98d9   \n",
       "\n",
       "     order_status order_purchase_timestamp   order_approved_at  \\\n",
       "6        invoiced      2017-04-11 12:22:08 2017-04-13 13:25:17   \n",
       "103      invoiced      2018-08-03 17:44:42 2018-08-07 06:15:14   \n",
       "455      invoiced      2017-08-01 18:17:41 2017-08-01 18:32:30   \n",
       "1833     invoiced      2017-05-05 22:34:48 2017-05-05 22:45:12   \n",
       "2116     invoiced      2017-11-29 08:33:06 2017-11-29 08:56:23   \n",
       "\n",
       "     order_delivered_carrier_date order_delivered_customer_date  \\\n",
       "6                             NaT                           NaT   \n",
       "103                           NaT                           NaT   \n",
       "455                           NaT                           NaT   \n",
       "1833                          NaT                           NaT   \n",
       "2116                          NaT                           NaT   \n",
       "\n",
       "     order_estimated_delivery_date  \n",
       "6                       2017-05-09  \n",
       "103                     2018-08-21  \n",
       "455                     2017-08-28  \n",
       "1833                    2017-06-06  \n",
       "2116                    2017-12-20  "
      ]
     },
     "execution_count": 188,
     "metadata": {},
     "output_type": "execute_result"
    }
   ],
   "source": [
    "olist_orders_dataset.query('order_status == \"invoiced\"').head() #отбор заказов со статусом \"выставлен счёт\""
   ]
  },
  {
   "cell_type": "code",
   "execution_count": 189,
   "id": "d75a6df9",
   "metadata": {
    "ExecuteTime": {
     "end_time": "2023-04-02T07:36:03.311620Z",
     "start_time": "2023-04-02T07:36:03.287618Z"
    }
   },
   "outputs": [
    {
     "data": {
      "text/plain": [
       "314"
      ]
     },
     "execution_count": 189,
     "metadata": {},
     "output_type": "execute_result"
    }
   ],
   "source": [
    "olist_orders_dataset.query('order_status == \"invoiced\"').shape[0]"
   ]
  },
  {
   "cell_type": "markdown",
   "id": "96444c81",
   "metadata": {},
   "source": [
    "Заказы со статусом \"invoiced\" по всей видимости не были оплачены и как следствие не были переданы на сборку. Их также не имеет смысла принимать за покупки."
   ]
  },
  {
   "cell_type": "markdown",
   "id": "f38ed839",
   "metadata": {},
   "source": [
    "Статус processing"
   ]
  },
  {
   "cell_type": "code",
   "execution_count": 190,
   "id": "91da7be2",
   "metadata": {
    "ExecuteTime": {
     "end_time": "2023-04-02T07:36:03.834959Z",
     "start_time": "2023-04-02T07:36:03.783613Z"
    }
   },
   "outputs": [
    {
     "data": {
      "text/html": [
       "<div>\n",
       "<style scoped>\n",
       "    .dataframe tbody tr th:only-of-type {\n",
       "        vertical-align: middle;\n",
       "    }\n",
       "\n",
       "    .dataframe tbody tr th {\n",
       "        vertical-align: top;\n",
       "    }\n",
       "\n",
       "    .dataframe thead th {\n",
       "        text-align: right;\n",
       "    }\n",
       "</style>\n",
       "<table border=\"1\" class=\"dataframe\">\n",
       "  <thead>\n",
       "    <tr style=\"text-align: right;\">\n",
       "      <th></th>\n",
       "      <th>order_id</th>\n",
       "      <th>customer_id</th>\n",
       "      <th>order_status</th>\n",
       "      <th>order_purchase_timestamp</th>\n",
       "      <th>order_approved_at</th>\n",
       "      <th>order_delivered_carrier_date</th>\n",
       "      <th>order_delivered_customer_date</th>\n",
       "      <th>order_estimated_delivery_date</th>\n",
       "    </tr>\n",
       "  </thead>\n",
       "  <tbody>\n",
       "    <tr>\n",
       "      <th>128</th>\n",
       "      <td>15bed8e2fec7fdbadb186b57c46c92f2</td>\n",
       "      <td>f3f0e613e0bdb9c7cee75504f0f90679</td>\n",
       "      <td>processing</td>\n",
       "      <td>2017-09-03 14:22:03</td>\n",
       "      <td>2017-09-03 14:30:09</td>\n",
       "      <td>NaT</td>\n",
       "      <td>NaT</td>\n",
       "      <td>2017-10-03</td>\n",
       "    </tr>\n",
       "    <tr>\n",
       "      <th>324</th>\n",
       "      <td>d3c8851a6651eeff2f73b0e011ac45d0</td>\n",
       "      <td>957f8e082185574de25992dc659ebbc0</td>\n",
       "      <td>processing</td>\n",
       "      <td>2016-10-05 22:44:13</td>\n",
       "      <td>2016-10-06 15:51:05</td>\n",
       "      <td>NaT</td>\n",
       "      <td>NaT</td>\n",
       "      <td>2016-12-09</td>\n",
       "    </tr>\n",
       "    <tr>\n",
       "      <th>741</th>\n",
       "      <td>6a6c7d523fd59eb5bbefc007331af717</td>\n",
       "      <td>d954782ec6c0e911292c8a80757ef28d</td>\n",
       "      <td>processing</td>\n",
       "      <td>2017-11-24 20:09:33</td>\n",
       "      <td>2017-11-24 23:15:15</td>\n",
       "      <td>NaT</td>\n",
       "      <td>NaT</td>\n",
       "      <td>2017-12-20</td>\n",
       "    </tr>\n",
       "    <tr>\n",
       "      <th>1192</th>\n",
       "      <td>745e1d4a7f8c4b548881788d4113bb1d</td>\n",
       "      <td>7198d7088442e4ddfe553353d8ddc957</td>\n",
       "      <td>processing</td>\n",
       "      <td>2017-11-17 06:34:36</td>\n",
       "      <td>2017-11-18 02:15:40</td>\n",
       "      <td>NaT</td>\n",
       "      <td>NaT</td>\n",
       "      <td>2017-12-12</td>\n",
       "    </tr>\n",
       "    <tr>\n",
       "      <th>1516</th>\n",
       "      <td>1d52ba7197c7acebbb4f826f6585536f</td>\n",
       "      <td>c9c7fe860d602373a9e93f8bfe9d877a</td>\n",
       "      <td>processing</td>\n",
       "      <td>2017-02-13 18:32:55</td>\n",
       "      <td>2017-02-13 18:43:55</td>\n",
       "      <td>NaT</td>\n",
       "      <td>NaT</td>\n",
       "      <td>2017-04-04</td>\n",
       "    </tr>\n",
       "  </tbody>\n",
       "</table>\n",
       "</div>"
      ],
      "text/plain": [
       "                              order_id                       customer_id  \\\n",
       "128   15bed8e2fec7fdbadb186b57c46c92f2  f3f0e613e0bdb9c7cee75504f0f90679   \n",
       "324   d3c8851a6651eeff2f73b0e011ac45d0  957f8e082185574de25992dc659ebbc0   \n",
       "741   6a6c7d523fd59eb5bbefc007331af717  d954782ec6c0e911292c8a80757ef28d   \n",
       "1192  745e1d4a7f8c4b548881788d4113bb1d  7198d7088442e4ddfe553353d8ddc957   \n",
       "1516  1d52ba7197c7acebbb4f826f6585536f  c9c7fe860d602373a9e93f8bfe9d877a   \n",
       "\n",
       "     order_status order_purchase_timestamp   order_approved_at  \\\n",
       "128    processing      2017-09-03 14:22:03 2017-09-03 14:30:09   \n",
       "324    processing      2016-10-05 22:44:13 2016-10-06 15:51:05   \n",
       "741    processing      2017-11-24 20:09:33 2017-11-24 23:15:15   \n",
       "1192   processing      2017-11-17 06:34:36 2017-11-18 02:15:40   \n",
       "1516   processing      2017-02-13 18:32:55 2017-02-13 18:43:55   \n",
       "\n",
       "     order_delivered_carrier_date order_delivered_customer_date  \\\n",
       "128                           NaT                           NaT   \n",
       "324                           NaT                           NaT   \n",
       "741                           NaT                           NaT   \n",
       "1192                          NaT                           NaT   \n",
       "1516                          NaT                           NaT   \n",
       "\n",
       "     order_estimated_delivery_date  \n",
       "128                     2017-10-03  \n",
       "324                     2016-12-09  \n",
       "741                     2017-12-20  \n",
       "1192                    2017-12-12  \n",
       "1516                    2017-04-04  "
      ]
     },
     "execution_count": 190,
     "metadata": {},
     "output_type": "execute_result"
    }
   ],
   "source": [
    "olist_orders_dataset.query('order_status == \"processing\"').head() #отбор заказов со статусом \"в процессе сборки заказа\""
   ]
  },
  {
   "cell_type": "code",
   "execution_count": 191,
   "id": "167a6deb",
   "metadata": {
    "ExecuteTime": {
     "end_time": "2023-04-02T07:36:03.914951Z",
     "start_time": "2023-04-02T07:36:03.882961Z"
    }
   },
   "outputs": [
    {
     "data": {
      "text/plain": [
       "301"
      ]
     },
     "execution_count": 191,
     "metadata": {},
     "output_type": "execute_result"
    }
   ],
   "source": [
    "olist_orders_dataset.query('order_status == \"processing\"').shape[0]"
   ]
  },
  {
   "cell_type": "markdown",
   "id": "118aed18",
   "metadata": {},
   "source": [
    "Заказы, которые начали собирать, но так и не выгрузили со склада. Возможно в процессе сборки обнаружилось отсутствие каких-либо товаров из корзины. Так как у нас нет информации о возвратах, мы не можем выяснить, что случилось с ними в дальнейшем. В любом случае, за покупку их считать мы не можем."
   ]
  },
  {
   "cell_type": "markdown",
   "id": "9622547b",
   "metadata": {},
   "source": [
    "Статус shipped"
   ]
  },
  {
   "cell_type": "code",
   "execution_count": 192,
   "id": "bf70268c",
   "metadata": {
    "ExecuteTime": {
     "end_time": "2023-04-02T07:36:04.451036Z",
     "start_time": "2023-04-02T07:36:04.411020Z"
    }
   },
   "outputs": [
    {
     "data": {
      "text/html": [
       "<div>\n",
       "<style scoped>\n",
       "    .dataframe tbody tr th:only-of-type {\n",
       "        vertical-align: middle;\n",
       "    }\n",
       "\n",
       "    .dataframe tbody tr th {\n",
       "        vertical-align: top;\n",
       "    }\n",
       "\n",
       "    .dataframe thead th {\n",
       "        text-align: right;\n",
       "    }\n",
       "</style>\n",
       "<table border=\"1\" class=\"dataframe\">\n",
       "  <thead>\n",
       "    <tr style=\"text-align: right;\">\n",
       "      <th></th>\n",
       "      <th>order_id</th>\n",
       "      <th>customer_id</th>\n",
       "      <th>order_status</th>\n",
       "      <th>order_purchase_timestamp</th>\n",
       "      <th>order_approved_at</th>\n",
       "      <th>order_delivered_carrier_date</th>\n",
       "      <th>order_delivered_customer_date</th>\n",
       "      <th>order_estimated_delivery_date</th>\n",
       "    </tr>\n",
       "  </thead>\n",
       "  <tbody>\n",
       "    <tr>\n",
       "      <th>44</th>\n",
       "      <td>ee64d42b8cf066f35eac1cf57de1aa85</td>\n",
       "      <td>caded193e8e47b8362864762a83db3c5</td>\n",
       "      <td>shipped</td>\n",
       "      <td>2018-06-04 16:44:48</td>\n",
       "      <td>2018-06-05 04:31:18</td>\n",
       "      <td>2018-06-05 14:32:00</td>\n",
       "      <td>NaT</td>\n",
       "      <td>2018-06-28</td>\n",
       "    </tr>\n",
       "    <tr>\n",
       "      <th>154</th>\n",
       "      <td>6942b8da583c2f9957e990d028607019</td>\n",
       "      <td>52006a9383bf149a4fb24226b173106f</td>\n",
       "      <td>shipped</td>\n",
       "      <td>2018-01-10 11:33:07</td>\n",
       "      <td>2018-01-11 02:32:30</td>\n",
       "      <td>2018-01-11 19:39:23</td>\n",
       "      <td>NaT</td>\n",
       "      <td>2018-02-07</td>\n",
       "    </tr>\n",
       "    <tr>\n",
       "      <th>162</th>\n",
       "      <td>36530871a5e80138db53bcfd8a104d90</td>\n",
       "      <td>4dafe3c841d2d6cc8a8b6d25b35704b9</td>\n",
       "      <td>shipped</td>\n",
       "      <td>2017-05-09 11:48:37</td>\n",
       "      <td>2017-05-11 11:45:14</td>\n",
       "      <td>2017-05-11 13:21:47</td>\n",
       "      <td>NaT</td>\n",
       "      <td>2017-06-08</td>\n",
       "    </tr>\n",
       "    <tr>\n",
       "      <th>231</th>\n",
       "      <td>4d630f57194f5aba1a3d12ce23e71cd9</td>\n",
       "      <td>6d491c9fe2f04f6e2af6ec033cd8907c</td>\n",
       "      <td>shipped</td>\n",
       "      <td>2017-11-17 19:53:21</td>\n",
       "      <td>2017-11-18 19:50:31</td>\n",
       "      <td>2017-11-22 17:28:34</td>\n",
       "      <td>NaT</td>\n",
       "      <td>2017-12-13</td>\n",
       "    </tr>\n",
       "    <tr>\n",
       "      <th>299</th>\n",
       "      <td>3b4ad687e7e5190db827e1ae5a8989dd</td>\n",
       "      <td>1a87b8517b7d31373b50396eb15cb445</td>\n",
       "      <td>shipped</td>\n",
       "      <td>2018-06-28 12:52:15</td>\n",
       "      <td>2018-06-28 13:11:09</td>\n",
       "      <td>2018-07-04 15:20:00</td>\n",
       "      <td>NaT</td>\n",
       "      <td>2018-08-03</td>\n",
       "    </tr>\n",
       "  </tbody>\n",
       "</table>\n",
       "</div>"
      ],
      "text/plain": [
       "                             order_id                       customer_id  \\\n",
       "44   ee64d42b8cf066f35eac1cf57de1aa85  caded193e8e47b8362864762a83db3c5   \n",
       "154  6942b8da583c2f9957e990d028607019  52006a9383bf149a4fb24226b173106f   \n",
       "162  36530871a5e80138db53bcfd8a104d90  4dafe3c841d2d6cc8a8b6d25b35704b9   \n",
       "231  4d630f57194f5aba1a3d12ce23e71cd9  6d491c9fe2f04f6e2af6ec033cd8907c   \n",
       "299  3b4ad687e7e5190db827e1ae5a8989dd  1a87b8517b7d31373b50396eb15cb445   \n",
       "\n",
       "    order_status order_purchase_timestamp   order_approved_at  \\\n",
       "44       shipped      2018-06-04 16:44:48 2018-06-05 04:31:18   \n",
       "154      shipped      2018-01-10 11:33:07 2018-01-11 02:32:30   \n",
       "162      shipped      2017-05-09 11:48:37 2017-05-11 11:45:14   \n",
       "231      shipped      2017-11-17 19:53:21 2017-11-18 19:50:31   \n",
       "299      shipped      2018-06-28 12:52:15 2018-06-28 13:11:09   \n",
       "\n",
       "    order_delivered_carrier_date order_delivered_customer_date  \\\n",
       "44           2018-06-05 14:32:00                           NaT   \n",
       "154          2018-01-11 19:39:23                           NaT   \n",
       "162          2017-05-11 13:21:47                           NaT   \n",
       "231          2017-11-22 17:28:34                           NaT   \n",
       "299          2018-07-04 15:20:00                           NaT   \n",
       "\n",
       "    order_estimated_delivery_date  \n",
       "44                     2018-06-28  \n",
       "154                    2018-02-07  \n",
       "162                    2017-06-08  \n",
       "231                    2017-12-13  \n",
       "299                    2018-08-03  "
      ]
     },
     "execution_count": 192,
     "metadata": {},
     "output_type": "execute_result"
    }
   ],
   "source": [
    "olist_orders_dataset.query('order_status == \"shipped\"').head() #отбор заказов со статусом \"отгружен со склада\""
   ]
  },
  {
   "cell_type": "code",
   "execution_count": 193,
   "id": "46ab1656",
   "metadata": {
    "ExecuteTime": {
     "end_time": "2023-04-02T07:36:04.546999Z",
     "start_time": "2023-04-02T07:36:04.506984Z"
    }
   },
   "outputs": [
    {
     "data": {
      "text/plain": [
       "1107"
      ]
     },
     "execution_count": 193,
     "metadata": {},
     "output_type": "execute_result"
    }
   ],
   "source": [
    "olist_orders_dataset.query('order_status == \"shipped\"').shape[0]"
   ]
  },
  {
   "cell_type": "markdown",
   "id": "305ca6a1",
   "metadata": {},
   "source": [
    "Давайте проверим, нет ли заказов которые были отгружены со склада и их обещанная дата доставки выходит за временные границы наших исторических данных (заказы, которые еще могли не доставить на момент анализа). За максимальную дату я приму максимальную дату доставки заказа."
   ]
  },
  {
   "cell_type": "code",
   "execution_count": 194,
   "id": "a445a3f4",
   "metadata": {
    "ExecuteTime": {
     "end_time": "2023-04-02T07:36:04.841853Z",
     "start_time": "2023-04-02T07:36:04.802988Z"
    }
   },
   "outputs": [
    {
     "data": {
      "text/html": [
       "<div>\n",
       "<style scoped>\n",
       "    .dataframe tbody tr th:only-of-type {\n",
       "        vertical-align: middle;\n",
       "    }\n",
       "\n",
       "    .dataframe tbody tr th {\n",
       "        vertical-align: top;\n",
       "    }\n",
       "\n",
       "    .dataframe thead th {\n",
       "        text-align: right;\n",
       "    }\n",
       "</style>\n",
       "<table border=\"1\" class=\"dataframe\">\n",
       "  <thead>\n",
       "    <tr style=\"text-align: right;\">\n",
       "      <th></th>\n",
       "      <th>order_id</th>\n",
       "      <th>customer_id</th>\n",
       "      <th>order_status</th>\n",
       "      <th>order_purchase_timestamp</th>\n",
       "      <th>order_approved_at</th>\n",
       "      <th>order_delivered_carrier_date</th>\n",
       "      <th>order_delivered_customer_date</th>\n",
       "      <th>order_estimated_delivery_date</th>\n",
       "    </tr>\n",
       "  </thead>\n",
       "  <tbody>\n",
       "  </tbody>\n",
       "</table>\n",
       "</div>"
      ],
      "text/plain": [
       "Empty DataFrame\n",
       "Columns: [order_id, customer_id, order_status, order_purchase_timestamp, order_approved_at, order_delivered_carrier_date, order_delivered_customer_date, order_estimated_delivery_date]\n",
       "Index: []"
      ]
     },
     "execution_count": 194,
     "metadata": {},
     "output_type": "execute_result"
    }
   ],
   "source": [
    "max_date = olist_orders_dataset.order_delivered_customer_date.max()\n",
    "olist_orders_dataset.query('order_status == \"shipped\" and order_estimated_delivery_date > @max_date')"
   ]
  },
  {
   "cell_type": "markdown",
   "id": "f1190de5",
   "metadata": {},
   "source": [
    "Таких примеров нет, а значит заказы со статусом \"shipped\" - это заказы, не дошедшие до наших клиентов. Также не являются покупкой."
   ]
  },
  {
   "cell_type": "markdown",
   "id": "549a064b",
   "metadata": {
    "ExecuteTime": {
     "end_time": "2023-04-01T13:32:36.804605Z",
     "start_time": "2023-04-01T13:32:36.787624Z"
    }
   },
   "source": [
    "Статус delivered"
   ]
  },
  {
   "cell_type": "code",
   "execution_count": 195,
   "id": "9722cd9f",
   "metadata": {
    "ExecuteTime": {
     "end_time": "2023-04-02T07:36:05.437197Z",
     "start_time": "2023-04-02T07:36:05.362850Z"
    }
   },
   "outputs": [
    {
     "data": {
      "text/html": [
       "<div>\n",
       "<style scoped>\n",
       "    .dataframe tbody tr th:only-of-type {\n",
       "        vertical-align: middle;\n",
       "    }\n",
       "\n",
       "    .dataframe tbody tr th {\n",
       "        vertical-align: top;\n",
       "    }\n",
       "\n",
       "    .dataframe thead th {\n",
       "        text-align: right;\n",
       "    }\n",
       "</style>\n",
       "<table border=\"1\" class=\"dataframe\">\n",
       "  <thead>\n",
       "    <tr style=\"text-align: right;\">\n",
       "      <th></th>\n",
       "      <th>order_id</th>\n",
       "      <th>customer_id</th>\n",
       "      <th>order_status</th>\n",
       "      <th>order_purchase_timestamp</th>\n",
       "      <th>order_approved_at</th>\n",
       "      <th>order_delivered_carrier_date</th>\n",
       "      <th>order_delivered_customer_date</th>\n",
       "      <th>order_estimated_delivery_date</th>\n",
       "    </tr>\n",
       "  </thead>\n",
       "  <tbody>\n",
       "    <tr>\n",
       "      <th>0</th>\n",
       "      <td>e481f51cbdc54678b7cc49136f2d6af7</td>\n",
       "      <td>9ef432eb6251297304e76186b10a928d</td>\n",
       "      <td>delivered</td>\n",
       "      <td>2017-10-02 10:56:33</td>\n",
       "      <td>2017-10-02 11:07:15</td>\n",
       "      <td>2017-10-04 19:55:00</td>\n",
       "      <td>2017-10-10 21:25:13</td>\n",
       "      <td>2017-10-18</td>\n",
       "    </tr>\n",
       "    <tr>\n",
       "      <th>1</th>\n",
       "      <td>53cdb2fc8bc7dce0b6741e2150273451</td>\n",
       "      <td>b0830fb4747a6c6d20dea0b8c802d7ef</td>\n",
       "      <td>delivered</td>\n",
       "      <td>2018-07-24 20:41:37</td>\n",
       "      <td>2018-07-26 03:24:27</td>\n",
       "      <td>2018-07-26 14:31:00</td>\n",
       "      <td>2018-08-07 15:27:45</td>\n",
       "      <td>2018-08-13</td>\n",
       "    </tr>\n",
       "    <tr>\n",
       "      <th>2</th>\n",
       "      <td>47770eb9100c2d0c44946d9cf07ec65d</td>\n",
       "      <td>41ce2a54c0b03bf3443c3d931a367089</td>\n",
       "      <td>delivered</td>\n",
       "      <td>2018-08-08 08:38:49</td>\n",
       "      <td>2018-08-08 08:55:23</td>\n",
       "      <td>2018-08-08 13:50:00</td>\n",
       "      <td>2018-08-17 18:06:29</td>\n",
       "      <td>2018-09-04</td>\n",
       "    </tr>\n",
       "    <tr>\n",
       "      <th>3</th>\n",
       "      <td>949d5b44dbf5de918fe9c16f97b45f8a</td>\n",
       "      <td>f88197465ea7920adcdbec7375364d82</td>\n",
       "      <td>delivered</td>\n",
       "      <td>2017-11-18 19:28:06</td>\n",
       "      <td>2017-11-18 19:45:59</td>\n",
       "      <td>2017-11-22 13:39:59</td>\n",
       "      <td>2017-12-02 00:28:42</td>\n",
       "      <td>2017-12-15</td>\n",
       "    </tr>\n",
       "    <tr>\n",
       "      <th>4</th>\n",
       "      <td>ad21c59c0840e6cb83a9ceb5573f8159</td>\n",
       "      <td>8ab97904e6daea8866dbdbc4fb7aad2c</td>\n",
       "      <td>delivered</td>\n",
       "      <td>2018-02-13 21:18:39</td>\n",
       "      <td>2018-02-13 22:20:29</td>\n",
       "      <td>2018-02-14 19:46:34</td>\n",
       "      <td>2018-02-16 18:17:02</td>\n",
       "      <td>2018-02-26</td>\n",
       "    </tr>\n",
       "  </tbody>\n",
       "</table>\n",
       "</div>"
      ],
      "text/plain": [
       "                           order_id                       customer_id  \\\n",
       "0  e481f51cbdc54678b7cc49136f2d6af7  9ef432eb6251297304e76186b10a928d   \n",
       "1  53cdb2fc8bc7dce0b6741e2150273451  b0830fb4747a6c6d20dea0b8c802d7ef   \n",
       "2  47770eb9100c2d0c44946d9cf07ec65d  41ce2a54c0b03bf3443c3d931a367089   \n",
       "3  949d5b44dbf5de918fe9c16f97b45f8a  f88197465ea7920adcdbec7375364d82   \n",
       "4  ad21c59c0840e6cb83a9ceb5573f8159  8ab97904e6daea8866dbdbc4fb7aad2c   \n",
       "\n",
       "  order_status order_purchase_timestamp   order_approved_at  \\\n",
       "0    delivered      2017-10-02 10:56:33 2017-10-02 11:07:15   \n",
       "1    delivered      2018-07-24 20:41:37 2018-07-26 03:24:27   \n",
       "2    delivered      2018-08-08 08:38:49 2018-08-08 08:55:23   \n",
       "3    delivered      2017-11-18 19:28:06 2017-11-18 19:45:59   \n",
       "4    delivered      2018-02-13 21:18:39 2018-02-13 22:20:29   \n",
       "\n",
       "  order_delivered_carrier_date order_delivered_customer_date  \\\n",
       "0          2017-10-04 19:55:00           2017-10-10 21:25:13   \n",
       "1          2018-07-26 14:31:00           2018-08-07 15:27:45   \n",
       "2          2018-08-08 13:50:00           2018-08-17 18:06:29   \n",
       "3          2017-11-22 13:39:59           2017-12-02 00:28:42   \n",
       "4          2018-02-14 19:46:34           2018-02-16 18:17:02   \n",
       "\n",
       "  order_estimated_delivery_date  \n",
       "0                    2017-10-18  \n",
       "1                    2018-08-13  \n",
       "2                    2018-09-04  \n",
       "3                    2017-12-15  \n",
       "4                    2018-02-26  "
      ]
     },
     "execution_count": 195,
     "metadata": {},
     "output_type": "execute_result"
    }
   ],
   "source": [
    "olist_orders_dataset.query('order_status == \"delivered\"').head() #отбор заказов со статусом \"доставлен пользователю\""
   ]
  },
  {
   "cell_type": "code",
   "execution_count": 196,
   "id": "de3923e2",
   "metadata": {
    "ExecuteTime": {
     "end_time": "2023-04-02T07:36:05.500958Z",
     "start_time": "2023-04-02T07:36:05.461199Z"
    }
   },
   "outputs": [
    {
     "data": {
      "text/plain": [
       "96478"
      ]
     },
     "execution_count": 196,
     "metadata": {},
     "output_type": "execute_result"
    }
   ],
   "source": [
    "olist_orders_dataset.query('order_status == \"delivered\"').shape[0]"
   ]
  },
  {
   "cell_type": "markdown",
   "id": "a1e80402",
   "metadata": {},
   "source": [
    "И наконец, заказы, которые были успешно доставлены до клиентов. Они составляют большую часть наших данных. Их мы и будем считать за покупки. Отмененные (canceled) и недоступные (unavailable) заказы по своей природе выбывают из этой категории."
   ]
  },
  {
   "cell_type": "markdown",
   "id": "bc289af6",
   "metadata": {},
   "source": [
    "Теперь, когда мы опеределили, что является покупкой, попробуем ответить на поставленные вопросы."
   ]
  },
  {
   "cell_type": "markdown",
   "id": "abf3e379",
   "metadata": {},
   "source": [
    "# Сколько у нас пользователей, которые совершили покупку только один раз?"
   ]
  },
  {
   "cell_type": "markdown",
   "id": "4ecf0e3e",
   "metadata": {},
   "source": [
    "Для того, чтобы это выяснить сделаем слияние таблиц с пользователями и заказами, отберем те заказы, которые были доставлены, сгруппируем по уникальному id покупателя и применим агрегирующую функцию count(), а затем подсчитаем количество при помощи value_counts()."
   ]
  },
  {
   "cell_type": "code",
   "execution_count": 197,
   "id": "db7fc8fd",
   "metadata": {
    "ExecuteTime": {
     "end_time": "2023-04-02T07:36:06.680826Z",
     "start_time": "2023-04-02T07:36:06.430163Z"
    }
   },
   "outputs": [],
   "source": [
    "# делаем inner join\n",
    "df_cust_order = olist_customers_dataset.merge(olist_orders_dataset, how='inner', on='customer_id')"
   ]
  },
  {
   "cell_type": "code",
   "execution_count": 198,
   "id": "6dd2c495",
   "metadata": {
    "ExecuteTime": {
     "end_time": "2023-04-02T07:36:07.002927Z",
     "start_time": "2023-04-02T07:36:06.680826Z"
    }
   },
   "outputs": [],
   "source": [
    "# группировка и агрегация\n",
    "orders_count = df_cust_order.query('order_status == \"delivered\"') \\\n",
    "             .groupby('customer_unique_id', as_index=False) \\\n",
    "             .agg(orders_count=('order_id', 'count')) \\\n",
    "             .orders_count.value_counts()"
   ]
  },
  {
   "cell_type": "code",
   "execution_count": 199,
   "id": "e4b2d3c4",
   "metadata": {
    "ExecuteTime": {
     "end_time": "2023-04-02T07:36:07.443357Z",
     "start_time": "2023-04-02T07:36:07.002927Z"
    },
    "scrolled": false
   },
   "outputs": [
    {
     "data": {
      "text/plain": [
       "<function seaborn.utils.despine(fig=None, ax=None, top=True, right=True, left=False, bottom=False, offset=None, trim=False)>"
      ]
     },
     "execution_count": 199,
     "metadata": {},
     "output_type": "execute_result"
    },
    {
     "data": {
      "image/png": "[encoded data removed]",
      "text/plain": [
       "<Figure size 1080x720 with 1 Axes>"
      ]
     },
     "metadata": {},
     "output_type": "display_data"
    }
   ],
   "source": [
    "# визуализируем результат\n",
    "plt.figure(figsize=(15,10))\n",
    "ax = sns.barplot(x=orders_count.index, y=orders_count.values)\n",
    "ax.bar_label(ax.containers[0])\n",
    "ax.set_xlabel('Количество заказов')\n",
    "ax.set_ylabel('Количество пользователей')\n",
    "\n",
    "sns.despine"
   ]
  },
  {
   "cell_type": "markdown",
   "id": "ab517922",
   "metadata": {},
   "source": [
    "Итак, у нас 90557 пользователей, которые совершили покупку только один раз."
   ]
  },
  {
   "cell_type": "markdown",
   "id": "0262c4e7",
   "metadata": {},
   "source": [
    "# Сколько заказов в месяц в среднем не доставляется по разным причинам (с детализацией по причинам)?"
   ]
  },
  {
   "cell_type": "markdown",
   "id": "0419bfc5",
   "metadata": {},
   "source": [
    "Чтобы ответить на этот вопрос, сгруппируем данные о заказах по статусам для подсчета их количества, а затем разделим на количество месяцев."
   ]
  },
  {
   "cell_type": "code",
   "execution_count": 200,
   "id": "4560fbc9",
   "metadata": {
    "ExecuteTime": {
     "end_time": "2023-04-02T07:36:07.550836Z",
     "start_time": "2023-04-02T07:36:07.523350Z"
    }
   },
   "outputs": [],
   "source": [
    "# создадим колонку с округленными значениями дат создания заказа до месяца\n",
    "olist_orders_dataset['order_purchase_year_month'] = olist_orders_dataset['order_purchase_timestamp'] \\\n",
    "                                                                        .astype('datetime64[M]')"
   ]
  },
  {
   "cell_type": "code",
   "execution_count": 201,
   "id": "59b44fa9",
   "metadata": {
    "ExecuteTime": {
     "end_time": "2023-04-02T07:36:07.622896Z",
     "start_time": "2023-04-02T07:36:07.606843Z"
    }
   },
   "outputs": [],
   "source": [
    "# количество месяцев\n",
    "month_count = olist_orders_dataset.order_purchase_year_month.nunique()"
   ]
  },
  {
   "cell_type": "code",
   "execution_count": 202,
   "id": "732f3b8d",
   "metadata": {
    "ExecuteTime": {
     "end_time": "2023-04-02T07:36:07.734870Z",
     "start_time": "2023-04-02T07:36:07.686871Z"
    }
   },
   "outputs": [],
   "source": [
    "# группировка и агрегация\n",
    "order_status_count = olist_orders_dataset.query('order_status != \"delivered\"') \\\n",
    "                    .groupby('order_status', as_index=False) \\\n",
    "                    .agg(not_delivered_count =('order_id', 'count'))"
   ]
  },
  {
   "cell_type": "code",
   "execution_count": 203,
   "id": "0076d727",
   "metadata": {
    "ExecuteTime": {
     "end_time": "2023-04-02T07:36:07.782844Z",
     "start_time": "2023-04-02T07:36:07.766846Z"
    }
   },
   "outputs": [
    {
     "data": {
      "text/html": [
       "<div>\n",
       "<style scoped>\n",
       "    .dataframe tbody tr th:only-of-type {\n",
       "        vertical-align: middle;\n",
       "    }\n",
       "\n",
       "    .dataframe tbody tr th {\n",
       "        vertical-align: top;\n",
       "    }\n",
       "\n",
       "    .dataframe thead th {\n",
       "        text-align: right;\n",
       "    }\n",
       "</style>\n",
       "<table border=\"1\" class=\"dataframe\">\n",
       "  <thead>\n",
       "    <tr style=\"text-align: right;\">\n",
       "      <th></th>\n",
       "      <th>order_status</th>\n",
       "      <th>not_delivered_count</th>\n",
       "    </tr>\n",
       "  </thead>\n",
       "  <tbody>\n",
       "    <tr>\n",
       "      <th>0</th>\n",
       "      <td>approved</td>\n",
       "      <td>2</td>\n",
       "    </tr>\n",
       "    <tr>\n",
       "      <th>1</th>\n",
       "      <td>canceled</td>\n",
       "      <td>625</td>\n",
       "    </tr>\n",
       "    <tr>\n",
       "      <th>2</th>\n",
       "      <td>created</td>\n",
       "      <td>5</td>\n",
       "    </tr>\n",
       "    <tr>\n",
       "      <th>3</th>\n",
       "      <td>invoiced</td>\n",
       "      <td>314</td>\n",
       "    </tr>\n",
       "    <tr>\n",
       "      <th>4</th>\n",
       "      <td>processing</td>\n",
       "      <td>301</td>\n",
       "    </tr>\n",
       "  </tbody>\n",
       "</table>\n",
       "</div>"
      ],
      "text/plain": [
       "  order_status  not_delivered_count\n",
       "0     approved                    2\n",
       "1     canceled                  625\n",
       "2      created                    5\n",
       "3     invoiced                  314\n",
       "4   processing                  301"
      ]
     },
     "execution_count": 203,
     "metadata": {},
     "output_type": "execute_result"
    }
   ],
   "source": [
    "order_status_count.head()"
   ]
  },
  {
   "cell_type": "code",
   "execution_count": 204,
   "id": "3921686e",
   "metadata": {
    "ExecuteTime": {
     "end_time": "2023-04-02T07:36:07.862843Z",
     "start_time": "2023-04-02T07:36:07.838840Z"
    }
   },
   "outputs": [],
   "source": [
    "# а теперь подсчет среднего\n",
    "order_status_count['not_delivered_avg'] = order_status_count['not_delivered_count'] / month_count"
   ]
  },
  {
   "cell_type": "code",
   "execution_count": 205,
   "id": "d1ee8458",
   "metadata": {
    "ExecuteTime": {
     "end_time": "2023-04-02T07:36:07.942838Z",
     "start_time": "2023-04-02T07:36:07.910837Z"
    }
   },
   "outputs": [
    {
     "data": {
      "text/html": [
       "<div>\n",
       "<style scoped>\n",
       "    .dataframe tbody tr th:only-of-type {\n",
       "        vertical-align: middle;\n",
       "    }\n",
       "\n",
       "    .dataframe tbody tr th {\n",
       "        vertical-align: top;\n",
       "    }\n",
       "\n",
       "    .dataframe thead th {\n",
       "        text-align: right;\n",
       "    }\n",
       "</style>\n",
       "<table border=\"1\" class=\"dataframe\">\n",
       "  <thead>\n",
       "    <tr style=\"text-align: right;\">\n",
       "      <th></th>\n",
       "      <th>order_status</th>\n",
       "      <th>not_delivered_count</th>\n",
       "      <th>not_delivered_avg</th>\n",
       "    </tr>\n",
       "  </thead>\n",
       "  <tbody>\n",
       "    <tr>\n",
       "      <th>0</th>\n",
       "      <td>approved</td>\n",
       "      <td>2</td>\n",
       "      <td>0.08</td>\n",
       "    </tr>\n",
       "    <tr>\n",
       "      <th>1</th>\n",
       "      <td>canceled</td>\n",
       "      <td>625</td>\n",
       "      <td>25.00</td>\n",
       "    </tr>\n",
       "    <tr>\n",
       "      <th>2</th>\n",
       "      <td>created</td>\n",
       "      <td>5</td>\n",
       "      <td>0.20</td>\n",
       "    </tr>\n",
       "    <tr>\n",
       "      <th>3</th>\n",
       "      <td>invoiced</td>\n",
       "      <td>314</td>\n",
       "      <td>12.56</td>\n",
       "    </tr>\n",
       "    <tr>\n",
       "      <th>4</th>\n",
       "      <td>processing</td>\n",
       "      <td>301</td>\n",
       "      <td>12.04</td>\n",
       "    </tr>\n",
       "    <tr>\n",
       "      <th>5</th>\n",
       "      <td>shipped</td>\n",
       "      <td>1107</td>\n",
       "      <td>44.28</td>\n",
       "    </tr>\n",
       "    <tr>\n",
       "      <th>6</th>\n",
       "      <td>unavailable</td>\n",
       "      <td>609</td>\n",
       "      <td>24.36</td>\n",
       "    </tr>\n",
       "  </tbody>\n",
       "</table>\n",
       "</div>"
      ],
      "text/plain": [
       "  order_status  not_delivered_count  not_delivered_avg\n",
       "0     approved                    2               0.08\n",
       "1     canceled                  625              25.00\n",
       "2      created                    5               0.20\n",
       "3     invoiced                  314              12.56\n",
       "4   processing                  301              12.04\n",
       "5      shipped                 1107              44.28\n",
       "6  unavailable                  609              24.36"
      ]
     },
     "execution_count": 205,
     "metadata": {},
     "output_type": "execute_result"
    }
   ],
   "source": [
    "order_status_count"
   ]
  },
  {
   "cell_type": "markdown",
   "id": "b8070c7b",
   "metadata": {},
   "source": [
    "Выведем детализацию по причинам"
   ]
  },
  {
   "cell_type": "raw",
   "id": "aa54b563",
   "metadata": {},
   "source": [
    "approved - заказ не доставлен, так как клиенту не был выставлен счет\n",
    "canceled - заказ не доставлен, так как был отменен клиентом\n",
    "created - заказ не доставлен, так как не был подтвержден магазином из-за отсутствия товаров в корзине\n",
    "invoiced - заказ не доставлен, так как не был оплачен\n",
    "processing - заказ не доставлен, так как не был собран на складе\n",
    "shipped - заказ не доставлен по неопределенным причинам(возможно утеря)\n",
    "unavailable - заказ не доставлен, так как недоступен"
   ]
  },
  {
   "cell_type": "code",
   "execution_count": 206,
   "id": "dae8d782",
   "metadata": {
    "ExecuteTime": {
     "end_time": "2023-04-02T07:36:08.671204Z",
     "start_time": "2023-04-02T07:36:08.311197Z"
    }
   },
   "outputs": [
    {
     "data": {
      "text/plain": [
       "<function seaborn.utils.despine(fig=None, ax=None, top=True, right=True, left=False, bottom=False, offset=None, trim=False)>"
      ]
     },
     "execution_count": 206,
     "metadata": {},
     "output_type": "execute_result"
    },
    {
     "data": {
      "image/png": "[encoded data removed]",
      "text/plain": [
       "<Figure size 864x576 with 1 Axes>"
      ]
     },
     "metadata": {},
     "output_type": "display_data"
    }
   ],
   "source": [
    "# визуализируем результат\n",
    "plt.figure(figsize=(12,8))\n",
    "ax = sns.barplot(data=order_status_count, x='order_status', y='not_delivered_avg')\n",
    "ax.bar_label(ax.containers[0])\n",
    "ax.set_xlabel('Причина')\n",
    "ax.set_ylabel('Заказов в месяц в среднем')\n",
    "\n",
    "sns.despine"
   ]
  },
  {
   "cell_type": "markdown",
   "id": "1a078b3b",
   "metadata": {},
   "source": [
    "# По каждому товару определим, в какой день недели товар чаще всего покупается. "
   ]
  },
  {
   "cell_type": "markdown",
   "id": "fc03bb81",
   "metadata": {},
   "source": [
    "Поджойним таблицы с заказами и товарами, отберем те заказы, что были доставлены, а за дату покупки примем дату создания заказа(не беру дату подтверждения оплаты, так как в данных есть случаи, когда подтверждение произошло после доставки товара клиенту)"
   ]
  },
  {
   "cell_type": "code",
   "execution_count": 207,
   "id": "2ad80a4e",
   "metadata": {
    "ExecuteTime": {
     "end_time": "2023-04-02T07:36:09.275669Z",
     "start_time": "2023-04-02T07:36:08.943177Z"
    }
   },
   "outputs": [],
   "source": [
    "# left join\n",
    "df_order_items = olist_orders_dataset.merge(olist_order_items_dataset, how='left', on='order_id') \\\n",
    "                                     .query('order_status == \"delivered\"')"
   ]
  },
  {
   "cell_type": "code",
   "execution_count": 208,
   "id": "a1a4f1a1",
   "metadata": {
    "ExecuteTime": {
     "end_time": "2023-04-02T07:36:09.334027Z",
     "start_time": "2023-04-02T07:36:09.275669Z"
    }
   },
   "outputs": [],
   "source": [
    "# создаем колонку с названиями дней недели\n",
    "df_order_items['purchase_weekday'] = df_order_items['order_purchase_timestamp'].dt.day_name()"
   ]
  },
  {
   "cell_type": "code",
   "execution_count": 209,
   "id": "2c31013f",
   "metadata": {
    "ExecuteTime": {
     "end_time": "2023-04-02T07:36:09.558051Z",
     "start_time": "2023-04-02T07:36:09.334027Z"
    }
   },
   "outputs": [],
   "source": [
    "# группируем по id товара и дню недели\n",
    "df_id_weekday = df_order_items.groupby(['product_id', 'purchase_weekday'], as_index=False) \\\n",
    "              .agg(count=('order_id', 'count'))"
   ]
  },
  {
   "cell_type": "code",
   "execution_count": 210,
   "id": "894db0c1",
   "metadata": {
    "ExecuteTime": {
     "end_time": "2023-04-02T07:36:09.637469Z",
     "start_time": "2023-04-02T07:36:09.558051Z"
    }
   },
   "outputs": [],
   "source": [
    "# применяем оконную функцию с партицией по id товара для создания колонки с максимальным количеством покупок \n",
    "df_id_weekday['max_count'] = df_id_weekday.groupby('product_id')['count'].transform(max)"
   ]
  },
  {
   "cell_type": "code",
   "execution_count": 211,
   "id": "977d5c2e",
   "metadata": {
    "ExecuteTime": {
     "end_time": "2023-04-02T07:36:09.669443Z",
     "start_time": "2023-04-02T07:36:09.637469Z"
    }
   },
   "outputs": [],
   "source": [
    "# отбираем только те строки, где счетчик совпадает с максимальным\n",
    "df_id_weekday_max = df_id_weekday.query('count == max_count')"
   ]
  },
  {
   "cell_type": "code",
   "execution_count": 212,
   "id": "79d55eee",
   "metadata": {
    "ExecuteTime": {
     "end_time": "2023-04-02T07:36:09.717200Z",
     "start_time": "2023-04-02T07:36:09.669443Z"
    }
   },
   "outputs": [
    {
     "data": {
      "text/plain": [
       "False"
      ]
     },
     "execution_count": 212,
     "metadata": {},
     "output_type": "execute_result"
    }
   ],
   "source": [
    "# Проверяем, что для одного продукта может быть несколько дней недели с максимальным кол-м покупок \n",
    "# (количество строк не равно количеству уникальных product_id)\n",
    "df_id_weekday_max.product_id.nunique() == df_id_weekday_max.shape[0]"
   ]
  },
  {
   "cell_type": "markdown",
   "id": "cc40c8e3",
   "metadata": {},
   "source": [
    "Я объединю дни недели для каждого продукта в список для более наглядного представления:"
   ]
  },
  {
   "cell_type": "code",
   "execution_count": 213,
   "id": "29f1934d",
   "metadata": {
    "ExecuteTime": {
     "end_time": "2023-04-02T07:36:11.510884Z",
     "start_time": "2023-04-02T07:36:09.797185Z"
    }
   },
   "outputs": [
    {
     "data": {
      "text/html": [
       "<div>\n",
       "<style scoped>\n",
       "    .dataframe tbody tr th:only-of-type {\n",
       "        vertical-align: middle;\n",
       "    }\n",
       "\n",
       "    .dataframe tbody tr th {\n",
       "        vertical-align: top;\n",
       "    }\n",
       "\n",
       "    .dataframe thead th {\n",
       "        text-align: right;\n",
       "    }\n",
       "</style>\n",
       "<table border=\"1\" class=\"dataframe\">\n",
       "  <thead>\n",
       "    <tr style=\"text-align: right;\">\n",
       "      <th></th>\n",
       "      <th>product_id</th>\n",
       "      <th>purchase_weekday</th>\n",
       "    </tr>\n",
       "  </thead>\n",
       "  <tbody>\n",
       "    <tr>\n",
       "      <th>0</th>\n",
       "      <td>00066f42aeeb9f3007548bb9d3f33c38</td>\n",
       "      <td>[Sunday]</td>\n",
       "    </tr>\n",
       "    <tr>\n",
       "      <th>1</th>\n",
       "      <td>00088930e925c41fd95ebfe695fd2655</td>\n",
       "      <td>[Tuesday]</td>\n",
       "    </tr>\n",
       "    <tr>\n",
       "      <th>2</th>\n",
       "      <td>0009406fd7479715e4bef61dd91f2462</td>\n",
       "      <td>[Thursday]</td>\n",
       "    </tr>\n",
       "    <tr>\n",
       "      <th>3</th>\n",
       "      <td>000b8f95fcb9e0096488278317764d19</td>\n",
       "      <td>[Friday, Wednesday]</td>\n",
       "    </tr>\n",
       "    <tr>\n",
       "      <th>4</th>\n",
       "      <td>000d9be29b5207b54e86aa1b1ac54872</td>\n",
       "      <td>[Tuesday]</td>\n",
       "    </tr>\n",
       "    <tr>\n",
       "      <th>...</th>\n",
       "      <td>...</td>\n",
       "      <td>...</td>\n",
       "    </tr>\n",
       "    <tr>\n",
       "      <th>32211</th>\n",
       "      <td>fff6177642830a9a94a0f2cba5e476d1</td>\n",
       "      <td>[Saturday, Sunday]</td>\n",
       "    </tr>\n",
       "    <tr>\n",
       "      <th>32212</th>\n",
       "      <td>fff81cc3158d2725c0655ab9ba0f712c</td>\n",
       "      <td>[Monday]</td>\n",
       "    </tr>\n",
       "    <tr>\n",
       "      <th>32213</th>\n",
       "      <td>fff9553ac224cec9d15d49f5a263411f</td>\n",
       "      <td>[Friday]</td>\n",
       "    </tr>\n",
       "    <tr>\n",
       "      <th>32214</th>\n",
       "      <td>fffdb2d0ec8d6a61f0a0a0db3f25b441</td>\n",
       "      <td>[Tuesday]</td>\n",
       "    </tr>\n",
       "    <tr>\n",
       "      <th>32215</th>\n",
       "      <td>fffe9eeff12fcbd74a2f2b007dde0c58</td>\n",
       "      <td>[Wednesday]</td>\n",
       "    </tr>\n",
       "  </tbody>\n",
       "</table>\n",
       "<p>32216 rows × 2 columns</p>\n",
       "</div>"
      ],
      "text/plain": [
       "                             product_id     purchase_weekday\n",
       "0      00066f42aeeb9f3007548bb9d3f33c38             [Sunday]\n",
       "1      00088930e925c41fd95ebfe695fd2655            [Tuesday]\n",
       "2      0009406fd7479715e4bef61dd91f2462           [Thursday]\n",
       "3      000b8f95fcb9e0096488278317764d19  [Friday, Wednesday]\n",
       "4      000d9be29b5207b54e86aa1b1ac54872            [Tuesday]\n",
       "...                                 ...                  ...\n",
       "32211  fff6177642830a9a94a0f2cba5e476d1   [Saturday, Sunday]\n",
       "32212  fff81cc3158d2725c0655ab9ba0f712c             [Monday]\n",
       "32213  fff9553ac224cec9d15d49f5a263411f             [Friday]\n",
       "32214  fffdb2d0ec8d6a61f0a0a0db3f25b441            [Tuesday]\n",
       "32215  fffe9eeff12fcbd74a2f2b007dde0c58          [Wednesday]\n",
       "\n",
       "[32216 rows x 2 columns]"
      ]
     },
     "execution_count": 213,
     "metadata": {},
     "output_type": "execute_result"
    }
   ],
   "source": [
    "df_id_weekday_max.groupby('product_id', as_index=False).agg({'purchase_weekday': list})"
   ]
  },
  {
   "cell_type": "markdown",
   "id": "8f321eea",
   "metadata": {},
   "source": [
    "Для каждого товара мы определили, в какой(какие) день(дни) недели его покупают чаще всего."
   ]
  },
  {
   "cell_type": "markdown",
   "id": "37a0611d",
   "metadata": {},
   "source": [
    "# Сколько у каждого из пользователей в среднем покупок в неделю (по месяцам)? Помним о том, что внутри месяца может быть не целое количество недель. "
   ]
  },
  {
   "cell_type": "markdown",
   "id": "d80dcfd6",
   "metadata": {},
   "source": [
    "Сделаем необходимые объединения таблиц:"
   ]
  },
  {
   "cell_type": "code",
   "execution_count": 214,
   "id": "34d869fc",
   "metadata": {
    "ExecuteTime": {
     "end_time": "2023-04-02T07:36:11.526245Z",
     "start_time": "2023-04-02T07:36:11.510884Z"
    }
   },
   "outputs": [],
   "source": [
    "# импорт библиотеки для нахождения количества дней в месяце\n",
    "from calendar import monthrange"
   ]
  },
  {
   "cell_type": "code",
   "execution_count": 215,
   "id": "232cd47f",
   "metadata": {
    "ExecuteTime": {
     "end_time": "2023-04-02T07:36:11.816735Z",
     "start_time": "2023-04-02T07:36:11.528318Z"
    }
   },
   "outputs": [],
   "source": [
    "# делаем inner join\n",
    "df_cust_order = olist_customers_dataset.merge(olist_orders_dataset, how='inner', on='customer_id')\n",
    "\n",
    "# проведем фильтрацию по статусу заказа\n",
    "df_cust_order = df_cust_order.query('order_status == \"delivered\"')"
   ]
  },
  {
   "cell_type": "code",
   "execution_count": 216,
   "id": "c41cd8e7",
   "metadata": {
    "ExecuteTime": {
     "end_time": "2023-04-02T07:36:11.899478Z",
     "start_time": "2023-04-02T07:36:11.821047Z"
    },
    "scrolled": true
   },
   "outputs": [
    {
     "data": {
      "text/html": [
       "<div>\n",
       "<style scoped>\n",
       "    .dataframe tbody tr th:only-of-type {\n",
       "        vertical-align: middle;\n",
       "    }\n",
       "\n",
       "    .dataframe tbody tr th {\n",
       "        vertical-align: top;\n",
       "    }\n",
       "\n",
       "    .dataframe thead th {\n",
       "        text-align: right;\n",
       "    }\n",
       "</style>\n",
       "<table border=\"1\" class=\"dataframe\">\n",
       "  <thead>\n",
       "    <tr style=\"text-align: right;\">\n",
       "      <th></th>\n",
       "      <th>customer_id</th>\n",
       "      <th>customer_unique_id</th>\n",
       "      <th>customer_zip_code_prefix</th>\n",
       "      <th>customer_city</th>\n",
       "      <th>customer_state</th>\n",
       "      <th>order_id</th>\n",
       "      <th>order_status</th>\n",
       "      <th>order_purchase_timestamp</th>\n",
       "      <th>order_approved_at</th>\n",
       "      <th>order_delivered_carrier_date</th>\n",
       "      <th>order_delivered_customer_date</th>\n",
       "      <th>order_estimated_delivery_date</th>\n",
       "      <th>order_purchase_year_month</th>\n",
       "    </tr>\n",
       "  </thead>\n",
       "  <tbody>\n",
       "    <tr>\n",
       "      <th>0</th>\n",
       "      <td>06b8999e2fba1a1fbc88172c00ba8bc7</td>\n",
       "      <td>861eff4711a542e4b93843c6dd7febb0</td>\n",
       "      <td>14409</td>\n",
       "      <td>franca</td>\n",
       "      <td>SP</td>\n",
       "      <td>00e7ee1b050b8499577073aeb2a297a1</td>\n",
       "      <td>delivered</td>\n",
       "      <td>2017-05-16 15:05:35</td>\n",
       "      <td>2017-05-16 15:22:12</td>\n",
       "      <td>2017-05-23 10:47:57</td>\n",
       "      <td>2017-05-25 10:35:35</td>\n",
       "      <td>2017-06-05</td>\n",
       "      <td>2017-05-01</td>\n",
       "    </tr>\n",
       "    <tr>\n",
       "      <th>1</th>\n",
       "      <td>18955e83d337fd6b2def6b18a428ac77</td>\n",
       "      <td>290c77bc529b7ac935b93aa66c333dc3</td>\n",
       "      <td>9790</td>\n",
       "      <td>sao bernardo do campo</td>\n",
       "      <td>SP</td>\n",
       "      <td>29150127e6685892b6eab3eec79f59c7</td>\n",
       "      <td>delivered</td>\n",
       "      <td>2018-01-12 20:48:24</td>\n",
       "      <td>2018-01-12 20:58:32</td>\n",
       "      <td>2018-01-15 17:14:59</td>\n",
       "      <td>2018-01-29 12:41:19</td>\n",
       "      <td>2018-02-06</td>\n",
       "      <td>2018-01-01</td>\n",
       "    </tr>\n",
       "    <tr>\n",
       "      <th>2</th>\n",
       "      <td>4e7b3e00288586ebd08712fdd0374a03</td>\n",
       "      <td>060e732b5b29e8181a18229c7b0b2b5e</td>\n",
       "      <td>1151</td>\n",
       "      <td>sao paulo</td>\n",
       "      <td>SP</td>\n",
       "      <td>b2059ed67ce144a36e2aa97d2c9e9ad2</td>\n",
       "      <td>delivered</td>\n",
       "      <td>2018-05-19 16:07:45</td>\n",
       "      <td>2018-05-20 16:19:10</td>\n",
       "      <td>2018-06-11 14:31:00</td>\n",
       "      <td>2018-06-14 17:58:51</td>\n",
       "      <td>2018-06-13</td>\n",
       "      <td>2018-05-01</td>\n",
       "    </tr>\n",
       "    <tr>\n",
       "      <th>3</th>\n",
       "      <td>b2b6027bc5c5109e529d4dc6358b12c3</td>\n",
       "      <td>259dac757896d24d7702b9acbbff3f3c</td>\n",
       "      <td>8775</td>\n",
       "      <td>mogi das cruzes</td>\n",
       "      <td>SP</td>\n",
       "      <td>951670f92359f4fe4a63112aa7306eba</td>\n",
       "      <td>delivered</td>\n",
       "      <td>2018-03-13 16:06:38</td>\n",
       "      <td>2018-03-13 17:29:19</td>\n",
       "      <td>2018-03-27 23:22:42</td>\n",
       "      <td>2018-03-28 16:04:25</td>\n",
       "      <td>2018-04-10</td>\n",
       "      <td>2018-03-01</td>\n",
       "    </tr>\n",
       "    <tr>\n",
       "      <th>4</th>\n",
       "      <td>4f2d8ab171c80ec8364f7c12e35b23ad</td>\n",
       "      <td>345ecd01c38d18a9036ed96c73b8d066</td>\n",
       "      <td>13056</td>\n",
       "      <td>campinas</td>\n",
       "      <td>SP</td>\n",
       "      <td>6b7d50bd145f6fc7f33cebabd7e49d0f</td>\n",
       "      <td>delivered</td>\n",
       "      <td>2018-07-29 09:51:30</td>\n",
       "      <td>2018-07-29 10:10:09</td>\n",
       "      <td>2018-07-30 15:16:00</td>\n",
       "      <td>2018-08-09 20:55:48</td>\n",
       "      <td>2018-08-15</td>\n",
       "      <td>2018-07-01</td>\n",
       "    </tr>\n",
       "  </tbody>\n",
       "</table>\n",
       "</div>"
      ],
      "text/plain": [
       "                        customer_id                customer_unique_id  \\\n",
       "0  06b8999e2fba1a1fbc88172c00ba8bc7  861eff4711a542e4b93843c6dd7febb0   \n",
       "1  18955e83d337fd6b2def6b18a428ac77  290c77bc529b7ac935b93aa66c333dc3   \n",
       "2  4e7b3e00288586ebd08712fdd0374a03  060e732b5b29e8181a18229c7b0b2b5e   \n",
       "3  b2b6027bc5c5109e529d4dc6358b12c3  259dac757896d24d7702b9acbbff3f3c   \n",
       "4  4f2d8ab171c80ec8364f7c12e35b23ad  345ecd01c38d18a9036ed96c73b8d066   \n",
       "\n",
       "   customer_zip_code_prefix          customer_city customer_state  \\\n",
       "0                     14409                 franca             SP   \n",
       "1                      9790  sao bernardo do campo             SP   \n",
       "2                      1151              sao paulo             SP   \n",
       "3                      8775        mogi das cruzes             SP   \n",
       "4                     13056               campinas             SP   \n",
       "\n",
       "                           order_id order_status order_purchase_timestamp  \\\n",
       "0  00e7ee1b050b8499577073aeb2a297a1    delivered      2017-05-16 15:05:35   \n",
       "1  29150127e6685892b6eab3eec79f59c7    delivered      2018-01-12 20:48:24   \n",
       "2  b2059ed67ce144a36e2aa97d2c9e9ad2    delivered      2018-05-19 16:07:45   \n",
       "3  951670f92359f4fe4a63112aa7306eba    delivered      2018-03-13 16:06:38   \n",
       "4  6b7d50bd145f6fc7f33cebabd7e49d0f    delivered      2018-07-29 09:51:30   \n",
       "\n",
       "    order_approved_at order_delivered_carrier_date  \\\n",
       "0 2017-05-16 15:22:12          2017-05-23 10:47:57   \n",
       "1 2018-01-12 20:58:32          2018-01-15 17:14:59   \n",
       "2 2018-05-20 16:19:10          2018-06-11 14:31:00   \n",
       "3 2018-03-13 17:29:19          2018-03-27 23:22:42   \n",
       "4 2018-07-29 10:10:09          2018-07-30 15:16:00   \n",
       "\n",
       "  order_delivered_customer_date order_estimated_delivery_date  \\\n",
       "0           2017-05-25 10:35:35                    2017-06-05   \n",
       "1           2018-01-29 12:41:19                    2018-02-06   \n",
       "2           2018-06-14 17:58:51                    2018-06-13   \n",
       "3           2018-03-28 16:04:25                    2018-04-10   \n",
       "4           2018-08-09 20:55:48                    2018-08-15   \n",
       "\n",
       "  order_purchase_year_month  \n",
       "0                2017-05-01  \n",
       "1                2018-01-01  \n",
       "2                2018-05-01  \n",
       "3                2018-03-01  \n",
       "4                2018-07-01  "
      ]
     },
     "execution_count": 216,
     "metadata": {},
     "output_type": "execute_result"
    }
   ],
   "source": [
    "df_cust_order.head()"
   ]
  },
  {
   "cell_type": "markdown",
   "id": "66673098",
   "metadata": {},
   "source": [
    "Теперь, когда в одном DataFrame мы получили всю информацию: уникальный id пользователя, год-месяц каждого заказа, мы можем подсчитать метрику для каждого пользователя в отдельности, а затем усреднить по всем покупателям."
   ]
  },
  {
   "cell_type": "code",
   "execution_count": 217,
   "id": "cddacb73",
   "metadata": {
    "ExecuteTime": {
     "end_time": "2023-04-02T07:36:12.259501Z",
     "start_time": "2023-04-02T07:36:11.899478Z"
    }
   },
   "outputs": [],
   "source": [
    "# группируем по месяцам и уникальным id пользователя, считаем количество покупок в месяц\n",
    "df_month_user_id_count = df_cust_order.groupby(['order_purchase_year_month', 'customer_unique_id'], as_index=False) \\\n",
    "                                           .agg(orders_count=('order_id', 'count'))"
   ]
  },
  {
   "cell_type": "code",
   "execution_count": 218,
   "id": "5c73fa26",
   "metadata": {
    "ExecuteTime": {
     "end_time": "2023-04-02T07:36:12.621333Z",
     "start_time": "2023-04-02T07:36:12.259501Z"
    }
   },
   "outputs": [],
   "source": [
    "# создаем столбец с количеством недель в месяце создания заказа\n",
    "df_month_user_id_count['weeks_month'] = df_month_user_id_count['order_purchase_year_month'] \\\n",
    "                                                       .apply(lambda x: monthrange(x.year, x.month)[1]) / 7"
   ]
  },
  {
   "cell_type": "code",
   "execution_count": 219,
   "id": "7a048643",
   "metadata": {
    "ExecuteTime": {
     "end_time": "2023-04-02T07:36:12.643433Z",
     "start_time": "2023-04-02T07:36:12.621333Z"
    }
   },
   "outputs": [],
   "source": [
    "# подсчет метрики по каждому клиенту в отдельности\n",
    "df_month_user_id_count['avg_purchase_by_week_by_user'] = (df_month_user_id_count['orders_count'] / \n",
    "                                                          df_month_user_id_count['weeks_month'])"
   ]
  },
  {
   "cell_type": "code",
   "execution_count": 220,
   "id": "a85adc8f",
   "metadata": {
    "ExecuteTime": {
     "end_time": "2023-04-02T07:36:12.675474Z",
     "start_time": "2023-04-02T07:36:12.643433Z"
    }
   },
   "outputs": [
    {
     "data": {
      "text/html": [
       "<div>\n",
       "<style scoped>\n",
       "    .dataframe tbody tr th:only-of-type {\n",
       "        vertical-align: middle;\n",
       "    }\n",
       "\n",
       "    .dataframe tbody tr th {\n",
       "        vertical-align: top;\n",
       "    }\n",
       "\n",
       "    .dataframe thead th {\n",
       "        text-align: right;\n",
       "    }\n",
       "</style>\n",
       "<table border=\"1\" class=\"dataframe\">\n",
       "  <thead>\n",
       "    <tr style=\"text-align: right;\">\n",
       "      <th></th>\n",
       "      <th>order_purchase_year_month</th>\n",
       "      <th>customer_unique_id</th>\n",
       "      <th>orders_count</th>\n",
       "      <th>weeks_month</th>\n",
       "      <th>avg_purchase_by_week_by_user</th>\n",
       "    </tr>\n",
       "  </thead>\n",
       "  <tbody>\n",
       "    <tr>\n",
       "      <th>0</th>\n",
       "      <td>2016-09-01</td>\n",
       "      <td>830d5b7aaa3b6f1e9ad63703bec97d23</td>\n",
       "      <td>1</td>\n",
       "      <td>4.285714</td>\n",
       "      <td>0.233333</td>\n",
       "    </tr>\n",
       "    <tr>\n",
       "      <th>1</th>\n",
       "      <td>2016-10-01</td>\n",
       "      <td>0032c76b20340da25249092a268ce66c</td>\n",
       "      <td>1</td>\n",
       "      <td>4.428571</td>\n",
       "      <td>0.225806</td>\n",
       "    </tr>\n",
       "    <tr>\n",
       "      <th>2</th>\n",
       "      <td>2016-10-01</td>\n",
       "      <td>01f156677184504063bd19739f924af1</td>\n",
       "      <td>1</td>\n",
       "      <td>4.428571</td>\n",
       "      <td>0.225806</td>\n",
       "    </tr>\n",
       "    <tr>\n",
       "      <th>3</th>\n",
       "      <td>2016-10-01</td>\n",
       "      <td>0636d30c77f0f9cfad81f1c9b58c791f</td>\n",
       "      <td>1</td>\n",
       "      <td>4.428571</td>\n",
       "      <td>0.225806</td>\n",
       "    </tr>\n",
       "    <tr>\n",
       "      <th>4</th>\n",
       "      <td>2016-10-01</td>\n",
       "      <td>06bdfbbe1857c3c925ec81abfb1c9666</td>\n",
       "      <td>1</td>\n",
       "      <td>4.428571</td>\n",
       "      <td>0.225806</td>\n",
       "    </tr>\n",
       "  </tbody>\n",
       "</table>\n",
       "</div>"
      ],
      "text/plain": [
       "  order_purchase_year_month                customer_unique_id  orders_count  \\\n",
       "0                2016-09-01  830d5b7aaa3b6f1e9ad63703bec97d23             1   \n",
       "1                2016-10-01  0032c76b20340da25249092a268ce66c             1   \n",
       "2                2016-10-01  01f156677184504063bd19739f924af1             1   \n",
       "3                2016-10-01  0636d30c77f0f9cfad81f1c9b58c791f             1   \n",
       "4                2016-10-01  06bdfbbe1857c3c925ec81abfb1c9666             1   \n",
       "\n",
       "   weeks_month  avg_purchase_by_week_by_user  \n",
       "0     4.285714                      0.233333  \n",
       "1     4.428571                      0.225806  \n",
       "2     4.428571                      0.225806  \n",
       "3     4.428571                      0.225806  \n",
       "4     4.428571                      0.225806  "
      ]
     },
     "execution_count": 220,
     "metadata": {},
     "output_type": "execute_result"
    }
   ],
   "source": [
    "df_month_user_id_count.head()"
   ]
  },
  {
   "cell_type": "code",
   "execution_count": 221,
   "id": "6523b965",
   "metadata": {
    "ExecuteTime": {
     "end_time": "2023-04-02T07:36:12.707468Z",
     "start_time": "2023-04-02T07:36:12.675474Z"
    }
   },
   "outputs": [],
   "source": [
    "# группировка по месяцам и рассчет метрики по всем пользователям\n",
    "df_month_avg = df_month_user_id_count.groupby('order_purchase_year_month', as_index=False) \\\n",
    "                      .agg(avg_purchase_by_week_by_month=('avg_purchase_by_week_by_user', 'mean'))"
   ]
  },
  {
   "cell_type": "code",
   "execution_count": 222,
   "id": "075ffc49",
   "metadata": {
    "ExecuteTime": {
     "end_time": "2023-04-02T07:36:12.739464Z",
     "start_time": "2023-04-02T07:36:12.707468Z"
    }
   },
   "outputs": [
    {
     "data": {
      "text/html": [
       "<div>\n",
       "<style scoped>\n",
       "    .dataframe tbody tr th:only-of-type {\n",
       "        vertical-align: middle;\n",
       "    }\n",
       "\n",
       "    .dataframe tbody tr th {\n",
       "        vertical-align: top;\n",
       "    }\n",
       "\n",
       "    .dataframe thead th {\n",
       "        text-align: right;\n",
       "    }\n",
       "</style>\n",
       "<table border=\"1\" class=\"dataframe\">\n",
       "  <thead>\n",
       "    <tr style=\"text-align: right;\">\n",
       "      <th></th>\n",
       "      <th>order_purchase_year_month</th>\n",
       "      <th>avg_purchase_by_week_by_month</th>\n",
       "    </tr>\n",
       "  </thead>\n",
       "  <tbody>\n",
       "    <tr>\n",
       "      <th>0</th>\n",
       "      <td>2016-09-01</td>\n",
       "      <td>0.233333</td>\n",
       "    </tr>\n",
       "    <tr>\n",
       "      <th>1</th>\n",
       "      <td>2016-10-01</td>\n",
       "      <td>0.228392</td>\n",
       "    </tr>\n",
       "    <tr>\n",
       "      <th>2</th>\n",
       "      <td>2016-12-01</td>\n",
       "      <td>0.225806</td>\n",
       "    </tr>\n",
       "    <tr>\n",
       "      <th>3</th>\n",
       "      <td>2017-01-01</td>\n",
       "      <td>0.235870</td>\n",
       "    </tr>\n",
       "    <tr>\n",
       "      <th>4</th>\n",
       "      <td>2017-02-01</td>\n",
       "      <td>0.253528</td>\n",
       "    </tr>\n",
       "    <tr>\n",
       "      <th>5</th>\n",
       "      <td>2017-03-01</td>\n",
       "      <td>0.229228</td>\n",
       "    </tr>\n",
       "    <tr>\n",
       "      <th>6</th>\n",
       "      <td>2017-04-01</td>\n",
       "      <td>0.236309</td>\n",
       "    </tr>\n",
       "    <tr>\n",
       "      <th>7</th>\n",
       "      <td>2017-05-01</td>\n",
       "      <td>0.230155</td>\n",
       "    </tr>\n",
       "    <tr>\n",
       "      <th>8</th>\n",
       "      <td>2017-06-01</td>\n",
       "      <td>0.237809</td>\n",
       "    </tr>\n",
       "    <tr>\n",
       "      <th>9</th>\n",
       "      <td>2017-07-01</td>\n",
       "      <td>0.229964</td>\n",
       "    </tr>\n",
       "    <tr>\n",
       "      <th>10</th>\n",
       "      <td>2017-08-01</td>\n",
       "      <td>0.230143</td>\n",
       "    </tr>\n",
       "    <tr>\n",
       "      <th>11</th>\n",
       "      <td>2017-09-01</td>\n",
       "      <td>0.237162</td>\n",
       "    </tr>\n",
       "    <tr>\n",
       "      <th>12</th>\n",
       "      <td>2017-10-01</td>\n",
       "      <td>0.228925</td>\n",
       "    </tr>\n",
       "    <tr>\n",
       "      <th>13</th>\n",
       "      <td>2017-11-01</td>\n",
       "      <td>0.236777</td>\n",
       "    </tr>\n",
       "    <tr>\n",
       "      <th>14</th>\n",
       "      <td>2017-12-01</td>\n",
       "      <td>0.228417</td>\n",
       "    </tr>\n",
       "    <tr>\n",
       "      <th>15</th>\n",
       "      <td>2018-01-01</td>\n",
       "      <td>0.228882</td>\n",
       "    </tr>\n",
       "    <tr>\n",
       "      <th>16</th>\n",
       "      <td>2018-02-01</td>\n",
       "      <td>0.256055</td>\n",
       "    </tr>\n",
       "    <tr>\n",
       "      <th>17</th>\n",
       "      <td>2018-03-01</td>\n",
       "      <td>0.228713</td>\n",
       "    </tr>\n",
       "    <tr>\n",
       "      <th>18</th>\n",
       "      <td>2018-04-01</td>\n",
       "      <td>0.235202</td>\n",
       "    </tr>\n",
       "    <tr>\n",
       "      <th>19</th>\n",
       "      <td>2018-05-01</td>\n",
       "      <td>0.227696</td>\n",
       "    </tr>\n",
       "    <tr>\n",
       "      <th>20</th>\n",
       "      <td>2018-06-01</td>\n",
       "      <td>0.234796</td>\n",
       "    </tr>\n",
       "    <tr>\n",
       "      <th>21</th>\n",
       "      <td>2018-07-01</td>\n",
       "      <td>0.227990</td>\n",
       "    </tr>\n",
       "    <tr>\n",
       "      <th>22</th>\n",
       "      <td>2018-08-01</td>\n",
       "      <td>0.227274</td>\n",
       "    </tr>\n",
       "  </tbody>\n",
       "</table>\n",
       "</div>"
      ],
      "text/plain": [
       "   order_purchase_year_month  avg_purchase_by_week_by_month\n",
       "0                 2016-09-01                       0.233333\n",
       "1                 2016-10-01                       0.228392\n",
       "2                 2016-12-01                       0.225806\n",
       "3                 2017-01-01                       0.235870\n",
       "4                 2017-02-01                       0.253528\n",
       "5                 2017-03-01                       0.229228\n",
       "6                 2017-04-01                       0.236309\n",
       "7                 2017-05-01                       0.230155\n",
       "8                 2017-06-01                       0.237809\n",
       "9                 2017-07-01                       0.229964\n",
       "10                2017-08-01                       0.230143\n",
       "11                2017-09-01                       0.237162\n",
       "12                2017-10-01                       0.228925\n",
       "13                2017-11-01                       0.236777\n",
       "14                2017-12-01                       0.228417\n",
       "15                2018-01-01                       0.228882\n",
       "16                2018-02-01                       0.256055\n",
       "17                2018-03-01                       0.228713\n",
       "18                2018-04-01                       0.235202\n",
       "19                2018-05-01                       0.227696\n",
       "20                2018-06-01                       0.234796\n",
       "21                2018-07-01                       0.227990\n",
       "22                2018-08-01                       0.227274"
      ]
     },
     "execution_count": 222,
     "metadata": {},
     "output_type": "execute_result"
    }
   ],
   "source": [
    "df_month_avg"
   ]
  },
  {
   "cell_type": "code",
   "execution_count": 223,
   "id": "2a854b12",
   "metadata": {
    "ExecuteTime": {
     "end_time": "2023-04-02T07:36:13.268016Z",
     "start_time": "2023-04-02T07:36:12.739464Z"
    },
    "scrolled": false
   },
   "outputs": [
    {
     "data": {
      "text/plain": [
       "Text(0, 0.5, 'Среднее количество покупок в неделю')"
      ]
     },
     "execution_count": 223,
     "metadata": {},
     "output_type": "execute_result"
    },
    {
     "data": {
      "image/png": "[encoded data removed]",
      "text/plain": [
       "<Figure size 1296x648 with 1 Axes>"
      ]
     },
     "metadata": {},
     "output_type": "display_data"
    }
   ],
   "source": [
    "# визуализация\n",
    "plt.figure(figsize=(18, 9))\n",
    "ax = sns.lineplot(x=df_month_avg['order_purchase_year_month'].astype(str), y=df_month_avg['avg_purchase_by_week_by_month'])\n",
    "ax.tick_params(axis='x', labelrotation=45)\n",
    "ax.set_xlabel('Месяц')\n",
    "ax.set_ylabel('Среднее количество покупок в неделю')"
   ]
  },
  {
   "cell_type": "markdown",
   "id": "64a0ea30",
   "metadata": {},
   "source": [
    "С чем связаны всплески в феврале 2017 и феврале 2018?"
   ]
  },
  {
   "cell_type": "code",
   "execution_count": 224,
   "id": "37d6128a",
   "metadata": {
    "ExecuteTime": {
     "end_time": "2023-04-02T07:36:13.307150Z",
     "start_time": "2023-04-02T07:36:13.268016Z"
    }
   },
   "outputs": [
    {
     "data": {
      "text/html": [
       "<div>\n",
       "<style scoped>\n",
       "    .dataframe tbody tr th:only-of-type {\n",
       "        vertical-align: middle;\n",
       "    }\n",
       "\n",
       "    .dataframe tbody tr th {\n",
       "        vertical-align: top;\n",
       "    }\n",
       "\n",
       "    .dataframe thead th {\n",
       "        text-align: right;\n",
       "    }\n",
       "</style>\n",
       "<table border=\"1\" class=\"dataframe\">\n",
       "  <thead>\n",
       "    <tr style=\"text-align: right;\">\n",
       "      <th></th>\n",
       "      <th>order_purchase_year_month</th>\n",
       "      <th>customer_unique_id</th>\n",
       "      <th>orders_count</th>\n",
       "      <th>weeks_month</th>\n",
       "      <th>avg_purchase_by_week_by_user</th>\n",
       "    </tr>\n",
       "  </thead>\n",
       "  <tbody>\n",
       "    <tr>\n",
       "      <th>982</th>\n",
       "      <td>2017-02-01</td>\n",
       "      <td>002b4cd83fabaffaa475f78ea5ef3e08</td>\n",
       "      <td>1</td>\n",
       "      <td>4.0</td>\n",
       "      <td>0.25</td>\n",
       "    </tr>\n",
       "    <tr>\n",
       "      <th>983</th>\n",
       "      <td>2017-02-01</td>\n",
       "      <td>0087eede471173af78d789df249c3a45</td>\n",
       "      <td>1</td>\n",
       "      <td>4.0</td>\n",
       "      <td>0.25</td>\n",
       "    </tr>\n",
       "    <tr>\n",
       "      <th>984</th>\n",
       "      <td>2017-02-01</td>\n",
       "      <td>012b8001e47392df808a454083a74b74</td>\n",
       "      <td>1</td>\n",
       "      <td>4.0</td>\n",
       "      <td>0.25</td>\n",
       "    </tr>\n",
       "    <tr>\n",
       "      <th>985</th>\n",
       "      <td>2017-02-01</td>\n",
       "      <td>01469c41b00bb21cd01d2104b8e81384</td>\n",
       "      <td>1</td>\n",
       "      <td>4.0</td>\n",
       "      <td>0.25</td>\n",
       "    </tr>\n",
       "    <tr>\n",
       "      <th>986</th>\n",
       "      <td>2017-02-01</td>\n",
       "      <td>016feebfaba953a2456d3a063b8eb8ef</td>\n",
       "      <td>1</td>\n",
       "      <td>4.0</td>\n",
       "      <td>0.25</td>\n",
       "    </tr>\n",
       "  </tbody>\n",
       "</table>\n",
       "</div>"
      ],
      "text/plain": [
       "    order_purchase_year_month                customer_unique_id  orders_count  \\\n",
       "982                2017-02-01  002b4cd83fabaffaa475f78ea5ef3e08             1   \n",
       "983                2017-02-01  0087eede471173af78d789df249c3a45             1   \n",
       "984                2017-02-01  012b8001e47392df808a454083a74b74             1   \n",
       "985                2017-02-01  01469c41b00bb21cd01d2104b8e81384             1   \n",
       "986                2017-02-01  016feebfaba953a2456d3a063b8eb8ef             1   \n",
       "\n",
       "     weeks_month  avg_purchase_by_week_by_user  \n",
       "982          4.0                          0.25  \n",
       "983          4.0                          0.25  \n",
       "984          4.0                          0.25  \n",
       "985          4.0                          0.25  \n",
       "986          4.0                          0.25  "
      ]
     },
     "execution_count": 224,
     "metadata": {},
     "output_type": "execute_result"
    }
   ],
   "source": [
    "# проверим записи о покупках\n",
    "df_month_user_id_count.query('order_purchase_year_month == \"2017-02-01\"').head()"
   ]
  },
  {
   "cell_type": "code",
   "execution_count": 225,
   "id": "64d6d36b",
   "metadata": {
    "ExecuteTime": {
     "end_time": "2023-04-02T07:36:13.339168Z",
     "start_time": "2023-04-02T07:36:13.307150Z"
    }
   },
   "outputs": [
    {
     "data": {
      "text/html": [
       "<div>\n",
       "<style scoped>\n",
       "    .dataframe tbody tr th:only-of-type {\n",
       "        vertical-align: middle;\n",
       "    }\n",
       "\n",
       "    .dataframe tbody tr th {\n",
       "        vertical-align: top;\n",
       "    }\n",
       "\n",
       "    .dataframe thead th {\n",
       "        text-align: right;\n",
       "    }\n",
       "</style>\n",
       "<table border=\"1\" class=\"dataframe\">\n",
       "  <thead>\n",
       "    <tr style=\"text-align: right;\">\n",
       "      <th></th>\n",
       "      <th>order_purchase_year_month</th>\n",
       "      <th>customer_unique_id</th>\n",
       "      <th>orders_count</th>\n",
       "      <th>weeks_month</th>\n",
       "      <th>avg_purchase_by_week_by_user</th>\n",
       "    </tr>\n",
       "  </thead>\n",
       "  <tbody>\n",
       "    <tr>\n",
       "      <th>49972</th>\n",
       "      <td>2018-02-01</td>\n",
       "      <td>00053a61a98854899e70ed204dd4bafe</td>\n",
       "      <td>1</td>\n",
       "      <td>4.0</td>\n",
       "      <td>0.25</td>\n",
       "    </tr>\n",
       "    <tr>\n",
       "      <th>49973</th>\n",
       "      <td>2018-02-01</td>\n",
       "      <td>00196fdb2bf9edfc35e88ebfbcf8d781</td>\n",
       "      <td>1</td>\n",
       "      <td>4.0</td>\n",
       "      <td>0.25</td>\n",
       "    </tr>\n",
       "    <tr>\n",
       "      <th>49974</th>\n",
       "      <td>2018-02-01</td>\n",
       "      <td>0019da6aa6bcb27cc32f1249bd12da05</td>\n",
       "      <td>1</td>\n",
       "      <td>4.0</td>\n",
       "      <td>0.25</td>\n",
       "    </tr>\n",
       "    <tr>\n",
       "      <th>49975</th>\n",
       "      <td>2018-02-01</td>\n",
       "      <td>002aba8c1af80acacef6e011f9f23262</td>\n",
       "      <td>1</td>\n",
       "      <td>4.0</td>\n",
       "      <td>0.25</td>\n",
       "    </tr>\n",
       "    <tr>\n",
       "      <th>49976</th>\n",
       "      <td>2018-02-01</td>\n",
       "      <td>002ef00822613c94613e60e03b169fef</td>\n",
       "      <td>1</td>\n",
       "      <td>4.0</td>\n",
       "      <td>0.25</td>\n",
       "    </tr>\n",
       "  </tbody>\n",
       "</table>\n",
       "</div>"
      ],
      "text/plain": [
       "      order_purchase_year_month                customer_unique_id  \\\n",
       "49972                2018-02-01  00053a61a98854899e70ed204dd4bafe   \n",
       "49973                2018-02-01  00196fdb2bf9edfc35e88ebfbcf8d781   \n",
       "49974                2018-02-01  0019da6aa6bcb27cc32f1249bd12da05   \n",
       "49975                2018-02-01  002aba8c1af80acacef6e011f9f23262   \n",
       "49976                2018-02-01  002ef00822613c94613e60e03b169fef   \n",
       "\n",
       "       orders_count  weeks_month  avg_purchase_by_week_by_user  \n",
       "49972             1          4.0                          0.25  \n",
       "49973             1          4.0                          0.25  \n",
       "49974             1          4.0                          0.25  \n",
       "49975             1          4.0                          0.25  \n",
       "49976             1          4.0                          0.25  "
      ]
     },
     "execution_count": 225,
     "metadata": {},
     "output_type": "execute_result"
    }
   ],
   "source": [
    "df_month_user_id_count.query('order_purchase_year_month == \"2018-02-01\"').head()"
   ]
  },
  {
   "cell_type": "markdown",
   "id": "9a207c7c",
   "metadata": {},
   "source": [
    "Так как в феврале 28 дней, что умещает в себя ровно 4 недели, при усреднении мы получили немного завышенную метрику. Проверим есть ли разница в процентном соотношении между количеством покупок в феврале 2017 и например апреле 2017."
   ]
  },
  {
   "cell_type": "code",
   "execution_count": 226,
   "id": "9cb74d94",
   "metadata": {
    "ExecuteTime": {
     "end_time": "2023-04-02T07:36:13.371142Z",
     "start_time": "2023-04-02T07:36:13.339168Z"
    }
   },
   "outputs": [
    {
     "data": {
      "text/plain": [
       "1    0.987730\n",
       "2    0.011043\n",
       "4    0.000613\n",
       "3    0.000613\n",
       "Name: orders_count, dtype: float64"
      ]
     },
     "execution_count": 226,
     "metadata": {},
     "output_type": "execute_result"
    }
   ],
   "source": [
    "df_month_user_id_count.query('order_purchase_year_month == \"2017-02-01\"').orders_count.value_counts(normalize=True)"
   ]
  },
  {
   "cell_type": "code",
   "execution_count": 227,
   "id": "4ef48ef4",
   "metadata": {
    "ExecuteTime": {
     "end_time": "2023-04-02T07:36:13.403151Z",
     "start_time": "2023-04-02T07:36:13.371142Z"
    }
   },
   "outputs": [
    {
     "data": {
      "text/plain": [
       "1    0.988566\n",
       "2    0.010554\n",
       "4    0.000440\n",
       "3    0.000440\n",
       "Name: orders_count, dtype: float64"
      ]
     },
     "execution_count": 227,
     "metadata": {},
     "output_type": "execute_result"
    }
   ],
   "source": [
    "df_month_user_id_count.query('order_purchase_year_month == \"2017-04-01\"').orders_count.value_counts(normalize=True)"
   ]
  },
  {
   "cell_type": "markdown",
   "id": "d110bbc3",
   "metadata": {},
   "source": [
    "Сильных различий нет, а значит на графике мы видим всплеск из-за особенностей метода расчета данной метрики."
   ]
  },
  {
   "cell_type": "markdown",
   "id": "a5277afe",
   "metadata": {},
   "source": [
    "# Проведем когортный анализ пользователей. В период с января по декабрь выявим когорту с самым высоким retention на 3й месяц."
   ]
  },
  {
   "cell_type": "markdown",
   "id": "da916dc6",
   "metadata": {},
   "source": [
    "Сперва определим параметры когортного анализа. Так как мы смотрим на ключевой показатель retention, в качестве признака формирования когорты возьмем первый заказ клиента. Размер когорты - месяц, отчетный период: январь 2017 - декабрь 2017"
   ]
  },
  {
   "cell_type": "code",
   "execution_count": 228,
   "id": "b7d9b6be",
   "metadata": {
    "ExecuteTime": {
     "end_time": "2023-04-02T07:36:14.108085Z",
     "start_time": "2023-04-02T07:36:13.835145Z"
    }
   },
   "outputs": [],
   "source": [
    "# отберем только доставленные заказы и объединим таблицы\n",
    "df_order_customer = olist_orders_dataset.query('order_status == \"delivered\"') \\\n",
    "                                        .merge(olist_customers_dataset, how='inner', on='customer_id')"
   ]
  },
  {
   "cell_type": "code",
   "execution_count": 229,
   "id": "a5f67fac",
   "metadata": {
    "ExecuteTime": {
     "end_time": "2023-04-02T07:36:14.180993Z",
     "start_time": "2023-04-02T07:36:14.108085Z"
    }
   },
   "outputs": [],
   "source": [
    "# отберем заказы, совершенные в 2017 году\n",
    "df_order_customer = df_order_customer[df_order_customer.order_purchase_timestamp.dt.year == 2017]"
   ]
  },
  {
   "cell_type": "code",
   "execution_count": 230,
   "id": "0e332c90",
   "metadata": {
    "ExecuteTime": {
     "end_time": "2023-04-02T07:36:14.324990Z",
     "start_time": "2023-04-02T07:36:14.180993Z"
    }
   },
   "outputs": [],
   "source": [
    "# создадим колонку с месяцем первого заказа для каждого уникального клиента\n",
    "df_order_customer['cohort'] = df_order_customer \\\n",
    "                                                .groupby('customer_unique_id')['order_purchase_timestamp'] \\\n",
    "                                                .transform(min).astype('datetime64[M]')"
   ]
  },
  {
   "cell_type": "code",
   "execution_count": 231,
   "id": "a64ce171",
   "metadata": {
    "ExecuteTime": {
     "end_time": "2023-04-02T07:36:14.372661Z",
     "start_time": "2023-04-02T07:36:14.324990Z"
    }
   },
   "outputs": [
    {
     "data": {
      "text/html": [
       "<div>\n",
       "<style scoped>\n",
       "    .dataframe tbody tr th:only-of-type {\n",
       "        vertical-align: middle;\n",
       "    }\n",
       "\n",
       "    .dataframe tbody tr th {\n",
       "        vertical-align: top;\n",
       "    }\n",
       "\n",
       "    .dataframe thead th {\n",
       "        text-align: right;\n",
       "    }\n",
       "</style>\n",
       "<table border=\"1\" class=\"dataframe\">\n",
       "  <thead>\n",
       "    <tr style=\"text-align: right;\">\n",
       "      <th></th>\n",
       "      <th>order_id</th>\n",
       "      <th>customer_id</th>\n",
       "      <th>order_status</th>\n",
       "      <th>order_purchase_timestamp</th>\n",
       "      <th>order_approved_at</th>\n",
       "      <th>order_delivered_carrier_date</th>\n",
       "      <th>order_delivered_customer_date</th>\n",
       "      <th>order_estimated_delivery_date</th>\n",
       "      <th>order_purchase_year_month</th>\n",
       "      <th>customer_unique_id</th>\n",
       "      <th>customer_zip_code_prefix</th>\n",
       "      <th>customer_city</th>\n",
       "      <th>customer_state</th>\n",
       "      <th>cohort</th>\n",
       "    </tr>\n",
       "  </thead>\n",
       "  <tbody>\n",
       "    <tr>\n",
       "      <th>0</th>\n",
       "      <td>e481f51cbdc54678b7cc49136f2d6af7</td>\n",
       "      <td>9ef432eb6251297304e76186b10a928d</td>\n",
       "      <td>delivered</td>\n",
       "      <td>2017-10-02 10:56:33</td>\n",
       "      <td>2017-10-02 11:07:15</td>\n",
       "      <td>2017-10-04 19:55:00</td>\n",
       "      <td>2017-10-10 21:25:13</td>\n",
       "      <td>2017-10-18</td>\n",
       "      <td>2017-10-01</td>\n",
       "      <td>7c396fd4830fd04220f754e42b4e5bff</td>\n",
       "      <td>3149</td>\n",
       "      <td>sao paulo</td>\n",
       "      <td>SP</td>\n",
       "      <td>2017-09-01</td>\n",
       "    </tr>\n",
       "    <tr>\n",
       "      <th>3</th>\n",
       "      <td>949d5b44dbf5de918fe9c16f97b45f8a</td>\n",
       "      <td>f88197465ea7920adcdbec7375364d82</td>\n",
       "      <td>delivered</td>\n",
       "      <td>2017-11-18 19:28:06</td>\n",
       "      <td>2017-11-18 19:45:59</td>\n",
       "      <td>2017-11-22 13:39:59</td>\n",
       "      <td>2017-12-02 00:28:42</td>\n",
       "      <td>2017-12-15</td>\n",
       "      <td>2017-11-01</td>\n",
       "      <td>7c142cf63193a1473d2e66489a9ae977</td>\n",
       "      <td>59296</td>\n",
       "      <td>sao goncalo do amarante</td>\n",
       "      <td>RN</td>\n",
       "      <td>2017-11-01</td>\n",
       "    </tr>\n",
       "    <tr>\n",
       "      <th>5</th>\n",
       "      <td>a4591c265e18cb1dcee52889e2d8acc3</td>\n",
       "      <td>503740e9ca751ccdda7ba28e9ab8f608</td>\n",
       "      <td>delivered</td>\n",
       "      <td>2017-07-09 21:57:05</td>\n",
       "      <td>2017-07-09 22:10:13</td>\n",
       "      <td>2017-07-11 14:58:04</td>\n",
       "      <td>2017-07-26 10:57:55</td>\n",
       "      <td>2017-08-01</td>\n",
       "      <td>2017-07-01</td>\n",
       "      <td>80bb27c7c16e8f973207a5086ab329e2</td>\n",
       "      <td>86320</td>\n",
       "      <td>congonhinhas</td>\n",
       "      <td>PR</td>\n",
       "      <td>2017-07-01</td>\n",
       "    </tr>\n",
       "    <tr>\n",
       "      <th>6</th>\n",
       "      <td>6514b8ad8028c9f2cc2374ded245783f</td>\n",
       "      <td>9bdf08b4b3b52b5526ff42d37d47f222</td>\n",
       "      <td>delivered</td>\n",
       "      <td>2017-05-16 13:10:30</td>\n",
       "      <td>2017-05-16 13:22:11</td>\n",
       "      <td>2017-05-22 10:07:46</td>\n",
       "      <td>2017-05-26 12:55:51</td>\n",
       "      <td>2017-06-07</td>\n",
       "      <td>2017-05-01</td>\n",
       "      <td>932afa1e708222e5821dac9cd5db4cae</td>\n",
       "      <td>26525</td>\n",
       "      <td>nilopolis</td>\n",
       "      <td>RJ</td>\n",
       "      <td>2017-05-01</td>\n",
       "    </tr>\n",
       "    <tr>\n",
       "      <th>7</th>\n",
       "      <td>76c6e866289321a7c93b82b54852dc33</td>\n",
       "      <td>f54a9f0e6b351c431402b8461ea51999</td>\n",
       "      <td>delivered</td>\n",
       "      <td>2017-01-23 18:29:09</td>\n",
       "      <td>2017-01-25 02:50:47</td>\n",
       "      <td>2017-01-26 14:16:31</td>\n",
       "      <td>2017-02-02 14:08:10</td>\n",
       "      <td>2017-03-06</td>\n",
       "      <td>2017-01-01</td>\n",
       "      <td>39382392765b6dc74812866ee5ee92a7</td>\n",
       "      <td>99655</td>\n",
       "      <td>faxinalzinho</td>\n",
       "      <td>RS</td>\n",
       "      <td>2017-01-01</td>\n",
       "    </tr>\n",
       "  </tbody>\n",
       "</table>\n",
       "</div>"
      ],
      "text/plain": [
       "                           order_id                       customer_id  \\\n",
       "0  e481f51cbdc54678b7cc49136f2d6af7  9ef432eb6251297304e76186b10a928d   \n",
       "3  949d5b44dbf5de918fe9c16f97b45f8a  f88197465ea7920adcdbec7375364d82   \n",
       "5  a4591c265e18cb1dcee52889e2d8acc3  503740e9ca751ccdda7ba28e9ab8f608   \n",
       "6  6514b8ad8028c9f2cc2374ded245783f  9bdf08b4b3b52b5526ff42d37d47f222   \n",
       "7  76c6e866289321a7c93b82b54852dc33  f54a9f0e6b351c431402b8461ea51999   \n",
       "\n",
       "  order_status order_purchase_timestamp   order_approved_at  \\\n",
       "0    delivered      2017-10-02 10:56:33 2017-10-02 11:07:15   \n",
       "3    delivered      2017-11-18 19:28:06 2017-11-18 19:45:59   \n",
       "5    delivered      2017-07-09 21:57:05 2017-07-09 22:10:13   \n",
       "6    delivered      2017-05-16 13:10:30 2017-05-16 13:22:11   \n",
       "7    delivered      2017-01-23 18:29:09 2017-01-25 02:50:47   \n",
       "\n",
       "  order_delivered_carrier_date order_delivered_customer_date  \\\n",
       "0          2017-10-04 19:55:00           2017-10-10 21:25:13   \n",
       "3          2017-11-22 13:39:59           2017-12-02 00:28:42   \n",
       "5          2017-07-11 14:58:04           2017-07-26 10:57:55   \n",
       "6          2017-05-22 10:07:46           2017-05-26 12:55:51   \n",
       "7          2017-01-26 14:16:31           2017-02-02 14:08:10   \n",
       "\n",
       "  order_estimated_delivery_date order_purchase_year_month  \\\n",
       "0                    2017-10-18                2017-10-01   \n",
       "3                    2017-12-15                2017-11-01   \n",
       "5                    2017-08-01                2017-07-01   \n",
       "6                    2017-06-07                2017-05-01   \n",
       "7                    2017-03-06                2017-01-01   \n",
       "\n",
       "                 customer_unique_id  customer_zip_code_prefix  \\\n",
       "0  7c396fd4830fd04220f754e42b4e5bff                      3149   \n",
       "3  7c142cf63193a1473d2e66489a9ae977                     59296   \n",
       "5  80bb27c7c16e8f973207a5086ab329e2                     86320   \n",
       "6  932afa1e708222e5821dac9cd5db4cae                     26525   \n",
       "7  39382392765b6dc74812866ee5ee92a7                     99655   \n",
       "\n",
       "             customer_city customer_state     cohort  \n",
       "0                sao paulo             SP 2017-09-01  \n",
       "3  sao goncalo do amarante             RN 2017-11-01  \n",
       "5             congonhinhas             PR 2017-07-01  \n",
       "6                nilopolis             RJ 2017-05-01  \n",
       "7             faxinalzinho             RS 2017-01-01  "
      ]
     },
     "execution_count": 231,
     "metadata": {},
     "output_type": "execute_result"
    }
   ],
   "source": [
    "df_order_customer.head()"
   ]
  },
  {
   "cell_type": "code",
   "execution_count": 232,
   "id": "c83ec9c2",
   "metadata": {
    "ExecuteTime": {
     "end_time": "2023-04-02T07:36:14.420667Z",
     "start_time": "2023-04-02T07:36:14.372661Z"
    }
   },
   "outputs": [],
   "source": [
    "# группировка по когорте и месяцу заказа, подсчет уникальных клиентов\n",
    "retention = df_order_customer.groupby(['cohort', 'order_purchase_year_month'], as_index=False) \\\n",
    "                             .agg(count=('customer_unique_id', 'count'))"
   ]
  },
  {
   "cell_type": "code",
   "execution_count": 233,
   "id": "bb41b29b",
   "metadata": {
    "ExecuteTime": {
     "end_time": "2023-04-02T07:36:14.436659Z",
     "start_time": "2023-04-02T07:36:14.420667Z"
    }
   },
   "outputs": [],
   "source": [
    "# применяем оконную функцию для подсчета долей от количества новых клиентов в первый месяц\n",
    "retention['count'] = retention['count'] / retention.groupby('cohort')['count'].transform(max)"
   ]
  },
  {
   "cell_type": "code",
   "execution_count": 234,
   "id": "d7f68f76",
   "metadata": {
    "ExecuteTime": {
     "end_time": "2023-04-02T07:36:14.452658Z",
     "start_time": "2023-04-02T07:36:14.436659Z"
    }
   },
   "outputs": [],
   "source": [
    "# переименовываем колонки, назначаем индексы\n",
    "retention.rename(columns={'order_purchase_year_month': 'cohort_period', 'count': 'user_retention_by_cohort'}, inplace=True)\n",
    "retention.set_index(['cohort', 'cohort_period'], inplace=True)"
   ]
  },
  {
   "cell_type": "code",
   "execution_count": 235,
   "id": "3e5fbf7c",
   "metadata": {
    "ExecuteTime": {
     "end_time": "2023-04-02T07:36:14.548667Z",
     "start_time": "2023-04-02T07:36:14.524690Z"
    }
   },
   "outputs": [],
   "source": [
    "# строим сводную таблицу\n",
    "retention = retention.pivot_table(index='cohort', columns='cohort_period')"
   ]
  },
  {
   "cell_type": "code",
   "execution_count": 236,
   "id": "1c35da0b",
   "metadata": {
    "ExecuteTime": {
     "end_time": "2023-04-02T07:36:14.676937Z",
     "start_time": "2023-04-02T07:36:14.620679Z"
    }
   },
   "outputs": [
    {
     "data": {
      "text/html": [
       "<div>\n",
       "<style scoped>\n",
       "    .dataframe tbody tr th:only-of-type {\n",
       "        vertical-align: middle;\n",
       "    }\n",
       "\n",
       "    .dataframe tbody tr th {\n",
       "        vertical-align: top;\n",
       "    }\n",
       "\n",
       "    .dataframe thead tr th {\n",
       "        text-align: left;\n",
       "    }\n",
       "\n",
       "    .dataframe thead tr:last-of-type th {\n",
       "        text-align: right;\n",
       "    }\n",
       "</style>\n",
       "<table border=\"1\" class=\"dataframe\">\n",
       "  <thead>\n",
       "    <tr>\n",
       "      <th></th>\n",
       "      <th colspan=\"12\" halign=\"left\">user_retention_by_cohort</th>\n",
       "    </tr>\n",
       "    <tr>\n",
       "      <th>cohort_period</th>\n",
       "      <th>2017-01-01</th>\n",
       "      <th>2017-02-01</th>\n",
       "      <th>2017-03-01</th>\n",
       "      <th>2017-04-01</th>\n",
       "      <th>2017-05-01</th>\n",
       "      <th>2017-06-01</th>\n",
       "      <th>2017-07-01</th>\n",
       "      <th>2017-08-01</th>\n",
       "      <th>2017-09-01</th>\n",
       "      <th>2017-10-01</th>\n",
       "      <th>2017-11-01</th>\n",
       "      <th>2017-12-01</th>\n",
       "    </tr>\n",
       "    <tr>\n",
       "      <th>cohort</th>\n",
       "      <th></th>\n",
       "      <th></th>\n",
       "      <th></th>\n",
       "      <th></th>\n",
       "      <th></th>\n",
       "      <th></th>\n",
       "      <th></th>\n",
       "      <th></th>\n",
       "      <th></th>\n",
       "      <th></th>\n",
       "      <th></th>\n",
       "      <th></th>\n",
       "    </tr>\n",
       "  </thead>\n",
       "  <tbody>\n",
       "    <tr>\n",
       "      <th>2017-01-01</th>\n",
       "      <td>1.0</td>\n",
       "      <td>0.002667</td>\n",
       "      <td>0.002667</td>\n",
       "      <td>0.001333</td>\n",
       "      <td>0.004000</td>\n",
       "      <td>0.001333</td>\n",
       "      <td>0.004000</td>\n",
       "      <td>0.001333</td>\n",
       "      <td>0.001333</td>\n",
       "      <td>NaN</td>\n",
       "      <td>0.004000</td>\n",
       "      <td>0.001333</td>\n",
       "    </tr>\n",
       "    <tr>\n",
       "      <th>2017-02-01</th>\n",
       "      <td>NaN</td>\n",
       "      <td>1.000000</td>\n",
       "      <td>0.001817</td>\n",
       "      <td>0.003028</td>\n",
       "      <td>0.001211</td>\n",
       "      <td>0.004240</td>\n",
       "      <td>0.001211</td>\n",
       "      <td>0.002423</td>\n",
       "      <td>0.001817</td>\n",
       "      <td>0.001211</td>\n",
       "      <td>0.001817</td>\n",
       "      <td>0.001211</td>\n",
       "    </tr>\n",
       "    <tr>\n",
       "      <th>2017-03-01</th>\n",
       "      <td>NaN</td>\n",
       "      <td>NaN</td>\n",
       "      <td>1.000000</td>\n",
       "      <td>0.004723</td>\n",
       "      <td>0.003542</td>\n",
       "      <td>0.004723</td>\n",
       "      <td>0.003542</td>\n",
       "      <td>0.001574</td>\n",
       "      <td>0.001574</td>\n",
       "      <td>0.003148</td>\n",
       "      <td>0.003148</td>\n",
       "      <td>0.000787</td>\n",
       "    </tr>\n",
       "    <tr>\n",
       "      <th>2017-04-01</th>\n",
       "      <td>NaN</td>\n",
       "      <td>NaN</td>\n",
       "      <td>NaN</td>\n",
       "      <td>1.000000</td>\n",
       "      <td>0.006565</td>\n",
       "      <td>0.002626</td>\n",
       "      <td>0.002188</td>\n",
       "      <td>0.002626</td>\n",
       "      <td>0.002626</td>\n",
       "      <td>0.003939</td>\n",
       "      <td>0.003063</td>\n",
       "      <td>0.003063</td>\n",
       "    </tr>\n",
       "    <tr>\n",
       "      <th>2017-05-01</th>\n",
       "      <td>NaN</td>\n",
       "      <td>NaN</td>\n",
       "      <td>NaN</td>\n",
       "      <td>NaN</td>\n",
       "      <td>1.000000</td>\n",
       "      <td>0.004834</td>\n",
       "      <td>0.004549</td>\n",
       "      <td>0.002843</td>\n",
       "      <td>0.002843</td>\n",
       "      <td>0.003412</td>\n",
       "      <td>0.004549</td>\n",
       "      <td>0.001422</td>\n",
       "    </tr>\n",
       "    <tr>\n",
       "      <th>2017-06-01</th>\n",
       "      <td>NaN</td>\n",
       "      <td>NaN</td>\n",
       "      <td>NaN</td>\n",
       "      <td>NaN</td>\n",
       "      <td>NaN</td>\n",
       "      <td>1.000000</td>\n",
       "      <td>0.005175</td>\n",
       "      <td>0.004204</td>\n",
       "      <td>0.004204</td>\n",
       "      <td>0.003234</td>\n",
       "      <td>0.003881</td>\n",
       "      <td>0.003558</td>\n",
       "    </tr>\n",
       "    <tr>\n",
       "      <th>2017-07-01</th>\n",
       "      <td>NaN</td>\n",
       "      <td>NaN</td>\n",
       "      <td>NaN</td>\n",
       "      <td>NaN</td>\n",
       "      <td>NaN</td>\n",
       "      <td>NaN</td>\n",
       "      <td>1.000000</td>\n",
       "      <td>0.005758</td>\n",
       "      <td>0.003402</td>\n",
       "      <td>0.002355</td>\n",
       "      <td>0.003402</td>\n",
       "      <td>0.002094</td>\n",
       "    </tr>\n",
       "    <tr>\n",
       "      <th>2017-08-01</th>\n",
       "      <td>NaN</td>\n",
       "      <td>NaN</td>\n",
       "      <td>NaN</td>\n",
       "      <td>NaN</td>\n",
       "      <td>NaN</td>\n",
       "      <td>NaN</td>\n",
       "      <td>NaN</td>\n",
       "      <td>1.000000</td>\n",
       "      <td>0.007017</td>\n",
       "      <td>0.003871</td>\n",
       "      <td>0.002662</td>\n",
       "      <td>0.003387</td>\n",
       "    </tr>\n",
       "    <tr>\n",
       "      <th>2017-09-01</th>\n",
       "      <td>NaN</td>\n",
       "      <td>NaN</td>\n",
       "      <td>NaN</td>\n",
       "      <td>NaN</td>\n",
       "      <td>NaN</td>\n",
       "      <td>NaN</td>\n",
       "      <td>NaN</td>\n",
       "      <td>NaN</td>\n",
       "      <td>1.000000</td>\n",
       "      <td>0.006878</td>\n",
       "      <td>0.005404</td>\n",
       "      <td>0.003685</td>\n",
       "    </tr>\n",
       "    <tr>\n",
       "      <th>2017-10-01</th>\n",
       "      <td>NaN</td>\n",
       "      <td>NaN</td>\n",
       "      <td>NaN</td>\n",
       "      <td>NaN</td>\n",
       "      <td>NaN</td>\n",
       "      <td>NaN</td>\n",
       "      <td>NaN</td>\n",
       "      <td>NaN</td>\n",
       "      <td>NaN</td>\n",
       "      <td>1.000000</td>\n",
       "      <td>0.007527</td>\n",
       "      <td>0.002509</td>\n",
       "    </tr>\n",
       "    <tr>\n",
       "      <th>2017-11-01</th>\n",
       "      <td>NaN</td>\n",
       "      <td>NaN</td>\n",
       "      <td>NaN</td>\n",
       "      <td>NaN</td>\n",
       "      <td>NaN</td>\n",
       "      <td>NaN</td>\n",
       "      <td>NaN</td>\n",
       "      <td>NaN</td>\n",
       "      <td>NaN</td>\n",
       "      <td>NaN</td>\n",
       "      <td>1.000000</td>\n",
       "      <td>0.005865</td>\n",
       "    </tr>\n",
       "    <tr>\n",
       "      <th>2017-12-01</th>\n",
       "      <td>NaN</td>\n",
       "      <td>NaN</td>\n",
       "      <td>NaN</td>\n",
       "      <td>NaN</td>\n",
       "      <td>NaN</td>\n",
       "      <td>NaN</td>\n",
       "      <td>NaN</td>\n",
       "      <td>NaN</td>\n",
       "      <td>NaN</td>\n",
       "      <td>NaN</td>\n",
       "      <td>NaN</td>\n",
       "      <td>1.000000</td>\n",
       "    </tr>\n",
       "  </tbody>\n",
       "</table>\n",
       "</div>"
      ],
      "text/plain": [
       "              user_retention_by_cohort                                   \\\n",
       "cohort_period               2017-01-01 2017-02-01 2017-03-01 2017-04-01   \n",
       "cohort                                                                    \n",
       "2017-01-01                         1.0   0.002667   0.002667   0.001333   \n",
       "2017-02-01                         NaN   1.000000   0.001817   0.003028   \n",
       "2017-03-01                         NaN        NaN   1.000000   0.004723   \n",
       "2017-04-01                         NaN        NaN        NaN   1.000000   \n",
       "2017-05-01                         NaN        NaN        NaN        NaN   \n",
       "2017-06-01                         NaN        NaN        NaN        NaN   \n",
       "2017-07-01                         NaN        NaN        NaN        NaN   \n",
       "2017-08-01                         NaN        NaN        NaN        NaN   \n",
       "2017-09-01                         NaN        NaN        NaN        NaN   \n",
       "2017-10-01                         NaN        NaN        NaN        NaN   \n",
       "2017-11-01                         NaN        NaN        NaN        NaN   \n",
       "2017-12-01                         NaN        NaN        NaN        NaN   \n",
       "\n",
       "                                                                      \\\n",
       "cohort_period 2017-05-01 2017-06-01 2017-07-01 2017-08-01 2017-09-01   \n",
       "cohort                                                                 \n",
       "2017-01-01      0.004000   0.001333   0.004000   0.001333   0.001333   \n",
       "2017-02-01      0.001211   0.004240   0.001211   0.002423   0.001817   \n",
       "2017-03-01      0.003542   0.004723   0.003542   0.001574   0.001574   \n",
       "2017-04-01      0.006565   0.002626   0.002188   0.002626   0.002626   \n",
       "2017-05-01      1.000000   0.004834   0.004549   0.002843   0.002843   \n",
       "2017-06-01           NaN   1.000000   0.005175   0.004204   0.004204   \n",
       "2017-07-01           NaN        NaN   1.000000   0.005758   0.003402   \n",
       "2017-08-01           NaN        NaN        NaN   1.000000   0.007017   \n",
       "2017-09-01           NaN        NaN        NaN        NaN   1.000000   \n",
       "2017-10-01           NaN        NaN        NaN        NaN        NaN   \n",
       "2017-11-01           NaN        NaN        NaN        NaN        NaN   \n",
       "2017-12-01           NaN        NaN        NaN        NaN        NaN   \n",
       "\n",
       "                                                \n",
       "cohort_period 2017-10-01 2017-11-01 2017-12-01  \n",
       "cohort                                          \n",
       "2017-01-01           NaN   0.004000   0.001333  \n",
       "2017-02-01      0.001211   0.001817   0.001211  \n",
       "2017-03-01      0.003148   0.003148   0.000787  \n",
       "2017-04-01      0.003939   0.003063   0.003063  \n",
       "2017-05-01      0.003412   0.004549   0.001422  \n",
       "2017-06-01      0.003234   0.003881   0.003558  \n",
       "2017-07-01      0.002355   0.003402   0.002094  \n",
       "2017-08-01      0.003871   0.002662   0.003387  \n",
       "2017-09-01      0.006878   0.005404   0.003685  \n",
       "2017-10-01      1.000000   0.007527   0.002509  \n",
       "2017-11-01           NaN   1.000000   0.005865  \n",
       "2017-12-01           NaN        NaN   1.000000  "
      ]
     },
     "execution_count": 236,
     "metadata": {},
     "output_type": "execute_result"
    }
   ],
   "source": [
    "retention"
   ]
  },
  {
   "cell_type": "markdown",
   "id": "b0d31c03",
   "metadata": {},
   "source": [
    "Мы можем ответить на поставленный вопрос по этой таблице, но для наглядности проведем некоторые преобразования:"
   ]
  },
  {
   "cell_type": "code",
   "execution_count": 237,
   "id": "e202ba8d",
   "metadata": {
    "ExecuteTime": {
     "end_time": "2023-04-02T07:36:15.105097Z",
     "start_time": "2023-04-02T07:36:15.084650Z"
    },
    "scrolled": true
   },
   "outputs": [],
   "source": [
    "#Теперь создадим колонку с номером месяца жизни клиента, чтобы посмотреть на retention в более удобном формате\n",
    "df_order_customer['lifetime'] = (\n",
    "((df_order_customer['order_purchase_year_month'] - df_order_customer['cohort']) / np.timedelta64(1, 'M')) \\\n",
    "                                                                            .round().astype(int))"
   ]
  },
  {
   "cell_type": "code",
   "execution_count": 238,
   "id": "4fbe7b11",
   "metadata": {
    "ExecuteTime": {
     "end_time": "2023-04-02T07:36:15.193112Z",
     "start_time": "2023-04-02T07:36:15.153088Z"
    }
   },
   "outputs": [],
   "source": [
    "# проделаем все те же самые операции\n",
    "retention = df_order_customer.groupby(['cohort', 'lifetime'], as_index=False) \\\n",
    "                             .agg(count=('customer_unique_id', 'count'))"
   ]
  },
  {
   "cell_type": "code",
   "execution_count": 239,
   "id": "6aead4c2",
   "metadata": {
    "ExecuteTime": {
     "end_time": "2023-04-02T07:36:15.241082Z",
     "start_time": "2023-04-02T07:36:15.225085Z"
    }
   },
   "outputs": [],
   "source": [
    "retention['count'] = retention['count'] / retention.groupby('cohort')['count'].transform(max)"
   ]
  },
  {
   "cell_type": "code",
   "execution_count": 240,
   "id": "1bcee83c",
   "metadata": {
    "ExecuteTime": {
     "end_time": "2023-04-02T07:36:15.329099Z",
     "start_time": "2023-04-02T07:36:15.305106Z"
    }
   },
   "outputs": [],
   "source": [
    "# перевод колонки cohort к типу string для отсечки нулей в datetime64\n",
    "retention['cohort'] = retention['cohort'].astype('str')"
   ]
  },
  {
   "cell_type": "code",
   "execution_count": 241,
   "id": "cf4aa568",
   "metadata": {
    "ExecuteTime": {
     "end_time": "2023-04-02T07:36:15.425119Z",
     "start_time": "2023-04-02T07:36:15.401120Z"
    }
   },
   "outputs": [],
   "source": [
    "retention.rename(columns={'lifetime': 'cohort_period', 'count': 'user_retention_by_cohort'}, inplace=True)\n",
    "retention.set_index(['cohort', 'cohort_period'], inplace=True)"
   ]
  },
  {
   "cell_type": "code",
   "execution_count": 242,
   "id": "2499beee",
   "metadata": {
    "ExecuteTime": {
     "end_time": "2023-04-02T07:36:15.505118Z",
     "start_time": "2023-04-02T07:36:15.473120Z"
    }
   },
   "outputs": [],
   "source": [
    "retention = retention.pivot_table(index='cohort', columns='cohort_period')"
   ]
  },
  {
   "cell_type": "code",
   "execution_count": 243,
   "id": "9c56fc28",
   "metadata": {
    "ExecuteTime": {
     "end_time": "2023-04-02T07:36:15.641091Z",
     "start_time": "2023-04-02T07:36:15.553094Z"
    }
   },
   "outputs": [
    {
     "data": {
      "text/html": [
       "<style type=\"text/css\">\n",
       "#T_48554_row0_col0, #T_48554_row0_col7, #T_48554_row0_col11, #T_48554_row1_col0, #T_48554_row1_col1, #T_48554_row1_col3, #T_48554_row1_col5, #T_48554_row1_col8, #T_48554_row1_col10, #T_48554_row2_col0, #T_48554_row2_col6, #T_48554_row2_col9, #T_48554_row3_col0, #T_48554_row3_col4, #T_48554_row4_col0, #T_48554_row5_col0, #T_48554_row6_col0, #T_48554_row7_col0, #T_48554_row8_col0, #T_48554_row9_col0, #T_48554_row9_col2, #T_48554_row10_col0, #T_48554_row11_col0 {\n",
       "  background-color: #440154;\n",
       "  color: #f1f1f1;\n",
       "}\n",
       "#T_48554_row0_col1 {\n",
       "  background-color: #463480;\n",
       "  color: #f1f1f1;\n",
       "}\n",
       "#T_48554_row0_col2 {\n",
       "  background-color: #481467;\n",
       "  color: #f1f1f1;\n",
       "}\n",
       "#T_48554_row0_col3 {\n",
       "  background-color: #470d60;\n",
       "  color: #f1f1f1;\n",
       "}\n",
       "#T_48554_row0_col4 {\n",
       "  background-color: #9bd93c;\n",
       "  color: #000000;\n",
       "}\n",
       "#T_48554_row0_col5 {\n",
       "  background-color: #471164;\n",
       "  color: #f1f1f1;\n",
       "}\n",
       "#T_48554_row0_col6 {\n",
       "  background-color: #84d44b;\n",
       "  color: #000000;\n",
       "}\n",
       "#T_48554_row0_col8 {\n",
       "  background-color: #48186a;\n",
       "  color: #f1f1f1;\n",
       "}\n",
       "#T_48554_row0_col9, #T_48554_row2_col10, #T_48554_row3_col9, #T_48554_row3_col10, #T_48554_row4_col8, #T_48554_row4_col9, #T_48554_row4_col10, #T_48554_row5_col7, #T_48554_row5_col8, #T_48554_row5_col9, #T_48554_row5_col10, #T_48554_row6_col6, #T_48554_row6_col7, #T_48554_row6_col8, #T_48554_row6_col9, #T_48554_row6_col10, #T_48554_row7_col5, #T_48554_row7_col6, #T_48554_row7_col7, #T_48554_row7_col8, #T_48554_row7_col9, #T_48554_row7_col10, #T_48554_row8_col4, #T_48554_row8_col5, #T_48554_row8_col6, #T_48554_row8_col7, #T_48554_row8_col8, #T_48554_row8_col9, #T_48554_row8_col10, #T_48554_row9_col3, #T_48554_row9_col4, #T_48554_row9_col5, #T_48554_row9_col6, #T_48554_row9_col7, #T_48554_row9_col8, #T_48554_row9_col9, #T_48554_row9_col10, #T_48554_row10_col2, #T_48554_row10_col3, #T_48554_row10_col4, #T_48554_row10_col5, #T_48554_row10_col6, #T_48554_row10_col7, #T_48554_row10_col8, #T_48554_row10_col9, #T_48554_row10_col10, #T_48554_row11_col1, #T_48554_row11_col2, #T_48554_row11_col3, #T_48554_row11_col4, #T_48554_row11_col5, #T_48554_row11_col6, #T_48554_row11_col7, #T_48554_row11_col8, #T_48554_row11_col9, #T_48554_row11_col10 {\n",
       "  background-color: #000000;\n",
       "  color: #f1f1f1;\n",
       "  background-color: white;\n",
       "}\n",
       "#T_48554_row0_col10, #T_48554_row1_col4, #T_48554_row1_col9, #T_48554_row2_col3, #T_48554_row2_col7, #T_48554_row2_col8, #T_48554_row4_col6, #T_48554_row5_col5, #T_48554_row8_col2, #T_48554_row9_col1 {\n",
       "  background-color: #fde725;\n",
       "  color: #000000;\n",
       "}\n",
       "#T_48554_row1_col2 {\n",
       "  background-color: #433d84;\n",
       "  color: #f1f1f1;\n",
       "}\n",
       "#T_48554_row1_col6 {\n",
       "  background-color: #365c8d;\n",
       "  color: #f1f1f1;\n",
       "}\n",
       "#T_48554_row1_col7 {\n",
       "  background-color: #39568c;\n",
       "  color: #f1f1f1;\n",
       "}\n",
       "#T_48554_row1_col11, #T_48554_row2_col11, #T_48554_row3_col11, #T_48554_row4_col11, #T_48554_row5_col11, #T_48554_row6_col11, #T_48554_row7_col11, #T_48554_row8_col11, #T_48554_row9_col11, #T_48554_row10_col11, #T_48554_row11_col11 {\n",
       "  background-color: #440154;\n",
       "  color: #f1f1f1;\n",
       "  background-color: white;\n",
       "}\n",
       "#T_48554_row2_col1 {\n",
       "  background-color: #20928c;\n",
       "  color: #f1f1f1;\n",
       "}\n",
       "#T_48554_row2_col2 {\n",
       "  background-color: #2e6e8e;\n",
       "  color: #f1f1f1;\n",
       "}\n",
       "#T_48554_row2_col4 {\n",
       "  background-color: #1fa188;\n",
       "  color: #f1f1f1;\n",
       "}\n",
       "#T_48554_row2_col5, #T_48554_row4_col4 {\n",
       "  background-color: #472f7d;\n",
       "  color: #f1f1f1;\n",
       "}\n",
       "#T_48554_row3_col1 {\n",
       "  background-color: #8ed645;\n",
       "  color: #000000;\n",
       "}\n",
       "#T_48554_row3_col2 {\n",
       "  background-color: #471063;\n",
       "  color: #f1f1f1;\n",
       "}\n",
       "#T_48554_row3_col3 {\n",
       "  background-color: #375a8c;\n",
       "  color: #f1f1f1;\n",
       "}\n",
       "#T_48554_row3_col5, #T_48554_row4_col1 {\n",
       "  background-color: #1f978b;\n",
       "  color: #f1f1f1;\n",
       "}\n",
       "#T_48554_row3_col6 {\n",
       "  background-color: #77d153;\n",
       "  color: #000000;\n",
       "}\n",
       "#T_48554_row3_col7, #T_48554_row3_col8 {\n",
       "  background-color: #e2e418;\n",
       "  color: #000000;\n",
       "}\n",
       "#T_48554_row4_col2, #T_48554_row8_col3 {\n",
       "  background-color: #46c06f;\n",
       "  color: #f1f1f1;\n",
       "}\n",
       "#T_48554_row4_col3 {\n",
       "  background-color: #24878e;\n",
       "  color: #f1f1f1;\n",
       "}\n",
       "#T_48554_row4_col5 {\n",
       "  background-color: #8bd646;\n",
       "  color: #000000;\n",
       "}\n",
       "#T_48554_row4_col7 {\n",
       "  background-color: #471365;\n",
       "  color: #f1f1f1;\n",
       "}\n",
       "#T_48554_row5_col1 {\n",
       "  background-color: #21a585;\n",
       "  color: #f1f1f1;\n",
       "}\n",
       "#T_48554_row5_col2 {\n",
       "  background-color: #20a486;\n",
       "  color: #f1f1f1;\n",
       "}\n",
       "#T_48554_row5_col3 {\n",
       "  background-color: #9dd93b;\n",
       "  color: #000000;\n",
       "}\n",
       "#T_48554_row5_col4 {\n",
       "  background-color: #2c728e;\n",
       "  color: #f1f1f1;\n",
       "}\n",
       "#T_48554_row5_col6 {\n",
       "  background-color: #35b779;\n",
       "  color: #f1f1f1;\n",
       "}\n",
       "#T_48554_row6_col1 {\n",
       "  background-color: #3fbc73;\n",
       "  color: #f1f1f1;\n",
       "}\n",
       "#T_48554_row6_col2 {\n",
       "  background-color: #34618d;\n",
       "  color: #f1f1f1;\n",
       "}\n",
       "#T_48554_row6_col3 {\n",
       "  background-color: #31668e;\n",
       "  color: #f1f1f1;\n",
       "}\n",
       "#T_48554_row6_col4 {\n",
       "  background-color: #228c8d;\n",
       "  color: #f1f1f1;\n",
       "}\n",
       "#T_48554_row6_col5 {\n",
       "  background-color: #31678e;\n",
       "  color: #f1f1f1;\n",
       "}\n",
       "#T_48554_row7_col1 {\n",
       "  background-color: #c5e021;\n",
       "  color: #000000;\n",
       "}\n",
       "#T_48554_row7_col2, #T_48554_row7_col4 {\n",
       "  background-color: #23898e;\n",
       "  color: #f1f1f1;\n",
       "}\n",
       "#T_48554_row7_col3 {\n",
       "  background-color: #297b8e;\n",
       "  color: #f1f1f1;\n",
       "}\n",
       "#T_48554_row8_col1 {\n",
       "  background-color: #b2dd2d;\n",
       "  color: #000000;\n",
       "}\n",
       "#T_48554_row10_col1 {\n",
       "  background-color: #48c16e;\n",
       "  color: #f1f1f1;\n",
       "}\n",
       "</style>\n",
       "<table id=\"T_48554\">\n",
       "  <thead>\n",
       "    <tr>\n",
       "      <th class=\"blank level0\" >&nbsp;</th>\n",
       "      <th id=\"T_48554_level0_col0\" class=\"col_heading level0 col0\" colspan=\"12\">user_retention_by_cohort</th>\n",
       "    </tr>\n",
       "    <tr>\n",
       "      <th class=\"index_name level1\" >cohort_period</th>\n",
       "      <th id=\"T_48554_level1_col0\" class=\"col_heading level1 col0\" >0</th>\n",
       "      <th id=\"T_48554_level1_col1\" class=\"col_heading level1 col1\" >1</th>\n",
       "      <th id=\"T_48554_level1_col2\" class=\"col_heading level1 col2\" >2</th>\n",
       "      <th id=\"T_48554_level1_col3\" class=\"col_heading level1 col3\" >3</th>\n",
       "      <th id=\"T_48554_level1_col4\" class=\"col_heading level1 col4\" >4</th>\n",
       "      <th id=\"T_48554_level1_col5\" class=\"col_heading level1 col5\" >5</th>\n",
       "      <th id=\"T_48554_level1_col6\" class=\"col_heading level1 col6\" >6</th>\n",
       "      <th id=\"T_48554_level1_col7\" class=\"col_heading level1 col7\" >7</th>\n",
       "      <th id=\"T_48554_level1_col8\" class=\"col_heading level1 col8\" >8</th>\n",
       "      <th id=\"T_48554_level1_col9\" class=\"col_heading level1 col9\" >9</th>\n",
       "      <th id=\"T_48554_level1_col10\" class=\"col_heading level1 col10\" >10</th>\n",
       "      <th id=\"T_48554_level1_col11\" class=\"col_heading level1 col11\" >11</th>\n",
       "    </tr>\n",
       "    <tr>\n",
       "      <th class=\"index_name level0\" >cohort</th>\n",
       "      <th class=\"blank col0\" >&nbsp;</th>\n",
       "      <th class=\"blank col1\" >&nbsp;</th>\n",
       "      <th class=\"blank col2\" >&nbsp;</th>\n",
       "      <th class=\"blank col3\" >&nbsp;</th>\n",
       "      <th class=\"blank col4\" >&nbsp;</th>\n",
       "      <th class=\"blank col5\" >&nbsp;</th>\n",
       "      <th class=\"blank col6\" >&nbsp;</th>\n",
       "      <th class=\"blank col7\" >&nbsp;</th>\n",
       "      <th class=\"blank col8\" >&nbsp;</th>\n",
       "      <th class=\"blank col9\" >&nbsp;</th>\n",
       "      <th class=\"blank col10\" >&nbsp;</th>\n",
       "      <th class=\"blank col11\" >&nbsp;</th>\n",
       "    </tr>\n",
       "  </thead>\n",
       "  <tbody>\n",
       "    <tr>\n",
       "      <th id=\"T_48554_level0_row0\" class=\"row_heading level0 row0\" >2017-01-01</th>\n",
       "      <td id=\"T_48554_row0_col0\" class=\"data row0 col0\" >100.00%</td>\n",
       "      <td id=\"T_48554_row0_col1\" class=\"data row0 col1\" >0.27%</td>\n",
       "      <td id=\"T_48554_row0_col2\" class=\"data row0 col2\" >0.27%</td>\n",
       "      <td id=\"T_48554_row0_col3\" class=\"data row0 col3\" >0.13%</td>\n",
       "      <td id=\"T_48554_row0_col4\" class=\"data row0 col4\" >0.40%</td>\n",
       "      <td id=\"T_48554_row0_col5\" class=\"data row0 col5\" >0.13%</td>\n",
       "      <td id=\"T_48554_row0_col6\" class=\"data row0 col6\" >0.40%</td>\n",
       "      <td id=\"T_48554_row0_col7\" class=\"data row0 col7\" >0.13%</td>\n",
       "      <td id=\"T_48554_row0_col8\" class=\"data row0 col8\" >0.13%</td>\n",
       "      <td id=\"T_48554_row0_col9\" class=\"data row0 col9\" ></td>\n",
       "      <td id=\"T_48554_row0_col10\" class=\"data row0 col10\" >0.40%</td>\n",
       "      <td id=\"T_48554_row0_col11\" class=\"data row0 col11\" >0.13%</td>\n",
       "    </tr>\n",
       "    <tr>\n",
       "      <th id=\"T_48554_level0_row1\" class=\"row_heading level0 row1\" >2017-02-01</th>\n",
       "      <td id=\"T_48554_row1_col0\" class=\"data row1 col0\" >100.00%</td>\n",
       "      <td id=\"T_48554_row1_col1\" class=\"data row1 col1\" >0.18%</td>\n",
       "      <td id=\"T_48554_row1_col2\" class=\"data row1 col2\" >0.30%</td>\n",
       "      <td id=\"T_48554_row1_col3\" class=\"data row1 col3\" >0.12%</td>\n",
       "      <td id=\"T_48554_row1_col4\" class=\"data row1 col4\" >0.42%</td>\n",
       "      <td id=\"T_48554_row1_col5\" class=\"data row1 col5\" >0.12%</td>\n",
       "      <td id=\"T_48554_row1_col6\" class=\"data row1 col6\" >0.24%</td>\n",
       "      <td id=\"T_48554_row1_col7\" class=\"data row1 col7\" >0.18%</td>\n",
       "      <td id=\"T_48554_row1_col8\" class=\"data row1 col8\" >0.12%</td>\n",
       "      <td id=\"T_48554_row1_col9\" class=\"data row1 col9\" >0.18%</td>\n",
       "      <td id=\"T_48554_row1_col10\" class=\"data row1 col10\" >0.12%</td>\n",
       "      <td id=\"T_48554_row1_col11\" class=\"data row1 col11\" ></td>\n",
       "    </tr>\n",
       "    <tr>\n",
       "      <th id=\"T_48554_level0_row2\" class=\"row_heading level0 row2\" >2017-03-01</th>\n",
       "      <td id=\"T_48554_row2_col0\" class=\"data row2 col0\" >100.00%</td>\n",
       "      <td id=\"T_48554_row2_col1\" class=\"data row2 col1\" >0.47%</td>\n",
       "      <td id=\"T_48554_row2_col2\" class=\"data row2 col2\" >0.35%</td>\n",
       "      <td id=\"T_48554_row2_col3\" class=\"data row2 col3\" >0.47%</td>\n",
       "      <td id=\"T_48554_row2_col4\" class=\"data row2 col4\" >0.35%</td>\n",
       "      <td id=\"T_48554_row2_col5\" class=\"data row2 col5\" >0.16%</td>\n",
       "      <td id=\"T_48554_row2_col6\" class=\"data row2 col6\" >0.16%</td>\n",
       "      <td id=\"T_48554_row2_col7\" class=\"data row2 col7\" >0.31%</td>\n",
       "      <td id=\"T_48554_row2_col8\" class=\"data row2 col8\" >0.31%</td>\n",
       "      <td id=\"T_48554_row2_col9\" class=\"data row2 col9\" >0.08%</td>\n",
       "      <td id=\"T_48554_row2_col10\" class=\"data row2 col10\" ></td>\n",
       "      <td id=\"T_48554_row2_col11\" class=\"data row2 col11\" ></td>\n",
       "    </tr>\n",
       "    <tr>\n",
       "      <th id=\"T_48554_level0_row3\" class=\"row_heading level0 row3\" >2017-04-01</th>\n",
       "      <td id=\"T_48554_row3_col0\" class=\"data row3 col0\" >100.00%</td>\n",
       "      <td id=\"T_48554_row3_col1\" class=\"data row3 col1\" >0.66%</td>\n",
       "      <td id=\"T_48554_row3_col2\" class=\"data row3 col2\" >0.26%</td>\n",
       "      <td id=\"T_48554_row3_col3\" class=\"data row3 col3\" >0.22%</td>\n",
       "      <td id=\"T_48554_row3_col4\" class=\"data row3 col4\" >0.26%</td>\n",
       "      <td id=\"T_48554_row3_col5\" class=\"data row3 col5\" >0.26%</td>\n",
       "      <td id=\"T_48554_row3_col6\" class=\"data row3 col6\" >0.39%</td>\n",
       "      <td id=\"T_48554_row3_col7\" class=\"data row3 col7\" >0.31%</td>\n",
       "      <td id=\"T_48554_row3_col8\" class=\"data row3 col8\" >0.31%</td>\n",
       "      <td id=\"T_48554_row3_col9\" class=\"data row3 col9\" ></td>\n",
       "      <td id=\"T_48554_row3_col10\" class=\"data row3 col10\" ></td>\n",
       "      <td id=\"T_48554_row3_col11\" class=\"data row3 col11\" ></td>\n",
       "    </tr>\n",
       "    <tr>\n",
       "      <th id=\"T_48554_level0_row4\" class=\"row_heading level0 row4\" >2017-05-01</th>\n",
       "      <td id=\"T_48554_row4_col0\" class=\"data row4 col0\" >100.00%</td>\n",
       "      <td id=\"T_48554_row4_col1\" class=\"data row4 col1\" >0.48%</td>\n",
       "      <td id=\"T_48554_row4_col2\" class=\"data row4 col2\" >0.45%</td>\n",
       "      <td id=\"T_48554_row4_col3\" class=\"data row4 col3\" >0.28%</td>\n",
       "      <td id=\"T_48554_row4_col4\" class=\"data row4 col4\" >0.28%</td>\n",
       "      <td id=\"T_48554_row4_col5\" class=\"data row4 col5\" >0.34%</td>\n",
       "      <td id=\"T_48554_row4_col6\" class=\"data row4 col6\" >0.45%</td>\n",
       "      <td id=\"T_48554_row4_col7\" class=\"data row4 col7\" >0.14%</td>\n",
       "      <td id=\"T_48554_row4_col8\" class=\"data row4 col8\" ></td>\n",
       "      <td id=\"T_48554_row4_col9\" class=\"data row4 col9\" ></td>\n",
       "      <td id=\"T_48554_row4_col10\" class=\"data row4 col10\" ></td>\n",
       "      <td id=\"T_48554_row4_col11\" class=\"data row4 col11\" ></td>\n",
       "    </tr>\n",
       "    <tr>\n",
       "      <th id=\"T_48554_level0_row5\" class=\"row_heading level0 row5\" >2017-06-01</th>\n",
       "      <td id=\"T_48554_row5_col0\" class=\"data row5 col0\" >100.00%</td>\n",
       "      <td id=\"T_48554_row5_col1\" class=\"data row5 col1\" >0.52%</td>\n",
       "      <td id=\"T_48554_row5_col2\" class=\"data row5 col2\" >0.42%</td>\n",
       "      <td id=\"T_48554_row5_col3\" class=\"data row5 col3\" >0.42%</td>\n",
       "      <td id=\"T_48554_row5_col4\" class=\"data row5 col4\" >0.32%</td>\n",
       "      <td id=\"T_48554_row5_col5\" class=\"data row5 col5\" >0.39%</td>\n",
       "      <td id=\"T_48554_row5_col6\" class=\"data row5 col6\" >0.36%</td>\n",
       "      <td id=\"T_48554_row5_col7\" class=\"data row5 col7\" ></td>\n",
       "      <td id=\"T_48554_row5_col8\" class=\"data row5 col8\" ></td>\n",
       "      <td id=\"T_48554_row5_col9\" class=\"data row5 col9\" ></td>\n",
       "      <td id=\"T_48554_row5_col10\" class=\"data row5 col10\" ></td>\n",
       "      <td id=\"T_48554_row5_col11\" class=\"data row5 col11\" ></td>\n",
       "    </tr>\n",
       "    <tr>\n",
       "      <th id=\"T_48554_level0_row6\" class=\"row_heading level0 row6\" >2017-07-01</th>\n",
       "      <td id=\"T_48554_row6_col0\" class=\"data row6 col0\" >100.00%</td>\n",
       "      <td id=\"T_48554_row6_col1\" class=\"data row6 col1\" >0.58%</td>\n",
       "      <td id=\"T_48554_row6_col2\" class=\"data row6 col2\" >0.34%</td>\n",
       "      <td id=\"T_48554_row6_col3\" class=\"data row6 col3\" >0.24%</td>\n",
       "      <td id=\"T_48554_row6_col4\" class=\"data row6 col4\" >0.34%</td>\n",
       "      <td id=\"T_48554_row6_col5\" class=\"data row6 col5\" >0.21%</td>\n",
       "      <td id=\"T_48554_row6_col6\" class=\"data row6 col6\" ></td>\n",
       "      <td id=\"T_48554_row6_col7\" class=\"data row6 col7\" ></td>\n",
       "      <td id=\"T_48554_row6_col8\" class=\"data row6 col8\" ></td>\n",
       "      <td id=\"T_48554_row6_col9\" class=\"data row6 col9\" ></td>\n",
       "      <td id=\"T_48554_row6_col10\" class=\"data row6 col10\" ></td>\n",
       "      <td id=\"T_48554_row6_col11\" class=\"data row6 col11\" ></td>\n",
       "    </tr>\n",
       "    <tr>\n",
       "      <th id=\"T_48554_level0_row7\" class=\"row_heading level0 row7\" >2017-08-01</th>\n",
       "      <td id=\"T_48554_row7_col0\" class=\"data row7 col0\" >100.00%</td>\n",
       "      <td id=\"T_48554_row7_col1\" class=\"data row7 col1\" >0.70%</td>\n",
       "      <td id=\"T_48554_row7_col2\" class=\"data row7 col2\" >0.39%</td>\n",
       "      <td id=\"T_48554_row7_col3\" class=\"data row7 col3\" >0.27%</td>\n",
       "      <td id=\"T_48554_row7_col4\" class=\"data row7 col4\" >0.34%</td>\n",
       "      <td id=\"T_48554_row7_col5\" class=\"data row7 col5\" ></td>\n",
       "      <td id=\"T_48554_row7_col6\" class=\"data row7 col6\" ></td>\n",
       "      <td id=\"T_48554_row7_col7\" class=\"data row7 col7\" ></td>\n",
       "      <td id=\"T_48554_row7_col8\" class=\"data row7 col8\" ></td>\n",
       "      <td id=\"T_48554_row7_col9\" class=\"data row7 col9\" ></td>\n",
       "      <td id=\"T_48554_row7_col10\" class=\"data row7 col10\" ></td>\n",
       "      <td id=\"T_48554_row7_col11\" class=\"data row7 col11\" ></td>\n",
       "    </tr>\n",
       "    <tr>\n",
       "      <th id=\"T_48554_level0_row8\" class=\"row_heading level0 row8\" >2017-09-01</th>\n",
       "      <td id=\"T_48554_row8_col0\" class=\"data row8 col0\" >100.00%</td>\n",
       "      <td id=\"T_48554_row8_col1\" class=\"data row8 col1\" >0.69%</td>\n",
       "      <td id=\"T_48554_row8_col2\" class=\"data row8 col2\" >0.54%</td>\n",
       "      <td id=\"T_48554_row8_col3\" class=\"data row8 col3\" >0.37%</td>\n",
       "      <td id=\"T_48554_row8_col4\" class=\"data row8 col4\" ></td>\n",
       "      <td id=\"T_48554_row8_col5\" class=\"data row8 col5\" ></td>\n",
       "      <td id=\"T_48554_row8_col6\" class=\"data row8 col6\" ></td>\n",
       "      <td id=\"T_48554_row8_col7\" class=\"data row8 col7\" ></td>\n",
       "      <td id=\"T_48554_row8_col8\" class=\"data row8 col8\" ></td>\n",
       "      <td id=\"T_48554_row8_col9\" class=\"data row8 col9\" ></td>\n",
       "      <td id=\"T_48554_row8_col10\" class=\"data row8 col10\" ></td>\n",
       "      <td id=\"T_48554_row8_col11\" class=\"data row8 col11\" ></td>\n",
       "    </tr>\n",
       "    <tr>\n",
       "      <th id=\"T_48554_level0_row9\" class=\"row_heading level0 row9\" >2017-10-01</th>\n",
       "      <td id=\"T_48554_row9_col0\" class=\"data row9 col0\" >100.00%</td>\n",
       "      <td id=\"T_48554_row9_col1\" class=\"data row9 col1\" >0.75%</td>\n",
       "      <td id=\"T_48554_row9_col2\" class=\"data row9 col2\" >0.25%</td>\n",
       "      <td id=\"T_48554_row9_col3\" class=\"data row9 col3\" ></td>\n",
       "      <td id=\"T_48554_row9_col4\" class=\"data row9 col4\" ></td>\n",
       "      <td id=\"T_48554_row9_col5\" class=\"data row9 col5\" ></td>\n",
       "      <td id=\"T_48554_row9_col6\" class=\"data row9 col6\" ></td>\n",
       "      <td id=\"T_48554_row9_col7\" class=\"data row9 col7\" ></td>\n",
       "      <td id=\"T_48554_row9_col8\" class=\"data row9 col8\" ></td>\n",
       "      <td id=\"T_48554_row9_col9\" class=\"data row9 col9\" ></td>\n",
       "      <td id=\"T_48554_row9_col10\" class=\"data row9 col10\" ></td>\n",
       "      <td id=\"T_48554_row9_col11\" class=\"data row9 col11\" ></td>\n",
       "    </tr>\n",
       "    <tr>\n",
       "      <th id=\"T_48554_level0_row10\" class=\"row_heading level0 row10\" >2017-11-01</th>\n",
       "      <td id=\"T_48554_row10_col0\" class=\"data row10 col0\" >100.00%</td>\n",
       "      <td id=\"T_48554_row10_col1\" class=\"data row10 col1\" >0.59%</td>\n",
       "      <td id=\"T_48554_row10_col2\" class=\"data row10 col2\" ></td>\n",
       "      <td id=\"T_48554_row10_col3\" class=\"data row10 col3\" ></td>\n",
       "      <td id=\"T_48554_row10_col4\" class=\"data row10 col4\" ></td>\n",
       "      <td id=\"T_48554_row10_col5\" class=\"data row10 col5\" ></td>\n",
       "      <td id=\"T_48554_row10_col6\" class=\"data row10 col6\" ></td>\n",
       "      <td id=\"T_48554_row10_col7\" class=\"data row10 col7\" ></td>\n",
       "      <td id=\"T_48554_row10_col8\" class=\"data row10 col8\" ></td>\n",
       "      <td id=\"T_48554_row10_col9\" class=\"data row10 col9\" ></td>\n",
       "      <td id=\"T_48554_row10_col10\" class=\"data row10 col10\" ></td>\n",
       "      <td id=\"T_48554_row10_col11\" class=\"data row10 col11\" ></td>\n",
       "    </tr>\n",
       "    <tr>\n",
       "      <th id=\"T_48554_level0_row11\" class=\"row_heading level0 row11\" >2017-12-01</th>\n",
       "      <td id=\"T_48554_row11_col0\" class=\"data row11 col0\" >100.00%</td>\n",
       "      <td id=\"T_48554_row11_col1\" class=\"data row11 col1\" ></td>\n",
       "      <td id=\"T_48554_row11_col2\" class=\"data row11 col2\" ></td>\n",
       "      <td id=\"T_48554_row11_col3\" class=\"data row11 col3\" ></td>\n",
       "      <td id=\"T_48554_row11_col4\" class=\"data row11 col4\" ></td>\n",
       "      <td id=\"T_48554_row11_col5\" class=\"data row11 col5\" ></td>\n",
       "      <td id=\"T_48554_row11_col6\" class=\"data row11 col6\" ></td>\n",
       "      <td id=\"T_48554_row11_col7\" class=\"data row11 col7\" ></td>\n",
       "      <td id=\"T_48554_row11_col8\" class=\"data row11 col8\" ></td>\n",
       "      <td id=\"T_48554_row11_col9\" class=\"data row11 col9\" ></td>\n",
       "      <td id=\"T_48554_row11_col10\" class=\"data row11 col10\" ></td>\n",
       "      <td id=\"T_48554_row11_col11\" class=\"data row11 col11\" ></td>\n",
       "    </tr>\n",
       "  </tbody>\n",
       "</table>\n"
      ],
      "text/plain": [
       "<pandas.io.formats.style.Styler at 0x215142ada20>"
      ]
     },
     "execution_count": 243,
     "metadata": {},
     "output_type": "execute_result"
    }
   ],
   "source": [
    "# визуализация\n",
    "ur_style = (retention\n",
    "            .style\n",
    "            .background_gradient(cmap='viridis')  # раскрашиваем ячейки по столбцам\n",
    "            .highlight_null('white')  # делаем белый фон для значений NaN\n",
    "            .format(\"{:.2%}\", na_rep=\"\"))  # числа форматируем как проценты, NaN заменяем на пустоту\n",
    "ur_style"
   ]
  },
  {
   "cell_type": "markdown",
   "id": "5816913d",
   "metadata": {},
   "source": [
    "Вывод:\n",
    "Из таблицы видно, что когорта с самым высоким retention на 3 месяц это клиенты, сделавшие первый заказ в марте 2017 года (2017-03-01)"
   ]
  },
  {
   "cell_type": "markdown",
   "id": "24f8bd1e",
   "metadata": {},
   "source": [
    "# RFM-сегментация пользователей"
   ]
  },
  {
   "cell_type": "markdown",
   "id": "7227f4d7",
   "metadata": {},
   "source": [
    "В качестве метрик выберем следующие показатели:\n",
    "\n",
    "R - время от последней покупки пользователя до текущей даты, в качестве текущей даты возьмем следующий день после даты последнего заказа\n",
    "\n",
    "F - суммарное количество покупок у пользователя за всё время \n",
    "\n",
    "M - сумма покупок за всё время\n",
    "\n"
   ]
  },
  {
   "cell_type": "code",
   "execution_count": 244,
   "id": "c1d94d08",
   "metadata": {
    "ExecuteTime": {
     "end_time": "2023-04-02T07:36:17.024261Z",
     "start_time": "2023-04-02T07:36:16.552999Z"
    }
   },
   "outputs": [],
   "source": [
    "# производим фильтрацию и джоины всех таблиц в одну, так мы получим информацию о каждом товаре каждого заказа каждого клиента\n",
    "df_order_customer_item = olist_orders_dataset.query('order_status == \"delivered\"') \\\n",
    "                    .merge(olist_customers_dataset, how='inner', on='customer_id') \\\n",
    "                    .merge(olist_order_items_dataset, how='left', on='order_id')"
   ]
  },
  {
   "cell_type": "code",
   "execution_count": 245,
   "id": "c9d5688b",
   "metadata": {
    "ExecuteTime": {
     "end_time": "2023-04-02T07:36:17.856621Z",
     "start_time": "2023-04-02T07:36:17.024261Z"
    }
   },
   "outputs": [],
   "source": [
    "# группируем по каждому заказу и считаем общую сумму\n",
    "df_order_customer_price = df_order_customer_item \\\n",
    "                      .groupby(['order_id', 'customer_unique_id', 'order_purchase_timestamp'], as_index=False) \\\n",
    "                      .agg({'price': 'sum'})"
   ]
  },
  {
   "cell_type": "code",
   "execution_count": 246,
   "id": "cf9d4f1a",
   "metadata": {
    "ExecuteTime": {
     "end_time": "2023-04-02T07:36:17.890671Z",
     "start_time": "2023-04-02T07:36:17.856621Z"
    }
   },
   "outputs": [
    {
     "data": {
      "text/html": [
       "<div>\n",
       "<style scoped>\n",
       "    .dataframe tbody tr th:only-of-type {\n",
       "        vertical-align: middle;\n",
       "    }\n",
       "\n",
       "    .dataframe tbody tr th {\n",
       "        vertical-align: top;\n",
       "    }\n",
       "\n",
       "    .dataframe thead th {\n",
       "        text-align: right;\n",
       "    }\n",
       "</style>\n",
       "<table border=\"1\" class=\"dataframe\">\n",
       "  <thead>\n",
       "    <tr style=\"text-align: right;\">\n",
       "      <th></th>\n",
       "      <th>order_id</th>\n",
       "      <th>customer_unique_id</th>\n",
       "      <th>order_purchase_timestamp</th>\n",
       "      <th>price</th>\n",
       "    </tr>\n",
       "  </thead>\n",
       "  <tbody>\n",
       "    <tr>\n",
       "      <th>0</th>\n",
       "      <td>00010242fe8c5a6d1ba2dd792cb16214</td>\n",
       "      <td>871766c5855e863f6eccc05f988b23cb</td>\n",
       "      <td>2017-09-13 08:59:02</td>\n",
       "      <td>58.90</td>\n",
       "    </tr>\n",
       "    <tr>\n",
       "      <th>1</th>\n",
       "      <td>00018f77f2f0320c557190d7a144bdd3</td>\n",
       "      <td>eb28e67c4c0b83846050ddfb8a35d051</td>\n",
       "      <td>2017-04-26 10:53:06</td>\n",
       "      <td>239.90</td>\n",
       "    </tr>\n",
       "    <tr>\n",
       "      <th>2</th>\n",
       "      <td>000229ec398224ef6ca0657da4fc703e</td>\n",
       "      <td>3818d81c6709e39d06b2738a8d3a2474</td>\n",
       "      <td>2018-01-14 14:33:31</td>\n",
       "      <td>199.00</td>\n",
       "    </tr>\n",
       "    <tr>\n",
       "      <th>3</th>\n",
       "      <td>00024acbcdf0a6daa1e931b038114c75</td>\n",
       "      <td>af861d436cfc08b2c2ddefd0ba074622</td>\n",
       "      <td>2018-08-08 10:00:35</td>\n",
       "      <td>12.99</td>\n",
       "    </tr>\n",
       "    <tr>\n",
       "      <th>4</th>\n",
       "      <td>00042b26cf59d7ce69dfabb4e55b4fd9</td>\n",
       "      <td>64b576fb70d441e8f1b2d7d446e483c5</td>\n",
       "      <td>2017-02-04 13:57:51</td>\n",
       "      <td>199.90</td>\n",
       "    </tr>\n",
       "  </tbody>\n",
       "</table>\n",
       "</div>"
      ],
      "text/plain": [
       "                           order_id                customer_unique_id  \\\n",
       "0  00010242fe8c5a6d1ba2dd792cb16214  871766c5855e863f6eccc05f988b23cb   \n",
       "1  00018f77f2f0320c557190d7a144bdd3  eb28e67c4c0b83846050ddfb8a35d051   \n",
       "2  000229ec398224ef6ca0657da4fc703e  3818d81c6709e39d06b2738a8d3a2474   \n",
       "3  00024acbcdf0a6daa1e931b038114c75  af861d436cfc08b2c2ddefd0ba074622   \n",
       "4  00042b26cf59d7ce69dfabb4e55b4fd9  64b576fb70d441e8f1b2d7d446e483c5   \n",
       "\n",
       "  order_purchase_timestamp   price  \n",
       "0      2017-09-13 08:59:02   58.90  \n",
       "1      2017-04-26 10:53:06  239.90  \n",
       "2      2018-01-14 14:33:31  199.00  \n",
       "3      2018-08-08 10:00:35   12.99  \n",
       "4      2017-02-04 13:57:51  199.90  "
      ]
     },
     "execution_count": 246,
     "metadata": {},
     "output_type": "execute_result"
    }
   ],
   "source": [
    "df_order_customer_price.head()"
   ]
  },
  {
   "cell_type": "code",
   "execution_count": 247,
   "id": "11c92bfe",
   "metadata": {
    "ExecuteTime": {
     "end_time": "2023-04-02T07:36:17.906649Z",
     "start_time": "2023-04-02T07:36:17.890671Z"
    }
   },
   "outputs": [],
   "source": [
    "# дата последнего заказа\n",
    "NOW = df_order_customer_price.order_purchase_timestamp.max() + timedelta(days=1)"
   ]
  },
  {
   "cell_type": "code",
   "execution_count": 248,
   "id": "57a0fa18",
   "metadata": {
    "ExecuteTime": {
     "end_time": "2023-04-02T07:36:17.938685Z",
     "start_time": "2023-04-02T07:36:17.906649Z"
    }
   },
   "outputs": [],
   "source": [
    "# в каждой строке найдем разницу между датой заказа и текущей датой \n",
    "df_order_customer_price['days_since_order'] = (NOW - df_order_customer_price.order_purchase_timestamp).dt.days"
   ]
  },
  {
   "cell_type": "markdown",
   "id": "8f777342",
   "metadata": {},
   "source": [
    "Теперь мы для каждого пользователя можем найти  R, F и M. R в нашем случае - это минимальное значение колонки days_since_order, F - количество заказов за все время, M - сумма по всему столбцу price."
   ]
  },
  {
   "cell_type": "code",
   "execution_count": 249,
   "id": "82a93a47",
   "metadata": {
    "ExecuteTime": {
     "end_time": "2023-04-02T07:36:17.954659Z",
     "start_time": "2023-04-02T07:36:17.938685Z"
    }
   },
   "outputs": [],
   "source": [
    "# пропишем агрегирующие функции в одном словаре\n",
    "agg = {\n",
    "    'days_since_order' : 'min',\n",
    "    'order_id': 'count',\n",
    "    'price': 'sum'\n",
    "}"
   ]
  },
  {
   "cell_type": "code",
   "execution_count": 250,
   "id": "92e508ef",
   "metadata": {
    "ExecuteTime": {
     "end_time": "2023-04-02T07:36:18.315826Z",
     "start_time": "2023-04-02T07:36:17.954659Z"
    }
   },
   "outputs": [],
   "source": [
    "# производим группировку\n",
    "df_rfm = df_order_customer_price.groupby('customer_unique_id', as_index=False).agg(agg)"
   ]
  },
  {
   "cell_type": "code",
   "execution_count": 251,
   "id": "f24211a4",
   "metadata": {
    "ExecuteTime": {
     "end_time": "2023-04-02T07:36:18.338955Z",
     "start_time": "2023-04-02T07:36:18.315826Z"
    }
   },
   "outputs": [],
   "source": [
    "df_rfm.rename(columns={'days_since_order': 'Recency', 'order_id': 'Frequency', 'price': 'Monetary'}, inplace=True)"
   ]
  },
  {
   "cell_type": "code",
   "execution_count": 252,
   "id": "9ca71cd7",
   "metadata": {
    "ExecuteTime": {
     "end_time": "2023-04-02T07:36:18.370959Z",
     "start_time": "2023-04-02T07:36:18.338955Z"
    },
    "scrolled": true
   },
   "outputs": [
    {
     "data": {
      "text/html": [
       "<div>\n",
       "<style scoped>\n",
       "    .dataframe tbody tr th:only-of-type {\n",
       "        vertical-align: middle;\n",
       "    }\n",
       "\n",
       "    .dataframe tbody tr th {\n",
       "        vertical-align: top;\n",
       "    }\n",
       "\n",
       "    .dataframe thead th {\n",
       "        text-align: right;\n",
       "    }\n",
       "</style>\n",
       "<table border=\"1\" class=\"dataframe\">\n",
       "  <thead>\n",
       "    <tr style=\"text-align: right;\">\n",
       "      <th></th>\n",
       "      <th>customer_unique_id</th>\n",
       "      <th>Recency</th>\n",
       "      <th>Frequency</th>\n",
       "      <th>Monetary</th>\n",
       "    </tr>\n",
       "  </thead>\n",
       "  <tbody>\n",
       "    <tr>\n",
       "      <th>0</th>\n",
       "      <td>0000366f3b9a7992bf8c76cfdf3221e2</td>\n",
       "      <td>112</td>\n",
       "      <td>1</td>\n",
       "      <td>129.90</td>\n",
       "    </tr>\n",
       "    <tr>\n",
       "      <th>1</th>\n",
       "      <td>0000b849f77a49e4a4ce2b2a4ca5be3f</td>\n",
       "      <td>115</td>\n",
       "      <td>1</td>\n",
       "      <td>18.90</td>\n",
       "    </tr>\n",
       "    <tr>\n",
       "      <th>2</th>\n",
       "      <td>0000f46a3911fa3c0805444483337064</td>\n",
       "      <td>537</td>\n",
       "      <td>1</td>\n",
       "      <td>69.00</td>\n",
       "    </tr>\n",
       "    <tr>\n",
       "      <th>3</th>\n",
       "      <td>0000f6ccb0745a6a4b88665a16c9f078</td>\n",
       "      <td>321</td>\n",
       "      <td>1</td>\n",
       "      <td>25.99</td>\n",
       "    </tr>\n",
       "    <tr>\n",
       "      <th>4</th>\n",
       "      <td>0004aac84e0df4da2b147fca70cf8255</td>\n",
       "      <td>288</td>\n",
       "      <td>1</td>\n",
       "      <td>180.00</td>\n",
       "    </tr>\n",
       "  </tbody>\n",
       "</table>\n",
       "</div>"
      ],
      "text/plain": [
       "                 customer_unique_id  Recency  Frequency  Monetary\n",
       "0  0000366f3b9a7992bf8c76cfdf3221e2      112          1    129.90\n",
       "1  0000b849f77a49e4a4ce2b2a4ca5be3f      115          1     18.90\n",
       "2  0000f46a3911fa3c0805444483337064      537          1     69.00\n",
       "3  0000f6ccb0745a6a4b88665a16c9f078      321          1     25.99\n",
       "4  0004aac84e0df4da2b147fca70cf8255      288          1    180.00"
      ]
     },
     "execution_count": 252,
     "metadata": {},
     "output_type": "execute_result"
    }
   ],
   "source": [
    "df_rfm.head()"
   ]
  },
  {
   "cell_type": "markdown",
   "id": "5727e944",
   "metadata": {},
   "source": [
    "Посмотрим на квантили распределений наших метрик"
   ]
  },
  {
   "cell_type": "code",
   "execution_count": 253,
   "id": "3de4e4a1",
   "metadata": {
    "ExecuteTime": {
     "end_time": "2023-04-02T07:36:18.403350Z",
     "start_time": "2023-04-02T07:36:18.370959Z"
    }
   },
   "outputs": [
    {
     "data": {
      "text/plain": [
       "{'Recency': {0.2: 92.0, 0.4: 177.0, 0.6: 268.0, 0.8: 382.0},\n",
       " 'Frequency': {0.2: 1.0, 0.4: 1.0, 0.6: 1.0, 0.8: 1.0},\n",
       " 'Monetary': {0.2: 39.9, 0.4: 69.9, 0.6: 109.9, 0.8: 179.9}}"
      ]
     },
     "execution_count": 253,
     "metadata": {},
     "output_type": "execute_result"
    }
   ],
   "source": [
    "quintiles = df_rfm[['Recency', 'Frequency', 'Monetary']].quantile([.2, .4, .6, .8]).to_dict()\n",
    "quintiles"
   ]
  },
  {
   "cell_type": "code",
   "execution_count": 254,
   "id": "19beea39",
   "metadata": {
    "ExecuteTime": {
     "end_time": "2023-04-02T07:36:18.419322Z",
     "start_time": "2023-04-02T07:36:18.403350Z"
    }
   },
   "outputs": [
    {
     "data": {
      "text/plain": [
       "0.960    1.00\n",
       "0.970    1.29\n",
       "0.980    2.00\n",
       "0.999    3.00\n",
       "Name: Frequency, dtype: float64"
      ]
     },
     "execution_count": 254,
     "metadata": {},
     "output_type": "execute_result"
    }
   ],
   "source": [
    "df_rfm['Frequency'].quantile([.96, .97, .98, .999])"
   ]
  },
  {
   "cell_type": "markdown",
   "id": "066fa616",
   "metadata": {},
   "source": [
    "Видим, что около 96% всех наших клиентов совершили только 1 заказ, при этом в разное время и с разной суммой. Поэтому будет логично взять 2 градации для фактора F: 1 - пользователь совершил 1 заказ, 2 - пользователь совершил более 1 заказа. Для метрик R и M я возьму оценки от 1 до 5 в соответствии с квантилями распределений"
   ]
  },
  {
   "cell_type": "raw",
   "id": "b4739d7a",
   "metadata": {},
   "source": [
    "оценки для R:\n",
    "1 - более 382 дней с последнего заказа\n",
    "2 - от 268 до 382 дней с последнего заказа\n",
    "3 - от 177 до 268 дней с последнего заказа\n",
    "4 - от 92 до 177 дней с последнего заказа\n",
    "5 - от 1 до 92 дней с последнего заказа"
   ]
  },
  {
   "cell_type": "raw",
   "id": "110a04b2",
   "metadata": {},
   "source": [
    "оценки для F:\n",
    "1 - пользователь совершил 1 заказ за все время\n",
    "2 - пользователь совершил более 1 заказа за все время"
   ]
  },
  {
   "cell_type": "raw",
   "id": "a5f7f8fb",
   "metadata": {},
   "source": [
    "оценки для M:\n",
    "1 - до 39.9 денежных единиц за все время\n",
    "2 - от 39.9 до 69.9 денежных единиц за все время\n",
    "3 - от 69.9 до 109.9 денежных единиц за все время\n",
    "4 - от 109.9 до 179.9 денежных единиц за все время\n",
    "5 - более 179.9 денежных единиц за все время"
   ]
  },
  {
   "cell_type": "code",
   "execution_count": 255,
   "id": "9a41dac4",
   "metadata": {
    "ExecuteTime": {
     "end_time": "2023-04-02T07:36:18.882588Z",
     "start_time": "2023-04-02T07:36:18.859337Z"
    }
   },
   "outputs": [],
   "source": [
    "# чем меньше время с последнего заказа, тем больше оценка\n",
    "def r_score(x):\n",
    "    if x <= quintiles['Recency'][.2]:\n",
    "        return 5\n",
    "    elif x <= quintiles['Recency'][.4]:\n",
    "        return 4\n",
    "    elif x <= quintiles['Recency'][.6]:\n",
    "        return 3\n",
    "    elif x <= quintiles['Recency'][.8]:\n",
    "        return 2\n",
    "    else:\n",
    "        return 1"
   ]
  },
  {
   "cell_type": "code",
   "execution_count": 256,
   "id": "087038df",
   "metadata": {
    "ExecuteTime": {
     "end_time": "2023-04-02T07:36:18.978615Z",
     "start_time": "2023-04-02T07:36:18.970640Z"
    }
   },
   "outputs": [],
   "source": [
    "# сегмент пользователей с 1 заказом имеет оценку 1, более 1 заказа - 2\n",
    "def f_score(x):\n",
    "    if x == 1:\n",
    "        return 1\n",
    "    elif x > 1:\n",
    "        return 2"
   ]
  },
  {
   "cell_type": "code",
   "execution_count": 257,
   "id": "b8994a21",
   "metadata": {
    "ExecuteTime": {
     "end_time": "2023-04-02T07:36:19.074641Z",
     "start_time": "2023-04-02T07:36:19.050634Z"
    }
   },
   "outputs": [],
   "source": [
    "# чем больше сумма всех покупок, тем выше оценка\n",
    "def m_score(x):\n",
    "    if x <= quintiles['Monetary'][.2]:\n",
    "        return 1\n",
    "    elif x <= quintiles['Monetary'][.4]:\n",
    "        return 2\n",
    "    elif x <= quintiles['Monetary'][.6]:\n",
    "        return 3\n",
    "    elif x <= quintiles['Monetary'][.8]:\n",
    "        return 4\n",
    "    else:\n",
    "        return 5 "
   ]
  },
  {
   "cell_type": "code",
   "execution_count": 258,
   "id": "f8fd2549",
   "metadata": {
    "ExecuteTime": {
     "end_time": "2023-04-02T07:36:19.500266Z",
     "start_time": "2023-04-02T07:36:19.170610Z"
    }
   },
   "outputs": [],
   "source": [
    "df_rfm['R'] = df_rfm['Recency'].apply(lambda x: r_score(x))\n",
    "df_rfm['F'] = df_rfm['Frequency'].apply(lambda x: f_score(x))\n",
    "df_rfm['M'] = df_rfm['Monetary'].apply(lambda x: m_score(x))"
   ]
  },
  {
   "cell_type": "code",
   "execution_count": 259,
   "id": "2f7671c7",
   "metadata": {
    "ExecuteTime": {
     "end_time": "2023-04-02T07:36:19.603388Z",
     "start_time": "2023-04-02T07:36:19.500266Z"
    }
   },
   "outputs": [],
   "source": [
    "# создадим объединенную колонку RFM_score\n",
    "df_rfm['RFM_Score'] = df_rfm['R'].map(str) + df_rfm['F'].map(str) + df_rfm['M'].map(str)"
   ]
  },
  {
   "cell_type": "code",
   "execution_count": 260,
   "id": "0ed80728",
   "metadata": {
    "ExecuteTime": {
     "end_time": "2023-04-02T07:36:19.635378Z",
     "start_time": "2023-04-02T07:36:19.603388Z"
    }
   },
   "outputs": [
    {
     "data": {
      "text/html": [
       "<div>\n",
       "<style scoped>\n",
       "    .dataframe tbody tr th:only-of-type {\n",
       "        vertical-align: middle;\n",
       "    }\n",
       "\n",
       "    .dataframe tbody tr th {\n",
       "        vertical-align: top;\n",
       "    }\n",
       "\n",
       "    .dataframe thead th {\n",
       "        text-align: right;\n",
       "    }\n",
       "</style>\n",
       "<table border=\"1\" class=\"dataframe\">\n",
       "  <thead>\n",
       "    <tr style=\"text-align: right;\">\n",
       "      <th></th>\n",
       "      <th>customer_unique_id</th>\n",
       "      <th>Recency</th>\n",
       "      <th>Frequency</th>\n",
       "      <th>Monetary</th>\n",
       "      <th>R</th>\n",
       "      <th>F</th>\n",
       "      <th>M</th>\n",
       "      <th>RFM_Score</th>\n",
       "    </tr>\n",
       "  </thead>\n",
       "  <tbody>\n",
       "    <tr>\n",
       "      <th>0</th>\n",
       "      <td>0000366f3b9a7992bf8c76cfdf3221e2</td>\n",
       "      <td>112</td>\n",
       "      <td>1</td>\n",
       "      <td>129.90</td>\n",
       "      <td>4</td>\n",
       "      <td>1</td>\n",
       "      <td>4</td>\n",
       "      <td>414</td>\n",
       "    </tr>\n",
       "    <tr>\n",
       "      <th>1</th>\n",
       "      <td>0000b849f77a49e4a4ce2b2a4ca5be3f</td>\n",
       "      <td>115</td>\n",
       "      <td>1</td>\n",
       "      <td>18.90</td>\n",
       "      <td>4</td>\n",
       "      <td>1</td>\n",
       "      <td>1</td>\n",
       "      <td>411</td>\n",
       "    </tr>\n",
       "    <tr>\n",
       "      <th>2</th>\n",
       "      <td>0000f46a3911fa3c0805444483337064</td>\n",
       "      <td>537</td>\n",
       "      <td>1</td>\n",
       "      <td>69.00</td>\n",
       "      <td>1</td>\n",
       "      <td>1</td>\n",
       "      <td>2</td>\n",
       "      <td>112</td>\n",
       "    </tr>\n",
       "    <tr>\n",
       "      <th>3</th>\n",
       "      <td>0000f6ccb0745a6a4b88665a16c9f078</td>\n",
       "      <td>321</td>\n",
       "      <td>1</td>\n",
       "      <td>25.99</td>\n",
       "      <td>2</td>\n",
       "      <td>1</td>\n",
       "      <td>1</td>\n",
       "      <td>211</td>\n",
       "    </tr>\n",
       "    <tr>\n",
       "      <th>4</th>\n",
       "      <td>0004aac84e0df4da2b147fca70cf8255</td>\n",
       "      <td>288</td>\n",
       "      <td>1</td>\n",
       "      <td>180.00</td>\n",
       "      <td>2</td>\n",
       "      <td>1</td>\n",
       "      <td>5</td>\n",
       "      <td>215</td>\n",
       "    </tr>\n",
       "  </tbody>\n",
       "</table>\n",
       "</div>"
      ],
      "text/plain": [
       "                 customer_unique_id  Recency  Frequency  Monetary  R  F  M  \\\n",
       "0  0000366f3b9a7992bf8c76cfdf3221e2      112          1    129.90  4  1  4   \n",
       "1  0000b849f77a49e4a4ce2b2a4ca5be3f      115          1     18.90  4  1  1   \n",
       "2  0000f46a3911fa3c0805444483337064      537          1     69.00  1  1  2   \n",
       "3  0000f6ccb0745a6a4b88665a16c9f078      321          1     25.99  2  1  1   \n",
       "4  0004aac84e0df4da2b147fca70cf8255      288          1    180.00  2  1  5   \n",
       "\n",
       "  RFM_Score  \n",
       "0       414  \n",
       "1       411  \n",
       "2       112  \n",
       "3       211  \n",
       "4       215  "
      ]
     },
     "execution_count": 260,
     "metadata": {},
     "output_type": "execute_result"
    }
   ],
   "source": [
    "df_rfm.head()"
   ]
  },
  {
   "cell_type": "markdown",
   "id": "ac127d42",
   "metadata": {},
   "source": [
    "Так как у нас по 5 оценок для R и M и две оценки для F, мы имеем 5 * 5 * 2 = 50 комбинаций. Я буду рассматривать сегменты на основе R и M рейтингов. Это позволит выявить клиентов которые приносят больше всего прибыли и тех, чей вклад в общую прибыль незначителен."
   ]
  },
  {
   "cell_type": "markdown",
   "id": "36001285",
   "metadata": {},
   "source": [
    "![RM_segments](RM-segments.png)"
   ]
  },
  {
   "cell_type": "markdown",
   "id": "14300c53",
   "metadata": {},
   "source": [
    "Для того, чтобы разобраться, насколько важен для нас показатель R(есть ли разница между пользователем, который совершил покупку на одну и ту же сумму год назад или вчера при условии, что 96% клиентов не возвращаются) давайте изучим поведение людей с повторными заказами."
   ]
  },
  {
   "cell_type": "code",
   "execution_count": 261,
   "id": "5bcf98d4",
   "metadata": {
    "ExecuteTime": {
     "end_time": "2023-04-02T07:36:24.490354Z",
     "start_time": "2023-04-02T07:36:20.531970Z"
    },
    "scrolled": false
   },
   "outputs": [
    {
     "data": {
      "image/png": "[encoded data removed]",
      "text/plain": [
       "<Figure size 1080x432 with 1 Axes>"
      ]
     },
     "metadata": {},
     "output_type": "display_data"
    }
   ],
   "source": [
    "# доля вернувшихся по месяцам\n",
    "\n",
    "# создадим колонку с месяцем заказа\n",
    "df_order_customer_price['month'] = df_order_customer_price.order_purchase_timestamp.astype('datetime64[M]').astype('str')\n",
    "\n",
    "more_freq_id = df_rfm[df_rfm.F == 2].customer_unique_id # id пользователей с рейтингом F равным 2\n",
    "\n",
    "# количество всех пользователей по месяцам\n",
    "all_cust_per_mon = df_order_customer_price.groupby('month', as_index=False).customer_unique_id.nunique() \n",
    "\n",
    "# количество вернувшихся пользователей по месяцам\n",
    "more_freq_cust_per_mon = df_order_customer_price.query('customer_unique_id in @more_freq_id') \\\n",
    "            .groupby('month', as_index=False) \\\n",
    "            .customer_unique_id.nunique()\n",
    "\n",
    "# считаем долю без учета сентября 2016 года(оттуда нет ни одного вернувшегося)\n",
    "percentage_per_mon = (more_freq_cust_per_mon.set_index('month') / all_cust_per_mon[1:].set_index('month')).reset_index()\n",
    "\n",
    "# визуализация\n",
    "plt.figure(figsize=(15, 6))\n",
    "sns.barplot(data=percentage_per_mon, x='month', y='customer_unique_id')\n",
    "plt.ylabel('percentage')\n",
    "plt.xticks(rotation=45)\n",
    "sns.despine()"
   ]
  },
  {
   "cell_type": "code",
   "execution_count": 262,
   "id": "11bf7d51",
   "metadata": {
    "ExecuteTime": {
     "end_time": "2023-04-02T07:36:24.528350Z",
     "start_time": "2023-04-02T07:36:24.490354Z"
    }
   },
   "outputs": [
    {
     "data": {
      "text/html": [
       "<div>\n",
       "<style scoped>\n",
       "    .dataframe tbody tr th:only-of-type {\n",
       "        vertical-align: middle;\n",
       "    }\n",
       "\n",
       "    .dataframe tbody tr th {\n",
       "        vertical-align: top;\n",
       "    }\n",
       "\n",
       "    .dataframe thead th {\n",
       "        text-align: right;\n",
       "    }\n",
       "</style>\n",
       "<table border=\"1\" class=\"dataframe\">\n",
       "  <thead>\n",
       "    <tr style=\"text-align: right;\">\n",
       "      <th></th>\n",
       "      <th>order_id</th>\n",
       "      <th>customer_unique_id</th>\n",
       "      <th>order_purchase_timestamp</th>\n",
       "      <th>price</th>\n",
       "      <th>days_since_order</th>\n",
       "      <th>month</th>\n",
       "    </tr>\n",
       "  </thead>\n",
       "  <tbody>\n",
       "    <tr>\n",
       "      <th>71323</th>\n",
       "      <td>bd50a7fe9fd97ea4b7663031a319e150</td>\n",
       "      <td>f7b981e8a280e455ac3cbe0d5d171bd1</td>\n",
       "      <td>2016-12-23 23:16:47</td>\n",
       "      <td>10.9</td>\n",
       "      <td>614</td>\n",
       "      <td>2016-12-01</td>\n",
       "    </tr>\n",
       "  </tbody>\n",
       "</table>\n",
       "</div>"
      ],
      "text/plain": [
       "                               order_id                customer_unique_id  \\\n",
       "71323  bd50a7fe9fd97ea4b7663031a319e150  f7b981e8a280e455ac3cbe0d5d171bd1   \n",
       "\n",
       "      order_purchase_timestamp  price  days_since_order       month  \n",
       "71323      2016-12-23 23:16:47   10.9               614  2016-12-01  "
      ]
     },
     "execution_count": 262,
     "metadata": {},
     "output_type": "execute_result"
    }
   ],
   "source": [
    "# посмотрим на выброс\n",
    "df_order_customer_price.query('month == \"2016-12-01\"')"
   ]
  },
  {
   "cell_type": "code",
   "execution_count": 263,
   "id": "874df576",
   "metadata": {
    "ExecuteTime": {
     "end_time": "2023-04-02T07:36:25.072538Z",
     "start_time": "2023-04-02T07:36:24.528350Z"
    }
   },
   "outputs": [
    {
     "data": {
      "image/png": "[encoded data removed]",
      "text/plain": [
       "<Figure size 1080x432 with 1 Axes>"
      ]
     },
     "metadata": {},
     "output_type": "display_data"
    }
   ],
   "source": [
    "plt.figure(figsize=(15, 6))\n",
    "sns.barplot(data=percentage_per_mon.query('month != \"2016-12-01\"'), x='month', y='customer_unique_id')\n",
    "plt.ylabel('percentage')\n",
    "plt.xticks(rotation=45)\n",
    "sns.despine()"
   ]
  },
  {
   "cell_type": "markdown",
   "id": "57b9f96d",
   "metadata": {},
   "source": [
    "В январе 2016 был совершен только один заказ вернувшимся пользователем, поэтому на первом графике наблюдается аномалия. В остальном распределение равномерное, что заставляет задуматься о продуктовом значении R оценки для данного магазина на этом этапе развития."
   ]
  },
  {
   "cell_type": "markdown",
   "id": "785e19c1",
   "metadata": {},
   "source": [
    "Опишем сегменты в продуктовых терминах и создадим колонку с названиями"
   ]
  },
  {
   "cell_type": "markdown",
   "id": "a62abb53",
   "metadata": {
    "ExecuteTime": {
     "end_time": "2023-03-31T13:41:28.006185Z",
     "start_time": "2023-03-31T13:41:27.930246Z"
    }
   },
   "source": [
    "![RM-segments_in_term](RM-segments_in_term.png)"
   ]
  },
  {
   "cell_type": "code",
   "execution_count": 264,
   "id": "2a96458a",
   "metadata": {
    "ExecuteTime": {
     "end_time": "2023-04-02T07:36:25.088173Z",
     "start_time": "2023-04-02T07:36:25.072538Z"
    }
   },
   "outputs": [],
   "source": [
    "# словарь для замены цифр на названия сегментов с помощью регулярных выражений\n",
    "segt_dict = {\n",
    "    r'[1-2][1-2]': 'hibernating',\n",
    "    r'[1-2]3': 'about to sleep',\n",
    "    r'[1-2][4-5]': 'promising',\n",
    "    r'3[1-2]': 'at risk',\n",
    "    r'33': 'need attention',\n",
    "    r'3[4-5]': 'potential loyalists',\n",
    "    r'[4-5][1-2]': 'can\\'t loose',\n",
    "    r'[4-5]3': 'loyal customers',\n",
    "    r'[4-5][4-5]': 'champions'\n",
    "}"
   ]
  },
  {
   "cell_type": "code",
   "execution_count": 265,
   "id": "9d276fad",
   "metadata": {
    "ExecuteTime": {
     "end_time": "2023-04-02T07:36:27.152705Z",
     "start_time": "2023-04-02T07:36:25.088173Z"
    }
   },
   "outputs": [
    {
     "data": {
      "text/html": [
       "<div>\n",
       "<style scoped>\n",
       "    .dataframe tbody tr th:only-of-type {\n",
       "        vertical-align: middle;\n",
       "    }\n",
       "\n",
       "    .dataframe tbody tr th {\n",
       "        vertical-align: top;\n",
       "    }\n",
       "\n",
       "    .dataframe thead th {\n",
       "        text-align: right;\n",
       "    }\n",
       "</style>\n",
       "<table border=\"1\" class=\"dataframe\">\n",
       "  <thead>\n",
       "    <tr style=\"text-align: right;\">\n",
       "      <th></th>\n",
       "      <th>customer_unique_id</th>\n",
       "      <th>Recency</th>\n",
       "      <th>Frequency</th>\n",
       "      <th>Monetary</th>\n",
       "      <th>R</th>\n",
       "      <th>F</th>\n",
       "      <th>M</th>\n",
       "      <th>RFM_Score</th>\n",
       "      <th>Segment</th>\n",
       "    </tr>\n",
       "  </thead>\n",
       "  <tbody>\n",
       "    <tr>\n",
       "      <th>0</th>\n",
       "      <td>0000366f3b9a7992bf8c76cfdf3221e2</td>\n",
       "      <td>112</td>\n",
       "      <td>1</td>\n",
       "      <td>129.90</td>\n",
       "      <td>4</td>\n",
       "      <td>1</td>\n",
       "      <td>4</td>\n",
       "      <td>414</td>\n",
       "      <td>champions</td>\n",
       "    </tr>\n",
       "    <tr>\n",
       "      <th>1</th>\n",
       "      <td>0000b849f77a49e4a4ce2b2a4ca5be3f</td>\n",
       "      <td>115</td>\n",
       "      <td>1</td>\n",
       "      <td>18.90</td>\n",
       "      <td>4</td>\n",
       "      <td>1</td>\n",
       "      <td>1</td>\n",
       "      <td>411</td>\n",
       "      <td>can't loose</td>\n",
       "    </tr>\n",
       "    <tr>\n",
       "      <th>2</th>\n",
       "      <td>0000f46a3911fa3c0805444483337064</td>\n",
       "      <td>537</td>\n",
       "      <td>1</td>\n",
       "      <td>69.00</td>\n",
       "      <td>1</td>\n",
       "      <td>1</td>\n",
       "      <td>2</td>\n",
       "      <td>112</td>\n",
       "      <td>hibernating</td>\n",
       "    </tr>\n",
       "    <tr>\n",
       "      <th>3</th>\n",
       "      <td>0000f6ccb0745a6a4b88665a16c9f078</td>\n",
       "      <td>321</td>\n",
       "      <td>1</td>\n",
       "      <td>25.99</td>\n",
       "      <td>2</td>\n",
       "      <td>1</td>\n",
       "      <td>1</td>\n",
       "      <td>211</td>\n",
       "      <td>hibernating</td>\n",
       "    </tr>\n",
       "    <tr>\n",
       "      <th>4</th>\n",
       "      <td>0004aac84e0df4da2b147fca70cf8255</td>\n",
       "      <td>288</td>\n",
       "      <td>1</td>\n",
       "      <td>180.00</td>\n",
       "      <td>2</td>\n",
       "      <td>1</td>\n",
       "      <td>5</td>\n",
       "      <td>215</td>\n",
       "      <td>promising</td>\n",
       "    </tr>\n",
       "  </tbody>\n",
       "</table>\n",
       "</div>"
      ],
      "text/plain": [
       "                 customer_unique_id  Recency  Frequency  Monetary  R  F  M  \\\n",
       "0  0000366f3b9a7992bf8c76cfdf3221e2      112          1    129.90  4  1  4   \n",
       "1  0000b849f77a49e4a4ce2b2a4ca5be3f      115          1     18.90  4  1  1   \n",
       "2  0000f46a3911fa3c0805444483337064      537          1     69.00  1  1  2   \n",
       "3  0000f6ccb0745a6a4b88665a16c9f078      321          1     25.99  2  1  1   \n",
       "4  0004aac84e0df4da2b147fca70cf8255      288          1    180.00  2  1  5   \n",
       "\n",
       "  RFM_Score      Segment  \n",
       "0       414    champions  \n",
       "1       411  can't loose  \n",
       "2       112  hibernating  \n",
       "3       211  hibernating  \n",
       "4       215    promising  "
      ]
     },
     "execution_count": 265,
     "metadata": {},
     "output_type": "execute_result"
    }
   ],
   "source": [
    "df_rfm['Segment'] = df_rfm['R'].map(str) + df_rfm['M'].map(str)\n",
    "df_rfm['Segment'] = df_rfm['Segment'].replace(segt_dict, regex=True)\n",
    "df_rfm.head()"
   ]
  },
  {
   "cell_type": "markdown",
   "id": "1165d291",
   "metadata": {},
   "source": [
    "Построим визуализацию нашего RFM анализа"
   ]
  },
  {
   "cell_type": "code",
   "execution_count": 266,
   "id": "fc56c4dc",
   "metadata": {
    "ExecuteTime": {
     "end_time": "2023-04-02T07:36:32.371207Z",
     "start_time": "2023-04-02T07:36:27.152705Z"
    }
   },
   "outputs": [
    {
     "data": {
      "image/png": "[encoded data removed]",
      "text/plain": [
       "<Figure size 720x288 with 2 Axes>"
      ]
     },
     "metadata": {},
     "output_type": "display_data"
    },
    {
     "data": {
      "image/png": "[encoded data removed]",
      "text/plain": [
       "<Figure size 720x720 with 25 Axes>"
      ]
     },
     "metadata": {},
     "output_type": "display_data"
    }
   ],
   "source": [
    "# строим распределение клиентов по R и M оценкам\n",
    "fig, axes = plt.subplots(nrows=1, ncols=2, figsize=(10, 4))\n",
    "\n",
    "for i, p in enumerate(['R', 'M']):\n",
    "    parameters = {'R':'Recency', 'M':'Monetary'}\n",
    "    y = df_rfm[p].value_counts().sort_index()\n",
    "    x = y.index\n",
    "    ax = axes[i]\n",
    "    bars = ax.bar(x, y, color='silver')\n",
    "    ax.set_frame_on(False)\n",
    "    ax.tick_params(left=False, labelleft=False, bottom=False)\n",
    "    ax.set_title('Распределение {}'.format(parameters[p]),\n",
    "                fontsize=14)\n",
    "    for bar in bars:\n",
    "        value = bar.get_height()\n",
    "        if value == y.max():\n",
    "            bar.set_color('firebrick')\n",
    "        ax.text(bar.get_x() + bar.get_width() / 2,\n",
    "                value - 5,\n",
    "                '{}\\n({}%)'.format(int(value), int(value * 100 / y.sum())),\n",
    "               ha='center',\n",
    "               va='top',\n",
    "               color='w')\n",
    "\n",
    "plt.show()\n",
    "\n",
    "# строим распределение F оценки в зависимости от RM рейтинга\n",
    "fig, axes = plt.subplots(nrows=5, ncols=5,\n",
    "                         sharex=False, sharey=True,\n",
    "                         figsize=(10, 10))\n",
    "\n",
    "r_range = range(1, 6)\n",
    "m_range = range(1, 6)\n",
    "for r in r_range:\n",
    "    for m in m_range:\n",
    "        y = df_rfm[(df_rfm['R'] == r) & (df_rfm['M'] == m)]['F'].value_counts().sort_index()\n",
    "        x = y.index\n",
    "        ax = axes[r - 1, m - 1]\n",
    "        bars = ax.bar(x, y, color='silver')\n",
    "        if r == 5:\n",
    "            if m == 3:\n",
    "                ax.set_xlabel('{}\\nM'.format(m), va='top')\n",
    "            else:\n",
    "                ax.set_xlabel('{}\\n'.format(m), va='top')\n",
    "        if m == 1:\n",
    "            if r == 3:\n",
    "                ax.set_ylabel('R\\n{}'.format(r))\n",
    "            else:\n",
    "                ax.set_ylabel(r)\n",
    "        ax.set_frame_on(False)\n",
    "        ax.tick_params(left=False, labelleft=False, bottom=False)\n",
    "        ax.set_xticks(x)\n",
    "        ax.set_xticklabels(x, fontsize=8)\n",
    "\n",
    "        for bar in bars:\n",
    "            value = bar.get_height()\n",
    "            if value == y.max():\n",
    "                bar.set_color('firebrick')\n",
    "            ax.text(bar.get_x() + bar.get_width() / 2,\n",
    "                    value,\n",
    "                    int(value),\n",
    "                    ha='center',\n",
    "                    va='bottom',\n",
    "                    color='k')\n",
    "fig.suptitle('Распределение F для каждых R и M',\n",
    "             fontsize=14)\n",
    "plt.tight_layout()\n",
    "plt.show()"
   ]
  },
  {
   "cell_type": "markdown",
   "id": "00b212b7",
   "metadata": {},
   "source": [
    "Распределения оценок R и M равномерные. Можно заметить интересную тенденцию: клиенты, покупающие на большую сумму, чаще делают более одного заказа. Значит сумма покупки могла бы служить нам ориентиром, стоит ли тратить деньги на попытку завлечь пользователя повторно или нет."
   ]
  },
  {
   "cell_type": "code",
   "execution_count": 267,
   "id": "04fafa22",
   "metadata": {
    "ExecuteTime": {
     "end_time": "2023-04-02T07:36:32.659433Z",
     "start_time": "2023-04-02T07:36:32.371207Z"
    }
   },
   "outputs": [
    {
     "data": {
      "image/png": "[encoded data removed]",
      "text/plain": [
       "<Figure size 432x288 with 1 Axes>"
      ]
     },
     "metadata": {},
     "output_type": "display_data"
    }
   ],
   "source": [
    "# подсчитываем количество клиентов в каждом сегменте\n",
    "segments_counts = df_rfm['Segment'].value_counts().sort_values(ascending=True)\n",
    "\n",
    "fig, ax = plt.subplots()\n",
    "\n",
    "bars = ax.barh(range(len(segments_counts)),\n",
    "              segments_counts,\n",
    "              color='silver')\n",
    "ax.set_frame_on(False)\n",
    "ax.tick_params(left=False,\n",
    "               bottom=False,\n",
    "               labelbottom=False)\n",
    "ax.set_yticks(range(len(segments_counts)))\n",
    "ax.set_yticklabels(segments_counts.index)\n",
    "\n",
    "for i, bar in enumerate(bars):\n",
    "        value = bar.get_width()\n",
    "        if segments_counts.index[i] in ['champions', 'potential loyalists', 'promising']:\n",
    "            bar.set_color('firebrick')\n",
    "        ax.text(value,\n",
    "                bar.get_y() + bar.get_height()/2,\n",
    "                '{:,} ({:}%)'.format(int(value),\n",
    "                                   int(value*100/segments_counts.sum())),\n",
    "                va='center',\n",
    "                ha='left'\n",
    "               )\n",
    "\n",
    "plt.show()"
   ]
  },
  {
   "cell_type": "markdown",
   "id": "95d80845",
   "metadata": {},
   "source": [
    "Красным выделены сегменты с наибольшей метрикой M. Вклад этих пользователей в общую прибыль наибольший, а также они чаще делают повторные заказы. Далее мы могли бы разработать подходы по взаимодействию с ними и попробовать разобраться с тем, чем клиенты с большим чеком отличаются от клиентов с маленьким и как перевести вторых в первых."
   ]
  },
  {
   "cell_type": "markdown",
   "id": "e4fdcfad",
   "metadata": {},
   "source": [
    "# Заключение"
   ]
  },
  {
   "cell_type": "markdown",
   "id": "b55bfeb0",
   "metadata": {},
   "source": [
    "Итак, в данном проекте я исследовал данные из e-commerce, выгрузил и изучил датасеты, осмыслил описание колонок и взаимосвязь между таблицами. Самостоятельно определил, что является покупкой и обосновал свой выбор. Я постарался изучить и объяснить все аномалии в данных, а также сформировать выводы по заданиям. Провел когортный и сегментный анализы пользователей, описал подход и результаты."
   ]
  }
 ],
 "metadata": {
  "kernelspec": {
   "display_name": "Python 3 (ipykernel)",
   "language": "python",
   "name": "python3"
  },
  "language_info": {
   "codemirror_mode": {
    "name": "ipython",
    "version": 3
   },
   "file_extension": ".py",
   "mimetype": "text/x-python",
   "name": "python",
   "nbconvert_exporter": "python",
   "pygments_lexer": "ipython3",
   "version": "3.10.0"
  },
  "nbTranslate": {
   "displayLangs": [
    "*"
   ],
   "hotkey": "alt-t",
   "langInMainMenu": true,
   "sourceLang": "en",
   "targetLang": "fr",
   "useGoogleTranslate": true
  },
  "toc": {
   "base_numbering": 1,
   "nav_menu": {},
   "number_sections": true,
   "sideBar": true,
   "skip_h1_title": false,
   "title_cell": "Table of Contents",
   "title_sidebar": "Contents",
   "toc_cell": false,
   "toc_position": {},
   "toc_section_display": true,
   "toc_window_display": false
  },
  "varInspector": {
   "cols": {
    "lenName": 16,
    "lenType": 16,
    "lenVar": 40
   },
   "kernels_config": {
    "python": {
     "delete_cmd_postfix": "",
     "delete_cmd_prefix": "del ",
     "library": "var_list.py",
     "varRefreshCmd": "print(var_dic_list())"
    },
    "r": {
     "delete_cmd_postfix": ") ",
     "delete_cmd_prefix": "rm(",
     "library": "var_list.r",
     "varRefreshCmd": "cat(var_dic_list()) "
    }
   },
   "types_to_exclude": [
    "module",
    "function",
    "builtin_function_or_method",
    "instance",
    "_Feature"
   ],
   "window_display": false
  }
 },
 "nbformat": 4,
 "nbformat_minor": 5
}
