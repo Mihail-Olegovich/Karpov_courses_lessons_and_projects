{
 "cells": [
  {
   "cell_type": "code",
   "execution_count": 66,
   "id": "3ccd285b",
   "metadata": {
    "ExecuteTime": {
     "end_time": "2023-04-02T10:04:42.807214Z",
     "start_time": "2023-04-02T10:04:42.792620Z"
    }
   },
   "outputs": [],
   "source": [
    "import numpy as np\n",
    "from scipy.stats import ttest_ind\n",
    "import matplotlib.pyplot as plt"
   ]
  },
  {
   "cell_type": "code",
   "execution_count": 62,
   "id": "1cec5ba4",
   "metadata": {
    "ExecuteTime": {
     "end_time": "2023-04-02T09:50:02.430264Z",
     "start_time": "2023-04-02T09:48:41.213119Z"
    },
    "scrolled": true
   },
   "outputs": [
    {
     "name": "stdout",
     "output_type": "stream",
     "text": [
      "0.0\n"
     ]
    }
   ],
   "source": [
    "normal_distr_1 = []\n",
    "normal_distr_2 = []\n",
    "p_value = []\n",
    "counter = 0\n",
    "iterations = 1000\n",
    "for _ in range(iterations):    \n",
    "    normal_distr_1 += np.random.normal(100, 10, 1000).tolist()\n",
    "    normal_distr_2 += np.random.normal(100, 10, 1000).tolist()\n",
    "    result = ttest_ind(normal_distr_1, normal_distr_2)\n",
    "    p_value.append(result.pvalue)\n",
    "    if result.pvalue < 0.05:\n",
    "        counter += 1\n",
    "print(counter/iterations)"
   ]
  },
  {
   "cell_type": "code",
   "execution_count": 61,
   "id": "98101845",
   "metadata": {
    "ExecuteTime": {
     "end_time": "2023-04-02T09:48:38.055301Z",
     "start_time": "2023-04-02T09:47:13.105393Z"
    }
   },
   "outputs": [
    {
     "name": "stdout",
     "output_type": "stream",
     "text": [
      "0.998\n"
     ]
    }
   ],
   "source": [
    "normal_distr_1 = []\n",
    "normal_distr_2 = []\n",
    "p_value = []\n",
    "counter = 0\n",
    "iterations = 1000\n",
    "for _ in range(iterations):    \n",
    "    normal_distr_1 += np.random.normal(100, 5, 1000).tolist()\n",
    "    normal_distr_2 += np.random.normal(100.5, 5, 1000).tolist()\n",
    "    result = ttest_ind(normal_distr_1, normal_distr_2)\n",
    "    p_value.append(result.pvalue)\n",
    "    if result.pvalue < 0.05:\n",
    "        counter += 1\n",
    "print(counter/iterations)"
   ]
  },
  {
   "cell_type": "markdown",
   "id": "e39b9a49",
   "metadata": {},
   "source": [
    "p-value должно иметь нормальное распределение в A/A тесте"
   ]
  },
  {
   "cell_type": "markdown",
   "id": "d04c834e",
   "metadata": {},
   "source": [
    "при добавлении юзера в бакет, нужно добавлять соль в хеш функцию от его id"
   ]
  },
  {
   "cell_type": "markdown",
   "id": "e804653d",
   "metadata": {},
   "source": [
    "измерение сразу несколькихметрик  на тесте вызывает проблему множественных сравнений "
   ]
  },
  {
   "cell_type": "code",
   "execution_count": null,
   "id": "8c117ce8",
   "metadata": {},
   "outputs": [],
   "source": []
  }
 ],
 "metadata": {
  "kernelspec": {
   "display_name": "Python 3 (ipykernel)",
   "language": "python",
   "name": "python3"
  },
  "language_info": {
   "codemirror_mode": {
    "name": "ipython",
    "version": 3
   },
   "file_extension": ".py",
   "mimetype": "text/x-python",
   "name": "python",
   "nbconvert_exporter": "python",
   "pygments_lexer": "ipython3",
   "version": "3.10.0"
  },
  "nbTranslate": {
   "displayLangs": [
    "*"
   ],
   "hotkey": "alt-t",
   "langInMainMenu": true,
   "sourceLang": "en",
   "targetLang": "fr",
   "useGoogleTranslate": true
  },
  "toc": {
   "base_numbering": 1,
   "nav_menu": {},
   "number_sections": true,
   "sideBar": true,
   "skip_h1_title": false,
   "title_cell": "Table of Contents",
   "title_sidebar": "Contents",
   "toc_cell": false,
   "toc_position": {},
   "toc_section_display": true,
   "toc_window_display": false
  },
  "varInspector": {
   "cols": {
    "lenName": 16,
    "lenType": 16,
    "lenVar": 40
   },
   "kernels_config": {
    "python": {
     "delete_cmd_postfix": "",
     "delete_cmd_prefix": "del ",
     "library": "var_list.py",
     "varRefreshCmd": "print(var_dic_list())"
    },
    "r": {
     "delete_cmd_postfix": ") ",
     "delete_cmd_prefix": "rm(",
     "library": "var_list.r",
     "varRefreshCmd": "cat(var_dic_list()) "
    }
   },
   "types_to_exclude": [
    "module",
    "function",
    "builtin_function_or_method",
    "instance",
    "_Feature"
   ],
   "window_display": false
  }
 },
 "nbformat": 4,
 "nbformat_minor": 5
}
