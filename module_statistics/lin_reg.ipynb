{
 "cells": [
  {
   "cell_type": "markdown",
   "id": "1e7463f1",
   "metadata": {},
   "source": [
    "# Прогнозируем цену автомобился с момощью линейной регрессии."
   ]
  },
  {
   "cell_type": "code",
   "execution_count": 102,
   "id": "336db147",
   "metadata": {
    "ExecuteTime": {
     "end_time": "2023-04-13T08:37:53.199317Z",
     "start_time": "2023-04-13T08:37:53.169196Z"
    }
   },
   "outputs": [],
   "source": [
    "import pandas as pd\n",
    "import seaborn as sns\n",
    "import scipy.stats as st\n",
    "import statsmodels.api as sm\n",
    "import matplotlib.pyplot as plt\n",
    "%matplotlib inline\n",
    "import statsmodels.formula.api as smf"
   ]
  },
  {
   "cell_type": "code",
   "execution_count": 103,
   "id": "9f9d9e27",
   "metadata": {
    "ExecuteTime": {
     "end_time": "2023-04-13T08:37:53.231310Z",
     "start_time": "2023-04-13T08:37:53.215314Z"
    }
   },
   "outputs": [],
   "source": [
    "sns.set(\n",
    "    font_scale=2,\n",
    "    style=\"whitegrid\",\n",
    "    rc={'figure.figsize':(15,8)}\n",
    "        )"
   ]
  },
  {
   "cell_type": "code",
   "execution_count": 104,
   "id": "18301fb5",
   "metadata": {
    "ExecuteTime": {
     "end_time": "2023-04-13T08:37:53.279319Z",
     "start_time": "2023-04-13T08:37:53.263313Z"
    }
   },
   "outputs": [],
   "source": [
    "data = pd.read_csv('C:/Users/1/JupyterProjects/Karpov_courses_lessons_and_projects/module_statistics/all_data/cars.csv')"
   ]
  },
  {
   "cell_type": "code",
   "execution_count": 105,
   "id": "b1c081a9",
   "metadata": {
    "ExecuteTime": {
     "end_time": "2023-04-13T08:37:53.343857Z",
     "start_time": "2023-04-13T08:37:53.303313Z"
    }
   },
   "outputs": [
    {
     "data": {
      "text/html": [
       "<div>\n",
       "<style scoped>\n",
       "    .dataframe tbody tr th:only-of-type {\n",
       "        vertical-align: middle;\n",
       "    }\n",
       "\n",
       "    .dataframe tbody tr th {\n",
       "        vertical-align: top;\n",
       "    }\n",
       "\n",
       "    .dataframe thead th {\n",
       "        text-align: right;\n",
       "    }\n",
       "</style>\n",
       "<table border=\"1\" class=\"dataframe\">\n",
       "  <thead>\n",
       "    <tr style=\"text-align: right;\">\n",
       "      <th></th>\n",
       "      <th>car_ID</th>\n",
       "      <th>symboling</th>\n",
       "      <th>CarName</th>\n",
       "      <th>fueltype</th>\n",
       "      <th>aspiration</th>\n",
       "      <th>doornumber</th>\n",
       "      <th>carbody</th>\n",
       "      <th>drivewheel</th>\n",
       "      <th>enginelocation</th>\n",
       "      <th>wheelbase</th>\n",
       "      <th>...</th>\n",
       "      <th>enginesize</th>\n",
       "      <th>fuelsystem</th>\n",
       "      <th>boreratio</th>\n",
       "      <th>stroke</th>\n",
       "      <th>compressionratio</th>\n",
       "      <th>horsepower</th>\n",
       "      <th>peakrpm</th>\n",
       "      <th>citympg</th>\n",
       "      <th>highwaympg</th>\n",
       "      <th>price</th>\n",
       "    </tr>\n",
       "  </thead>\n",
       "  <tbody>\n",
       "    <tr>\n",
       "      <th>0</th>\n",
       "      <td>1</td>\n",
       "      <td>3</td>\n",
       "      <td>alfa-romero giulia</td>\n",
       "      <td>gas</td>\n",
       "      <td>std</td>\n",
       "      <td>two</td>\n",
       "      <td>convertible</td>\n",
       "      <td>rwd</td>\n",
       "      <td>front</td>\n",
       "      <td>88.6</td>\n",
       "      <td>...</td>\n",
       "      <td>130</td>\n",
       "      <td>mpfi</td>\n",
       "      <td>3.47</td>\n",
       "      <td>2.68</td>\n",
       "      <td>9.0</td>\n",
       "      <td>111</td>\n",
       "      <td>5000</td>\n",
       "      <td>21</td>\n",
       "      <td>27</td>\n",
       "      <td>13495.0</td>\n",
       "    </tr>\n",
       "    <tr>\n",
       "      <th>1</th>\n",
       "      <td>2</td>\n",
       "      <td>3</td>\n",
       "      <td>alfa-romero stelvio</td>\n",
       "      <td>gas</td>\n",
       "      <td>std</td>\n",
       "      <td>two</td>\n",
       "      <td>convertible</td>\n",
       "      <td>rwd</td>\n",
       "      <td>front</td>\n",
       "      <td>88.6</td>\n",
       "      <td>...</td>\n",
       "      <td>130</td>\n",
       "      <td>mpfi</td>\n",
       "      <td>3.47</td>\n",
       "      <td>2.68</td>\n",
       "      <td>9.0</td>\n",
       "      <td>111</td>\n",
       "      <td>5000</td>\n",
       "      <td>21</td>\n",
       "      <td>27</td>\n",
       "      <td>16500.0</td>\n",
       "    </tr>\n",
       "    <tr>\n",
       "      <th>2</th>\n",
       "      <td>3</td>\n",
       "      <td>1</td>\n",
       "      <td>alfa-romero Quadrifoglio</td>\n",
       "      <td>gas</td>\n",
       "      <td>std</td>\n",
       "      <td>two</td>\n",
       "      <td>hatchback</td>\n",
       "      <td>rwd</td>\n",
       "      <td>front</td>\n",
       "      <td>94.5</td>\n",
       "      <td>...</td>\n",
       "      <td>152</td>\n",
       "      <td>mpfi</td>\n",
       "      <td>2.68</td>\n",
       "      <td>3.47</td>\n",
       "      <td>9.0</td>\n",
       "      <td>154</td>\n",
       "      <td>5000</td>\n",
       "      <td>19</td>\n",
       "      <td>26</td>\n",
       "      <td>16500.0</td>\n",
       "    </tr>\n",
       "    <tr>\n",
       "      <th>3</th>\n",
       "      <td>4</td>\n",
       "      <td>2</td>\n",
       "      <td>audi 100 ls</td>\n",
       "      <td>gas</td>\n",
       "      <td>std</td>\n",
       "      <td>four</td>\n",
       "      <td>sedan</td>\n",
       "      <td>fwd</td>\n",
       "      <td>front</td>\n",
       "      <td>99.8</td>\n",
       "      <td>...</td>\n",
       "      <td>109</td>\n",
       "      <td>mpfi</td>\n",
       "      <td>3.19</td>\n",
       "      <td>3.40</td>\n",
       "      <td>10.0</td>\n",
       "      <td>102</td>\n",
       "      <td>5500</td>\n",
       "      <td>24</td>\n",
       "      <td>30</td>\n",
       "      <td>13950.0</td>\n",
       "    </tr>\n",
       "    <tr>\n",
       "      <th>4</th>\n",
       "      <td>5</td>\n",
       "      <td>2</td>\n",
       "      <td>audi 100ls</td>\n",
       "      <td>gas</td>\n",
       "      <td>std</td>\n",
       "      <td>four</td>\n",
       "      <td>sedan</td>\n",
       "      <td>4wd</td>\n",
       "      <td>front</td>\n",
       "      <td>99.4</td>\n",
       "      <td>...</td>\n",
       "      <td>136</td>\n",
       "      <td>mpfi</td>\n",
       "      <td>3.19</td>\n",
       "      <td>3.40</td>\n",
       "      <td>8.0</td>\n",
       "      <td>115</td>\n",
       "      <td>5500</td>\n",
       "      <td>18</td>\n",
       "      <td>22</td>\n",
       "      <td>17450.0</td>\n",
       "    </tr>\n",
       "  </tbody>\n",
       "</table>\n",
       "<p>5 rows × 26 columns</p>\n",
       "</div>"
      ],
      "text/plain": [
       "   car_ID  symboling                   CarName fueltype aspiration doornumber  \\\n",
       "0       1          3        alfa-romero giulia      gas        std        two   \n",
       "1       2          3       alfa-romero stelvio      gas        std        two   \n",
       "2       3          1  alfa-romero Quadrifoglio      gas        std        two   \n",
       "3       4          2               audi 100 ls      gas        std       four   \n",
       "4       5          2                audi 100ls      gas        std       four   \n",
       "\n",
       "       carbody drivewheel enginelocation  wheelbase  ...  enginesize  \\\n",
       "0  convertible        rwd          front       88.6  ...         130   \n",
       "1  convertible        rwd          front       88.6  ...         130   \n",
       "2    hatchback        rwd          front       94.5  ...         152   \n",
       "3        sedan        fwd          front       99.8  ...         109   \n",
       "4        sedan        4wd          front       99.4  ...         136   \n",
       "\n",
       "   fuelsystem  boreratio  stroke compressionratio horsepower  peakrpm citympg  \\\n",
       "0        mpfi       3.47    2.68              9.0        111     5000      21   \n",
       "1        mpfi       3.47    2.68              9.0        111     5000      21   \n",
       "2        mpfi       2.68    3.47              9.0        154     5000      19   \n",
       "3        mpfi       3.19    3.40             10.0        102     5500      24   \n",
       "4        mpfi       3.19    3.40              8.0        115     5500      18   \n",
       "\n",
       "   highwaympg    price  \n",
       "0          27  13495.0  \n",
       "1          27  16500.0  \n",
       "2          26  16500.0  \n",
       "3          30  13950.0  \n",
       "4          22  17450.0  \n",
       "\n",
       "[5 rows x 26 columns]"
      ]
     },
     "execution_count": 105,
     "metadata": {},
     "output_type": "execute_result"
    }
   ],
   "source": [
    "# данные об автомобилях\n",
    "data.head()"
   ]
  },
  {
   "cell_type": "code",
   "execution_count": 106,
   "id": "2d319a47",
   "metadata": {
    "ExecuteTime": {
     "end_time": "2023-04-13T08:37:53.383578Z",
     "start_time": "2023-04-13T08:37:53.351646Z"
    }
   },
   "outputs": [
    {
     "name": "stdout",
     "output_type": "stream",
     "text": [
      "<class 'pandas.core.frame.DataFrame'>\n",
      "RangeIndex: 205 entries, 0 to 204\n",
      "Data columns (total 26 columns):\n",
      " #   Column            Non-Null Count  Dtype  \n",
      "---  ------            --------------  -----  \n",
      " 0   car_ID            205 non-null    int64  \n",
      " 1   symboling         205 non-null    int64  \n",
      " 2   CarName           205 non-null    object \n",
      " 3   fueltype          205 non-null    object \n",
      " 4   aspiration        205 non-null    object \n",
      " 5   doornumber        205 non-null    object \n",
      " 6   carbody           205 non-null    object \n",
      " 7   drivewheel        205 non-null    object \n",
      " 8   enginelocation    205 non-null    object \n",
      " 9   wheelbase         205 non-null    float64\n",
      " 10  carlength         205 non-null    float64\n",
      " 11  carwidth          205 non-null    float64\n",
      " 12  carheight         205 non-null    float64\n",
      " 13  curbweight        205 non-null    int64  \n",
      " 14  enginetype        205 non-null    object \n",
      " 15  cylindernumber    205 non-null    object \n",
      " 16  enginesize        205 non-null    int64  \n",
      " 17  fuelsystem        205 non-null    object \n",
      " 18  boreratio         205 non-null    float64\n",
      " 19  stroke            205 non-null    float64\n",
      " 20  compressionratio  205 non-null    float64\n",
      " 21  horsepower        205 non-null    int64  \n",
      " 22  peakrpm           205 non-null    int64  \n",
      " 23  citympg           205 non-null    int64  \n",
      " 24  highwaympg        205 non-null    int64  \n",
      " 25  price             205 non-null    float64\n",
      "dtypes: float64(8), int64(8), object(10)\n",
      "memory usage: 41.8+ KB\n"
     ]
    }
   ],
   "source": [
    "data.info()"
   ]
  },
  {
   "cell_type": "code",
   "execution_count": 107,
   "id": "f5c4355f",
   "metadata": {
    "ExecuteTime": {
     "end_time": "2023-04-13T08:37:53.415700Z",
     "start_time": "2023-04-13T08:37:53.391573Z"
    }
   },
   "outputs": [],
   "source": [
    "# вычленим марку автомобиля из поля CarName\n",
    "data['CarName'] = data.CarName.str.split().str.get(0)"
   ]
  },
  {
   "cell_type": "code",
   "execution_count": 108,
   "id": "6d788995",
   "metadata": {
    "ExecuteTime": {
     "end_time": "2023-04-13T08:37:53.447563Z",
     "start_time": "2023-04-13T08:37:53.431569Z"
    }
   },
   "outputs": [
    {
     "data": {
      "text/plain": [
       "array(['alfa-romero', 'audi', 'bmw', 'chevrolet', 'dodge', 'honda',\n",
       "       'isuzu', 'jaguar', 'maxda', 'mazda', 'buick', 'mercury',\n",
       "       'mitsubishi', 'Nissan', 'nissan', 'peugeot', 'plymouth', 'porsche',\n",
       "       'porcshce', 'renault', 'saab', 'subaru', 'toyota', 'toyouta',\n",
       "       'vokswagen', 'volkswagen', 'vw', 'volvo'], dtype=object)"
      ]
     },
     "execution_count": 108,
     "metadata": {},
     "output_type": "execute_result"
    }
   ],
   "source": [
    "data.CarName.unique()"
   ]
  },
  {
   "cell_type": "markdown",
   "id": "2c3755f6",
   "metadata": {},
   "source": [
    "Видим повторение одних и тех же марок, заменим их"
   ]
  },
  {
   "cell_type": "code",
   "execution_count": 109,
   "id": "8baa2c43",
   "metadata": {
    "ExecuteTime": {
     "end_time": "2023-04-13T08:37:53.615161Z",
     "start_time": "2023-04-13T08:37:53.592256Z"
    }
   },
   "outputs": [],
   "source": [
    "correct = {\n",
    "    'maxda': 'mazda',\n",
    "    'Nissan': 'nissan',\n",
    "    'porcshce': 'porsche',\n",
    "    'toyouta': 'toyota',\n",
    "    'vokswagen': 'volkswagen',\n",
    "    'vw': 'volkswagen'\n",
    "}"
   ]
  },
  {
   "cell_type": "code",
   "execution_count": 110,
   "id": "2342346d",
   "metadata": {
    "ExecuteTime": {
     "end_time": "2023-04-13T08:37:53.647152Z",
     "start_time": "2023-04-13T08:37:53.631164Z"
    }
   },
   "outputs": [],
   "source": [
    "data['company'] = data['CarName'].replace(correct)"
   ]
  },
  {
   "cell_type": "code",
   "execution_count": 111,
   "id": "18d59767",
   "metadata": {
    "ExecuteTime": {
     "end_time": "2023-04-13T08:37:53.687151Z",
     "start_time": "2023-04-13T08:37:53.671152Z"
    }
   },
   "outputs": [
    {
     "data": {
      "text/plain": [
       "28"
      ]
     },
     "execution_count": 111,
     "metadata": {},
     "output_type": "execute_result"
    }
   ],
   "source": [
    "data.CarName.nunique()"
   ]
  },
  {
   "cell_type": "code",
   "execution_count": 112,
   "id": "7d36b1be",
   "metadata": {
    "ExecuteTime": {
     "end_time": "2023-04-13T08:37:53.735145Z",
     "start_time": "2023-04-13T08:37:53.711149Z"
    }
   },
   "outputs": [],
   "source": [
    "# удалим столбец с id машины, он нам не понадобится\n",
    "data.drop(columns=['car_ID'], inplace=True)"
   ]
  },
  {
   "cell_type": "markdown",
   "id": "e69dba12",
   "metadata": {},
   "source": [
    "Чтобы не перегружать модель большим количеством предикторов, оставим только часть из них:"
   ]
  },
  {
   "cell_type": "code",
   "execution_count": 113,
   "id": "d7833404",
   "metadata": {
    "ExecuteTime": {
     "end_time": "2023-04-13T08:37:53.907952Z",
     "start_time": "2023-04-13T08:37:53.887150Z"
    }
   },
   "outputs": [],
   "source": [
    "data = data[['company', 'fueltype', 'aspiration','carbody', \\\n",
    "             'drivewheel', 'wheelbase', 'carlength','carwidth', \\\n",
    "             'curbweight', 'enginetype', 'cylindernumber', 'enginesize', 'boreratio','horsepower', 'price']]"
   ]
  },
  {
   "cell_type": "code",
   "execution_count": 114,
   "id": "4ea260dd",
   "metadata": {
    "ExecuteTime": {
     "end_time": "2023-04-13T08:37:53.971948Z",
     "start_time": "2023-04-13T08:37:53.931951Z"
    }
   },
   "outputs": [
    {
     "data": {
      "text/html": [
       "<style type=\"text/css\">\n",
       "#T_7103d_row0_col0, #T_7103d_row1_col1, #T_7103d_row2_col2, #T_7103d_row3_col3, #T_7103d_row4_col4, #T_7103d_row5_col5, #T_7103d_row6_col6, #T_7103d_row7_col7 {\n",
       "  background-color: #b40426;\n",
       "  color: #f1f1f1;\n",
       "}\n",
       "#T_7103d_row0_col1 {\n",
       "  background-color: #f6a586;\n",
       "  color: #000000;\n",
       "}\n",
       "#T_7103d_row0_col2 {\n",
       "  background-color: #e6d7cf;\n",
       "  color: #000000;\n",
       "}\n",
       "#T_7103d_row0_col3 {\n",
       "  background-color: #b5cdfa;\n",
       "  color: #000000;\n",
       "}\n",
       "#T_7103d_row0_col4, #T_7103d_row0_col5, #T_7103d_row0_col6, #T_7103d_row5_col2, #T_7103d_row5_col3, #T_7103d_row5_col7, #T_7103d_row6_col0, #T_7103d_row6_col1 {\n",
       "  background-color: #3b4cc0;\n",
       "  color: #f1f1f1;\n",
       "}\n",
       "#T_7103d_row0_col7 {\n",
       "  background-color: #4b64d5;\n",
       "  color: #f1f1f1;\n",
       "}\n",
       "#T_7103d_row1_col0 {\n",
       "  background-color: #ec8165;\n",
       "  color: #f1f1f1;\n",
       "}\n",
       "#T_7103d_row1_col2 {\n",
       "  background-color: #f5c0a7;\n",
       "  color: #000000;\n",
       "}\n",
       "#T_7103d_row1_col3 {\n",
       "  background-color: #f6bda2;\n",
       "  color: #000000;\n",
       "}\n",
       "#T_7103d_row1_col4 {\n",
       "  background-color: #92b4fe;\n",
       "  color: #000000;\n",
       "}\n",
       "#T_7103d_row1_col5 {\n",
       "  background-color: #85a8fc;\n",
       "  color: #f1f1f1;\n",
       "}\n",
       "#T_7103d_row1_col6 {\n",
       "  background-color: #a1c0ff;\n",
       "  color: #000000;\n",
       "}\n",
       "#T_7103d_row1_col7, #T_7103d_row4_col1, #T_7103d_row6_col3, #T_7103d_row7_col1 {\n",
       "  background-color: #9bbcff;\n",
       "  color: #000000;\n",
       "}\n",
       "#T_7103d_row2_col0 {\n",
       "  background-color: #f7b396;\n",
       "  color: #000000;\n",
       "}\n",
       "#T_7103d_row2_col1 {\n",
       "  background-color: #f6bea4;\n",
       "  color: #000000;\n",
       "}\n",
       "#T_7103d_row2_col3 {\n",
       "  background-color: #f4c5ad;\n",
       "  color: #000000;\n",
       "}\n",
       "#T_7103d_row2_col4 {\n",
       "  background-color: #bbd1f8;\n",
       "  color: #000000;\n",
       "}\n",
       "#T_7103d_row2_col5 {\n",
       "  background-color: #6687ed;\n",
       "  color: #f1f1f1;\n",
       "}\n",
       "#T_7103d_row2_col6 {\n",
       "  background-color: #cdd9ec;\n",
       "  color: #000000;\n",
       "}\n",
       "#T_7103d_row2_col7 {\n",
       "  background-color: #d3dbe7;\n",
       "  color: #000000;\n",
       "}\n",
       "#T_7103d_row3_col0, #T_7103d_row3_col4 {\n",
       "  background-color: #f7bca1;\n",
       "  color: #000000;\n",
       "}\n",
       "#T_7103d_row3_col1 {\n",
       "  background-color: #f6a283;\n",
       "  color: #000000;\n",
       "}\n",
       "#T_7103d_row3_col2 {\n",
       "  background-color: #f7ad90;\n",
       "  color: #000000;\n",
       "}\n",
       "#T_7103d_row3_col5 {\n",
       "  background-color: #a2c1ff;\n",
       "  color: #000000;\n",
       "}\n",
       "#T_7103d_row3_col6 {\n",
       "  background-color: #f3c7b1;\n",
       "  color: #000000;\n",
       "}\n",
       "#T_7103d_row3_col7 {\n",
       "  background-color: #f5c2aa;\n",
       "  color: #000000;\n",
       "}\n",
       "#T_7103d_row4_col0 {\n",
       "  background-color: #aac7fd;\n",
       "  color: #000000;\n",
       "}\n",
       "#T_7103d_row4_col2 {\n",
       "  background-color: #c0d4f5;\n",
       "  color: #000000;\n",
       "}\n",
       "#T_7103d_row4_col3 {\n",
       "  background-color: #eed0c0;\n",
       "  color: #000000;\n",
       "}\n",
       "#T_7103d_row4_col5, #T_7103d_row6_col2 {\n",
       "  background-color: #7699f6;\n",
       "  color: #f1f1f1;\n",
       "}\n",
       "#T_7103d_row4_col6, #T_7103d_row7_col6 {\n",
       "  background-color: #f7aa8c;\n",
       "  color: #000000;\n",
       "}\n",
       "#T_7103d_row4_col7 {\n",
       "  background-color: #f7a688;\n",
       "  color: #000000;\n",
       "}\n",
       "#T_7103d_row5_col0 {\n",
       "  background-color: #7ea1fa;\n",
       "  color: #f1f1f1;\n",
       "}\n",
       "#T_7103d_row5_col1 {\n",
       "  background-color: #5f7fe8;\n",
       "  color: #f1f1f1;\n",
       "}\n",
       "#T_7103d_row5_col4 {\n",
       "  background-color: #445acc;\n",
       "  color: #f1f1f1;\n",
       "}\n",
       "#T_7103d_row5_col6 {\n",
       "  background-color: #adc9fd;\n",
       "  color: #000000;\n",
       "}\n",
       "#T_7103d_row6_col4 {\n",
       "  background-color: #ead4c8;\n",
       "  color: #000000;\n",
       "}\n",
       "#T_7103d_row6_col5 {\n",
       "  background-color: #6f92f3;\n",
       "  color: #f1f1f1;\n",
       "}\n",
       "#T_7103d_row6_col7 {\n",
       "  background-color: #edd1c2;\n",
       "  color: #000000;\n",
       "}\n",
       "#T_7103d_row7_col0 {\n",
       "  background-color: #aec9fc;\n",
       "  color: #000000;\n",
       "}\n",
       "#T_7103d_row7_col2 {\n",
       "  background-color: #d1dae9;\n",
       "  color: #000000;\n",
       "}\n",
       "#T_7103d_row7_col3 {\n",
       "  background-color: #e5d8d1;\n",
       "  color: #000000;\n",
       "}\n",
       "#T_7103d_row7_col4 {\n",
       "  background-color: #f7a98b;\n",
       "  color: #000000;\n",
       "}\n",
       "#T_7103d_row7_col5 {\n",
       "  background-color: #6282ea;\n",
       "  color: #f1f1f1;\n",
       "}\n",
       "</style>\n",
       "<table id=\"T_7103d\">\n",
       "  <thead>\n",
       "    <tr>\n",
       "      <th class=\"blank level0\" >&nbsp;</th>\n",
       "      <th id=\"T_7103d_level0_col0\" class=\"col_heading level0 col0\" >wheelbase</th>\n",
       "      <th id=\"T_7103d_level0_col1\" class=\"col_heading level0 col1\" >carlength</th>\n",
       "      <th id=\"T_7103d_level0_col2\" class=\"col_heading level0 col2\" >carwidth</th>\n",
       "      <th id=\"T_7103d_level0_col3\" class=\"col_heading level0 col3\" >curbweight</th>\n",
       "      <th id=\"T_7103d_level0_col4\" class=\"col_heading level0 col4\" >enginesize</th>\n",
       "      <th id=\"T_7103d_level0_col5\" class=\"col_heading level0 col5\" >boreratio</th>\n",
       "      <th id=\"T_7103d_level0_col6\" class=\"col_heading level0 col6\" >horsepower</th>\n",
       "      <th id=\"T_7103d_level0_col7\" class=\"col_heading level0 col7\" >price</th>\n",
       "    </tr>\n",
       "  </thead>\n",
       "  <tbody>\n",
       "    <tr>\n",
       "      <th id=\"T_7103d_level0_row0\" class=\"row_heading level0 row0\" >wheelbase</th>\n",
       "      <td id=\"T_7103d_row0_col0\" class=\"data row0 col0\" >1.000000</td>\n",
       "      <td id=\"T_7103d_row0_col1\" class=\"data row0 col1\" >0.874587</td>\n",
       "      <td id=\"T_7103d_row0_col2\" class=\"data row0 col2\" >0.795144</td>\n",
       "      <td id=\"T_7103d_row0_col3\" class=\"data row0 col3\" >0.776386</td>\n",
       "      <td id=\"T_7103d_row0_col4\" class=\"data row0 col4\" >0.569329</td>\n",
       "      <td id=\"T_7103d_row0_col5\" class=\"data row0 col5\" >0.488750</td>\n",
       "      <td id=\"T_7103d_row0_col6\" class=\"data row0 col6\" >0.353294</td>\n",
       "      <td id=\"T_7103d_row0_col7\" class=\"data row0 col7\" >0.577816</td>\n",
       "    </tr>\n",
       "    <tr>\n",
       "      <th id=\"T_7103d_level0_row1\" class=\"row_heading level0 row1\" >carlength</th>\n",
       "      <td id=\"T_7103d_row1_col0\" class=\"data row1 col0\" >0.874587</td>\n",
       "      <td id=\"T_7103d_row1_col1\" class=\"data row1 col1\" >1.000000</td>\n",
       "      <td id=\"T_7103d_row1_col2\" class=\"data row1 col2\" >0.841118</td>\n",
       "      <td id=\"T_7103d_row1_col3\" class=\"data row1 col3\" >0.877728</td>\n",
       "      <td id=\"T_7103d_row1_col4\" class=\"data row1 col4\" >0.683360</td>\n",
       "      <td id=\"T_7103d_row1_col5\" class=\"data row1 col5\" >0.606454</td>\n",
       "      <td id=\"T_7103d_row1_col6\" class=\"data row1 col6\" >0.552623</td>\n",
       "      <td id=\"T_7103d_row1_col7\" class=\"data row1 col7\" >0.682920</td>\n",
       "    </tr>\n",
       "    <tr>\n",
       "      <th id=\"T_7103d_level0_row2\" class=\"row_heading level0 row2\" >carwidth</th>\n",
       "      <td id=\"T_7103d_row2_col0\" class=\"data row2 col0\" >0.795144</td>\n",
       "      <td id=\"T_7103d_row2_col1\" class=\"data row2 col1\" >0.841118</td>\n",
       "      <td id=\"T_7103d_row2_col2\" class=\"data row2 col2\" >1.000000</td>\n",
       "      <td id=\"T_7103d_row2_col3\" class=\"data row2 col3\" >0.867032</td>\n",
       "      <td id=\"T_7103d_row2_col4\" class=\"data row2 col4\" >0.735433</td>\n",
       "      <td id=\"T_7103d_row2_col5\" class=\"data row2 col5\" >0.559150</td>\n",
       "      <td id=\"T_7103d_row2_col6\" class=\"data row2 col6\" >0.640732</td>\n",
       "      <td id=\"T_7103d_row2_col7\" class=\"data row2 col7\" >0.759325</td>\n",
       "    </tr>\n",
       "    <tr>\n",
       "      <th id=\"T_7103d_level0_row3\" class=\"row_heading level0 row3\" >curbweight</th>\n",
       "      <td id=\"T_7103d_row3_col0\" class=\"data row3 col0\" >0.776386</td>\n",
       "      <td id=\"T_7103d_row3_col1\" class=\"data row3 col1\" >0.877728</td>\n",
       "      <td id=\"T_7103d_row3_col2\" class=\"data row3 col2\" >0.867032</td>\n",
       "      <td id=\"T_7103d_row3_col3\" class=\"data row3 col3\" >1.000000</td>\n",
       "      <td id=\"T_7103d_row3_col4\" class=\"data row3 col4\" >0.850594</td>\n",
       "      <td id=\"T_7103d_row3_col5\" class=\"data row3 col5\" >0.648480</td>\n",
       "      <td id=\"T_7103d_row3_col6\" class=\"data row3 col6\" >0.750739</td>\n",
       "      <td id=\"T_7103d_row3_col7\" class=\"data row3 col7\" >0.835305</td>\n",
       "    </tr>\n",
       "    <tr>\n",
       "      <th id=\"T_7103d_level0_row4\" class=\"row_heading level0 row4\" >enginesize</th>\n",
       "      <td id=\"T_7103d_row4_col0\" class=\"data row4 col0\" >0.569329</td>\n",
       "      <td id=\"T_7103d_row4_col1\" class=\"data row4 col1\" >0.683360</td>\n",
       "      <td id=\"T_7103d_row4_col2\" class=\"data row4 col2\" >0.735433</td>\n",
       "      <td id=\"T_7103d_row4_col3\" class=\"data row4 col3\" >0.850594</td>\n",
       "      <td id=\"T_7103d_row4_col4\" class=\"data row4 col4\" >1.000000</td>\n",
       "      <td id=\"T_7103d_row4_col5\" class=\"data row4 col5\" >0.583774</td>\n",
       "      <td id=\"T_7103d_row4_col6\" class=\"data row4 col6\" >0.809769</td>\n",
       "      <td id=\"T_7103d_row4_col7\" class=\"data row4 col7\" >0.874145</td>\n",
       "    </tr>\n",
       "    <tr>\n",
       "      <th id=\"T_7103d_level0_row5\" class=\"row_heading level0 row5\" >boreratio</th>\n",
       "      <td id=\"T_7103d_row5_col0\" class=\"data row5 col0\" >0.488750</td>\n",
       "      <td id=\"T_7103d_row5_col1\" class=\"data row5 col1\" >0.606454</td>\n",
       "      <td id=\"T_7103d_row5_col2\" class=\"data row5 col2\" >0.559150</td>\n",
       "      <td id=\"T_7103d_row5_col3\" class=\"data row5 col3\" >0.648480</td>\n",
       "      <td id=\"T_7103d_row5_col4\" class=\"data row5 col4\" >0.583774</td>\n",
       "      <td id=\"T_7103d_row5_col5\" class=\"data row5 col5\" >1.000000</td>\n",
       "      <td id=\"T_7103d_row5_col6\" class=\"data row5 col6\" >0.573677</td>\n",
       "      <td id=\"T_7103d_row5_col7\" class=\"data row5 col7\" >0.553173</td>\n",
       "    </tr>\n",
       "    <tr>\n",
       "      <th id=\"T_7103d_level0_row6\" class=\"row_heading level0 row6\" >horsepower</th>\n",
       "      <td id=\"T_7103d_row6_col0\" class=\"data row6 col0\" >0.353294</td>\n",
       "      <td id=\"T_7103d_row6_col1\" class=\"data row6 col1\" >0.552623</td>\n",
       "      <td id=\"T_7103d_row6_col2\" class=\"data row6 col2\" >0.640732</td>\n",
       "      <td id=\"T_7103d_row6_col3\" class=\"data row6 col3\" >0.750739</td>\n",
       "      <td id=\"T_7103d_row6_col4\" class=\"data row6 col4\" >0.809769</td>\n",
       "      <td id=\"T_7103d_row6_col5\" class=\"data row6 col5\" >0.573677</td>\n",
       "      <td id=\"T_7103d_row6_col6\" class=\"data row6 col6\" >1.000000</td>\n",
       "      <td id=\"T_7103d_row6_col7\" class=\"data row6 col7\" >0.808139</td>\n",
       "    </tr>\n",
       "    <tr>\n",
       "      <th id=\"T_7103d_level0_row7\" class=\"row_heading level0 row7\" >price</th>\n",
       "      <td id=\"T_7103d_row7_col0\" class=\"data row7 col0\" >0.577816</td>\n",
       "      <td id=\"T_7103d_row7_col1\" class=\"data row7 col1\" >0.682920</td>\n",
       "      <td id=\"T_7103d_row7_col2\" class=\"data row7 col2\" >0.759325</td>\n",
       "      <td id=\"T_7103d_row7_col3\" class=\"data row7 col3\" >0.835305</td>\n",
       "      <td id=\"T_7103d_row7_col4\" class=\"data row7 col4\" >0.874145</td>\n",
       "      <td id=\"T_7103d_row7_col5\" class=\"data row7 col5\" >0.553173</td>\n",
       "      <td id=\"T_7103d_row7_col6\" class=\"data row7 col6\" >0.808139</td>\n",
       "      <td id=\"T_7103d_row7_col7\" class=\"data row7 col7\" >1.000000</td>\n",
       "    </tr>\n",
       "  </tbody>\n",
       "</table>\n"
      ],
      "text/plain": [
       "<pandas.io.formats.style.Styler at 0x2db2d0fb100>"
      ]
     },
     "execution_count": 114,
     "metadata": {},
     "output_type": "execute_result"
    }
   ],
   "source": [
    "data.corr().style.background_gradient(cmap='coolwarm')"
   ]
  },
  {
   "cell_type": "code",
   "execution_count": 115,
   "id": "18e53f08",
   "metadata": {
    "ExecuteTime": {
     "end_time": "2023-04-13T08:37:54.003936Z",
     "start_time": "2023-04-13T08:37:53.987955Z"
    }
   },
   "outputs": [
    {
     "data": {
      "text/plain": [
       "price         1.00\n",
       "enginesize    0.87\n",
       "curbweight    0.84\n",
       "horsepower    0.81\n",
       "carwidth      0.76\n",
       "carlength     0.68\n",
       "wheelbase     0.58\n",
       "boreratio     0.55\n",
       "Name: price, dtype: float64"
      ]
     },
     "execution_count": 115,
     "metadata": {},
     "output_type": "execute_result"
    }
   ],
   "source": [
    "data.corr()['price'].sort_values(ascending=False).round(2)"
   ]
  },
  {
   "cell_type": "code",
   "execution_count": 116,
   "id": "3999e4fe",
   "metadata": {
    "ExecuteTime": {
     "end_time": "2023-04-13T08:37:54.067985Z",
     "start_time": "2023-04-13T08:37:54.035936Z"
    }
   },
   "outputs": [],
   "source": [
    "# произведем one-hot кодирование\n",
    "data = pd.get_dummies(data=data, drop_first=True)"
   ]
  },
  {
   "cell_type": "code",
   "execution_count": 117,
   "id": "cfec98bc",
   "metadata": {
    "ExecuteTime": {
     "end_time": "2023-04-13T08:37:54.179954Z",
     "start_time": "2023-04-13T08:37:54.084055Z"
    }
   },
   "outputs": [
    {
     "data": {
      "text/html": [
       "<div>\n",
       "<style scoped>\n",
       "    .dataframe tbody tr th:only-of-type {\n",
       "        vertical-align: middle;\n",
       "    }\n",
       "\n",
       "    .dataframe tbody tr th {\n",
       "        vertical-align: top;\n",
       "    }\n",
       "\n",
       "    .dataframe thead th {\n",
       "        text-align: right;\n",
       "    }\n",
       "</style>\n",
       "<table border=\"1\" class=\"dataframe\">\n",
       "  <thead>\n",
       "    <tr style=\"text-align: right;\">\n",
       "      <th></th>\n",
       "      <th>wheelbase</th>\n",
       "      <th>carlength</th>\n",
       "      <th>carwidth</th>\n",
       "      <th>curbweight</th>\n",
       "      <th>enginesize</th>\n",
       "      <th>boreratio</th>\n",
       "      <th>horsepower</th>\n",
       "      <th>price</th>\n",
       "      <th>company_audi</th>\n",
       "      <th>company_bmw</th>\n",
       "      <th>...</th>\n",
       "      <th>enginetype_ohc</th>\n",
       "      <th>enginetype_ohcf</th>\n",
       "      <th>enginetype_ohcv</th>\n",
       "      <th>enginetype_rotor</th>\n",
       "      <th>cylindernumber_five</th>\n",
       "      <th>cylindernumber_four</th>\n",
       "      <th>cylindernumber_six</th>\n",
       "      <th>cylindernumber_three</th>\n",
       "      <th>cylindernumber_twelve</th>\n",
       "      <th>cylindernumber_two</th>\n",
       "    </tr>\n",
       "  </thead>\n",
       "  <tbody>\n",
       "    <tr>\n",
       "      <th>0</th>\n",
       "      <td>88.6</td>\n",
       "      <td>168.8</td>\n",
       "      <td>64.1</td>\n",
       "      <td>2548</td>\n",
       "      <td>130</td>\n",
       "      <td>3.47</td>\n",
       "      <td>111</td>\n",
       "      <td>13495.0</td>\n",
       "      <td>0</td>\n",
       "      <td>0</td>\n",
       "      <td>...</td>\n",
       "      <td>0</td>\n",
       "      <td>0</td>\n",
       "      <td>0</td>\n",
       "      <td>0</td>\n",
       "      <td>0</td>\n",
       "      <td>1</td>\n",
       "      <td>0</td>\n",
       "      <td>0</td>\n",
       "      <td>0</td>\n",
       "      <td>0</td>\n",
       "    </tr>\n",
       "    <tr>\n",
       "      <th>1</th>\n",
       "      <td>88.6</td>\n",
       "      <td>168.8</td>\n",
       "      <td>64.1</td>\n",
       "      <td>2548</td>\n",
       "      <td>130</td>\n",
       "      <td>3.47</td>\n",
       "      <td>111</td>\n",
       "      <td>16500.0</td>\n",
       "      <td>0</td>\n",
       "      <td>0</td>\n",
       "      <td>...</td>\n",
       "      <td>0</td>\n",
       "      <td>0</td>\n",
       "      <td>0</td>\n",
       "      <td>0</td>\n",
       "      <td>0</td>\n",
       "      <td>1</td>\n",
       "      <td>0</td>\n",
       "      <td>0</td>\n",
       "      <td>0</td>\n",
       "      <td>0</td>\n",
       "    </tr>\n",
       "    <tr>\n",
       "      <th>2</th>\n",
       "      <td>94.5</td>\n",
       "      <td>171.2</td>\n",
       "      <td>65.5</td>\n",
       "      <td>2823</td>\n",
       "      <td>152</td>\n",
       "      <td>2.68</td>\n",
       "      <td>154</td>\n",
       "      <td>16500.0</td>\n",
       "      <td>0</td>\n",
       "      <td>0</td>\n",
       "      <td>...</td>\n",
       "      <td>0</td>\n",
       "      <td>0</td>\n",
       "      <td>1</td>\n",
       "      <td>0</td>\n",
       "      <td>0</td>\n",
       "      <td>0</td>\n",
       "      <td>1</td>\n",
       "      <td>0</td>\n",
       "      <td>0</td>\n",
       "      <td>0</td>\n",
       "    </tr>\n",
       "    <tr>\n",
       "      <th>3</th>\n",
       "      <td>99.8</td>\n",
       "      <td>176.6</td>\n",
       "      <td>66.2</td>\n",
       "      <td>2337</td>\n",
       "      <td>109</td>\n",
       "      <td>3.19</td>\n",
       "      <td>102</td>\n",
       "      <td>13950.0</td>\n",
       "      <td>1</td>\n",
       "      <td>0</td>\n",
       "      <td>...</td>\n",
       "      <td>1</td>\n",
       "      <td>0</td>\n",
       "      <td>0</td>\n",
       "      <td>0</td>\n",
       "      <td>0</td>\n",
       "      <td>1</td>\n",
       "      <td>0</td>\n",
       "      <td>0</td>\n",
       "      <td>0</td>\n",
       "      <td>0</td>\n",
       "    </tr>\n",
       "    <tr>\n",
       "      <th>4</th>\n",
       "      <td>99.4</td>\n",
       "      <td>176.6</td>\n",
       "      <td>66.4</td>\n",
       "      <td>2824</td>\n",
       "      <td>136</td>\n",
       "      <td>3.19</td>\n",
       "      <td>115</td>\n",
       "      <td>17450.0</td>\n",
       "      <td>1</td>\n",
       "      <td>0</td>\n",
       "      <td>...</td>\n",
       "      <td>1</td>\n",
       "      <td>0</td>\n",
       "      <td>0</td>\n",
       "      <td>0</td>\n",
       "      <td>1</td>\n",
       "      <td>0</td>\n",
       "      <td>0</td>\n",
       "      <td>0</td>\n",
       "      <td>0</td>\n",
       "      <td>0</td>\n",
       "    </tr>\n",
       "    <tr>\n",
       "      <th>...</th>\n",
       "      <td>...</td>\n",
       "      <td>...</td>\n",
       "      <td>...</td>\n",
       "      <td>...</td>\n",
       "      <td>...</td>\n",
       "      <td>...</td>\n",
       "      <td>...</td>\n",
       "      <td>...</td>\n",
       "      <td>...</td>\n",
       "      <td>...</td>\n",
       "      <td>...</td>\n",
       "      <td>...</td>\n",
       "      <td>...</td>\n",
       "      <td>...</td>\n",
       "      <td>...</td>\n",
       "      <td>...</td>\n",
       "      <td>...</td>\n",
       "      <td>...</td>\n",
       "      <td>...</td>\n",
       "      <td>...</td>\n",
       "      <td>...</td>\n",
       "    </tr>\n",
       "    <tr>\n",
       "      <th>200</th>\n",
       "      <td>109.1</td>\n",
       "      <td>188.8</td>\n",
       "      <td>68.9</td>\n",
       "      <td>2952</td>\n",
       "      <td>141</td>\n",
       "      <td>3.78</td>\n",
       "      <td>114</td>\n",
       "      <td>16845.0</td>\n",
       "      <td>0</td>\n",
       "      <td>0</td>\n",
       "      <td>...</td>\n",
       "      <td>1</td>\n",
       "      <td>0</td>\n",
       "      <td>0</td>\n",
       "      <td>0</td>\n",
       "      <td>0</td>\n",
       "      <td>1</td>\n",
       "      <td>0</td>\n",
       "      <td>0</td>\n",
       "      <td>0</td>\n",
       "      <td>0</td>\n",
       "    </tr>\n",
       "    <tr>\n",
       "      <th>201</th>\n",
       "      <td>109.1</td>\n",
       "      <td>188.8</td>\n",
       "      <td>68.8</td>\n",
       "      <td>3049</td>\n",
       "      <td>141</td>\n",
       "      <td>3.78</td>\n",
       "      <td>160</td>\n",
       "      <td>19045.0</td>\n",
       "      <td>0</td>\n",
       "      <td>0</td>\n",
       "      <td>...</td>\n",
       "      <td>1</td>\n",
       "      <td>0</td>\n",
       "      <td>0</td>\n",
       "      <td>0</td>\n",
       "      <td>0</td>\n",
       "      <td>1</td>\n",
       "      <td>0</td>\n",
       "      <td>0</td>\n",
       "      <td>0</td>\n",
       "      <td>0</td>\n",
       "    </tr>\n",
       "    <tr>\n",
       "      <th>202</th>\n",
       "      <td>109.1</td>\n",
       "      <td>188.8</td>\n",
       "      <td>68.9</td>\n",
       "      <td>3012</td>\n",
       "      <td>173</td>\n",
       "      <td>3.58</td>\n",
       "      <td>134</td>\n",
       "      <td>21485.0</td>\n",
       "      <td>0</td>\n",
       "      <td>0</td>\n",
       "      <td>...</td>\n",
       "      <td>0</td>\n",
       "      <td>0</td>\n",
       "      <td>1</td>\n",
       "      <td>0</td>\n",
       "      <td>0</td>\n",
       "      <td>0</td>\n",
       "      <td>1</td>\n",
       "      <td>0</td>\n",
       "      <td>0</td>\n",
       "      <td>0</td>\n",
       "    </tr>\n",
       "    <tr>\n",
       "      <th>203</th>\n",
       "      <td>109.1</td>\n",
       "      <td>188.8</td>\n",
       "      <td>68.9</td>\n",
       "      <td>3217</td>\n",
       "      <td>145</td>\n",
       "      <td>3.01</td>\n",
       "      <td>106</td>\n",
       "      <td>22470.0</td>\n",
       "      <td>0</td>\n",
       "      <td>0</td>\n",
       "      <td>...</td>\n",
       "      <td>1</td>\n",
       "      <td>0</td>\n",
       "      <td>0</td>\n",
       "      <td>0</td>\n",
       "      <td>0</td>\n",
       "      <td>0</td>\n",
       "      <td>1</td>\n",
       "      <td>0</td>\n",
       "      <td>0</td>\n",
       "      <td>0</td>\n",
       "    </tr>\n",
       "    <tr>\n",
       "      <th>204</th>\n",
       "      <td>109.1</td>\n",
       "      <td>188.8</td>\n",
       "      <td>68.9</td>\n",
       "      <td>3062</td>\n",
       "      <td>141</td>\n",
       "      <td>3.78</td>\n",
       "      <td>114</td>\n",
       "      <td>22625.0</td>\n",
       "      <td>0</td>\n",
       "      <td>0</td>\n",
       "      <td>...</td>\n",
       "      <td>1</td>\n",
       "      <td>0</td>\n",
       "      <td>0</td>\n",
       "      <td>0</td>\n",
       "      <td>0</td>\n",
       "      <td>1</td>\n",
       "      <td>0</td>\n",
       "      <td>0</td>\n",
       "      <td>0</td>\n",
       "      <td>0</td>\n",
       "    </tr>\n",
       "  </tbody>\n",
       "</table>\n",
       "<p>205 rows × 49 columns</p>\n",
       "</div>"
      ],
      "text/plain": [
       "     wheelbase  carlength  carwidth  curbweight  enginesize  boreratio  \\\n",
       "0         88.6      168.8      64.1        2548         130       3.47   \n",
       "1         88.6      168.8      64.1        2548         130       3.47   \n",
       "2         94.5      171.2      65.5        2823         152       2.68   \n",
       "3         99.8      176.6      66.2        2337         109       3.19   \n",
       "4         99.4      176.6      66.4        2824         136       3.19   \n",
       "..         ...        ...       ...         ...         ...        ...   \n",
       "200      109.1      188.8      68.9        2952         141       3.78   \n",
       "201      109.1      188.8      68.8        3049         141       3.78   \n",
       "202      109.1      188.8      68.9        3012         173       3.58   \n",
       "203      109.1      188.8      68.9        3217         145       3.01   \n",
       "204      109.1      188.8      68.9        3062         141       3.78   \n",
       "\n",
       "     horsepower    price  company_audi  company_bmw  ...  enginetype_ohc  \\\n",
       "0           111  13495.0             0            0  ...               0   \n",
       "1           111  16500.0             0            0  ...               0   \n",
       "2           154  16500.0             0            0  ...               0   \n",
       "3           102  13950.0             1            0  ...               1   \n",
       "4           115  17450.0             1            0  ...               1   \n",
       "..          ...      ...           ...          ...  ...             ...   \n",
       "200         114  16845.0             0            0  ...               1   \n",
       "201         160  19045.0             0            0  ...               1   \n",
       "202         134  21485.0             0            0  ...               0   \n",
       "203         106  22470.0             0            0  ...               1   \n",
       "204         114  22625.0             0            0  ...               1   \n",
       "\n",
       "     enginetype_ohcf  enginetype_ohcv  enginetype_rotor  cylindernumber_five  \\\n",
       "0                  0                0                 0                    0   \n",
       "1                  0                0                 0                    0   \n",
       "2                  0                1                 0                    0   \n",
       "3                  0                0                 0                    0   \n",
       "4                  0                0                 0                    1   \n",
       "..               ...              ...               ...                  ...   \n",
       "200                0                0                 0                    0   \n",
       "201                0                0                 0                    0   \n",
       "202                0                1                 0                    0   \n",
       "203                0                0                 0                    0   \n",
       "204                0                0                 0                    0   \n",
       "\n",
       "     cylindernumber_four  cylindernumber_six  cylindernumber_three  \\\n",
       "0                      1                   0                     0   \n",
       "1                      1                   0                     0   \n",
       "2                      0                   1                     0   \n",
       "3                      1                   0                     0   \n",
       "4                      0                   0                     0   \n",
       "..                   ...                 ...                   ...   \n",
       "200                    1                   0                     0   \n",
       "201                    1                   0                     0   \n",
       "202                    0                   1                     0   \n",
       "203                    0                   1                     0   \n",
       "204                    1                   0                     0   \n",
       "\n",
       "     cylindernumber_twelve  cylindernumber_two  \n",
       "0                        0                   0  \n",
       "1                        0                   0  \n",
       "2                        0                   0  \n",
       "3                        0                   0  \n",
       "4                        0                   0  \n",
       "..                     ...                 ...  \n",
       "200                      0                   0  \n",
       "201                      0                   0  \n",
       "202                      0                   0  \n",
       "203                      0                   0  \n",
       "204                      0                   0  \n",
       "\n",
       "[205 rows x 49 columns]"
      ]
     },
     "execution_count": 117,
     "metadata": {},
     "output_type": "execute_result"
    }
   ],
   "source": [
    "data"
   ]
  },
  {
   "cell_type": "code",
   "execution_count": 118,
   "id": "65ab8d2f",
   "metadata": {
    "ExecuteTime": {
     "end_time": "2023-04-13T08:37:54.227938Z",
     "start_time": "2023-04-13T08:37:54.179954Z"
    }
   },
   "outputs": [
    {
     "name": "stdout",
     "output_type": "stream",
     "text": [
      "                            OLS Regression Results                            \n",
      "==============================================================================\n",
      "Dep. Variable:                  price   R-squared:                       0.653\n",
      "Model:                            OLS   Adj. R-squared:                  0.651\n",
      "Method:                 Least Squares   F-statistic:                     382.2\n",
      "Date:                Thu, 13 Apr 2023   Prob (F-statistic):           1.48e-48\n",
      "Time:                        11:37:54   Log-Likelihood:                -2024.0\n",
      "No. Observations:                 205   AIC:                             4052.\n",
      "Df Residuals:                     203   BIC:                             4059.\n",
      "Df Model:                           1                                         \n",
      "Covariance Type:            nonrobust                                         \n",
      "==============================================================================\n",
      "                 coef    std err          t      P>|t|      [0.025      0.975]\n",
      "------------------------------------------------------------------------------\n",
      "Intercept  -3721.7615    929.849     -4.003      0.000   -5555.163   -1888.360\n",
      "horsepower   163.2631      8.351     19.549      0.000     146.796     179.730\n",
      "==============================================================================\n",
      "Omnibus:                       47.741   Durbin-Watson:                   0.792\n",
      "Prob(Omnibus):                  0.000   Jarque-Bera (JB):               91.702\n",
      "Skew:                           1.141   Prob(JB):                     1.22e-20\n",
      "Kurtosis:                       5.352   Cond. No.                         314.\n",
      "==============================================================================\n",
      "\n",
      "Notes:\n",
      "[1] Standard Errors assume that the covariance matrix of the errors is correctly specified.\n"
     ]
    }
   ],
   "source": [
    "# обучим линейную модель от одной НП - horsepower\n",
    "result = smf.ols('price ~ horsepower', data=data).fit()\n",
    "print(result.summary())"
   ]
  },
  {
   "cell_type": "code",
   "execution_count": 119,
   "id": "5ed20afa",
   "metadata": {
    "ExecuteTime": {
     "end_time": "2023-04-13T08:37:54.243944Z",
     "start_time": "2023-04-13T08:37:54.227938Z"
    }
   },
   "outputs": [],
   "source": [
    "# центрирование интерсепта\n",
    "data['horsepower_cent'] = data['horsepower'] - data['horsepower'].mean() "
   ]
  },
  {
   "cell_type": "code",
   "execution_count": 120,
   "id": "a208a274",
   "metadata": {
    "ExecuteTime": {
     "end_time": "2023-04-13T08:37:54.324197Z",
     "start_time": "2023-04-13T08:37:54.283933Z"
    }
   },
   "outputs": [
    {
     "name": "stdout",
     "output_type": "stream",
     "text": [
      "                            OLS Regression Results                            \n",
      "==============================================================================\n",
      "Dep. Variable:                  price   R-squared:                       0.653\n",
      "Model:                            OLS   Adj. R-squared:                  0.651\n",
      "Method:                 Least Squares   F-statistic:                     382.2\n",
      "Date:                Thu, 13 Apr 2023   Prob (F-statistic):           1.48e-48\n",
      "Time:                        11:37:54   Log-Likelihood:                -2024.0\n",
      "No. Observations:                 205   AIC:                             4052.\n",
      "Df Residuals:                     203   BIC:                             4059.\n",
      "Df Model:                           1                                         \n",
      "Covariance Type:            nonrobust                                         \n",
      "===================================================================================\n",
      "                      coef    std err          t      P>|t|      [0.025      0.975]\n",
      "-----------------------------------------------------------------------------------\n",
      "Intercept        1.328e+04    329.446     40.300      0.000    1.26e+04    1.39e+04\n",
      "horsepower_cent   163.2631      8.351     19.549      0.000     146.796     179.730\n",
      "==============================================================================\n",
      "Omnibus:                       47.741   Durbin-Watson:                   0.792\n",
      "Prob(Omnibus):                  0.000   Jarque-Bera (JB):               91.702\n",
      "Skew:                           1.141   Prob(JB):                     1.22e-20\n",
      "Kurtosis:                       5.352   Cond. No.                         39.4\n",
      "==============================================================================\n",
      "\n",
      "Notes:\n",
      "[1] Standard Errors assume that the covariance matrix of the errors is correctly specified.\n"
     ]
    }
   ],
   "source": [
    "# интерсепт здесь показывает цену автомобиля со значением horsepower равным среднему по выборке\n",
    "result = smf.ols('price ~ horsepower_cent', data=data).fit()\n",
    "print(result.summary())"
   ]
  },
  {
   "cell_type": "code",
   "execution_count": 121,
   "id": "e0d94d9d",
   "metadata": {
    "ExecuteTime": {
     "end_time": "2023-04-13T08:37:54.355966Z",
     "start_time": "2023-04-13T08:37:54.331947Z"
    }
   },
   "outputs": [
    {
     "data": {
      "text/plain": [
       "104.1170731707317"
      ]
     },
     "execution_count": 121,
     "metadata": {},
     "output_type": "execute_result"
    }
   ],
   "source": [
    "data['horsepower'].mean()"
   ]
  },
  {
   "cell_type": "code",
   "execution_count": 122,
   "id": "b67911ac",
   "metadata": {
    "ExecuteTime": {
     "end_time": "2023-04-13T08:37:54.419967Z",
     "start_time": "2023-04-13T08:37:54.395961Z"
    }
   },
   "outputs": [],
   "source": [
    "data.drop('horsepower_cent', inplace=True, axis=1)"
   ]
  },
  {
   "cell_type": "code",
   "execution_count": 123,
   "id": "c41dac51",
   "metadata": {
    "ExecuteTime": {
     "end_time": "2023-04-13T08:37:54.563941Z",
     "start_time": "2023-04-13T08:37:54.460005Z"
    },
    "scrolled": false
   },
   "outputs": [
    {
     "name": "stdout",
     "output_type": "stream",
     "text": [
      "                            OLS Regression Results                            \n",
      "==============================================================================\n",
      "Dep. Variable:                  price   R-squared:                       0.959\n",
      "Model:                            OLS   Adj. R-squared:                  0.948\n",
      "Method:                 Least Squares   F-statistic:                     81.09\n",
      "Date:                Thu, 13 Apr 2023   Prob (F-statistic):           4.86e-89\n",
      "Time:                        11:37:54   Log-Likelihood:                -1804.2\n",
      "No. Observations:                 205   AIC:                             3702.\n",
      "Df Residuals:                     158   BIC:                             3858.\n",
      "Df Model:                          46                                         \n",
      "Covariance Type:            nonrobust                                         \n",
      "=========================================================================================\n",
      "                            coef    std err          t      P>|t|      [0.025      0.975]\n",
      "-----------------------------------------------------------------------------------------\n",
      "const                 -3.472e+04   1.17e+04     -2.959      0.004   -5.79e+04   -1.15e+04\n",
      "wheelbase               147.1396     76.234      1.930      0.055      -3.429     297.708\n",
      "carlength              -113.2012     48.949     -2.313      0.022    -209.881     -16.522\n",
      "carwidth                809.1860    214.508      3.772      0.000     385.514    1232.858\n",
      "curbweight                4.1822      1.582      2.643      0.009       1.057       7.307\n",
      "enginesize               61.4212     23.643      2.598      0.010      14.724     108.119\n",
      "boreratio             -4319.4728   1759.825     -2.454      0.015   -7795.288    -843.657\n",
      "horsepower               34.7010     18.000      1.928      0.056      -0.850      70.252\n",
      "company_audi            437.1040   2125.971      0.206      0.837   -3761.885    4636.093\n",
      "company_bmw            7993.4998   2105.132      3.797      0.000    3835.671    1.22e+04\n",
      "company_buick          3431.0969   2472.252      1.388      0.167   -1451.829    8314.023\n",
      "company_chevrolet     -2107.0167   2054.269     -1.026      0.307   -6164.387    1950.353\n",
      "company_dodge         -3034.5530   1686.337     -1.799      0.074   -6365.224     296.118\n",
      "company_honda         -2328.7396   1622.141     -1.436      0.153   -5532.617     875.138\n",
      "company_isuzu          -926.1643   1819.489     -0.509      0.611   -4519.823    2667.495\n",
      "company_jaguar         2695.2664   2546.268      1.059      0.291   -2333.847    7724.379\n",
      "company_mazda         -1291.5657   1652.561     -0.782      0.436   -4555.527    1972.395\n",
      "company_mercury       -2762.0259   2786.701     -0.991      0.323   -8266.016    2741.965\n",
      "company_mitsubishi    -3699.6473   1650.046     -2.242      0.026   -6958.640    -440.654\n",
      "company_nissan        -1488.1217   1563.564     -0.952      0.343   -4576.305    1600.061\n",
      "company_peugeot       -2671.4595   1795.328     -1.488      0.139   -6217.398     874.479\n",
      "company_plymouth      -3052.1258   1670.829     -1.827      0.070   -6352.166     247.915\n",
      "company_porsche        4915.9715   2797.761      1.757      0.081    -609.864    1.04e+04\n",
      "company_renault       -2865.2197   2073.046     -1.382      0.169   -6959.676    1229.237\n",
      "company_saab            719.8222   1767.620      0.407      0.684   -2771.390    4211.035\n",
      "company_subaru        -1.164e+04   3416.221     -3.407      0.001   -1.84e+04   -4892.375\n",
      "company_toyota        -2608.7871   1539.320     -1.695      0.092   -5649.086     431.512\n",
      "company_volkswagen    -2261.9355   1606.886     -1.408      0.161   -5435.683     911.812\n",
      "company_volvo            68.2605   1943.170      0.035      0.972   -3769.679    3906.200\n",
      "fueltype_gas           -243.7792    908.310     -0.268      0.789   -2037.774    1550.216\n",
      "aspiration_turbo        596.6566    676.548      0.882      0.379    -739.588    1932.902\n",
      "carbody_hardtop       -2556.7157   1213.929     -2.106      0.037   -4954.337    -159.094\n",
      "carbody_hatchback     -3044.4196   1107.064     -2.750      0.007   -5230.972    -857.867\n",
      "carbody_sedan         -2256.9173   1154.971     -1.954      0.052   -4538.090      24.256\n",
      "carbody_wagon         -2815.4970   1223.156     -2.302      0.023   -5231.343    -399.651\n",
      "drivewheel_fwd         -169.4926    888.585     -0.191      0.849   -1924.531    1585.545\n",
      "drivewheel_rwd          231.9066   1039.685      0.223      0.824   -1821.566    2285.380\n",
      "enginetype_dohcv      -8358.0756   4326.239     -1.932      0.055   -1.69e+04     186.645\n",
      "enginetype_l          -1067.3120   1602.125     -0.666      0.506   -4231.657    2097.033\n",
      "enginetype_ohc         -273.7175   1063.557     -0.257      0.797   -2374.341    1826.906\n",
      "enginetype_ohcf        1.031e+04   2672.508      3.857      0.000    5028.873    1.56e+04\n",
      "enginetype_ohcv       -2393.8587   1214.631     -1.971      0.050   -4792.867       5.150\n",
      "enginetype_rotor         37.4715   2092.597      0.018      0.986   -4095.600    4170.543\n",
      "cylindernumber_five   -5235.5232   2887.214     -1.813      0.072   -1.09e+04     466.990\n",
      "cylindernumber_four   -3741.3604   3542.130     -1.056      0.292   -1.07e+04    3254.673\n",
      "cylindernumber_six    -5441.5317   2628.646     -2.070      0.040   -1.06e+04    -249.713\n",
      "cylindernumber_three   1604.1476   2774.698      0.578      0.564   -3876.137    7084.432\n",
      "cylindernumber_twelve -8097.1585   3616.336     -2.239      0.027   -1.52e+04    -954.561\n",
      "cylindernumber_two       37.4715   2092.597      0.018      0.986   -4095.600    4170.543\n",
      "==============================================================================\n",
      "Omnibus:                       81.075   Durbin-Watson:                   1.382\n",
      "Prob(Omnibus):                  0.000   Jarque-Bera (JB):              487.187\n",
      "Skew:                           1.379   Prob(JB):                    1.62e-106\n",
      "Kurtosis:                      10.031   Cond. No.                     1.02e+16\n",
      "==============================================================================\n",
      "\n",
      "Notes:\n",
      "[1] Standard Errors assume that the covariance matrix of the errors is correctly specified.\n",
      "[2] The smallest eigenvalue is 1.35e-23. This might indicate that there are\n",
      "strong multicollinearity problems or that the design matrix is singular.\n"
     ]
    }
   ],
   "source": [
    "# обучим линейную модель на всех предикторах сразу\n",
    "Y = data['price']\n",
    "X = data.drop(columns=['price'])\n",
    "X = sm.add_constant(X)\n",
    "model = sm.OLS(Y, X)\n",
    "results = model.fit()\n",
    "print(results.summary())"
   ]
  },
  {
   "cell_type": "code",
   "execution_count": 124,
   "id": "d865f730",
   "metadata": {
    "ExecuteTime": {
     "end_time": "2023-04-13T08:37:54.627939Z",
     "start_time": "2023-04-13T08:37:54.563941Z"
    },
    "scrolled": false
   },
   "outputs": [
    {
     "name": "stdout",
     "output_type": "stream",
     "text": [
      "                            OLS Regression Results                            \n",
      "==============================================================================\n",
      "Dep. Variable:                  price   R-squared:                       0.914\n",
      "Model:                            OLS   Adj. R-squared:                  0.901\n",
      "Method:                 Least Squares   F-statistic:                     72.32\n",
      "Date:                Thu, 13 Apr 2023   Prob (F-statistic):           9.86e-81\n",
      "Time:                        11:37:54   Log-Likelihood:                -1881.6\n",
      "No. Observations:                 205   AIC:                             3817.\n",
      "Df Residuals:                     178   BIC:                             3907.\n",
      "Df Model:                          26                                         \n",
      "Covariance Type:            nonrobust                                         \n",
      "=========================================================================================\n",
      "                            coef    std err          t      P>|t|      [0.025      0.975]\n",
      "-----------------------------------------------------------------------------------------\n",
      "const                   -1.7e+04    1.3e+04     -1.309      0.192   -4.26e+04    8625.219\n",
      "wheelbase                71.1868     87.028      0.818      0.414    -100.552     242.925\n",
      "carlength               -51.3497     50.341     -1.020      0.309    -150.692      47.993\n",
      "carwidth                541.8700    253.327      2.139      0.034      41.958    1041.782\n",
      "curbweight                2.9577      1.796      1.647      0.101      -0.585       6.501\n",
      "enginesize               36.0515     22.376      1.611      0.109      -8.105      80.208\n",
      "boreratio             -2230.4519   1731.681     -1.288      0.199   -5647.719    1186.815\n",
      "horsepower               86.8164     16.717      5.193      0.000      53.827     119.806\n",
      "fueltype_gas          -2423.0935    975.579     -2.484      0.014   -4348.283    -497.904\n",
      "aspiration_turbo      -1139.2334    787.230     -1.447      0.150   -2692.738     414.271\n",
      "carbody_hardtop       -3728.0949   1519.366     -2.454      0.015   -6726.383    -729.807\n",
      "carbody_hatchback     -4639.1279   1294.594     -3.583      0.000   -7193.855   -2084.401\n",
      "carbody_sedan         -3337.7854   1356.075     -2.461      0.015   -6013.838    -661.732\n",
      "carbody_wagon         -4315.4661   1465.089     -2.946      0.004   -7206.646   -1424.287\n",
      "drivewheel_fwd          297.2402   1121.766      0.265      0.791   -1916.431    2510.912\n",
      "drivewheel_rwd         1939.1594   1226.536      1.581      0.116    -481.263    4359.582\n",
      "enginetype_dohcv      -1.713e+04   4540.120     -3.773      0.000   -2.61e+04   -8171.142\n",
      "enginetype_l           2176.0521   1332.818      1.633      0.104    -454.106    4806.211\n",
      "enginetype_ohc         4006.5687    897.437      4.464      0.000    2235.584    5777.553\n",
      "enginetype_ohcf        5421.2822   1388.078      3.906      0.000    2682.076    8160.488\n",
      "enginetype_ohcv       -5001.2242   1345.435     -3.717      0.000   -7656.280   -2346.169\n",
      "enginetype_rotor      -5196.6413   2084.532     -2.493      0.014   -9310.217   -1083.066\n",
      "cylindernumber_five   -1.389e+04   2891.599     -4.802      0.000   -1.96e+04   -8180.353\n",
      "cylindernumber_four   -1.618e+04   3243.610     -4.989      0.000   -2.26e+04   -9780.800\n",
      "cylindernumber_six    -1.175e+04   2287.516     -5.135      0.000   -1.63e+04   -7231.547\n",
      "cylindernumber_three  -9264.0553   4750.899     -1.950      0.053   -1.86e+04     111.279\n",
      "cylindernumber_twelve -1.214e+04   3386.507     -3.585      0.000   -1.88e+04   -5458.378\n",
      "cylindernumber_two    -5196.6413   2084.532     -2.493      0.014   -9310.217   -1083.066\n",
      "==============================================================================\n",
      "Omnibus:                       18.493   Durbin-Watson:                   1.249\n",
      "Prob(Omnibus):                  0.000   Jarque-Bera (JB):               50.728\n",
      "Skew:                           0.293   Prob(JB):                     9.65e-12\n",
      "Kurtosis:                       5.365   Cond. No.                     1.02e+16\n",
      "==============================================================================\n",
      "\n",
      "Notes:\n",
      "[1] Standard Errors assume that the covariance matrix of the errors is correctly specified.\n",
      "[2] The smallest eigenvalue is 1.35e-23. This might indicate that there are\n",
      "strong multicollinearity problems or that the design matrix is singular.\n"
     ]
    }
   ],
   "source": [
    "# обучим линейную модель на всех предикторах кроме марок машины\n",
    "Y = data['price']\n",
    "X = data[data.columns.drop(list(data.filter(regex='company')))].drop(columns=['price'])\n",
    "X = sm.add_constant(X)\n",
    "model = sm.OLS(Y, X)\n",
    "results = model.fit()\n",
    "print(results.summary())"
   ]
  },
  {
   "cell_type": "markdown",
   "id": "55e8fa4a",
   "metadata": {},
   "source": [
    "Хотя марки машин и объясняют какую-то часть общей дисперсии в данных, эта часть не самая большая - около 4%. На фоне того, как эта переменная усложняет модель дополнительными статнезначимыми коэффициентами, мы можем принять решение выкинуть её из модели либо дополнительно переделать. "
   ]
  },
  {
   "cell_type": "markdown",
   "id": "38aa2104",
   "metadata": {},
   "source": [
    "Выбранная модель объясняет примерно 90% дисперсии. Среди предикторов 10 из 27 оказались не значимыми (p > 0.05). Пример интерпретации: при единичном изменении показателя horsepower, цена ВОЗРАСТАЕТ на 86.8164."
   ]
  },
  {
   "cell_type": "markdown",
   "id": "88d2a9d4",
   "metadata": {},
   "source": [
    "# Диагностика модели"
   ]
  },
  {
   "cell_type": "markdown",
   "id": "bde55b18",
   "metadata": {},
   "source": [
    "VIF - в статистике коэффициент инфляции дисперсии представляет собой отношение дисперсии оценки некоторого параметра в модели, которая включает несколько других предикторов, к дисперсии модели, построенной с использованием только одного предиктора."
   ]
  },
  {
   "cell_type": "code",
   "execution_count": 125,
   "id": "2f43909d",
   "metadata": {
    "ExecuteTime": {
     "end_time": "2023-04-13T08:37:55.075426Z",
     "start_time": "2023-04-13T08:37:55.059945Z"
    }
   },
   "outputs": [],
   "source": [
    "from statsmodels.stats.outliers_influence import variance_inflation_factor"
   ]
  },
  {
   "cell_type": "code",
   "execution_count": 126,
   "id": "44bba407",
   "metadata": {
    "ExecuteTime": {
     "end_time": "2023-04-13T08:37:55.173805Z",
     "start_time": "2023-04-13T08:37:55.109799Z"
    }
   },
   "outputs": [
    {
     "name": "stderr",
     "output_type": "stream",
     "text": [
      "C:\\Users\\1\\AppData\\Local\\Programs\\Python\\Python310\\lib\\site-packages\\statsmodels\\stats\\outliers_influence.py:195: RuntimeWarning: divide by zero encountered in scalar divide\n",
      "  vif = 1. / (1. - r_squared_i)\n"
     ]
    }
   ],
   "source": [
    "# создаем дата фрейм\n",
    "vif_data = pd.DataFrame()\n",
    "vif_data['feature'] = X.columns\n",
    "\n",
    "# считаем VIF для каждого признака\n",
    "vif_data['VIF'] = [variance_inflation_factor(X.values, i) for i in range(len(X.columns))]"
   ]
  },
  {
   "cell_type": "code",
   "execution_count": 127,
   "id": "0fef09ac",
   "metadata": {
    "ExecuteTime": {
     "end_time": "2023-04-13T08:37:55.205802Z",
     "start_time": "2023-04-13T08:37:55.173805Z"
    }
   },
   "outputs": [
    {
     "data": {
      "text/html": [
       "<div>\n",
       "<style scoped>\n",
       "    .dataframe tbody tr th:only-of-type {\n",
       "        vertical-align: middle;\n",
       "    }\n",
       "\n",
       "    .dataframe tbody tr th {\n",
       "        vertical-align: top;\n",
       "    }\n",
       "\n",
       "    .dataframe thead th {\n",
       "        text-align: right;\n",
       "    }\n",
       "</style>\n",
       "<table border=\"1\" class=\"dataframe\">\n",
       "  <thead>\n",
       "    <tr style=\"text-align: right;\">\n",
       "      <th></th>\n",
       "      <th>feature</th>\n",
       "      <th>VIF</th>\n",
       "    </tr>\n",
       "  </thead>\n",
       "  <tbody>\n",
       "    <tr>\n",
       "      <th>0</th>\n",
       "      <td>const</td>\n",
       "      <td>5462.989991</td>\n",
       "    </tr>\n",
       "    <tr>\n",
       "      <th>1</th>\n",
       "      <td>wheelbase</td>\n",
       "      <td>8.857746</td>\n",
       "    </tr>\n",
       "    <tr>\n",
       "      <th>2</th>\n",
       "      <td>carlength</td>\n",
       "      <td>12.440825</td>\n",
       "    </tr>\n",
       "    <tr>\n",
       "      <th>3</th>\n",
       "      <td>carwidth</td>\n",
       "      <td>9.524947</td>\n",
       "    </tr>\n",
       "    <tr>\n",
       "      <th>4</th>\n",
       "      <td>curbweight</td>\n",
       "      <td>28.188815</td>\n",
       "    </tr>\n",
       "    <tr>\n",
       "      <th>5</th>\n",
       "      <td>enginesize</td>\n",
       "      <td>28.003130</td>\n",
       "    </tr>\n",
       "    <tr>\n",
       "      <th>6</th>\n",
       "      <td>boreratio</td>\n",
       "      <td>7.094707</td>\n",
       "    </tr>\n",
       "    <tr>\n",
       "      <th>7</th>\n",
       "      <td>horsepower</td>\n",
       "      <td>14.094798</td>\n",
       "    </tr>\n",
       "    <tr>\n",
       "      <th>8</th>\n",
       "      <td>fueltype_gas</td>\n",
       "      <td>2.715837</td>\n",
       "    </tr>\n",
       "    <tr>\n",
       "      <th>9</th>\n",
       "      <td>aspiration_turbo</td>\n",
       "      <td>2.970921</td>\n",
       "    </tr>\n",
       "    <tr>\n",
       "      <th>10</th>\n",
       "      <td>carbody_hardtop</td>\n",
       "      <td>2.805808</td>\n",
       "    </tr>\n",
       "    <tr>\n",
       "      <th>11</th>\n",
       "      <td>carbody_hatchback</td>\n",
       "      <td>12.214506</td>\n",
       "    </tr>\n",
       "    <tr>\n",
       "      <th>12</th>\n",
       "      <td>carbody_sedan</td>\n",
       "      <td>14.840285</td>\n",
       "    </tr>\n",
       "    <tr>\n",
       "      <th>13</th>\n",
       "      <td>carbody_wagon</td>\n",
       "      <td>7.449338</td>\n",
       "    </tr>\n",
       "    <tr>\n",
       "      <th>14</th>\n",
       "      <td>drivewheel_fwd</td>\n",
       "      <td>9.898779</td>\n",
       "    </tr>\n",
       "    <tr>\n",
       "      <th>15</th>\n",
       "      <td>drivewheel_rwd</td>\n",
       "      <td>11.374722</td>\n",
       "    </tr>\n",
       "    <tr>\n",
       "      <th>16</th>\n",
       "      <td>enginetype_dohcv</td>\n",
       "      <td>3.242961</td>\n",
       "    </tr>\n",
       "    <tr>\n",
       "      <th>17</th>\n",
       "      <td>enginetype_l</td>\n",
       "      <td>3.172908</td>\n",
       "    </tr>\n",
       "    <tr>\n",
       "      <th>18</th>\n",
       "      <td>enginetype_ohc</td>\n",
       "      <td>5.239878</td>\n",
       "    </tr>\n",
       "    <tr>\n",
       "      <th>19</th>\n",
       "      <td>enginetype_ohcf</td>\n",
       "      <td>4.234961</td>\n",
       "    </tr>\n",
       "    <tr>\n",
       "      <th>20</th>\n",
       "      <td>enginetype_ohcv</td>\n",
       "      <td>3.484551</td>\n",
       "    </tr>\n",
       "    <tr>\n",
       "      <th>21</th>\n",
       "      <td>enginetype_rotor</td>\n",
       "      <td>inf</td>\n",
       "    </tr>\n",
       "    <tr>\n",
       "      <th>22</th>\n",
       "      <td>cylindernumber_five</td>\n",
       "      <td>13.760917</td>\n",
       "    </tr>\n",
       "    <tr>\n",
       "      <th>23</th>\n",
       "      <td>cylindernumber_four</td>\n",
       "      <td>59.345702</td>\n",
       "    </tr>\n",
       "    <tr>\n",
       "      <th>24</th>\n",
       "      <td>cylindernumber_six</td>\n",
       "      <td>17.530530</td>\n",
       "    </tr>\n",
       "    <tr>\n",
       "      <th>25</th>\n",
       "      <td>cylindernumber_three</td>\n",
       "      <td>3.551066</td>\n",
       "    </tr>\n",
       "    <tr>\n",
       "      <th>26</th>\n",
       "      <td>cylindernumber_twelve</td>\n",
       "      <td>1.804310</td>\n",
       "    </tr>\n",
       "    <tr>\n",
       "      <th>27</th>\n",
       "      <td>cylindernumber_two</td>\n",
       "      <td>inf</td>\n",
       "    </tr>\n",
       "  </tbody>\n",
       "</table>\n",
       "</div>"
      ],
      "text/plain": [
       "                  feature          VIF\n",
       "0                   const  5462.989991\n",
       "1               wheelbase     8.857746\n",
       "2               carlength    12.440825\n",
       "3                carwidth     9.524947\n",
       "4              curbweight    28.188815\n",
       "5              enginesize    28.003130\n",
       "6               boreratio     7.094707\n",
       "7              horsepower    14.094798\n",
       "8            fueltype_gas     2.715837\n",
       "9        aspiration_turbo     2.970921\n",
       "10        carbody_hardtop     2.805808\n",
       "11      carbody_hatchback    12.214506\n",
       "12          carbody_sedan    14.840285\n",
       "13          carbody_wagon     7.449338\n",
       "14         drivewheel_fwd     9.898779\n",
       "15         drivewheel_rwd    11.374722\n",
       "16       enginetype_dohcv     3.242961\n",
       "17           enginetype_l     3.172908\n",
       "18         enginetype_ohc     5.239878\n",
       "19        enginetype_ohcf     4.234961\n",
       "20        enginetype_ohcv     3.484551\n",
       "21       enginetype_rotor          inf\n",
       "22    cylindernumber_five    13.760917\n",
       "23    cylindernumber_four    59.345702\n",
       "24     cylindernumber_six    17.530530\n",
       "25   cylindernumber_three     3.551066\n",
       "26  cylindernumber_twelve     1.804310\n",
       "27     cylindernumber_two          inf"
      ]
     },
     "execution_count": 127,
     "metadata": {},
     "output_type": "execute_result"
    }
   ],
   "source": [
    "vif_data"
   ]
  },
  {
   "cell_type": "code",
   "execution_count": 128,
   "id": "a4b59f4a",
   "metadata": {
    "ExecuteTime": {
     "end_time": "2023-04-13T08:37:55.358005Z",
     "start_time": "2023-04-13T08:37:55.285803Z"
    }
   },
   "outputs": [],
   "source": [
    "# base code\n",
    "import numpy as np\n",
    "import seaborn as sns\n",
    "import statsmodels\n",
    "from statsmodels.tools.tools import maybe_unwrap_results\n",
    "from statsmodels.graphics.gofplots import ProbPlot\n",
    "from statsmodels.stats.outliers_influence import variance_inflation_factor\n",
    "import matplotlib.pyplot as plt\n",
    "from typing import Type\n",
    "\n",
    "style_talk = 'seaborn-talk'    #refer to plt.style.available\n",
    "\n",
    "class Linear_Reg_Diagnostic():\n",
    "    \"\"\"\n",
    "    Diagnostic plots to identify potential problems in a linear regression fit.\n",
    "    Mainly,\n",
    "        a. non-linearity of data\n",
    "        b. Correlation of error terms\n",
    "        c. non-constant variance\n",
    "        d. outliers\n",
    "        e. high-leverage points\n",
    "        f. collinearity\n",
    "\n",
    "    Author:\n",
    "        Prajwal Kafle (p33ajkafle@gmail.com, where 3 = r)\n",
    "        Does not come with any sort of warranty.\n",
    "        Please test the code one your end before using.\n",
    "    \"\"\"\n",
    "\n",
    "    def __init__(self,\n",
    "                 results: Type[statsmodels.regression.linear_model.RegressionResultsWrapper]) -> None:\n",
    "        \"\"\"\n",
    "        For a linear regression model, generates following diagnostic plots:\n",
    "\n",
    "        a. residual\n",
    "        b. qq\n",
    "        c. scale location and\n",
    "        d. leverage\n",
    "\n",
    "        and a table\n",
    "\n",
    "        e. vif\n",
    "\n",
    "        Args:\n",
    "            results (Type[statsmodels.regression.linear_model.RegressionResultsWrapper]):\n",
    "                must be instance of statsmodels.regression.linear_model object\n",
    "\n",
    "        Raises:\n",
    "            TypeError: if instance does not belong to above object\n",
    "\n",
    "        Example:\n",
    "        >>> import numpy as np\n",
    "        >>> import pandas as pd\n",
    "        >>> import statsmodels.formula.api as smf\n",
    "        >>> x = np.linspace(-np.pi, np.pi, 100)\n",
    "        >>> y = 3*x + 8 + np.random.normal(0,1, 100)\n",
    "        >>> df = pd.DataFrame({'x':x, 'y':y})\n",
    "        >>> res = smf.ols(formula= \"y ~ x\", data=df).fit()\n",
    "        >>> cls = Linear_Reg_Diagnostic(res)\n",
    "        >>> cls(plot_context=\"seaborn-paper\")\n",
    "\n",
    "        In case you do not need all plots you can also independently make an individual plot/table\n",
    "        in following ways\n",
    "\n",
    "        >>> cls = Linear_Reg_Diagnostic(res)\n",
    "        >>> cls.residual_plot()\n",
    "        >>> cls.qq_plot()\n",
    "        >>> cls.scale_location_plot()\n",
    "        >>> cls.leverage_plot()\n",
    "        >>> cls.vif_table()\n",
    "        \"\"\"\n",
    "\n",
    "        if isinstance(results, statsmodels.regression.linear_model.RegressionResultsWrapper) is False:\n",
    "            raise TypeError(\"result must be instance of statsmodels.regression.linear_model.RegressionResultsWrapper object\")\n",
    "\n",
    "        self.results = maybe_unwrap_results(results)\n",
    "\n",
    "        self.y_true = self.results.model.endog\n",
    "        self.y_predict = self.results.fittedvalues\n",
    "        self.xvar = self.results.model.exog\n",
    "        self.xvar_names = self.results.model.exog_names\n",
    "\n",
    "        self.residual = np.array(self.results.resid)\n",
    "        influence = self.results.get_influence()\n",
    "        self.residual_norm = influence.resid_studentized_internal\n",
    "        self.leverage = influence.hat_matrix_diag\n",
    "        self.cooks_distance = influence.cooks_distance[0]\n",
    "        self.nparams = len(self.results.params)\n",
    "\n",
    "    def __call__(self, plot_context='seaborn-paper'):\n",
    "        # print(plt.style.available)\n",
    "        with plt.style.context(plot_context):\n",
    "            fig, ax = plt.subplots(nrows=2, ncols=2, figsize=(10,10))\n",
    "            self.residual_plot(ax=ax[0,0])\n",
    "            self.qq_plot(ax=ax[0,1])\n",
    "            self.scale_location_plot(ax=ax[1,0])\n",
    "            self.leverage_plot(ax=ax[1,1])\n",
    "            plt.show()\n",
    "\n",
    "        self.vif_table()\n",
    "        return fig, ax\n",
    "\n",
    "\n",
    "    def residual_plot(self, ax=None):\n",
    "        \"\"\"\n",
    "        Residual vs Fitted Plot\n",
    "\n",
    "        Graphical tool to identify non-linearity.\n",
    "        (Roughly) Horizontal red line is an indicator that the residual has a linear pattern\n",
    "        \"\"\"\n",
    "        if ax is None:\n",
    "            fig, ax = plt.subplots()\n",
    "\n",
    "        sns.residplot(\n",
    "            x=self.y_predict,\n",
    "            y=self.residual,\n",
    "            lowess=True,\n",
    "            scatter_kws={'alpha': 0.5},\n",
    "            line_kws={'color': 'red', 'lw': 1, 'alpha': 0.8},\n",
    "            ax=ax)\n",
    "\n",
    "        # annotations\n",
    "        residual_abs = np.abs(self.residual)\n",
    "        abs_resid = np.flip(np.sort(residual_abs))\n",
    "        abs_resid_top_3 = abs_resid[:3]\n",
    "        for i, _ in enumerate(abs_resid_top_3):\n",
    "            ax.annotate(\n",
    "                i,\n",
    "                xy=(self.y_predict[i], self.residual[i]),\n",
    "                color='C3')\n",
    "\n",
    "        ax.set_title('Residuals vs Fitted', fontweight=\"bold\")\n",
    "        ax.set_xlabel('Fitted values')\n",
    "        ax.set_ylabel('Residuals')\n",
    "        return ax\n",
    "\n",
    "    def qq_plot(self, ax=None):\n",
    "        \"\"\"\n",
    "        Standarized Residual vs Theoretical Quantile plot\n",
    "\n",
    "        Used to visually check if residuals are normally distributed.\n",
    "        Points spread along the diagonal line will suggest so.\n",
    "        \"\"\"\n",
    "        if ax is None:\n",
    "            fig, ax = plt.subplots()\n",
    "\n",
    "        QQ = ProbPlot(self.residual_norm)\n",
    "        QQ.qqplot(line='45', alpha=0.5, lw=1, ax=ax)\n",
    "\n",
    "        # annotations\n",
    "        abs_norm_resid = np.flip(np.argsort(np.abs(self.residual_norm)), 0)\n",
    "        abs_norm_resid_top_3 = abs_norm_resid[:3]\n",
    "        for r, i in enumerate(abs_norm_resid_top_3):\n",
    "            ax.annotate(\n",
    "                i,\n",
    "                xy=(np.flip(QQ.theoretical_quantiles, 0)[r], self.residual_norm[i]),\n",
    "                ha='right', color='C3')\n",
    "\n",
    "        ax.set_title('Normal Q-Q', fontweight=\"bold\")\n",
    "        ax.set_xlabel('Theoretical Quantiles')\n",
    "        ax.set_ylabel('Standardized Residuals')\n",
    "        return ax\n",
    "\n",
    "    def scale_location_plot(self, ax=None):\n",
    "        \"\"\"\n",
    "        Sqrt(Standarized Residual) vs Fitted values plot\n",
    "\n",
    "        Used to check homoscedasticity of the residuals.\n",
    "        Horizontal line will suggest so.\n",
    "        \"\"\"\n",
    "        if ax is None:\n",
    "            fig, ax = plt.subplots()\n",
    "\n",
    "        residual_norm_abs_sqrt = np.sqrt(np.abs(self.residual_norm))\n",
    "\n",
    "        ax.scatter(self.y_predict, residual_norm_abs_sqrt, alpha=0.5);\n",
    "        sns.regplot(\n",
    "            x=self.y_predict,\n",
    "            y=residual_norm_abs_sqrt,\n",
    "            scatter=False, ci=False,\n",
    "            lowess=True,\n",
    "            line_kws={'color': 'red', 'lw': 1, 'alpha': 0.8},\n",
    "            ax=ax)\n",
    "\n",
    "        # annotations\n",
    "        abs_sq_norm_resid = np.flip(np.argsort(residual_norm_abs_sqrt), 0)\n",
    "        abs_sq_norm_resid_top_3 = abs_sq_norm_resid[:3]\n",
    "        for i in abs_sq_norm_resid_top_3:\n",
    "            ax.annotate(\n",
    "                i,\n",
    "                xy=(self.y_predict[i], residual_norm_abs_sqrt[i]),\n",
    "                color='C3')\n",
    "        ax.set_title('Scale-Location', fontweight=\"bold\")\n",
    "        ax.set_xlabel('Fitted values')\n",
    "        ax.set_ylabel(r'$\\sqrt{|\\mathrm{Standardized\\ Residuals}|}$');\n",
    "        return ax\n",
    "\n",
    "    def leverage_plot(self, ax=None):\n",
    "        \"\"\"\n",
    "        Residual vs Leverage plot\n",
    "\n",
    "        Points falling outside Cook's distance curves are considered observation that can sway the fit\n",
    "        aka are influential.\n",
    "        Good to have none outside the curves.\n",
    "        \"\"\"\n",
    "        if ax is None:\n",
    "            fig, ax = plt.subplots()\n",
    "\n",
    "        ax.scatter(\n",
    "            self.leverage,\n",
    "            self.residual_norm,\n",
    "            alpha=0.5);\n",
    "\n",
    "        sns.regplot(\n",
    "            x=self.leverage,\n",
    "            y=self.residual_norm,\n",
    "            scatter=False,\n",
    "            ci=False,\n",
    "            lowess=True,\n",
    "            line_kws={'color': 'red', 'lw': 1, 'alpha': 0.8},\n",
    "            ax=ax)\n",
    "\n",
    "        # annotations\n",
    "        leverage_top_3 = np.flip(np.argsort(self.cooks_distance), 0)[:3]\n",
    "        for i in leverage_top_3:\n",
    "            ax.annotate(\n",
    "                i,\n",
    "                xy=(self.leverage[i], self.residual_norm[i]),\n",
    "                color = 'C3')\n",
    "\n",
    "        xtemp, ytemp = self.__cooks_dist_line(0.5) # 0.5 line\n",
    "        ax.plot(xtemp, ytemp, label=\"Cook's distance\", lw=1, ls='--', color='red')\n",
    "        xtemp, ytemp = self.__cooks_dist_line(1) # 1 line\n",
    "        ax.plot(xtemp, ytemp, lw=1, ls='--', color='red')\n",
    "\n",
    "        ax.set_xlim(0, max(self.leverage)+0.01)\n",
    "        ax.set_title('Residuals vs Leverage', fontweight=\"bold\")\n",
    "        ax.set_xlabel('Leverage')\n",
    "        ax.set_ylabel('Standardized Residuals')\n",
    "        ax.legend(loc='upper right')\n",
    "        return ax\n",
    "\n",
    "    def vif_table(self):\n",
    "        \"\"\"\n",
    "        VIF table\n",
    "\n",
    "        VIF, the variance inflation factor, is a measure of multicollinearity.\n",
    "        VIF > 5 for a variable indicates that it is highly collinear with the\n",
    "        other input variables.\n",
    "        \"\"\"\n",
    "        vif_df = pd.DataFrame()\n",
    "        vif_df[\"Features\"] = self.xvar_names\n",
    "        vif_df[\"VIF Factor\"] = [variance_inflation_factor(self.xvar, i) for i in range(self.xvar.shape[1])]\n",
    "\n",
    "        print(vif_df\n",
    "                .sort_values(\"VIF Factor\")\n",
    "                .round(2))\n",
    "\n",
    "\n",
    "    def __cooks_dist_line(self, factor):\n",
    "        \"\"\"\n",
    "        Helper function for plotting Cook's distance curves\n",
    "        \"\"\"\n",
    "        p = self.nparams\n",
    "        formula = lambda x: np.sqrt((factor * p * (1 - x)) / x)\n",
    "        x = np.linspace(0.001, max(self.leverage), 50)\n",
    "        y = formula(x)\n",
    "        return x, y"
   ]
  },
  {
   "cell_type": "code",
   "execution_count": 129,
   "id": "4249bb5b",
   "metadata": {
    "ExecuteTime": {
     "end_time": "2023-04-13T08:37:55.406027Z",
     "start_time": "2023-04-13T08:37:55.390080Z"
    }
   },
   "outputs": [
    {
     "name": "stderr",
     "output_type": "stream",
     "text": [
      "C:\\Users\\1\\AppData\\Local\\Programs\\Python\\Python310\\lib\\site-packages\\statsmodels\\stats\\outliers_influence.py:696: RuntimeWarning: invalid value encountered in sqrt\n",
      "  return self.resid / sigma / np.sqrt(1 - hii)\n"
     ]
    }
   ],
   "source": [
    "cls = Linear_Reg_Diagnostic(results)"
   ]
  },
  {
   "cell_type": "code",
   "execution_count": 130,
   "id": "233ee02d",
   "metadata": {
    "ExecuteTime": {
     "end_time": "2023-04-13T08:37:56.025697Z",
     "start_time": "2023-04-13T08:37:55.446047Z"
    }
   },
   "outputs": [
    {
     "data": {
      "text/plain": [
       "<AxesSubplot:title={'center':'Residuals vs Fitted'}, xlabel='Fitted values', ylabel='Residuals'>"
      ]
     },
     "execution_count": 130,
     "metadata": {},
     "output_type": "execute_result"
    },
    {
     "data": {
      "image/png": "[encoded data removed]",
      "text/plain": [
       "<Figure size 1080x576 with 1 Axes>"
      ]
     },
     "metadata": {},
     "output_type": "display_data"
    }
   ],
   "source": [
    "# проверка распределения остатков модели\n",
    "cls.residual_plot()"
   ]
  },
  {
   "cell_type": "code",
   "execution_count": 132,
   "id": "1fb5bf17",
   "metadata": {
    "ExecuteTime": {
     "end_time": "2023-04-13T08:40:30.581190Z",
     "start_time": "2023-04-13T08:40:30.248277Z"
    }
   },
   "outputs": [
    {
     "data": {
      "text/plain": [
       "<AxesSubplot:title={'center':'Normal Q-Q'}, xlabel='Theoretical Quantiles', ylabel='Standardized Residuals'>"
      ]
     },
     "execution_count": 132,
     "metadata": {},
     "output_type": "execute_result"
    },
    {
     "data": {
      "image/png": "[encoded data removed]",
      "text/plain": [
       "<Figure size 1080x576 with 1 Axes>"
      ]
     },
     "metadata": {},
     "output_type": "display_data"
    }
   ],
   "source": [
    "# проверка нормальности\n",
    "cls.qq_plot()"
   ]
  },
  {
   "cell_type": "code",
   "execution_count": 134,
   "id": "e99f8f08",
   "metadata": {
    "ExecuteTime": {
     "end_time": "2023-04-13T08:42:02.584243Z",
     "start_time": "2023-04-13T08:42:01.436866Z"
    }
   },
   "outputs": [
    {
     "data": {
      "text/plain": [
       "<AxesSubplot:title={'center':'Scale-Location'}, xlabel='Fitted values', ylabel='$\\\\sqrt{|\\\\mathrm{Standardized\\\\ Residuals}|}$'>"
      ]
     },
     "execution_count": 134,
     "metadata": {},
     "output_type": "execute_result"
    },
    {
     "data": {
      "image/png": "[encoded data removed]",
      "text/plain": [
       "<Figure size 1080x576 with 1 Axes>"
      ]
     },
     "metadata": {},
     "output_type": "display_data"
    }
   ],
   "source": [
    "# проверка гетероскедастичности\n",
    "cls.scale_location_plot()"
   ]
  },
  {
   "cell_type": "code",
   "execution_count": 135,
   "id": "62df2887",
   "metadata": {
    "ExecuteTime": {
     "end_time": "2023-04-13T08:43:30.968610Z",
     "start_time": "2023-04-13T08:43:30.514341Z"
    }
   },
   "outputs": [
    {
     "name": "stderr",
     "output_type": "stream",
     "text": [
      "C:\\Users\\1\\AppData\\Local\\Temp\\ipykernel_12912\\3889822556.py:265: RuntimeWarning: invalid value encountered in sqrt\n",
      "  formula = lambda x: np.sqrt((factor * p * (1 - x)) / x)\n",
      "C:\\Users\\1\\AppData\\Local\\Temp\\ipykernel_12912\\3889822556.py:265: RuntimeWarning: invalid value encountered in sqrt\n",
      "  formula = lambda x: np.sqrt((factor * p * (1 - x)) / x)\n"
     ]
    },
    {
     "data": {
      "text/plain": [
       "<AxesSubplot:title={'center':'Residuals vs Leverage'}, xlabel='Leverage', ylabel='Standardized Residuals'>"
      ]
     },
     "execution_count": 135,
     "metadata": {},
     "output_type": "execute_result"
    },
    {
     "data": {
      "image/png": "[encoded data removed]",
      "text/plain": [
       "<Figure size 1080x576 with 1 Axes>"
      ]
     },
     "metadata": {},
     "output_type": "display_data"
    }
   ],
   "source": [
    "# проверка на выбросы по расстоянию Кука\n",
    "cls.leverage_plot()"
   ]
  },
  {
   "cell_type": "markdown",
   "id": "10db8421",
   "metadata": {},
   "source": [
    "# Трансформация зависимой переменной"
   ]
  },
  {
   "cell_type": "code",
   "execution_count": 137,
   "id": "3f6b5528",
   "metadata": {
    "ExecuteTime": {
     "end_time": "2023-04-13T09:19:42.213127Z",
     "start_time": "2023-04-13T09:19:41.854722Z"
    }
   },
   "outputs": [
    {
     "data": {
      "text/plain": [
       "<AxesSubplot:xlabel='price', ylabel='Count'>"
      ]
     },
     "execution_count": 137,
     "metadata": {},
     "output_type": "execute_result"
    },
    {
     "data": {
      "image/png": "[encoded data removed]",
      "text/plain": [
       "<Figure size 1080x576 with 1 Axes>"
      ]
     },
     "metadata": {},
     "output_type": "display_data"
    }
   ],
   "source": [
    "sns.histplot(Y)"
   ]
  },
  {
   "cell_type": "code",
   "execution_count": 139,
   "id": "564c8053",
   "metadata": {
    "ExecuteTime": {
     "end_time": "2023-04-13T09:20:14.222061Z",
     "start_time": "2023-04-13T09:20:13.900130Z"
    }
   },
   "outputs": [
    {
     "data": {
      "text/plain": [
       "<AxesSubplot:xlabel='price', ylabel='Count'>"
      ]
     },
     "execution_count": 139,
     "metadata": {},
     "output_type": "execute_result"
    },
    {
     "data": {
      "image/png": "[encoded data removed]",
      "text/plain": [
       "<Figure size 1080x576 with 1 Axes>"
      ]
     },
     "metadata": {},
     "output_type": "display_data"
    }
   ],
   "source": [
    "Y_log = np.log(Y)\n",
    "sns.histplot(Y_log)"
   ]
  },
  {
   "cell_type": "code",
   "execution_count": 141,
   "id": "9eeccf4e",
   "metadata": {
    "ExecuteTime": {
     "end_time": "2023-04-13T09:21:50.149093Z",
     "start_time": "2023-04-13T09:21:50.095845Z"
    }
   },
   "outputs": [
    {
     "name": "stdout",
     "output_type": "stream",
     "text": [
      "                            OLS Regression Results                            \n",
      "==============================================================================\n",
      "Dep. Variable:                  price   R-squared:                       0.924\n",
      "Model:                            OLS   Adj. R-squared:                  0.913\n",
      "Method:                 Least Squares   F-statistic:                     83.72\n",
      "Date:                Thu, 13 Apr 2023   Prob (F-statistic):           7.19e-86\n",
      "Time:                        12:21:50   Log-Likelihood:                 114.85\n",
      "No. Observations:                 205   AIC:                            -175.7\n",
      "Df Residuals:                     178   BIC:                            -85.99\n",
      "Df Model:                          26                                         \n",
      "Covariance Type:            nonrobust                                         \n",
      "=========================================================================================\n",
      "                            coef    std err          t      P>|t|      [0.025      0.975]\n",
      "-----------------------------------------------------------------------------------------\n",
      "const                     6.2200      0.766      8.125      0.000       4.709       7.731\n",
      "wheelbase                 0.0010      0.005      0.202      0.840      -0.009       0.011\n",
      "carlength                 0.0026      0.003      0.865      0.388      -0.003       0.008\n",
      "carwidth                  0.0320      0.015      2.143      0.033       0.003       0.061\n",
      "curbweight                0.0003      0.000      2.964      0.003       0.000       0.001\n",
      "enginesize               -0.0018      0.001     -1.329      0.186      -0.004       0.001\n",
      "boreratio                 0.0129      0.102      0.126      0.900      -0.189       0.214\n",
      "horsepower                0.0068      0.001      6.944      0.000       0.005       0.009\n",
      "fueltype_gas             -0.1877      0.058     -3.264      0.001      -0.301      -0.074\n",
      "aspiration_turbo         -0.0824      0.046     -1.776      0.077      -0.174       0.009\n",
      "carbody_hardtop          -0.3110      0.090     -3.472      0.001      -0.488      -0.134\n",
      "carbody_hatchback        -0.3567      0.076     -4.673      0.000      -0.507      -0.206\n",
      "carbody_sedan            -0.2781      0.080     -3.478      0.001      -0.436      -0.120\n",
      "carbody_wagon            -0.3668      0.086     -4.246      0.000      -0.537      -0.196\n",
      "drivewheel_fwd           -0.0312      0.066     -0.472      0.638      -0.162       0.099\n",
      "drivewheel_rwd            0.0647      0.072      0.895      0.372      -0.078       0.207\n",
      "enginetype_dohcv         -0.9758      0.268     -3.645      0.000      -1.504      -0.448\n",
      "enginetype_l              0.1051      0.079      1.337      0.183      -0.050       0.260\n",
      "enginetype_ohc            0.2164      0.053      4.090      0.000       0.112       0.321\n",
      "enginetype_ohcf           0.1884      0.082      2.302      0.022       0.027       0.350\n",
      "enginetype_ohcv          -0.1425      0.079     -1.796      0.074      -0.299       0.014\n",
      "enginetype_rotor         -0.1667      0.123     -1.356      0.177      -0.409       0.076\n",
      "cylindernumber_five      -0.4437      0.170     -2.602      0.010      -0.780      -0.107\n",
      "cylindernumber_four      -0.5908      0.191     -3.089      0.002      -0.968      -0.213\n",
      "cylindernumber_six       -0.3561      0.135     -2.640      0.009      -0.622      -0.090\n",
      "cylindernumber_three     -0.3128      0.280     -1.117      0.266      -0.866       0.240\n",
      "cylindernumber_twelve    -0.5501      0.200     -2.755      0.006      -0.944      -0.156\n",
      "cylindernumber_two       -0.1667      0.123     -1.356      0.177      -0.409       0.076\n",
      "==============================================================================\n",
      "Omnibus:                        1.323   Durbin-Watson:                   1.347\n",
      "Prob(Omnibus):                  0.516   Jarque-Bera (JB):                1.172\n",
      "Skew:                           0.185   Prob(JB):                        0.557\n",
      "Kurtosis:                       3.023   Cond. No.                     1.02e+16\n",
      "==============================================================================\n",
      "\n",
      "Notes:\n",
      "[1] Standard Errors assume that the covariance matrix of the errors is correctly specified.\n",
      "[2] The smallest eigenvalue is 1.35e-23. This might indicate that there are\n",
      "strong multicollinearity problems or that the design matrix is singular.\n"
     ]
    }
   ],
   "source": [
    "model_log = sm.OLS(Y_log, X).fit()\n",
    "print(model_log.summary())"
   ]
  },
  {
   "cell_type": "markdown",
   "id": "e3fae4b7",
   "metadata": {},
   "source": [
    "# Используем обобщенную линейную модель"
   ]
  },
  {
   "cell_type": "code",
   "execution_count": 143,
   "id": "97670927",
   "metadata": {
    "ExecuteTime": {
     "end_time": "2023-04-13T09:26:38.232585Z",
     "start_time": "2023-04-13T09:26:38.161393Z"
    }
   },
   "outputs": [
    {
     "name": "stdout",
     "output_type": "stream",
     "text": [
      "                 Generalized Linear Model Regression Results                  \n",
      "==============================================================================\n",
      "Dep. Variable:                  price   No. Observations:                  205\n",
      "Model:                            GLM   Df Residuals:                      178\n",
      "Model Family:                   Gamma   Df Model:                           26\n",
      "Link Function:                    log   Scale:                        0.022463\n",
      "Method:                          IRLS   Log-Likelihood:                -1805.0\n",
      "Date:                Thu, 13 Apr 2023   Deviance:                       3.9369\n",
      "Time:                        12:26:38   Pearson chi2:                     4.00\n",
      "No. Iterations:                    12   Pseudo R-squ. (CS):              1.000\n",
      "Covariance Type:            nonrobust                                         \n",
      "=========================================================================================\n",
      "                            coef    std err          z      P>|z|      [0.025      0.975]\n",
      "-----------------------------------------------------------------------------------------\n",
      "const                     6.1949      0.774      8.007      0.000       4.678       7.711\n",
      "wheelbase                 0.0016      0.005      0.316      0.752      -0.009       0.012\n",
      "carlength                 0.0027      0.003      0.912      0.362      -0.003       0.009\n",
      "carwidth                  0.0314      0.015      2.082      0.037       0.002       0.061\n",
      "curbweight                0.0003      0.000      2.841      0.005    9.42e-05       0.001\n",
      "enginesize               -0.0020      0.001     -1.481      0.139      -0.005       0.001\n",
      "boreratio                 0.0260      0.103      0.252      0.801      -0.176       0.228\n",
      "horsepower                0.0070      0.001      7.019      0.000       0.005       0.009\n",
      "fueltype_gas             -0.1932      0.058     -3.323      0.001      -0.307      -0.079\n",
      "aspiration_turbo         -0.0864      0.047     -1.842      0.066      -0.178       0.006\n",
      "carbody_hardtop          -0.2921      0.091     -3.227      0.001      -0.470      -0.115\n",
      "carbody_hatchback        -0.3556      0.077     -4.609      0.000      -0.507      -0.204\n",
      "carbody_sedan            -0.2754      0.081     -3.408      0.001      -0.434      -0.117\n",
      "carbody_wagon            -0.3684      0.087     -4.219      0.000      -0.539      -0.197\n",
      "drivewheel_fwd           -0.0350      0.067     -0.523      0.601      -0.166       0.096\n",
      "drivewheel_rwd            0.0688      0.073      0.942      0.346      -0.074       0.212\n",
      "enginetype_dohcv         -1.0133      0.271     -3.745      0.000      -1.544      -0.483\n",
      "enginetype_l              0.0872      0.079      1.098      0.272      -0.068       0.243\n",
      "enginetype_ohc            0.2081      0.053      3.891      0.000       0.103       0.313\n",
      "enginetype_ohcf           0.1710      0.083      2.067      0.039       0.009       0.333\n",
      "enginetype_ohcv          -0.1485      0.080     -1.852      0.064      -0.306       0.009\n",
      "enginetype_rotor         -0.1863      0.124     -1.500      0.134      -0.430       0.057\n",
      "cylindernumber_five      -0.4556      0.172     -2.644      0.008      -0.793      -0.118\n",
      "cylindernumber_four      -0.5989      0.193     -3.099      0.002      -0.978      -0.220\n",
      "cylindernumber_six       -0.3618      0.136     -2.654      0.008      -0.629      -0.095\n",
      "cylindernumber_three     -0.3208      0.283     -1.133      0.257      -0.876       0.234\n",
      "cylindernumber_twelve    -0.5469      0.202     -2.710      0.007      -0.942      -0.151\n",
      "cylindernumber_two       -0.1863      0.124     -1.500      0.134      -0.430       0.057\n",
      "=========================================================================================\n"
     ]
    }
   ],
   "source": [
    "model_gamma = sm.GLM(Y, X, family=sm.families.Gamma(link=sm.families.links.log())).fit()\n",
    "print(model_gamma.summary())"
   ]
  },
  {
   "cell_type": "code",
   "execution_count": null,
   "id": "bf72f7dc",
   "metadata": {},
   "outputs": [],
   "source": []
  }
 ],
 "metadata": {
  "kernelspec": {
   "display_name": "Python 3 (ipykernel)",
   "language": "python",
   "name": "python3"
  },
  "language_info": {
   "codemirror_mode": {
    "name": "ipython",
    "version": 3
   },
   "file_extension": ".py",
   "mimetype": "text/x-python",
   "name": "python",
   "nbconvert_exporter": "python",
   "pygments_lexer": "ipython3",
   "version": "3.10.0"
  },
  "nbTranslate": {
   "displayLangs": [
    "*"
   ],
   "hotkey": "alt-t",
   "langInMainMenu": true,
   "sourceLang": "en",
   "targetLang": "fr",
   "useGoogleTranslate": true
  },
  "toc": {
   "base_numbering": 1,
   "nav_menu": {},
   "number_sections": true,
   "sideBar": true,
   "skip_h1_title": false,
   "title_cell": "Table of Contents",
   "title_sidebar": "Contents",
   "toc_cell": false,
   "toc_position": {},
   "toc_section_display": true,
   "toc_window_display": false
  },
  "varInspector": {
   "cols": {
    "lenName": 16,
    "lenType": 16,
    "lenVar": 40
   },
   "kernels_config": {
    "python": {
     "delete_cmd_postfix": "",
     "delete_cmd_prefix": "del ",
     "library": "var_list.py",
     "varRefreshCmd": "print(var_dic_list())"
    },
    "r": {
     "delete_cmd_postfix": ") ",
     "delete_cmd_prefix": "rm(",
     "library": "var_list.r",
     "varRefreshCmd": "cat(var_dic_list()) "
    }
   },
   "types_to_exclude": [
    "module",
    "function",
    "builtin_function_or_method",
    "instance",
    "_Feature"
   ],
   "window_display": false
  }
 },
 "nbformat": 4,
 "nbformat_minor": 5
}
