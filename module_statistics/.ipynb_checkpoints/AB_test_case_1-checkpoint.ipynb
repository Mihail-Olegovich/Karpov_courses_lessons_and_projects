{
 "cells": [
  {
   "cell_type": "markdown",
   "id": "18681a10",
   "metadata": {},
   "source": [
    "# Кейс №1 - Приложение знакомств"
   ]
  },
  {
   "cell_type": "markdown",
   "id": "67bfd4a5",
   "metadata": {},
   "source": [
    "## Принцип работы приложения\n",
    "Механика приложения следующая: пользователи видят в приложении анкеты друг друга и могут ставить друг другу лайки или дизлайки. Если пользователи поставили друг другу лайк – это называется мэтч, и у пользователей появляется возможность познакомиться."
   ]
  },
  {
   "cell_type": "markdown",
   "id": "49c956c3",
   "metadata": {},
   "source": [
    "## Нововведение:\n",
    "Команда приложения разработала новый алгоритм для поиска наиболее подходящих анкет. Для проверки работы алгоритма был проведен АБ-тест. Все пользователи были разделены на две группы. Пользователи в группе с номером 0 пользовались приложением со старым алгоритмом. Все пользователи в группе 1 пользовались приложением с новым алгоритмом для поиска анкет."
   ]
  },
  {
   "cell_type": "markdown",
   "id": "7111cd5f",
   "metadata": {},
   "source": [
    "## Задача\n",
    "Моя задача – оценить, правда ли, что новый алгоритм улучшил качество сервиса. Для этого нужно выбрать одну или несколько метрик, которые отвечают за качество сервиса, и статистически сравнить эти метрики в двух группах."
   ]
  },
  {
   "cell_type": "markdown",
   "id": "3cb55efc",
   "metadata": {},
   "source": [
    "# Загрузка и проверка данных"
   ]
  },
  {
   "cell_type": "code",
   "execution_count": 91,
   "id": "58128896",
   "metadata": {
    "ExecuteTime": {
     "end_time": "2023-04-20T10:56:00.287697Z",
     "start_time": "2023-04-20T10:56:00.272061Z"
    }
   },
   "outputs": [],
   "source": [
    "# импорт библиотек\n",
    "import pandas as pd\n",
    "import seaborn as sns\n",
    "import scipy.stats as stats\n",
    "import scipy.stats\n",
    "import pingouin as pg\n",
    "import matplotlib.pyplot as plt"
   ]
  },
  {
   "cell_type": "code",
   "execution_count": 3,
   "id": "e8a2053a",
   "metadata": {
    "ExecuteTime": {
     "end_time": "2023-04-20T07:34:55.365090Z",
     "start_time": "2023-04-20T07:34:55.301091Z"
    }
   },
   "outputs": [],
   "source": [
    "# загрузка данных\n",
    "data = pd.read_csv('C:/Users/1/JupyterProjects/Karpov_courses_lessons_and_projects/module_statistics/all_data/dating_data.csv')"
   ]
  },
  {
   "cell_type": "code",
   "execution_count": 4,
   "id": "0875528f",
   "metadata": {
    "ExecuteTime": {
     "end_time": "2023-04-20T07:34:55.389095Z",
     "start_time": "2023-04-20T07:34:55.365090Z"
    }
   },
   "outputs": [
    {
     "data": {
      "text/html": [
       "<div>\n",
       "<style scoped>\n",
       "    .dataframe tbody tr th:only-of-type {\n",
       "        vertical-align: middle;\n",
       "    }\n",
       "\n",
       "    .dataframe tbody tr th {\n",
       "        vertical-align: top;\n",
       "    }\n",
       "\n",
       "    .dataframe thead th {\n",
       "        text-align: right;\n",
       "    }\n",
       "</style>\n",
       "<table border=\"1\" class=\"dataframe\">\n",
       "  <thead>\n",
       "    <tr style=\"text-align: right;\">\n",
       "      <th></th>\n",
       "      <th>user_id_1</th>\n",
       "      <th>user_id_2</th>\n",
       "      <th>group</th>\n",
       "      <th>is_match</th>\n",
       "    </tr>\n",
       "  </thead>\n",
       "  <tbody>\n",
       "    <tr>\n",
       "      <th>0</th>\n",
       "      <td>79</td>\n",
       "      <td>91</td>\n",
       "      <td>1</td>\n",
       "      <td>1</td>\n",
       "    </tr>\n",
       "    <tr>\n",
       "      <th>1</th>\n",
       "      <td>716</td>\n",
       "      <td>353</td>\n",
       "      <td>1</td>\n",
       "      <td>1</td>\n",
       "    </tr>\n",
       "    <tr>\n",
       "      <th>2</th>\n",
       "      <td>423</td>\n",
       "      <td>677</td>\n",
       "      <td>0</td>\n",
       "      <td>0</td>\n",
       "    </tr>\n",
       "    <tr>\n",
       "      <th>3</th>\n",
       "      <td>658</td>\n",
       "      <td>165</td>\n",
       "      <td>1</td>\n",
       "      <td>1</td>\n",
       "    </tr>\n",
       "    <tr>\n",
       "      <th>4</th>\n",
       "      <td>969</td>\n",
       "      <td>155</td>\n",
       "      <td>0</td>\n",
       "      <td>1</td>\n",
       "    </tr>\n",
       "  </tbody>\n",
       "</table>\n",
       "</div>"
      ],
      "text/plain": [
       "   user_id_1  user_id_2  group  is_match\n",
       "0         79         91      1         1\n",
       "1        716        353      1         1\n",
       "2        423        677      0         0\n",
       "3        658        165      1         1\n",
       "4        969        155      0         1"
      ]
     },
     "execution_count": 4,
     "metadata": {},
     "output_type": "execute_result"
    }
   ],
   "source": [
    "data.head()"
   ]
  },
  {
   "cell_type": "code",
   "execution_count": 5,
   "id": "fc11eb4d",
   "metadata": {
    "ExecuteTime": {
     "end_time": "2023-04-20T07:34:55.421104Z",
     "start_time": "2023-04-20T07:34:55.389095Z"
    }
   },
   "outputs": [
    {
     "name": "stdout",
     "output_type": "stream",
     "text": [
      "<class 'pandas.core.frame.DataFrame'>\n",
      "RangeIndex: 14514 entries, 0 to 14513\n",
      "Data columns (total 4 columns):\n",
      " #   Column     Non-Null Count  Dtype\n",
      "---  ------     --------------  -----\n",
      " 0   user_id_1  14514 non-null  int64\n",
      " 1   user_id_2  14514 non-null  int64\n",
      " 2   group      14514 non-null  int64\n",
      " 3   is_match   14514 non-null  int64\n",
      "dtypes: int64(4)\n",
      "memory usage: 453.7 KB\n"
     ]
    }
   ],
   "source": [
    "data.info()"
   ]
  },
  {
   "cell_type": "code",
   "execution_count": 6,
   "id": "b00a626a",
   "metadata": {
    "ExecuteTime": {
     "end_time": "2023-04-20T07:34:55.453104Z",
     "start_time": "2023-04-20T07:34:55.421104Z"
    }
   },
   "outputs": [
    {
     "data": {
      "text/plain": [
       "0"
      ]
     },
     "execution_count": 6,
     "metadata": {},
     "output_type": "execute_result"
    }
   ],
   "source": [
    "# проверка на наличие дубликатов\n",
    "data[data.duplicated()].size"
   ]
  },
  {
   "cell_type": "code",
   "execution_count": 7,
   "id": "3614ab4b",
   "metadata": {
    "ExecuteTime": {
     "end_time": "2023-04-20T07:34:55.469093Z",
     "start_time": "2023-04-20T07:34:55.453104Z"
    }
   },
   "outputs": [
    {
     "data": {
      "text/plain": [
       "1    0.669836\n",
       "0    0.330164\n",
       "Name: group, dtype: float64"
      ]
     },
     "execution_count": 7,
     "metadata": {},
     "output_type": "execute_result"
    }
   ],
   "source": [
    "# изучим количественное соотношение групп\n",
    "data.group.value_counts(normalize=True)"
   ]
  },
  {
   "cell_type": "code",
   "execution_count": 8,
   "id": "31edc4be",
   "metadata": {
    "ExecuteTime": {
     "end_time": "2023-04-20T07:34:55.501099Z",
     "start_time": "2023-04-20T07:34:55.469093Z"
    }
   },
   "outputs": [
    {
     "data": {
      "text/plain": [
       "group\n",
       "0    501\n",
       "1    499\n",
       "Name: user_id_1, dtype: int64"
      ]
     },
     "execution_count": 8,
     "metadata": {},
     "output_type": "execute_result"
    }
   ],
   "source": [
    "# уникальных пользователей в каждой группе\n",
    "data.groupby('group').user_id_1.nunique()"
   ]
  },
  {
   "cell_type": "code",
   "execution_count": 9,
   "id": "e786d6bb",
   "metadata": {
    "ExecuteTime": {
     "end_time": "2023-04-20T07:34:55.517103Z",
     "start_time": "2023-04-20T07:34:55.501099Z"
    }
   },
   "outputs": [
    {
     "data": {
      "text/plain": [
       "group\n",
       "0    501\n",
       "1    499\n",
       "Name: user_id_2, dtype: int64"
      ]
     },
     "execution_count": 9,
     "metadata": {},
     "output_type": "execute_result"
    }
   ],
   "source": [
    "data.groupby('group').user_id_2.nunique()"
   ]
  },
  {
   "cell_type": "code",
   "execution_count": 10,
   "id": "2d60886c",
   "metadata": {
    "ExecuteTime": {
     "end_time": "2023-04-20T07:34:55.846741Z",
     "start_time": "2023-04-20T07:34:55.517103Z"
    }
   },
   "outputs": [
    {
     "data": {
      "text/plain": [
       "<AxesSubplot:xlabel='group', ylabel='count'>"
      ]
     },
     "execution_count": 10,
     "metadata": {},
     "output_type": "execute_result"
    },
    {
     "data": {
      "image/png": "[encoded data removed]",
      "text/plain": [
       "<Figure size 432x288 with 1 Axes>"
      ]
     },
     "metadata": {
      "needs_background": "light"
     },
     "output_type": "display_data"
    }
   ],
   "source": [
    "sns.barplot(data=data.groupby('group', as_index=False).agg(count=('is_match', 'count')), x='group', y='count')"
   ]
  },
  {
   "cell_type": "code",
   "execution_count": 11,
   "id": "8a682d68",
   "metadata": {
    "ExecuteTime": {
     "end_time": "2023-04-20T07:34:55.878737Z",
     "start_time": "2023-04-20T07:34:55.846741Z"
    }
   },
   "outputs": [
    {
     "name": "stdout",
     "output_type": "stream",
     "text": [
      "0\n",
      "0\n"
     ]
    }
   ],
   "source": [
    "# проверим, что каждый юзер пользовался приложением только с одним алгоритмом поиска (либо старым, либо новым)\n",
    "print(data.groupby(['user_id_1'], as_index=False).group.nunique().query('group > 1').size)\n",
    "print(data.groupby(['user_id_2'], as_index=False).group.nunique().query('group > 1').size)"
   ]
  },
  {
   "cell_type": "code",
   "execution_count": 12,
   "id": "f2408c48",
   "metadata": {
    "ExecuteTime": {
     "end_time": "2023-04-20T07:34:55.910740Z",
     "start_time": "2023-04-20T07:34:55.878737Z"
    }
   },
   "outputs": [
    {
     "data": {
      "text/plain": [
       "set()"
      ]
     },
     "execution_count": 12,
     "metadata": {},
     "output_type": "execute_result"
    }
   ],
   "source": [
    "# более простой способ через set\n",
    "set_ctrl_1 = set(data.query('group == 0').user_id_1)\n",
    "set_test_1 = set(data.query('group == 1').user_id_1)\n",
    "\n",
    "set_ctrl_1.intersection(set_test_1)"
   ]
  },
  {
   "cell_type": "code",
   "execution_count": 13,
   "id": "7dc92ccb",
   "metadata": {
    "ExecuteTime": {
     "end_time": "2023-04-20T07:34:55.934743Z",
     "start_time": "2023-04-20T07:34:55.910740Z"
    }
   },
   "outputs": [
    {
     "data": {
      "text/plain": [
       "set()"
      ]
     },
     "execution_count": 13,
     "metadata": {},
     "output_type": "execute_result"
    }
   ],
   "source": [
    "set_ctrl_2 = set(data.query('group == 0').user_id_2)\n",
    "set_test_2 = set(data.query('group == 1').user_id_2)\n",
    "\n",
    "set_ctrl_2.intersection(set_test_2)"
   ]
  },
  {
   "cell_type": "markdown",
   "id": "7540fbb5",
   "metadata": {},
   "source": [
    "# Проверка гипотез\n",
    "Сравним конверсии в \"match\" в двух группах:"
   ]
  },
  {
   "cell_type": "markdown",
   "id": "2f8f813e",
   "metadata": {},
   "source": [
    "## Гипотеза 1: Конверсия в группах различается"
   ]
  },
  {
   "cell_type": "code",
   "execution_count": 14,
   "id": "d6b94661",
   "metadata": {
    "ExecuteTime": {
     "end_time": "2023-04-20T07:34:55.950742Z",
     "start_time": "2023-04-20T07:34:55.934743Z"
    }
   },
   "outputs": [
    {
     "data": {
      "text/plain": [
       "19.490818030050082"
      ]
     },
     "execution_count": 14,
     "metadata": {},
     "output_type": "execute_result"
    }
   ],
   "source": [
    "# конверсия в контрольной группе\n",
    "data.query('group == 0').is_match.sum() * 100 / data.query('group == 0').shape[0]"
   ]
  },
  {
   "cell_type": "code",
   "execution_count": 15,
   "id": "ebaa741f",
   "metadata": {
    "ExecuteTime": {
     "end_time": "2023-04-20T07:34:55.974744Z",
     "start_time": "2023-04-20T07:34:55.950742Z"
    }
   },
   "outputs": [
    {
     "data": {
      "text/plain": [
       "40.2077761777412"
      ]
     },
     "execution_count": 15,
     "metadata": {},
     "output_type": "execute_result"
    }
   ],
   "source": [
    "# конверсия в тестовой группе\n",
    "data.query('group == 1').is_match.sum() * 100 / data.query('group == 1').shape[0]"
   ]
  },
  {
   "cell_type": "markdown",
   "id": "307f788a",
   "metadata": {},
   "source": [
    "Так как мы работаем с двумя категориальными переменными: group и is_match, применим хи-квадрат Пирсона.\n",
    "\n",
    "- $H_0$: взаимосвязи между переменными нет \n",
    "- $H_1$: взаимосвязь есть"
   ]
  },
  {
   "cell_type": "code",
   "execution_count": 16,
   "id": "5a9a290b",
   "metadata": {
    "ExecuteTime": {
     "end_time": "2023-04-20T07:34:56.006745Z",
     "start_time": "2023-04-20T07:34:55.974744Z"
    },
    "scrolled": true
   },
   "outputs": [],
   "source": [
    "# составим таблицу сопряженности\n",
    "cross_data = pd.crosstab(index=data['group'], columns=data['is_match'], aggfunc='count', values=data['is_match'])"
   ]
  },
  {
   "cell_type": "code",
   "execution_count": 17,
   "id": "c394b8b7",
   "metadata": {
    "ExecuteTime": {
     "end_time": "2023-04-20T07:34:56.022738Z",
     "start_time": "2023-04-20T07:34:56.006745Z"
    }
   },
   "outputs": [
    {
     "data": {
      "text/html": [
       "<div>\n",
       "<style scoped>\n",
       "    .dataframe tbody tr th:only-of-type {\n",
       "        vertical-align: middle;\n",
       "    }\n",
       "\n",
       "    .dataframe tbody tr th {\n",
       "        vertical-align: top;\n",
       "    }\n",
       "\n",
       "    .dataframe thead th {\n",
       "        text-align: right;\n",
       "    }\n",
       "</style>\n",
       "<table border=\"1\" class=\"dataframe\">\n",
       "  <thead>\n",
       "    <tr style=\"text-align: right;\">\n",
       "      <th>is_match</th>\n",
       "      <th>0</th>\n",
       "      <th>1</th>\n",
       "    </tr>\n",
       "    <tr>\n",
       "      <th>group</th>\n",
       "      <th></th>\n",
       "      <th></th>\n",
       "    </tr>\n",
       "  </thead>\n",
       "  <tbody>\n",
       "    <tr>\n",
       "      <th>0</th>\n",
       "      <td>3858</td>\n",
       "      <td>934</td>\n",
       "    </tr>\n",
       "    <tr>\n",
       "      <th>1</th>\n",
       "      <td>5813</td>\n",
       "      <td>3909</td>\n",
       "    </tr>\n",
       "  </tbody>\n",
       "</table>\n",
       "</div>"
      ],
      "text/plain": [
       "is_match     0     1\n",
       "group               \n",
       "0         3858   934\n",
       "1         5813  3909"
      ]
     },
     "execution_count": 17,
     "metadata": {},
     "output_type": "execute_result"
    }
   ],
   "source": [
    "cross_data"
   ]
  },
  {
   "cell_type": "code",
   "execution_count": 18,
   "id": "e4cbba06",
   "metadata": {
    "ExecuteTime": {
     "end_time": "2023-04-20T07:34:56.038745Z",
     "start_time": "2023-04-20T07:34:56.022738Z"
    }
   },
   "outputs": [],
   "source": [
    "# применим критерий\n",
    "result = stats.chi2_contingency(cross_data)"
   ]
  },
  {
   "cell_type": "code",
   "execution_count": 19,
   "id": "5dd939c3",
   "metadata": {
    "ExecuteTime": {
     "end_time": "2023-04-20T07:34:56.054742Z",
     "start_time": "2023-04-20T07:34:56.038745Z"
    }
   },
   "outputs": [
    {
     "data": {
      "text/plain": [
       "Chi2ContingencyResult(statistic=618.6889141576198, pvalue=1.4418299163662586e-136, dof=1, expected_freq=array([[3193.01584677, 1598.98415323],\n",
       "       [6477.98415323, 3244.01584677]]))"
      ]
     },
     "execution_count": 19,
     "metadata": {},
     "output_type": "execute_result"
    }
   ],
   "source": [
    "result"
   ]
  },
  {
   "cell_type": "markdown",
   "id": "12180af0",
   "metadata": {},
   "source": [
    "**Вывод**"
   ]
  },
  {
   "cell_type": "markdown",
   "id": "7008a098",
   "metadata": {
    "ExecuteTime": {
     "end_time": "2023-04-05T15:00:07.490970Z",
     "start_time": "2023-04-05T15:00:07.450426Z"
    }
   },
   "source": [
    "Мы получили статзначимые различия(p-value < 0.05), значит мы отвергаем нулевую гипотезу о том, что взаимосвязи между переменными нет."
   ]
  },
  {
   "cell_type": "markdown",
   "id": "f8f5207f",
   "metadata": {
    "ExecuteTime": {
     "end_time": "2023-04-05T15:54:16.538945Z",
     "start_time": "2023-04-05T15:54:14.674684Z"
    }
   },
   "source": [
    "Итог: Конверсия в \"match\" в нашем приложении статзначимо увеличилась. Новый алгоритм поиска анкет работает лучше, чем старый. Его стоит развернуть на всю аудиторию пользователей.  "
   ]
  },
  {
   "cell_type": "markdown",
   "id": "4a98f76c",
   "metadata": {},
   "source": [
    "## Гипотеза 2: изменилось число анкет на пользователя"
   ]
  },
  {
   "cell_type": "code",
   "execution_count": 32,
   "id": "447d24d7",
   "metadata": {
    "ExecuteTime": {
     "end_time": "2023-04-20T07:57:30.619844Z",
     "start_time": "2023-04-20T07:57:30.576627Z"
    }
   },
   "outputs": [
    {
     "data": {
      "text/html": [
       "<div>\n",
       "<style scoped>\n",
       "    .dataframe tbody tr th:only-of-type {\n",
       "        vertical-align: middle;\n",
       "    }\n",
       "\n",
       "    .dataframe tbody tr th {\n",
       "        vertical-align: top;\n",
       "    }\n",
       "\n",
       "    .dataframe thead th {\n",
       "        text-align: right;\n",
       "    }\n",
       "</style>\n",
       "<table border=\"1\" class=\"dataframe\">\n",
       "  <thead>\n",
       "    <tr style=\"text-align: right;\">\n",
       "      <th></th>\n",
       "      <th>group</th>\n",
       "      <th>user_id_1</th>\n",
       "      <th>size</th>\n",
       "    </tr>\n",
       "  </thead>\n",
       "  <tbody>\n",
       "    <tr>\n",
       "      <th>0</th>\n",
       "      <td>0</td>\n",
       "      <td>4</td>\n",
       "      <td>9</td>\n",
       "    </tr>\n",
       "    <tr>\n",
       "      <th>1</th>\n",
       "      <td>0</td>\n",
       "      <td>10</td>\n",
       "      <td>6</td>\n",
       "    </tr>\n",
       "    <tr>\n",
       "      <th>2</th>\n",
       "      <td>0</td>\n",
       "      <td>12</td>\n",
       "      <td>12</td>\n",
       "    </tr>\n",
       "    <tr>\n",
       "      <th>3</th>\n",
       "      <td>0</td>\n",
       "      <td>14</td>\n",
       "      <td>8</td>\n",
       "    </tr>\n",
       "    <tr>\n",
       "      <th>4</th>\n",
       "      <td>0</td>\n",
       "      <td>15</td>\n",
       "      <td>20</td>\n",
       "    </tr>\n",
       "  </tbody>\n",
       "</table>\n",
       "</div>"
      ],
      "text/plain": [
       "   group  user_id_1  size\n",
       "0      0          4     9\n",
       "1      0         10     6\n",
       "2      0         12    12\n",
       "3      0         14     8\n",
       "4      0         15    20"
      ]
     },
     "execution_count": 32,
     "metadata": {},
     "output_type": "execute_result"
    }
   ],
   "source": [
    "# число анкет на по группам для кадого из столбца user_id_1\n",
    "size_per_user_1 = data.groupby(['group', 'user_id_1'], as_index=False).size()\n",
    "size_per_user_1.head()"
   ]
  },
  {
   "cell_type": "code",
   "execution_count": 33,
   "id": "14840906",
   "metadata": {
    "ExecuteTime": {
     "end_time": "2023-04-20T07:58:05.601409Z",
     "start_time": "2023-04-20T07:58:05.552339Z"
    }
   },
   "outputs": [
    {
     "data": {
      "text/html": [
       "<div>\n",
       "<style scoped>\n",
       "    .dataframe tbody tr th:only-of-type {\n",
       "        vertical-align: middle;\n",
       "    }\n",
       "\n",
       "    .dataframe tbody tr th {\n",
       "        vertical-align: top;\n",
       "    }\n",
       "\n",
       "    .dataframe thead th {\n",
       "        text-align: right;\n",
       "    }\n",
       "</style>\n",
       "<table border=\"1\" class=\"dataframe\">\n",
       "  <thead>\n",
       "    <tr style=\"text-align: right;\">\n",
       "      <th></th>\n",
       "      <th>group</th>\n",
       "      <th>user_id_2</th>\n",
       "      <th>size</th>\n",
       "    </tr>\n",
       "  </thead>\n",
       "  <tbody>\n",
       "    <tr>\n",
       "      <th>0</th>\n",
       "      <td>0</td>\n",
       "      <td>4</td>\n",
       "      <td>8</td>\n",
       "    </tr>\n",
       "    <tr>\n",
       "      <th>1</th>\n",
       "      <td>0</td>\n",
       "      <td>10</td>\n",
       "      <td>14</td>\n",
       "    </tr>\n",
       "    <tr>\n",
       "      <th>2</th>\n",
       "      <td>0</td>\n",
       "      <td>12</td>\n",
       "      <td>8</td>\n",
       "    </tr>\n",
       "    <tr>\n",
       "      <th>3</th>\n",
       "      <td>0</td>\n",
       "      <td>14</td>\n",
       "      <td>8</td>\n",
       "    </tr>\n",
       "    <tr>\n",
       "      <th>4</th>\n",
       "      <td>0</td>\n",
       "      <td>15</td>\n",
       "      <td>12</td>\n",
       "    </tr>\n",
       "  </tbody>\n",
       "</table>\n",
       "</div>"
      ],
      "text/plain": [
       "   group  user_id_2  size\n",
       "0      0          4     8\n",
       "1      0         10    14\n",
       "2      0         12     8\n",
       "3      0         14     8\n",
       "4      0         15    12"
      ]
     },
     "execution_count": 33,
     "metadata": {},
     "output_type": "execute_result"
    }
   ],
   "source": [
    "# число анкет на по группам для кадого из столбца user_id_2\n",
    "size_per_user_2 = data.groupby(['group', 'user_id_2'], as_index=False).size()\n",
    "size_per_user_2.head()"
   ]
  },
  {
   "cell_type": "code",
   "execution_count": 41,
   "id": "d4362022",
   "metadata": {
    "ExecuteTime": {
     "end_time": "2023-04-20T08:08:36.935614Z",
     "start_time": "2023-04-20T08:08:36.905866Z"
    }
   },
   "outputs": [],
   "source": [
    "# произведем join таблиц по user_id и посчитаем сумму в по строкам size\n",
    "size_per_user = size_per_user_1.merge(size_per_user_2, how='inner', right_on='user_id_2', left_on='user_id_1')"
   ]
  },
  {
   "cell_type": "code",
   "execution_count": 45,
   "id": "8bb3b661",
   "metadata": {
    "ExecuteTime": {
     "end_time": "2023-04-20T08:10:11.753012Z",
     "start_time": "2023-04-20T08:10:11.732494Z"
    }
   },
   "outputs": [],
   "source": [
    "size_per_user['total_size'] = size_per_user.size_x + size_per_user.size_y"
   ]
  },
  {
   "cell_type": "code",
   "execution_count": 47,
   "id": "b6bf6d8e",
   "metadata": {
    "ExecuteTime": {
     "end_time": "2023-04-20T08:10:52.635708Z",
     "start_time": "2023-04-20T08:10:52.604515Z"
    }
   },
   "outputs": [
    {
     "data": {
      "text/html": [
       "<div>\n",
       "<style scoped>\n",
       "    .dataframe tbody tr th:only-of-type {\n",
       "        vertical-align: middle;\n",
       "    }\n",
       "\n",
       "    .dataframe tbody tr th {\n",
       "        vertical-align: top;\n",
       "    }\n",
       "\n",
       "    .dataframe thead th {\n",
       "        text-align: right;\n",
       "    }\n",
       "</style>\n",
       "<table border=\"1\" class=\"dataframe\">\n",
       "  <thead>\n",
       "    <tr style=\"text-align: right;\">\n",
       "      <th></th>\n",
       "      <th>group_x</th>\n",
       "      <th>user_id_1</th>\n",
       "      <th>size_x</th>\n",
       "      <th>group_y</th>\n",
       "      <th>user_id_2</th>\n",
       "      <th>size_y</th>\n",
       "      <th>total_size</th>\n",
       "    </tr>\n",
       "  </thead>\n",
       "  <tbody>\n",
       "    <tr>\n",
       "      <th>0</th>\n",
       "      <td>0</td>\n",
       "      <td>4</td>\n",
       "      <td>9</td>\n",
       "      <td>0</td>\n",
       "      <td>4</td>\n",
       "      <td>8</td>\n",
       "      <td>17</td>\n",
       "    </tr>\n",
       "    <tr>\n",
       "      <th>1</th>\n",
       "      <td>0</td>\n",
       "      <td>10</td>\n",
       "      <td>6</td>\n",
       "      <td>0</td>\n",
       "      <td>10</td>\n",
       "      <td>14</td>\n",
       "      <td>20</td>\n",
       "    </tr>\n",
       "    <tr>\n",
       "      <th>2</th>\n",
       "      <td>0</td>\n",
       "      <td>12</td>\n",
       "      <td>12</td>\n",
       "      <td>0</td>\n",
       "      <td>12</td>\n",
       "      <td>8</td>\n",
       "      <td>20</td>\n",
       "    </tr>\n",
       "    <tr>\n",
       "      <th>3</th>\n",
       "      <td>0</td>\n",
       "      <td>14</td>\n",
       "      <td>8</td>\n",
       "      <td>0</td>\n",
       "      <td>14</td>\n",
       "      <td>8</td>\n",
       "      <td>16</td>\n",
       "    </tr>\n",
       "    <tr>\n",
       "      <th>4</th>\n",
       "      <td>0</td>\n",
       "      <td>15</td>\n",
       "      <td>20</td>\n",
       "      <td>0</td>\n",
       "      <td>15</td>\n",
       "      <td>12</td>\n",
       "      <td>32</td>\n",
       "    </tr>\n",
       "  </tbody>\n",
       "</table>\n",
       "</div>"
      ],
      "text/plain": [
       "   group_x  user_id_1  size_x  group_y  user_id_2  size_y  total_size\n",
       "0        0          4       9        0          4       8          17\n",
       "1        0         10       6        0         10      14          20\n",
       "2        0         12      12        0         12       8          20\n",
       "3        0         14       8        0         14       8          16\n",
       "4        0         15      20        0         15      12          32"
      ]
     },
     "execution_count": 47,
     "metadata": {},
     "output_type": "execute_result"
    }
   ],
   "source": [
    "size_per_user.head()"
   ]
  },
  {
   "cell_type": "markdown",
   "id": "d2f2ee10",
   "metadata": {},
   "source": [
    "Проверка параметрических требований"
   ]
  },
  {
   "cell_type": "code",
   "execution_count": 49,
   "id": "5a53e964",
   "metadata": {
    "ExecuteTime": {
     "end_time": "2023-04-20T08:13:39.439900Z",
     "start_time": "2023-04-20T08:13:39.403603Z"
    }
   },
   "outputs": [],
   "source": [
    "control = size_per_user.query('group_x == 0')['total_size']\n",
    "test = size_per_user.query('group_x == 1')['total_size']"
   ]
  },
  {
   "cell_type": "markdown",
   "id": "36c2e987",
   "metadata": {},
   "source": [
    "Считаем выборки независимыми, так как нет одних и тех же пользователей в тесте и контроле"
   ]
  },
  {
   "cell_type": "code",
   "execution_count": 57,
   "id": "de709884",
   "metadata": {
    "ExecuteTime": {
     "end_time": "2023-04-20T08:18:58.056944Z",
     "start_time": "2023-04-20T08:18:57.604110Z"
    },
    "scrolled": false
   },
   "outputs": [
    {
     "name": "stderr",
     "output_type": "stream",
     "text": [
      "C:\\Users\\1\\AppData\\Local\\Programs\\Python\\Python310\\lib\\site-packages\\seaborn\\distributions.py:2619: FutureWarning: `distplot` is a deprecated function and will be removed in a future version. Please adapt your code to use either `displot` (a figure-level function with similar flexibility) or `histplot` (an axes-level function for histograms).\n",
      "  warnings.warn(msg, FutureWarning)\n",
      "C:\\Users\\1\\AppData\\Local\\Programs\\Python\\Python310\\lib\\site-packages\\seaborn\\distributions.py:2619: FutureWarning: `distplot` is a deprecated function and will be removed in a future version. Please adapt your code to use either `displot` (a figure-level function with similar flexibility) or `histplot` (an axes-level function for histograms).\n",
      "  warnings.warn(msg, FutureWarning)\n"
     ]
    },
    {
     "data": {
      "text/plain": [
       "<AxesSubplot:xlabel='total_size', ylabel='Density'>"
      ]
     },
     "execution_count": 57,
     "metadata": {},
     "output_type": "execute_result"
    },
    {
     "data": {
      "image/png": "[encoded data removed]",
      "text/plain": [
       "<Figure size 432x288 with 1 Axes>"
      ]
     },
     "metadata": {
      "needs_background": "light"
     },
     "output_type": "display_data"
    }
   ],
   "source": [
    "sns.distplot(control, color='blue')\n",
    "sns.distplot(test, color='red')"
   ]
  },
  {
   "cell_type": "code",
   "execution_count": 63,
   "id": "d5f2f96a",
   "metadata": {
    "ExecuteTime": {
     "end_time": "2023-04-20T08:28:31.153884Z",
     "start_time": "2023-04-20T08:28:31.127016Z"
    }
   },
   "outputs": [
    {
     "data": {
      "text/plain": [
       "ShapiroResult(statistic=0.9900683760643005, pvalue=0.0018409064505249262)"
      ]
     },
     "execution_count": 63,
     "metadata": {},
     "output_type": "execute_result"
    }
   ],
   "source": [
    "# тест Шапиро на нормальность\n",
    "scipy.stats.shapiro(control)"
   ]
  },
  {
   "cell_type": "code",
   "execution_count": 58,
   "id": "2cca0b2e",
   "metadata": {
    "ExecuteTime": {
     "end_time": "2023-04-20T08:19:46.678331Z",
     "start_time": "2023-04-20T08:19:46.652651Z"
    }
   },
   "outputs": [
    {
     "data": {
      "text/plain": [
       "ShapiroResult(statistic=0.9948617219924927, pvalue=0.09492503851652145)"
      ]
     },
     "execution_count": 58,
     "metadata": {},
     "output_type": "execute_result"
    }
   ],
   "source": [
    "scipy.stats.shapiro(test)"
   ]
  },
  {
   "cell_type": "code",
   "execution_count": 59,
   "id": "7854f412",
   "metadata": {
    "ExecuteTime": {
     "end_time": "2023-04-20T08:20:53.817710Z",
     "start_time": "2023-04-20T08:20:53.786954Z"
    }
   },
   "outputs": [
    {
     "data": {
      "text/plain": [
       "4.422444764735976"
      ]
     },
     "execution_count": 59,
     "metadata": {},
     "output_type": "execute_result"
    }
   ],
   "source": [
    "# стандартные отклонения\n",
    "np.std(control)"
   ]
  },
  {
   "cell_type": "code",
   "execution_count": 60,
   "id": "91a855d1",
   "metadata": {
    "ExecuteTime": {
     "end_time": "2023-04-20T08:21:04.560233Z",
     "start_time": "2023-04-20T08:21:04.536208Z"
    }
   },
   "outputs": [
    {
     "data": {
      "text/plain": [
       "5.494471778398172"
      ]
     },
     "execution_count": 60,
     "metadata": {},
     "output_type": "execute_result"
    }
   ],
   "source": [
    "np.std(test)"
   ]
  },
  {
   "cell_type": "code",
   "execution_count": 62,
   "id": "b669f6be",
   "metadata": {
    "ExecuteTime": {
     "end_time": "2023-04-20T08:23:13.447944Z",
     "start_time": "2023-04-20T08:23:13.421573Z"
    }
   },
   "outputs": [
    {
     "data": {
      "text/plain": [
       "Ttest_indResult(statistic=-62.837086115525075, pvalue=0.0)"
      ]
     },
     "execution_count": 62,
     "metadata": {},
     "output_type": "execute_result"
    }
   ],
   "source": [
    "# применяем t-test\n",
    "scipy.stats.ttest_ind(control, test)"
   ]
  },
  {
   "cell_type": "markdown",
   "id": "8088182f",
   "metadata": {},
   "source": [
    "**Вывод**"
   ]
  },
  {
   "cell_type": "markdown",
   "id": "d7e1f0d5",
   "metadata": {},
   "source": [
    "Среднее число анкет на пользователя статзначимо увеличилось в тесте."
   ]
  },
  {
   "cell_type": "markdown",
   "id": "66cb6049",
   "metadata": {},
   "source": [
    "## Гипотеза 3: изменилось число мэтчей на пользователя"
   ]
  },
  {
   "cell_type": "markdown",
   "id": "85603cb2",
   "metadata": {},
   "source": [
    "Объединение и агрегация данных"
   ]
  },
  {
   "cell_type": "code",
   "execution_count": 68,
   "id": "6cbb6f4c",
   "metadata": {
    "ExecuteTime": {
     "end_time": "2023-04-20T08:39:00.094805Z",
     "start_time": "2023-04-20T08:39:00.062888Z"
    }
   },
   "outputs": [],
   "source": [
    "match_1 = data.groupby(['group', 'user_id_1'], as_index=False).is_match.sum()"
   ]
  },
  {
   "cell_type": "code",
   "execution_count": 69,
   "id": "206228fa",
   "metadata": {
    "ExecuteTime": {
     "end_time": "2023-04-20T08:39:06.820127Z",
     "start_time": "2023-04-20T08:39:06.779062Z"
    }
   },
   "outputs": [],
   "source": [
    "match_2 = data.groupby(['group', 'user_id_2'], as_index=False).is_match.sum()"
   ]
  },
  {
   "cell_type": "code",
   "execution_count": 71,
   "id": "c2862f85",
   "metadata": {
    "ExecuteTime": {
     "end_time": "2023-04-20T08:40:22.427223Z",
     "start_time": "2023-04-20T08:40:22.408212Z"
    }
   },
   "outputs": [],
   "source": [
    "match = match_1.merge(match_2, how='inner', left_on='user_id_1', right_on='user_id_2')"
   ]
  },
  {
   "cell_type": "code",
   "execution_count": 72,
   "id": "fe6d59e5",
   "metadata": {
    "ExecuteTime": {
     "end_time": "2023-04-20T08:41:10.484216Z",
     "start_time": "2023-04-20T08:41:10.459982Z"
    }
   },
   "outputs": [],
   "source": [
    "match['total_is_match'] = match.is_match_x + match.is_match_y"
   ]
  },
  {
   "cell_type": "code",
   "execution_count": 73,
   "id": "2a25f39b",
   "metadata": {
    "ExecuteTime": {
     "end_time": "2023-04-20T08:41:19.834479Z",
     "start_time": "2023-04-20T08:41:19.792033Z"
    }
   },
   "outputs": [
    {
     "data": {
      "text/html": [
       "<div>\n",
       "<style scoped>\n",
       "    .dataframe tbody tr th:only-of-type {\n",
       "        vertical-align: middle;\n",
       "    }\n",
       "\n",
       "    .dataframe tbody tr th {\n",
       "        vertical-align: top;\n",
       "    }\n",
       "\n",
       "    .dataframe thead th {\n",
       "        text-align: right;\n",
       "    }\n",
       "</style>\n",
       "<table border=\"1\" class=\"dataframe\">\n",
       "  <thead>\n",
       "    <tr style=\"text-align: right;\">\n",
       "      <th></th>\n",
       "      <th>group_x</th>\n",
       "      <th>user_id_1</th>\n",
       "      <th>is_match_x</th>\n",
       "      <th>group_y</th>\n",
       "      <th>user_id_2</th>\n",
       "      <th>is_match_y</th>\n",
       "      <th>total_is_match</th>\n",
       "    </tr>\n",
       "  </thead>\n",
       "  <tbody>\n",
       "    <tr>\n",
       "      <th>0</th>\n",
       "      <td>0</td>\n",
       "      <td>4</td>\n",
       "      <td>2</td>\n",
       "      <td>0</td>\n",
       "      <td>4</td>\n",
       "      <td>1</td>\n",
       "      <td>3</td>\n",
       "    </tr>\n",
       "    <tr>\n",
       "      <th>1</th>\n",
       "      <td>0</td>\n",
       "      <td>10</td>\n",
       "      <td>3</td>\n",
       "      <td>0</td>\n",
       "      <td>10</td>\n",
       "      <td>3</td>\n",
       "      <td>6</td>\n",
       "    </tr>\n",
       "    <tr>\n",
       "      <th>2</th>\n",
       "      <td>0</td>\n",
       "      <td>12</td>\n",
       "      <td>1</td>\n",
       "      <td>0</td>\n",
       "      <td>12</td>\n",
       "      <td>1</td>\n",
       "      <td>2</td>\n",
       "    </tr>\n",
       "    <tr>\n",
       "      <th>3</th>\n",
       "      <td>0</td>\n",
       "      <td>14</td>\n",
       "      <td>0</td>\n",
       "      <td>0</td>\n",
       "      <td>14</td>\n",
       "      <td>0</td>\n",
       "      <td>0</td>\n",
       "    </tr>\n",
       "    <tr>\n",
       "      <th>4</th>\n",
       "      <td>0</td>\n",
       "      <td>15</td>\n",
       "      <td>3</td>\n",
       "      <td>0</td>\n",
       "      <td>15</td>\n",
       "      <td>3</td>\n",
       "      <td>6</td>\n",
       "    </tr>\n",
       "  </tbody>\n",
       "</table>\n",
       "</div>"
      ],
      "text/plain": [
       "   group_x  user_id_1  is_match_x  group_y  user_id_2  is_match_y  \\\n",
       "0        0          4           2        0          4           1   \n",
       "1        0         10           3        0         10           3   \n",
       "2        0         12           1        0         12           1   \n",
       "3        0         14           0        0         14           0   \n",
       "4        0         15           3        0         15           3   \n",
       "\n",
       "   total_is_match  \n",
       "0               3  \n",
       "1               6  \n",
       "2               2  \n",
       "3               0  \n",
       "4               6  "
      ]
     },
     "execution_count": 73,
     "metadata": {},
     "output_type": "execute_result"
    }
   ],
   "source": [
    "match.head()"
   ]
  },
  {
   "cell_type": "markdown",
   "id": "a66fdfb9",
   "metadata": {},
   "source": [
    "Проверка параметрических допущений"
   ]
  },
  {
   "cell_type": "code",
   "execution_count": 74,
   "id": "15808a52",
   "metadata": {
    "ExecuteTime": {
     "end_time": "2023-04-20T08:44:11.619516Z",
     "start_time": "2023-04-20T08:44:11.591812Z"
    }
   },
   "outputs": [],
   "source": [
    "control = match.query('group_x == 0')['total_is_match']\n",
    "test = match.query('group_x == 1')['total_is_match']"
   ]
  },
  {
   "cell_type": "code",
   "execution_count": 75,
   "id": "b2d7c03b",
   "metadata": {
    "ExecuteTime": {
     "end_time": "2023-04-20T08:44:12.759902Z",
     "start_time": "2023-04-20T08:44:12.285599Z"
    }
   },
   "outputs": [
    {
     "name": "stderr",
     "output_type": "stream",
     "text": [
      "C:\\Users\\1\\AppData\\Local\\Programs\\Python\\Python310\\lib\\site-packages\\seaborn\\distributions.py:2619: FutureWarning: `distplot` is a deprecated function and will be removed in a future version. Please adapt your code to use either `displot` (a figure-level function with similar flexibility) or `histplot` (an axes-level function for histograms).\n",
      "  warnings.warn(msg, FutureWarning)\n",
      "C:\\Users\\1\\AppData\\Local\\Programs\\Python\\Python310\\lib\\site-packages\\seaborn\\distributions.py:2619: FutureWarning: `distplot` is a deprecated function and will be removed in a future version. Please adapt your code to use either `displot` (a figure-level function with similar flexibility) or `histplot` (an axes-level function for histograms).\n",
      "  warnings.warn(msg, FutureWarning)\n"
     ]
    },
    {
     "data": {
      "text/plain": [
       "<AxesSubplot:xlabel='total_is_match', ylabel='Density'>"
      ]
     },
     "execution_count": 75,
     "metadata": {},
     "output_type": "execute_result"
    },
    {
     "data": {
      "image/png": "[encoded data removed]",
      "text/plain": [
       "<Figure size 432x288 with 1 Axes>"
      ]
     },
     "metadata": {
      "needs_background": "light"
     },
     "output_type": "display_data"
    }
   ],
   "source": [
    "sns.distplot(control, color='blue')\n",
    "sns.distplot(test, color='red')"
   ]
  },
  {
   "cell_type": "code",
   "execution_count": 76,
   "id": "fec6b433",
   "metadata": {
    "ExecuteTime": {
     "end_time": "2023-04-20T08:44:17.082593Z",
     "start_time": "2023-04-20T08:44:17.056122Z"
    }
   },
   "outputs": [
    {
     "data": {
      "text/plain": [
       "ShapiroResult(statistic=0.9586852788925171, pvalue=1.2164244611589936e-10)"
      ]
     },
     "execution_count": 76,
     "metadata": {},
     "output_type": "execute_result"
    }
   ],
   "source": [
    "scipy.stats.shapiro(control)"
   ]
  },
  {
   "cell_type": "code",
   "execution_count": 77,
   "id": "9ce1f689",
   "metadata": {
    "ExecuteTime": {
     "end_time": "2023-04-20T08:44:18.719878Z",
     "start_time": "2023-04-20T08:44:18.692818Z"
    }
   },
   "outputs": [
    {
     "data": {
      "text/plain": [
       "ShapiroResult(statistic=0.9886834025382996, pvalue=0.0006664181128144264)"
      ]
     },
     "execution_count": 77,
     "metadata": {},
     "output_type": "execute_result"
    }
   ],
   "source": [
    "scipy.stats.shapiro(test)"
   ]
  },
  {
   "cell_type": "code",
   "execution_count": 78,
   "id": "f997e1f2",
   "metadata": {
    "ExecuteTime": {
     "end_time": "2023-04-20T08:44:22.110391Z",
     "start_time": "2023-04-20T08:44:22.078309Z"
    }
   },
   "outputs": [
    {
     "data": {
      "text/plain": [
       "1.9885309055506355"
      ]
     },
     "execution_count": 78,
     "metadata": {},
     "output_type": "execute_result"
    }
   ],
   "source": [
    "np.std(control)"
   ]
  },
  {
   "cell_type": "code",
   "execution_count": 79,
   "id": "90c5dc4d",
   "metadata": {
    "ExecuteTime": {
     "end_time": "2023-04-20T08:44:22.513583Z",
     "start_time": "2023-04-20T08:44:22.486383Z"
    }
   },
   "outputs": [
    {
     "data": {
      "text/plain": [
       "3.8422755331659872"
      ]
     },
     "execution_count": 79,
     "metadata": {},
     "output_type": "execute_result"
    }
   ],
   "source": [
    "np.std(test)"
   ]
  },
  {
   "cell_type": "markdown",
   "id": "c9732f09",
   "metadata": {},
   "source": [
    "Так как требования выполняются плохо, а размер выборок не так уж велик, применим тест Манна-Уитни"
   ]
  },
  {
   "cell_type": "code",
   "execution_count": 80,
   "id": "b9349f2f",
   "metadata": {
    "ExecuteTime": {
     "end_time": "2023-04-20T09:12:00.679173Z",
     "start_time": "2023-04-20T09:12:00.655005Z"
    }
   },
   "outputs": [
    {
     "data": {
      "text/plain": [
       "MannwhitneyuResult(statistic=249409.0, pvalue=4.755813924800893e-164)"
      ]
     },
     "execution_count": 80,
     "metadata": {},
     "output_type": "execute_result"
    }
   ],
   "source": [
    "scipy.stats.mannwhitneyu(test, control)"
   ]
  },
  {
   "cell_type": "markdown",
   "id": "7936b358",
   "metadata": {},
   "source": [
    "**Вывод**"
   ]
  },
  {
   "cell_type": "markdown",
   "id": "62d1b191",
   "metadata": {},
   "source": [
    "Тест Манна-Уитни проверяет стохастическое равновесие. Он проверяет нулевую гипотезу о том, что распределения однородны. Мы получили p-value < 0.05, а значит наши распределения не однородны, число мэтчей на пользователя в тесте больше, чем в контроле"
   ]
  },
  {
   "cell_type": "markdown",
   "id": "bb48d8c7",
   "metadata": {},
   "source": [
    "# Дополнительные способы проверки"
   ]
  },
  {
   "cell_type": "markdown",
   "id": "ce59ed27",
   "metadata": {},
   "source": [
    "## Тест Колмогорова-Смирнова"
   ]
  },
  {
   "cell_type": "code",
   "execution_count": 81,
   "id": "0425b67a",
   "metadata": {
    "ExecuteTime": {
     "end_time": "2023-04-20T09:32:09.450788Z",
     "start_time": "2023-04-20T09:32:09.413474Z"
    }
   },
   "outputs": [
    {
     "data": {
      "text/plain": [
       "KstestResult(statistic=0.9599758399033597, pvalue=2.3594701084592624e-258, statistic_location=8, statistic_sign=1)"
      ]
     },
     "execution_count": 81,
     "metadata": {},
     "output_type": "execute_result"
    }
   ],
   "source": [
    "# довольно чувствительный тест, который также проверяет различие в распределениях\n",
    "scipy.stats.ks_2samp(control, test)"
   ]
  },
  {
   "cell_type": "markdown",
   "id": "44f07026",
   "metadata": {},
   "source": [
    "## Тест Бруннера-Манцеля"
   ]
  },
  {
   "cell_type": "code",
   "execution_count": 84,
   "id": "105041ea",
   "metadata": {
    "ExecuteTime": {
     "end_time": "2023-04-20T09:35:29.827133Z",
     "start_time": "2023-04-20T09:35:29.802616Z"
    }
   },
   "outputs": [
    {
     "data": {
      "text/plain": [
       "BrunnerMunzelResult(statistic=536.7060827196013, pvalue=0.0)"
      ]
     },
     "execution_count": 84,
     "metadata": {},
     "output_type": "execute_result"
    }
   ],
   "source": [
    "# модифицированный вариант Манна-Уитни, проверяет стохастическое доминирование\n",
    "scipy.stats.brunnermunzel(control, test)"
   ]
  },
  {
   "cell_type": "markdown",
   "id": "59a61275",
   "metadata": {},
   "source": [
    "## Bootstrap"
   ]
  },
  {
   "cell_type": "code",
   "execution_count": 85,
   "id": "7755945b",
   "metadata": {
    "ExecuteTime": {
     "end_time": "2023-04-20T09:39:20.436064Z",
     "start_time": "2023-04-20T09:39:18.821375Z"
    }
   },
   "outputs": [
    {
     "name": "stderr",
     "output_type": "stream",
     "text": [
      "C:\\Users\\1\\AppData\\Local\\Programs\\Python\\Python310\\lib\\site-packages\\scipy\\stats\\_resampling.py:144: RuntimeWarning: invalid value encountered in double_scalars\n",
      "  a_hat = 1/6 * sum(nums) / sum(dens)**(3/2)\n",
      "C:\\Users\\1\\AppData\\Local\\Programs\\Python\\Python310\\lib\\site-packages\\scipy\\stats\\_resampling.py:97: DegenerateDataWarning: The BCa confidence interval cannot be calculated. This problem is known to occur when the distribution is degenerate or the statistic is np.min.\n",
      "  warnings.warn(DegenerateDataWarning(msg))\n"
     ]
    },
    {
     "data": {
      "text/plain": [
       "BootstrapResult(confidence_interval=ConfidenceInterval(low=nan, high=nan), bootstrap_distribution=array([-12., -11., -11., ..., -12., -11., -12.]), standard_error=0.6423882708719956)"
      ]
     },
     "execution_count": 85,
     "metadata": {},
     "output_type": "execute_result"
    }
   ],
   "source": [
    "scipy.stats.bootstrap([control, test], statistic=lambda x, y: np.median(x) - np.median(y))"
   ]
  },
  {
   "cell_type": "markdown",
   "id": "3b985bb4",
   "metadata": {},
   "source": [
    "Мы получили предупреждение, оно связано с тем, что в наших выборках слишком часто наблюдается разница в медианах размерм в 12, что исключает неуверенность в том, что это различие действительно является таковым (CI выродился в точку)."
   ]
  },
  {
   "cell_type": "code",
   "execution_count": 86,
   "id": "eaf3fce9",
   "metadata": {
    "ExecuteTime": {
     "end_time": "2023-04-20T09:43:07.294156Z",
     "start_time": "2023-04-20T09:43:06.352272Z"
    }
   },
   "outputs": [
    {
     "data": {
      "text/plain": [
       "BootstrapResult(confidence_interval=ConfidenceInterval(low=-12.312972099943645, high=-11.553095576862303), bootstrap_distribution=array([-11.95295581, -12.41549766, -11.9510958 , ..., -11.97652391,\n",
       "       -11.93458374, -12.26545306]), standard_error=0.1934550543839451)"
      ]
     },
     "execution_count": 86,
     "metadata": {},
     "output_type": "execute_result"
    }
   ],
   "source": [
    "# сравним средние\n",
    "scipy.stats.bootstrap([control, test], statistic=lambda x, y: np.mean(x) - np.mean(y))"
   ]
  },
  {
   "cell_type": "markdown",
   "id": "f613aeb7",
   "metadata": {},
   "source": [
    "## Bootstrap и сравнение квантилей"
   ]
  },
  {
   "cell_type": "code",
   "execution_count": 92,
   "id": "21567e69",
   "metadata": {
    "ExecuteTime": {
     "end_time": "2023-04-20T10:56:06.712195Z",
     "start_time": "2023-04-20T10:56:06.087432Z"
    }
   },
   "outputs": [
    {
     "data": {
      "image/png": "[encoded data removed]",
      "text/plain": [
       "<Figure size 576x360 with 2 Axes>"
      ]
     },
     "metadata": {
      "needs_background": "light"
     },
     "output_type": "display_data"
    }
   ],
   "source": [
    "pg.plot_shift(control, test)\n",
    "\n",
    "plt.show()"
   ]
  },
  {
   "cell_type": "markdown",
   "id": "02512785",
   "metadata": {},
   "source": [
    "На первом графике мы наблюдаем то, что децили(0.1, 0.2,... квантили) сместились в большую сторону, так же одна точка на контроле соответствует нескольким на тесте, что означает увеличение разброса. Второй график показывает разность мужду квантилями для каждого квантиля"
   ]
  },
  {
   "cell_type": "markdown",
   "id": "3c78a75f",
   "metadata": {},
   "source": [
    "# Байесовский подход"
   ]
  },
  {
   "cell_type": "code",
   "execution_count": 20,
   "id": "4e9bc8a2",
   "metadata": {
    "ExecuteTime": {
     "end_time": "2023-04-20T07:35:02.358848Z",
     "start_time": "2023-04-20T07:34:56.054742Z"
    }
   },
   "outputs": [
    {
     "name": "stdout",
     "output_type": "stream",
     "text": [
      "Requirement already satisfied: numba in c:\\users\\1\\appdata\\roaming\\python\\python310\\site-packages (0.56.4)\n",
      "Requirement already satisfied: llvmlite<0.40,>=0.39.0dev0 in c:\\users\\1\\appdata\\roaming\\python\\python310\\site-packages (from numba) (0.39.1)\n",
      "Requirement already satisfied: numpy<1.24,>=1.18 in c:\\users\\1\\appdata\\local\\programs\\python\\python310\\lib\\site-packages (from numba) (1.23.5)\n",
      "Requirement already satisfied: setuptools in c:\\users\\1\\appdata\\local\\programs\\python\\python310\\lib\\site-packages (from numba) (57.4.0)\n"
     ]
    }
   ],
   "source": [
    "!pip install numba --user"
   ]
  },
  {
   "cell_type": "code",
   "execution_count": 21,
   "id": "dbbe442d",
   "metadata": {
    "ExecuteTime": {
     "end_time": "2023-04-20T07:35:02.400165Z",
     "start_time": "2023-04-20T07:35:02.358848Z"
    }
   },
   "outputs": [
    {
     "data": {
      "text/html": [
       "<div>\n",
       "<style scoped>\n",
       "    .dataframe tbody tr th:only-of-type {\n",
       "        vertical-align: middle;\n",
       "    }\n",
       "\n",
       "    .dataframe tbody tr th {\n",
       "        vertical-align: top;\n",
       "    }\n",
       "\n",
       "    .dataframe thead th {\n",
       "        text-align: right;\n",
       "    }\n",
       "</style>\n",
       "<table border=\"1\" class=\"dataframe\">\n",
       "  <thead>\n",
       "    <tr style=\"text-align: right;\">\n",
       "      <th></th>\n",
       "      <th>group</th>\n",
       "      <th>impressions</th>\n",
       "      <th>conversion</th>\n",
       "    </tr>\n",
       "  </thead>\n",
       "  <tbody>\n",
       "    <tr>\n",
       "      <th>0</th>\n",
       "      <td>0</td>\n",
       "      <td>4792</td>\n",
       "      <td>934</td>\n",
       "    </tr>\n",
       "    <tr>\n",
       "      <th>1</th>\n",
       "      <td>1</td>\n",
       "      <td>9722</td>\n",
       "      <td>3909</td>\n",
       "    </tr>\n",
       "  </tbody>\n",
       "</table>\n",
       "</div>"
      ],
      "text/plain": [
       "   group  impressions  conversion\n",
       "0      0         4792         934\n",
       "1      1         9722        3909"
      ]
     },
     "execution_count": 21,
     "metadata": {},
     "output_type": "execute_result"
    }
   ],
   "source": [
    "data.groupby('group', as_index=False).agg({'user_id_1': 'count', 'is_match': 'sum'}).rename(columns={'user_id_1': 'impressions', 'is_match': 'conversion'})"
   ]
  },
  {
   "cell_type": "code",
   "execution_count": 22,
   "id": "ea1b5554",
   "metadata": {
    "ExecuteTime": {
     "end_time": "2023-04-20T07:35:03.504160Z",
     "start_time": "2023-04-20T07:35:02.400165Z"
    }
   },
   "outputs": [],
   "source": [
    "from math import lgamma\n",
    "from numba import jit\n",
    "\n",
    "#defining the functions used\n",
    "@jit\n",
    "def h(a, b, c, d):\n",
    "    num = lgamma(a + c) + lgamma(b + d) + lgamma(a + b) + lgamma(c + d)\n",
    "    den = lgamma(a) + lgamma(b) + lgamma(c) + lgamma(d) + lgamma(a + b + c + d)\n",
    "    return np.exp(num - den)\n",
    "\n",
    "@jit\n",
    "def g0(a, b, c):    \n",
    "    return np.exp(lgamma(a + b) + lgamma(a + c) - (lgamma(a + b + c) + lgamma(a)))\n",
    "\n",
    "@jit\n",
    "def hiter(a, b, c, d):\n",
    "    while d > 1:\n",
    "        d -= 1\n",
    "        yield h(a, b, c, d) / d\n",
    "\n",
    "def g(a, b, c, d):\n",
    "    return g0(a, b, c) + sum(hiter(a, b, c, d))\n",
    "\n",
    "def calc_prob_between(beta1, beta2):\n",
    "    return g(beta1.args[0], beta1.args[1], beta2.args[0], beta2.args[1])"
   ]
  },
  {
   "cell_type": "code",
   "execution_count": 23,
   "id": "40c25fa6",
   "metadata": {
    "ExecuteTime": {
     "end_time": "2023-04-20T07:35:04.463832Z",
     "start_time": "2023-04-20T07:35:03.504160Z"
    }
   },
   "outputs": [
    {
     "name": "stdout",
     "output_type": "stream",
     "text": [
      "Test option lift Conversion Rates by 106.17% with 100.0% probability.\n"
     ]
    }
   ],
   "source": [
    "from scipy.stats import beta\n",
    "import numpy as np\n",
    "#from calc_prob import calc_prob_between\n",
    "\n",
    "#This is the known data: impressions and conversions for the Control and Test set\n",
    "imps_ctrl,convs_ctrl=4792, 934 \n",
    "imps_test, convs_test=9722, 3909\n",
    "\n",
    "#here we create the Beta functions for the two sets\n",
    "a_C, b_C = convs_ctrl+1, imps_ctrl-convs_ctrl+1\n",
    "beta_C = beta(a_C, b_C)\n",
    "a_T, b_T = convs_test+1, imps_test-convs_test+1\n",
    "beta_T = beta(a_T, b_T)\n",
    "\n",
    "#calculating the lift\n",
    "lift=(beta_T.mean()-beta_C.mean())/beta_C.mean()\n",
    "\n",
    "#calculating the probability for Test to be better than Control\n",
    "prob=calc_prob_between(beta_T, beta_C)\n",
    "\n",
    "print (f\"Test option lift Conversion Rates by {lift*100:2.2f}% with {prob*100:2.1f}% probability.\")"
   ]
  },
  {
   "cell_type": "code",
   "execution_count": null,
   "id": "46b570a4",
   "metadata": {},
   "outputs": [],
   "source": []
  }
 ],
 "metadata": {
  "kernelspec": {
   "display_name": "Python 3 (ipykernel)",
   "language": "python",
   "name": "python3"
  },
  "language_info": {
   "codemirror_mode": {
    "name": "ipython",
    "version": 3
   },
   "file_extension": ".py",
   "mimetype": "text/x-python",
   "name": "python",
   "nbconvert_exporter": "python",
   "pygments_lexer": "ipython3",
   "version": "3.10.0"
  },
  "nbTranslate": {
   "displayLangs": [
    "*"
   ],
   "hotkey": "alt-t",
   "langInMainMenu": true,
   "sourceLang": "en",
   "targetLang": "fr",
   "useGoogleTranslate": true
  },
  "toc": {
   "base_numbering": 1,
   "nav_menu": {},
   "number_sections": true,
   "sideBar": true,
   "skip_h1_title": false,
   "title_cell": "Table of Contents",
   "title_sidebar": "Contents",
   "toc_cell": false,
   "toc_position": {},
   "toc_section_display": true,
   "toc_window_display": false
  },
  "varInspector": {
   "cols": {
    "lenName": 16,
    "lenType": 16,
    "lenVar": 40
   },
   "kernels_config": {
    "python": {
     "delete_cmd_postfix": "",
     "delete_cmd_prefix": "del ",
     "library": "var_list.py",
     "varRefreshCmd": "print(var_dic_list())"
    },
    "r": {
     "delete_cmd_postfix": ") ",
     "delete_cmd_prefix": "rm(",
     "library": "var_list.r",
     "varRefreshCmd": "cat(var_dic_list()) "
    }
   },
   "types_to_exclude": [
    "module",
    "function",
    "builtin_function_or_method",
    "instance",
    "_Feature"
   ],
   "window_display": false
  }
 },
 "nbformat": 4,
 "nbformat_minor": 5
}
