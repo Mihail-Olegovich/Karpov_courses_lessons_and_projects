{
 "cells": [
  {
   "cell_type": "markdown",
   "id": "fac4516c",
   "metadata": {},
   "source": [
    "В этом мини-проекте мы посчитаем несколько продуктовых метрик и посмотрим, какие распределения могут встретиться на практике."
   ]
  },
  {
   "cell_type": "code",
   "execution_count": 1,
   "id": "fd62f55c",
   "metadata": {
    "ExecuteTime": {
     "end_time": "2023-04-01T17:06:20.292185Z",
     "start_time": "2023-04-01T17:06:10.519630Z"
    }
   },
   "outputs": [],
   "source": [
    "import pandas as pd\n",
    "import seaborn as sns\n",
    "import scipy \n",
    "import matplotlib.pyplot \n",
    "%matplotlib inline"
   ]
  },
  {
   "cell_type": "code",
   "execution_count": 2,
   "id": "c59c89a2",
   "metadata": {
    "ExecuteTime": {
     "end_time": "2023-04-01T17:06:20.308183Z",
     "start_time": "2023-04-01T17:06:20.292185Z"
    }
   },
   "outputs": [],
   "source": [
    "sns.set(\n",
    "    font_scale=2,\n",
    "    style=\"whitegrid\",\n",
    "    rc={'figure.figsize':(20,7)}\n",
    "        )"
   ]
  },
  {
   "cell_type": "code",
   "execution_count": 3,
   "id": "af08aa8b",
   "metadata": {
    "ExecuteTime": {
     "end_time": "2023-04-01T17:06:20.444184Z",
     "start_time": "2023-04-01T17:06:20.308183Z"
    }
   },
   "outputs": [],
   "source": [
    "df = pd.read_csv('C:/Users/1/JupyterProjects/Karpov_courses_lessons_and_projects/module_statistics/all_data/conversion.csv')"
   ]
  },
  {
   "cell_type": "code",
   "execution_count": 4,
   "id": "d4176164",
   "metadata": {
    "ExecuteTime": {
     "end_time": "2023-04-01T17:06:20.492934Z",
     "start_time": "2023-04-01T17:06:20.444184Z"
    }
   },
   "outputs": [
    {
     "data": {
      "text/html": [
       "<div>\n",
       "<style scoped>\n",
       "    .dataframe tbody tr th:only-of-type {\n",
       "        vertical-align: middle;\n",
       "    }\n",
       "\n",
       "    .dataframe tbody tr th {\n",
       "        vertical-align: top;\n",
       "    }\n",
       "\n",
       "    .dataframe thead th {\n",
       "        text-align: right;\n",
       "    }\n",
       "</style>\n",
       "<table border=\"1\" class=\"dataframe\">\n",
       "  <thead>\n",
       "    <tr style=\"text-align: right;\">\n",
       "      <th></th>\n",
       "      <th>ad_id</th>\n",
       "      <th>xyz_campaign_id</th>\n",
       "      <th>fb_campaign_id</th>\n",
       "      <th>age</th>\n",
       "      <th>gender</th>\n",
       "      <th>interest</th>\n",
       "      <th>Impressions</th>\n",
       "      <th>Clicks</th>\n",
       "      <th>Spent</th>\n",
       "      <th>Total_Conversion</th>\n",
       "      <th>Approved_Conversion</th>\n",
       "    </tr>\n",
       "  </thead>\n",
       "  <tbody>\n",
       "    <tr>\n",
       "      <th>0</th>\n",
       "      <td>708746</td>\n",
       "      <td>916</td>\n",
       "      <td>103916</td>\n",
       "      <td>30-34</td>\n",
       "      <td>M</td>\n",
       "      <td>15</td>\n",
       "      <td>7350</td>\n",
       "      <td>1</td>\n",
       "      <td>1.43</td>\n",
       "      <td>2</td>\n",
       "      <td>1</td>\n",
       "    </tr>\n",
       "    <tr>\n",
       "      <th>1</th>\n",
       "      <td>708749</td>\n",
       "      <td>916</td>\n",
       "      <td>103917</td>\n",
       "      <td>30-34</td>\n",
       "      <td>M</td>\n",
       "      <td>16</td>\n",
       "      <td>17861</td>\n",
       "      <td>2</td>\n",
       "      <td>1.82</td>\n",
       "      <td>2</td>\n",
       "      <td>0</td>\n",
       "    </tr>\n",
       "    <tr>\n",
       "      <th>2</th>\n",
       "      <td>708771</td>\n",
       "      <td>916</td>\n",
       "      <td>103920</td>\n",
       "      <td>30-34</td>\n",
       "      <td>M</td>\n",
       "      <td>20</td>\n",
       "      <td>693</td>\n",
       "      <td>0</td>\n",
       "      <td>0.00</td>\n",
       "      <td>1</td>\n",
       "      <td>0</td>\n",
       "    </tr>\n",
       "    <tr>\n",
       "      <th>3</th>\n",
       "      <td>708815</td>\n",
       "      <td>916</td>\n",
       "      <td>103928</td>\n",
       "      <td>30-34</td>\n",
       "      <td>M</td>\n",
       "      <td>28</td>\n",
       "      <td>4259</td>\n",
       "      <td>1</td>\n",
       "      <td>1.25</td>\n",
       "      <td>1</td>\n",
       "      <td>0</td>\n",
       "    </tr>\n",
       "    <tr>\n",
       "      <th>4</th>\n",
       "      <td>708818</td>\n",
       "      <td>916</td>\n",
       "      <td>103928</td>\n",
       "      <td>30-34</td>\n",
       "      <td>M</td>\n",
       "      <td>28</td>\n",
       "      <td>4133</td>\n",
       "      <td>1</td>\n",
       "      <td>1.29</td>\n",
       "      <td>1</td>\n",
       "      <td>1</td>\n",
       "    </tr>\n",
       "  </tbody>\n",
       "</table>\n",
       "</div>"
      ],
      "text/plain": [
       "    ad_id  xyz_campaign_id  fb_campaign_id    age gender  interest  \\\n",
       "0  708746              916          103916  30-34      M        15   \n",
       "1  708749              916          103917  30-34      M        16   \n",
       "2  708771              916          103920  30-34      M        20   \n",
       "3  708815              916          103928  30-34      M        28   \n",
       "4  708818              916          103928  30-34      M        28   \n",
       "\n",
       "   Impressions  Clicks  Spent  Total_Conversion  Approved_Conversion  \n",
       "0         7350       1   1.43                 2                    1  \n",
       "1        17861       2   1.82                 2                    0  \n",
       "2          693       0   0.00                 1                    0  \n",
       "3         4259       1   1.25                 1                    0  \n",
       "4         4133       1   1.29                 1                    1  "
      ]
     },
     "execution_count": 4,
     "metadata": {},
     "output_type": "execute_result"
    }
   ],
   "source": [
    "df.head()"
   ]
  },
  {
   "cell_type": "raw",
   "id": "bc3e45f1",
   "metadata": {},
   "source": [
    "Описание данных\n",
    "\n",
    "ad_id – идентификатор объявления (рекламы)\n",
    "xyz_campaign_id – идентификатор рекламной кампании в базе компании X\n",
    "fb_campaign_id – идентификатор кампании в Facebook\n",
    "age – возрастная группа, которой показывалась реклама\n",
    "gender – пол тех, кому показывалась реклама\n",
    "interest –код, указывающий категорию, к которой относится интерес пользователя (соответствие число – интерес, условно: 1 – животные, 2 – автомобили, 3 – тортики и т.д.)\n",
    "impressions – число показов\n",
    "clicks – число кликов\n",
    "spent – сумма, которую компания потратила на показ объявления \n",
    "total_conversion – количество людей, которые заинтересовались продуктом после просмотра рекламы\n",
    "approved_conversion – количество людей, которые купили продукт после просмотра рекламы"
   ]
  },
  {
   "cell_type": "code",
   "execution_count": 5,
   "id": "121b77ac",
   "metadata": {
    "ExecuteTime": {
     "end_time": "2023-04-01T17:06:20.524946Z",
     "start_time": "2023-04-01T17:06:20.492934Z"
    }
   },
   "outputs": [
    {
     "name": "stdout",
     "output_type": "stream",
     "text": [
      "<class 'pandas.core.frame.DataFrame'>\n",
      "RangeIndex: 1143 entries, 0 to 1142\n",
      "Data columns (total 11 columns):\n",
      " #   Column               Non-Null Count  Dtype  \n",
      "---  ------               --------------  -----  \n",
      " 0   ad_id                1143 non-null   int64  \n",
      " 1   xyz_campaign_id      1143 non-null   int64  \n",
      " 2   fb_campaign_id       1143 non-null   int64  \n",
      " 3   age                  1143 non-null   object \n",
      " 4   gender               1143 non-null   object \n",
      " 5   interest             1143 non-null   int64  \n",
      " 6   Impressions          1143 non-null   int64  \n",
      " 7   Clicks               1143 non-null   int64  \n",
      " 8   Spent                1143 non-null   float64\n",
      " 9   Total_Conversion     1143 non-null   int64  \n",
      " 10  Approved_Conversion  1143 non-null   int64  \n",
      "dtypes: float64(1), int64(8), object(2)\n",
      "memory usage: 98.4+ KB\n"
     ]
    }
   ],
   "source": [
    "df.info()"
   ]
  },
  {
   "cell_type": "code",
   "execution_count": 6,
   "id": "5f571626",
   "metadata": {
    "ExecuteTime": {
     "end_time": "2023-04-01T17:06:20.556954Z",
     "start_time": "2023-04-01T17:06:20.524946Z"
    }
   },
   "outputs": [
    {
     "data": {
      "text/plain": [
       "ad_id                  1143\n",
       "xyz_campaign_id           3\n",
       "fb_campaign_id          691\n",
       "age                       4\n",
       "gender                    2\n",
       "interest                 40\n",
       "Impressions            1130\n",
       "Clicks                  183\n",
       "Spent                   869\n",
       "Total_Conversion         32\n",
       "Approved_Conversion      16\n",
       "dtype: int64"
      ]
     },
     "execution_count": 6,
     "metadata": {},
     "output_type": "execute_result"
    }
   ],
   "source": [
    "df.nunique()"
   ]
  },
  {
   "cell_type": "code",
   "execution_count": 7,
   "id": "d13cbf05",
   "metadata": {
    "ExecuteTime": {
     "end_time": "2023-04-01T17:06:20.588944Z",
     "start_time": "2023-04-01T17:06:20.556954Z"
    }
   },
   "outputs": [
    {
     "data": {
      "text/plain": [
       "array([ 916,  936, 1178], dtype=int64)"
      ]
     },
     "execution_count": 7,
     "metadata": {},
     "output_type": "execute_result"
    }
   ],
   "source": [
    "df.xyz_campaign_id.unique()           "
   ]
  },
  {
   "cell_type": "code",
   "execution_count": 8,
   "id": "5bc4ebfb",
   "metadata": {
    "ExecuteTime": {
     "end_time": "2023-04-01T17:06:20.604940Z",
     "start_time": "2023-04-01T17:06:20.588944Z"
    }
   },
   "outputs": [
    {
     "data": {
      "text/plain": [
       "array(['30-34', '35-39', '40-44', '45-49'], dtype=object)"
      ]
     },
     "execution_count": 8,
     "metadata": {},
     "output_type": "execute_result"
    }
   ],
   "source": [
    "df.age.unique()"
   ]
  },
  {
   "cell_type": "code",
   "execution_count": 9,
   "id": "201e99fd",
   "metadata": {
    "ExecuteTime": {
     "end_time": "2023-04-01T17:06:20.620937Z",
     "start_time": "2023-04-01T17:06:20.604940Z"
    }
   },
   "outputs": [],
   "source": [
    "# переменная age в данном случае является ранговой, так как категории можно условно сравнить"
   ]
  },
  {
   "cell_type": "markdown",
   "id": "0ceb526c",
   "metadata": {},
   "source": [
    "Построим график распределения числа показов (Impressions – сколько раз пользователи увидели данное объявление) для каждой рекламной кампании в Facebook, прологарифмировав значения."
   ]
  },
  {
   "cell_type": "code",
   "execution_count": 10,
   "id": "fda99b91",
   "metadata": {
    "ExecuteTime": {
     "end_time": "2023-04-01T17:06:20.668134Z",
     "start_time": "2023-04-01T17:06:20.620937Z"
    }
   },
   "outputs": [
    {
     "data": {
      "text/html": [
       "<div>\n",
       "<style scoped>\n",
       "    .dataframe tbody tr th:only-of-type {\n",
       "        vertical-align: middle;\n",
       "    }\n",
       "\n",
       "    .dataframe tbody tr th {\n",
       "        vertical-align: top;\n",
       "    }\n",
       "\n",
       "    .dataframe thead th {\n",
       "        text-align: right;\n",
       "    }\n",
       "</style>\n",
       "<table border=\"1\" class=\"dataframe\">\n",
       "  <thead>\n",
       "    <tr style=\"text-align: right;\">\n",
       "      <th></th>\n",
       "      <th>ad_id</th>\n",
       "      <th>xyz_campaign_id</th>\n",
       "      <th>fb_campaign_id</th>\n",
       "      <th>age</th>\n",
       "      <th>gender</th>\n",
       "      <th>interest</th>\n",
       "      <th>Impressions</th>\n",
       "      <th>Clicks</th>\n",
       "      <th>Spent</th>\n",
       "      <th>Total_Conversion</th>\n",
       "      <th>Approved_Conversion</th>\n",
       "    </tr>\n",
       "  </thead>\n",
       "  <tbody>\n",
       "    <tr>\n",
       "      <th>0</th>\n",
       "      <td>708746</td>\n",
       "      <td>916</td>\n",
       "      <td>103916</td>\n",
       "      <td>30-34</td>\n",
       "      <td>M</td>\n",
       "      <td>15</td>\n",
       "      <td>7350</td>\n",
       "      <td>1</td>\n",
       "      <td>1.430000</td>\n",
       "      <td>2</td>\n",
       "      <td>1</td>\n",
       "    </tr>\n",
       "    <tr>\n",
       "      <th>1</th>\n",
       "      <td>708749</td>\n",
       "      <td>916</td>\n",
       "      <td>103917</td>\n",
       "      <td>30-34</td>\n",
       "      <td>M</td>\n",
       "      <td>16</td>\n",
       "      <td>17861</td>\n",
       "      <td>2</td>\n",
       "      <td>1.820000</td>\n",
       "      <td>2</td>\n",
       "      <td>0</td>\n",
       "    </tr>\n",
       "    <tr>\n",
       "      <th>2</th>\n",
       "      <td>708771</td>\n",
       "      <td>916</td>\n",
       "      <td>103920</td>\n",
       "      <td>30-34</td>\n",
       "      <td>M</td>\n",
       "      <td>20</td>\n",
       "      <td>693</td>\n",
       "      <td>0</td>\n",
       "      <td>0.000000</td>\n",
       "      <td>1</td>\n",
       "      <td>0</td>\n",
       "    </tr>\n",
       "    <tr>\n",
       "      <th>3</th>\n",
       "      <td>708815</td>\n",
       "      <td>916</td>\n",
       "      <td>103928</td>\n",
       "      <td>30-34</td>\n",
       "      <td>M</td>\n",
       "      <td>28</td>\n",
       "      <td>4259</td>\n",
       "      <td>1</td>\n",
       "      <td>1.250000</td>\n",
       "      <td>1</td>\n",
       "      <td>0</td>\n",
       "    </tr>\n",
       "    <tr>\n",
       "      <th>4</th>\n",
       "      <td>708818</td>\n",
       "      <td>916</td>\n",
       "      <td>103928</td>\n",
       "      <td>30-34</td>\n",
       "      <td>M</td>\n",
       "      <td>28</td>\n",
       "      <td>4133</td>\n",
       "      <td>1</td>\n",
       "      <td>1.290000</td>\n",
       "      <td>1</td>\n",
       "      <td>1</td>\n",
       "    </tr>\n",
       "    <tr>\n",
       "      <th>...</th>\n",
       "      <td>...</td>\n",
       "      <td>...</td>\n",
       "      <td>...</td>\n",
       "      <td>...</td>\n",
       "      <td>...</td>\n",
       "      <td>...</td>\n",
       "      <td>...</td>\n",
       "      <td>...</td>\n",
       "      <td>...</td>\n",
       "      <td>...</td>\n",
       "      <td>...</td>\n",
       "    </tr>\n",
       "    <tr>\n",
       "      <th>1138</th>\n",
       "      <td>1314410</td>\n",
       "      <td>1178</td>\n",
       "      <td>179977</td>\n",
       "      <td>45-49</td>\n",
       "      <td>F</td>\n",
       "      <td>109</td>\n",
       "      <td>1129773</td>\n",
       "      <td>252</td>\n",
       "      <td>358.189997</td>\n",
       "      <td>13</td>\n",
       "      <td>2</td>\n",
       "    </tr>\n",
       "    <tr>\n",
       "      <th>1139</th>\n",
       "      <td>1314411</td>\n",
       "      <td>1178</td>\n",
       "      <td>179978</td>\n",
       "      <td>45-49</td>\n",
       "      <td>F</td>\n",
       "      <td>110</td>\n",
       "      <td>637549</td>\n",
       "      <td>120</td>\n",
       "      <td>173.880003</td>\n",
       "      <td>3</td>\n",
       "      <td>0</td>\n",
       "    </tr>\n",
       "    <tr>\n",
       "      <th>1140</th>\n",
       "      <td>1314412</td>\n",
       "      <td>1178</td>\n",
       "      <td>179979</td>\n",
       "      <td>45-49</td>\n",
       "      <td>F</td>\n",
       "      <td>111</td>\n",
       "      <td>151531</td>\n",
       "      <td>28</td>\n",
       "      <td>40.289999</td>\n",
       "      <td>2</td>\n",
       "      <td>0</td>\n",
       "    </tr>\n",
       "    <tr>\n",
       "      <th>1141</th>\n",
       "      <td>1314414</td>\n",
       "      <td>1178</td>\n",
       "      <td>179981</td>\n",
       "      <td>45-49</td>\n",
       "      <td>F</td>\n",
       "      <td>113</td>\n",
       "      <td>790253</td>\n",
       "      <td>135</td>\n",
       "      <td>198.710001</td>\n",
       "      <td>8</td>\n",
       "      <td>2</td>\n",
       "    </tr>\n",
       "    <tr>\n",
       "      <th>1142</th>\n",
       "      <td>1314415</td>\n",
       "      <td>1178</td>\n",
       "      <td>179982</td>\n",
       "      <td>45-49</td>\n",
       "      <td>F</td>\n",
       "      <td>114</td>\n",
       "      <td>513161</td>\n",
       "      <td>114</td>\n",
       "      <td>165.609999</td>\n",
       "      <td>5</td>\n",
       "      <td>2</td>\n",
       "    </tr>\n",
       "  </tbody>\n",
       "</table>\n",
       "<p>1143 rows × 11 columns</p>\n",
       "</div>"
      ],
      "text/plain": [
       "        ad_id  xyz_campaign_id  fb_campaign_id    age gender  interest  \\\n",
       "0      708746              916          103916  30-34      M        15   \n",
       "1      708749              916          103917  30-34      M        16   \n",
       "2      708771              916          103920  30-34      M        20   \n",
       "3      708815              916          103928  30-34      M        28   \n",
       "4      708818              916          103928  30-34      M        28   \n",
       "...       ...              ...             ...    ...    ...       ...   \n",
       "1138  1314410             1178          179977  45-49      F       109   \n",
       "1139  1314411             1178          179978  45-49      F       110   \n",
       "1140  1314412             1178          179979  45-49      F       111   \n",
       "1141  1314414             1178          179981  45-49      F       113   \n",
       "1142  1314415             1178          179982  45-49      F       114   \n",
       "\n",
       "      Impressions  Clicks       Spent  Total_Conversion  Approved_Conversion  \n",
       "0            7350       1    1.430000                 2                    1  \n",
       "1           17861       2    1.820000                 2                    0  \n",
       "2             693       0    0.000000                 1                    0  \n",
       "3            4259       1    1.250000                 1                    0  \n",
       "4            4133       1    1.290000                 1                    1  \n",
       "...           ...     ...         ...               ...                  ...  \n",
       "1138      1129773     252  358.189997                13                    2  \n",
       "1139       637549     120  173.880003                 3                    0  \n",
       "1140       151531      28   40.289999                 2                    0  \n",
       "1141       790253     135  198.710001                 8                    2  \n",
       "1142       513161     114  165.609999                 5                    2  \n",
       "\n",
       "[1143 rows x 11 columns]"
      ]
     },
     "execution_count": 10,
     "metadata": {},
     "output_type": "execute_result"
    }
   ],
   "source": [
    "df"
   ]
  },
  {
   "cell_type": "code",
   "execution_count": 26,
   "id": "0e6e32ee",
   "metadata": {
    "ExecuteTime": {
     "end_time": "2023-04-01T17:06:40.312423Z",
     "start_time": "2023-04-01T17:06:39.780613Z"
    }
   },
   "outputs": [
    {
     "data": {
      "text/plain": [
       "<AxesSubplot:xlabel='sum_of_impressions', ylabel='Density'>"
      ]
     },
     "execution_count": 26,
     "metadata": {},
     "output_type": "execute_result"
    },
    {
     "data": {
      "image/png": "[encoded data removed]",
      "text/plain": [
       "<Figure size 1440x504 with 1 Axes>"
      ]
     },
     "metadata": {},
     "output_type": "display_data"
    }
   ],
   "source": [
    "sns.histplot(data=df.groupby('fb_campaign_id', as_index=False) \\\n",
    "             .agg(sum_of_impressions=('Impressions', 'sum')), x='sum_of_impressions', stat='density')"
   ]
  },
  {
   "cell_type": "code",
   "execution_count": 27,
   "id": "3f9d563c",
   "metadata": {
    "ExecuteTime": {
     "end_time": "2023-04-01T17:06:46.044571Z",
     "start_time": "2023-04-01T17:06:45.572201Z"
    }
   },
   "outputs": [
    {
     "data": {
      "text/plain": [
       "<AxesSubplot:xlabel='sum_of_impressions', ylabel='Density'>"
      ]
     },
     "execution_count": 27,
     "metadata": {},
     "output_type": "execute_result"
    },
    {
     "data": {
      "image/png": "[encoded data removed]",
      "text/plain": [
       "<Figure size 1440x504 with 1 Axes>"
      ]
     },
     "metadata": {},
     "output_type": "display_data"
    }
   ],
   "source": [
    "# log\n",
    "sns.histplot(data=np.log(df.groupby('fb_campaign_id', as_index=False) \\\n",
    "                         .agg(sum_of_impressions=('Impressions', 'sum'))), x='sum_of_impressions', stat='density')"
   ]
  },
  {
   "cell_type": "markdown",
   "id": "756a78f4",
   "metadata": {},
   "source": [
    "Попробуем понять, чем обусловлена бимодальность распределения"
   ]
  },
  {
   "cell_type": "code",
   "execution_count": 36,
   "id": "636741f8",
   "metadata": {
    "ExecuteTime": {
     "end_time": "2023-04-01T17:13:41.475288Z",
     "start_time": "2023-04-01T17:13:41.443941Z"
    }
   },
   "outputs": [],
   "source": [
    "df_groped = df.groupby(['xyz_campaign_id', 'fb_campaign_id'], as_index=False) \\\n",
    "                                    .agg(sum_of_impressions=('Impressions', 'sum'))\n",
    "df_groped['sum_of_impressions'] = np.log(df_groped['sum_of_impressions'])"
   ]
  },
  {
   "cell_type": "code",
   "execution_count": 38,
   "id": "f171cb9c",
   "metadata": {
    "ExecuteTime": {
     "end_time": "2023-04-01T17:14:51.562635Z",
     "start_time": "2023-04-01T17:14:51.090607Z"
    }
   },
   "outputs": [
    {
     "data": {
      "text/plain": [
       "<AxesSubplot:xlabel='sum_of_impressions', ylabel='Density'>"
      ]
     },
     "execution_count": 38,
     "metadata": {},
     "output_type": "execute_result"
    },
    {
     "data": {
      "image/png": "[encoded data removed]",
      "text/plain": [
       "<Figure size 1440x504 with 1 Axes>"
      ]
     },
     "metadata": {},
     "output_type": "display_data"
    }
   ],
   "source": [
    "sns.histplot(data=df_groped, x='sum_of_impressions', stat='density', hue='xyz_campaign_id', palette='dark')"
   ]
  },
  {
   "cell_type": "markdown",
   "id": "673bb534",
   "metadata": {},
   "source": [
    "Кластеризация:"
   ]
  },
  {
   "cell_type": "code",
   "execution_count": 42,
   "id": "0a1bb004",
   "metadata": {
    "ExecuteTime": {
     "end_time": "2023-04-01T17:21:35.905361Z",
     "start_time": "2023-04-01T17:21:33.523524Z"
    }
   },
   "outputs": [],
   "source": [
    "from sklearn.mixture import GaussianMixture\n",
    "\n",
    "dat = np.log(df.groupby('fb_campaign_id').Impressions.sum()).values.reshape(-1, 1)\n",
    "\n",
    "mix = GaussianMixture(n_components = 2).fit(dat)\n",
    "\n",
    "labels = mix.predict(dat)"
   ]
  },
  {
   "cell_type": "code",
   "execution_count": 43,
   "id": "551915c0",
   "metadata": {
    "ExecuteTime": {
     "end_time": "2023-04-01T17:22:01.956457Z",
     "start_time": "2023-04-01T17:22:01.931063Z"
    },
    "scrolled": true
   },
   "outputs": [
    {
     "data": {
      "text/plain": [
       "array([0, 0, 0, 0, 0, 0, 0, 0, 0, 0, 0, 0, 0, 0, 0, 0, 0, 0, 0, 0, 0, 0,\n",
       "       0, 0, 0, 0, 1, 0, 0, 1, 0, 0, 0, 0, 0, 0, 0, 0, 0, 0, 0, 0, 0, 0,\n",
       "       0, 0, 0, 0, 0, 0, 0, 0, 0, 0, 0, 0, 0, 0, 0, 0, 0, 0, 0, 0, 0, 0,\n",
       "       0, 0, 0, 0, 0, 0, 1, 0, 0, 0, 0, 1, 0, 0, 0, 0, 0, 0, 0, 0, 0, 0,\n",
       "       0, 0, 0, 0, 1, 1, 0, 0, 0, 1, 0, 0, 0, 0, 0, 0, 0, 0, 0, 0, 0, 1,\n",
       "       0, 0, 0, 0, 0, 0, 0, 0, 0, 0, 0, 0, 1, 0, 0, 0, 0, 0, 1, 1, 0, 0,\n",
       "       0, 1, 0, 0, 0, 0, 0, 0, 0, 0, 0, 0, 0, 0, 0, 0, 0, 0, 0, 0, 0, 0,\n",
       "       0, 0, 0, 0, 0, 0, 0, 0, 0, 0, 0, 0, 0, 1, 0, 1, 1, 0, 0, 0, 0, 1,\n",
       "       1, 0, 0, 0, 0, 0, 0, 0, 1, 1, 1, 0, 1, 1, 0, 1, 0, 0, 0, 0, 0, 0,\n",
       "       1, 1, 0, 0, 0, 0, 0, 0, 0, 0, 0, 0, 1, 0, 0, 0, 0, 0, 0, 0, 0, 0,\n",
       "       0, 0, 0, 0, 0, 0, 0, 0, 0, 0, 1, 0, 0, 0, 0, 0, 0, 0, 0, 0, 1, 0,\n",
       "       0, 0, 0, 0, 0, 1, 0, 0, 0, 0, 0, 0, 0, 0, 0, 0, 0, 0, 0, 0, 0, 1,\n",
       "       0, 0, 0, 0, 0, 1, 0, 0, 0, 1, 0, 0, 0, 0, 0, 0, 0, 0, 0, 0, 0, 0,\n",
       "       0, 1, 0, 0, 0, 0, 0, 0, 0, 0, 0, 0, 1, 0, 1, 0, 0, 0, 0, 1, 0, 1,\n",
       "       0, 0, 1, 1, 0, 0, 0, 0, 0, 0, 0, 1, 0, 0, 0, 0, 0, 0, 0, 1, 0, 0,\n",
       "       0, 0, 0, 0, 1, 0, 0, 0, 0, 0, 0, 0, 0, 0, 0, 0, 0, 0, 0, 0, 0, 0,\n",
       "       0, 0, 0, 0, 0, 0, 0, 0, 0, 0, 0, 0, 0, 0, 0, 0, 0, 0, 0, 0, 0, 0,\n",
       "       0, 0, 0, 0, 0, 0, 0, 0, 0, 0, 0, 0, 0, 0, 0, 0, 0, 0, 0, 0, 0, 0,\n",
       "       0, 0, 0, 0, 0, 0, 0, 0, 0, 0, 0, 0, 0, 0, 0, 0, 0, 0, 1, 1, 1, 1,\n",
       "       1, 1, 1, 1, 1, 1, 1, 1, 1, 1, 1, 1, 1, 1, 1, 1, 1, 1, 1, 1, 1, 1,\n",
       "       1, 1, 1, 1, 1, 1, 1, 1, 1, 1, 1, 1, 1, 1, 1, 0, 1, 1, 1, 1, 1, 1,\n",
       "       1, 1, 1, 1, 1, 1, 1, 0, 1, 1, 1, 1, 0, 1, 1, 1, 1, 1, 1, 1, 1, 1,\n",
       "       1, 1, 0, 1, 1, 1, 1, 1, 1, 1, 1, 1, 1, 1, 0, 1, 1, 1, 1, 1, 0, 1,\n",
       "       1, 1, 1, 1, 1, 1, 1, 1, 1, 1, 1, 1, 0, 1, 1, 1, 1, 1, 1, 1, 1, 1,\n",
       "       0, 1, 1, 1, 1, 1, 0, 1, 1, 1, 1, 1, 1, 1, 1, 1, 1, 1, 0, 1, 1, 1,\n",
       "       1, 1, 0, 1, 1, 1, 1, 0, 1, 1, 1, 1, 1, 1, 1, 1, 1, 1, 1, 1, 1, 1,\n",
       "       1, 1, 1, 1, 1, 1, 1, 1, 1, 1, 1, 1, 1, 1, 1, 1, 1, 1, 1, 1, 1, 1,\n",
       "       1, 1, 0, 1, 1, 1, 1, 1, 1, 1, 1, 1, 0, 1, 1, 1, 1, 1, 1, 1, 1, 1,\n",
       "       1, 1, 1, 0, 1, 1, 1, 1, 1, 1, 1, 1, 1, 1, 1, 1, 1, 1, 1, 1, 1, 1,\n",
       "       1, 1, 1, 1, 1, 1, 1, 1, 1, 1, 1, 1, 1, 1, 1, 1, 1, 1, 1, 1, 1, 1,\n",
       "       1, 1, 1, 1, 1, 1, 1, 1, 1, 1, 1, 1, 1, 1, 1, 1, 1, 1, 1, 1, 1, 1,\n",
       "       1, 1, 1, 1, 1, 1, 1, 1, 1], dtype=int64)"
      ]
     },
     "execution_count": 43,
     "metadata": {},
     "output_type": "execute_result"
    }
   ],
   "source": [
    "labels"
   ]
  },
  {
   "cell_type": "code",
   "execution_count": 44,
   "id": "5dabf255",
   "metadata": {
    "ExecuteTime": {
     "end_time": "2023-04-01T17:22:09.984997Z",
     "start_time": "2023-04-01T17:22:09.948608Z"
    }
   },
   "outputs": [
    {
     "data": {
      "text/plain": [
       "array([[ 8.90245559],\n",
       "       [ 9.79037484],\n",
       "       [ 6.54103   ],\n",
       "       [ 9.03503415],\n",
       "       [ 7.5574729 ],\n",
       "       [ 9.65598727],\n",
       "       [ 9.30118606],\n",
       "       [ 7.76429601],\n",
       "       [ 9.15925758],\n",
       "       [ 7.10987946],\n",
       "       [ 6.5998705 ],\n",
       "       [ 9.23376389],\n",
       "       [ 9.5934917 ],\n",
       "       [ 7.12367279],\n",
       "       [ 7.74283596],\n",
       "       [ 6.93147181],\n",
       "       [ 8.43966399],\n",
       "       [ 9.95351505],\n",
       "       [ 9.05415429],\n",
       "       [10.22972906],\n",
       "       [ 6.32614947],\n",
       "       [ 8.91462613],\n",
       "       [ 9.85812401],\n",
       "       [ 9.53510144],\n",
       "       [ 7.24279792],\n",
       "       [10.07815489],\n",
       "       [10.76265752],\n",
       "       [ 7.73324565],\n",
       "       [ 7.68799717],\n",
       "       [11.00740242],\n",
       "       [ 8.03624994],\n",
       "       [ 8.51998928],\n",
       "       [10.56426649],\n",
       "       [ 7.29505642],\n",
       "       [ 7.07834158],\n",
       "       [ 8.58839695],\n",
       "       [10.00879307],\n",
       "       [ 7.07749805],\n",
       "       [ 9.47416511],\n",
       "       [ 7.8272409 ],\n",
       "       [ 8.67658724],\n",
       "       [ 7.93128476],\n",
       "       [ 8.24590926],\n",
       "       [ 9.32357977],\n",
       "       [ 5.6767538 ],\n",
       "       [ 9.77406201],\n",
       "       [ 7.27793857],\n",
       "       [ 9.62251625],\n",
       "       [ 9.52215392],\n",
       "       [ 6.60529792],\n",
       "       [ 6.40522846],\n",
       "       [ 6.93731408],\n",
       "       [ 8.58932779],\n",
       "       [ 7.46851327],\n",
       "       [ 8.39457348],\n",
       "       [ 9.42399908],\n",
       "       [ 7.98548436],\n",
       "       [ 5.47646355],\n",
       "       [ 6.38181602],\n",
       "       [ 9.24300115],\n",
       "       [ 9.01905879],\n",
       "       [ 9.40574267],\n",
       "       [ 8.95014376],\n",
       "       [ 6.7262334 ],\n",
       "       [ 7.16935002],\n",
       "       [ 5.91620206],\n",
       "       [ 9.25588719],\n",
       "       [ 6.73221071],\n",
       "       [ 8.62622695],\n",
       "       [10.67699278],\n",
       "       [ 8.09132127],\n",
       "       [ 9.5088882 ],\n",
       "       [11.04252176],\n",
       "       [ 9.37610902],\n",
       "       [ 8.35678967],\n",
       "       [ 8.83593779],\n",
       "       [ 8.52198171],\n",
       "       [11.55835762],\n",
       "       [ 9.04829192],\n",
       "       [ 9.91724252],\n",
       "       [ 9.42569366],\n",
       "       [ 6.21060008],\n",
       "       [ 6.48004456],\n",
       "       [ 7.21303166],\n",
       "       [ 7.23921497],\n",
       "       [ 6.4738907 ],\n",
       "       [ 6.56244409],\n",
       "       [ 8.84029067],\n",
       "       [10.57221396],\n",
       "       [ 6.83087423],\n",
       "       [ 8.39208338],\n",
       "       [ 9.20683423],\n",
       "       [11.20686215],\n",
       "       [11.15207037],\n",
       "       [ 6.27287701],\n",
       "       [ 9.56500329],\n",
       "       [10.3913618 ],\n",
       "       [11.35524189],\n",
       "       [ 7.75705114],\n",
       "       [ 7.83280752],\n",
       "       [ 8.18507148],\n",
       "       [ 7.1491316 ],\n",
       "       [ 8.26642147],\n",
       "       [ 8.23827262],\n",
       "       [ 6.57228254],\n",
       "       [ 9.32357977],\n",
       "       [ 8.64400204],\n",
       "       [ 7.25488481],\n",
       "       [ 7.67229246],\n",
       "       [10.72328941],\n",
       "       [ 9.42520979],\n",
       "       [ 6.27852142],\n",
       "       [ 7.27724773],\n",
       "       [ 9.77298015],\n",
       "       [ 8.11462389],\n",
       "       [ 6.25958146],\n",
       "       [ 7.5352967 ],\n",
       "       [10.45564704],\n",
       "       [ 6.48920493],\n",
       "       [ 7.33888813],\n",
       "       [ 8.00969536],\n",
       "       [10.20658765],\n",
       "       [12.02809365],\n",
       "       [ 9.98340718],\n",
       "       [ 9.11734751],\n",
       "       [ 6.295266  ],\n",
       "       [ 5.99645209],\n",
       "       [ 7.19893124],\n",
       "       [10.73965224],\n",
       "       [13.28078834],\n",
       "       [ 9.46931428],\n",
       "       [ 6.27098843],\n",
       "       [ 6.85012617],\n",
       "       [11.61809596],\n",
       "       [ 9.09985564],\n",
       "       [ 7.81359155],\n",
       "       [ 9.92920403],\n",
       "       [ 6.15697899],\n",
       "       [ 6.67456139],\n",
       "       [ 8.43533216],\n",
       "       [ 9.69836809],\n",
       "       [ 7.93487157],\n",
       "       [ 6.93925395],\n",
       "       [ 7.41577698],\n",
       "       [ 8.29804166],\n",
       "       [ 9.60528365],\n",
       "       [ 9.17719715],\n",
       "       [ 9.40804303],\n",
       "       [ 6.51174533],\n",
       "       [ 5.91350301],\n",
       "       [ 6.10924758],\n",
       "       [10.41840479],\n",
       "       [ 9.03717675],\n",
       "       [10.1613803 ],\n",
       "       [ 6.41017488],\n",
       "       [10.25723822],\n",
       "       [ 9.22286165],\n",
       "       [10.10752983],\n",
       "       [ 6.20050917],\n",
       "       [ 7.30720231],\n",
       "       [ 7.30988149],\n",
       "       [ 6.23832463],\n",
       "       [ 8.49043845],\n",
       "       [ 8.79254961],\n",
       "       [ 9.22660734],\n",
       "       [ 9.32206062],\n",
       "       [ 7.12125245],\n",
       "       [11.87806845],\n",
       "       [ 9.83102438],\n",
       "       [12.57916951],\n",
       "       [11.43027185],\n",
       "       [ 8.94975453],\n",
       "       [ 8.9645677 ],\n",
       "       [ 7.21744343],\n",
       "       [ 8.18004072],\n",
       "       [13.41583715],\n",
       "       [12.47506872],\n",
       "       [10.22408444],\n",
       "       [ 9.22955459],\n",
       "       [ 7.06304816],\n",
       "       [10.59977978],\n",
       "       [ 8.20494517],\n",
       "       [ 8.07090609],\n",
       "       [ 8.92930284],\n",
       "       [10.7232013 ],\n",
       "       [11.44302861],\n",
       "       [12.07476164],\n",
       "       [ 8.85580599],\n",
       "       [11.33149951],\n",
       "       [11.27760811],\n",
       "       [ 9.07954808],\n",
       "       [11.54073517],\n",
       "       [ 7.22183583],\n",
       "       [10.20025324],\n",
       "       [ 6.22653667],\n",
       "       [ 9.39166143],\n",
       "       [ 9.87060273],\n",
       "       [ 9.30200756],\n",
       "       [10.88881915],\n",
       "       [11.11405854],\n",
       "       [ 8.16706818],\n",
       "       [10.44801871],\n",
       "       [10.40716771],\n",
       "       [ 6.30078579],\n",
       "       [ 7.81561053],\n",
       "       [ 8.24590926],\n",
       "       [ 7.38336815],\n",
       "       [ 9.23571568],\n",
       "       [ 9.42189705],\n",
       "       [ 8.91058572],\n",
       "       [12.41762528],\n",
       "       [ 7.93630269],\n",
       "       [ 9.70874923],\n",
       "       [ 9.76927021],\n",
       "       [ 9.18502256],\n",
       "       [ 7.0352686 ],\n",
       "       [ 8.37401542],\n",
       "       [ 9.44295889],\n",
       "       [ 7.77611548],\n",
       "       [ 9.33184979],\n",
       "       [ 9.71166097],\n",
       "       [ 7.9665867 ],\n",
       "       [ 8.29129585],\n",
       "       [ 9.88343789],\n",
       "       [ 8.02191278],\n",
       "       [ 8.01598781],\n",
       "       [ 8.15765702],\n",
       "       [ 7.81561053],\n",
       "       [ 9.88231499],\n",
       "       [ 9.88006538],\n",
       "       [12.28750055],\n",
       "       [ 7.48493028],\n",
       "       [10.33754012],\n",
       "       [ 8.46083446],\n",
       "       [ 8.55814318],\n",
       "       [ 9.50844296],\n",
       "       [ 6.2146081 ],\n",
       "       [ 8.43728381],\n",
       "       [ 8.78981239],\n",
       "       [ 9.58980368],\n",
       "       [10.94402925],\n",
       "       [10.22720016],\n",
       "       [ 9.68290322],\n",
       "       [ 8.49105453],\n",
       "       [ 8.07059354],\n",
       "       [10.21617926],\n",
       "       [ 7.92117272],\n",
       "       [11.32290233],\n",
       "       [ 9.83145435],\n",
       "       [ 9.21930011],\n",
       "       [ 7.1491316 ],\n",
       "       [10.09361192],\n",
       "       [ 7.70255611],\n",
       "       [ 9.18348292],\n",
       "       [ 7.22329568],\n",
       "       [ 9.28266103],\n",
       "       [ 9.41221943],\n",
       "       [ 8.22469956],\n",
       "       [ 8.91637191],\n",
       "       [10.6402927 ],\n",
       "       [ 8.9967758 ],\n",
       "       [ 8.63087896],\n",
       "       [ 8.97739898],\n",
       "       [11.63035288],\n",
       "       [ 8.39253659],\n",
       "       [ 9.59355987],\n",
       "       [10.40861698],\n",
       "       [ 8.38867777],\n",
       "       [ 6.91373735],\n",
       "       [11.40229553],\n",
       "       [ 9.16691081],\n",
       "       [ 9.06102797],\n",
       "       [ 9.18296918],\n",
       "       [11.27853136],\n",
       "       [10.25600888],\n",
       "       [ 9.65790666],\n",
       "       [ 7.81035268],\n",
       "       [ 9.3597082 ],\n",
       "       [ 9.14580185],\n",
       "       [ 8.38981426],\n",
       "       [ 9.56745522],\n",
       "       [ 7.8434564 ],\n",
       "       [10.15878847],\n",
       "       [ 7.58120983],\n",
       "       [ 7.84541604],\n",
       "       [ 8.51137631],\n",
       "       [ 6.93731408],\n",
       "       [12.13823803],\n",
       "       [ 7.96519829],\n",
       "       [ 9.519368  ],\n",
       "       [ 8.72826416],\n",
       "       [ 7.99395755],\n",
       "       [10.30951917],\n",
       "       [ 8.14960174],\n",
       "       [ 8.31213511],\n",
       "       [ 8.2281769 ],\n",
       "       [ 6.7214257 ],\n",
       "       [ 9.90742977],\n",
       "       [11.14461162],\n",
       "       [ 8.77477682],\n",
       "       [11.16728937],\n",
       "       [ 8.45659357],\n",
       "       [ 9.02593665],\n",
       "       [ 8.66457818],\n",
       "       [ 8.47907587],\n",
       "       [11.4199765 ],\n",
       "       [ 8.67573422],\n",
       "       [12.00834096],\n",
       "       [ 9.81104326],\n",
       "       [ 7.92117272],\n",
       "       [11.43059765],\n",
       "       [12.01220873],\n",
       "       [ 9.53769978],\n",
       "       [ 7.64300364],\n",
       "       [ 8.70217787],\n",
       "       [ 8.76592651],\n",
       "       [ 8.52516136],\n",
       "       [ 8.17611034],\n",
       "       [ 9.01188943],\n",
       "       [11.66044852],\n",
       "       [ 9.22876951],\n",
       "       [ 9.43500277],\n",
       "       [ 7.1808312 ],\n",
       "       [ 9.11140362],\n",
       "       [ 7.59287029],\n",
       "       [ 9.58994051],\n",
       "       [ 9.5438081 ],\n",
       "       [11.16253076],\n",
       "       [ 6.28226675],\n",
       "       [ 8.13035355],\n",
       "       [ 6.88448665],\n",
       "       [ 9.41881689],\n",
       "       [ 8.47282324],\n",
       "       [ 8.77570389],\n",
       "       [11.55768848],\n",
       "       [10.4241843 ],\n",
       "       [ 6.88653164],\n",
       "       [ 8.90068532],\n",
       "       [ 7.82364593],\n",
       "       [ 9.32758993],\n",
       "       [ 8.48198044],\n",
       "       [10.27625728],\n",
       "       [ 6.63463336],\n",
       "       [ 8.78446845],\n",
       "       [10.07407385],\n",
       "       [ 8.68473946],\n",
       "       [ 8.29704515],\n",
       "       [ 9.65104392],\n",
       "       [ 7.02108396],\n",
       "       [ 5.83773045],\n",
       "       [ 7.45007957],\n",
       "       [10.01614637],\n",
       "       [ 7.10414409],\n",
       "       [ 7.76937861],\n",
       "       [ 8.79588497],\n",
       "       [ 6.42324696],\n",
       "       [ 8.61920812],\n",
       "       [ 6.70686234],\n",
       "       [ 7.55433482],\n",
       "       [ 5.86078622],\n",
       "       [ 6.34913899],\n",
       "       [ 7.54115246],\n",
       "       [ 5.38907173],\n",
       "       [ 6.99393298],\n",
       "       [ 6.14203741],\n",
       "       [ 7.47363711],\n",
       "       [ 5.7170277 ],\n",
       "       [ 6.06145692],\n",
       "       [ 7.32251043],\n",
       "       [ 8.95931162],\n",
       "       [ 8.17863879],\n",
       "       [ 5.29330482],\n",
       "       [ 5.98645201],\n",
       "       [ 5.50533154],\n",
       "       [ 7.99530662],\n",
       "       [ 5.54126355],\n",
       "       [ 6.12468339],\n",
       "       [ 8.8616336 ],\n",
       "       [10.18817765],\n",
       "       [ 9.00552778],\n",
       "       [ 9.2051268 ],\n",
       "       [ 8.57678198],\n",
       "       [ 8.43836641],\n",
       "       [ 6.66440902],\n",
       "       [ 9.620594  ],\n",
       "       [ 6.54965074],\n",
       "       [ 7.00669523],\n",
       "       [ 8.22067217],\n",
       "       [ 8.63550942],\n",
       "       [10.0869751 ],\n",
       "       [ 7.01929665],\n",
       "       [ 6.98749025],\n",
       "       [ 6.73696696],\n",
       "       [ 8.21039626],\n",
       "       [10.41039551],\n",
       "       [ 5.55682806],\n",
       "       [ 7.03350648],\n",
       "       [ 5.87773578],\n",
       "       [ 8.29329936],\n",
       "       [ 4.46590812],\n",
       "       [ 7.84893373],\n",
       "       [ 7.00940893],\n",
       "       [ 9.27584717],\n",
       "       [ 7.6912001 ],\n",
       "       [ 8.09468365],\n",
       "       [ 6.66057515],\n",
       "       [ 9.82552601],\n",
       "       [ 7.63867982],\n",
       "       [ 8.63799389],\n",
       "       [ 7.92443418],\n",
       "       [ 8.60282028],\n",
       "       [10.24597736],\n",
       "       [ 6.02827852],\n",
       "       [ 6.69703425],\n",
       "       [14.93604023],\n",
       "       [15.37100366],\n",
       "       [14.99225666],\n",
       "       [14.50340698],\n",
       "       [14.17100781],\n",
       "       [14.55882457],\n",
       "       [13.21139571],\n",
       "       [13.29208252],\n",
       "       [12.51275923],\n",
       "       [12.52923889],\n",
       "       [14.33711587],\n",
       "       [13.30790807],\n",
       "       [14.43697375],\n",
       "       [14.77033446],\n",
       "       [14.7436089 ],\n",
       "       [13.5238874 ],\n",
       "       [12.09461022],\n",
       "       [13.09151647],\n",
       "       [12.9791556 ],\n",
       "       [13.3934861 ],\n",
       "       [13.59178809],\n",
       "       [12.99863747],\n",
       "       [12.9757178 ],\n",
       "       [14.21647489],\n",
       "       [13.25062818],\n",
       "       [14.35281822],\n",
       "       [13.95577151],\n",
       "       [14.14141573],\n",
       "       [13.48134745],\n",
       "       [13.16983267],\n",
       "       [13.34017594],\n",
       "       [12.58736117],\n",
       "       [13.40152122],\n",
       "       [13.24289463],\n",
       "       [13.06038584],\n",
       "       [13.06681684],\n",
       "       [11.58556236],\n",
       "       [13.88364199],\n",
       "       [15.08590321],\n",
       "       [14.47281448],\n",
       "       [12.528895  ],\n",
       "       [ 9.64943366],\n",
       "       [14.02774199],\n",
       "       [11.39662758],\n",
       "       [12.42849594],\n",
       "       [13.33127331],\n",
       "       [12.6323562 ],\n",
       "       [13.14565208],\n",
       "       [12.65291959],\n",
       "       [11.68543235],\n",
       "       [14.33389177],\n",
       "       [12.00261529],\n",
       "       [15.25563261],\n",
       "       [13.64709427],\n",
       "       [14.12306878],\n",
       "       [ 8.86404   ],\n",
       "       [13.34073235],\n",
       "       [11.99268139],\n",
       "       [12.75825804],\n",
       "       [12.48454494],\n",
       "       [10.34823747],\n",
       "       [12.64192469],\n",
       "       [14.47847066],\n",
       "       [12.65075526],\n",
       "       [11.26181959],\n",
       "       [13.40911402],\n",
       "       [12.45002616],\n",
       "       [12.71476199],\n",
       "       [12.06075203],\n",
       "       [12.14653493],\n",
       "       [12.83111495],\n",
       "       [12.39765948],\n",
       "       [10.66725628],\n",
       "       [14.90587661],\n",
       "       [13.60739477],\n",
       "       [15.52540249],\n",
       "       [13.81700145],\n",
       "       [13.85555209],\n",
       "       [13.63232303],\n",
       "       [13.13578096],\n",
       "       [10.72526978],\n",
       "       [12.35885382],\n",
       "       [12.78033775],\n",
       "       [12.32199618],\n",
       "       [10.08905384],\n",
       "       [14.13315378],\n",
       "       [14.1296437 ],\n",
       "       [15.04206771],\n",
       "       [12.71795571],\n",
       "       [14.56426367],\n",
       "       [10.08468348],\n",
       "       [12.71969835],\n",
       "       [10.81809687],\n",
       "       [11.23867281],\n",
       "       [10.83854116],\n",
       "       [10.92478674],\n",
       "       [13.18262652],\n",
       "       [14.30591774],\n",
       "       [14.61706361],\n",
       "       [14.49404042],\n",
       "       [13.61133227],\n",
       "       [14.03343813],\n",
       "       [13.39115769],\n",
       "       [13.33958221],\n",
       "       [ 8.83025057],\n",
       "       [13.02835815],\n",
       "       [13.285531  ],\n",
       "       [13.24222425],\n",
       "       [15.11281112],\n",
       "       [14.45263539],\n",
       "       [14.9609495 ],\n",
       "       [13.11760206],\n",
       "       [11.04844257],\n",
       "       [14.02874518],\n",
       "       [10.57997167],\n",
       "       [14.16706562],\n",
       "       [13.96029638],\n",
       "       [11.5180125 ],\n",
       "       [12.43894868],\n",
       "       [12.64829068],\n",
       "       [10.63758472],\n",
       "       [14.42644555],\n",
       "       [11.96697119],\n",
       "       [15.46168649],\n",
       "       [11.49330422],\n",
       "       [13.23460576],\n",
       "       [12.55397926],\n",
       "       [13.24174513],\n",
       "       [12.34000896],\n",
       "       [12.76640817],\n",
       "       [12.92286555],\n",
       "       [14.38750992],\n",
       "       [10.624031  ],\n",
       "       [13.81097228],\n",
       "       [11.56550843],\n",
       "       [12.31213392],\n",
       "       [14.73963215],\n",
       "       [12.85065176],\n",
       "       [ 9.94174626],\n",
       "       [11.7645865 ],\n",
       "       [14.629345  ],\n",
       "       [13.27547066],\n",
       "       [14.60854832],\n",
       "       [10.00829792],\n",
       "       [12.47705353],\n",
       "       [11.09324986],\n",
       "       [12.62056687],\n",
       "       [13.31471777],\n",
       "       [14.08887715],\n",
       "       [14.50725075],\n",
       "       [12.93857995],\n",
       "       [14.08675527],\n",
       "       [11.44224546],\n",
       "       [12.30611253],\n",
       "       [13.04015065],\n",
       "       [11.19466047],\n",
       "       [13.45337358],\n",
       "       [12.06200018],\n",
       "       [12.06838405],\n",
       "       [11.21753375],\n",
       "       [11.39335333],\n",
       "       [11.09766756],\n",
       "       [14.91890904],\n",
       "       [14.01583819],\n",
       "       [15.14840915],\n",
       "       [14.80316298],\n",
       "       [13.62755194],\n",
       "       [13.35256198],\n",
       "       [12.32069959],\n",
       "       [13.39772587],\n",
       "       [12.55844635],\n",
       "       [11.5053972 ],\n",
       "       [13.84842005],\n",
       "       [14.08902322],\n",
       "       [15.08848643],\n",
       "       [13.72395652],\n",
       "       [14.82500562],\n",
       "       [11.82353762],\n",
       "       [11.95825851],\n",
       "       [14.47351024],\n",
       "       [14.25666065],\n",
       "       [12.75618052],\n",
       "       [10.41765758],\n",
       "       [11.18758306],\n",
       "       [10.81374009],\n",
       "       [12.15352066],\n",
       "       [12.65243655],\n",
       "       [13.11586229],\n",
       "       [12.64750961],\n",
       "       [11.49888739],\n",
       "       [10.84161805],\n",
       "       [12.53091321],\n",
       "       [10.42031513],\n",
       "       [11.76647406],\n",
       "       [11.43041304],\n",
       "       [12.26378479],\n",
       "       [11.63315883],\n",
       "       [11.88672101],\n",
       "       [11.57582514],\n",
       "       [12.36241378],\n",
       "       [11.95392501],\n",
       "       [11.48801783],\n",
       "       [11.02583264],\n",
       "       [11.2476961 ],\n",
       "       [11.13632474],\n",
       "       [ 9.77332192],\n",
       "       [11.83413177],\n",
       "       [11.12298916],\n",
       "       [12.76047487],\n",
       "       [11.89304541],\n",
       "       [12.14012513],\n",
       "       [11.18659958],\n",
       "       [11.42059085],\n",
       "       [11.36550376],\n",
       "       [11.52692698],\n",
       "       [11.80742177],\n",
       "       [11.74125554],\n",
       "       [10.82786549],\n",
       "       [11.70988109],\n",
       "       [12.49540086],\n",
       "       [12.80912826],\n",
       "       [12.14822105],\n",
       "       [11.59382319],\n",
       "       [11.83880609],\n",
       "       [11.92409428],\n",
       "       [13.16983076],\n",
       "       [11.55690407],\n",
       "       [13.02258503],\n",
       "       [13.00114219],\n",
       "       [13.29938927],\n",
       "       [12.0663047 ],\n",
       "       [13.56828817],\n",
       "       [11.79149615],\n",
       "       [13.34252168],\n",
       "       [11.50307713],\n",
       "       [13.40877014],\n",
       "       [13.45773787],\n",
       "       [11.19796811],\n",
       "       [13.79109901],\n",
       "       [12.41148798],\n",
       "       [13.09266471],\n",
       "       [13.67205003],\n",
       "       [13.12776874],\n",
       "       [13.07145738],\n",
       "       [12.78661368],\n",
       "       [11.51102366],\n",
       "       [11.30920457],\n",
       "       [12.99723543],\n",
       "       [11.41277358],\n",
       "       [13.63428001],\n",
       "       [13.45398386],\n",
       "       [12.70482468],\n",
       "       [13.92410574],\n",
       "       [12.49618676],\n",
       "       [12.33985588],\n",
       "       [13.53888711],\n",
       "       [13.68487212],\n",
       "       [14.12107135],\n",
       "       [12.54340166],\n",
       "       [12.94782426],\n",
       "       [12.9066298 ],\n",
       "       [13.9444621 ],\n",
       "       [12.43015176],\n",
       "       [13.71558745],\n",
       "       [13.28663976],\n",
       "       [12.03596025],\n",
       "       [11.18417137],\n",
       "       [13.23330708],\n",
       "       [13.92723081],\n",
       "       [11.58151826],\n",
       "       [13.68513874],\n",
       "       [12.26673491],\n",
       "       [13.93752729],\n",
       "       [13.36538642],\n",
       "       [11.9285455 ],\n",
       "       [13.58010843],\n",
       "       [13.14834492]])"
      ]
     },
     "execution_count": 44,
     "metadata": {},
     "output_type": "execute_result"
    }
   ],
   "source": [
    "dat"
   ]
  },
  {
   "cell_type": "code",
   "execution_count": 45,
   "id": "439a6722",
   "metadata": {
    "ExecuteTime": {
     "end_time": "2023-04-01T17:22:34.599122Z",
     "start_time": "2023-04-01T17:22:34.583128Z"
    }
   },
   "outputs": [
    {
     "data": {
      "text/html": [
       "<style>#sk-container-id-1 {color: black;background-color: white;}#sk-container-id-1 pre{padding: 0;}#sk-container-id-1 div.sk-toggleable {background-color: white;}#sk-container-id-1 label.sk-toggleable__label {cursor: pointer;display: block;width: 100%;margin-bottom: 0;padding: 0.3em;box-sizing: border-box;text-align: center;}#sk-container-id-1 label.sk-toggleable__label-arrow:before {content: \"▸\";float: left;margin-right: 0.25em;color: #696969;}#sk-container-id-1 label.sk-toggleable__label-arrow:hover:before {color: black;}#sk-container-id-1 div.sk-estimator:hover label.sk-toggleable__label-arrow:before {color: black;}#sk-container-id-1 div.sk-toggleable__content {max-height: 0;max-width: 0;overflow: hidden;text-align: left;background-color: #f0f8ff;}#sk-container-id-1 div.sk-toggleable__content pre {margin: 0.2em;color: black;border-radius: 0.25em;background-color: #f0f8ff;}#sk-container-id-1 input.sk-toggleable__control:checked~div.sk-toggleable__content {max-height: 200px;max-width: 100%;overflow: auto;}#sk-container-id-1 input.sk-toggleable__control:checked~label.sk-toggleable__label-arrow:before {content: \"▾\";}#sk-container-id-1 div.sk-estimator input.sk-toggleable__control:checked~label.sk-toggleable__label {background-color: #d4ebff;}#sk-container-id-1 div.sk-label input.sk-toggleable__control:checked~label.sk-toggleable__label {background-color: #d4ebff;}#sk-container-id-1 input.sk-hidden--visually {border: 0;clip: rect(1px 1px 1px 1px);clip: rect(1px, 1px, 1px, 1px);height: 1px;margin: -1px;overflow: hidden;padding: 0;position: absolute;width: 1px;}#sk-container-id-1 div.sk-estimator {font-family: monospace;background-color: #f0f8ff;border: 1px dotted black;border-radius: 0.25em;box-sizing: border-box;margin-bottom: 0.5em;}#sk-container-id-1 div.sk-estimator:hover {background-color: #d4ebff;}#sk-container-id-1 div.sk-parallel-item::after {content: \"\";width: 100%;border-bottom: 1px solid gray;flex-grow: 1;}#sk-container-id-1 div.sk-label:hover label.sk-toggleable__label {background-color: #d4ebff;}#sk-container-id-1 div.sk-serial::before {content: \"\";position: absolute;border-left: 1px solid gray;box-sizing: border-box;top: 0;bottom: 0;left: 50%;z-index: 0;}#sk-container-id-1 div.sk-serial {display: flex;flex-direction: column;align-items: center;background-color: white;padding-right: 0.2em;padding-left: 0.2em;position: relative;}#sk-container-id-1 div.sk-item {position: relative;z-index: 1;}#sk-container-id-1 div.sk-parallel {display: flex;align-items: stretch;justify-content: center;background-color: white;position: relative;}#sk-container-id-1 div.sk-item::before, #sk-container-id-1 div.sk-parallel-item::before {content: \"\";position: absolute;border-left: 1px solid gray;box-sizing: border-box;top: 0;bottom: 0;left: 50%;z-index: -1;}#sk-container-id-1 div.sk-parallel-item {display: flex;flex-direction: column;z-index: 1;position: relative;background-color: white;}#sk-container-id-1 div.sk-parallel-item:first-child::after {align-self: flex-end;width: 50%;}#sk-container-id-1 div.sk-parallel-item:last-child::after {align-self: flex-start;width: 50%;}#sk-container-id-1 div.sk-parallel-item:only-child::after {width: 0;}#sk-container-id-1 div.sk-dashed-wrapped {border: 1px dashed gray;margin: 0 0.4em 0.5em 0.4em;box-sizing: border-box;padding-bottom: 0.4em;background-color: white;}#sk-container-id-1 div.sk-label label {font-family: monospace;font-weight: bold;display: inline-block;line-height: 1.2em;}#sk-container-id-1 div.sk-label-container {text-align: center;}#sk-container-id-1 div.sk-container {/* jupyter's `normalize.less` sets `[hidden] { display: none; }` but bootstrap.min.css set `[hidden] { display: none !important; }` so we also need the `!important` here to be able to override the default hidden behavior on the sphinx rendered scikit-learn.org. See: https://github.com/scikit-learn/scikit-learn/issues/21755 */display: inline-block !important;position: relative;}#sk-container-id-1 div.sk-text-repr-fallback {display: none;}</style><div id=\"sk-container-id-1\" class=\"sk-top-container\"><div class=\"sk-text-repr-fallback\"><pre>GaussianMixture(n_components=2)</pre><b>In a Jupyter environment, please rerun this cell to show the HTML representation or trust the notebook. <br />On GitHub, the HTML representation is unable to render, please try loading this page with nbviewer.org.</b></div><div class=\"sk-container\" hidden><div class=\"sk-item\"><div class=\"sk-estimator sk-toggleable\"><input class=\"sk-toggleable__control sk-hidden--visually\" id=\"sk-estimator-id-1\" type=\"checkbox\" checked><label for=\"sk-estimator-id-1\" class=\"sk-toggleable__label sk-toggleable__label-arrow\">GaussianMixture</label><div class=\"sk-toggleable__content\"><pre>GaussianMixture(n_components=2)</pre></div></div></div></div></div>"
      ],
      "text/plain": [
       "GaussianMixture(n_components=2)"
      ]
     },
     "execution_count": 45,
     "metadata": {},
     "output_type": "execute_result"
    }
   ],
   "source": [
    "mix"
   ]
  },
  {
   "cell_type": "code",
   "execution_count": 46,
   "id": "3c05de8b",
   "metadata": {
    "ExecuteTime": {
     "end_time": "2023-04-01T17:23:52.740025Z",
     "start_time": "2023-04-01T17:23:52.159361Z"
    }
   },
   "outputs": [
    {
     "name": "stderr",
     "output_type": "stream",
     "text": [
      "C:\\Users\\1\\AppData\\Local\\Programs\\Python\\Python310\\lib\\site-packages\\seaborn\\distributions.py:2619: FutureWarning: `distplot` is a deprecated function and will be removed in a future version. Please adapt your code to use either `displot` (a figure-level function with similar flexibility) or `histplot` (an axes-level function for histograms).\n",
      "  warnings.warn(msg, FutureWarning)\n"
     ]
    },
    {
     "data": {
      "text/plain": [
       "<AxesSubplot:>"
      ]
     },
     "execution_count": 46,
     "metadata": {},
     "output_type": "execute_result"
    },
    {
     "data": {
      "image/png": "[encoded data removed]",
      "text/plain": [
       "<Figure size 1440x504 with 1 Axes>"
      ]
     },
     "metadata": {},
     "output_type": "display_data"
    }
   ],
   "source": [
    "# визуализация\n",
    "sns.distplot(dat[labels == 0], kde=False, bins=50)\n",
    "sns.distplot(dat[labels == 1], kde=False, bins=50)"
   ]
  },
  {
   "cell_type": "markdown",
   "id": "18a74b40",
   "metadata": {},
   "source": [
    "Создадим колонку с CTR"
   ]
  },
  {
   "cell_type": "code",
   "execution_count": 13,
   "id": "5b192760",
   "metadata": {
    "ExecuteTime": {
     "end_time": "2023-04-01T17:06:21.777624Z",
     "start_time": "2023-04-01T17:06:21.757023Z"
    }
   },
   "outputs": [],
   "source": [
    "df['CTR'] = df['Clicks'] / df['Impressions']"
   ]
  },
  {
   "cell_type": "code",
   "execution_count": 14,
   "id": "17cd74ee",
   "metadata": {
    "ExecuteTime": {
     "end_time": "2023-04-01T17:06:21.841638Z",
     "start_time": "2023-04-01T17:06:21.777624Z"
    }
   },
   "outputs": [
    {
     "data": {
      "text/html": [
       "<div>\n",
       "<style scoped>\n",
       "    .dataframe tbody tr th:only-of-type {\n",
       "        vertical-align: middle;\n",
       "    }\n",
       "\n",
       "    .dataframe tbody tr th {\n",
       "        vertical-align: top;\n",
       "    }\n",
       "\n",
       "    .dataframe thead th {\n",
       "        text-align: right;\n",
       "    }\n",
       "</style>\n",
       "<table border=\"1\" class=\"dataframe\">\n",
       "  <thead>\n",
       "    <tr style=\"text-align: right;\">\n",
       "      <th></th>\n",
       "      <th>ad_id</th>\n",
       "      <th>xyz_campaign_id</th>\n",
       "      <th>fb_campaign_id</th>\n",
       "      <th>interest</th>\n",
       "      <th>Impressions</th>\n",
       "      <th>Clicks</th>\n",
       "      <th>Spent</th>\n",
       "      <th>Total_Conversion</th>\n",
       "      <th>Approved_Conversion</th>\n",
       "      <th>CTR</th>\n",
       "    </tr>\n",
       "  </thead>\n",
       "  <tbody>\n",
       "    <tr>\n",
       "      <th>count</th>\n",
       "      <td>1.143000e+03</td>\n",
       "      <td>1143.000000</td>\n",
       "      <td>1143.000000</td>\n",
       "      <td>1143.000000</td>\n",
       "      <td>1.143000e+03</td>\n",
       "      <td>1143.000000</td>\n",
       "      <td>1143.000000</td>\n",
       "      <td>1143.000000</td>\n",
       "      <td>1143.000000</td>\n",
       "      <td>1143.000000</td>\n",
       "    </tr>\n",
       "    <tr>\n",
       "      <th>mean</th>\n",
       "      <td>9.872611e+05</td>\n",
       "      <td>1067.382327</td>\n",
       "      <td>133783.989501</td>\n",
       "      <td>32.766404</td>\n",
       "      <td>1.867321e+05</td>\n",
       "      <td>33.390201</td>\n",
       "      <td>51.360656</td>\n",
       "      <td>2.855643</td>\n",
       "      <td>0.944007</td>\n",
       "      <td>0.000164</td>\n",
       "    </tr>\n",
       "    <tr>\n",
       "      <th>std</th>\n",
       "      <td>1.939928e+05</td>\n",
       "      <td>121.629393</td>\n",
       "      <td>20500.308622</td>\n",
       "      <td>26.952131</td>\n",
       "      <td>3.127622e+05</td>\n",
       "      <td>56.892438</td>\n",
       "      <td>86.908418</td>\n",
       "      <td>4.483593</td>\n",
       "      <td>1.737708</td>\n",
       "      <td>0.000115</td>\n",
       "    </tr>\n",
       "    <tr>\n",
       "      <th>min</th>\n",
       "      <td>7.087460e+05</td>\n",
       "      <td>916.000000</td>\n",
       "      <td>103916.000000</td>\n",
       "      <td>2.000000</td>\n",
       "      <td>8.700000e+01</td>\n",
       "      <td>0.000000</td>\n",
       "      <td>0.000000</td>\n",
       "      <td>0.000000</td>\n",
       "      <td>0.000000</td>\n",
       "      <td>0.000000</td>\n",
       "    </tr>\n",
       "    <tr>\n",
       "      <th>25%</th>\n",
       "      <td>7.776325e+05</td>\n",
       "      <td>936.000000</td>\n",
       "      <td>115716.000000</td>\n",
       "      <td>16.000000</td>\n",
       "      <td>6.503500e+03</td>\n",
       "      <td>1.000000</td>\n",
       "      <td>1.480000</td>\n",
       "      <td>1.000000</td>\n",
       "      <td>0.000000</td>\n",
       "      <td>0.000100</td>\n",
       "    </tr>\n",
       "    <tr>\n",
       "      <th>50%</th>\n",
       "      <td>1.121185e+06</td>\n",
       "      <td>1178.000000</td>\n",
       "      <td>144549.000000</td>\n",
       "      <td>25.000000</td>\n",
       "      <td>5.150900e+04</td>\n",
       "      <td>8.000000</td>\n",
       "      <td>12.370000</td>\n",
       "      <td>1.000000</td>\n",
       "      <td>1.000000</td>\n",
       "      <td>0.000160</td>\n",
       "    </tr>\n",
       "    <tr>\n",
       "      <th>75%</th>\n",
       "      <td>1.121804e+06</td>\n",
       "      <td>1178.000000</td>\n",
       "      <td>144657.500000</td>\n",
       "      <td>31.000000</td>\n",
       "      <td>2.217690e+05</td>\n",
       "      <td>37.500000</td>\n",
       "      <td>60.025000</td>\n",
       "      <td>3.000000</td>\n",
       "      <td>1.000000</td>\n",
       "      <td>0.000234</td>\n",
       "    </tr>\n",
       "    <tr>\n",
       "      <th>max</th>\n",
       "      <td>1.314415e+06</td>\n",
       "      <td>1178.000000</td>\n",
       "      <td>179982.000000</td>\n",
       "      <td>114.000000</td>\n",
       "      <td>3.052003e+06</td>\n",
       "      <td>421.000000</td>\n",
       "      <td>639.949998</td>\n",
       "      <td>60.000000</td>\n",
       "      <td>21.000000</td>\n",
       "      <td>0.001059</td>\n",
       "    </tr>\n",
       "  </tbody>\n",
       "</table>\n",
       "</div>"
      ],
      "text/plain": [
       "              ad_id  xyz_campaign_id  fb_campaign_id     interest  \\\n",
       "count  1.143000e+03      1143.000000     1143.000000  1143.000000   \n",
       "mean   9.872611e+05      1067.382327   133783.989501    32.766404   \n",
       "std    1.939928e+05       121.629393    20500.308622    26.952131   \n",
       "min    7.087460e+05       916.000000   103916.000000     2.000000   \n",
       "25%    7.776325e+05       936.000000   115716.000000    16.000000   \n",
       "50%    1.121185e+06      1178.000000   144549.000000    25.000000   \n",
       "75%    1.121804e+06      1178.000000   144657.500000    31.000000   \n",
       "max    1.314415e+06      1178.000000   179982.000000   114.000000   \n",
       "\n",
       "        Impressions       Clicks        Spent  Total_Conversion  \\\n",
       "count  1.143000e+03  1143.000000  1143.000000       1143.000000   \n",
       "mean   1.867321e+05    33.390201    51.360656          2.855643   \n",
       "std    3.127622e+05    56.892438    86.908418          4.483593   \n",
       "min    8.700000e+01     0.000000     0.000000          0.000000   \n",
       "25%    6.503500e+03     1.000000     1.480000          1.000000   \n",
       "50%    5.150900e+04     8.000000    12.370000          1.000000   \n",
       "75%    2.217690e+05    37.500000    60.025000          3.000000   \n",
       "max    3.052003e+06   421.000000   639.949998         60.000000   \n",
       "\n",
       "       Approved_Conversion          CTR  \n",
       "count          1143.000000  1143.000000  \n",
       "mean              0.944007     0.000164  \n",
       "std               1.737708     0.000115  \n",
       "min               0.000000     0.000000  \n",
       "25%               0.000000     0.000100  \n",
       "50%               1.000000     0.000160  \n",
       "75%               1.000000     0.000234  \n",
       "max              21.000000     0.001059  "
      ]
     },
     "execution_count": 14,
     "metadata": {},
     "output_type": "execute_result"
    }
   ],
   "source": [
    "df.describe()"
   ]
  },
  {
   "cell_type": "code",
   "execution_count": 15,
   "id": "c8fc9e63",
   "metadata": {
    "ExecuteTime": {
     "end_time": "2023-04-01T17:06:21.857624Z",
     "start_time": "2023-04-01T17:06:21.841638Z"
    }
   },
   "outputs": [
    {
     "data": {
      "text/plain": [
       "ad_id                    738637\n",
       "xyz_campaign_id             936\n",
       "fb_campaign_id           109857\n",
       "age                       45-49\n",
       "gender                        F\n",
       "interest                     24\n",
       "Impressions                 944\n",
       "Clicks                        1\n",
       "Spent                      1.42\n",
       "Total_Conversion              1\n",
       "Approved_Conversion           0\n",
       "CTR                    0.001059\n",
       "Name: 150, dtype: object"
      ]
     },
     "execution_count": 15,
     "metadata": {},
     "output_type": "execute_result"
    }
   ],
   "source": [
    "# найдем ad_id объявления с наибольшим CTR\n",
    "df.loc[df.CTR.idxmax()]"
   ]
  },
  {
   "cell_type": "code",
   "execution_count": 16,
   "id": "6c0b3a12",
   "metadata": {
    "ExecuteTime": {
     "end_time": "2023-04-01T17:06:22.657389Z",
     "start_time": "2023-04-01T17:06:21.857624Z"
    }
   },
   "outputs": [
    {
     "data": {
      "text/plain": [
       "<AxesSubplot:xlabel='CTR', ylabel='Count'>"
      ]
     },
     "execution_count": 16,
     "metadata": {},
     "output_type": "execute_result"
    },
    {
     "data": {
      "image/png": "[encoded data removed]",
      "text/plain": [
       "<Figure size 1440x504 with 1 Axes>"
      ]
     },
     "metadata": {},
     "output_type": "display_data"
    }
   ],
   "source": [
    "# посмотрим на распределение CTR по рекламным кампаниям\n",
    "sns.histplot(data=df, x='CTR', hue='xyz_campaign_id', palette='dark')"
   ]
  },
  {
   "cell_type": "markdown",
   "id": "b3c48a8d",
   "metadata": {},
   "source": [
    "Расчитаем метрику CPC (cost-per-click) – стоимость за клик пользователя по объявлению. Рассчитывается путём деления суммы потраченных денег на общее число кликов"
   ]
  },
  {
   "cell_type": "code",
   "execution_count": 17,
   "id": "97b6e294",
   "metadata": {
    "ExecuteTime": {
     "end_time": "2023-04-01T17:06:22.673438Z",
     "start_time": "2023-04-01T17:06:22.657389Z"
    }
   },
   "outputs": [],
   "source": [
    "df['CPC'] = df['Spent'] / df['Clicks']"
   ]
  },
  {
   "cell_type": "code",
   "execution_count": 47,
   "id": "7f617efd",
   "metadata": {
    "ExecuteTime": {
     "end_time": "2023-04-01T17:38:29.682175Z",
     "start_time": "2023-04-01T17:38:29.654625Z"
    }
   },
   "outputs": [
    {
     "data": {
      "text/plain": [
       "count    936.000000\n",
       "mean       1.499347\n",
       "std        0.232879\n",
       "min        0.180000\n",
       "25%        1.390000\n",
       "50%        1.498273\n",
       "75%        1.644364\n",
       "max        2.212000\n",
       "Name: CPC, dtype: float64"
      ]
     },
     "execution_count": 47,
     "metadata": {},
     "output_type": "execute_result"
    }
   ],
   "source": [
    "df.CPC.describe()"
   ]
  },
  {
   "cell_type": "code",
   "execution_count": 19,
   "id": "48a61945",
   "metadata": {
    "ExecuteTime": {
     "end_time": "2023-04-01T17:06:23.257473Z",
     "start_time": "2023-04-01T17:06:22.753475Z"
    }
   },
   "outputs": [
    {
     "data": {
      "text/plain": [
       "<AxesSubplot:xlabel='CPC', ylabel='Count'>"
      ]
     },
     "execution_count": 19,
     "metadata": {},
     "output_type": "execute_result"
    },
    {
     "data": {
      "image/png": "[encoded data removed]",
      "text/plain": [
       "<Figure size 1440x504 with 1 Axes>"
      ]
     },
     "metadata": {},
     "output_type": "display_data"
    }
   ],
   "source": [
    "sns.histplot(data=df.dropna(), x='CPC')"
   ]
  },
  {
   "cell_type": "code",
   "execution_count": 20,
   "id": "48c85298",
   "metadata": {
    "ExecuteTime": {
     "end_time": "2023-04-01T17:06:23.603089Z",
     "start_time": "2023-04-01T17:06:23.257473Z"
    }
   },
   "outputs": [
    {
     "data": {
      "text/plain": [
       "<AxesSubplot:xlabel='CPC'>"
      ]
     },
     "execution_count": 20,
     "metadata": {},
     "output_type": "execute_result"
    },
    {
     "data": {
      "image/png": "[encoded data removed]",
      "text/plain": [
       "<Figure size 1440x504 with 1 Axes>"
      ]
     },
     "metadata": {},
     "output_type": "display_data"
    }
   ],
   "source": [
    "sns.boxplot(data=df.dropna(), x='CPC')"
   ]
  },
  {
   "cell_type": "code",
   "execution_count": 21,
   "id": "860e8396",
   "metadata": {
    "ExecuteTime": {
     "end_time": "2023-04-01T17:06:23.628805Z",
     "start_time": "2023-04-01T17:06:23.603089Z"
    }
   },
   "outputs": [
    {
     "data": {
      "text/plain": [
       "0.2543636990499998"
      ]
     },
     "execution_count": 21,
     "metadata": {},
     "output_type": "execute_result"
    }
   ],
   "source": [
    "# межквартильный размах\n",
    "scipy.stats.iqr(df.CPC, nan_policy='omit')"
   ]
  },
  {
   "cell_type": "code",
   "execution_count": 22,
   "id": "119b8a85",
   "metadata": {
    "ExecuteTime": {
     "end_time": "2023-04-01T17:06:24.374069Z",
     "start_time": "2023-04-01T17:06:23.628805Z"
    }
   },
   "outputs": [
    {
     "data": {
      "text/plain": [
       "<AxesSubplot:xlabel='CPC', ylabel='Count'>"
      ]
     },
     "execution_count": 22,
     "metadata": {},
     "output_type": "execute_result"
    },
    {
     "data": {
      "image/png": "[encoded data removed]",
      "text/plain": [
       "<Figure size 1440x504 with 1 Axes>"
      ]
     },
     "metadata": {},
     "output_type": "display_data"
    }
   ],
   "source": [
    "# разбивка по полу\n",
    "sns.histplot(data=df.dropna(), x='CPC', hue='gender')"
   ]
  },
  {
   "cell_type": "code",
   "execution_count": 23,
   "id": "dcca2ff6",
   "metadata": {
    "ExecuteTime": {
     "end_time": "2023-04-01T17:06:24.398123Z",
     "start_time": "2023-04-01T17:06:24.374069Z"
    }
   },
   "outputs": [],
   "source": [
    "# конверсия из кликов в покупку\n",
    "df['conversion_rate'] = df['Approved_Conversion'] * 100 / df['Clicks']"
   ]
  },
  {
   "cell_type": "code",
   "execution_count": 24,
   "id": "10852216",
   "metadata": {
    "ExecuteTime": {
     "end_time": "2023-04-01T17:06:24.462102Z",
     "start_time": "2023-04-01T17:06:24.398123Z"
    }
   },
   "outputs": [
    {
     "data": {
      "text/html": [
       "<div>\n",
       "<style scoped>\n",
       "    .dataframe tbody tr th:only-of-type {\n",
       "        vertical-align: middle;\n",
       "    }\n",
       "\n",
       "    .dataframe tbody tr th {\n",
       "        vertical-align: top;\n",
       "    }\n",
       "\n",
       "    .dataframe thead th {\n",
       "        text-align: right;\n",
       "    }\n",
       "</style>\n",
       "<table border=\"1\" class=\"dataframe\">\n",
       "  <thead>\n",
       "    <tr style=\"text-align: right;\">\n",
       "      <th></th>\n",
       "      <th>ad_id</th>\n",
       "      <th>xyz_campaign_id</th>\n",
       "      <th>fb_campaign_id</th>\n",
       "      <th>age</th>\n",
       "      <th>gender</th>\n",
       "      <th>interest</th>\n",
       "      <th>Impressions</th>\n",
       "      <th>Clicks</th>\n",
       "      <th>Spent</th>\n",
       "      <th>Total_Conversion</th>\n",
       "      <th>Approved_Conversion</th>\n",
       "      <th>CTR</th>\n",
       "      <th>CPC</th>\n",
       "      <th>conversion_rate</th>\n",
       "    </tr>\n",
       "  </thead>\n",
       "  <tbody>\n",
       "    <tr>\n",
       "      <th>0</th>\n",
       "      <td>708746</td>\n",
       "      <td>916</td>\n",
       "      <td>103916</td>\n",
       "      <td>30-34</td>\n",
       "      <td>M</td>\n",
       "      <td>15</td>\n",
       "      <td>7350</td>\n",
       "      <td>1</td>\n",
       "      <td>1.430000</td>\n",
       "      <td>2</td>\n",
       "      <td>1</td>\n",
       "      <td>0.000136</td>\n",
       "      <td>1.430000</td>\n",
       "      <td>100.000000</td>\n",
       "    </tr>\n",
       "    <tr>\n",
       "      <th>1</th>\n",
       "      <td>708749</td>\n",
       "      <td>916</td>\n",
       "      <td>103917</td>\n",
       "      <td>30-34</td>\n",
       "      <td>M</td>\n",
       "      <td>16</td>\n",
       "      <td>17861</td>\n",
       "      <td>2</td>\n",
       "      <td>1.820000</td>\n",
       "      <td>2</td>\n",
       "      <td>0</td>\n",
       "      <td>0.000112</td>\n",
       "      <td>0.910000</td>\n",
       "      <td>0.000000</td>\n",
       "    </tr>\n",
       "    <tr>\n",
       "      <th>2</th>\n",
       "      <td>708771</td>\n",
       "      <td>916</td>\n",
       "      <td>103920</td>\n",
       "      <td>30-34</td>\n",
       "      <td>M</td>\n",
       "      <td>20</td>\n",
       "      <td>693</td>\n",
       "      <td>0</td>\n",
       "      <td>0.000000</td>\n",
       "      <td>1</td>\n",
       "      <td>0</td>\n",
       "      <td>0.000000</td>\n",
       "      <td>NaN</td>\n",
       "      <td>NaN</td>\n",
       "    </tr>\n",
       "    <tr>\n",
       "      <th>3</th>\n",
       "      <td>708815</td>\n",
       "      <td>916</td>\n",
       "      <td>103928</td>\n",
       "      <td>30-34</td>\n",
       "      <td>M</td>\n",
       "      <td>28</td>\n",
       "      <td>4259</td>\n",
       "      <td>1</td>\n",
       "      <td>1.250000</td>\n",
       "      <td>1</td>\n",
       "      <td>0</td>\n",
       "      <td>0.000235</td>\n",
       "      <td>1.250000</td>\n",
       "      <td>0.000000</td>\n",
       "    </tr>\n",
       "    <tr>\n",
       "      <th>4</th>\n",
       "      <td>708818</td>\n",
       "      <td>916</td>\n",
       "      <td>103928</td>\n",
       "      <td>30-34</td>\n",
       "      <td>M</td>\n",
       "      <td>28</td>\n",
       "      <td>4133</td>\n",
       "      <td>1</td>\n",
       "      <td>1.290000</td>\n",
       "      <td>1</td>\n",
       "      <td>1</td>\n",
       "      <td>0.000242</td>\n",
       "      <td>1.290000</td>\n",
       "      <td>100.000000</td>\n",
       "    </tr>\n",
       "    <tr>\n",
       "      <th>...</th>\n",
       "      <td>...</td>\n",
       "      <td>...</td>\n",
       "      <td>...</td>\n",
       "      <td>...</td>\n",
       "      <td>...</td>\n",
       "      <td>...</td>\n",
       "      <td>...</td>\n",
       "      <td>...</td>\n",
       "      <td>...</td>\n",
       "      <td>...</td>\n",
       "      <td>...</td>\n",
       "      <td>...</td>\n",
       "      <td>...</td>\n",
       "      <td>...</td>\n",
       "    </tr>\n",
       "    <tr>\n",
       "      <th>1138</th>\n",
       "      <td>1314410</td>\n",
       "      <td>1178</td>\n",
       "      <td>179977</td>\n",
       "      <td>45-49</td>\n",
       "      <td>F</td>\n",
       "      <td>109</td>\n",
       "      <td>1129773</td>\n",
       "      <td>252</td>\n",
       "      <td>358.189997</td>\n",
       "      <td>13</td>\n",
       "      <td>2</td>\n",
       "      <td>0.000223</td>\n",
       "      <td>1.421389</td>\n",
       "      <td>0.793651</td>\n",
       "    </tr>\n",
       "    <tr>\n",
       "      <th>1139</th>\n",
       "      <td>1314411</td>\n",
       "      <td>1178</td>\n",
       "      <td>179978</td>\n",
       "      <td>45-49</td>\n",
       "      <td>F</td>\n",
       "      <td>110</td>\n",
       "      <td>637549</td>\n",
       "      <td>120</td>\n",
       "      <td>173.880003</td>\n",
       "      <td>3</td>\n",
       "      <td>0</td>\n",
       "      <td>0.000188</td>\n",
       "      <td>1.449000</td>\n",
       "      <td>0.000000</td>\n",
       "    </tr>\n",
       "    <tr>\n",
       "      <th>1140</th>\n",
       "      <td>1314412</td>\n",
       "      <td>1178</td>\n",
       "      <td>179979</td>\n",
       "      <td>45-49</td>\n",
       "      <td>F</td>\n",
       "      <td>111</td>\n",
       "      <td>151531</td>\n",
       "      <td>28</td>\n",
       "      <td>40.289999</td>\n",
       "      <td>2</td>\n",
       "      <td>0</td>\n",
       "      <td>0.000185</td>\n",
       "      <td>1.438929</td>\n",
       "      <td>0.000000</td>\n",
       "    </tr>\n",
       "    <tr>\n",
       "      <th>1141</th>\n",
       "      <td>1314414</td>\n",
       "      <td>1178</td>\n",
       "      <td>179981</td>\n",
       "      <td>45-49</td>\n",
       "      <td>F</td>\n",
       "      <td>113</td>\n",
       "      <td>790253</td>\n",
       "      <td>135</td>\n",
       "      <td>198.710001</td>\n",
       "      <td>8</td>\n",
       "      <td>2</td>\n",
       "      <td>0.000171</td>\n",
       "      <td>1.471926</td>\n",
       "      <td>1.481481</td>\n",
       "    </tr>\n",
       "    <tr>\n",
       "      <th>1142</th>\n",
       "      <td>1314415</td>\n",
       "      <td>1178</td>\n",
       "      <td>179982</td>\n",
       "      <td>45-49</td>\n",
       "      <td>F</td>\n",
       "      <td>114</td>\n",
       "      <td>513161</td>\n",
       "      <td>114</td>\n",
       "      <td>165.609999</td>\n",
       "      <td>5</td>\n",
       "      <td>2</td>\n",
       "      <td>0.000222</td>\n",
       "      <td>1.452719</td>\n",
       "      <td>1.754386</td>\n",
       "    </tr>\n",
       "  </tbody>\n",
       "</table>\n",
       "<p>1143 rows × 14 columns</p>\n",
       "</div>"
      ],
      "text/plain": [
       "        ad_id  xyz_campaign_id  fb_campaign_id    age gender  interest  \\\n",
       "0      708746              916          103916  30-34      M        15   \n",
       "1      708749              916          103917  30-34      M        16   \n",
       "2      708771              916          103920  30-34      M        20   \n",
       "3      708815              916          103928  30-34      M        28   \n",
       "4      708818              916          103928  30-34      M        28   \n",
       "...       ...              ...             ...    ...    ...       ...   \n",
       "1138  1314410             1178          179977  45-49      F       109   \n",
       "1139  1314411             1178          179978  45-49      F       110   \n",
       "1140  1314412             1178          179979  45-49      F       111   \n",
       "1141  1314414             1178          179981  45-49      F       113   \n",
       "1142  1314415             1178          179982  45-49      F       114   \n",
       "\n",
       "      Impressions  Clicks       Spent  Total_Conversion  Approved_Conversion  \\\n",
       "0            7350       1    1.430000                 2                    1   \n",
       "1           17861       2    1.820000                 2                    0   \n",
       "2             693       0    0.000000                 1                    0   \n",
       "3            4259       1    1.250000                 1                    0   \n",
       "4            4133       1    1.290000                 1                    1   \n",
       "...           ...     ...         ...               ...                  ...   \n",
       "1138      1129773     252  358.189997                13                    2   \n",
       "1139       637549     120  173.880003                 3                    0   \n",
       "1140       151531      28   40.289999                 2                    0   \n",
       "1141       790253     135  198.710001                 8                    2   \n",
       "1142       513161     114  165.609999                 5                    2   \n",
       "\n",
       "           CTR       CPC  conversion_rate  \n",
       "0     0.000136  1.430000       100.000000  \n",
       "1     0.000112  0.910000         0.000000  \n",
       "2     0.000000       NaN              NaN  \n",
       "3     0.000235  1.250000         0.000000  \n",
       "4     0.000242  1.290000       100.000000  \n",
       "...        ...       ...              ...  \n",
       "1138  0.000223  1.421389         0.793651  \n",
       "1139  0.000188  1.449000         0.000000  \n",
       "1140  0.000185  1.438929         0.000000  \n",
       "1141  0.000171  1.471926         1.481481  \n",
       "1142  0.000222  1.452719         1.754386  \n",
       "\n",
       "[1143 rows x 14 columns]"
      ]
     },
     "execution_count": 24,
     "metadata": {},
     "output_type": "execute_result"
    }
   ],
   "source": [
    "df"
   ]
  },
  {
   "cell_type": "code",
   "execution_count": 25,
   "id": "03614896",
   "metadata": {
    "ExecuteTime": {
     "end_time": "2023-04-01T17:06:24.502117Z",
     "start_time": "2023-04-01T17:06:24.462102Z"
    }
   },
   "outputs": [
    {
     "data": {
      "text/html": [
       "<div>\n",
       "<style scoped>\n",
       "    .dataframe tbody tr th:only-of-type {\n",
       "        vertical-align: middle;\n",
       "    }\n",
       "\n",
       "    .dataframe tbody tr th {\n",
       "        vertical-align: top;\n",
       "    }\n",
       "\n",
       "    .dataframe thead th {\n",
       "        text-align: right;\n",
       "    }\n",
       "</style>\n",
       "<table border=\"1\" class=\"dataframe\">\n",
       "  <thead>\n",
       "    <tr style=\"text-align: right;\">\n",
       "      <th></th>\n",
       "      <th>ad_id</th>\n",
       "      <th>xyz_campaign_id</th>\n",
       "      <th>fb_campaign_id</th>\n",
       "      <th>age</th>\n",
       "      <th>gender</th>\n",
       "      <th>interest</th>\n",
       "      <th>Impressions</th>\n",
       "      <th>Clicks</th>\n",
       "      <th>Spent</th>\n",
       "      <th>Total_Conversion</th>\n",
       "      <th>Approved_Conversion</th>\n",
       "      <th>CTR</th>\n",
       "      <th>CPC</th>\n",
       "      <th>conversion_rate</th>\n",
       "    </tr>\n",
       "  </thead>\n",
       "  <tbody>\n",
       "    <tr>\n",
       "      <th>860</th>\n",
       "      <td>1121814</td>\n",
       "      <td>1178</td>\n",
       "      <td>144659</td>\n",
       "      <td>30-34</td>\n",
       "      <td>F</td>\n",
       "      <td>27</td>\n",
       "      <td>2223278</td>\n",
       "      <td>421</td>\n",
       "      <td>612.300003</td>\n",
       "      <td>38</td>\n",
       "      <td>13</td>\n",
       "      <td>0.000189</td>\n",
       "      <td>1.454394</td>\n",
       "      <td>3.087886</td>\n",
       "    </tr>\n",
       "  </tbody>\n",
       "</table>\n",
       "</div>"
      ],
      "text/plain": [
       "       ad_id  xyz_campaign_id  fb_campaign_id    age gender  interest  \\\n",
       "860  1121814             1178          144659  30-34      F        27   \n",
       "\n",
       "     Impressions  Clicks       Spent  Total_Conversion  Approved_Conversion  \\\n",
       "860      2223278     421  612.300003                38                   13   \n",
       "\n",
       "          CTR       CPC  conversion_rate  \n",
       "860  0.000189  1.454394         3.087886  "
      ]
     },
     "execution_count": 25,
     "metadata": {},
     "output_type": "execute_result"
    }
   ],
   "source": [
    "df.query('ad_id == 1121814')"
   ]
  },
  {
   "cell_type": "code",
   "execution_count": null,
   "id": "9d8fdb98",
   "metadata": {},
   "outputs": [],
   "source": []
  }
 ],
 "metadata": {
  "kernelspec": {
   "display_name": "Python 3 (ipykernel)",
   "language": "python",
   "name": "python3"
  },
  "language_info": {
   "codemirror_mode": {
    "name": "ipython",
    "version": 3
   },
   "file_extension": ".py",
   "mimetype": "text/x-python",
   "name": "python",
   "nbconvert_exporter": "python",
   "pygments_lexer": "ipython3",
   "version": "3.10.0"
  },
  "nbTranslate": {
   "displayLangs": [
    "*"
   ],
   "hotkey": "alt-t",
   "langInMainMenu": true,
   "sourceLang": "en",
   "targetLang": "fr",
   "useGoogleTranslate": true
  },
  "toc": {
   "base_numbering": 1,
   "nav_menu": {},
   "number_sections": true,
   "sideBar": true,
   "skip_h1_title": false,
   "title_cell": "Table of Contents",
   "title_sidebar": "Contents",
   "toc_cell": false,
   "toc_position": {},
   "toc_section_display": true,
   "toc_window_display": false
  },
  "varInspector": {
   "cols": {
    "lenName": 16,
    "lenType": 16,
    "lenVar": 40
   },
   "kernels_config": {
    "python": {
     "delete_cmd_postfix": "",
     "delete_cmd_prefix": "del ",
     "library": "var_list.py",
     "varRefreshCmd": "print(var_dic_list())"
    },
    "r": {
     "delete_cmd_postfix": ") ",
     "delete_cmd_prefix": "rm(",
     "library": "var_list.r",
     "varRefreshCmd": "cat(var_dic_list()) "
    }
   },
   "types_to_exclude": [
    "module",
    "function",
    "builtin_function_or_method",
    "instance",
    "_Feature"
   ],
   "window_display": false
  }
 },
 "nbformat": 4,
 "nbformat_minor": 5
}
