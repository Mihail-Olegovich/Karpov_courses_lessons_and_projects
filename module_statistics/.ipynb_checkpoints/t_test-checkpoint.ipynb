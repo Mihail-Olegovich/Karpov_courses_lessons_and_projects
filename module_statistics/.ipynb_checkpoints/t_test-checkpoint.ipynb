{
 "cells": [
  {
   "cell_type": "markdown",
   "id": "0c755961",
   "metadata": {},
   "source": [
    "Представьте, что вы работаете аналитиком в очень крупной компании по доставке пиццы над приложением для курьеров (да, обычно в таких компаниях есть приложение для курьеров и отдельно приложение для потребителей).\n",
    "\n",
    "У вас есть несколько ресторанов в разных частях города и целый штат курьеров. Но есть одна проблема — к вечеру скорость доставки падает из-за того, что курьеры уходят домой после рабочего дня, а количество заказов лишь растет. Это приводит к тому, что в момент пересмены наша доставка очень сильно проседает в эффективности. \n",
    "\n",
    "Наши data scientist-ы придумали новый алгоритм, который позволяет курьерам запланировать свои последние заказы перед окончанием рабочего дня так, чтобы их маршрут доставки совпадал с маршрутом до дома. То есть, чтобы курьеры доставляли последние свои заказы за день как бы \"по пути\" домой. \n",
    "\n",
    "Вы вместе с командой решили раскатить A/B тест на две равные группы курьеров. Часть курьеров использует старый алгоритм без опции \"по пути\", другие видят в своем приложении эту опцию и могут ее выбрать. Ваша задача – проанализировать данные эксперимента и помочь бизнесу принять решение о раскатке новой фичи на всех курьеров."
   ]
  },
  {
   "cell_type": "markdown",
   "id": "aad51268",
   "metadata": {},
   "source": [
    "Описание данных\n",
    "\n",
    "order_id - id заказа\n",
    "\n",
    "delivery_time - время доставки в минутах\n",
    "\n",
    "district - район доставки\n",
    "\n",
    "experiment_group - экспериментальная группа"
   ]
  },
  {
   "cell_type": "code",
   "execution_count": 50,
   "id": "79ed8cb3",
   "metadata": {
    "ExecuteTime": {
     "end_time": "2023-03-24T06:14:41.373157Z",
     "start_time": "2023-03-24T06:14:41.365166Z"
    }
   },
   "outputs": [],
   "source": [
    "import pandas as pd\n",
    "import numpy as np\n",
    "import scipy \n",
    "import seaborn as sns\n",
    "import matplotlib.pyplot as plt"
   ]
  },
  {
   "cell_type": "code",
   "execution_count": 14,
   "id": "8887043a",
   "metadata": {
    "ExecuteTime": {
     "end_time": "2023-03-24T06:00:42.999418Z",
     "start_time": "2023-03-24T06:00:42.982038Z"
    }
   },
   "outputs": [],
   "source": [
    "sns.set(\n",
    "    font_scale=2,\n",
    "    style=\"whitegrid\",\n",
    "    rc={'figure.figsize':(20,7)}\n",
    "        )"
   ]
  },
  {
   "cell_type": "code",
   "execution_count": 2,
   "id": "a1b26e07",
   "metadata": {
    "ExecuteTime": {
     "end_time": "2023-03-24T05:53:53.396524Z",
     "start_time": "2023-03-24T05:53:53.295284Z"
    }
   },
   "outputs": [],
   "source": [
    "data = pd.read_csv('C:/Users/1/JupyterProjects/Karpov_courses_lessons_and_projects/module_statistics/all_data/experiment_lesson_4.csv')"
   ]
  },
  {
   "cell_type": "code",
   "execution_count": 4,
   "id": "3cf59c86",
   "metadata": {
    "ExecuteTime": {
     "end_time": "2023-03-24T05:54:15.463212Z",
     "start_time": "2023-03-24T05:54:15.439206Z"
    }
   },
   "outputs": [
    {
     "data": {
      "text/html": [
       "<div>\n",
       "<style scoped>\n",
       "    .dataframe tbody tr th:only-of-type {\n",
       "        vertical-align: middle;\n",
       "    }\n",
       "\n",
       "    .dataframe tbody tr th {\n",
       "        vertical-align: top;\n",
       "    }\n",
       "\n",
       "    .dataframe thead th {\n",
       "        text-align: right;\n",
       "    }\n",
       "</style>\n",
       "<table border=\"1\" class=\"dataframe\">\n",
       "  <thead>\n",
       "    <tr style=\"text-align: right;\">\n",
       "      <th></th>\n",
       "      <th>order_id</th>\n",
       "      <th>delivery_time</th>\n",
       "      <th>district</th>\n",
       "      <th>experiment_group</th>\n",
       "    </tr>\n",
       "  </thead>\n",
       "  <tbody>\n",
       "    <tr>\n",
       "      <th>0</th>\n",
       "      <td>3159</td>\n",
       "      <td>44.0</td>\n",
       "      <td>Purlieus</td>\n",
       "      <td>control</td>\n",
       "    </tr>\n",
       "    <tr>\n",
       "      <th>1</th>\n",
       "      <td>10426</td>\n",
       "      <td>51.0</td>\n",
       "      <td>Purlieus</td>\n",
       "      <td>control</td>\n",
       "    </tr>\n",
       "    <tr>\n",
       "      <th>2</th>\n",
       "      <td>9155</td>\n",
       "      <td>46.0</td>\n",
       "      <td>Purlieus</td>\n",
       "      <td>control</td>\n",
       "    </tr>\n",
       "    <tr>\n",
       "      <th>3</th>\n",
       "      <td>10699</td>\n",
       "      <td>34.0</td>\n",
       "      <td>Purlieus</td>\n",
       "      <td>control</td>\n",
       "    </tr>\n",
       "    <tr>\n",
       "      <th>4</th>\n",
       "      <td>10061</td>\n",
       "      <td>43.0</td>\n",
       "      <td>Purlieus</td>\n",
       "      <td>control</td>\n",
       "    </tr>\n",
       "  </tbody>\n",
       "</table>\n",
       "</div>"
      ],
      "text/plain": [
       "   order_id  delivery_time  district experiment_group\n",
       "0      3159           44.0  Purlieus          control\n",
       "1     10426           51.0  Purlieus          control\n",
       "2      9155           46.0  Purlieus          control\n",
       "3     10699           34.0  Purlieus          control\n",
       "4     10061           43.0  Purlieus          control"
      ]
     },
     "execution_count": 4,
     "metadata": {},
     "output_type": "execute_result"
    }
   ],
   "source": [
    "data.head()"
   ]
  },
  {
   "cell_type": "code",
   "execution_count": 6,
   "id": "08fd9c9d",
   "metadata": {
    "ExecuteTime": {
     "end_time": "2023-03-24T05:54:25.243290Z",
     "start_time": "2023-03-24T05:54:25.187294Z"
    }
   },
   "outputs": [
    {
     "name": "stdout",
     "output_type": "stream",
     "text": [
      "<class 'pandas.core.frame.DataFrame'>\n",
      "RangeIndex: 20196 entries, 0 to 20195\n",
      "Data columns (total 4 columns):\n",
      " #   Column            Non-Null Count  Dtype  \n",
      "---  ------            --------------  -----  \n",
      " 0   order_id          20196 non-null  int64  \n",
      " 1   delivery_time     20196 non-null  float64\n",
      " 2   district          20196 non-null  object \n",
      " 3   experiment_group  20196 non-null  object \n",
      "dtypes: float64(1), int64(1), object(2)\n",
      "memory usage: 631.2+ KB\n"
     ]
    }
   ],
   "source": [
    "data.info()"
   ]
  },
  {
   "cell_type": "markdown",
   "id": "81d53401",
   "metadata": {},
   "source": [
    "Сформируем гипотезы для проверки:\n",
    "\n",
    "Нулевая гипотеза (H0): Разницы между средним временем доставки в тестовой и контрольной группе нет\n",
    "\n",
    "Альтернативная гипотеза (H1): Разница между средним временем доставки в тестовой и контрольной группе есть"
   ]
  },
  {
   "cell_type": "code",
   "execution_count": 52,
   "id": "9cb276fc",
   "metadata": {
    "ExecuteTime": {
     "end_time": "2023-03-24T06:45:14.891583Z",
     "start_time": "2023-03-24T06:45:14.521629Z"
    }
   },
   "outputs": [
    {
     "data": {
      "text/plain": [
       "Text(0.5, 1.0, 'control')"
      ]
     },
     "execution_count": 52,
     "metadata": {},
     "output_type": "execute_result"
    },
    {
     "data": {
      "image/png": "[encoded data removed]",
      "text/plain": [
       "<Figure size 1440x504 with 1 Axes>"
      ]
     },
     "metadata": {},
     "output_type": "display_data"
    }
   ],
   "source": [
    "fig, ax = plt.subplots()\n",
    "sns.histplot(data=data.query('experiment_group == \"control\"'), x='delivery_time', hue='district', bins=19)\n",
    "ax.set_title('control')"
   ]
  },
  {
   "cell_type": "code",
   "execution_count": 53,
   "id": "399fdd5c",
   "metadata": {
    "ExecuteTime": {
     "end_time": "2023-03-24T06:45:44.582190Z",
     "start_time": "2023-03-24T06:45:44.203126Z"
    }
   },
   "outputs": [
    {
     "data": {
      "text/plain": [
       "Text(0.5, 1.0, 'test')"
      ]
     },
     "execution_count": 53,
     "metadata": {},
     "output_type": "execute_result"
    },
    {
     "data": {
      "image/png": "[encoded data removed]",
      "text/plain": [
       "<Figure size 1440x504 with 1 Axes>"
      ]
     },
     "metadata": {},
     "output_type": "display_data"
    }
   ],
   "source": [
    "fig, ax = plt.subplots()\n",
    "sns.histplot(data=data.query('experiment_group == \"test\"'), x='delivery_time', hue='district', bins=19)\n",
    "ax.set_title('test')"
   ]
  },
  {
   "cell_type": "markdown",
   "id": "6f6871f1",
   "metadata": {},
   "source": [
    "Количество наблюдений в группах"
   ]
  },
  {
   "cell_type": "code",
   "execution_count": 57,
   "id": "fdf46446",
   "metadata": {
    "ExecuteTime": {
     "end_time": "2023-03-24T06:47:21.440111Z",
     "start_time": "2023-03-24T06:47:21.413199Z"
    }
   },
   "outputs": [
    {
     "data": {
      "text/plain": [
       "order_id            10104\n",
       "delivery_time       10104\n",
       "district            10104\n",
       "experiment_group    10104\n",
       "dtype: int64"
      ]
     },
     "execution_count": 57,
     "metadata": {},
     "output_type": "execute_result"
    }
   ],
   "source": [
    "data.query('experiment_group == \"test\"').count()"
   ]
  },
  {
   "cell_type": "code",
   "execution_count": 58,
   "id": "e818adc0",
   "metadata": {
    "ExecuteTime": {
     "end_time": "2023-03-24T06:47:32.332111Z",
     "start_time": "2023-03-24T06:47:32.307117Z"
    }
   },
   "outputs": [
    {
     "data": {
      "text/plain": [
       "order_id            10092\n",
       "delivery_time       10092\n",
       "district            10092\n",
       "experiment_group    10092\n",
       "dtype: int64"
      ]
     },
     "execution_count": 58,
     "metadata": {},
     "output_type": "execute_result"
    }
   ],
   "source": [
    "data.query('experiment_group == \"control\"').count()"
   ]
  },
  {
   "cell_type": "markdown",
   "id": "28a67df8",
   "metadata": {},
   "source": [
    "Теперь давайте изучим наши распределения. Проверим выполнение условий на нормальность и посчитаем стандартное отклонение в тесте и в контроле."
   ]
  },
  {
   "cell_type": "code",
   "execution_count": 59,
   "id": "d971c24e",
   "metadata": {
    "ExecuteTime": {
     "end_time": "2023-03-24T06:50:57.056811Z",
     "start_time": "2023-03-24T06:50:57.033807Z"
    }
   },
   "outputs": [],
   "source": [
    "data_test = data.query('experiment_group == \"test\"').delivery_time"
   ]
  },
  {
   "cell_type": "code",
   "execution_count": 65,
   "id": "80855283",
   "metadata": {
    "ExecuteTime": {
     "end_time": "2023-03-24T06:54:05.542276Z",
     "start_time": "2023-03-24T06:54:05.516793Z"
    }
   },
   "outputs": [
    {
     "data": {
      "text/plain": [
       "NormaltestResult(statistic=7.024157092641915, pvalue=0.02983483685333173)"
      ]
     },
     "execution_count": 65,
     "metadata": {},
     "output_type": "execute_result"
    }
   ],
   "source": [
    "# используем normaltest(тест Агостино-Пирсона), он больше адаптирован к большим выборкам, чем shapiro\n",
    "scipy.stats.normaltest(data_test)"
   ]
  },
  {
   "cell_type": "code",
   "execution_count": 67,
   "id": "e57d0a33",
   "metadata": {
    "ExecuteTime": {
     "end_time": "2023-03-24T06:55:30.224882Z",
     "start_time": "2023-03-24T06:55:30.205782Z"
    }
   },
   "outputs": [],
   "source": [
    "sd_test = np.std(data_test)"
   ]
  },
  {
   "cell_type": "code",
   "execution_count": 70,
   "id": "5a99d9ea",
   "metadata": {
    "ExecuteTime": {
     "end_time": "2023-03-24T06:56:18.455896Z",
     "start_time": "2023-03-24T06:56:18.436884Z"
    }
   },
   "outputs": [
    {
     "data": {
      "text/plain": [
       "9.882819260031342"
      ]
     },
     "execution_count": 70,
     "metadata": {},
     "output_type": "execute_result"
    }
   ],
   "source": [
    "sd_test"
   ]
  },
  {
   "cell_type": "code",
   "execution_count": 63,
   "id": "8dd0f80d",
   "metadata": {
    "ExecuteTime": {
     "end_time": "2023-03-24T06:52:25.279867Z",
     "start_time": "2023-03-24T06:52:25.266847Z"
    }
   },
   "outputs": [],
   "source": [
    "data_control = data.query('experiment_group == \"control\"').delivery_time"
   ]
  },
  {
   "cell_type": "code",
   "execution_count": 64,
   "id": "b4946fa8",
   "metadata": {
    "ExecuteTime": {
     "end_time": "2023-03-24T06:52:32.651826Z",
     "start_time": "2023-03-24T06:52:32.638790Z"
    }
   },
   "outputs": [
    {
     "data": {
      "text/plain": [
       "NormaltestResult(statistic=0.25349755437872584, pvalue=0.8809549607809654)"
      ]
     },
     "execution_count": 64,
     "metadata": {},
     "output_type": "execute_result"
    }
   ],
   "source": [
    "scipy.stats.normaltest(data_control)"
   ]
  },
  {
   "cell_type": "code",
   "execution_count": 68,
   "id": "f68e0aeb",
   "metadata": {
    "ExecuteTime": {
     "end_time": "2023-03-24T06:55:56.387185Z",
     "start_time": "2023-03-24T06:55:56.381195Z"
    }
   },
   "outputs": [],
   "source": [
    "sd_control = np.std(data_control)"
   ]
  },
  {
   "cell_type": "code",
   "execution_count": 71,
   "id": "d8498c34",
   "metadata": {
    "ExecuteTime": {
     "end_time": "2023-03-24T06:56:21.919402Z",
     "start_time": "2023-03-24T06:56:21.899402Z"
    }
   },
   "outputs": [
    {
     "data": {
      "text/plain": [
       "9.989522000652327"
      ]
     },
     "execution_count": 71,
     "metadata": {},
     "output_type": "execute_result"
    }
   ],
   "source": [
    "sd_control"
   ]
  },
  {
   "cell_type": "markdown",
   "id": "125efdfd",
   "metadata": {},
   "source": [
    "Применим t-критерий Стьюдента"
   ]
  },
  {
   "cell_type": "code",
   "execution_count": 72,
   "id": "a09a4788",
   "metadata": {
    "ExecuteTime": {
     "end_time": "2023-03-24T06:59:27.096993Z",
     "start_time": "2023-03-24T06:59:27.071950Z"
    }
   },
   "outputs": [
    {
     "data": {
      "text/plain": [
       "Ttest_indResult(statistic=-43.03582663183714, pvalue=0.0)"
      ]
     },
     "execution_count": 72,
     "metadata": {},
     "output_type": "execute_result"
    }
   ],
   "source": [
    "scipy.stats.ttest_ind(data_test, data_control)"
   ]
  },
  {
   "cell_type": "markdown",
   "id": "44c80e73",
   "metadata": {},
   "source": [
    "Получаем статзначимые различия"
   ]
  },
  {
   "cell_type": "code",
   "execution_count": 76,
   "id": "d782bd3e",
   "metadata": {
    "ExecuteTime": {
     "end_time": "2023-03-24T07:13:45.967504Z",
     "start_time": "2023-03-24T07:13:45.946176Z"
    }
   },
   "outputs": [
    {
     "data": {
      "text/plain": [
       "-13.354653121660812"
      ]
     },
     "execution_count": 76,
     "metadata": {},
     "output_type": "execute_result"
    }
   ],
   "source": [
    "(data_test.mean() - data_control.mean()) * 100 / data_control.mean()"
   ]
  },
  {
   "cell_type": "markdown",
   "id": "9e1b75ff",
   "metadata": {},
   "source": [
    "Вывод: такую функцию можно вводить в использование для всех пользователей, так как среднее время доставки статзначимо изменилось. Среднее время доставки в тесте меньше, чем в контроле."
   ]
  },
  {
   "cell_type": "code",
   "execution_count": null,
   "id": "4f7d7fc0",
   "metadata": {},
   "outputs": [],
   "source": []
  }
 ],
 "metadata": {
  "kernelspec": {
   "display_name": "Python 3 (ipykernel)",
   "language": "python",
   "name": "python3"
  },
  "language_info": {
   "codemirror_mode": {
    "name": "ipython",
    "version": 3
   },
   "file_extension": ".py",
   "mimetype": "text/x-python",
   "name": "python",
   "nbconvert_exporter": "python",
   "pygments_lexer": "ipython3",
   "version": "3.10.0"
  },
  "nbTranslate": {
   "displayLangs": [
    "*"
   ],
   "hotkey": "alt-t",
   "langInMainMenu": true,
   "sourceLang": "en",
   "targetLang": "fr",
   "useGoogleTranslate": true
  },
  "toc": {
   "base_numbering": 1,
   "nav_menu": {},
   "number_sections": true,
   "sideBar": true,
   "skip_h1_title": false,
   "title_cell": "Table of Contents",
   "title_sidebar": "Contents",
   "toc_cell": false,
   "toc_position": {},
   "toc_section_display": true,
   "toc_window_display": false
  },
  "varInspector": {
   "cols": {
    "lenName": 16,
    "lenType": 16,
    "lenVar": 40
   },
   "kernels_config": {
    "python": {
     "delete_cmd_postfix": "",
     "delete_cmd_prefix": "del ",
     "library": "var_list.py",
     "varRefreshCmd": "print(var_dic_list())"
    },
    "r": {
     "delete_cmd_postfix": ") ",
     "delete_cmd_prefix": "rm(",
     "library": "var_list.r",
     "varRefreshCmd": "cat(var_dic_list()) "
    }
   },
   "types_to_exclude": [
    "module",
    "function",
    "builtin_function_or_method",
    "instance",
    "_Feature"
   ],
   "window_display": false
  }
 },
 "nbformat": 4,
 "nbformat_minor": 5
}
