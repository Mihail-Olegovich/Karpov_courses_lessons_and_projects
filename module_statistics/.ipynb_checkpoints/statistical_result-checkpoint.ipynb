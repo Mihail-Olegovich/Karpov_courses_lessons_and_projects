{
 "cells": [
  {
   "cell_type": "code",
   "execution_count": 71,
   "id": "03d01ae5",
   "metadata": {
    "ExecuteTime": {
     "end_time": "2023-03-20T17:22:12.915218Z",
     "start_time": "2023-03-20T17:22:12.893938Z"
    }
   },
   "outputs": [],
   "source": [
    "import pandas as pd\n",
    "import numpy as np\n",
    "import seaborn as sns\n",
    "import matplotlib.pyplot as plt\n",
    "\n",
    "%matplotlib inline"
   ]
  },
  {
   "cell_type": "code",
   "execution_count": 72,
   "id": "411e16ba",
   "metadata": {
    "ExecuteTime": {
     "end_time": "2023-03-20T17:22:12.946535Z",
     "start_time": "2023-03-20T17:22:12.927227Z"
    }
   },
   "outputs": [],
   "source": [
    "sns.set(\n",
    "    font_scale=2,\n",
    "    style=\"whitegrid\",\n",
    "    rc={'figure.figsize':(20,7)}\n",
    "        )"
   ]
  },
  {
   "cell_type": "markdown",
   "id": "1cd8ac2d",
   "metadata": {},
   "source": [
    " Данные в компании, которая занимается арендой велосипедов за два года: с 4 января 2015 по 3 января 2017"
   ]
  },
  {
   "cell_type": "code",
   "execution_count": 73,
   "id": "760c9354",
   "metadata": {
    "ExecuteTime": {
     "end_time": "2023-03-20T17:22:13.090538Z",
     "start_time": "2023-03-20T17:22:13.033538Z"
    }
   },
   "outputs": [],
   "source": [
    "data = pd.read_csv('C:/Users/1/JupyterProjects/Karpov_courses_lessons_and_projects/module_statistics/all_data/london.csv', parse_dates=['timestamp'])"
   ]
  },
  {
   "cell_type": "code",
   "execution_count": 74,
   "id": "66aebb54",
   "metadata": {
    "ExecuteTime": {
     "end_time": "2023-03-20T17:22:13.122533Z",
     "start_time": "2023-03-20T17:22:13.093547Z"
    }
   },
   "outputs": [
    {
     "data": {
      "text/html": [
       "<div>\n",
       "<style scoped>\n",
       "    .dataframe tbody tr th:only-of-type {\n",
       "        vertical-align: middle;\n",
       "    }\n",
       "\n",
       "    .dataframe tbody tr th {\n",
       "        vertical-align: top;\n",
       "    }\n",
       "\n",
       "    .dataframe thead th {\n",
       "        text-align: right;\n",
       "    }\n",
       "</style>\n",
       "<table border=\"1\" class=\"dataframe\">\n",
       "  <thead>\n",
       "    <tr style=\"text-align: right;\">\n",
       "      <th></th>\n",
       "      <th>timestamp</th>\n",
       "      <th>cnt</th>\n",
       "      <th>t1</th>\n",
       "      <th>t2</th>\n",
       "      <th>hum</th>\n",
       "      <th>wind_speed</th>\n",
       "      <th>weather_code</th>\n",
       "      <th>is_holiday</th>\n",
       "      <th>is_weekend</th>\n",
       "      <th>season</th>\n",
       "    </tr>\n",
       "  </thead>\n",
       "  <tbody>\n",
       "    <tr>\n",
       "      <th>0</th>\n",
       "      <td>2015-01-04 00:00:00</td>\n",
       "      <td>182</td>\n",
       "      <td>3.0</td>\n",
       "      <td>2.0</td>\n",
       "      <td>93.0</td>\n",
       "      <td>6.0</td>\n",
       "      <td>3.0</td>\n",
       "      <td>0.0</td>\n",
       "      <td>1.0</td>\n",
       "      <td>3.0</td>\n",
       "    </tr>\n",
       "    <tr>\n",
       "      <th>1</th>\n",
       "      <td>2015-01-04 01:00:00</td>\n",
       "      <td>138</td>\n",
       "      <td>3.0</td>\n",
       "      <td>2.5</td>\n",
       "      <td>93.0</td>\n",
       "      <td>5.0</td>\n",
       "      <td>1.0</td>\n",
       "      <td>0.0</td>\n",
       "      <td>1.0</td>\n",
       "      <td>3.0</td>\n",
       "    </tr>\n",
       "    <tr>\n",
       "      <th>2</th>\n",
       "      <td>2015-01-04 02:00:00</td>\n",
       "      <td>134</td>\n",
       "      <td>2.5</td>\n",
       "      <td>2.5</td>\n",
       "      <td>96.5</td>\n",
       "      <td>0.0</td>\n",
       "      <td>1.0</td>\n",
       "      <td>0.0</td>\n",
       "      <td>1.0</td>\n",
       "      <td>3.0</td>\n",
       "    </tr>\n",
       "    <tr>\n",
       "      <th>3</th>\n",
       "      <td>2015-01-04 03:00:00</td>\n",
       "      <td>72</td>\n",
       "      <td>2.0</td>\n",
       "      <td>2.0</td>\n",
       "      <td>100.0</td>\n",
       "      <td>0.0</td>\n",
       "      <td>1.0</td>\n",
       "      <td>0.0</td>\n",
       "      <td>1.0</td>\n",
       "      <td>3.0</td>\n",
       "    </tr>\n",
       "    <tr>\n",
       "      <th>4</th>\n",
       "      <td>2015-01-04 04:00:00</td>\n",
       "      <td>47</td>\n",
       "      <td>2.0</td>\n",
       "      <td>0.0</td>\n",
       "      <td>93.0</td>\n",
       "      <td>6.5</td>\n",
       "      <td>1.0</td>\n",
       "      <td>0.0</td>\n",
       "      <td>1.0</td>\n",
       "      <td>3.0</td>\n",
       "    </tr>\n",
       "  </tbody>\n",
       "</table>\n",
       "</div>"
      ],
      "text/plain": [
       "            timestamp  cnt   t1   t2    hum  wind_speed  weather_code  \\\n",
       "0 2015-01-04 00:00:00  182  3.0  2.0   93.0         6.0           3.0   \n",
       "1 2015-01-04 01:00:00  138  3.0  2.5   93.0         5.0           1.0   \n",
       "2 2015-01-04 02:00:00  134  2.5  2.5   96.5         0.0           1.0   \n",
       "3 2015-01-04 03:00:00   72  2.0  2.0  100.0         0.0           1.0   \n",
       "4 2015-01-04 04:00:00   47  2.0  0.0   93.0         6.5           1.0   \n",
       "\n",
       "   is_holiday  is_weekend  season  \n",
       "0         0.0         1.0     3.0  \n",
       "1         0.0         1.0     3.0  \n",
       "2         0.0         1.0     3.0  \n",
       "3         0.0         1.0     3.0  \n",
       "4         0.0         1.0     3.0  "
      ]
     },
     "execution_count": 74,
     "metadata": {},
     "output_type": "execute_result"
    }
   ],
   "source": [
    "data.head()"
   ]
  },
  {
   "cell_type": "raw",
   "id": "1038eefa",
   "metadata": {},
   "source": [
    "Описание данных\n",
    "\n",
    "timestamp – дата и время (точность до часа)\n",
    "cnt – количество аренд велосипедов за этот час\n",
    "t1 – температура, в С\n",
    "t2 – температура \"ощущается как\", в С \n",
    "hum – влажность (%)\n",
    "wind_speed – скорость ветра, км/ч\n",
    "weather_code – погодные условия:\n",
    "1 – ясно (SKC)\n",
    "2 – преимущественно ясно / встречаются отдельные облака (SCT)\n",
    "3 – облачно / значительные облака (BKN)\n",
    "4 – пасмурно (OVC)\n",
    "7 – небольшой дождь Rain/ light Rain shower/ Light rain \n",
    "10 – дождь с грозой\n",
    "26 – снегопад \n",
    "94 – ледяной туман (да, такое бывает!)\n",
    "is_holiday – является ли день праздником (1 – праздник, 0 – нет)\n",
    "is_weekend –  является ли день выходным (1 – выходной, 0 – нет)\n",
    "season – метеорологический сезон (0 – весна, 1 – лето, 2 – осень, 3 – зима)"
   ]
  },
  {
   "cell_type": "code",
   "execution_count": 75,
   "id": "21b9e17d",
   "metadata": {
    "ExecuteTime": {
     "end_time": "2023-03-20T17:22:13.154532Z",
     "start_time": "2023-03-20T17:22:13.125543Z"
    }
   },
   "outputs": [
    {
     "name": "stdout",
     "output_type": "stream",
     "text": [
      "<class 'pandas.core.frame.DataFrame'>\n",
      "RangeIndex: 17414 entries, 0 to 17413\n",
      "Data columns (total 10 columns):\n",
      " #   Column        Non-Null Count  Dtype         \n",
      "---  ------        --------------  -----         \n",
      " 0   timestamp     17414 non-null  datetime64[ns]\n",
      " 1   cnt           17414 non-null  int64         \n",
      " 2   t1            17414 non-null  float64       \n",
      " 3   t2            17414 non-null  float64       \n",
      " 4   hum           17414 non-null  float64       \n",
      " 5   wind_speed    17414 non-null  float64       \n",
      " 6   weather_code  17414 non-null  float64       \n",
      " 7   is_holiday    17414 non-null  float64       \n",
      " 8   is_weekend    17414 non-null  float64       \n",
      " 9   season        17414 non-null  float64       \n",
      "dtypes: datetime64[ns](1), float64(8), int64(1)\n",
      "memory usage: 1.3 MB\n"
     ]
    }
   ],
   "source": [
    "data.info()"
   ]
  },
  {
   "cell_type": "markdown",
   "id": "a4fa88b2",
   "metadata": {},
   "source": [
    "Для начала попробуем посмотреть на число поездок по датам и времени."
   ]
  },
  {
   "cell_type": "code",
   "execution_count": 76,
   "id": "f0b87867",
   "metadata": {
    "ExecuteTime": {
     "end_time": "2023-03-20T17:22:14.268050Z",
     "start_time": "2023-03-20T17:22:13.173744Z"
    }
   },
   "outputs": [
    {
     "data": {
      "text/plain": [
       "<AxesSubplot:xlabel='timestamp', ylabel='cnt'>"
      ]
     },
     "execution_count": 76,
     "metadata": {},
     "output_type": "execute_result"
    },
    {
     "data": {
      "image/png": "[encoded data removed]",
      "text/plain": [
       "<Figure size 1440x504 with 1 Axes>"
      ]
     },
     "metadata": {},
     "output_type": "display_data"
    }
   ],
   "source": [
    "sns.lineplot(data=data, x='timestamp', y='cnt')"
   ]
  },
  {
   "cell_type": "markdown",
   "id": "03bf372c",
   "metadata": {},
   "source": [
    "Очень сложно что-то понять, нужно преобразовать данные, чтобы увидеть тренды"
   ]
  },
  {
   "cell_type": "code",
   "execution_count": 77,
   "id": "22ee0922",
   "metadata": {
    "ExecuteTime": {
     "end_time": "2023-03-20T17:22:14.691649Z",
     "start_time": "2023-03-20T17:22:14.268050Z"
    }
   },
   "outputs": [
    {
     "data": {
      "text/plain": [
       "<AxesSubplot:xlabel='timestamp', ylabel='cnt'>"
      ]
     },
     "execution_count": 77,
     "metadata": {},
     "output_type": "execute_result"
    },
    {
     "data": {
      "image/png": "[encoded data removed]",
      "text/plain": [
       "<Figure size 1440x504 with 1 Axes>"
      ]
     },
     "metadata": {},
     "output_type": "display_data"
    }
   ],
   "source": [
    "# используем resample для визуализации данных по дням\n",
    "sns.lineplot(data=data.set_index('timestamp').resample(rule='D').cnt.sum())"
   ]
  },
  {
   "cell_type": "markdown",
   "id": "893d9160",
   "metadata": {
    "ExecuteTime": {
     "end_time": "2023-03-20T16:56:30.048370Z",
     "start_time": "2023-03-20T16:56:30.022403Z"
    }
   },
   "source": [
    "Заметим на графике сезонность: летом количество прокатов больше чем зимой, что в целом разумно, а также можно увидеть резкие скачки и довольно сильно отклоняющиеся значения."
   ]
  },
  {
   "cell_type": "markdown",
   "id": "38a23179",
   "metadata": {},
   "source": [
    "Попробуем построить доверительный интервал вокруг данных - всё, что выпадает за его пределы, будет считаться аномалией, и на отдельные из них мы потом и посмотрим.\n",
    "Так как мы сейчас работаем с временным рядом - последовательностью значений, меняющейся во времени, мы не можем просто так посчитать доверительный интервал для всего: так мы можем упустить важные характеристики данных! Например, сезонные колебания. \n",
    "\n",
    "Чтобы учесть этот момент, мы построим доверительный интервал, используя скользящее среднее. Для этого разделим дальнейшие действия на несколько этапов:\n",
    "\n",
    "сначала посчитаем скользящее среднее, чтобы сгладить ряд\n",
    "\n",
    "далее – разницу между наблюдаемыми и сглаженными значениями\n",
    "\n",
    "определим верхние и нижние границы 99% доверительного интервала \n",
    "\n",
    "найдем причины аномалий!"
   ]
  },
  {
   "cell_type": "code",
   "execution_count": 89,
   "id": "de1965e6",
   "metadata": {
    "ExecuteTime": {
     "end_time": "2023-03-20T17:23:23.933545Z",
     "start_time": "2023-03-20T17:23:23.899551Z"
    }
   },
   "outputs": [],
   "source": [
    "resample_data = data.set_index('timestamp').resample(rule='D').agg({'cnt': 'sum'})"
   ]
  },
  {
   "cell_type": "code",
   "execution_count": 90,
   "id": "99a39d84",
   "metadata": {
    "ExecuteTime": {
     "end_time": "2023-03-20T17:23:25.097434Z",
     "start_time": "2023-03-20T17:23:25.071381Z"
    }
   },
   "outputs": [
    {
     "data": {
      "text/html": [
       "<div>\n",
       "<style scoped>\n",
       "    .dataframe tbody tr th:only-of-type {\n",
       "        vertical-align: middle;\n",
       "    }\n",
       "\n",
       "    .dataframe tbody tr th {\n",
       "        vertical-align: top;\n",
       "    }\n",
       "\n",
       "    .dataframe thead th {\n",
       "        text-align: right;\n",
       "    }\n",
       "</style>\n",
       "<table border=\"1\" class=\"dataframe\">\n",
       "  <thead>\n",
       "    <tr style=\"text-align: right;\">\n",
       "      <th></th>\n",
       "      <th>cnt</th>\n",
       "    </tr>\n",
       "    <tr>\n",
       "      <th>timestamp</th>\n",
       "      <th></th>\n",
       "    </tr>\n",
       "  </thead>\n",
       "  <tbody>\n",
       "    <tr>\n",
       "      <th>2015-01-04</th>\n",
       "      <td>9234</td>\n",
       "    </tr>\n",
       "    <tr>\n",
       "      <th>2015-01-05</th>\n",
       "      <td>20372</td>\n",
       "    </tr>\n",
       "    <tr>\n",
       "      <th>2015-01-06</th>\n",
       "      <td>20613</td>\n",
       "    </tr>\n",
       "    <tr>\n",
       "      <th>2015-01-07</th>\n",
       "      <td>21064</td>\n",
       "    </tr>\n",
       "    <tr>\n",
       "      <th>2015-01-08</th>\n",
       "      <td>15601</td>\n",
       "    </tr>\n",
       "  </tbody>\n",
       "</table>\n",
       "</div>"
      ],
      "text/plain": [
       "              cnt\n",
       "timestamp        \n",
       "2015-01-04   9234\n",
       "2015-01-05  20372\n",
       "2015-01-06  20613\n",
       "2015-01-07  21064\n",
       "2015-01-08  15601"
      ]
     },
     "execution_count": 90,
     "metadata": {},
     "output_type": "execute_result"
    }
   ],
   "source": [
    "resample_data.head()"
   ]
  },
  {
   "cell_type": "code",
   "execution_count": 91,
   "id": "fbe625cc",
   "metadata": {
    "ExecuteTime": {
     "end_time": "2023-03-20T17:24:11.541226Z",
     "start_time": "2023-03-20T17:24:11.532172Z"
    }
   },
   "outputs": [],
   "source": [
    "resample_data_rolling = resample_data.rolling(window=3).mean()"
   ]
  },
  {
   "cell_type": "code",
   "execution_count": 93,
   "id": "1e6f6786",
   "metadata": {
    "ExecuteTime": {
     "end_time": "2023-03-20T17:24:29.775656Z",
     "start_time": "2023-03-20T17:24:29.757629Z"
    }
   },
   "outputs": [],
   "source": [
    "difference = resample_data - resample_data_rolling"
   ]
  },
  {
   "cell_type": "code",
   "execution_count": 94,
   "id": "95919d4f",
   "metadata": {
    "ExecuteTime": {
     "end_time": "2023-03-20T17:24:32.085092Z",
     "start_time": "2023-03-20T17:24:32.060032Z"
    }
   },
   "outputs": [],
   "source": [
    "std = np.std(difference)"
   ]
  },
  {
   "cell_type": "code",
   "execution_count": 96,
   "id": "9f2f5eaa",
   "metadata": {
    "ExecuteTime": {
     "end_time": "2023-03-20T17:24:55.184183Z",
     "start_time": "2023-03-20T17:24:54.806842Z"
    }
   },
   "outputs": [
    {
     "name": "stderr",
     "output_type": "stream",
     "text": [
      "C:\\Users\\1\\AppData\\Local\\Programs\\Python\\Python310\\lib\\site-packages\\seaborn\\distributions.py:2619: FutureWarning: `distplot` is a deprecated function and will be removed in a future version. Please adapt your code to use either `displot` (a figure-level function with similar flexibility) or `histplot` (an axes-level function for histograms).\n",
      "  warnings.warn(msg, FutureWarning)\n"
     ]
    },
    {
     "data": {
      "text/plain": [
       "<AxesSubplot:ylabel='Density'>"
      ]
     },
     "execution_count": 96,
     "metadata": {},
     "output_type": "execute_result"
    },
    {
     "data": {
      "image/png": "[encoded data removed]",
      "text/plain": [
       "<Figure size 1440x504 with 1 Axes>"
      ]
     },
     "metadata": {},
     "output_type": "display_data"
    }
   ],
   "source": [
    "sns.distplot(difference)"
   ]
  },
  {
   "cell_type": "code",
   "execution_count": 97,
   "id": "fed2fa4a",
   "metadata": {
    "ExecuteTime": {
     "end_time": "2023-03-20T17:25:17.380263Z",
     "start_time": "2023-03-20T17:25:17.357834Z"
    }
   },
   "outputs": [],
   "source": [
    "# верхняя граница 99% доверительного интервала\n",
    "upper_bound = resample_data_rolling + 2.576 * std"
   ]
  },
  {
   "cell_type": "code",
   "execution_count": 98,
   "id": "2066fe82",
   "metadata": {
    "ExecuteTime": {
     "end_time": "2023-03-20T17:25:17.820681Z",
     "start_time": "2023-03-20T17:25:17.811549Z"
    }
   },
   "outputs": [],
   "source": [
    "# нижняя граница 99% доверительного интервала\n",
    "lower_bound = resample_data_rolling - 2.576 * std"
   ]
  },
  {
   "cell_type": "code",
   "execution_count": 102,
   "id": "146325be",
   "metadata": {
    "ExecuteTime": {
     "end_time": "2023-03-20T17:26:04.224903Z",
     "start_time": "2023-03-20T17:26:04.215686Z"
    }
   },
   "outputs": [],
   "source": [
    "resample_data.reset_index(inplace=True)"
   ]
  },
  {
   "cell_type": "code",
   "execution_count": 111,
   "id": "72f066c1",
   "metadata": {
    "ExecuteTime": {
     "end_time": "2023-03-20T17:28:15.123028Z",
     "start_time": "2023-03-20T17:28:15.108962Z"
    }
   },
   "outputs": [],
   "source": [
    "resample_data['upper_bound'] = upper_bound.reset_index().cnt\n",
    "resample_data['lower_bound'] = lower_bound.reset_index().cnt"
   ]
  },
  {
   "cell_type": "code",
   "execution_count": 112,
   "id": "238b83c4",
   "metadata": {
    "ExecuteTime": {
     "end_time": "2023-03-20T17:28:16.884894Z",
     "start_time": "2023-03-20T17:28:16.852920Z"
    }
   },
   "outputs": [
    {
     "data": {
      "text/html": [
       "<div>\n",
       "<style scoped>\n",
       "    .dataframe tbody tr th:only-of-type {\n",
       "        vertical-align: middle;\n",
       "    }\n",
       "\n",
       "    .dataframe tbody tr th {\n",
       "        vertical-align: top;\n",
       "    }\n",
       "\n",
       "    .dataframe thead th {\n",
       "        text-align: right;\n",
       "    }\n",
       "</style>\n",
       "<table border=\"1\" class=\"dataframe\">\n",
       "  <thead>\n",
       "    <tr style=\"text-align: right;\">\n",
       "      <th></th>\n",
       "      <th>timestamp</th>\n",
       "      <th>cnt</th>\n",
       "      <th>upper_bound</th>\n",
       "      <th>lower_bound</th>\n",
       "    </tr>\n",
       "  </thead>\n",
       "  <tbody>\n",
       "    <tr>\n",
       "      <th>0</th>\n",
       "      <td>2015-01-04</td>\n",
       "      <td>9234</td>\n",
       "      <td>NaN</td>\n",
       "      <td>NaN</td>\n",
       "    </tr>\n",
       "    <tr>\n",
       "      <th>1</th>\n",
       "      <td>2015-01-05</td>\n",
       "      <td>20372</td>\n",
       "      <td>NaN</td>\n",
       "      <td>NaN</td>\n",
       "    </tr>\n",
       "    <tr>\n",
       "      <th>2</th>\n",
       "      <td>2015-01-06</td>\n",
       "      <td>20613</td>\n",
       "      <td>28482.585854</td>\n",
       "      <td>4996.747479</td>\n",
       "    </tr>\n",
       "    <tr>\n",
       "      <th>3</th>\n",
       "      <td>2015-01-07</td>\n",
       "      <td>21064</td>\n",
       "      <td>32425.919188</td>\n",
       "      <td>8940.080812</td>\n",
       "    </tr>\n",
       "    <tr>\n",
       "      <th>4</th>\n",
       "      <td>2015-01-08</td>\n",
       "      <td>15601</td>\n",
       "      <td>30835.585854</td>\n",
       "      <td>7349.747479</td>\n",
       "    </tr>\n",
       "    <tr>\n",
       "      <th>...</th>\n",
       "      <td>...</td>\n",
       "      <td>...</td>\n",
       "      <td>...</td>\n",
       "      <td>...</td>\n",
       "    </tr>\n",
       "    <tr>\n",
       "      <th>726</th>\n",
       "      <td>2016-12-30</td>\n",
       "      <td>11566</td>\n",
       "      <td>24424.919188</td>\n",
       "      <td>939.080812</td>\n",
       "    </tr>\n",
       "    <tr>\n",
       "      <th>727</th>\n",
       "      <td>2016-12-31</td>\n",
       "      <td>11424</td>\n",
       "      <td>24090.252521</td>\n",
       "      <td>604.414146</td>\n",
       "    </tr>\n",
       "    <tr>\n",
       "      <th>728</th>\n",
       "      <td>2017-01-01</td>\n",
       "      <td>6421</td>\n",
       "      <td>21546.585854</td>\n",
       "      <td>-1939.252521</td>\n",
       "    </tr>\n",
       "    <tr>\n",
       "      <th>729</th>\n",
       "      <td>2017-01-02</td>\n",
       "      <td>11823</td>\n",
       "      <td>21632.252521</td>\n",
       "      <td>-1853.585854</td>\n",
       "    </tr>\n",
       "    <tr>\n",
       "      <th>730</th>\n",
       "      <td>2017-01-03</td>\n",
       "      <td>19436</td>\n",
       "      <td>24302.919188</td>\n",
       "      <td>817.080812</td>\n",
       "    </tr>\n",
       "  </tbody>\n",
       "</table>\n",
       "<p>731 rows × 4 columns</p>\n",
       "</div>"
      ],
      "text/plain": [
       "     timestamp    cnt   upper_bound  lower_bound\n",
       "0   2015-01-04   9234           NaN          NaN\n",
       "1   2015-01-05  20372           NaN          NaN\n",
       "2   2015-01-06  20613  28482.585854  4996.747479\n",
       "3   2015-01-07  21064  32425.919188  8940.080812\n",
       "4   2015-01-08  15601  30835.585854  7349.747479\n",
       "..         ...    ...           ...          ...\n",
       "726 2016-12-30  11566  24424.919188   939.080812\n",
       "727 2016-12-31  11424  24090.252521   604.414146\n",
       "728 2017-01-01   6421  21546.585854 -1939.252521\n",
       "729 2017-01-02  11823  21632.252521 -1853.585854\n",
       "730 2017-01-03  19436  24302.919188   817.080812\n",
       "\n",
       "[731 rows x 4 columns]"
      ]
     },
     "execution_count": 112,
     "metadata": {},
     "output_type": "execute_result"
    }
   ],
   "source": [
    "resample_data"
   ]
  },
  {
   "cell_type": "markdown",
   "id": "53eaff2f",
   "metadata": {
    "ExecuteTime": {
     "end_time": "2023-03-20T18:07:39.792342Z",
     "start_time": "2023-03-20T18:07:39.779246Z"
    }
   },
   "source": [
    "Изучим наши аномалии"
   ]
  },
  {
   "cell_type": "code",
   "execution_count": 114,
   "id": "cfa205d1",
   "metadata": {
    "ExecuteTime": {
     "end_time": "2023-03-20T18:08:05.634154Z",
     "start_time": "2023-03-20T18:08:05.602469Z"
    }
   },
   "outputs": [
    {
     "data": {
      "text/html": [
       "<div>\n",
       "<style scoped>\n",
       "    .dataframe tbody tr th:only-of-type {\n",
       "        vertical-align: middle;\n",
       "    }\n",
       "\n",
       "    .dataframe tbody tr th {\n",
       "        vertical-align: top;\n",
       "    }\n",
       "\n",
       "    .dataframe thead th {\n",
       "        text-align: right;\n",
       "    }\n",
       "</style>\n",
       "<table border=\"1\" class=\"dataframe\">\n",
       "  <thead>\n",
       "    <tr style=\"text-align: right;\">\n",
       "      <th></th>\n",
       "      <th>timestamp</th>\n",
       "      <th>cnt</th>\n",
       "      <th>upper_bound</th>\n",
       "      <th>lower_bound</th>\n",
       "    </tr>\n",
       "  </thead>\n",
       "  <tbody>\n",
       "    <tr>\n",
       "      <th>186</th>\n",
       "      <td>2015-07-09</td>\n",
       "      <td>72504</td>\n",
       "      <td>62447.919188</td>\n",
       "      <td>38962.080812</td>\n",
       "    </tr>\n",
       "    <tr>\n",
       "      <th>214</th>\n",
       "      <td>2015-08-06</td>\n",
       "      <td>63468</td>\n",
       "      <td>58370.252521</td>\n",
       "      <td>34884.414146</td>\n",
       "    </tr>\n",
       "    <tr>\n",
       "      <th>609</th>\n",
       "      <td>2016-09-04</td>\n",
       "      <td>27512</td>\n",
       "      <td>26001.919188</td>\n",
       "      <td>2516.080812</td>\n",
       "    </tr>\n",
       "    <tr>\n",
       "      <th>721</th>\n",
       "      <td>2016-12-25</td>\n",
       "      <td>36653</td>\n",
       "      <td>31393.585854</td>\n",
       "      <td>7907.747479</td>\n",
       "    </tr>\n",
       "  </tbody>\n",
       "</table>\n",
       "</div>"
      ],
      "text/plain": [
       "     timestamp    cnt   upper_bound   lower_bound\n",
       "186 2015-07-09  72504  62447.919188  38962.080812\n",
       "214 2015-08-06  63468  58370.252521  34884.414146\n",
       "609 2016-09-04  27512  26001.919188   2516.080812\n",
       "721 2016-12-25  36653  31393.585854   7907.747479"
      ]
     },
     "execution_count": 114,
     "metadata": {},
     "output_type": "execute_result"
    }
   ],
   "source": [
    "resample_data.query('cnt > upper_bound')"
   ]
  },
  {
   "cell_type": "markdown",
   "id": "9cf8594f",
   "metadata": {},
   "source": [
    "Наибольшее число аренд было 2015-07-09, давайте выясним причину такого сильного отклонения"
   ]
  },
  {
   "cell_type": "code",
   "execution_count": 158,
   "id": "43c902fe",
   "metadata": {
    "ExecuteTime": {
     "end_time": "2023-03-20T19:02:31.709859Z",
     "start_time": "2023-03-20T19:02:31.502113Z"
    }
   },
   "outputs": [
    {
     "data": {
      "text/html": [
       "<div>\n",
       "<style scoped>\n",
       "    .dataframe tbody tr th:only-of-type {\n",
       "        vertical-align: middle;\n",
       "    }\n",
       "\n",
       "    .dataframe tbody tr th {\n",
       "        vertical-align: top;\n",
       "    }\n",
       "\n",
       "    .dataframe thead th {\n",
       "        text-align: right;\n",
       "    }\n",
       "</style>\n",
       "<table border=\"1\" class=\"dataframe\">\n",
       "  <thead>\n",
       "    <tr style=\"text-align: right;\">\n",
       "      <th></th>\n",
       "      <th>timestamp</th>\n",
       "      <th>cnt</th>\n",
       "      <th>t1</th>\n",
       "      <th>t2</th>\n",
       "      <th>hum</th>\n",
       "      <th>wind_speed</th>\n",
       "      <th>weather_code</th>\n",
       "      <th>is_holiday</th>\n",
       "      <th>is_weekend</th>\n",
       "      <th>season</th>\n",
       "    </tr>\n",
       "  </thead>\n",
       "  <tbody>\n",
       "    <tr>\n",
       "      <th>4453</th>\n",
       "      <td>2015-07-09 00:00:00</td>\n",
       "      <td>400</td>\n",
       "      <td>16.0</td>\n",
       "      <td>16.0</td>\n",
       "      <td>55.0</td>\n",
       "      <td>14.0</td>\n",
       "      <td>1.0</td>\n",
       "      <td>0.0</td>\n",
       "      <td>0.0</td>\n",
       "      <td>1.0</td>\n",
       "    </tr>\n",
       "    <tr>\n",
       "      <th>4454</th>\n",
       "      <td>2015-07-09 01:00:00</td>\n",
       "      <td>212</td>\n",
       "      <td>15.5</td>\n",
       "      <td>15.5</td>\n",
       "      <td>59.0</td>\n",
       "      <td>14.0</td>\n",
       "      <td>1.0</td>\n",
       "      <td>0.0</td>\n",
       "      <td>0.0</td>\n",
       "      <td>1.0</td>\n",
       "    </tr>\n",
       "    <tr>\n",
       "      <th>4455</th>\n",
       "      <td>2015-07-09 02:00:00</td>\n",
       "      <td>111</td>\n",
       "      <td>14.0</td>\n",
       "      <td>14.0</td>\n",
       "      <td>67.0</td>\n",
       "      <td>15.0</td>\n",
       "      <td>1.0</td>\n",
       "      <td>0.0</td>\n",
       "      <td>0.0</td>\n",
       "      <td>1.0</td>\n",
       "    </tr>\n",
       "    <tr>\n",
       "      <th>4456</th>\n",
       "      <td>2015-07-09 03:00:00</td>\n",
       "      <td>81</td>\n",
       "      <td>14.0</td>\n",
       "      <td>14.0</td>\n",
       "      <td>63.0</td>\n",
       "      <td>18.5</td>\n",
       "      <td>1.0</td>\n",
       "      <td>0.0</td>\n",
       "      <td>0.0</td>\n",
       "      <td>1.0</td>\n",
       "    </tr>\n",
       "    <tr>\n",
       "      <th>4457</th>\n",
       "      <td>2015-07-09 04:00:00</td>\n",
       "      <td>76</td>\n",
       "      <td>14.0</td>\n",
       "      <td>14.0</td>\n",
       "      <td>63.0</td>\n",
       "      <td>18.0</td>\n",
       "      <td>1.0</td>\n",
       "      <td>0.0</td>\n",
       "      <td>0.0</td>\n",
       "      <td>1.0</td>\n",
       "    </tr>\n",
       "    <tr>\n",
       "      <th>4458</th>\n",
       "      <td>2015-07-09 05:00:00</td>\n",
       "      <td>269</td>\n",
       "      <td>13.0</td>\n",
       "      <td>13.0</td>\n",
       "      <td>67.0</td>\n",
       "      <td>17.0</td>\n",
       "      <td>1.0</td>\n",
       "      <td>0.0</td>\n",
       "      <td>0.0</td>\n",
       "      <td>1.0</td>\n",
       "    </tr>\n",
       "    <tr>\n",
       "      <th>4459</th>\n",
       "      <td>2015-07-09 06:00:00</td>\n",
       "      <td>1724</td>\n",
       "      <td>13.0</td>\n",
       "      <td>13.0</td>\n",
       "      <td>67.0</td>\n",
       "      <td>16.0</td>\n",
       "      <td>1.0</td>\n",
       "      <td>0.0</td>\n",
       "      <td>0.0</td>\n",
       "      <td>1.0</td>\n",
       "    </tr>\n",
       "    <tr>\n",
       "      <th>4460</th>\n",
       "      <td>2015-07-09 07:00:00</td>\n",
       "      <td>5309</td>\n",
       "      <td>13.5</td>\n",
       "      <td>13.5</td>\n",
       "      <td>65.0</td>\n",
       "      <td>17.0</td>\n",
       "      <td>1.0</td>\n",
       "      <td>0.0</td>\n",
       "      <td>0.0</td>\n",
       "      <td>1.0</td>\n",
       "    </tr>\n",
       "    <tr>\n",
       "      <th>4461</th>\n",
       "      <td>2015-07-09 08:00:00</td>\n",
       "      <td>7531</td>\n",
       "      <td>14.5</td>\n",
       "      <td>14.5</td>\n",
       "      <td>61.0</td>\n",
       "      <td>19.0</td>\n",
       "      <td>2.0</td>\n",
       "      <td>0.0</td>\n",
       "      <td>0.0</td>\n",
       "      <td>1.0</td>\n",
       "    </tr>\n",
       "    <tr>\n",
       "      <th>4462</th>\n",
       "      <td>2015-07-09 09:00:00</td>\n",
       "      <td>4832</td>\n",
       "      <td>15.0</td>\n",
       "      <td>15.0</td>\n",
       "      <td>59.0</td>\n",
       "      <td>16.0</td>\n",
       "      <td>2.0</td>\n",
       "      <td>0.0</td>\n",
       "      <td>0.0</td>\n",
       "      <td>1.0</td>\n",
       "    </tr>\n",
       "    <tr>\n",
       "      <th>4463</th>\n",
       "      <td>2015-07-09 10:00:00</td>\n",
       "      <td>2760</td>\n",
       "      <td>16.5</td>\n",
       "      <td>16.5</td>\n",
       "      <td>50.5</td>\n",
       "      <td>10.0</td>\n",
       "      <td>2.0</td>\n",
       "      <td>0.0</td>\n",
       "      <td>0.0</td>\n",
       "      <td>1.0</td>\n",
       "    </tr>\n",
       "    <tr>\n",
       "      <th>4464</th>\n",
       "      <td>2015-07-09 11:00:00</td>\n",
       "      <td>2627</td>\n",
       "      <td>18.0</td>\n",
       "      <td>18.0</td>\n",
       "      <td>43.0</td>\n",
       "      <td>8.5</td>\n",
       "      <td>2.0</td>\n",
       "      <td>0.0</td>\n",
       "      <td>0.0</td>\n",
       "      <td>1.0</td>\n",
       "    </tr>\n",
       "    <tr>\n",
       "      <th>4465</th>\n",
       "      <td>2015-07-09 12:00:00</td>\n",
       "      <td>2778</td>\n",
       "      <td>19.0</td>\n",
       "      <td>19.0</td>\n",
       "      <td>40.5</td>\n",
       "      <td>9.0</td>\n",
       "      <td>1.0</td>\n",
       "      <td>0.0</td>\n",
       "      <td>0.0</td>\n",
       "      <td>1.0</td>\n",
       "    </tr>\n",
       "    <tr>\n",
       "      <th>4466</th>\n",
       "      <td>2015-07-09 13:00:00</td>\n",
       "      <td>3109</td>\n",
       "      <td>19.5</td>\n",
       "      <td>19.5</td>\n",
       "      <td>36.0</td>\n",
       "      <td>11.0</td>\n",
       "      <td>1.0</td>\n",
       "      <td>0.0</td>\n",
       "      <td>0.0</td>\n",
       "      <td>1.0</td>\n",
       "    </tr>\n",
       "    <tr>\n",
       "      <th>4467</th>\n",
       "      <td>2015-07-09 14:00:00</td>\n",
       "      <td>3231</td>\n",
       "      <td>21.0</td>\n",
       "      <td>21.0</td>\n",
       "      <td>34.0</td>\n",
       "      <td>10.0</td>\n",
       "      <td>1.0</td>\n",
       "      <td>0.0</td>\n",
       "      <td>0.0</td>\n",
       "      <td>1.0</td>\n",
       "    </tr>\n",
       "    <tr>\n",
       "      <th>4468</th>\n",
       "      <td>2015-07-09 15:00:00</td>\n",
       "      <td>4076</td>\n",
       "      <td>22.0</td>\n",
       "      <td>21.0</td>\n",
       "      <td>30.0</td>\n",
       "      <td>9.0</td>\n",
       "      <td>1.0</td>\n",
       "      <td>0.0</td>\n",
       "      <td>0.0</td>\n",
       "      <td>1.0</td>\n",
       "    </tr>\n",
       "    <tr>\n",
       "      <th>4469</th>\n",
       "      <td>2015-07-09 16:00:00</td>\n",
       "      <td>6033</td>\n",
       "      <td>23.0</td>\n",
       "      <td>22.0</td>\n",
       "      <td>26.0</td>\n",
       "      <td>11.0</td>\n",
       "      <td>1.0</td>\n",
       "      <td>0.0</td>\n",
       "      <td>0.0</td>\n",
       "      <td>1.0</td>\n",
       "    </tr>\n",
       "    <tr>\n",
       "      <th>4470</th>\n",
       "      <td>2015-07-09 17:00:00</td>\n",
       "      <td>7860</td>\n",
       "      <td>23.0</td>\n",
       "      <td>22.0</td>\n",
       "      <td>27.0</td>\n",
       "      <td>11.0</td>\n",
       "      <td>1.0</td>\n",
       "      <td>0.0</td>\n",
       "      <td>0.0</td>\n",
       "      <td>1.0</td>\n",
       "    </tr>\n",
       "    <tr>\n",
       "      <th>4471</th>\n",
       "      <td>2015-07-09 18:00:00</td>\n",
       "      <td>6913</td>\n",
       "      <td>22.5</td>\n",
       "      <td>21.5</td>\n",
       "      <td>29.0</td>\n",
       "      <td>13.0</td>\n",
       "      <td>1.0</td>\n",
       "      <td>0.0</td>\n",
       "      <td>0.0</td>\n",
       "      <td>1.0</td>\n",
       "    </tr>\n",
       "    <tr>\n",
       "      <th>4472</th>\n",
       "      <td>2015-07-09 19:00:00</td>\n",
       "      <td>4654</td>\n",
       "      <td>22.0</td>\n",
       "      <td>21.0</td>\n",
       "      <td>29.0</td>\n",
       "      <td>7.0</td>\n",
       "      <td>1.0</td>\n",
       "      <td>0.0</td>\n",
       "      <td>0.0</td>\n",
       "      <td>1.0</td>\n",
       "    </tr>\n",
       "    <tr>\n",
       "      <th>4473</th>\n",
       "      <td>2015-07-09 20:00:00</td>\n",
       "      <td>3156</td>\n",
       "      <td>22.0</td>\n",
       "      <td>21.0</td>\n",
       "      <td>32.0</td>\n",
       "      <td>6.5</td>\n",
       "      <td>1.0</td>\n",
       "      <td>0.0</td>\n",
       "      <td>0.0</td>\n",
       "      <td>1.0</td>\n",
       "    </tr>\n",
       "    <tr>\n",
       "      <th>4474</th>\n",
       "      <td>2015-07-09 21:00:00</td>\n",
       "      <td>2179</td>\n",
       "      <td>19.5</td>\n",
       "      <td>19.5</td>\n",
       "      <td>54.5</td>\n",
       "      <td>12.0</td>\n",
       "      <td>1.0</td>\n",
       "      <td>0.0</td>\n",
       "      <td>0.0</td>\n",
       "      <td>1.0</td>\n",
       "    </tr>\n",
       "    <tr>\n",
       "      <th>4475</th>\n",
       "      <td>2015-07-09 22:00:00</td>\n",
       "      <td>1545</td>\n",
       "      <td>18.5</td>\n",
       "      <td>18.5</td>\n",
       "      <td>58.0</td>\n",
       "      <td>16.0</td>\n",
       "      <td>1.0</td>\n",
       "      <td>0.0</td>\n",
       "      <td>0.0</td>\n",
       "      <td>1.0</td>\n",
       "    </tr>\n",
       "    <tr>\n",
       "      <th>4476</th>\n",
       "      <td>2015-07-09 23:00:00</td>\n",
       "      <td>1038</td>\n",
       "      <td>18.0</td>\n",
       "      <td>18.0</td>\n",
       "      <td>60.0</td>\n",
       "      <td>13.0</td>\n",
       "      <td>1.0</td>\n",
       "      <td>0.0</td>\n",
       "      <td>0.0</td>\n",
       "      <td>1.0</td>\n",
       "    </tr>\n",
       "  </tbody>\n",
       "</table>\n",
       "</div>"
      ],
      "text/plain": [
       "               timestamp   cnt    t1    t2   hum  wind_speed  weather_code  \\\n",
       "4453 2015-07-09 00:00:00   400  16.0  16.0  55.0        14.0           1.0   \n",
       "4454 2015-07-09 01:00:00   212  15.5  15.5  59.0        14.0           1.0   \n",
       "4455 2015-07-09 02:00:00   111  14.0  14.0  67.0        15.0           1.0   \n",
       "4456 2015-07-09 03:00:00    81  14.0  14.0  63.0        18.5           1.0   \n",
       "4457 2015-07-09 04:00:00    76  14.0  14.0  63.0        18.0           1.0   \n",
       "4458 2015-07-09 05:00:00   269  13.0  13.0  67.0        17.0           1.0   \n",
       "4459 2015-07-09 06:00:00  1724  13.0  13.0  67.0        16.0           1.0   \n",
       "4460 2015-07-09 07:00:00  5309  13.5  13.5  65.0        17.0           1.0   \n",
       "4461 2015-07-09 08:00:00  7531  14.5  14.5  61.0        19.0           2.0   \n",
       "4462 2015-07-09 09:00:00  4832  15.0  15.0  59.0        16.0           2.0   \n",
       "4463 2015-07-09 10:00:00  2760  16.5  16.5  50.5        10.0           2.0   \n",
       "4464 2015-07-09 11:00:00  2627  18.0  18.0  43.0         8.5           2.0   \n",
       "4465 2015-07-09 12:00:00  2778  19.0  19.0  40.5         9.0           1.0   \n",
       "4466 2015-07-09 13:00:00  3109  19.5  19.5  36.0        11.0           1.0   \n",
       "4467 2015-07-09 14:00:00  3231  21.0  21.0  34.0        10.0           1.0   \n",
       "4468 2015-07-09 15:00:00  4076  22.0  21.0  30.0         9.0           1.0   \n",
       "4469 2015-07-09 16:00:00  6033  23.0  22.0  26.0        11.0           1.0   \n",
       "4470 2015-07-09 17:00:00  7860  23.0  22.0  27.0        11.0           1.0   \n",
       "4471 2015-07-09 18:00:00  6913  22.5  21.5  29.0        13.0           1.0   \n",
       "4472 2015-07-09 19:00:00  4654  22.0  21.0  29.0         7.0           1.0   \n",
       "4473 2015-07-09 20:00:00  3156  22.0  21.0  32.0         6.5           1.0   \n",
       "4474 2015-07-09 21:00:00  2179  19.5  19.5  54.5        12.0           1.0   \n",
       "4475 2015-07-09 22:00:00  1545  18.5  18.5  58.0        16.0           1.0   \n",
       "4476 2015-07-09 23:00:00  1038  18.0  18.0  60.0        13.0           1.0   \n",
       "\n",
       "      is_holiday  is_weekend  season  \n",
       "4453         0.0         0.0     1.0  \n",
       "4454         0.0         0.0     1.0  \n",
       "4455         0.0         0.0     1.0  \n",
       "4456         0.0         0.0     1.0  \n",
       "4457         0.0         0.0     1.0  \n",
       "4458         0.0         0.0     1.0  \n",
       "4459         0.0         0.0     1.0  \n",
       "4460         0.0         0.0     1.0  \n",
       "4461         0.0         0.0     1.0  \n",
       "4462         0.0         0.0     1.0  \n",
       "4463         0.0         0.0     1.0  \n",
       "4464         0.0         0.0     1.0  \n",
       "4465         0.0         0.0     1.0  \n",
       "4466         0.0         0.0     1.0  \n",
       "4467         0.0         0.0     1.0  \n",
       "4468         0.0         0.0     1.0  \n",
       "4469         0.0         0.0     1.0  \n",
       "4470         0.0         0.0     1.0  \n",
       "4471         0.0         0.0     1.0  \n",
       "4472         0.0         0.0     1.0  \n",
       "4473         0.0         0.0     1.0  \n",
       "4474         0.0         0.0     1.0  \n",
       "4475         0.0         0.0     1.0  \n",
       "4476         0.0         0.0     1.0  "
      ]
     },
     "execution_count": 158,
     "metadata": {},
     "output_type": "execute_result"
    }
   ],
   "source": [
    "# посмотрим на данные за все 24 часа\n",
    "data[data.timestamp.dt.strftime('%Y-%m-%d') == '2015-07-09']"
   ]
  },
  {
   "cell_type": "code",
   "execution_count": 159,
   "id": "f5ffce08",
   "metadata": {
    "ExecuteTime": {
     "end_time": "2023-03-20T19:02:56.860136Z",
     "start_time": "2023-03-20T19:02:56.839070Z"
    }
   },
   "outputs": [
    {
     "data": {
      "text/html": [
       "<div>\n",
       "<style scoped>\n",
       "    .dataframe tbody tr th:only-of-type {\n",
       "        vertical-align: middle;\n",
       "    }\n",
       "\n",
       "    .dataframe tbody tr th {\n",
       "        vertical-align: top;\n",
       "    }\n",
       "\n",
       "    .dataframe thead th {\n",
       "        text-align: right;\n",
       "    }\n",
       "</style>\n",
       "<table border=\"1\" class=\"dataframe\">\n",
       "  <thead>\n",
       "    <tr style=\"text-align: right;\">\n",
       "      <th></th>\n",
       "      <th>timestamp</th>\n",
       "      <th>cnt</th>\n",
       "      <th>t1</th>\n",
       "      <th>t2</th>\n",
       "      <th>hum</th>\n",
       "      <th>wind_speed</th>\n",
       "      <th>weather_code</th>\n",
       "      <th>is_holiday</th>\n",
       "      <th>is_weekend</th>\n",
       "      <th>season</th>\n",
       "    </tr>\n",
       "  </thead>\n",
       "  <tbody>\n",
       "  </tbody>\n",
       "</table>\n",
       "</div>"
      ],
      "text/plain": [
       "Empty DataFrame\n",
       "Columns: [timestamp, cnt, t1, t2, hum, wind_speed, weather_code, is_holiday, is_weekend, season]\n",
       "Index: []"
      ]
     },
     "execution_count": 159,
     "metadata": {},
     "output_type": "execute_result"
    }
   ],
   "source": [
    "# проверим на наличие дубликатов\n",
    "data[data.duplicated()]"
   ]
  },
  {
   "cell_type": "markdown",
   "id": "c260ebac",
   "metadata": {},
   "source": [
    "Немного погуглим и выясним, что в этот день в лондоне случился транспортный коллапс"
   ]
  },
  {
   "cell_type": "code",
   "execution_count": 161,
   "id": "dbfe44f5",
   "metadata": {
    "ExecuteTime": {
     "end_time": "2023-03-20T19:12:14.486015Z",
     "start_time": "2023-03-20T19:12:14.465975Z"
    }
   },
   "outputs": [
    {
     "data": {
      "text/html": [
       "<div>\n",
       "<style scoped>\n",
       "    .dataframe tbody tr th:only-of-type {\n",
       "        vertical-align: middle;\n",
       "    }\n",
       "\n",
       "    .dataframe tbody tr th {\n",
       "        vertical-align: top;\n",
       "    }\n",
       "\n",
       "    .dataframe thead th {\n",
       "        text-align: right;\n",
       "    }\n",
       "</style>\n",
       "<table border=\"1\" class=\"dataframe\">\n",
       "  <thead>\n",
       "    <tr style=\"text-align: right;\">\n",
       "      <th></th>\n",
       "      <th>timestamp</th>\n",
       "      <th>cnt</th>\n",
       "      <th>upper_bound</th>\n",
       "      <th>lower_bound</th>\n",
       "    </tr>\n",
       "  </thead>\n",
       "  <tbody>\n",
       "    <tr>\n",
       "      <th>130</th>\n",
       "      <td>2015-05-14</td>\n",
       "      <td>15609</td>\n",
       "      <td>40452.252521</td>\n",
       "      <td>16966.414146</td>\n",
       "    </tr>\n",
       "    <tr>\n",
       "      <th>189</th>\n",
       "      <td>2015-07-12</td>\n",
       "      <td>23240</td>\n",
       "      <td>47779.585854</td>\n",
       "      <td>24293.747479</td>\n",
       "    </tr>\n",
       "    <tr>\n",
       "      <th>201</th>\n",
       "      <td>2015-07-24</td>\n",
       "      <td>16034</td>\n",
       "      <td>42756.585854</td>\n",
       "      <td>19270.747479</td>\n",
       "    </tr>\n",
       "    <tr>\n",
       "      <th>232</th>\n",
       "      <td>2015-08-24</td>\n",
       "      <td>17400</td>\n",
       "      <td>41272.252521</td>\n",
       "      <td>17786.414146</td>\n",
       "    </tr>\n",
       "    <tr>\n",
       "      <th>314</th>\n",
       "      <td>2015-11-14</td>\n",
       "      <td>8898</td>\n",
       "      <td>32780.252521</td>\n",
       "      <td>9294.414146</td>\n",
       "    </tr>\n",
       "    <tr>\n",
       "      <th>607</th>\n",
       "      <td>2016-09-02</td>\n",
       "      <td>0</td>\n",
       "      <td>37829.252521</td>\n",
       "      <td>14343.414146</td>\n",
       "    </tr>\n",
       "    <tr>\n",
       "      <th>615</th>\n",
       "      <td>2016-09-10</td>\n",
       "      <td>17080</td>\n",
       "      <td>43004.919188</td>\n",
       "      <td>19519.080812</td>\n",
       "    </tr>\n",
       "    <tr>\n",
       "      <th>621</th>\n",
       "      <td>2016-09-16</td>\n",
       "      <td>21967</td>\n",
       "      <td>47936.252521</td>\n",
       "      <td>24450.414146</td>\n",
       "    </tr>\n",
       "    <tr>\n",
       "      <th>678</th>\n",
       "      <td>2016-11-12</td>\n",
       "      <td>8990</td>\n",
       "      <td>32620.919188</td>\n",
       "      <td>9135.080812</td>\n",
       "    </tr>\n",
       "  </tbody>\n",
       "</table>\n",
       "</div>"
      ],
      "text/plain": [
       "     timestamp    cnt   upper_bound   lower_bound\n",
       "130 2015-05-14  15609  40452.252521  16966.414146\n",
       "189 2015-07-12  23240  47779.585854  24293.747479\n",
       "201 2015-07-24  16034  42756.585854  19270.747479\n",
       "232 2015-08-24  17400  41272.252521  17786.414146\n",
       "314 2015-11-14   8898  32780.252521   9294.414146\n",
       "607 2016-09-02      0  37829.252521  14343.414146\n",
       "615 2016-09-10  17080  43004.919188  19519.080812\n",
       "621 2016-09-16  21967  47936.252521  24450.414146\n",
       "678 2016-11-12   8990  32620.919188   9135.080812"
      ]
     },
     "execution_count": 161,
     "metadata": {},
     "output_type": "execute_result"
    }
   ],
   "source": [
    "resample_data.query('cnt < lower_bound')"
   ]
  },
  {
   "cell_type": "code",
   "execution_count": 162,
   "id": "91260490",
   "metadata": {
    "ExecuteTime": {
     "end_time": "2023-03-20T19:13:03.479755Z",
     "start_time": "2023-03-20T19:13:03.325526Z"
    }
   },
   "outputs": [
    {
     "data": {
      "text/html": [
       "<div>\n",
       "<style scoped>\n",
       "    .dataframe tbody tr th:only-of-type {\n",
       "        vertical-align: middle;\n",
       "    }\n",
       "\n",
       "    .dataframe tbody tr th {\n",
       "        vertical-align: top;\n",
       "    }\n",
       "\n",
       "    .dataframe thead th {\n",
       "        text-align: right;\n",
       "    }\n",
       "</style>\n",
       "<table border=\"1\" class=\"dataframe\">\n",
       "  <thead>\n",
       "    <tr style=\"text-align: right;\">\n",
       "      <th></th>\n",
       "      <th>timestamp</th>\n",
       "      <th>cnt</th>\n",
       "      <th>t1</th>\n",
       "      <th>t2</th>\n",
       "      <th>hum</th>\n",
       "      <th>wind_speed</th>\n",
       "      <th>weather_code</th>\n",
       "      <th>is_holiday</th>\n",
       "      <th>is_weekend</th>\n",
       "      <th>season</th>\n",
       "    </tr>\n",
       "  </thead>\n",
       "  <tbody>\n",
       "  </tbody>\n",
       "</table>\n",
       "</div>"
      ],
      "text/plain": [
       "Empty DataFrame\n",
       "Columns: [timestamp, cnt, t1, t2, hum, wind_speed, weather_code, is_holiday, is_weekend, season]\n",
       "Index: []"
      ]
     },
     "execution_count": 162,
     "metadata": {},
     "output_type": "execute_result"
    }
   ],
   "source": [
    "# посмотрим на данные за все 24 часа\n",
    "data[data.timestamp.dt.strftime('%Y-%m-%d') == '2016-09-02']"
   ]
  },
  {
   "cell_type": "markdown",
   "id": "7c89d1ed",
   "metadata": {},
   "source": [
    "Судя по всему ошибка при сборе данных: данные могли не записаться"
   ]
  },
  {
   "cell_type": "code",
   "execution_count": null,
   "id": "b052f1b8",
   "metadata": {},
   "outputs": [],
   "source": []
  }
 ],
 "metadata": {
  "kernelspec": {
   "display_name": "Python 3 (ipykernel)",
   "language": "python",
   "name": "python3"
  },
  "language_info": {
   "codemirror_mode": {
    "name": "ipython",
    "version": 3
   },
   "file_extension": ".py",
   "mimetype": "text/x-python",
   "name": "python",
   "nbconvert_exporter": "python",
   "pygments_lexer": "ipython3",
   "version": "3.10.0"
  },
  "nbTranslate": {
   "displayLangs": [
    "*"
   ],
   "hotkey": "alt-t",
   "langInMainMenu": true,
   "sourceLang": "en",
   "targetLang": "fr",
   "useGoogleTranslate": true
  },
  "toc": {
   "base_numbering": 1,
   "nav_menu": {},
   "number_sections": true,
   "sideBar": true,
   "skip_h1_title": false,
   "title_cell": "Table of Contents",
   "title_sidebar": "Contents",
   "toc_cell": false,
   "toc_position": {},
   "toc_section_display": true,
   "toc_window_display": false
  },
  "varInspector": {
   "cols": {
    "lenName": 16,
    "lenType": 16,
    "lenVar": 40
   },
   "kernels_config": {
    "python": {
     "delete_cmd_postfix": "",
     "delete_cmd_prefix": "del ",
     "library": "var_list.py",
     "varRefreshCmd": "print(var_dic_list())"
    },
    "r": {
     "delete_cmd_postfix": ") ",
     "delete_cmd_prefix": "rm(",
     "library": "var_list.r",
     "varRefreshCmd": "cat(var_dic_list()) "
    }
   },
   "types_to_exclude": [
    "module",
    "function",
    "builtin_function_or_method",
    "instance",
    "_Feature"
   ],
   "window_display": false
  }
 },
 "nbformat": 4,
 "nbformat_minor": 5
}
