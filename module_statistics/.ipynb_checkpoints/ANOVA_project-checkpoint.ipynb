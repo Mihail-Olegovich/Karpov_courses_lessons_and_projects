{
 "cells": [
  {
   "cell_type": "code",
   "execution_count": 1,
   "id": "990cec2d",
   "metadata": {
    "ExecuteTime": {
     "end_time": "2023-04-08T08:15:26.044766Z",
     "start_time": "2023-04-08T08:15:20.608308Z"
    }
   },
   "outputs": [],
   "source": [
    "import pandas as pd\n",
    "import numpy as np\n",
    "\n",
    "import scipy.stats as ss\n",
    "import statsmodels.api as sm\n",
    "import statsmodels.formula.api as smf\n",
    "from statsmodels.stats.api import anova_lm\n",
    "from statsmodels.stats.multicomp import (pairwise_tukeyhsd,\n",
    "                                         MultiComparison)\n",
    "import pingouin as pg\n",
    "\n",
    "import matplotlib.pyplot as plt\n",
    "import seaborn as sns"
   ]
  },
  {
   "cell_type": "code",
   "execution_count": 2,
   "id": "cd73adde",
   "metadata": {
    "ExecuteTime": {
     "end_time": "2023-04-08T08:15:26.075940Z",
     "start_time": "2023-04-08T08:15:26.044766Z"
    }
   },
   "outputs": [],
   "source": [
    "sns.set(\n",
    "    font_scale=2,\n",
    "    style=\"whitegrid\",\n",
    "    rc={'figure.figsize':(20,7)}\n",
    "        )"
   ]
  },
  {
   "cell_type": "code",
   "execution_count": 3,
   "id": "86fc0e3d",
   "metadata": {
    "ExecuteTime": {
     "end_time": "2023-04-08T08:15:26.143634Z",
     "start_time": "2023-04-08T08:15:26.075940Z"
    }
   },
   "outputs": [],
   "source": [
    "data_1 = pd.read_csv('C:/Users/1/JupyterProjects/Karpov_courses_lessons_and_projects/module_statistics/all_data/5_task_1.csv')"
   ]
  },
  {
   "cell_type": "code",
   "execution_count": 4,
   "id": "cb9841ec",
   "metadata": {
    "ExecuteTime": {
     "end_time": "2023-04-08T08:15:26.176679Z",
     "start_time": "2023-04-08T08:15:26.146609Z"
    }
   },
   "outputs": [
    {
     "data": {
      "text/html": [
       "<div>\n",
       "<style scoped>\n",
       "    .dataframe tbody tr th:only-of-type {\n",
       "        vertical-align: middle;\n",
       "    }\n",
       "\n",
       "    .dataframe tbody tr th {\n",
       "        vertical-align: top;\n",
       "    }\n",
       "\n",
       "    .dataframe thead th {\n",
       "        text-align: right;\n",
       "    }\n",
       "</style>\n",
       "<table border=\"1\" class=\"dataframe\">\n",
       "  <thead>\n",
       "    <tr style=\"text-align: right;\">\n",
       "      <th></th>\n",
       "      <th>id</th>\n",
       "      <th>group</th>\n",
       "      <th>events</th>\n",
       "    </tr>\n",
       "  </thead>\n",
       "  <tbody>\n",
       "    <tr>\n",
       "      <th>0</th>\n",
       "      <td>16046</td>\n",
       "      <td>A</td>\n",
       "      <td>14</td>\n",
       "    </tr>\n",
       "    <tr>\n",
       "      <th>1</th>\n",
       "      <td>18712</td>\n",
       "      <td>A</td>\n",
       "      <td>41</td>\n",
       "    </tr>\n",
       "    <tr>\n",
       "      <th>2</th>\n",
       "      <td>3268</td>\n",
       "      <td>A</td>\n",
       "      <td>30</td>\n",
       "    </tr>\n",
       "    <tr>\n",
       "      <th>3</th>\n",
       "      <td>22633</td>\n",
       "      <td>A</td>\n",
       "      <td>37</td>\n",
       "    </tr>\n",
       "    <tr>\n",
       "      <th>4</th>\n",
       "      <td>28071</td>\n",
       "      <td>A</td>\n",
       "      <td>38</td>\n",
       "    </tr>\n",
       "    <tr>\n",
       "      <th>...</th>\n",
       "      <td>...</td>\n",
       "      <td>...</td>\n",
       "      <td>...</td>\n",
       "    </tr>\n",
       "    <tr>\n",
       "      <th>29995</th>\n",
       "      <td>22932</td>\n",
       "      <td>C</td>\n",
       "      <td>38</td>\n",
       "    </tr>\n",
       "    <tr>\n",
       "      <th>29996</th>\n",
       "      <td>21787</td>\n",
       "      <td>C</td>\n",
       "      <td>25</td>\n",
       "    </tr>\n",
       "    <tr>\n",
       "      <th>29997</th>\n",
       "      <td>5054</td>\n",
       "      <td>C</td>\n",
       "      <td>34</td>\n",
       "    </tr>\n",
       "    <tr>\n",
       "      <th>29998</th>\n",
       "      <td>10254</td>\n",
       "      <td>C</td>\n",
       "      <td>27</td>\n",
       "    </tr>\n",
       "    <tr>\n",
       "      <th>29999</th>\n",
       "      <td>5692</td>\n",
       "      <td>C</td>\n",
       "      <td>49</td>\n",
       "    </tr>\n",
       "  </tbody>\n",
       "</table>\n",
       "<p>30000 rows × 3 columns</p>\n",
       "</div>"
      ],
      "text/plain": [
       "          id group  events\n",
       "0      16046     A      14\n",
       "1      18712     A      41\n",
       "2       3268     A      30\n",
       "3      22633     A      37\n",
       "4      28071     A      38\n",
       "...      ...   ...     ...\n",
       "29995  22932     C      38\n",
       "29996  21787     C      25\n",
       "29997   5054     C      34\n",
       "29998  10254     C      27\n",
       "29999   5692     C      49\n",
       "\n",
       "[30000 rows x 3 columns]"
      ]
     },
     "execution_count": 4,
     "metadata": {},
     "output_type": "execute_result"
    }
   ],
   "source": [
    "data_1"
   ]
  },
  {
   "cell_type": "code",
   "execution_count": 5,
   "id": "bc61aaa1",
   "metadata": {
    "ExecuteTime": {
     "end_time": "2023-04-08T08:15:26.215362Z",
     "start_time": "2023-04-08T08:15:26.177881Z"
    }
   },
   "outputs": [
    {
     "name": "stdout",
     "output_type": "stream",
     "text": [
      "<class 'pandas.core.frame.DataFrame'>\n",
      "RangeIndex: 30000 entries, 0 to 29999\n",
      "Data columns (total 3 columns):\n",
      " #   Column  Non-Null Count  Dtype \n",
      "---  ------  --------------  ----- \n",
      " 0   id      30000 non-null  int64 \n",
      " 1   group   30000 non-null  object\n",
      " 2   events  30000 non-null  int64 \n",
      "dtypes: int64(2), object(1)\n",
      "memory usage: 703.2+ KB\n"
     ]
    }
   ],
   "source": [
    "data_1.info()"
   ]
  },
  {
   "cell_type": "markdown",
   "id": "7145ab2b",
   "metadata": {},
   "source": [
    "В первом эксперименте тестировали разрешение фотографий блюд в приложении: пользователям показывались либо прямоугольные, либо новые квадратные "
   ]
  },
  {
   "cell_type": "markdown",
   "id": "f8876fa2",
   "metadata": {
    "ExecuteTime": {
     "end_time": "2023-03-25T12:19:47.390987Z",
     "start_time": "2023-03-25T12:19:47.352849Z"
    }
   },
   "source": [
    "- id – id клиента в эксперименте\n",
    "\n",
    "- group – в каком разрешении показывались картинки (A – прямоугольные 16:9, B – квадратные, C – прямоугольные 12:4)\n",
    "\n",
    "- events – сколько блюд суммарно было заказано за период"
   ]
  },
  {
   "cell_type": "markdown",
   "id": "82671e93",
   "metadata": {},
   "source": [
    "# Проведем oneway-ANOVA"
   ]
  },
  {
   "cell_type": "markdown",
   "id": "00aabd2c",
   "metadata": {},
   "source": [
    "Для начала проверим гомогенность дисперсий с помощью теста Левина"
   ]
  },
  {
   "cell_type": "code",
   "execution_count": 6,
   "id": "58c795f6",
   "metadata": {
    "ExecuteTime": {
     "end_time": "2023-04-08T08:15:26.256647Z",
     "start_time": "2023-04-08T08:15:26.215362Z"
    }
   },
   "outputs": [
    {
     "data": {
      "text/html": [
       "<div>\n",
       "<style scoped>\n",
       "    .dataframe tbody tr th:only-of-type {\n",
       "        vertical-align: middle;\n",
       "    }\n",
       "\n",
       "    .dataframe tbody tr th {\n",
       "        vertical-align: top;\n",
       "    }\n",
       "\n",
       "    .dataframe thead th {\n",
       "        text-align: right;\n",
       "    }\n",
       "</style>\n",
       "<table border=\"1\" class=\"dataframe\">\n",
       "  <thead>\n",
       "    <tr style=\"text-align: right;\">\n",
       "      <th></th>\n",
       "      <th>W</th>\n",
       "      <th>pval</th>\n",
       "      <th>equal_var</th>\n",
       "    </tr>\n",
       "  </thead>\n",
       "  <tbody>\n",
       "    <tr>\n",
       "      <th>levene</th>\n",
       "      <td>2.26226</td>\n",
       "      <td>0.104133</td>\n",
       "      <td>True</td>\n",
       "    </tr>\n",
       "  </tbody>\n",
       "</table>\n",
       "</div>"
      ],
      "text/plain": [
       "              W      pval  equal_var\n",
       "levene  2.26226  0.104133       True"
      ]
     },
     "execution_count": 6,
     "metadata": {},
     "output_type": "execute_result"
    }
   ],
   "source": [
    "pg.homoscedasticity(data=data_1, dv='events', group='group')"
   ]
  },
  {
   "cell_type": "markdown",
   "id": "d764f99a",
   "metadata": {},
   "source": [
    "Тест показал p-value > 0.05, что не позволяет отклонить нулевую гипотезу о равенстве дисперсий"
   ]
  },
  {
   "cell_type": "markdown",
   "id": "6d165d1a",
   "metadata": {
    "ExecuteTime": {
     "end_time": "2023-03-25T12:28:28.262424Z",
     "start_time": "2023-03-25T12:28:28.222556Z"
    }
   },
   "source": [
    "Проверим, что данные нормально распределены:"
   ]
  },
  {
   "cell_type": "code",
   "execution_count": 7,
   "id": "07ad7b08",
   "metadata": {
    "ExecuteTime": {
     "end_time": "2023-04-08T08:15:26.306815Z",
     "start_time": "2023-04-08T08:15:26.258152Z"
    }
   },
   "outputs": [
    {
     "data": {
      "text/html": [
       "<div>\n",
       "<style scoped>\n",
       "    .dataframe tbody tr th:only-of-type {\n",
       "        vertical-align: middle;\n",
       "    }\n",
       "\n",
       "    .dataframe tbody tr th {\n",
       "        vertical-align: top;\n",
       "    }\n",
       "\n",
       "    .dataframe thead th {\n",
       "        text-align: right;\n",
       "    }\n",
       "</style>\n",
       "<table border=\"1\" class=\"dataframe\">\n",
       "  <thead>\n",
       "    <tr style=\"text-align: right;\">\n",
       "      <th></th>\n",
       "      <th>W</th>\n",
       "      <th>pval</th>\n",
       "      <th>normal</th>\n",
       "    </tr>\n",
       "    <tr>\n",
       "      <th>group</th>\n",
       "      <th></th>\n",
       "      <th></th>\n",
       "      <th></th>\n",
       "    </tr>\n",
       "  </thead>\n",
       "  <tbody>\n",
       "    <tr>\n",
       "      <th>A</th>\n",
       "      <td>2.103460</td>\n",
       "      <td>0.349333</td>\n",
       "      <td>True</td>\n",
       "    </tr>\n",
       "    <tr>\n",
       "      <th>B</th>\n",
       "      <td>0.841072</td>\n",
       "      <td>0.656695</td>\n",
       "      <td>True</td>\n",
       "    </tr>\n",
       "    <tr>\n",
       "      <th>C</th>\n",
       "      <td>3.243726</td>\n",
       "      <td>0.197530</td>\n",
       "      <td>True</td>\n",
       "    </tr>\n",
       "  </tbody>\n",
       "</table>\n",
       "</div>"
      ],
      "text/plain": [
       "              W      pval  normal\n",
       "group                            \n",
       "A      2.103460  0.349333    True\n",
       "B      0.841072  0.656695    True\n",
       "C      3.243726  0.197530    True"
      ]
     },
     "execution_count": 7,
     "metadata": {},
     "output_type": "execute_result"
    }
   ],
   "source": [
    "pg.normality(data=data_1, dv='events', group='group', method='normaltest')"
   ]
  },
  {
   "cell_type": "code",
   "execution_count": 25,
   "id": "cb25dbbc",
   "metadata": {
    "ExecuteTime": {
     "end_time": "2023-04-08T08:20:51.345751Z",
     "start_time": "2023-04-08T08:20:50.303007Z"
    },
    "scrolled": false
   },
   "outputs": [
    {
     "data": {
      "text/plain": [
       "<AxesSubplot:xlabel='Theoretical quantiles', ylabel='Ordered quantiles'>"
      ]
     },
     "execution_count": 25,
     "metadata": {},
     "output_type": "execute_result"
    },
    {
     "data": {
      "image/png": "[encoded data removed]",
      "text/plain": [
       "<Figure size 1080x720 with 3 Axes>"
      ]
     },
     "metadata": {},
     "output_type": "display_data"
    }
   ],
   "source": [
    "fig, ax = plt.subplots(nrows=1, ncols=3, figsize=(15, 10))\n",
    "pg.qqplot(data_1.query('group == \"A\"').events, ax=ax.flatten()[0])\n",
    "pg.qqplot(data_1.query('group == \"B\"').events, ax=ax.flatten()[1])\n",
    "pg.qqplot(data_1.query('group == \"C\"').events, ax=ax.flatten()[2])"
   ]
  },
  {
   "cell_type": "markdown",
   "id": "3a7a4233",
   "metadata": {
    "ExecuteTime": {
     "end_time": "2023-03-25T12:30:27.446556Z",
     "start_time": "2023-03-25T12:30:27.417886Z"
    }
   },
   "source": [
    "Вывод: все группы имеют нормальное распределение"
   ]
  },
  {
   "cell_type": "code",
   "execution_count": 9,
   "id": "1f233b81",
   "metadata": {
    "ExecuteTime": {
     "end_time": "2023-04-08T08:15:27.575038Z",
     "start_time": "2023-04-08T08:15:27.525799Z"
    }
   },
   "outputs": [
    {
     "data": {
      "text/html": [
       "<div>\n",
       "<style scoped>\n",
       "    .dataframe tbody tr th:only-of-type {\n",
       "        vertical-align: middle;\n",
       "    }\n",
       "\n",
       "    .dataframe tbody tr th {\n",
       "        vertical-align: top;\n",
       "    }\n",
       "\n",
       "    .dataframe thead th {\n",
       "        text-align: right;\n",
       "    }\n",
       "</style>\n",
       "<table border=\"1\" class=\"dataframe\">\n",
       "  <thead>\n",
       "    <tr style=\"text-align: right;\">\n",
       "      <th></th>\n",
       "      <th>Source</th>\n",
       "      <th>ddof1</th>\n",
       "      <th>ddof2</th>\n",
       "      <th>F</th>\n",
       "      <th>p-unc</th>\n",
       "      <th>np2</th>\n",
       "    </tr>\n",
       "  </thead>\n",
       "  <tbody>\n",
       "    <tr>\n",
       "      <th>0</th>\n",
       "      <td>group</td>\n",
       "      <td>2</td>\n",
       "      <td>29997</td>\n",
       "      <td>2886.166657</td>\n",
       "      <td>0.0</td>\n",
       "      <td>0.161377</td>\n",
       "    </tr>\n",
       "  </tbody>\n",
       "</table>\n",
       "</div>"
      ],
      "text/plain": [
       "  Source  ddof1  ddof2            F  p-unc       np2\n",
       "0  group      2  29997  2886.166657    0.0  0.161377"
      ]
     },
     "execution_count": 9,
     "metadata": {},
     "output_type": "execute_result"
    }
   ],
   "source": [
    "#считаем ANOVA\n",
    "pg.anova(data=data_1, dv='events', between='group')"
   ]
  },
  {
   "cell_type": "code",
   "execution_count": 28,
   "id": "dd982e0d",
   "metadata": {
    "ExecuteTime": {
     "end_time": "2023-04-08T08:28:16.533134Z",
     "start_time": "2023-04-08T08:28:15.968385Z"
    }
   },
   "outputs": [
    {
     "data": {
      "text/plain": [
       "Text(0, 0.5, 'Число покупок')"
      ]
     },
     "execution_count": 28,
     "metadata": {},
     "output_type": "execute_result"
    },
    {
     "data": {
      "image/png": "[encoded data removed]",
      "text/plain": [
       "<Figure size 1440x504 with 1 Axes>"
      ]
     },
     "metadata": {},
     "output_type": "display_data"
    }
   ],
   "source": [
    "sns.pointplot(data=data_1, x='group', y='events', capsize=.1)\n",
    "plt.title('Число покупок и формат фотографий еды')\n",
    "plt.xlabel('Формат')\n",
    "plt.ylabel('Число покупок')"
   ]
  },
  {
   "cell_type": "markdown",
   "id": "27235446",
   "metadata": {
    "ExecuteTime": {
     "end_time": "2023-03-25T12:53:20.732833Z",
     "start_time": "2023-03-25T12:53:20.704077Z"
    }
   },
   "source": [
    "Для сравнения средних я использую однофакторный дисперсионный анализ. Значение статистики равно 2886, а р-уровень значимости составил 0"
   ]
  },
  {
   "cell_type": "markdown",
   "id": "282336cd",
   "metadata": {},
   "source": [
    "Проведем попарные сравнения групп при помощи различных тестов"
   ]
  },
  {
   "cell_type": "code",
   "execution_count": 11,
   "id": "ca6cd227",
   "metadata": {
    "ExecuteTime": {
     "end_time": "2023-04-08T08:15:28.426764Z",
     "start_time": "2023-04-08T08:15:28.356685Z"
    }
   },
   "outputs": [
    {
     "name": "stderr",
     "output_type": "stream",
     "text": [
      "C:\\Users\\1\\AppData\\Local\\Programs\\Python\\Python310\\lib\\site-packages\\pingouin\\bayesian.py:152: RuntimeWarning: divide by zero encountered in scalar divide\n",
      "  bf10 = 1 / ((1 + t**2 / df) ** (-(df + 1) / 2) / integr)\n",
      "C:\\Users\\1\\AppData\\Local\\Programs\\Python\\Python310\\lib\\site-packages\\pingouin\\bayesian.py:152: RuntimeWarning: divide by zero encountered in scalar divide\n",
      "  bf10 = 1 / ((1 + t**2 / df) ** (-(df + 1) / 2) / integr)\n"
     ]
    },
    {
     "data": {
      "text/html": [
       "<div>\n",
       "<style scoped>\n",
       "    .dataframe tbody tr th:only-of-type {\n",
       "        vertical-align: middle;\n",
       "    }\n",
       "\n",
       "    .dataframe tbody tr th {\n",
       "        vertical-align: top;\n",
       "    }\n",
       "\n",
       "    .dataframe thead th {\n",
       "        text-align: right;\n",
       "    }\n",
       "</style>\n",
       "<table border=\"1\" class=\"dataframe\">\n",
       "  <thead>\n",
       "    <tr style=\"text-align: right;\">\n",
       "      <th></th>\n",
       "      <th>Contrast</th>\n",
       "      <th>A</th>\n",
       "      <th>B</th>\n",
       "      <th>Paired</th>\n",
       "      <th>Parametric</th>\n",
       "      <th>T</th>\n",
       "      <th>dof</th>\n",
       "      <th>alternative</th>\n",
       "      <th>p-unc</th>\n",
       "      <th>BF10</th>\n",
       "      <th>hedges</th>\n",
       "    </tr>\n",
       "  </thead>\n",
       "  <tbody>\n",
       "    <tr>\n",
       "      <th>0</th>\n",
       "      <td>group</td>\n",
       "      <td>A</td>\n",
       "      <td>B</td>\n",
       "      <td>False</td>\n",
       "      <td>True</td>\n",
       "      <td>-57.011134</td>\n",
       "      <td>19998.0</td>\n",
       "      <td>two-sided</td>\n",
       "      <td>0.000000e+00</td>\n",
       "      <td>inf</td>\n",
       "      <td>-0.806229</td>\n",
       "    </tr>\n",
       "    <tr>\n",
       "      <th>1</th>\n",
       "      <td>group</td>\n",
       "      <td>A</td>\n",
       "      <td>C</td>\n",
       "      <td>False</td>\n",
       "      <td>True</td>\n",
       "      <td>14.886135</td>\n",
       "      <td>19998.0</td>\n",
       "      <td>two-sided</td>\n",
       "      <td>7.500262e-50</td>\n",
       "      <td>1.054e+46</td>\n",
       "      <td>0.210514</td>\n",
       "    </tr>\n",
       "    <tr>\n",
       "      <th>2</th>\n",
       "      <td>group</td>\n",
       "      <td>B</td>\n",
       "      <td>C</td>\n",
       "      <td>False</td>\n",
       "      <td>True</td>\n",
       "      <td>72.420220</td>\n",
       "      <td>19998.0</td>\n",
       "      <td>two-sided</td>\n",
       "      <td>0.000000e+00</td>\n",
       "      <td>inf</td>\n",
       "      <td>1.024138</td>\n",
       "    </tr>\n",
       "  </tbody>\n",
       "</table>\n",
       "</div>"
      ],
      "text/plain": [
       "  Contrast  A  B  Paired  Parametric          T      dof alternative  \\\n",
       "0    group  A  B   False        True -57.011134  19998.0   two-sided   \n",
       "1    group  A  C   False        True  14.886135  19998.0   two-sided   \n",
       "2    group  B  C   False        True  72.420220  19998.0   two-sided   \n",
       "\n",
       "          p-unc       BF10    hedges  \n",
       "0  0.000000e+00        inf -0.806229  \n",
       "1  7.500262e-50  1.054e+46  0.210514  \n",
       "2  0.000000e+00        inf  1.024138  "
      ]
     },
     "execution_count": 11,
     "metadata": {},
     "output_type": "execute_result"
    }
   ],
   "source": [
    "#попарные сравнения без поправки\n",
    "pg.pairwise_tests(data=data_1, dv='events', between='group')"
   ]
  },
  {
   "cell_type": "code",
   "execution_count": 12,
   "id": "87c26f90",
   "metadata": {
    "ExecuteTime": {
     "end_time": "2023-04-08T08:15:28.494476Z",
     "start_time": "2023-04-08T08:15:28.427794Z"
    }
   },
   "outputs": [
    {
     "name": "stderr",
     "output_type": "stream",
     "text": [
      "C:\\Users\\1\\AppData\\Local\\Programs\\Python\\Python310\\lib\\site-packages\\pingouin\\bayesian.py:152: RuntimeWarning: divide by zero encountered in scalar divide\n",
      "  bf10 = 1 / ((1 + t**2 / df) ** (-(df + 1) / 2) / integr)\n",
      "C:\\Users\\1\\AppData\\Local\\Programs\\Python\\Python310\\lib\\site-packages\\pingouin\\bayesian.py:152: RuntimeWarning: divide by zero encountered in scalar divide\n",
      "  bf10 = 1 / ((1 + t**2 / df) ** (-(df + 1) / 2) / integr)\n"
     ]
    },
    {
     "data": {
      "text/html": [
       "<div>\n",
       "<style scoped>\n",
       "    .dataframe tbody tr th:only-of-type {\n",
       "        vertical-align: middle;\n",
       "    }\n",
       "\n",
       "    .dataframe tbody tr th {\n",
       "        vertical-align: top;\n",
       "    }\n",
       "\n",
       "    .dataframe thead th {\n",
       "        text-align: right;\n",
       "    }\n",
       "</style>\n",
       "<table border=\"1\" class=\"dataframe\">\n",
       "  <thead>\n",
       "    <tr style=\"text-align: right;\">\n",
       "      <th></th>\n",
       "      <th>Contrast</th>\n",
       "      <th>A</th>\n",
       "      <th>B</th>\n",
       "      <th>Paired</th>\n",
       "      <th>Parametric</th>\n",
       "      <th>T</th>\n",
       "      <th>dof</th>\n",
       "      <th>alternative</th>\n",
       "      <th>p-unc</th>\n",
       "      <th>p-corr</th>\n",
       "      <th>p-adjust</th>\n",
       "      <th>BF10</th>\n",
       "      <th>hedges</th>\n",
       "    </tr>\n",
       "  </thead>\n",
       "  <tbody>\n",
       "    <tr>\n",
       "      <th>0</th>\n",
       "      <td>group</td>\n",
       "      <td>A</td>\n",
       "      <td>B</td>\n",
       "      <td>False</td>\n",
       "      <td>True</td>\n",
       "      <td>-57.011134</td>\n",
       "      <td>19998.0</td>\n",
       "      <td>two-sided</td>\n",
       "      <td>0.000000e+00</td>\n",
       "      <td>0.000000e+00</td>\n",
       "      <td>holm</td>\n",
       "      <td>inf</td>\n",
       "      <td>-0.806229</td>\n",
       "    </tr>\n",
       "    <tr>\n",
       "      <th>1</th>\n",
       "      <td>group</td>\n",
       "      <td>A</td>\n",
       "      <td>C</td>\n",
       "      <td>False</td>\n",
       "      <td>True</td>\n",
       "      <td>14.886135</td>\n",
       "      <td>19998.0</td>\n",
       "      <td>two-sided</td>\n",
       "      <td>7.500262e-50</td>\n",
       "      <td>7.500262e-50</td>\n",
       "      <td>holm</td>\n",
       "      <td>1.054e+46</td>\n",
       "      <td>0.210514</td>\n",
       "    </tr>\n",
       "    <tr>\n",
       "      <th>2</th>\n",
       "      <td>group</td>\n",
       "      <td>B</td>\n",
       "      <td>C</td>\n",
       "      <td>False</td>\n",
       "      <td>True</td>\n",
       "      <td>72.420220</td>\n",
       "      <td>19998.0</td>\n",
       "      <td>two-sided</td>\n",
       "      <td>0.000000e+00</td>\n",
       "      <td>0.000000e+00</td>\n",
       "      <td>holm</td>\n",
       "      <td>inf</td>\n",
       "      <td>1.024138</td>\n",
       "    </tr>\n",
       "  </tbody>\n",
       "</table>\n",
       "</div>"
      ],
      "text/plain": [
       "  Contrast  A  B  Paired  Parametric          T      dof alternative  \\\n",
       "0    group  A  B   False        True -57.011134  19998.0   two-sided   \n",
       "1    group  A  C   False        True  14.886135  19998.0   two-sided   \n",
       "2    group  B  C   False        True  72.420220  19998.0   two-sided   \n",
       "\n",
       "          p-unc        p-corr p-adjust       BF10    hedges  \n",
       "0  0.000000e+00  0.000000e+00     holm        inf -0.806229  \n",
       "1  7.500262e-50  7.500262e-50     holm  1.054e+46  0.210514  \n",
       "2  0.000000e+00  0.000000e+00     holm        inf  1.024138  "
      ]
     },
     "execution_count": 12,
     "metadata": {},
     "output_type": "execute_result"
    }
   ],
   "source": [
    "#попарные сравнения с поправкой Бонферрони\n",
    "pg.pairwise_tests(data=data_1, dv='events', between='group', padjust='holm')"
   ]
  },
  {
   "cell_type": "code",
   "execution_count": 13,
   "id": "b97e448f",
   "metadata": {
    "ExecuteTime": {
     "end_time": "2023-04-08T08:15:28.684825Z",
     "start_time": "2023-04-08T08:15:28.494476Z"
    }
   },
   "outputs": [
    {
     "data": {
      "text/html": [
       "<div>\n",
       "<style scoped>\n",
       "    .dataframe tbody tr th:only-of-type {\n",
       "        vertical-align: middle;\n",
       "    }\n",
       "\n",
       "    .dataframe tbody tr th {\n",
       "        vertical-align: top;\n",
       "    }\n",
       "\n",
       "    .dataframe thead th {\n",
       "        text-align: right;\n",
       "    }\n",
       "</style>\n",
       "<table border=\"1\" class=\"dataframe\">\n",
       "  <thead>\n",
       "    <tr style=\"text-align: right;\">\n",
       "      <th></th>\n",
       "      <th>A</th>\n",
       "      <th>B</th>\n",
       "      <th>mean(A)</th>\n",
       "      <th>mean(B)</th>\n",
       "      <th>diff</th>\n",
       "      <th>se</th>\n",
       "      <th>T</th>\n",
       "      <th>p-tukey</th>\n",
       "      <th>hedges</th>\n",
       "    </tr>\n",
       "  </thead>\n",
       "  <tbody>\n",
       "    <tr>\n",
       "      <th>0</th>\n",
       "      <td>A</td>\n",
       "      <td>B</td>\n",
       "      <td>29.5796</td>\n",
       "      <td>37.6136</td>\n",
       "      <td>-8.0340</td>\n",
       "      <td>0.140894</td>\n",
       "      <td>-57.021604</td>\n",
       "      <td>0.0</td>\n",
       "      <td>-0.806229</td>\n",
       "    </tr>\n",
       "    <tr>\n",
       "      <th>1</th>\n",
       "      <td>A</td>\n",
       "      <td>C</td>\n",
       "      <td>29.5796</td>\n",
       "      <td>27.4703</td>\n",
       "      <td>2.1093</td>\n",
       "      <td>0.140894</td>\n",
       "      <td>14.970833</td>\n",
       "      <td>0.0</td>\n",
       "      <td>0.210514</td>\n",
       "    </tr>\n",
       "    <tr>\n",
       "      <th>2</th>\n",
       "      <td>B</td>\n",
       "      <td>C</td>\n",
       "      <td>37.6136</td>\n",
       "      <td>27.4703</td>\n",
       "      <td>10.1433</td>\n",
       "      <td>0.140894</td>\n",
       "      <td>71.992436</td>\n",
       "      <td>0.0</td>\n",
       "      <td>1.024138</td>\n",
       "    </tr>\n",
       "  </tbody>\n",
       "</table>\n",
       "</div>"
      ],
      "text/plain": [
       "   A  B  mean(A)  mean(B)     diff        se          T  p-tukey    hedges\n",
       "0  A  B  29.5796  37.6136  -8.0340  0.140894 -57.021604      0.0 -0.806229\n",
       "1  A  C  29.5796  27.4703   2.1093  0.140894  14.970833      0.0  0.210514\n",
       "2  B  C  37.6136  27.4703  10.1433  0.140894  71.992436      0.0  1.024138"
      ]
     },
     "execution_count": 13,
     "metadata": {},
     "output_type": "execute_result"
    }
   ],
   "source": [
    "# тьюки\n",
    "pg.pairwise_tukey(data=data_1, dv='events', between='group')"
   ]
  },
  {
   "cell_type": "markdown",
   "id": "0b0494d4",
   "metadata": {
    "ExecuteTime": {
     "end_time": "2023-03-25T13:13:05.258403Z",
     "start_time": "2023-03-25T13:13:05.230538Z"
    }
   },
   "source": [
    "Все тесты показывают статзначимые различия. Вывод: используем квадратные картинки(группа B)"
   ]
  },
  {
   "cell_type": "markdown",
   "id": "226ced31",
   "metadata": {},
   "source": [
    "# Проведем twoway-ANOVA"
   ]
  },
  {
   "cell_type": "code",
   "execution_count": 14,
   "id": "7e8535fc",
   "metadata": {
    "ExecuteTime": {
     "end_time": "2023-04-08T08:15:28.777092Z",
     "start_time": "2023-04-08T08:15:28.684825Z"
    }
   },
   "outputs": [],
   "source": [
    "data_2 = pd.read_csv('C:/Users/1/JupyterProjects/Karpov_courses_lessons_and_projects/module_statistics/all_data/5_task_2.csv')"
   ]
  },
  {
   "cell_type": "code",
   "execution_count": 15,
   "id": "02dd766c",
   "metadata": {
    "ExecuteTime": {
     "end_time": "2023-04-08T08:15:28.802659Z",
     "start_time": "2023-04-08T08:15:28.778671Z"
    }
   },
   "outputs": [
    {
     "data": {
      "text/html": [
       "<div>\n",
       "<style scoped>\n",
       "    .dataframe tbody tr th:only-of-type {\n",
       "        vertical-align: middle;\n",
       "    }\n",
       "\n",
       "    .dataframe tbody tr th {\n",
       "        vertical-align: top;\n",
       "    }\n",
       "\n",
       "    .dataframe thead th {\n",
       "        text-align: right;\n",
       "    }\n",
       "</style>\n",
       "<table border=\"1\" class=\"dataframe\">\n",
       "  <thead>\n",
       "    <tr style=\"text-align: right;\">\n",
       "      <th></th>\n",
       "      <th>id</th>\n",
       "      <th>group</th>\n",
       "      <th>segment</th>\n",
       "      <th>events</th>\n",
       "    </tr>\n",
       "  </thead>\n",
       "  <tbody>\n",
       "    <tr>\n",
       "      <th>0</th>\n",
       "      <td>83440</td>\n",
       "      <td>test</td>\n",
       "      <td>high</td>\n",
       "      <td>78.0</td>\n",
       "    </tr>\n",
       "    <tr>\n",
       "      <th>1</th>\n",
       "      <td>96723</td>\n",
       "      <td>test</td>\n",
       "      <td>high</td>\n",
       "      <td>71.0</td>\n",
       "    </tr>\n",
       "    <tr>\n",
       "      <th>2</th>\n",
       "      <td>68719</td>\n",
       "      <td>test</td>\n",
       "      <td>high</td>\n",
       "      <td>80.0</td>\n",
       "    </tr>\n",
       "    <tr>\n",
       "      <th>3</th>\n",
       "      <td>50399</td>\n",
       "      <td>test</td>\n",
       "      <td>high</td>\n",
       "      <td>80.0</td>\n",
       "    </tr>\n",
       "    <tr>\n",
       "      <th>4</th>\n",
       "      <td>95613</td>\n",
       "      <td>test</td>\n",
       "      <td>high</td>\n",
       "      <td>78.0</td>\n",
       "    </tr>\n",
       "  </tbody>\n",
       "</table>\n",
       "</div>"
      ],
      "text/plain": [
       "      id group segment  events\n",
       "0  83440  test    high    78.0\n",
       "1  96723  test    high    71.0\n",
       "2  68719  test    high    80.0\n",
       "3  50399  test    high    80.0\n",
       "4  95613  test    high    78.0"
      ]
     },
     "execution_count": 15,
     "metadata": {},
     "output_type": "execute_result"
    }
   ],
   "source": [
    "data_2.head()"
   ]
  },
  {
   "cell_type": "markdown",
   "id": "e1cda9f3",
   "metadata": {
    "ExecuteTime": {
     "end_time": "2023-03-25T13:15:20.896899Z",
     "start_time": "2023-03-25T13:15:20.868234Z"
    }
   },
   "source": [
    "- id – id клиента в эксперименте\n",
    "\n",
    "- segment – сегмент (high/low)\n",
    "\n",
    "- group – вид кнопки (control – старая версия, test – новая версия)\n",
    "\n",
    "- events – сколько блюд суммарно было заказано за период"
   ]
  },
  {
   "cell_type": "code",
   "execution_count": 16,
   "id": "e172bdb0",
   "metadata": {
    "ExecuteTime": {
     "end_time": "2023-04-08T08:15:28.861995Z",
     "start_time": "2023-04-08T08:15:28.806447Z"
    }
   },
   "outputs": [
    {
     "name": "stdout",
     "output_type": "stream",
     "text": [
      "<class 'pandas.core.frame.DataFrame'>\n",
      "RangeIndex: 100000 entries, 0 to 99999\n",
      "Data columns (total 4 columns):\n",
      " #   Column   Non-Null Count   Dtype  \n",
      "---  ------   --------------   -----  \n",
      " 0   id       100000 non-null  int64  \n",
      " 1   group    100000 non-null  object \n",
      " 2   segment  100000 non-null  object \n",
      " 3   events   100000 non-null  float64\n",
      "dtypes: float64(1), int64(1), object(2)\n",
      "memory usage: 3.1+ MB\n"
     ]
    }
   ],
   "source": [
    "data_2.info()"
   ]
  },
  {
   "cell_type": "markdown",
   "id": "4790ccc2",
   "metadata": {},
   "source": [
    "Визуализируем распределения events для контрольной и тестовой групп."
   ]
  },
  {
   "cell_type": "code",
   "execution_count": 17,
   "id": "e08ef89c",
   "metadata": {
    "ExecuteTime": {
     "end_time": "2023-04-08T08:15:29.226076Z",
     "start_time": "2023-04-08T08:15:28.863033Z"
    }
   },
   "outputs": [
    {
     "name": "stderr",
     "output_type": "stream",
     "text": [
      "C:\\Users\\1\\AppData\\Local\\Programs\\Python\\Python310\\lib\\site-packages\\seaborn\\distributions.py:2619: FutureWarning: `distplot` is a deprecated function and will be removed in a future version. Please adapt your code to use either `displot` (a figure-level function with similar flexibility) or `histplot` (an axes-level function for histograms).\n",
      "  warnings.warn(msg, FutureWarning)\n"
     ]
    },
    {
     "data": {
      "text/plain": [
       "Text(0.5, 1.0, 'control')"
      ]
     },
     "execution_count": 17,
     "metadata": {},
     "output_type": "execute_result"
    },
    {
     "data": {
      "image/png": "[encoded data removed]",
      "text/plain": [
       "<Figure size 1440x504 with 1 Axes>"
      ]
     },
     "metadata": {},
     "output_type": "display_data"
    }
   ],
   "source": [
    "ax = sns.distplot(data_2.query('group == \"control\"').events, kde=False)\n",
    "ax.set_title('control')"
   ]
  },
  {
   "cell_type": "code",
   "execution_count": 18,
   "id": "f1192117",
   "metadata": {
    "ExecuteTime": {
     "end_time": "2023-04-08T08:15:29.687016Z",
     "start_time": "2023-04-08T08:15:29.226076Z"
    }
   },
   "outputs": [
    {
     "data": {
      "text/plain": [
       "Text(0.5, 1.0, 'test')"
      ]
     },
     "execution_count": 18,
     "metadata": {},
     "output_type": "execute_result"
    },
    {
     "data": {
      "image/png": "[encoded data removed]",
      "text/plain": [
       "<Figure size 1440x504 with 1 Axes>"
      ]
     },
     "metadata": {},
     "output_type": "display_data"
    }
   ],
   "source": [
    "ax = sns.distplot(data_2.query('group == \"test\"').events, kde=False)\n",
    "ax.set_title('test')"
   ]
  },
  {
   "cell_type": "code",
   "execution_count": 19,
   "id": "de56d661",
   "metadata": {
    "ExecuteTime": {
     "end_time": "2023-04-08T08:15:29.746478Z",
     "start_time": "2023-04-08T08:15:29.692095Z"
    }
   },
   "outputs": [
    {
     "data": {
      "text/html": [
       "<div>\n",
       "<style scoped>\n",
       "    .dataframe tbody tr th:only-of-type {\n",
       "        vertical-align: middle;\n",
       "    }\n",
       "\n",
       "    .dataframe tbody tr th {\n",
       "        vertical-align: top;\n",
       "    }\n",
       "\n",
       "    .dataframe thead tr th {\n",
       "        text-align: left;\n",
       "    }\n",
       "</style>\n",
       "<table border=\"1\" class=\"dataframe\">\n",
       "  <thead>\n",
       "    <tr>\n",
       "      <th></th>\n",
       "      <th>group</th>\n",
       "      <th>segment</th>\n",
       "      <th colspan=\"3\" halign=\"left\">events</th>\n",
       "    </tr>\n",
       "    <tr>\n",
       "      <th></th>\n",
       "      <th></th>\n",
       "      <th></th>\n",
       "      <th>mean</th>\n",
       "      <th>median</th>\n",
       "      <th>std</th>\n",
       "    </tr>\n",
       "  </thead>\n",
       "  <tbody>\n",
       "    <tr>\n",
       "      <th>0</th>\n",
       "      <td>control</td>\n",
       "      <td>high</td>\n",
       "      <td>59.970800</td>\n",
       "      <td>60.0</td>\n",
       "      <td>7.805347</td>\n",
       "    </tr>\n",
       "    <tr>\n",
       "      <th>1</th>\n",
       "      <td>control</td>\n",
       "      <td>low</td>\n",
       "      <td>20.031575</td>\n",
       "      <td>20.0</td>\n",
       "      <td>4.473576</td>\n",
       "    </tr>\n",
       "    <tr>\n",
       "      <th>2</th>\n",
       "      <td>test</td>\n",
       "      <td>high</td>\n",
       "      <td>69.938500</td>\n",
       "      <td>70.0</td>\n",
       "      <td>8.403974</td>\n",
       "    </tr>\n",
       "    <tr>\n",
       "      <th>3</th>\n",
       "      <td>test</td>\n",
       "      <td>low</td>\n",
       "      <td>33.025925</td>\n",
       "      <td>33.0</td>\n",
       "      <td>5.720845</td>\n",
       "    </tr>\n",
       "  </tbody>\n",
       "</table>\n",
       "</div>"
      ],
      "text/plain": [
       "     group segment     events                 \n",
       "                         mean median       std\n",
       "0  control    high  59.970800   60.0  7.805347\n",
       "1  control     low  20.031575   20.0  4.473576\n",
       "2     test    high  69.938500   70.0  8.403974\n",
       "3     test     low  33.025925   33.0  5.720845"
      ]
     },
     "execution_count": 19,
     "metadata": {},
     "output_type": "execute_result"
    }
   ],
   "source": [
    "data_2.groupby(['group', 'segment'], as_index=False).agg({'events': ['mean', 'median', 'std']})"
   ]
  },
  {
   "cell_type": "markdown",
   "id": "32e5be96",
   "metadata": {},
   "source": [
    "Проведем многофакторный ANOVA:"
   ]
  },
  {
   "cell_type": "code",
   "execution_count": 20,
   "id": "9c48586e",
   "metadata": {
    "ExecuteTime": {
     "end_time": "2023-04-08T08:15:30.792898Z",
     "start_time": "2023-04-08T08:15:29.746478Z"
    },
    "scrolled": true
   },
   "outputs": [
    {
     "data": {
      "text/html": [
       "<div>\n",
       "<style scoped>\n",
       "    .dataframe tbody tr th:only-of-type {\n",
       "        vertical-align: middle;\n",
       "    }\n",
       "\n",
       "    .dataframe tbody tr th {\n",
       "        vertical-align: top;\n",
       "    }\n",
       "\n",
       "    .dataframe thead th {\n",
       "        text-align: right;\n",
       "    }\n",
       "</style>\n",
       "<table border=\"1\" class=\"dataframe\">\n",
       "  <thead>\n",
       "    <tr style=\"text-align: right;\">\n",
       "      <th></th>\n",
       "      <th>Source</th>\n",
       "      <th>SS</th>\n",
       "      <th>DF</th>\n",
       "      <th>MS</th>\n",
       "      <th>F</th>\n",
       "      <th>p-unc</th>\n",
       "      <th>np2</th>\n",
       "    </tr>\n",
       "  </thead>\n",
       "  <tbody>\n",
       "    <tr>\n",
       "      <th>0</th>\n",
       "      <td>group</td>\n",
       "      <td>3.837195e+06</td>\n",
       "      <td>1.0</td>\n",
       "      <td>3.837195e+06</td>\n",
       "      <td>112031.864119</td>\n",
       "      <td>0.000000e+00</td>\n",
       "      <td>0.528383</td>\n",
       "    </tr>\n",
       "    <tr>\n",
       "      <th>1</th>\n",
       "      <td>segment</td>\n",
       "      <td>2.362480e+07</td>\n",
       "      <td>1.0</td>\n",
       "      <td>2.362480e+07</td>\n",
       "      <td>689756.377484</td>\n",
       "      <td>0.000000e+00</td>\n",
       "      <td>0.873383</td>\n",
       "    </tr>\n",
       "    <tr>\n",
       "      <th>2</th>\n",
       "      <td>group * segment</td>\n",
       "      <td>3.664244e+04</td>\n",
       "      <td>1.0</td>\n",
       "      <td>3.664244e+04</td>\n",
       "      <td>1069.823273</td>\n",
       "      <td>2.060261e-233</td>\n",
       "      <td>0.010585</td>\n",
       "    </tr>\n",
       "    <tr>\n",
       "      <th>3</th>\n",
       "      <td>Residual</td>\n",
       "      <td>3.424956e+06</td>\n",
       "      <td>99996.0</td>\n",
       "      <td>3.425093e+01</td>\n",
       "      <td>NaN</td>\n",
       "      <td>NaN</td>\n",
       "      <td>NaN</td>\n",
       "    </tr>\n",
       "  </tbody>\n",
       "</table>\n",
       "</div>"
      ],
      "text/plain": [
       "            Source            SS       DF            MS              F  \\\n",
       "0            group  3.837195e+06      1.0  3.837195e+06  112031.864119   \n",
       "1          segment  2.362480e+07      1.0  2.362480e+07  689756.377484   \n",
       "2  group * segment  3.664244e+04      1.0  3.664244e+04    1069.823273   \n",
       "3         Residual  3.424956e+06  99996.0  3.425093e+01            NaN   \n",
       "\n",
       "           p-unc       np2  \n",
       "0   0.000000e+00  0.528383  \n",
       "1   0.000000e+00  0.873383  \n",
       "2  2.060261e-233  0.010585  \n",
       "3            NaN       NaN  "
      ]
     },
     "execution_count": 20,
     "metadata": {},
     "output_type": "execute_result"
    }
   ],
   "source": [
    "pg.anova(data=data_2, dv='events', between=['group', 'segment'])"
   ]
  },
  {
   "cell_type": "code",
   "execution_count": 29,
   "id": "6f454a56",
   "metadata": {
    "ExecuteTime": {
     "end_time": "2023-04-08T08:54:50.156669Z",
     "start_time": "2023-04-08T08:54:48.911642Z"
    },
    "scrolled": false
   },
   "outputs": [
    {
     "data": {
      "image/png": "[encoded data removed]",
      "text/plain": [
       "<Figure size 1440x504 with 1 Axes>"
      ]
     },
     "metadata": {},
     "output_type": "display_data"
    }
   ],
   "source": [
    "sns.pointplot(data=data_2, y='events', x='group', hue='segment')\n",
    "plt.xlabel('Группа')\n",
    "plt.ylabel('Число покупок')\n",
    "plt.show()"
   ]
  },
  {
   "cell_type": "markdown",
   "id": "4858fa61",
   "metadata": {},
   "source": [
    "Используем Тьюки для сравнения попарно групп:"
   ]
  },
  {
   "cell_type": "code",
   "execution_count": 22,
   "id": "99a3a703",
   "metadata": {
    "ExecuteTime": {
     "end_time": "2023-04-08T08:15:32.394227Z",
     "start_time": "2023-04-08T08:15:32.346773Z"
    }
   },
   "outputs": [],
   "source": [
    "data_2['combination'] = data_2['group'] + ' / ' + data_2['segment']"
   ]
  },
  {
   "cell_type": "code",
   "execution_count": 23,
   "id": "a306d415",
   "metadata": {
    "ExecuteTime": {
     "end_time": "2023-04-08T08:15:32.424915Z",
     "start_time": "2023-04-08T08:15:32.396632Z"
    }
   },
   "outputs": [
    {
     "data": {
      "text/html": [
       "<div>\n",
       "<style scoped>\n",
       "    .dataframe tbody tr th:only-of-type {\n",
       "        vertical-align: middle;\n",
       "    }\n",
       "\n",
       "    .dataframe tbody tr th {\n",
       "        vertical-align: top;\n",
       "    }\n",
       "\n",
       "    .dataframe thead th {\n",
       "        text-align: right;\n",
       "    }\n",
       "</style>\n",
       "<table border=\"1\" class=\"dataframe\">\n",
       "  <thead>\n",
       "    <tr style=\"text-align: right;\">\n",
       "      <th></th>\n",
       "      <th>id</th>\n",
       "      <th>group</th>\n",
       "      <th>segment</th>\n",
       "      <th>events</th>\n",
       "      <th>combination</th>\n",
       "    </tr>\n",
       "  </thead>\n",
       "  <tbody>\n",
       "    <tr>\n",
       "      <th>0</th>\n",
       "      <td>83440</td>\n",
       "      <td>test</td>\n",
       "      <td>high</td>\n",
       "      <td>78.0</td>\n",
       "      <td>test / high</td>\n",
       "    </tr>\n",
       "    <tr>\n",
       "      <th>1</th>\n",
       "      <td>96723</td>\n",
       "      <td>test</td>\n",
       "      <td>high</td>\n",
       "      <td>71.0</td>\n",
       "      <td>test / high</td>\n",
       "    </tr>\n",
       "    <tr>\n",
       "      <th>2</th>\n",
       "      <td>68719</td>\n",
       "      <td>test</td>\n",
       "      <td>high</td>\n",
       "      <td>80.0</td>\n",
       "      <td>test / high</td>\n",
       "    </tr>\n",
       "    <tr>\n",
       "      <th>3</th>\n",
       "      <td>50399</td>\n",
       "      <td>test</td>\n",
       "      <td>high</td>\n",
       "      <td>80.0</td>\n",
       "      <td>test / high</td>\n",
       "    </tr>\n",
       "    <tr>\n",
       "      <th>4</th>\n",
       "      <td>95613</td>\n",
       "      <td>test</td>\n",
       "      <td>high</td>\n",
       "      <td>78.0</td>\n",
       "      <td>test / high</td>\n",
       "    </tr>\n",
       "  </tbody>\n",
       "</table>\n",
       "</div>"
      ],
      "text/plain": [
       "      id group segment  events  combination\n",
       "0  83440  test    high    78.0  test / high\n",
       "1  96723  test    high    71.0  test / high\n",
       "2  68719  test    high    80.0  test / high\n",
       "3  50399  test    high    80.0  test / high\n",
       "4  95613  test    high    78.0  test / high"
      ]
     },
     "execution_count": 23,
     "metadata": {},
     "output_type": "execute_result"
    }
   ],
   "source": [
    "data_2.head()"
   ]
  },
  {
   "cell_type": "code",
   "execution_count": 24,
   "id": "212ffbd5",
   "metadata": {
    "ExecuteTime": {
     "end_time": "2023-04-08T08:15:32.716593Z",
     "start_time": "2023-04-08T08:15:32.424915Z"
    },
    "scrolled": true
   },
   "outputs": [
    {
     "data": {
      "text/html": [
       "<div>\n",
       "<style scoped>\n",
       "    .dataframe tbody tr th:only-of-type {\n",
       "        vertical-align: middle;\n",
       "    }\n",
       "\n",
       "    .dataframe tbody tr th {\n",
       "        vertical-align: top;\n",
       "    }\n",
       "\n",
       "    .dataframe thead th {\n",
       "        text-align: right;\n",
       "    }\n",
       "</style>\n",
       "<table border=\"1\" class=\"dataframe\">\n",
       "  <thead>\n",
       "    <tr style=\"text-align: right;\">\n",
       "      <th></th>\n",
       "      <th>A</th>\n",
       "      <th>B</th>\n",
       "      <th>mean(A)</th>\n",
       "      <th>mean(B)</th>\n",
       "      <th>diff</th>\n",
       "      <th>se</th>\n",
       "      <th>T</th>\n",
       "      <th>p-tukey</th>\n",
       "      <th>hedges</th>\n",
       "    </tr>\n",
       "  </thead>\n",
       "  <tbody>\n",
       "    <tr>\n",
       "      <th>0</th>\n",
       "      <td>control / high</td>\n",
       "      <td>control / low</td>\n",
       "      <td>59.970800</td>\n",
       "      <td>20.031575</td>\n",
       "      <td>39.939225</td>\n",
       "      <td>0.065432</td>\n",
       "      <td>610.391461</td>\n",
       "      <td>0.0</td>\n",
       "      <td>7.521612</td>\n",
       "    </tr>\n",
       "    <tr>\n",
       "      <th>1</th>\n",
       "      <td>control / high</td>\n",
       "      <td>test / high</td>\n",
       "      <td>59.970800</td>\n",
       "      <td>69.938500</td>\n",
       "      <td>-9.967700</td>\n",
       "      <td>0.082766</td>\n",
       "      <td>-120.432523</td>\n",
       "      <td>0.0</td>\n",
       "      <td>-1.228989</td>\n",
       "    </tr>\n",
       "    <tr>\n",
       "      <th>2</th>\n",
       "      <td>control / high</td>\n",
       "      <td>test / low</td>\n",
       "      <td>59.970800</td>\n",
       "      <td>33.025925</td>\n",
       "      <td>26.944875</td>\n",
       "      <td>0.065432</td>\n",
       "      <td>411.798717</td>\n",
       "      <td>0.0</td>\n",
       "      <td>4.350026</td>\n",
       "    </tr>\n",
       "    <tr>\n",
       "      <th>3</th>\n",
       "      <td>control / low</td>\n",
       "      <td>test / high</td>\n",
       "      <td>20.031575</td>\n",
       "      <td>69.938500</td>\n",
       "      <td>-49.906925</td>\n",
       "      <td>0.065432</td>\n",
       "      <td>-762.727892</td>\n",
       "      <td>0.0</td>\n",
       "      <td>-9.091140</td>\n",
       "    </tr>\n",
       "    <tr>\n",
       "      <th>4</th>\n",
       "      <td>control / low</td>\n",
       "      <td>test / low</td>\n",
       "      <td>20.031575</td>\n",
       "      <td>33.025925</td>\n",
       "      <td>-12.994350</td>\n",
       "      <td>0.041383</td>\n",
       "      <td>-314.002699</td>\n",
       "      <td>0.0</td>\n",
       "      <td>-2.530414</td>\n",
       "    </tr>\n",
       "    <tr>\n",
       "      <th>5</th>\n",
       "      <td>test / high</td>\n",
       "      <td>test / low</td>\n",
       "      <td>69.938500</td>\n",
       "      <td>33.025925</td>\n",
       "      <td>36.912575</td>\n",
       "      <td>0.065432</td>\n",
       "      <td>564.135148</td>\n",
       "      <td>0.0</td>\n",
       "      <td>5.814008</td>\n",
       "    </tr>\n",
       "  </tbody>\n",
       "</table>\n",
       "</div>"
      ],
      "text/plain": [
       "                A              B    mean(A)    mean(B)       diff        se  \\\n",
       "0  control / high  control / low  59.970800  20.031575  39.939225  0.065432   \n",
       "1  control / high    test / high  59.970800  69.938500  -9.967700  0.082766   \n",
       "2  control / high     test / low  59.970800  33.025925  26.944875  0.065432   \n",
       "3   control / low    test / high  20.031575  69.938500 -49.906925  0.065432   \n",
       "4   control / low     test / low  20.031575  33.025925 -12.994350  0.041383   \n",
       "5     test / high     test / low  69.938500  33.025925  36.912575  0.065432   \n",
       "\n",
       "            T  p-tukey    hedges  \n",
       "0  610.391461      0.0  7.521612  \n",
       "1 -120.432523      0.0 -1.228989  \n",
       "2  411.798717      0.0  4.350026  \n",
       "3 -762.727892      0.0 -9.091140  \n",
       "4 -314.002699      0.0 -2.530414  \n",
       "5  564.135148      0.0  5.814008  "
      ]
     },
     "execution_count": 24,
     "metadata": {},
     "output_type": "execute_result"
    }
   ],
   "source": [
    "pg.pairwise_tukey(data=data_2, dv='events', between='combination')"
   ]
  },
  {
   "cell_type": "markdown",
   "id": "f85b8347",
   "metadata": {},
   "source": [
    "Для обоих сегментов показатели статистически значимо увеличились по сравнению с контрольной группой"
   ]
  },
  {
   "cell_type": "markdown",
   "id": "4c0fb221",
   "metadata": {},
   "source": [
    "Фактор group оказался ЗНАЧИМЫМ, фактор segment – ЗНАЧИМЫМ, их взаимодействие – ЗНАЧИМО. Судя по графику, для всех групп среднее значение events УВЕЛИЧИЛОСЬ, поэтому решение: ВЫКАТЫВАЕМ НОВУЮ ВЕРСИЮ"
   ]
  },
  {
   "cell_type": "code",
   "execution_count": null,
   "id": "daff8714",
   "metadata": {},
   "outputs": [],
   "source": []
  }
 ],
 "metadata": {
  "kernelspec": {
   "display_name": "Python 3 (ipykernel)",
   "language": "python",
   "name": "python3"
  },
  "language_info": {
   "codemirror_mode": {
    "name": "ipython",
    "version": 3
   },
   "file_extension": ".py",
   "mimetype": "text/x-python",
   "name": "python",
   "nbconvert_exporter": "python",
   "pygments_lexer": "ipython3",
   "version": "3.10.0"
  },
  "nbTranslate": {
   "displayLangs": [
    "*"
   ],
   "hotkey": "alt-t",
   "langInMainMenu": true,
   "sourceLang": "en",
   "targetLang": "fr",
   "useGoogleTranslate": true
  },
  "toc": {
   "base_numbering": 1,
   "nav_menu": {},
   "number_sections": true,
   "sideBar": true,
   "skip_h1_title": false,
   "title_cell": "Table of Contents",
   "title_sidebar": "Contents",
   "toc_cell": false,
   "toc_position": {},
   "toc_section_display": true,
   "toc_window_display": false
  },
  "varInspector": {
   "cols": {
    "lenName": 16,
    "lenType": 16,
    "lenVar": 40
   },
   "kernels_config": {
    "python": {
     "delete_cmd_postfix": "",
     "delete_cmd_prefix": "del ",
     "library": "var_list.py",
     "varRefreshCmd": "print(var_dic_list())"
    },
    "r": {
     "delete_cmd_postfix": ") ",
     "delete_cmd_prefix": "rm(",
     "library": "var_list.r",
     "varRefreshCmd": "cat(var_dic_list()) "
    }
   },
   "types_to_exclude": [
    "module",
    "function",
    "builtin_function_or_method",
    "instance",
    "_Feature"
   ],
   "window_display": false
  }
 },
 "nbformat": 4,
 "nbformat_minor": 5
}
