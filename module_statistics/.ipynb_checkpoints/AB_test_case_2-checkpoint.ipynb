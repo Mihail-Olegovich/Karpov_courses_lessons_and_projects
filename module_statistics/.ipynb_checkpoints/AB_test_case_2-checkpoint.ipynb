{
 "cells": [
  {
   "cell_type": "markdown",
   "id": "0c6fa51c",
   "metadata": {},
   "source": [
    "# Кейс №2 - Приложение доставки"
   ]
  },
  {
   "cell_type": "markdown",
   "id": "f7de61fd",
   "metadata": {},
   "source": [
    "## Нововведение\n",
    "Приложение по доставке продуктов. Команда внедрила в приложение умную систему рекомендации товаров – предполагается, что такая система поможет пользователям эффективнее работать с приложением и лучше находить необходимые товары."
   ]
  },
  {
   "cell_type": "markdown",
   "id": "cce54ad4",
   "metadata": {},
   "source": [
    "## Тест\n",
    "Чтобы проверить эффективность системы рекомендаций, был проведен АБ-тест. В группе 1 оказались пользователи с новой системой рекомендаций, в группе 0 пользователи со старой версией приложения, где нет рекомендации товаров."
   ]
  },
  {
   "cell_type": "markdown",
   "id": "634b9703",
   "metadata": {},
   "source": [
    "## Задача\n",
    "Моя задача – оценить, смогла ли новая система рекомендаций принести пользу бизнесу и пользователям приложения. Для этого нужно выбрать одну или несколько метрик, которая отвечает за качество сервиса и статистически сравнить эти метрики в двух группах."
   ]
  },
  {
   "cell_type": "markdown",
   "id": "5c25db2e",
   "metadata": {},
   "source": [
    "# Загрузка и проверка данных"
   ]
  },
  {
   "cell_type": "markdown",
   "id": "c1beb8ee",
   "metadata": {},
   "source": [
    "Описание данных:\n",
    "\n",
    "- ab_users_data – история заказов пользователей, в этой таблице есть информация о том, какие заказы создавали и отменяли пользователи\n",
    "\n",
    "- ab_orders – подробная информация о составе заказа, тут для каждого заказа есть список id тех продуктов, которые были включены в заказ\n",
    "\n",
    "- ab_products – подробная информация о продуктах, их название и стоимость"
   ]
  },
  {
   "cell_type": "code",
   "execution_count": 285,
   "id": "1169db64",
   "metadata": {
    "ExecuteTime": {
     "end_time": "2023-04-20T16:50:48.037528Z",
     "start_time": "2023-04-20T16:50:48.012084Z"
    }
   },
   "outputs": [],
   "source": [
    "# импорт библиотек\n",
    "import pandas as pd\n",
    "import seaborn as sns\n",
    "import matplotlib.pyplot as plt\n",
    "import numpy as np\n",
    "import scipy.stats \n",
    "import pingouin as pg"
   ]
  },
  {
   "cell_type": "code",
   "execution_count": 286,
   "id": "99394ffa",
   "metadata": {
    "ExecuteTime": {
     "end_time": "2023-04-20T16:50:48.173508Z",
     "start_time": "2023-04-20T16:50:48.149511Z"
    }
   },
   "outputs": [],
   "source": [
    "sns.set(\n",
    "    font_scale=2,\n",
    "    style=\"whitegrid\",\n",
    "    rc={'figure.figsize':(20,7)}\n",
    "        )"
   ]
  },
  {
   "cell_type": "code",
   "execution_count": 287,
   "id": "32ae58d3",
   "metadata": {
    "ExecuteTime": {
     "end_time": "2023-04-20T16:50:48.375566Z",
     "start_time": "2023-04-20T16:50:48.223565Z"
    }
   },
   "outputs": [],
   "source": [
    "ab_users_data = pd.read_csv('C:/Users/1/JupyterProjects/Karpov_courses_lessons_and_projects/module_statistics/all_data/ab_users_data.csv')\n",
    "ab_orders     = pd.read_csv('C:/Users/1/JupyterProjects/Karpov_courses_lessons_and_projects/module_statistics/all_data/ab_orders.csv')\n",
    "ab_products   = pd.read_csv('C:/Users/1/JupyterProjects/Karpov_courses_lessons_and_projects/module_statistics/all_data/ab_products.csv')"
   ]
  },
  {
   "cell_type": "code",
   "execution_count": 288,
   "id": "a60000b7",
   "metadata": {
    "ExecuteTime": {
     "end_time": "2023-04-20T16:50:48.391567Z",
     "start_time": "2023-04-20T16:50:48.375566Z"
    }
   },
   "outputs": [
    {
     "data": {
      "text/html": [
       "<div>\n",
       "<style scoped>\n",
       "    .dataframe tbody tr th:only-of-type {\n",
       "        vertical-align: middle;\n",
       "    }\n",
       "\n",
       "    .dataframe tbody tr th {\n",
       "        vertical-align: top;\n",
       "    }\n",
       "\n",
       "    .dataframe thead th {\n",
       "        text-align: right;\n",
       "    }\n",
       "</style>\n",
       "<table border=\"1\" class=\"dataframe\">\n",
       "  <thead>\n",
       "    <tr style=\"text-align: right;\">\n",
       "      <th></th>\n",
       "      <th>user_id</th>\n",
       "      <th>order_id</th>\n",
       "      <th>action</th>\n",
       "      <th>time</th>\n",
       "      <th>date</th>\n",
       "      <th>group</th>\n",
       "    </tr>\n",
       "  </thead>\n",
       "  <tbody>\n",
       "    <tr>\n",
       "      <th>0</th>\n",
       "      <td>964</td>\n",
       "      <td>1255</td>\n",
       "      <td>create_order</td>\n",
       "      <td>2022-08-26 00:00:19.000000</td>\n",
       "      <td>2022-08-26</td>\n",
       "      <td>0</td>\n",
       "    </tr>\n",
       "    <tr>\n",
       "      <th>1</th>\n",
       "      <td>965</td>\n",
       "      <td>1256</td>\n",
       "      <td>create_order</td>\n",
       "      <td>2022-08-26 00:02:21.000000</td>\n",
       "      <td>2022-08-26</td>\n",
       "      <td>1</td>\n",
       "    </tr>\n",
       "    <tr>\n",
       "      <th>2</th>\n",
       "      <td>964</td>\n",
       "      <td>1257</td>\n",
       "      <td>create_order</td>\n",
       "      <td>2022-08-26 00:02:27.000000</td>\n",
       "      <td>2022-08-26</td>\n",
       "      <td>0</td>\n",
       "    </tr>\n",
       "    <tr>\n",
       "      <th>3</th>\n",
       "      <td>966</td>\n",
       "      <td>1258</td>\n",
       "      <td>create_order</td>\n",
       "      <td>2022-08-26 00:02:56.000000</td>\n",
       "      <td>2022-08-26</td>\n",
       "      <td>0</td>\n",
       "    </tr>\n",
       "    <tr>\n",
       "      <th>4</th>\n",
       "      <td>967</td>\n",
       "      <td>1259</td>\n",
       "      <td>create_order</td>\n",
       "      <td>2022-08-26 00:03:37.000000</td>\n",
       "      <td>2022-08-26</td>\n",
       "      <td>1</td>\n",
       "    </tr>\n",
       "  </tbody>\n",
       "</table>\n",
       "</div>"
      ],
      "text/plain": [
       "   user_id  order_id        action                        time        date  \\\n",
       "0      964      1255  create_order  2022-08-26 00:00:19.000000  2022-08-26   \n",
       "1      965      1256  create_order  2022-08-26 00:02:21.000000  2022-08-26   \n",
       "2      964      1257  create_order  2022-08-26 00:02:27.000000  2022-08-26   \n",
       "3      966      1258  create_order  2022-08-26 00:02:56.000000  2022-08-26   \n",
       "4      967      1259  create_order  2022-08-26 00:03:37.000000  2022-08-26   \n",
       "\n",
       "   group  \n",
       "0      0  \n",
       "1      1  \n",
       "2      0  \n",
       "3      0  \n",
       "4      1  "
      ]
     },
     "execution_count": 288,
     "metadata": {},
     "output_type": "execute_result"
    }
   ],
   "source": [
    "ab_users_data.head()"
   ]
  },
  {
   "cell_type": "code",
   "execution_count": 289,
   "id": "86de1287",
   "metadata": {
    "ExecuteTime": {
     "end_time": "2023-04-20T16:50:48.439588Z",
     "start_time": "2023-04-20T16:50:48.415584Z"
    }
   },
   "outputs": [
    {
     "name": "stdout",
     "output_type": "stream",
     "text": [
      "<class 'pandas.core.frame.DataFrame'>\n",
      "RangeIndex: 4337 entries, 0 to 4336\n",
      "Data columns (total 6 columns):\n",
      " #   Column    Non-Null Count  Dtype \n",
      "---  ------    --------------  ----- \n",
      " 0   user_id   4337 non-null   int64 \n",
      " 1   order_id  4337 non-null   int64 \n",
      " 2   action    4337 non-null   object\n",
      " 3   time      4337 non-null   object\n",
      " 4   date      4337 non-null   object\n",
      " 5   group     4337 non-null   int64 \n",
      "dtypes: int64(3), object(3)\n",
      "memory usage: 203.4+ KB\n"
     ]
    }
   ],
   "source": [
    "ab_users_data.info()"
   ]
  },
  {
   "cell_type": "code",
   "execution_count": 290,
   "id": "0a6b12e4",
   "metadata": {
    "ExecuteTime": {
     "end_time": "2023-04-20T16:50:48.503583Z",
     "start_time": "2023-04-20T16:50:48.479594Z"
    }
   },
   "outputs": [
    {
     "data": {
      "text/html": [
       "<div>\n",
       "<style scoped>\n",
       "    .dataframe tbody tr th:only-of-type {\n",
       "        vertical-align: middle;\n",
       "    }\n",
       "\n",
       "    .dataframe tbody tr th {\n",
       "        vertical-align: top;\n",
       "    }\n",
       "\n",
       "    .dataframe thead th {\n",
       "        text-align: right;\n",
       "    }\n",
       "</style>\n",
       "<table border=\"1\" class=\"dataframe\">\n",
       "  <thead>\n",
       "    <tr style=\"text-align: right;\">\n",
       "      <th></th>\n",
       "      <th>order_id</th>\n",
       "      <th>creation_time</th>\n",
       "      <th>product_ids</th>\n",
       "    </tr>\n",
       "  </thead>\n",
       "  <tbody>\n",
       "    <tr>\n",
       "      <th>0</th>\n",
       "      <td>1255</td>\n",
       "      <td>2022-08-26 00:00:19.000000</td>\n",
       "      <td>{75, 22, 53, 84}</td>\n",
       "    </tr>\n",
       "    <tr>\n",
       "      <th>1</th>\n",
       "      <td>1256</td>\n",
       "      <td>2022-08-26 00:02:21.000000</td>\n",
       "      <td>{56, 76, 39}</td>\n",
       "    </tr>\n",
       "    <tr>\n",
       "      <th>2</th>\n",
       "      <td>1257</td>\n",
       "      <td>2022-08-26 00:02:27.000000</td>\n",
       "      <td>{76, 34, 41, 38}</td>\n",
       "    </tr>\n",
       "    <tr>\n",
       "      <th>3</th>\n",
       "      <td>1258</td>\n",
       "      <td>2022-08-26 00:02:56.000000</td>\n",
       "      <td>{74, 6}</td>\n",
       "    </tr>\n",
       "    <tr>\n",
       "      <th>4</th>\n",
       "      <td>1259</td>\n",
       "      <td>2022-08-26 00:03:37.000000</td>\n",
       "      <td>{20, 45, 67, 26}</td>\n",
       "    </tr>\n",
       "  </tbody>\n",
       "</table>\n",
       "</div>"
      ],
      "text/plain": [
       "   order_id               creation_time       product_ids\n",
       "0      1255  2022-08-26 00:00:19.000000  {75, 22, 53, 84}\n",
       "1      1256  2022-08-26 00:02:21.000000      {56, 76, 39}\n",
       "2      1257  2022-08-26 00:02:27.000000  {76, 34, 41, 38}\n",
       "3      1258  2022-08-26 00:02:56.000000           {74, 6}\n",
       "4      1259  2022-08-26 00:03:37.000000  {20, 45, 67, 26}"
      ]
     },
     "execution_count": 290,
     "metadata": {},
     "output_type": "execute_result"
    }
   ],
   "source": [
    "ab_orders.head()"
   ]
  },
  {
   "cell_type": "code",
   "execution_count": 291,
   "id": "a1dfd185",
   "metadata": {
    "ExecuteTime": {
     "end_time": "2023-04-20T16:50:48.567564Z",
     "start_time": "2023-04-20T16:50:48.543564Z"
    }
   },
   "outputs": [
    {
     "name": "stdout",
     "output_type": "stream",
     "text": [
      "<class 'pandas.core.frame.DataFrame'>\n",
      "RangeIndex: 4123 entries, 0 to 4122\n",
      "Data columns (total 3 columns):\n",
      " #   Column         Non-Null Count  Dtype \n",
      "---  ------         --------------  ----- \n",
      " 0   order_id       4123 non-null   int64 \n",
      " 1   creation_time  4123 non-null   object\n",
      " 2   product_ids    4123 non-null   object\n",
      "dtypes: int64(1), object(2)\n",
      "memory usage: 96.8+ KB\n"
     ]
    }
   ],
   "source": [
    "ab_orders.info()"
   ]
  },
  {
   "cell_type": "code",
   "execution_count": 292,
   "id": "a8e84c0f",
   "metadata": {
    "ExecuteTime": {
     "end_time": "2023-04-20T16:50:48.615568Z",
     "start_time": "2023-04-20T16:50:48.591565Z"
    }
   },
   "outputs": [
    {
     "data": {
      "text/html": [
       "<div>\n",
       "<style scoped>\n",
       "    .dataframe tbody tr th:only-of-type {\n",
       "        vertical-align: middle;\n",
       "    }\n",
       "\n",
       "    .dataframe tbody tr th {\n",
       "        vertical-align: top;\n",
       "    }\n",
       "\n",
       "    .dataframe thead th {\n",
       "        text-align: right;\n",
       "    }\n",
       "</style>\n",
       "<table border=\"1\" class=\"dataframe\">\n",
       "  <thead>\n",
       "    <tr style=\"text-align: right;\">\n",
       "      <th></th>\n",
       "      <th>product_id</th>\n",
       "      <th>name</th>\n",
       "      <th>price</th>\n",
       "    </tr>\n",
       "  </thead>\n",
       "  <tbody>\n",
       "    <tr>\n",
       "      <th>0</th>\n",
       "      <td>1</td>\n",
       "      <td>сахар</td>\n",
       "      <td>150.0</td>\n",
       "    </tr>\n",
       "    <tr>\n",
       "      <th>1</th>\n",
       "      <td>2</td>\n",
       "      <td>чай зеленый в пакетиках</td>\n",
       "      <td>50.0</td>\n",
       "    </tr>\n",
       "    <tr>\n",
       "      <th>2</th>\n",
       "      <td>3</td>\n",
       "      <td>вода негазированная</td>\n",
       "      <td>80.4</td>\n",
       "    </tr>\n",
       "    <tr>\n",
       "      <th>3</th>\n",
       "      <td>4</td>\n",
       "      <td>леденцы</td>\n",
       "      <td>45.5</td>\n",
       "    </tr>\n",
       "    <tr>\n",
       "      <th>4</th>\n",
       "      <td>5</td>\n",
       "      <td>кофе 3 в 1</td>\n",
       "      <td>15.0</td>\n",
       "    </tr>\n",
       "  </tbody>\n",
       "</table>\n",
       "</div>"
      ],
      "text/plain": [
       "   product_id                     name  price\n",
       "0           1                    сахар  150.0\n",
       "1           2  чай зеленый в пакетиках   50.0\n",
       "2           3      вода негазированная   80.4\n",
       "3           4                  леденцы   45.5\n",
       "4           5               кофе 3 в 1   15.0"
      ]
     },
     "execution_count": 292,
     "metadata": {},
     "output_type": "execute_result"
    }
   ],
   "source": [
    "ab_products.head()"
   ]
  },
  {
   "cell_type": "code",
   "execution_count": 293,
   "id": "c9a0f1d1",
   "metadata": {
    "ExecuteTime": {
     "end_time": "2023-04-20T16:50:48.695565Z",
     "start_time": "2023-04-20T16:50:48.663570Z"
    }
   },
   "outputs": [
    {
     "name": "stdout",
     "output_type": "stream",
     "text": [
      "<class 'pandas.core.frame.DataFrame'>\n",
      "RangeIndex: 87 entries, 0 to 86\n",
      "Data columns (total 3 columns):\n",
      " #   Column      Non-Null Count  Dtype  \n",
      "---  ------      --------------  -----  \n",
      " 0   product_id  87 non-null     int64  \n",
      " 1   name        87 non-null     object \n",
      " 2   price       87 non-null     float64\n",
      "dtypes: float64(1), int64(1), object(1)\n",
      "memory usage: 2.2+ KB\n"
     ]
    }
   ],
   "source": [
    "ab_products.info()"
   ]
  },
  {
   "cell_type": "code",
   "execution_count": 294,
   "id": "3a8b0b57",
   "metadata": {
    "ExecuteTime": {
     "end_time": "2023-04-20T16:50:48.767575Z",
     "start_time": "2023-04-20T16:50:48.743564Z"
    }
   },
   "outputs": [
    {
     "data": {
      "text/plain": [
       "1    0.610099\n",
       "0    0.389901\n",
       "Name: group, dtype: float64"
      ]
     },
     "execution_count": 294,
     "metadata": {},
     "output_type": "execute_result"
    }
   ],
   "source": [
    "# Проверим баланс наблюдений в группах\n",
    "ab_users_data.group.value_counts(normalize=True)"
   ]
  },
  {
   "cell_type": "code",
   "execution_count": 295,
   "id": "6820d9ba",
   "metadata": {
    "ExecuteTime": {
     "end_time": "2023-04-20T16:50:49.047574Z",
     "start_time": "2023-04-20T16:50:48.799567Z"
    }
   },
   "outputs": [
    {
     "data": {
      "text/plain": [
       "<AxesSubplot:xlabel='group', ylabel='count'>"
      ]
     },
     "execution_count": 295,
     "metadata": {},
     "output_type": "execute_result"
    },
    {
     "data": {
      "image/png": "[encoded data removed]",
      "text/plain": [
       "<Figure size 1440x504 with 1 Axes>"
      ]
     },
     "metadata": {},
     "output_type": "display_data"
    }
   ],
   "source": [
    "sns.barplot(data=ab_users_data.groupby('group', as_index=False).agg(count=('user_id', 'count')), x='group', y='count')"
   ]
  },
  {
   "cell_type": "code",
   "execution_count": 353,
   "id": "31f48ae3",
   "metadata": {
    "ExecuteTime": {
     "end_time": "2023-04-20T17:17:43.013781Z",
     "start_time": "2023-04-20T17:17:42.983148Z"
    }
   },
   "outputs": [
    {
     "data": {
      "text/html": [
       "<div>\n",
       "<style scoped>\n",
       "    .dataframe tbody tr th:only-of-type {\n",
       "        vertical-align: middle;\n",
       "    }\n",
       "\n",
       "    .dataframe tbody tr th {\n",
       "        vertical-align: top;\n",
       "    }\n",
       "\n",
       "    .dataframe thead th {\n",
       "        text-align: right;\n",
       "    }\n",
       "</style>\n",
       "<table border=\"1\" class=\"dataframe\">\n",
       "  <thead>\n",
       "    <tr style=\"text-align: right;\">\n",
       "      <th></th>\n",
       "      <th>group</th>\n",
       "      <th>count</th>\n",
       "    </tr>\n",
       "  </thead>\n",
       "  <tbody>\n",
       "    <tr>\n",
       "      <th>0</th>\n",
       "      <td>0</td>\n",
       "      <td>515</td>\n",
       "    </tr>\n",
       "    <tr>\n",
       "      <th>1</th>\n",
       "      <td>1</td>\n",
       "      <td>502</td>\n",
       "    </tr>\n",
       "  </tbody>\n",
       "</table>\n",
       "</div>"
      ],
      "text/plain": [
       "   group  count\n",
       "0      0    515\n",
       "1      1    502"
      ]
     },
     "execution_count": 353,
     "metadata": {},
     "output_type": "execute_result"
    }
   ],
   "source": [
    "# количество уникальных пользователей в группах\n",
    "ab_users_data.groupby('group', as_index=False).agg(count=('user_id', 'nunique'))"
   ]
  },
  {
   "cell_type": "markdown",
   "id": "ba48bdfc",
   "metadata": {},
   "source": [
    "Создадим колонку, которая показывает, что заказ впоследствии был отменен"
   ]
  },
  {
   "cell_type": "code",
   "execution_count": 296,
   "id": "64f2615d",
   "metadata": {
    "ExecuteTime": {
     "end_time": "2023-04-20T16:50:49.086146Z",
     "start_time": "2023-04-20T16:50:49.063569Z"
    }
   },
   "outputs": [],
   "source": [
    "# id отмененных заказов\n",
    "canceled_order_ids = ab_users_data.query('action == \"cancel_order\"').order_id"
   ]
  },
  {
   "cell_type": "code",
   "execution_count": 297,
   "id": "64a55363",
   "metadata": {
    "ExecuteTime": {
     "end_time": "2023-04-20T16:50:49.158146Z",
     "start_time": "2023-04-20T16:50:49.142137Z"
    }
   },
   "outputs": [],
   "source": [
    "ab_users_data['is_canceled'] = ab_users_data['order_id'].isin(canceled_order_ids).astype(int)"
   ]
  },
  {
   "cell_type": "code",
   "execution_count": 298,
   "id": "8cdcab1e",
   "metadata": {
    "ExecuteTime": {
     "end_time": "2023-04-20T16:50:49.230168Z",
     "start_time": "2023-04-20T16:50:49.206152Z"
    }
   },
   "outputs": [],
   "source": [
    "ab_users_data = ab_users_data.query('action == \"create_order\"')"
   ]
  },
  {
   "cell_type": "code",
   "execution_count": 299,
   "id": "817400fa",
   "metadata": {
    "ExecuteTime": {
     "end_time": "2023-04-20T16:50:49.302152Z",
     "start_time": "2023-04-20T16:50:49.270176Z"
    }
   },
   "outputs": [
    {
     "data": {
      "text/plain": [
       "0"
      ]
     },
     "execution_count": 299,
     "metadata": {},
     "output_type": "execute_result"
    }
   ],
   "source": [
    "# следим за тем, что каждый пользователь оказался только в одной группе\n",
    "ab_users_data.groupby('user_id', as_index=False).group.nunique().query('group > 1').size"
   ]
  },
  {
   "cell_type": "code",
   "execution_count": 300,
   "id": "92511a06",
   "metadata": {
    "ExecuteTime": {
     "end_time": "2023-04-20T16:50:49.382163Z",
     "start_time": "2023-04-20T16:50:49.342147Z"
    }
   },
   "outputs": [
    {
     "data": {
      "text/plain": [
       "set()"
      ]
     },
     "execution_count": 300,
     "metadata": {},
     "output_type": "execute_result"
    }
   ],
   "source": [
    "# тоже самое при помощи set\n",
    "control_set = set(ab_users_data.query('group == 0').user_id)\n",
    "test_set = set(ab_users_data.query('group == 1').user_id)\n",
    "\n",
    "control_set.intersection(test_set)"
   ]
  },
  {
   "cell_type": "markdown",
   "id": "45d4a1b3",
   "metadata": {},
   "source": [
    "# Проверка гипотез"
   ]
  },
  {
   "cell_type": "markdown",
   "id": "0cb4eeff",
   "metadata": {},
   "source": [
    "## Гипотеза 1: изменилось число заказов на пользователя"
   ]
  },
  {
   "cell_type": "code",
   "execution_count": 301,
   "id": "edd79f5d",
   "metadata": {
    "ExecuteTime": {
     "end_time": "2023-04-20T16:50:49.934906Z",
     "start_time": "2023-04-20T16:50:49.910145Z"
    }
   },
   "outputs": [],
   "source": [
    "orders_per_user = ab_users_data.query('action == \"create_order\"').groupby(['group', 'user_id'], as_index=False).size()"
   ]
  },
  {
   "cell_type": "code",
   "execution_count": 302,
   "id": "7493326e",
   "metadata": {
    "ExecuteTime": {
     "end_time": "2023-04-20T16:50:50.022919Z",
     "start_time": "2023-04-20T16:50:49.998919Z"
    }
   },
   "outputs": [
    {
     "data": {
      "text/html": [
       "<div>\n",
       "<style scoped>\n",
       "    .dataframe tbody tr th:only-of-type {\n",
       "        vertical-align: middle;\n",
       "    }\n",
       "\n",
       "    .dataframe tbody tr th {\n",
       "        vertical-align: top;\n",
       "    }\n",
       "\n",
       "    .dataframe thead th {\n",
       "        text-align: right;\n",
       "    }\n",
       "</style>\n",
       "<table border=\"1\" class=\"dataframe\">\n",
       "  <thead>\n",
       "    <tr style=\"text-align: right;\">\n",
       "      <th></th>\n",
       "      <th>group</th>\n",
       "      <th>user_id</th>\n",
       "      <th>size</th>\n",
       "    </tr>\n",
       "  </thead>\n",
       "  <tbody>\n",
       "    <tr>\n",
       "      <th>0</th>\n",
       "      <td>0</td>\n",
       "      <td>964</td>\n",
       "      <td>2</td>\n",
       "    </tr>\n",
       "    <tr>\n",
       "      <th>1</th>\n",
       "      <td>0</td>\n",
       "      <td>966</td>\n",
       "      <td>1</td>\n",
       "    </tr>\n",
       "    <tr>\n",
       "      <th>2</th>\n",
       "      <td>0</td>\n",
       "      <td>968</td>\n",
       "      <td>3</td>\n",
       "    </tr>\n",
       "    <tr>\n",
       "      <th>3</th>\n",
       "      <td>0</td>\n",
       "      <td>969</td>\n",
       "      <td>2</td>\n",
       "    </tr>\n",
       "    <tr>\n",
       "      <th>4</th>\n",
       "      <td>0</td>\n",
       "      <td>972</td>\n",
       "      <td>1</td>\n",
       "    </tr>\n",
       "  </tbody>\n",
       "</table>\n",
       "</div>"
      ],
      "text/plain": [
       "   group  user_id  size\n",
       "0      0      964     2\n",
       "1      0      966     1\n",
       "2      0      968     3\n",
       "3      0      969     2\n",
       "4      0      972     1"
      ]
     },
     "execution_count": 302,
     "metadata": {},
     "output_type": "execute_result"
    }
   ],
   "source": [
    "orders_per_user.head()"
   ]
  },
  {
   "cell_type": "code",
   "execution_count": 303,
   "id": "a7c6e5ad",
   "metadata": {
    "ExecuteTime": {
     "end_time": "2023-04-20T16:50:50.110916Z",
     "start_time": "2023-04-20T16:50:50.086932Z"
    }
   },
   "outputs": [],
   "source": [
    "control = orders_per_user.query('group == 0')['size']\n",
    "test = orders_per_user.query('group == 1')['size']"
   ]
  },
  {
   "cell_type": "code",
   "execution_count": 304,
   "id": "0234f366",
   "metadata": {
    "ExecuteTime": {
     "end_time": "2023-04-20T16:50:50.703156Z",
     "start_time": "2023-04-20T16:50:50.150931Z"
    },
    "scrolled": false
   },
   "outputs": [
    {
     "data": {
      "text/plain": [
       "<AxesSubplot:xlabel='size', ylabel='count'>"
      ]
     },
     "execution_count": 304,
     "metadata": {},
     "output_type": "execute_result"
    },
    {
     "data": {
      "image/png": "[encoded data removed]",
      "text/plain": [
       "<Figure size 1440x504 with 1 Axes>"
      ]
     },
     "metadata": {},
     "output_type": "display_data"
    }
   ],
   "source": [
    "sns.countplot(data=orders_per_user, x='size', hue='group')"
   ]
  },
  {
   "cell_type": "code",
   "execution_count": 305,
   "id": "526727e3",
   "metadata": {
    "ExecuteTime": {
     "end_time": "2023-04-20T16:50:50.746273Z",
     "start_time": "2023-04-20T16:50:50.703156Z"
    }
   },
   "outputs": [
    {
     "data": {
      "text/html": [
       "<div>\n",
       "<style scoped>\n",
       "    .dataframe tbody tr th:only-of-type {\n",
       "        vertical-align: middle;\n",
       "    }\n",
       "\n",
       "    .dataframe tbody tr th {\n",
       "        vertical-align: top;\n",
       "    }\n",
       "\n",
       "    .dataframe thead th {\n",
       "        text-align: right;\n",
       "    }\n",
       "</style>\n",
       "<table border=\"1\" class=\"dataframe\">\n",
       "  <thead>\n",
       "    <tr style=\"text-align: right;\">\n",
       "      <th></th>\n",
       "      <th>T</th>\n",
       "      <th>dof</th>\n",
       "      <th>alternative</th>\n",
       "      <th>p-val</th>\n",
       "      <th>CI95%</th>\n",
       "      <th>cohen-d</th>\n",
       "      <th>BF10</th>\n",
       "      <th>power</th>\n",
       "    </tr>\n",
       "  </thead>\n",
       "  <tbody>\n",
       "    <tr>\n",
       "      <th>T-test</th>\n",
       "      <td>-14.485157</td>\n",
       "      <td>988.435475</td>\n",
       "      <td>two-sided</td>\n",
       "      <td>2.907783e-43</td>\n",
       "      <td>[-2.14, -1.63]</td>\n",
       "      <td>0.910119</td>\n",
       "      <td>7.663e+39</td>\n",
       "      <td>1.0</td>\n",
       "    </tr>\n",
       "  </tbody>\n",
       "</table>\n",
       "</div>"
      ],
      "text/plain": [
       "                T         dof alternative         p-val           CI95%  \\\n",
       "T-test -14.485157  988.435475   two-sided  2.907783e-43  [-2.14, -1.63]   \n",
       "\n",
       "         cohen-d       BF10  power  \n",
       "T-test  0.910119  7.663e+39    1.0  "
      ]
     },
     "execution_count": 305,
     "metadata": {},
     "output_type": "execute_result"
    }
   ],
   "source": [
    "# t-test\n",
    "pg.ttest(control, test)"
   ]
  },
  {
   "cell_type": "code",
   "execution_count": 306,
   "id": "61d6aae6",
   "metadata": {
    "ExecuteTime": {
     "end_time": "2023-04-20T16:50:50.778255Z",
     "start_time": "2023-04-20T16:50:50.746273Z"
    }
   },
   "outputs": [
    {
     "data": {
      "text/html": [
       "<div>\n",
       "<style scoped>\n",
       "    .dataframe tbody tr th:only-of-type {\n",
       "        vertical-align: middle;\n",
       "    }\n",
       "\n",
       "    .dataframe tbody tr th {\n",
       "        vertical-align: top;\n",
       "    }\n",
       "\n",
       "    .dataframe thead th {\n",
       "        text-align: right;\n",
       "    }\n",
       "</style>\n",
       "<table border=\"1\" class=\"dataframe\">\n",
       "  <thead>\n",
       "    <tr style=\"text-align: right;\">\n",
       "      <th></th>\n",
       "      <th>U-val</th>\n",
       "      <th>alternative</th>\n",
       "      <th>p-val</th>\n",
       "      <th>RBC</th>\n",
       "      <th>CLES</th>\n",
       "    </tr>\n",
       "  </thead>\n",
       "  <tbody>\n",
       "    <tr>\n",
       "      <th>MWU</th>\n",
       "      <td>61172.5</td>\n",
       "      <td>two-sided</td>\n",
       "      <td>6.987140e-49</td>\n",
       "      <td>0.526767</td>\n",
       "      <td>0.236617</td>\n",
       "    </tr>\n",
       "  </tbody>\n",
       "</table>\n",
       "</div>"
      ],
      "text/plain": [
       "       U-val alternative         p-val       RBC      CLES\n",
       "MWU  61172.5   two-sided  6.987140e-49  0.526767  0.236617"
      ]
     },
     "execution_count": 306,
     "metadata": {},
     "output_type": "execute_result"
    }
   ],
   "source": [
    "# MW\n",
    "pg.mwu(control, test)"
   ]
  },
  {
   "cell_type": "markdown",
   "id": "98bc9b38",
   "metadata": {},
   "source": [
    "CLES - вероятность того, что случайно взятое значение из контроля окажется больше, чем из теста (24%)"
   ]
  },
  {
   "cell_type": "markdown",
   "id": "bec27d9a",
   "metadata": {},
   "source": [
    "**Вывод**"
   ]
  },
  {
   "cell_type": "markdown",
   "id": "5b8c4dd2",
   "metadata": {},
   "source": [
    "Среднее число заказов на пользователя значимо увеличилось в тесте"
   ]
  },
  {
   "cell_type": "markdown",
   "id": "9fb58f42",
   "metadata": {},
   "source": [
    "## Гипотеза 2: изменилась пропорция отмен"
   ]
  },
  {
   "cell_type": "code",
   "execution_count": 307,
   "id": "7447a317",
   "metadata": {
    "ExecuteTime": {
     "end_time": "2023-04-20T16:50:50.826255Z",
     "start_time": "2023-04-20T16:50:50.794259Z"
    }
   },
   "outputs": [
    {
     "data": {
      "text/html": [
       "<div>\n",
       "<style scoped>\n",
       "    .dataframe tbody tr th:only-of-type {\n",
       "        vertical-align: middle;\n",
       "    }\n",
       "\n",
       "    .dataframe tbody tr th {\n",
       "        vertical-align: top;\n",
       "    }\n",
       "\n",
       "    .dataframe thead th {\n",
       "        text-align: right;\n",
       "    }\n",
       "</style>\n",
       "<table border=\"1\" class=\"dataframe\">\n",
       "  <thead>\n",
       "    <tr style=\"text-align: right;\">\n",
       "      <th>is_canceled</th>\n",
       "      <th>0</th>\n",
       "      <th>1</th>\n",
       "    </tr>\n",
       "    <tr>\n",
       "      <th>group</th>\n",
       "      <th></th>\n",
       "      <th></th>\n",
       "    </tr>\n",
       "  </thead>\n",
       "  <tbody>\n",
       "    <tr>\n",
       "      <th>0</th>\n",
       "      <td>1527</td>\n",
       "      <td>82</td>\n",
       "    </tr>\n",
       "    <tr>\n",
       "      <th>1</th>\n",
       "      <td>2382</td>\n",
       "      <td>132</td>\n",
       "    </tr>\n",
       "  </tbody>\n",
       "</table>\n",
       "</div>"
      ],
      "text/plain": [
       "is_canceled     0    1\n",
       "group                 \n",
       "0            1527   82\n",
       "1            2382  132"
      ]
     },
     "execution_count": 307,
     "metadata": {},
     "output_type": "execute_result"
    }
   ],
   "source": [
    "pd.crosstab(ab_users_data.group, ab_users_data.is_canceled)"
   ]
  },
  {
   "cell_type": "code",
   "execution_count": 308,
   "id": "0898e86c",
   "metadata": {
    "ExecuteTime": {
     "end_time": "2023-04-20T16:50:50.930252Z",
     "start_time": "2023-04-20T16:50:50.866256Z"
    }
   },
   "outputs": [
    {
     "data": {
      "text/html": [
       "<div>\n",
       "<style scoped>\n",
       "    .dataframe tbody tr th:only-of-type {\n",
       "        vertical-align: middle;\n",
       "    }\n",
       "\n",
       "    .dataframe tbody tr th {\n",
       "        vertical-align: top;\n",
       "    }\n",
       "\n",
       "    .dataframe thead th {\n",
       "        text-align: right;\n",
       "    }\n",
       "</style>\n",
       "<table border=\"1\" class=\"dataframe\">\n",
       "  <thead>\n",
       "    <tr style=\"text-align: right;\">\n",
       "      <th></th>\n",
       "      <th>test</th>\n",
       "      <th>lambda</th>\n",
       "      <th>chi2</th>\n",
       "      <th>dof</th>\n",
       "      <th>pval</th>\n",
       "      <th>cramer</th>\n",
       "      <th>power</th>\n",
       "    </tr>\n",
       "  </thead>\n",
       "  <tbody>\n",
       "    <tr>\n",
       "      <th>0</th>\n",
       "      <td>pearson</td>\n",
       "      <td>1.000000</td>\n",
       "      <td>0.021274</td>\n",
       "      <td>1.0</td>\n",
       "      <td>0.884034</td>\n",
       "      <td>0.002272</td>\n",
       "      <td>0.052441</td>\n",
       "    </tr>\n",
       "    <tr>\n",
       "      <th>1</th>\n",
       "      <td>cressie-read</td>\n",
       "      <td>0.666667</td>\n",
       "      <td>0.021284</td>\n",
       "      <td>1.0</td>\n",
       "      <td>0.884008</td>\n",
       "      <td>0.002272</td>\n",
       "      <td>0.052442</td>\n",
       "    </tr>\n",
       "    <tr>\n",
       "      <th>2</th>\n",
       "      <td>log-likelihood</td>\n",
       "      <td>0.000000</td>\n",
       "      <td>0.021304</td>\n",
       "      <td>1.0</td>\n",
       "      <td>0.883954</td>\n",
       "      <td>0.002273</td>\n",
       "      <td>0.052444</td>\n",
       "    </tr>\n",
       "    <tr>\n",
       "      <th>3</th>\n",
       "      <td>freeman-tukey</td>\n",
       "      <td>-0.500000</td>\n",
       "      <td>0.021319</td>\n",
       "      <td>1.0</td>\n",
       "      <td>0.883914</td>\n",
       "      <td>0.002274</td>\n",
       "      <td>0.052446</td>\n",
       "    </tr>\n",
       "    <tr>\n",
       "      <th>4</th>\n",
       "      <td>mod-log-likelihood</td>\n",
       "      <td>-1.000000</td>\n",
       "      <td>0.021334</td>\n",
       "      <td>1.0</td>\n",
       "      <td>0.883873</td>\n",
       "      <td>0.002275</td>\n",
       "      <td>0.052447</td>\n",
       "    </tr>\n",
       "    <tr>\n",
       "      <th>5</th>\n",
       "      <td>neyman</td>\n",
       "      <td>-2.000000</td>\n",
       "      <td>0.021364</td>\n",
       "      <td>1.0</td>\n",
       "      <td>0.883791</td>\n",
       "      <td>0.002276</td>\n",
       "      <td>0.052451</td>\n",
       "    </tr>\n",
       "  </tbody>\n",
       "</table>\n",
       "</div>"
      ],
      "text/plain": [
       "                 test    lambda      chi2  dof      pval    cramer     power\n",
       "0             pearson  1.000000  0.021274  1.0  0.884034  0.002272  0.052441\n",
       "1        cressie-read  0.666667  0.021284  1.0  0.884008  0.002272  0.052442\n",
       "2      log-likelihood  0.000000  0.021304  1.0  0.883954  0.002273  0.052444\n",
       "3       freeman-tukey -0.500000  0.021319  1.0  0.883914  0.002274  0.052446\n",
       "4  mod-log-likelihood -1.000000  0.021334  1.0  0.883873  0.002275  0.052447\n",
       "5              neyman -2.000000  0.021364  1.0  0.883791  0.002276  0.052451"
      ]
     },
     "execution_count": 308,
     "metadata": {},
     "output_type": "execute_result"
    }
   ],
   "source": [
    "# проверяем с помощью критерия хи-квадрат\n",
    "exp, obs, stats = pg.chi2_independence(data=ab_users_data, x='group', y='is_canceled')\n",
    "stats"
   ]
  },
  {
   "cell_type": "markdown",
   "id": "b135d236",
   "metadata": {},
   "source": [
    "**Вывод**"
   ]
  },
  {
   "cell_type": "markdown",
   "id": "7f202a98",
   "metadata": {},
   "source": [
    "Пропорция отмен статзначимо не изменилась"
   ]
  },
  {
   "cell_type": "markdown",
   "id": "1c0f167e",
   "metadata": {},
   "source": [
    "## Гипотеза 3: изменилось число позиций в заказе"
   ]
  },
  {
   "cell_type": "code",
   "execution_count": 309,
   "id": "959e165c",
   "metadata": {
    "ExecuteTime": {
     "end_time": "2023-04-20T16:50:51.658193Z",
     "start_time": "2023-04-20T16:50:51.634255Z"
    }
   },
   "outputs": [],
   "source": [
    "# перевод колонки product_ids в тип list\n",
    "ab_orders['product_id'] = ab_orders.product_ids.str[1:-1].str.split(', ')"
   ]
  },
  {
   "cell_type": "code",
   "execution_count": 310,
   "id": "ca74813e",
   "metadata": {
    "ExecuteTime": {
     "end_time": "2023-04-20T16:50:51.735167Z",
     "start_time": "2023-04-20T16:50:51.695160Z"
    }
   },
   "outputs": [],
   "source": [
    "# отберем не отмененные заказы и объединим их с таблицой ab_orders\n",
    "order_products_list = ab_users_data.query('is_canceled == 0').merge(ab_orders, how='left', on='order_id')"
   ]
  },
  {
   "cell_type": "code",
   "execution_count": 311,
   "id": "a3f816d6",
   "metadata": {
    "ExecuteTime": {
     "end_time": "2023-04-20T16:50:51.783161Z",
     "start_time": "2023-04-20T16:50:51.767158Z"
    }
   },
   "outputs": [],
   "source": [
    "order_products_list['order_size'] = order_products_list.product_id.apply(lambda x: len(x))"
   ]
  },
  {
   "cell_type": "code",
   "execution_count": 312,
   "id": "6aa90a42",
   "metadata": {
    "ExecuteTime": {
     "end_time": "2023-04-20T16:50:51.871163Z",
     "start_time": "2023-04-20T16:50:51.831153Z"
    }
   },
   "outputs": [
    {
     "data": {
      "text/html": [
       "<div>\n",
       "<style scoped>\n",
       "    .dataframe tbody tr th:only-of-type {\n",
       "        vertical-align: middle;\n",
       "    }\n",
       "\n",
       "    .dataframe tbody tr th {\n",
       "        vertical-align: top;\n",
       "    }\n",
       "\n",
       "    .dataframe thead th {\n",
       "        text-align: right;\n",
       "    }\n",
       "</style>\n",
       "<table border=\"1\" class=\"dataframe\">\n",
       "  <thead>\n",
       "    <tr style=\"text-align: right;\">\n",
       "      <th></th>\n",
       "      <th>user_id</th>\n",
       "      <th>order_id</th>\n",
       "      <th>action</th>\n",
       "      <th>time</th>\n",
       "      <th>date</th>\n",
       "      <th>group</th>\n",
       "      <th>is_canceled</th>\n",
       "      <th>creation_time</th>\n",
       "      <th>product_ids</th>\n",
       "      <th>product_id</th>\n",
       "      <th>order_size</th>\n",
       "    </tr>\n",
       "  </thead>\n",
       "  <tbody>\n",
       "    <tr>\n",
       "      <th>0</th>\n",
       "      <td>964</td>\n",
       "      <td>1255</td>\n",
       "      <td>create_order</td>\n",
       "      <td>2022-08-26 00:00:19.000000</td>\n",
       "      <td>2022-08-26</td>\n",
       "      <td>0</td>\n",
       "      <td>0</td>\n",
       "      <td>2022-08-26 00:00:19.000000</td>\n",
       "      <td>{75, 22, 53, 84}</td>\n",
       "      <td>[75, 22, 53, 84]</td>\n",
       "      <td>4</td>\n",
       "    </tr>\n",
       "    <tr>\n",
       "      <th>1</th>\n",
       "      <td>965</td>\n",
       "      <td>1256</td>\n",
       "      <td>create_order</td>\n",
       "      <td>2022-08-26 00:02:21.000000</td>\n",
       "      <td>2022-08-26</td>\n",
       "      <td>1</td>\n",
       "      <td>0</td>\n",
       "      <td>2022-08-26 00:02:21.000000</td>\n",
       "      <td>{56, 76, 39}</td>\n",
       "      <td>[56, 76, 39]</td>\n",
       "      <td>3</td>\n",
       "    </tr>\n",
       "    <tr>\n",
       "      <th>2</th>\n",
       "      <td>964</td>\n",
       "      <td>1257</td>\n",
       "      <td>create_order</td>\n",
       "      <td>2022-08-26 00:02:27.000000</td>\n",
       "      <td>2022-08-26</td>\n",
       "      <td>0</td>\n",
       "      <td>0</td>\n",
       "      <td>2022-08-26 00:02:27.000000</td>\n",
       "      <td>{76, 34, 41, 38}</td>\n",
       "      <td>[76, 34, 41, 38]</td>\n",
       "      <td>4</td>\n",
       "    </tr>\n",
       "    <tr>\n",
       "      <th>3</th>\n",
       "      <td>967</td>\n",
       "      <td>1259</td>\n",
       "      <td>create_order</td>\n",
       "      <td>2022-08-26 00:03:37.000000</td>\n",
       "      <td>2022-08-26</td>\n",
       "      <td>1</td>\n",
       "      <td>0</td>\n",
       "      <td>2022-08-26 00:03:37.000000</td>\n",
       "      <td>{20, 45, 67, 26}</td>\n",
       "      <td>[20, 45, 67, 26]</td>\n",
       "      <td>4</td>\n",
       "    </tr>\n",
       "    <tr>\n",
       "      <th>4</th>\n",
       "      <td>968</td>\n",
       "      <td>1261</td>\n",
       "      <td>create_order</td>\n",
       "      <td>2022-08-26 00:05:35.000000</td>\n",
       "      <td>2022-08-26</td>\n",
       "      <td>0</td>\n",
       "      <td>0</td>\n",
       "      <td>2022-08-26 00:05:35.000000</td>\n",
       "      <td>{30, 35, 69, 6}</td>\n",
       "      <td>[30, 35, 69, 6]</td>\n",
       "      <td>4</td>\n",
       "    </tr>\n",
       "  </tbody>\n",
       "</table>\n",
       "</div>"
      ],
      "text/plain": [
       "   user_id  order_id        action                        time        date  \\\n",
       "0      964      1255  create_order  2022-08-26 00:00:19.000000  2022-08-26   \n",
       "1      965      1256  create_order  2022-08-26 00:02:21.000000  2022-08-26   \n",
       "2      964      1257  create_order  2022-08-26 00:02:27.000000  2022-08-26   \n",
       "3      967      1259  create_order  2022-08-26 00:03:37.000000  2022-08-26   \n",
       "4      968      1261  create_order  2022-08-26 00:05:35.000000  2022-08-26   \n",
       "\n",
       "   group  is_canceled               creation_time       product_ids  \\\n",
       "0      0            0  2022-08-26 00:00:19.000000  {75, 22, 53, 84}   \n",
       "1      1            0  2022-08-26 00:02:21.000000      {56, 76, 39}   \n",
       "2      0            0  2022-08-26 00:02:27.000000  {76, 34, 41, 38}   \n",
       "3      1            0  2022-08-26 00:03:37.000000  {20, 45, 67, 26}   \n",
       "4      0            0  2022-08-26 00:05:35.000000   {30, 35, 69, 6}   \n",
       "\n",
       "         product_id  order_size  \n",
       "0  [75, 22, 53, 84]           4  \n",
       "1      [56, 76, 39]           3  \n",
       "2  [76, 34, 41, 38]           4  \n",
       "3  [20, 45, 67, 26]           4  \n",
       "4   [30, 35, 69, 6]           4  "
      ]
     },
     "execution_count": 312,
     "metadata": {},
     "output_type": "execute_result"
    }
   ],
   "source": [
    "order_products_list.head()"
   ]
  },
  {
   "cell_type": "code",
   "execution_count": 313,
   "id": "3f332afd",
   "metadata": {
    "ExecuteTime": {
     "end_time": "2023-04-20T16:50:51.927158Z",
     "start_time": "2023-04-20T16:50:51.903155Z"
    }
   },
   "outputs": [],
   "source": [
    "control = order_products_list.query('group == 0').order_size\n",
    "test = order_products_list.query('group == 1').order_size"
   ]
  },
  {
   "cell_type": "code",
   "execution_count": 314,
   "id": "3dd8209d",
   "metadata": {
    "ExecuteTime": {
     "end_time": "2023-04-20T16:50:52.480901Z",
     "start_time": "2023-04-20T16:50:51.999198Z"
    }
   },
   "outputs": [
    {
     "data": {
      "text/plain": [
       "<AxesSubplot:xlabel='order_size', ylabel='count'>"
      ]
     },
     "execution_count": 314,
     "metadata": {},
     "output_type": "execute_result"
    },
    {
     "data": {
      "image/png": "[encoded data removed]",
      "text/plain": [
       "<Figure size 1440x504 with 1 Axes>"
      ]
     },
     "metadata": {},
     "output_type": "display_data"
    }
   ],
   "source": [
    "sns.countplot(data=order_products_list, x='order_size', hue='group')"
   ]
  },
  {
   "cell_type": "code",
   "execution_count": 315,
   "id": "bc0d2631",
   "metadata": {
    "ExecuteTime": {
     "end_time": "2023-04-20T16:50:52.520916Z",
     "start_time": "2023-04-20T16:50:52.480901Z"
    }
   },
   "outputs": [
    {
     "data": {
      "text/html": [
       "<div>\n",
       "<style scoped>\n",
       "    .dataframe tbody tr th:only-of-type {\n",
       "        vertical-align: middle;\n",
       "    }\n",
       "\n",
       "    .dataframe tbody tr th {\n",
       "        vertical-align: top;\n",
       "    }\n",
       "\n",
       "    .dataframe thead th {\n",
       "        text-align: right;\n",
       "    }\n",
       "</style>\n",
       "<table border=\"1\" class=\"dataframe\">\n",
       "  <thead>\n",
       "    <tr style=\"text-align: right;\">\n",
       "      <th></th>\n",
       "      <th>T</th>\n",
       "      <th>dof</th>\n",
       "      <th>alternative</th>\n",
       "      <th>p-val</th>\n",
       "      <th>CI95%</th>\n",
       "      <th>cohen-d</th>\n",
       "      <th>BF10</th>\n",
       "      <th>power</th>\n",
       "    </tr>\n",
       "  </thead>\n",
       "  <tbody>\n",
       "    <tr>\n",
       "      <th>T-test</th>\n",
       "      <td>-0.19686</td>\n",
       "      <td>3279.245189</td>\n",
       "      <td>two-sided</td>\n",
       "      <td>0.843949</td>\n",
       "      <td>[-0.09, 0.07]</td>\n",
       "      <td>0.006438</td>\n",
       "      <td>0.038</td>\n",
       "      <td>0.054427</td>\n",
       "    </tr>\n",
       "  </tbody>\n",
       "</table>\n",
       "</div>"
      ],
      "text/plain": [
       "              T          dof alternative     p-val          CI95%   cohen-d  \\\n",
       "T-test -0.19686  3279.245189   two-sided  0.843949  [-0.09, 0.07]  0.006438   \n",
       "\n",
       "         BF10     power  \n",
       "T-test  0.038  0.054427  "
      ]
     },
     "execution_count": 315,
     "metadata": {},
     "output_type": "execute_result"
    }
   ],
   "source": [
    "pg.ttest(control, test)"
   ]
  },
  {
   "cell_type": "code",
   "execution_count": 316,
   "id": "9fb218d4",
   "metadata": {
    "ExecuteTime": {
     "end_time": "2023-04-20T16:50:52.608895Z",
     "start_time": "2023-04-20T16:50:52.520916Z"
    }
   },
   "outputs": [
    {
     "data": {
      "text/html": [
       "<div>\n",
       "<style scoped>\n",
       "    .dataframe tbody tr th:only-of-type {\n",
       "        vertical-align: middle;\n",
       "    }\n",
       "\n",
       "    .dataframe tbody tr th {\n",
       "        vertical-align: top;\n",
       "    }\n",
       "\n",
       "    .dataframe thead th {\n",
       "        text-align: right;\n",
       "    }\n",
       "</style>\n",
       "<table border=\"1\" class=\"dataframe\">\n",
       "  <thead>\n",
       "    <tr style=\"text-align: right;\">\n",
       "      <th></th>\n",
       "      <th>U-val</th>\n",
       "      <th>alternative</th>\n",
       "      <th>p-val</th>\n",
       "      <th>RBC</th>\n",
       "      <th>CLES</th>\n",
       "    </tr>\n",
       "  </thead>\n",
       "  <tbody>\n",
       "    <tr>\n",
       "      <th>MWU</th>\n",
       "      <td>1806128.0</td>\n",
       "      <td>two-sided</td>\n",
       "      <td>0.708328</td>\n",
       "      <td>0.006889</td>\n",
       "      <td>0.496555</td>\n",
       "    </tr>\n",
       "  </tbody>\n",
       "</table>\n",
       "</div>"
      ],
      "text/plain": [
       "         U-val alternative     p-val       RBC      CLES\n",
       "MWU  1806128.0   two-sided  0.708328  0.006889  0.496555"
      ]
     },
     "execution_count": 316,
     "metadata": {},
     "output_type": "execute_result"
    }
   ],
   "source": [
    "pg.mwu(control, test)"
   ]
  },
  {
   "cell_type": "markdown",
   "id": "3a4120cc",
   "metadata": {},
   "source": [
    "**Вывод**"
   ]
  },
  {
   "cell_type": "markdown",
   "id": "b7af3ba2",
   "metadata": {},
   "source": [
    "Среднее число позиций в заказе не изменилось"
   ]
  },
  {
   "cell_type": "markdown",
   "id": "bbd3c7ab",
   "metadata": {},
   "source": [
    "## Гипотеза 4: изменилась стоимость заказа\n",
    "Одна из наиважнейших метрик для сервисов доставки это AOV(average order value) или средний чек. Статистически сравним этот показатель в наших группах. Я буду вычислять его поюзерно."
   ]
  },
  {
   "cell_type": "markdown",
   "id": "896beebc",
   "metadata": {},
   "source": [
    "### Для того, чтобы посчитать AOV для начала объединим наши таблицы:"
   ]
  },
  {
   "cell_type": "code",
   "execution_count": 317,
   "id": "9d6efc52",
   "metadata": {
    "ExecuteTime": {
     "end_time": "2023-04-20T16:50:53.244471Z",
     "start_time": "2023-04-20T16:50:53.200868Z"
    }
   },
   "outputs": [],
   "source": [
    "# развернем каждый список и переведем значения к типу int\n",
    "ab_orders = ab_orders.explode('product_id')\n",
    "ab_orders['product_id'] = ab_orders.product_id.astype('int')"
   ]
  },
  {
   "cell_type": "code",
   "execution_count": 318,
   "id": "ba6b4a9e",
   "metadata": {
    "ExecuteTime": {
     "end_time": "2023-04-20T16:50:53.300492Z",
     "start_time": "2023-04-20T16:50:53.276465Z"
    }
   },
   "outputs": [
    {
     "data": {
      "text/html": [
       "<div>\n",
       "<style scoped>\n",
       "    .dataframe tbody tr th:only-of-type {\n",
       "        vertical-align: middle;\n",
       "    }\n",
       "\n",
       "    .dataframe tbody tr th {\n",
       "        vertical-align: top;\n",
       "    }\n",
       "\n",
       "    .dataframe thead th {\n",
       "        text-align: right;\n",
       "    }\n",
       "</style>\n",
       "<table border=\"1\" class=\"dataframe\">\n",
       "  <thead>\n",
       "    <tr style=\"text-align: right;\">\n",
       "      <th></th>\n",
       "      <th>order_id</th>\n",
       "      <th>creation_time</th>\n",
       "      <th>product_ids</th>\n",
       "      <th>product_id</th>\n",
       "    </tr>\n",
       "  </thead>\n",
       "  <tbody>\n",
       "    <tr>\n",
       "      <th>0</th>\n",
       "      <td>1255</td>\n",
       "      <td>2022-08-26 00:00:19.000000</td>\n",
       "      <td>{75, 22, 53, 84}</td>\n",
       "      <td>75</td>\n",
       "    </tr>\n",
       "    <tr>\n",
       "      <th>0</th>\n",
       "      <td>1255</td>\n",
       "      <td>2022-08-26 00:00:19.000000</td>\n",
       "      <td>{75, 22, 53, 84}</td>\n",
       "      <td>22</td>\n",
       "    </tr>\n",
       "    <tr>\n",
       "      <th>0</th>\n",
       "      <td>1255</td>\n",
       "      <td>2022-08-26 00:00:19.000000</td>\n",
       "      <td>{75, 22, 53, 84}</td>\n",
       "      <td>53</td>\n",
       "    </tr>\n",
       "    <tr>\n",
       "      <th>0</th>\n",
       "      <td>1255</td>\n",
       "      <td>2022-08-26 00:00:19.000000</td>\n",
       "      <td>{75, 22, 53, 84}</td>\n",
       "      <td>84</td>\n",
       "    </tr>\n",
       "    <tr>\n",
       "      <th>1</th>\n",
       "      <td>1256</td>\n",
       "      <td>2022-08-26 00:02:21.000000</td>\n",
       "      <td>{56, 76, 39}</td>\n",
       "      <td>56</td>\n",
       "    </tr>\n",
       "  </tbody>\n",
       "</table>\n",
       "</div>"
      ],
      "text/plain": [
       "   order_id               creation_time       product_ids  product_id\n",
       "0      1255  2022-08-26 00:00:19.000000  {75, 22, 53, 84}          75\n",
       "0      1255  2022-08-26 00:00:19.000000  {75, 22, 53, 84}          22\n",
       "0      1255  2022-08-26 00:00:19.000000  {75, 22, 53, 84}          53\n",
       "0      1255  2022-08-26 00:00:19.000000  {75, 22, 53, 84}          84\n",
       "1      1256  2022-08-26 00:02:21.000000      {56, 76, 39}          56"
      ]
     },
     "execution_count": 318,
     "metadata": {},
     "output_type": "execute_result"
    }
   ],
   "source": [
    "ab_orders.head()"
   ]
  },
  {
   "cell_type": "code",
   "execution_count": 319,
   "id": "8bd8d968",
   "metadata": {
    "ExecuteTime": {
     "end_time": "2023-04-20T16:50:53.412486Z",
     "start_time": "2023-04-20T16:50:53.364479Z"
    },
    "scrolled": true
   },
   "outputs": [],
   "source": [
    "# произведем join таблиц\n",
    "ab_data = ab_users_data.query('is_canceled == 0') \\\n",
    "                       .merge(ab_orders, how='left', on='order_id') \\\n",
    "                       .merge(ab_products, how='left', on='product_id')"
   ]
  },
  {
   "cell_type": "code",
   "execution_count": 320,
   "id": "db3248c3",
   "metadata": {
    "ExecuteTime": {
     "end_time": "2023-04-20T16:50:53.500508Z",
     "start_time": "2023-04-20T16:50:53.444472Z"
    }
   },
   "outputs": [],
   "source": [
    "# считаем метрику для каждого пользователя\n",
    "user_group_aov = ab_data.groupby(['user_id', 'order_id', 'group'], as_index=False) \\\n",
    "                        .agg(order_price=('price', 'sum')) \\\n",
    "                        .groupby(['user_id', 'group'], as_index=False) \\\n",
    "                        .agg(AOV=('order_price', 'mean'))"
   ]
  },
  {
   "cell_type": "code",
   "execution_count": 321,
   "id": "8555d2ed",
   "metadata": {
    "ExecuteTime": {
     "end_time": "2023-04-20T16:50:53.564476Z",
     "start_time": "2023-04-20T16:50:53.532507Z"
    }
   },
   "outputs": [
    {
     "data": {
      "text/html": [
       "<div>\n",
       "<style scoped>\n",
       "    .dataframe tbody tr th:only-of-type {\n",
       "        vertical-align: middle;\n",
       "    }\n",
       "\n",
       "    .dataframe tbody tr th {\n",
       "        vertical-align: top;\n",
       "    }\n",
       "\n",
       "    .dataframe thead th {\n",
       "        text-align: right;\n",
       "    }\n",
       "</style>\n",
       "<table border=\"1\" class=\"dataframe\">\n",
       "  <thead>\n",
       "    <tr style=\"text-align: right;\">\n",
       "      <th></th>\n",
       "      <th>user_id</th>\n",
       "      <th>group</th>\n",
       "      <th>AOV</th>\n",
       "    </tr>\n",
       "  </thead>\n",
       "  <tbody>\n",
       "    <tr>\n",
       "      <th>0</th>\n",
       "      <td>964</td>\n",
       "      <td>0</td>\n",
       "      <td>359.450000</td>\n",
       "    </tr>\n",
       "    <tr>\n",
       "      <th>1</th>\n",
       "      <td>965</td>\n",
       "      <td>1</td>\n",
       "      <td>461.722222</td>\n",
       "    </tr>\n",
       "    <tr>\n",
       "      <th>2</th>\n",
       "      <td>967</td>\n",
       "      <td>1</td>\n",
       "      <td>227.480000</td>\n",
       "    </tr>\n",
       "    <tr>\n",
       "      <th>3</th>\n",
       "      <td>968</td>\n",
       "      <td>0</td>\n",
       "      <td>530.233333</td>\n",
       "    </tr>\n",
       "    <tr>\n",
       "      <th>4</th>\n",
       "      <td>969</td>\n",
       "      <td>0</td>\n",
       "      <td>340.950000</td>\n",
       "    </tr>\n",
       "  </tbody>\n",
       "</table>\n",
       "</div>"
      ],
      "text/plain": [
       "   user_id  group         AOV\n",
       "0      964      0  359.450000\n",
       "1      965      1  461.722222\n",
       "2      967      1  227.480000\n",
       "3      968      0  530.233333\n",
       "4      969      0  340.950000"
      ]
     },
     "execution_count": 321,
     "metadata": {},
     "output_type": "execute_result"
    }
   ],
   "source": [
    "user_group_aov.head()"
   ]
  },
  {
   "cell_type": "code",
   "execution_count": 322,
   "id": "a007ba64",
   "metadata": {
    "ExecuteTime": {
     "end_time": "2023-04-20T16:50:53.652473Z",
     "start_time": "2023-04-20T16:50:53.620505Z"
    }
   },
   "outputs": [
    {
     "data": {
      "text/html": [
       "<div>\n",
       "<style scoped>\n",
       "    .dataframe tbody tr th:only-of-type {\n",
       "        vertical-align: middle;\n",
       "    }\n",
       "\n",
       "    .dataframe tbody tr th {\n",
       "        vertical-align: top;\n",
       "    }\n",
       "\n",
       "    .dataframe thead th {\n",
       "        text-align: right;\n",
       "    }\n",
       "</style>\n",
       "<table border=\"1\" class=\"dataframe\">\n",
       "  <thead>\n",
       "    <tr style=\"text-align: right;\">\n",
       "      <th></th>\n",
       "      <th>AOV</th>\n",
       "    </tr>\n",
       "    <tr>\n",
       "      <th>group</th>\n",
       "      <th></th>\n",
       "    </tr>\n",
       "  </thead>\n",
       "  <tbody>\n",
       "    <tr>\n",
       "      <th>0</th>\n",
       "      <td>386.039053</td>\n",
       "    </tr>\n",
       "    <tr>\n",
       "      <th>1</th>\n",
       "      <td>371.203622</td>\n",
       "    </tr>\n",
       "  </tbody>\n",
       "</table>\n",
       "</div>"
      ],
      "text/plain": [
       "              AOV\n",
       "group            \n",
       "0      386.039053\n",
       "1      371.203622"
      ]
     },
     "execution_count": 322,
     "metadata": {},
     "output_type": "execute_result"
    }
   ],
   "source": [
    "# средние\n",
    "user_group_aov.groupby('group').agg({'AOV': 'mean'})"
   ]
  },
  {
   "cell_type": "code",
   "execution_count": 323,
   "id": "2c7ed81c",
   "metadata": {
    "ExecuteTime": {
     "end_time": "2023-04-20T16:50:53.740479Z",
     "start_time": "2023-04-20T16:50:53.708467Z"
    }
   },
   "outputs": [
    {
     "data": {
      "text/html": [
       "<div>\n",
       "<style scoped>\n",
       "    .dataframe tbody tr th:only-of-type {\n",
       "        vertical-align: middle;\n",
       "    }\n",
       "\n",
       "    .dataframe tbody tr th {\n",
       "        vertical-align: top;\n",
       "    }\n",
       "\n",
       "    .dataframe thead th {\n",
       "        text-align: right;\n",
       "    }\n",
       "</style>\n",
       "<table border=\"1\" class=\"dataframe\">\n",
       "  <thead>\n",
       "    <tr style=\"text-align: right;\">\n",
       "      <th></th>\n",
       "      <th>AOV</th>\n",
       "    </tr>\n",
       "    <tr>\n",
       "      <th>group</th>\n",
       "      <th></th>\n",
       "    </tr>\n",
       "  </thead>\n",
       "  <tbody>\n",
       "    <tr>\n",
       "      <th>0</th>\n",
       "      <td>362.666667</td>\n",
       "    </tr>\n",
       "    <tr>\n",
       "      <th>1</th>\n",
       "      <td>355.925000</td>\n",
       "    </tr>\n",
       "  </tbody>\n",
       "</table>\n",
       "</div>"
      ],
      "text/plain": [
       "              AOV\n",
       "group            \n",
       "0      362.666667\n",
       "1      355.925000"
      ]
     },
     "execution_count": 323,
     "metadata": {},
     "output_type": "execute_result"
    }
   ],
   "source": [
    "# медианы\n",
    "user_group_aov.groupby('group').agg({'AOV': 'median'})"
   ]
  },
  {
   "cell_type": "code",
   "execution_count": 324,
   "id": "836bc726",
   "metadata": {
    "ExecuteTime": {
     "end_time": "2023-04-20T16:50:54.052474Z",
     "start_time": "2023-04-20T16:50:53.772480Z"
    }
   },
   "outputs": [
    {
     "data": {
      "text/plain": [
       "<AxesSubplot:xlabel='group', ylabel='AOV'>"
      ]
     },
     "execution_count": 324,
     "metadata": {},
     "output_type": "execute_result"
    },
    {
     "data": {
      "image/png": "[encoded data removed]",
      "text/plain": [
       "<Figure size 1080x864 with 1 Axes>"
      ]
     },
     "metadata": {},
     "output_type": "display_data"
    }
   ],
   "source": [
    "plt.figure(figsize=(15, 12))\n",
    "sns.boxplot(x='group', y='AOV', data=user_group_aov)"
   ]
  },
  {
   "cell_type": "markdown",
   "id": "dd825168",
   "metadata": {},
   "source": [
    "### Проверка параметрических допущений\n",
    "Визуализируем расперделение метрики в группах и проверим данные на нормальность, а также сравним дисперсии:"
   ]
  },
  {
   "cell_type": "markdown",
   "id": "2f409922",
   "metadata": {},
   "source": [
    "- Контрольная группа"
   ]
  },
  {
   "cell_type": "code",
   "execution_count": 325,
   "id": "3f4346f6",
   "metadata": {
    "ExecuteTime": {
     "end_time": "2023-04-20T16:50:54.824508Z",
     "start_time": "2023-04-20T16:50:54.348469Z"
    }
   },
   "outputs": [
    {
     "name": "stderr",
     "output_type": "stream",
     "text": [
      "C:\\Users\\1\\AppData\\Local\\Programs\\Python\\Python310\\lib\\site-packages\\seaborn\\distributions.py:2619: FutureWarning: `distplot` is a deprecated function and will be removed in a future version. Please adapt your code to use either `displot` (a figure-level function with similar flexibility) or `histplot` (an axes-level function for histograms).\n",
      "  warnings.warn(msg, FutureWarning)\n"
     ]
    },
    {
     "data": {
      "image/png": "[encoded data removed]",
      "text/plain": [
       "<Figure size 1440x504 with 1 Axes>"
      ]
     },
     "metadata": {},
     "output_type": "display_data"
    }
   ],
   "source": [
    "ax = sns.distplot(user_group_aov.query('group == 0').AOV, kde=False)\n",
    "ax.set_title('control')\n",
    "sns.despine()"
   ]
  },
  {
   "cell_type": "code",
   "execution_count": 326,
   "id": "d929966d",
   "metadata": {
    "ExecuteTime": {
     "end_time": "2023-04-20T16:50:54.852616Z",
     "start_time": "2023-04-20T16:50:54.824508Z"
    }
   },
   "outputs": [
    {
     "data": {
      "text/plain": [
       "512"
      ]
     },
     "execution_count": 326,
     "metadata": {},
     "output_type": "execute_result"
    }
   ],
   "source": [
    "# размер группы\n",
    "user_group_aov.query('group == 0').AOV.size"
   ]
  },
  {
   "cell_type": "code",
   "execution_count": 327,
   "id": "ea1849ec",
   "metadata": {
    "ExecuteTime": {
     "end_time": "2023-04-20T16:50:54.868608Z",
     "start_time": "2023-04-20T16:50:54.852616Z"
    }
   },
   "outputs": [
    {
     "data": {
      "text/plain": [
       "ShapiroResult(statistic=0.9554150700569153, pvalue=2.5535374162388713e-11)"
      ]
     },
     "execution_count": 327,
     "metadata": {},
     "output_type": "execute_result"
    }
   ],
   "source": [
    "scipy.stats.shapiro(user_group_aov.query('group == 0').AOV)"
   ]
  },
  {
   "cell_type": "code",
   "execution_count": 328,
   "id": "bef7c3c8",
   "metadata": {
    "ExecuteTime": {
     "end_time": "2023-04-20T16:50:54.892611Z",
     "start_time": "2023-04-20T16:50:54.868608Z"
    }
   },
   "outputs": [
    {
     "data": {
      "text/plain": [
       "171.86843191462597"
      ]
     },
     "execution_count": 328,
     "metadata": {},
     "output_type": "execute_result"
    }
   ],
   "source": [
    "np.std(user_group_aov.query('group == 0').AOV)"
   ]
  },
  {
   "cell_type": "code",
   "execution_count": 329,
   "id": "60bd58e3",
   "metadata": {
    "ExecuteTime": {
     "end_time": "2023-04-20T16:50:54.908611Z",
     "start_time": "2023-04-20T16:50:54.892611Z"
    }
   },
   "outputs": [
    {
     "data": {
      "text/plain": [
       "ShapiroResult(statistic=0.9651062488555908, pvalue=1.1295006041578404e-09)"
      ]
     },
     "execution_count": 329,
     "metadata": {},
     "output_type": "execute_result"
    }
   ],
   "source": [
    "# Проверим на трансформированных данных\n",
    "scipy.stats.shapiro(np.log(user_group_aov.query('group == 0').AOV))"
   ]
  },
  {
   "cell_type": "markdown",
   "id": "b0033b34",
   "metadata": {},
   "source": [
    "- Тестовая группа"
   ]
  },
  {
   "cell_type": "code",
   "execution_count": 330,
   "id": "cc778c0f",
   "metadata": {
    "ExecuteTime": {
     "end_time": "2023-04-20T16:50:55.420487Z",
     "start_time": "2023-04-20T16:50:55.004607Z"
    }
   },
   "outputs": [
    {
     "data": {
      "image/png": "[encoded data removed]",
      "text/plain": [
       "<Figure size 1440x504 with 1 Axes>"
      ]
     },
     "metadata": {},
     "output_type": "display_data"
    }
   ],
   "source": [
    "ax = sns.distplot(user_group_aov.query('group == 1').AOV, kde=False)\n",
    "ax.set_title('test')\n",
    "sns.despine()"
   ]
  },
  {
   "cell_type": "code",
   "execution_count": 331,
   "id": "694f5693",
   "metadata": {
    "ExecuteTime": {
     "end_time": "2023-04-20T16:50:55.443860Z",
     "start_time": "2023-04-20T16:50:55.420487Z"
    }
   },
   "outputs": [
    {
     "data": {
      "text/plain": [
       "501"
      ]
     },
     "execution_count": 331,
     "metadata": {},
     "output_type": "execute_result"
    }
   ],
   "source": [
    "# размер группы\n",
    "user_group_aov.query('group == 1').AOV.size"
   ]
  },
  {
   "cell_type": "code",
   "execution_count": 332,
   "id": "bca28a66",
   "metadata": {
    "ExecuteTime": {
     "end_time": "2023-04-20T16:50:55.459870Z",
     "start_time": "2023-04-20T16:50:55.443860Z"
    }
   },
   "outputs": [
    {
     "data": {
      "text/plain": [
       "ShapiroResult(statistic=0.9601094126701355, pvalue=2.0940003897518267e-10)"
      ]
     },
     "execution_count": 332,
     "metadata": {},
     "output_type": "execute_result"
    }
   ],
   "source": [
    "scipy.stats.shapiro(user_group_aov.query('group == 1').AOV)"
   ]
  },
  {
   "cell_type": "code",
   "execution_count": 333,
   "id": "4734f32c",
   "metadata": {
    "ExecuteTime": {
     "end_time": "2023-04-20T16:50:55.491888Z",
     "start_time": "2023-04-20T16:50:55.467882Z"
    }
   },
   "outputs": [
    {
     "data": {
      "text/plain": [
       "131.1116528247126"
      ]
     },
     "execution_count": 333,
     "metadata": {},
     "output_type": "execute_result"
    }
   ],
   "source": [
    "np.std(user_group_aov.query('group == 1').AOV)"
   ]
  },
  {
   "cell_type": "code",
   "execution_count": 334,
   "id": "97f409cc",
   "metadata": {
    "ExecuteTime": {
     "end_time": "2023-04-20T16:50:55.523863Z",
     "start_time": "2023-04-20T16:50:55.491888Z"
    }
   },
   "outputs": [
    {
     "data": {
      "text/plain": [
       "ShapiroResult(statistic=0.9692173004150391, pvalue=9.342582707461133e-09)"
      ]
     },
     "execution_count": 334,
     "metadata": {},
     "output_type": "execute_result"
    }
   ],
   "source": [
    "# Проверим на трансформированных данных\n",
    "scipy.stats.shapiro(np.log(user_group_aov.query('group == 1').AOV))"
   ]
  },
  {
   "cell_type": "markdown",
   "id": "a3456e76",
   "metadata": {},
   "source": [
    "Мы видим, что оба распределения не нормальные, имеются выбросы в правой стороне (p-value в тестах Шапиро-Уилка < 0.05, что заставляет нас отвергнуть нулевую гипотезу о нормальности данных). Требование к гомогенности дисперсий нарушено. Наблюдений не так много (по 500 в каждой группе). Логарифмирование в данном случае ситуацию не исправило."
   ]
  },
  {
   "cell_type": "markdown",
   "id": "da93f401",
   "metadata": {},
   "source": [
    "U-критерий  Манна-Уитни и bootstrap. Первый не имеет каких-либо строгих требований к данным, но его результаты сложно интерпретировать на язык бизнеса. Второй имеет одно методологическое условие: наши выборки должны репрезентативно отображать нашу генеральную совокупность. Так как в данном кейсе нет дополнительной информации о том, как собирались данные, я отдам предпочтение непараметрическому аналогу t-теста."
   ]
  },
  {
   "cell_type": "code",
   "execution_count": 335,
   "id": "7285be66",
   "metadata": {
    "ExecuteTime": {
     "end_time": "2023-04-20T16:50:56.067710Z",
     "start_time": "2023-04-20T16:50:56.043894Z"
    }
   },
   "outputs": [],
   "source": [
    "from scipy.stats import mannwhitneyu"
   ]
  },
  {
   "cell_type": "markdown",
   "id": "29d9c7f4",
   "metadata": {},
   "source": [
    "Гипотезы:\n",
    "\n",
    "- H0: распределения однородны\n",
    "\n",
    "- H1: распределения не однородны"
   ]
  },
  {
   "cell_type": "code",
   "execution_count": 336,
   "id": "5ae532b8",
   "metadata": {
    "ExecuteTime": {
     "end_time": "2023-04-20T16:50:56.368200Z",
     "start_time": "2023-04-20T16:50:56.336201Z"
    }
   },
   "outputs": [],
   "source": [
    "result = mannwhitneyu(user_group_aov.query('group == 0').AOV, user_group_aov.query('group == 1').AOV)"
   ]
  },
  {
   "cell_type": "code",
   "execution_count": 337,
   "id": "2c8b9c4d",
   "metadata": {
    "ExecuteTime": {
     "end_time": "2023-04-20T16:50:56.424203Z",
     "start_time": "2023-04-20T16:50:56.408195Z"
    }
   },
   "outputs": [
    {
     "data": {
      "text/plain": [
       "MannwhitneyuResult(statistic=130986.5, pvalue=0.5576189838851904)"
      ]
     },
     "execution_count": 337,
     "metadata": {},
     "output_type": "execute_result"
    }
   ],
   "source": [
    "result"
   ]
  },
  {
   "cell_type": "markdown",
   "id": "be66a925",
   "metadata": {},
   "source": [
    "**Вывод**"
   ]
  },
  {
   "cell_type": "markdown",
   "id": "af75399d",
   "metadata": {},
   "source": [
    "Мы не смогли отвергнуть нулевую гипотезу о том, что распределения однородны (p-value > 0.05). Умная система рекомендации товаров не дала статистически значимых различий в метрике AOV(средний чек)."
   ]
  },
  {
   "cell_type": "markdown",
   "id": "de45f387",
   "metadata": {},
   "source": [
    "## Гипотеза 5: изменились характеристики ретеншена"
   ]
  },
  {
   "cell_type": "code",
   "execution_count": 338,
   "id": "fd62b4b1",
   "metadata": {
    "ExecuteTime": {
     "end_time": "2023-04-20T16:50:57.094508Z",
     "start_time": "2023-04-20T16:50:57.064194Z"
    }
   },
   "outputs": [],
   "source": [
    "ab_users_data['time'] = pd.to_datetime(ab_users_data.time)"
   ]
  },
  {
   "cell_type": "code",
   "execution_count": 339,
   "id": "ad571ec7",
   "metadata": {
    "ExecuteTime": {
     "end_time": "2023-04-20T16:50:57.174497Z",
     "start_time": "2023-04-20T16:50:57.142497Z"
    }
   },
   "outputs": [
    {
     "data": {
      "text/plain": [
       "Timedelta('13 days 23:41:05')"
      ]
     },
     "execution_count": 339,
     "metadata": {},
     "output_type": "execute_result"
    }
   ],
   "source": [
    "# посмотрим на временной период\n",
    "ab_users_data.time.max() - ab_users_data.time.min()"
   ]
  },
  {
   "cell_type": "code",
   "execution_count": 340,
   "id": "816f16d9",
   "metadata": {
    "ExecuteTime": {
     "end_time": "2023-04-20T16:50:57.270524Z",
     "start_time": "2023-04-20T16:50:57.230534Z"
    }
   },
   "outputs": [],
   "source": [
    "retention = ab_users_data \\\n",
    "                    .groupby(['group', 'user_id'], as_index=False) \\\n",
    "                    .agg(first_order=('time', 'min'), last_order=('time', 'max'))"
   ]
  },
  {
   "cell_type": "code",
   "execution_count": 341,
   "id": "54b8475c",
   "metadata": {
    "ExecuteTime": {
     "end_time": "2023-04-20T16:50:57.342493Z",
     "start_time": "2023-04-20T16:50:57.318522Z"
    }
   },
   "outputs": [
    {
     "data": {
      "text/html": [
       "<div>\n",
       "<style scoped>\n",
       "    .dataframe tbody tr th:only-of-type {\n",
       "        vertical-align: middle;\n",
       "    }\n",
       "\n",
       "    .dataframe tbody tr th {\n",
       "        vertical-align: top;\n",
       "    }\n",
       "\n",
       "    .dataframe thead th {\n",
       "        text-align: right;\n",
       "    }\n",
       "</style>\n",
       "<table border=\"1\" class=\"dataframe\">\n",
       "  <thead>\n",
       "    <tr style=\"text-align: right;\">\n",
       "      <th></th>\n",
       "      <th>group</th>\n",
       "      <th>user_id</th>\n",
       "      <th>first_order</th>\n",
       "      <th>last_order</th>\n",
       "    </tr>\n",
       "  </thead>\n",
       "  <tbody>\n",
       "    <tr>\n",
       "      <th>0</th>\n",
       "      <td>0</td>\n",
       "      <td>964</td>\n",
       "      <td>2022-08-26 00:00:19</td>\n",
       "      <td>2022-08-26 00:02:27</td>\n",
       "    </tr>\n",
       "    <tr>\n",
       "      <th>1</th>\n",
       "      <td>0</td>\n",
       "      <td>966</td>\n",
       "      <td>2022-08-26 00:02:56</td>\n",
       "      <td>2022-08-26 00:02:56</td>\n",
       "    </tr>\n",
       "    <tr>\n",
       "      <th>2</th>\n",
       "      <td>0</td>\n",
       "      <td>968</td>\n",
       "      <td>2022-08-26 00:05:35</td>\n",
       "      <td>2022-08-31 05:27:34</td>\n",
       "    </tr>\n",
       "    <tr>\n",
       "      <th>3</th>\n",
       "      <td>0</td>\n",
       "      <td>969</td>\n",
       "      <td>2022-08-26 00:06:25</td>\n",
       "      <td>2022-08-28 08:14:39</td>\n",
       "    </tr>\n",
       "    <tr>\n",
       "      <th>4</th>\n",
       "      <td>0</td>\n",
       "      <td>972</td>\n",
       "      <td>2022-08-26 00:11:21</td>\n",
       "      <td>2022-08-26 00:11:21</td>\n",
       "    </tr>\n",
       "  </tbody>\n",
       "</table>\n",
       "</div>"
      ],
      "text/plain": [
       "   group  user_id         first_order          last_order\n",
       "0      0      964 2022-08-26 00:00:19 2022-08-26 00:02:27\n",
       "1      0      966 2022-08-26 00:02:56 2022-08-26 00:02:56\n",
       "2      0      968 2022-08-26 00:05:35 2022-08-31 05:27:34\n",
       "3      0      969 2022-08-26 00:06:25 2022-08-28 08:14:39\n",
       "4      0      972 2022-08-26 00:11:21 2022-08-26 00:11:21"
      ]
     },
     "execution_count": 341,
     "metadata": {},
     "output_type": "execute_result"
    }
   ],
   "source": [
    "retention.head()"
   ]
  },
  {
   "cell_type": "code",
   "execution_count": 342,
   "id": "a1ea6fe3",
   "metadata": {
    "ExecuteTime": {
     "end_time": "2023-04-20T16:50:57.446498Z",
     "start_time": "2023-04-20T16:50:57.406500Z"
    }
   },
   "outputs": [
    {
     "data": {
      "text/plain": [
       "count                         1017\n",
       "mean     6 days 23:27:21.923303834\n",
       "std      4 days 06:43:22.480610835\n",
       "min                0 days 00:00:00\n",
       "25%                3 days 11:27:14\n",
       "50%                7 days 15:39:20\n",
       "75%               10 days 13:37:01\n",
       "max               13 days 22:36:14\n",
       "dtype: object"
      ]
     },
     "execution_count": 342,
     "metadata": {},
     "output_type": "execute_result"
    }
   ],
   "source": [
    "# средняя разница составляет около недели\n",
    "(retention.last_order - retention.first_order).describe()"
   ]
  },
  {
   "cell_type": "markdown",
   "id": "bad0bf91",
   "metadata": {},
   "source": [
    "\"Время жизни\" каждого клиента"
   ]
  },
  {
   "cell_type": "code",
   "execution_count": 343,
   "id": "49ef3c05",
   "metadata": {
    "ExecuteTime": {
     "end_time": "2023-04-20T16:50:57.808310Z",
     "start_time": "2023-04-20T16:50:57.760328Z"
    }
   },
   "outputs": [
    {
     "data": {
      "text/html": [
       "<div>\n",
       "<style scoped>\n",
       "    .dataframe tbody tr th:only-of-type {\n",
       "        vertical-align: middle;\n",
       "    }\n",
       "\n",
       "    .dataframe tbody tr th {\n",
       "        vertical-align: top;\n",
       "    }\n",
       "\n",
       "    .dataframe thead th {\n",
       "        text-align: right;\n",
       "    }\n",
       "</style>\n",
       "<table border=\"1\" class=\"dataframe\">\n",
       "  <thead>\n",
       "    <tr style=\"text-align: right;\">\n",
       "      <th></th>\n",
       "      <th>group</th>\n",
       "      <th>user_id</th>\n",
       "      <th>first_order</th>\n",
       "      <th>last_order</th>\n",
       "      <th>lifetime</th>\n",
       "    </tr>\n",
       "  </thead>\n",
       "  <tbody>\n",
       "    <tr>\n",
       "      <th>0</th>\n",
       "      <td>0</td>\n",
       "      <td>964</td>\n",
       "      <td>2022-08-26 00:00:19</td>\n",
       "      <td>2022-08-26 00:02:27</td>\n",
       "      <td>0.001481</td>\n",
       "    </tr>\n",
       "    <tr>\n",
       "      <th>1</th>\n",
       "      <td>0</td>\n",
       "      <td>966</td>\n",
       "      <td>2022-08-26 00:02:56</td>\n",
       "      <td>2022-08-26 00:02:56</td>\n",
       "      <td>0.000000</td>\n",
       "    </tr>\n",
       "    <tr>\n",
       "      <th>2</th>\n",
       "      <td>0</td>\n",
       "      <td>968</td>\n",
       "      <td>2022-08-26 00:05:35</td>\n",
       "      <td>2022-08-31 05:27:34</td>\n",
       "      <td>5.223600</td>\n",
       "    </tr>\n",
       "    <tr>\n",
       "      <th>3</th>\n",
       "      <td>0</td>\n",
       "      <td>969</td>\n",
       "      <td>2022-08-26 00:06:25</td>\n",
       "      <td>2022-08-28 08:14:39</td>\n",
       "      <td>2.339051</td>\n",
       "    </tr>\n",
       "    <tr>\n",
       "      <th>4</th>\n",
       "      <td>0</td>\n",
       "      <td>972</td>\n",
       "      <td>2022-08-26 00:11:21</td>\n",
       "      <td>2022-08-26 00:11:21</td>\n",
       "      <td>0.000000</td>\n",
       "    </tr>\n",
       "  </tbody>\n",
       "</table>\n",
       "</div>"
      ],
      "text/plain": [
       "   group  user_id         first_order          last_order  lifetime\n",
       "0      0      964 2022-08-26 00:00:19 2022-08-26 00:02:27  0.001481\n",
       "1      0      966 2022-08-26 00:02:56 2022-08-26 00:02:56  0.000000\n",
       "2      0      968 2022-08-26 00:05:35 2022-08-31 05:27:34  5.223600\n",
       "3      0      969 2022-08-26 00:06:25 2022-08-28 08:14:39  2.339051\n",
       "4      0      972 2022-08-26 00:11:21 2022-08-26 00:11:21  0.000000"
      ]
     },
     "execution_count": 343,
     "metadata": {},
     "output_type": "execute_result"
    }
   ],
   "source": [
    "retention['lifetime'] = (retention.last_order - retention.first_order).dt.total_seconds() / (3600 * 24)\n",
    "retention.head()"
   ]
  },
  {
   "cell_type": "code",
   "execution_count": 344,
   "id": "54cba716",
   "metadata": {
    "ExecuteTime": {
     "end_time": "2023-04-20T16:50:57.872324Z",
     "start_time": "2023-04-20T16:50:57.856319Z"
    }
   },
   "outputs": [
    {
     "data": {
      "text/plain": [
       "2022-08-26    1017\n",
       "Name: first_order, dtype: int64"
      ]
     },
     "execution_count": 344,
     "metadata": {},
     "output_type": "execute_result"
    }
   ],
   "source": [
    "retention.first_order.dt.date.value_counts() # все пользователи из одной когорты"
   ]
  },
  {
   "cell_type": "markdown",
   "id": "1416b450",
   "metadata": {},
   "source": [
    "Создадим переменную оттока: оттоком будем считать, когда пользователь последний раз делал заказ раньше, чем за 7 дней до конца периода эксперимента."
   ]
  },
  {
   "cell_type": "code",
   "execution_count": 345,
   "id": "9526bf2b",
   "metadata": {
    "ExecuteTime": {
     "end_time": "2023-04-20T16:50:58.272332Z",
     "start_time": "2023-04-20T16:50:58.232316Z"
    }
   },
   "outputs": [
    {
     "data": {
      "text/html": [
       "<div>\n",
       "<style scoped>\n",
       "    .dataframe tbody tr th:only-of-type {\n",
       "        vertical-align: middle;\n",
       "    }\n",
       "\n",
       "    .dataframe tbody tr th {\n",
       "        vertical-align: top;\n",
       "    }\n",
       "\n",
       "    .dataframe thead th {\n",
       "        text-align: right;\n",
       "    }\n",
       "</style>\n",
       "<table border=\"1\" class=\"dataframe\">\n",
       "  <thead>\n",
       "    <tr style=\"text-align: right;\">\n",
       "      <th></th>\n",
       "      <th>group</th>\n",
       "      <th>user_id</th>\n",
       "      <th>first_order</th>\n",
       "      <th>last_order</th>\n",
       "      <th>lifetime</th>\n",
       "      <th>churn</th>\n",
       "    </tr>\n",
       "  </thead>\n",
       "  <tbody>\n",
       "    <tr>\n",
       "      <th>0</th>\n",
       "      <td>0</td>\n",
       "      <td>964</td>\n",
       "      <td>2022-08-26 00:00:19</td>\n",
       "      <td>2022-08-26 00:02:27</td>\n",
       "      <td>0.001481</td>\n",
       "      <td>1</td>\n",
       "    </tr>\n",
       "    <tr>\n",
       "      <th>1</th>\n",
       "      <td>0</td>\n",
       "      <td>966</td>\n",
       "      <td>2022-08-26 00:02:56</td>\n",
       "      <td>2022-08-26 00:02:56</td>\n",
       "      <td>0.000000</td>\n",
       "      <td>1</td>\n",
       "    </tr>\n",
       "    <tr>\n",
       "      <th>2</th>\n",
       "      <td>0</td>\n",
       "      <td>968</td>\n",
       "      <td>2022-08-26 00:05:35</td>\n",
       "      <td>2022-08-31 05:27:34</td>\n",
       "      <td>5.223600</td>\n",
       "      <td>1</td>\n",
       "    </tr>\n",
       "    <tr>\n",
       "      <th>3</th>\n",
       "      <td>0</td>\n",
       "      <td>969</td>\n",
       "      <td>2022-08-26 00:06:25</td>\n",
       "      <td>2022-08-28 08:14:39</td>\n",
       "      <td>2.339051</td>\n",
       "      <td>1</td>\n",
       "    </tr>\n",
       "    <tr>\n",
       "      <th>4</th>\n",
       "      <td>0</td>\n",
       "      <td>972</td>\n",
       "      <td>2022-08-26 00:11:21</td>\n",
       "      <td>2022-08-26 00:11:21</td>\n",
       "      <td>0.000000</td>\n",
       "      <td>1</td>\n",
       "    </tr>\n",
       "  </tbody>\n",
       "</table>\n",
       "</div>"
      ],
      "text/plain": [
       "   group  user_id         first_order          last_order  lifetime  churn\n",
       "0      0      964 2022-08-26 00:00:19 2022-08-26 00:02:27  0.001481      1\n",
       "1      0      966 2022-08-26 00:02:56 2022-08-26 00:02:56  0.000000      1\n",
       "2      0      968 2022-08-26 00:05:35 2022-08-31 05:27:34  5.223600      1\n",
       "3      0      969 2022-08-26 00:06:25 2022-08-28 08:14:39  2.339051      1\n",
       "4      0      972 2022-08-26 00:11:21 2022-08-26 00:11:21  0.000000      1"
      ]
     },
     "execution_count": 345,
     "metadata": {},
     "output_type": "execute_result"
    }
   ],
   "source": [
    "retention['churn'] = ((ab_users_data.time.max() - retention.last_order) > pd.Timedelta('7d')).astype('int')\n",
    "retention.head()"
   ]
  },
  {
   "cell_type": "markdown",
   "id": "1375a098",
   "metadata": {},
   "source": [
    "### Анализ lifetime"
   ]
  },
  {
   "cell_type": "code",
   "execution_count": 346,
   "id": "df226364",
   "metadata": {
    "ExecuteTime": {
     "end_time": "2023-04-20T16:50:58.928337Z",
     "start_time": "2023-04-20T16:50:58.328330Z"
    }
   },
   "outputs": [
    {
     "data": {
      "text/plain": [
       "<AxesSubplot:xlabel='lifetime', ylabel='Count'>"
      ]
     },
     "execution_count": 346,
     "metadata": {},
     "output_type": "execute_result"
    },
    {
     "data": {
      "image/png": "[encoded data removed]",
      "text/plain": [
       "<Figure size 1440x504 with 1 Axes>"
      ]
     },
     "metadata": {},
     "output_type": "display_data"
    }
   ],
   "source": [
    "sns.histplot(data=retention, x='lifetime', hue='group', palette='dark')"
   ]
  },
  {
   "cell_type": "markdown",
   "id": "857bec18",
   "metadata": {},
   "source": [
    "Такие распределения вряд-ли можно сравнить, используя t-test, так что используем MW"
   ]
  },
  {
   "cell_type": "code",
   "execution_count": 347,
   "id": "aff257fc",
   "metadata": {
    "ExecuteTime": {
     "end_time": "2023-04-20T16:50:58.976324Z",
     "start_time": "2023-04-20T16:50:58.928337Z"
    }
   },
   "outputs": [
    {
     "data": {
      "text/html": [
       "<div>\n",
       "<style scoped>\n",
       "    .dataframe tbody tr th:only-of-type {\n",
       "        vertical-align: middle;\n",
       "    }\n",
       "\n",
       "    .dataframe tbody tr th {\n",
       "        vertical-align: top;\n",
       "    }\n",
       "\n",
       "    .dataframe thead th {\n",
       "        text-align: right;\n",
       "    }\n",
       "</style>\n",
       "<table border=\"1\" class=\"dataframe\">\n",
       "  <thead>\n",
       "    <tr style=\"text-align: right;\">\n",
       "      <th></th>\n",
       "      <th>U-val</th>\n",
       "      <th>alternative</th>\n",
       "      <th>p-val</th>\n",
       "      <th>RBC</th>\n",
       "      <th>CLES</th>\n",
       "    </tr>\n",
       "  </thead>\n",
       "  <tbody>\n",
       "    <tr>\n",
       "      <th>MWU</th>\n",
       "      <td>98354.0</td>\n",
       "      <td>two-sided</td>\n",
       "      <td>3.984586e-11</td>\n",
       "      <td>0.239129</td>\n",
       "      <td>0.380436</td>\n",
       "    </tr>\n",
       "  </tbody>\n",
       "</table>\n",
       "</div>"
      ],
      "text/plain": [
       "       U-val alternative         p-val       RBC      CLES\n",
       "MWU  98354.0   two-sided  3.984586e-11  0.239129  0.380436"
      ]
     },
     "execution_count": 347,
     "metadata": {},
     "output_type": "execute_result"
    }
   ],
   "source": [
    "pg.mwu(x=retention.query('group == 0').lifetime, y=retention.query('group == 1').lifetime)"
   ]
  },
  {
   "cell_type": "markdown",
   "id": "b93bf61d",
   "metadata": {},
   "source": [
    "**Вывод**"
   ]
  },
  {
   "cell_type": "markdown",
   "id": "129a3923",
   "metadata": {},
   "source": [
    "Есть статзначимые различия во \"времени жизни\" клиента: пользователи в тесте имеют большие значения \"lifetime\""
   ]
  },
  {
   "cell_type": "markdown",
   "id": "01ca7b0f",
   "metadata": {},
   "source": [
    "### Анализ оттока"
   ]
  },
  {
   "cell_type": "code",
   "execution_count": 348,
   "id": "46e46675",
   "metadata": {
    "ExecuteTime": {
     "end_time": "2023-04-20T16:50:59.480322Z",
     "start_time": "2023-04-20T16:50:59.424349Z"
    }
   },
   "outputs": [
    {
     "data": {
      "text/html": [
       "<div>\n",
       "<style scoped>\n",
       "    .dataframe tbody tr th:only-of-type {\n",
       "        vertical-align: middle;\n",
       "    }\n",
       "\n",
       "    .dataframe tbody tr th {\n",
       "        vertical-align: top;\n",
       "    }\n",
       "\n",
       "    .dataframe thead th {\n",
       "        text-align: right;\n",
       "    }\n",
       "</style>\n",
       "<table border=\"1\" class=\"dataframe\">\n",
       "  <thead>\n",
       "    <tr style=\"text-align: right;\">\n",
       "      <th>churn</th>\n",
       "      <th>0</th>\n",
       "      <th>1</th>\n",
       "    </tr>\n",
       "    <tr>\n",
       "      <th>group</th>\n",
       "      <th></th>\n",
       "      <th></th>\n",
       "    </tr>\n",
       "  </thead>\n",
       "  <tbody>\n",
       "    <tr>\n",
       "      <th>0</th>\n",
       "      <td>252</td>\n",
       "      <td>263</td>\n",
       "    </tr>\n",
       "    <tr>\n",
       "      <th>1</th>\n",
       "      <td>332</td>\n",
       "      <td>170</td>\n",
       "    </tr>\n",
       "  </tbody>\n",
       "</table>\n",
       "</div>"
      ],
      "text/plain": [
       "churn    0    1\n",
       "group          \n",
       "0      252  263\n",
       "1      332  170"
      ]
     },
     "execution_count": 348,
     "metadata": {},
     "output_type": "execute_result"
    }
   ],
   "source": [
    "pd.crosstab(retention.group, retention.churn)"
   ]
  },
  {
   "cell_type": "code",
   "execution_count": 349,
   "id": "2a1235ed",
   "metadata": {
    "ExecuteTime": {
     "end_time": "2023-04-20T16:50:59.560323Z",
     "start_time": "2023-04-20T16:50:59.496320Z"
    }
   },
   "outputs": [
    {
     "data": {
      "text/html": [
       "<div>\n",
       "<style scoped>\n",
       "    .dataframe tbody tr th:only-of-type {\n",
       "        vertical-align: middle;\n",
       "    }\n",
       "\n",
       "    .dataframe tbody tr th {\n",
       "        vertical-align: top;\n",
       "    }\n",
       "\n",
       "    .dataframe thead th {\n",
       "        text-align: right;\n",
       "    }\n",
       "</style>\n",
       "<table border=\"1\" class=\"dataframe\">\n",
       "  <thead>\n",
       "    <tr style=\"text-align: right;\">\n",
       "      <th></th>\n",
       "      <th>test</th>\n",
       "      <th>lambda</th>\n",
       "      <th>chi2</th>\n",
       "      <th>dof</th>\n",
       "      <th>pval</th>\n",
       "      <th>cramer</th>\n",
       "      <th>power</th>\n",
       "    </tr>\n",
       "  </thead>\n",
       "  <tbody>\n",
       "    <tr>\n",
       "      <th>0</th>\n",
       "      <td>pearson</td>\n",
       "      <td>1.000000</td>\n",
       "      <td>30.072727</td>\n",
       "      <td>1.0</td>\n",
       "      <td>4.161428e-08</td>\n",
       "      <td>0.171959</td>\n",
       "      <td>0.999787</td>\n",
       "    </tr>\n",
       "    <tr>\n",
       "      <th>1</th>\n",
       "      <td>cressie-read</td>\n",
       "      <td>0.666667</td>\n",
       "      <td>30.113482</td>\n",
       "      <td>1.0</td>\n",
       "      <td>4.074885e-08</td>\n",
       "      <td>0.172076</td>\n",
       "      <td>0.999790</td>\n",
       "    </tr>\n",
       "    <tr>\n",
       "      <th>2</th>\n",
       "      <td>log-likelihood</td>\n",
       "      <td>0.000000</td>\n",
       "      <td>30.250438</td>\n",
       "      <td>1.0</td>\n",
       "      <td>3.797055e-08</td>\n",
       "      <td>0.172467</td>\n",
       "      <td>0.999800</td>\n",
       "    </tr>\n",
       "    <tr>\n",
       "      <th>3</th>\n",
       "      <td>freeman-tukey</td>\n",
       "      <td>-0.500000</td>\n",
       "      <td>30.402505</td>\n",
       "      <td>1.0</td>\n",
       "      <td>3.510745e-08</td>\n",
       "      <td>0.172900</td>\n",
       "      <td>0.999810</td>\n",
       "    </tr>\n",
       "    <tr>\n",
       "      <th>4</th>\n",
       "      <td>mod-log-likelihood</td>\n",
       "      <td>-1.000000</td>\n",
       "      <td>30.597845</td>\n",
       "      <td>1.0</td>\n",
       "      <td>3.174461e-08</td>\n",
       "      <td>0.173454</td>\n",
       "      <td>0.999823</td>\n",
       "    </tr>\n",
       "    <tr>\n",
       "      <th>5</th>\n",
       "      <td>neyman</td>\n",
       "      <td>-2.000000</td>\n",
       "      <td>31.122750</td>\n",
       "      <td>1.0</td>\n",
       "      <td>2.422158e-08</td>\n",
       "      <td>0.174936</td>\n",
       "      <td>0.999852</td>\n",
       "    </tr>\n",
       "  </tbody>\n",
       "</table>\n",
       "</div>"
      ],
      "text/plain": [
       "                 test    lambda       chi2  dof          pval    cramer  \\\n",
       "0             pearson  1.000000  30.072727  1.0  4.161428e-08  0.171959   \n",
       "1        cressie-read  0.666667  30.113482  1.0  4.074885e-08  0.172076   \n",
       "2      log-likelihood  0.000000  30.250438  1.0  3.797055e-08  0.172467   \n",
       "3       freeman-tukey -0.500000  30.402505  1.0  3.510745e-08  0.172900   \n",
       "4  mod-log-likelihood -1.000000  30.597845  1.0  3.174461e-08  0.173454   \n",
       "5              neyman -2.000000  31.122750  1.0  2.422158e-08  0.174936   \n",
       "\n",
       "      power  \n",
       "0  0.999787  \n",
       "1  0.999790  \n",
       "2  0.999800  \n",
       "3  0.999810  \n",
       "4  0.999823  \n",
       "5  0.999852  "
      ]
     },
     "execution_count": 349,
     "metadata": {},
     "output_type": "execute_result"
    }
   ],
   "source": [
    "exp, obs, stat = pg.chi2_independence(data=retention, x='group', y='churn')\n",
    "stat"
   ]
  },
  {
   "cell_type": "markdown",
   "id": "af605d57",
   "metadata": {},
   "source": [
    "**Вывод**"
   ]
  },
  {
   "cell_type": "markdown",
   "id": "92d72378",
   "metadata": {
    "ExecuteTime": {
     "end_time": "2023-04-20T16:49:22.196440Z",
     "start_time": "2023-04-20T16:49:22.171518Z"
    }
   },
   "source": [
    "Есть статзначимая взаимосвязь между группами по соотношению оттока: процент оттока в тесте меньше, чем в контроле "
   ]
  },
  {
   "cell_type": "markdown",
   "id": "65823920",
   "metadata": {},
   "source": [
    "# Заключение"
   ]
  },
  {
   "cell_type": "markdown",
   "id": "d006cc89",
   "metadata": {},
   "source": [
    "- Среднее число заказов на пользователя значимо увеличилось в тесте\n",
    "- Пропорция отмен статзначимо не изменилась\n",
    "- Среднее число позиций в заказе не изменилось\n",
    "- Мы не смогли отвергнуть нулевую гипотезу о том, что распределения однородны (p-value > 0.05). Умная система рекомендации товаров не дала статистически значимых различий в метрике AOV(средний чек).\n",
    "- Есть статзначимые различия во \"времени жизни\" клиента: пользователи в тесте имеют большие значения \"lifetime\"\n",
    "- Есть статзначимая взаимосвязь между группами по соотношению оттока: процент оттока в тесте меньше, чем в контроле"
   ]
  },
  {
   "cell_type": "markdown",
   "id": "c8f330aa",
   "metadata": {},
   "source": [
    "Во второй группе пользователи делают больше заказов - соответственно, несмотря на отсутствие изменений в среднем чеке, наша выручка выросла ввиду большей активности пользователей. Также есть значимое улучшение таких параметров ретеншена, как \"lifetime\" и \"churn rate\" в тестовой группе"
   ]
  },
  {
   "cell_type": "markdown",
   "id": "614e3853",
   "metadata": {},
   "source": [
    "**Умная система рекомендаций товаров принесла нам больше выручки и увеличила лояльность пользователей. Можно считать ее эффективной и раскатывать на весь сервис.**"
   ]
  },
  {
   "cell_type": "markdown",
   "id": "642b2215",
   "metadata": {},
   "source": [
    "# Анализ выживаемости"
   ]
  },
  {
   "cell_type": "code",
   "execution_count": 356,
   "id": "c053eb8d",
   "metadata": {
    "ExecuteTime": {
     "end_time": "2023-04-20T18:12:24.444660Z",
     "start_time": "2023-04-20T18:12:24.422427Z"
    }
   },
   "outputs": [],
   "source": [
    "import lifelines as lf"
   ]
  },
  {
   "cell_type": "code",
   "execution_count": 357,
   "id": "7c325347",
   "metadata": {
    "ExecuteTime": {
     "end_time": "2023-04-20T18:12:25.020652Z",
     "start_time": "2023-04-20T18:12:25.004670Z"
    }
   },
   "outputs": [],
   "source": [
    "kmf = lf.KaplanMeierFitter()"
   ]
  },
  {
   "cell_type": "code",
   "execution_count": 358,
   "id": "7f6a25ba",
   "metadata": {
    "ExecuteTime": {
     "end_time": "2023-04-20T18:15:43.276899Z",
     "start_time": "2023-04-20T18:15:42.691639Z"
    }
   },
   "outputs": [
    {
     "data": {
      "image/png": "[encoded data removed]",
      "text/plain": [
       "<Figure size 1440x504 with 1 Axes>"
      ]
     },
     "metadata": {},
     "output_type": "display_data"
    }
   ],
   "source": [
    "ax = plt.subplot(111) # чтобы поместить кривые групп на один рисунок\n",
    "\n",
    "kmf.fit(durations=retention.query('group == 0').lifetime,\n",
    "        event_observed=retention.query('group == 0').churn,\n",
    "        label=\"Control\")\n",
    "kmf.plot(ax=ax)\n",
    "\n",
    "kmf.fit(durations=retention.query('group == 1').lifetime,\n",
    "        event_observed=retention.query('group == 1').churn,\n",
    "        label=\"Test\")\n",
    "kmf.plot(ax=ax)\n",
    "\n",
    "plt.show()"
   ]
  },
  {
   "cell_type": "markdown",
   "id": "6492c863",
   "metadata": {},
   "source": [
    "Графики отображают вероятность \"выживаемости\" с течением времени. Выход на плато в районе 7 дня связан с тем, что так мы задали критерий оттока. Хорошо видно, что в тесте вероятость остаться выше"
   ]
  },
  {
   "cell_type": "code",
   "execution_count": 360,
   "id": "ffac7771",
   "metadata": {
    "ExecuteTime": {
     "end_time": "2023-04-20T18:25:16.363758Z",
     "start_time": "2023-04-20T18:25:15.906290Z"
    }
   },
   "outputs": [
    {
     "data": {
      "text/html": [
       "<div>\n",
       "<style scoped>\n",
       "    .dataframe tbody tr th:only-of-type {\n",
       "        vertical-align: middle;\n",
       "    }\n",
       "\n",
       "    .dataframe tbody tr th {\n",
       "        vertical-align: top;\n",
       "    }\n",
       "\n",
       "    .dataframe thead th {\n",
       "        text-align: right;\n",
       "    }\n",
       "</style>\n",
       "<table border=\"1\" class=\"dataframe\">\n",
       "  <tbody>\n",
       "    <tr>\n",
       "      <th>t_0</th>\n",
       "      <td>-1</td>\n",
       "    </tr>\n",
       "    <tr>\n",
       "      <th>null_distribution</th>\n",
       "      <td>chi squared</td>\n",
       "    </tr>\n",
       "    <tr>\n",
       "      <th>degrees_of_freedom</th>\n",
       "      <td>1</td>\n",
       "    </tr>\n",
       "    <tr>\n",
       "      <th>test_name</th>\n",
       "      <td>logrank_test</td>\n",
       "    </tr>\n",
       "  </tbody>\n",
       "</table>\n",
       "</div><table border=\"1\" class=\"dataframe\">\n",
       "  <thead>\n",
       "    <tr style=\"text-align: right;\">\n",
       "      <th></th>\n",
       "      <th>test_statistic</th>\n",
       "      <th>p</th>\n",
       "      <th>-log2(p)</th>\n",
       "    </tr>\n",
       "  </thead>\n",
       "  <tbody>\n",
       "    <tr>\n",
       "      <th>0</th>\n",
       "      <td>37.41</td>\n",
       "      <td>&lt;0.005</td>\n",
       "      <td>29.96</td>\n",
       "    </tr>\n",
       "  </tbody>\n",
       "</table>"
      ],
      "text/latex": [
       "\\begin{tabular}{lrrr}\n",
       " & test_statistic & p & -log2(p) \\\\\n",
       "0 & 37.41 & 0.00 & 29.96 \\\\\n",
       "\\end{tabular}\n"
      ],
      "text/plain": [
       "<lifelines.StatisticalResult: logrank_test>\n",
       "               t_0 = -1\n",
       " null_distribution = chi squared\n",
       "degrees_of_freedom = 1\n",
       "         test_name = logrank_test\n",
       "\n",
       "---\n",
       " test_statistic      p  -log2(p)\n",
       "          37.41 <0.005     29.96"
      ]
     },
     "execution_count": 360,
     "metadata": {},
     "output_type": "execute_result"
    }
   ],
   "source": [
    "# проверка с помощью стат. критерия\n",
    "lf.statistics.logrank_test(durations_A=retention.query('group == 0').lifetime,\n",
    "                           durations_B=retention.query('group == 1').lifetime,\n",
    "                           event_observed_A=retention.query('group == 0').churn,\n",
    "                           event_observed_B=retention.query('group == 1').churn)"
   ]
  },
  {
   "cell_type": "markdown",
   "id": "6959a530",
   "metadata": {},
   "source": [
    "log2(p) = 30, это можно интерпретировать как, если бы мы бросили монетку 30 раз и все результаты были бы решками. Примерно так же верояно, что различий между контролем и тестом нет"
   ]
  },
  {
   "cell_type": "code",
   "execution_count": null,
   "id": "f56826a0",
   "metadata": {},
   "outputs": [],
   "source": []
  }
 ],
 "metadata": {
  "kernelspec": {
   "display_name": "Python 3 (ipykernel)",
   "language": "python",
   "name": "python3"
  },
  "language_info": {
   "codemirror_mode": {
    "name": "ipython",
    "version": 3
   },
   "file_extension": ".py",
   "mimetype": "text/x-python",
   "name": "python",
   "nbconvert_exporter": "python",
   "pygments_lexer": "ipython3",
   "version": "3.10.0"
  },
  "nbTranslate": {
   "displayLangs": [
    "*"
   ],
   "hotkey": "alt-t",
   "langInMainMenu": true,
   "sourceLang": "en",
   "targetLang": "fr",
   "useGoogleTranslate": true
  },
  "toc": {
   "base_numbering": 1,
   "nav_menu": {},
   "number_sections": true,
   "sideBar": true,
   "skip_h1_title": false,
   "title_cell": "Table of Contents",
   "title_sidebar": "Contents",
   "toc_cell": false,
   "toc_position": {},
   "toc_section_display": true,
   "toc_window_display": false
  },
  "varInspector": {
   "cols": {
    "lenName": 16,
    "lenType": 16,
    "lenVar": 40
   },
   "kernels_config": {
    "python": {
     "delete_cmd_postfix": "",
     "delete_cmd_prefix": "del ",
     "library": "var_list.py",
     "varRefreshCmd": "print(var_dic_list())"
    },
    "r": {
     "delete_cmd_postfix": ") ",
     "delete_cmd_prefix": "rm(",
     "library": "var_list.r",
     "varRefreshCmd": "cat(var_dic_list()) "
    }
   },
   "types_to_exclude": [
    "module",
    "function",
    "builtin_function_or_method",
    "instance",
    "_Feature"
   ],
   "window_display": false
  }
 },
 "nbformat": 4,
 "nbformat_minor": 5
}
