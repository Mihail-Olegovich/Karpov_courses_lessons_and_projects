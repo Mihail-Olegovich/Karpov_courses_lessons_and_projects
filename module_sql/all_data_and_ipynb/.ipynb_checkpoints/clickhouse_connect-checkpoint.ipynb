{
 "cells": [
  {
   "cell_type": "code",
   "execution_count": 1,
   "metadata": {
    "ExecuteTime": {
     "end_time": "2023-02-27T09:27:47.530334Z",
     "start_time": "2023-02-27T09:27:37.621120Z"
    },
    "scrolled": true
   },
   "outputs": [
    {
     "name": "stdout",
     "output_type": "stream",
     "text": [
      "Collecting pandahouse\n",
      "  Downloading pandahouse-0.2.7.tar.gz (21 kB)\n",
      "Requirement already satisfied: pandas in c:\\users\\1\\appdata\\local\\programs\\python\\python310\\lib\\site-packages (from pandahouse) (1.4.2)\n",
      "Requirement already satisfied: requests in c:\\users\\1\\appdata\\local\\programs\\python\\python310\\lib\\site-packages (from pandahouse) (2.27.1)\n",
      "Collecting toolz\n",
      "  Downloading toolz-0.12.0-py3-none-any.whl (55 kB)\n",
      "Requirement already satisfied: numpy>=1.21.0 in c:\\users\\1\\appdata\\local\\programs\\python\\python310\\lib\\site-packages (from pandas->pandahouse) (1.22.2)\n",
      "Requirement already satisfied: python-dateutil>=2.8.1 in c:\\users\\1\\appdata\\local\\programs\\python\\python310\\lib\\site-packages (from pandas->pandahouse) (2.8.2)\n",
      "Requirement already satisfied: pytz>=2020.1 in c:\\users\\1\\appdata\\local\\programs\\python\\python310\\lib\\site-packages (from pandas->pandahouse) (2022.1)\n",
      "Requirement already satisfied: six>=1.5 in c:\\users\\1\\appdata\\local\\programs\\python\\python310\\lib\\site-packages (from python-dateutil>=2.8.1->pandas->pandahouse) (1.16.0)\n",
      "Requirement already satisfied: idna<4,>=2.5 in c:\\users\\1\\appdata\\local\\programs\\python\\python310\\lib\\site-packages (from requests->pandahouse) (3.3)\n",
      "Requirement already satisfied: charset-normalizer~=2.0.0 in c:\\users\\1\\appdata\\local\\programs\\python\\python310\\lib\\site-packages (from requests->pandahouse) (2.0.12)\n",
      "Requirement already satisfied: certifi>=2017.4.17 in c:\\users\\1\\appdata\\local\\programs\\python\\python310\\lib\\site-packages (from requests->pandahouse) (2022.5.18.1)\n",
      "Requirement already satisfied: urllib3<1.27,>=1.21.1 in c:\\users\\1\\appdata\\local\\programs\\python\\python310\\lib\\site-packages (from requests->pandahouse) (1.26.9)\n",
      "Building wheels for collected packages: pandahouse\n",
      "  Building wheel for pandahouse (setup.py): started\n",
      "  Building wheel for pandahouse (setup.py): finished with status 'done'\n",
      "  Created wheel for pandahouse: filename=pandahouse-0.2.7-py2.py3-none-any.whl size=5928 sha256=899e8951276d49d5c7e2626696fed4b8d3cff8c0ef000698f0bee5efbc9dfd01\n",
      "  Stored in directory: c:\\users\\1\\appdata\\local\\pip\\cache\\wheels\\04\\81\\63\\6896730711da10812121737bb505c6a8993800e99d39432522\n",
      "Successfully built pandahouse\n",
      "Installing collected packages: toolz, pandahouse\n",
      "Successfully installed pandahouse-0.2.7 toolz-0.12.0\n"
     ]
    },
    {
     "name": "stderr",
     "output_type": "stream",
     "text": [
      "WARNING: You are using pip version 21.2.3; however, version 23.0.1 is available.\n",
      "You should consider upgrading via the 'C:\\Users\\1\\AppData\\Local\\Programs\\Python\\Python310\\python.exe -m pip install --upgrade pip' command.\n"
     ]
    }
   ],
   "source": [
    "!pip install pandahouse"
   ]
  },
  {
   "cell_type": "code",
   "execution_count": 2,
   "metadata": {
    "ExecuteTime": {
     "end_time": "2023-02-27T09:27:55.962693Z",
     "start_time": "2023-02-27T09:27:53.644121Z"
    }
   },
   "outputs": [],
   "source": [
    "#импортируем нужные либы\n",
    "import pandahouse as ph\n",
    "import pandas as pd"
   ]
  },
  {
   "cell_type": "code",
   "execution_count": 3,
   "metadata": {
    "ExecuteTime": {
     "end_time": "2023-02-27T09:28:02.408296Z",
     "start_time": "2023-02-27T09:28:02.392293Z"
    }
   },
   "outputs": [],
   "source": [
    "#объявляем параметры подключения\n",
    "connection = dict(database='test',\n",
    "                  host='https://clickhouse.lab.karpov.courses',\n",
    "                  user='student-rw',\n",
    "                  password='656e2b0c9c')"
   ]
  },
  {
   "cell_type": "code",
   "execution_count": 4,
   "metadata": {
    "ExecuteTime": {
     "end_time": "2023-02-27T09:28:20.351958Z",
     "start_time": "2023-02-27T09:28:19.210146Z"
    }
   },
   "outputs": [
    {
     "data": {
      "text/html": [
       "<div>\n",
       "<style scoped>\n",
       "    .dataframe tbody tr th:only-of-type {\n",
       "        vertical-align: middle;\n",
       "    }\n",
       "\n",
       "    .dataframe tbody tr th {\n",
       "        vertical-align: top;\n",
       "    }\n",
       "\n",
       "    .dataframe thead th {\n",
       "        text-align: right;\n",
       "    }\n",
       "</style>\n",
       "<table border=\"1\" class=\"dataframe\">\n",
       "  <thead>\n",
       "    <tr style=\"text-align: right;\">\n",
       "      <th></th>\n",
       "      <th>InstallationDate</th>\n",
       "      <th>InstallCost</th>\n",
       "      <th>Platform</th>\n",
       "      <th>DeviceID</th>\n",
       "      <th>Source</th>\n",
       "    </tr>\n",
       "  </thead>\n",
       "  <tbody>\n",
       "    <tr>\n",
       "      <th>0</th>\n",
       "      <td>2019-03-02</td>\n",
       "      <td>0</td>\n",
       "      <td>android</td>\n",
       "      <td>7950068545577019282</td>\n",
       "      <td>Source_27</td>\n",
       "    </tr>\n",
       "    <tr>\n",
       "      <th>1</th>\n",
       "      <td>2019-03-17</td>\n",
       "      <td>49</td>\n",
       "      <td>android</td>\n",
       "      <td>17173992779193729517</td>\n",
       "      <td>Source_14</td>\n",
       "    </tr>\n",
       "    <tr>\n",
       "      <th>2</th>\n",
       "      <td>2019-04-07</td>\n",
       "      <td>56</td>\n",
       "      <td>android</td>\n",
       "      <td>9528182466778893591</td>\n",
       "      <td>Source_14</td>\n",
       "    </tr>\n",
       "    <tr>\n",
       "      <th>3</th>\n",
       "      <td>2019-06-25</td>\n",
       "      <td>39</td>\n",
       "      <td>android</td>\n",
       "      <td>2212531864415574595</td>\n",
       "      <td>Source_9</td>\n",
       "    </tr>\n",
       "    <tr>\n",
       "      <th>4</th>\n",
       "      <td>2019-04-13</td>\n",
       "      <td>0</td>\n",
       "      <td>android</td>\n",
       "      <td>6959033924999748551</td>\n",
       "      <td>Source_27</td>\n",
       "    </tr>\n",
       "    <tr>\n",
       "      <th>...</th>\n",
       "      <td>...</td>\n",
       "      <td>...</td>\n",
       "      <td>...</td>\n",
       "      <td>...</td>\n",
       "      <td>...</td>\n",
       "    </tr>\n",
       "    <tr>\n",
       "      <th>995</th>\n",
       "      <td>2019-01-09</td>\n",
       "      <td>334</td>\n",
       "      <td>android</td>\n",
       "      <td>5435327797863630841</td>\n",
       "      <td>Source_14</td>\n",
       "    </tr>\n",
       "    <tr>\n",
       "      <th>996</th>\n",
       "      <td>2019-03-05</td>\n",
       "      <td>19</td>\n",
       "      <td>iOS</td>\n",
       "      <td>16012086443778979967</td>\n",
       "      <td>Source_9</td>\n",
       "    </tr>\n",
       "    <tr>\n",
       "      <th>997</th>\n",
       "      <td>2019-06-12</td>\n",
       "      <td>0</td>\n",
       "      <td>iOS</td>\n",
       "      <td>1637578224854940304</td>\n",
       "      <td>Source_27</td>\n",
       "    </tr>\n",
       "    <tr>\n",
       "      <th>998</th>\n",
       "      <td>2019-07-01</td>\n",
       "      <td>171</td>\n",
       "      <td>android</td>\n",
       "      <td>9176486286906828772</td>\n",
       "      <td>Source_9</td>\n",
       "    </tr>\n",
       "    <tr>\n",
       "      <th>999</th>\n",
       "      <td>2019-09-20</td>\n",
       "      <td>0</td>\n",
       "      <td>android</td>\n",
       "      <td>9240230502613874345</td>\n",
       "      <td>Source_27</td>\n",
       "    </tr>\n",
       "  </tbody>\n",
       "</table>\n",
       "<p>1000 rows × 5 columns</p>\n",
       "</div>"
      ],
      "text/plain": [
       "    InstallationDate  InstallCost Platform              DeviceID     Source\n",
       "0         2019-03-02            0  android   7950068545577019282  Source_27\n",
       "1         2019-03-17           49  android  17173992779193729517  Source_14\n",
       "2         2019-04-07           56  android   9528182466778893591  Source_14\n",
       "3         2019-06-25           39  android   2212531864415574595   Source_9\n",
       "4         2019-04-13            0  android   6959033924999748551  Source_27\n",
       "..               ...          ...      ...                   ...        ...\n",
       "995       2019-01-09          334  android   5435327797863630841  Source_14\n",
       "996       2019-03-05           19      iOS  16012086443778979967   Source_9\n",
       "997       2019-06-12            0      iOS   1637578224854940304  Source_27\n",
       "998       2019-07-01          171  android   9176486286906828772   Source_9\n",
       "999       2019-09-20            0  android   9240230502613874345  Source_27\n",
       "\n",
       "[1000 rows x 5 columns]"
      ]
     },
     "execution_count": 4,
     "metadata": {},
     "output_type": "execute_result"
    }
   ],
   "source": [
    "#пишем запрос, и получаем данные из clickhouse в pandas dataframe\n",
    "query = \"\"\"\n",
    "SELECT *\n",
    "FROM test.installs\n",
    "LIMIT 1000\n",
    "\"\"\"\n",
    "df = ph.read_clickhouse(query, connection=connection)\n",
    "df"
   ]
  },
  {
   "cell_type": "code",
   "execution_count": 10,
   "metadata": {
    "ExecuteTime": {
     "end_time": "2023-02-27T09:31:40.917254Z",
     "start_time": "2023-02-27T09:31:40.060059Z"
    }
   },
   "outputs": [],
   "source": [
    "#выгружаем данные из pandas в excel\n",
    "df.to_excel(\"C:/Users/1/JupyterProjects/Karpov_courses_lessons_and_projects/module_sql/all_data_and_ipynb/ch_data.xlsx\",\n",
    "            sheet_name='Data', index=False, encoding='UTF-8')"
   ]
  },
  {
   "cell_type": "code",
   "execution_count": 11,
   "metadata": {
    "ExecuteTime": {
     "end_time": "2023-02-27T09:35:22.715709Z",
     "start_time": "2023-02-27T09:35:22.404900Z"
    }
   },
   "outputs": [
    {
     "data": {
      "text/html": [
       "<div>\n",
       "<style scoped>\n",
       "    .dataframe tbody tr th:only-of-type {\n",
       "        vertical-align: middle;\n",
       "    }\n",
       "\n",
       "    .dataframe tbody tr th {\n",
       "        vertical-align: top;\n",
       "    }\n",
       "\n",
       "    .dataframe thead th {\n",
       "        text-align: right;\n",
       "    }\n",
       "</style>\n",
       "<table border=\"1\" class=\"dataframe\">\n",
       "  <thead>\n",
       "    <tr style=\"text-align: right;\">\n",
       "      <th></th>\n",
       "      <th>published</th>\n",
       "      <th>domain</th>\n",
       "      <th>url</th>\n",
       "    </tr>\n",
       "  </thead>\n",
       "  <tbody>\n",
       "    <tr>\n",
       "      <th>0</th>\n",
       "      <td>2012-08-13 22:54:53.510Z</td>\n",
       "      <td>medium.com</td>\n",
       "      <td>https://medium.com/policy/medium-terms-of-serv...</td>\n",
       "    </tr>\n",
       "    <tr>\n",
       "      <th>1</th>\n",
       "      <td>2012-08-13 22:57:17.248Z</td>\n",
       "      <td>medium.com</td>\n",
       "      <td>https://medium.com/policy/medium-privacy-polic...</td>\n",
       "    </tr>\n",
       "    <tr>\n",
       "      <th>2</th>\n",
       "      <td>2016-11-04 23:40:43.364Z</td>\n",
       "      <td>medium.com</td>\n",
       "      <td>https://medium.com/@Medium/personalize-your-me...</td>\n",
       "    </tr>\n",
       "    <tr>\n",
       "      <th>3</th>\n",
       "      <td>2016-12-24 18:21:13.427Z</td>\n",
       "      <td>medium.com</td>\n",
       "      <td>https://medium.com/holiday-poems/xmas-morning-...</td>\n",
       "    </tr>\n",
       "    <tr>\n",
       "      <th>4</th>\n",
       "      <td>2015-09-22 21:37:48.207Z</td>\n",
       "      <td>blog.medium.com</td>\n",
       "      <td>https://blog.medium.com/taking-a-side-on-net-n...</td>\n",
       "    </tr>\n",
       "    <tr>\n",
       "      <th>...</th>\n",
       "      <td>...</td>\n",
       "      <td>...</td>\n",
       "      <td>...</td>\n",
       "    </tr>\n",
       "    <tr>\n",
       "      <th>92186</th>\n",
       "      <td>2017-05-23 17:15:09.193Z</td>\n",
       "      <td>medium.com</td>\n",
       "      <td>https://medium.com/@KyleAndrews1994/its-time-t...</td>\n",
       "    </tr>\n",
       "    <tr>\n",
       "      <th>92187</th>\n",
       "      <td>2017-01-31 09:59:12.316Z</td>\n",
       "      <td>medium.com</td>\n",
       "      <td>https://medium.com/silent-protagonist/next-wee...</td>\n",
       "    </tr>\n",
       "    <tr>\n",
       "      <th>92188</th>\n",
       "      <td>2017-02-16 14:15:20.116Z</td>\n",
       "      <td>medium.com</td>\n",
       "      <td>https://medium.com/@utapartment26/there-used-t...</td>\n",
       "    </tr>\n",
       "    <tr>\n",
       "      <th>92189</th>\n",
       "      <td>2017-06-27 10:16:21.668Z</td>\n",
       "      <td>medium.com</td>\n",
       "      <td>https://medium.com/silent-protagonist/the-snes...</td>\n",
       "    </tr>\n",
       "    <tr>\n",
       "      <th>92190</th>\n",
       "      <td>2017-06-12 06:49:29.954Z</td>\n",
       "      <td>medium.com</td>\n",
       "      <td>https://medium.com/silent-protagonist/assassin...</td>\n",
       "    </tr>\n",
       "  </tbody>\n",
       "</table>\n",
       "<p>92191 rows × 3 columns</p>\n",
       "</div>"
      ],
      "text/plain": [
       "                      published           domain  \\\n",
       "0      2012-08-13 22:54:53.510Z       medium.com   \n",
       "1      2012-08-13 22:57:17.248Z       medium.com   \n",
       "2      2016-11-04 23:40:43.364Z       medium.com   \n",
       "3      2016-12-24 18:21:13.427Z       medium.com   \n",
       "4      2015-09-22 21:37:48.207Z  blog.medium.com   \n",
       "...                         ...              ...   \n",
       "92186  2017-05-23 17:15:09.193Z       medium.com   \n",
       "92187  2017-01-31 09:59:12.316Z       medium.com   \n",
       "92188  2017-02-16 14:15:20.116Z       medium.com   \n",
       "92189  2017-06-27 10:16:21.668Z       medium.com   \n",
       "92190  2017-06-12 06:49:29.954Z       medium.com   \n",
       "\n",
       "                                                     url  \n",
       "0      https://medium.com/policy/medium-terms-of-serv...  \n",
       "1      https://medium.com/policy/medium-privacy-polic...  \n",
       "2      https://medium.com/@Medium/personalize-your-me...  \n",
       "3      https://medium.com/holiday-poems/xmas-morning-...  \n",
       "4      https://blog.medium.com/taking-a-side-on-net-n...  \n",
       "...                                                  ...  \n",
       "92186  https://medium.com/@KyleAndrews1994/its-time-t...  \n",
       "92187  https://medium.com/silent-protagonist/next-wee...  \n",
       "92188  https://medium.com/@utapartment26/there-used-t...  \n",
       "92189  https://medium.com/silent-protagonist/the-snes...  \n",
       "92190  https://medium.com/silent-protagonist/assassin...  \n",
       "\n",
       "[92191 rows x 3 columns]"
      ]
     },
     "execution_count": 11,
     "metadata": {},
     "output_type": "execute_result"
    }
   ],
   "source": [
    "#читаем данные из csv в pandas\n",
    "df_in = pd.read_csv(\"C:/Users/1/JupyterProjects/Karpov_courses_lessons_and_projects/module_sql/all_data_and_ipynb/medium.csv\",\n",
    "                    sep='\\t')\n",
    "df_in"
   ]
  },
  {
   "cell_type": "code",
   "execution_count": 12,
   "metadata": {
    "ExecuteTime": {
     "end_time": "2023-02-27T09:36:56.916011Z",
     "start_time": "2023-02-27T09:36:55.498089Z"
    },
    "scrolled": true
   },
   "outputs": [
    {
     "ename": "UnicodeDecodeError",
     "evalue": "'utf-8' codec can't decode byte 0x8b in position 1: invalid start byte",
     "output_type": "error",
     "traceback": [
      "\u001b[1;31m---------------------------------------------------------------------------\u001b[0m",
      "\u001b[1;31mUnicodeDecodeError\u001b[0m                        Traceback (most recent call last)",
      "Input \u001b[1;32mIn [12]\u001b[0m, in \u001b[0;36m<cell line: 10>\u001b[1;34m()\u001b[0m\n\u001b[0;32m      1\u001b[0m \u001b[38;5;66;03m#пишем запрос, и получаем данные из clickhouse в pandas dataframe\u001b[39;00m\n\u001b[0;32m      2\u001b[0m query_create \u001b[38;5;241m=\u001b[39m \u001b[38;5;124m\"\"\"\u001b[39m\n\u001b[0;32m      3\u001b[0m \u001b[38;5;124mCREATE TABLE test.mihail_kulyaskin_import_test (\u001b[39m\n\u001b[0;32m      4\u001b[0m \u001b[38;5;124m    published String,\u001b[39m\n\u001b[1;32m   (...)\u001b[0m\n\u001b[0;32m      8\u001b[0m \u001b[38;5;124mENGINE = Log\u001b[39m\n\u001b[0;32m      9\u001b[0m \u001b[38;5;124m\"\"\"\u001b[39m\n\u001b[1;32m---> 10\u001b[0m df_create \u001b[38;5;241m=\u001b[39m \u001b[43mph\u001b[49m\u001b[38;5;241;43m.\u001b[39;49m\u001b[43mread_clickhouse\u001b[49m\u001b[43m(\u001b[49m\u001b[43mquery_create\u001b[49m\u001b[43m,\u001b[49m\u001b[43m \u001b[49m\u001b[43mconnection\u001b[49m\u001b[38;5;241;43m=\u001b[39;49m\u001b[43mconnection\u001b[49m\u001b[43m)\u001b[49m\n\u001b[0;32m     11\u001b[0m df_create\n",
      "File \u001b[1;32m~\\AppData\\Local\\Programs\\Python\\Python310\\lib\\site-packages\\pandahouse\\core.py:58\u001b[0m, in \u001b[0;36mread_clickhouse\u001b[1;34m(query, tables, index, connection, **kwargs)\u001b[0m\n\u001b[0;32m     55\u001b[0m query, external \u001b[38;5;241m=\u001b[39m selection(query, tables\u001b[38;5;241m=\u001b[39mtables, index\u001b[38;5;241m=\u001b[39mindex)\n\u001b[0;32m     56\u001b[0m lines \u001b[38;5;241m=\u001b[39m execute(query, external\u001b[38;5;241m=\u001b[39mexternal, stream\u001b[38;5;241m=\u001b[39m\u001b[38;5;28;01mTrue\u001b[39;00m,\n\u001b[0;32m     57\u001b[0m                 connection\u001b[38;5;241m=\u001b[39mconnection)\n\u001b[1;32m---> 58\u001b[0m \u001b[38;5;28;01mreturn\u001b[39;00m to_dataframe(lines, \u001b[38;5;241m*\u001b[39m\u001b[38;5;241m*\u001b[39mkwargs)\n",
      "File \u001b[1;32m~\\AppData\\Local\\Programs\\Python\\Python310\\lib\\site-packages\\pandahouse\\convert.py:62\u001b[0m, in \u001b[0;36mto_dataframe\u001b[1;34m(lines, **kwargs)\u001b[0m\n\u001b[0;32m     61\u001b[0m \u001b[38;5;28;01mdef\u001b[39;00m \u001b[38;5;21mto_dataframe\u001b[39m(lines, \u001b[38;5;241m*\u001b[39m\u001b[38;5;241m*\u001b[39mkwargs):\n\u001b[1;32m---> 62\u001b[0m     names \u001b[38;5;241m=\u001b[39m \u001b[43mlines\u001b[49m\u001b[38;5;241;43m.\u001b[39;49m\u001b[43mreadline\u001b[49m\u001b[43m(\u001b[49m\u001b[43m)\u001b[49m\u001b[38;5;241;43m.\u001b[39;49m\u001b[43mdecode\u001b[49m\u001b[43m(\u001b[49m\u001b[38;5;124;43m'\u001b[39;49m\u001b[38;5;124;43mutf-8\u001b[39;49m\u001b[38;5;124;43m'\u001b[39;49m\u001b[43m)\u001b[49m\u001b[38;5;241m.\u001b[39mstrip()\u001b[38;5;241m.\u001b[39msplit(\u001b[38;5;124m'\u001b[39m\u001b[38;5;130;01m\\t\u001b[39;00m\u001b[38;5;124m'\u001b[39m)\n\u001b[0;32m     63\u001b[0m     types \u001b[38;5;241m=\u001b[39m lines\u001b[38;5;241m.\u001b[39mreadline()\u001b[38;5;241m.\u001b[39mdecode(\u001b[38;5;124m'\u001b[39m\u001b[38;5;124mutf-8\u001b[39m\u001b[38;5;124m'\u001b[39m)\u001b[38;5;241m.\u001b[39mstrip()\u001b[38;5;241m.\u001b[39msplit(\u001b[38;5;124m'\u001b[39m\u001b[38;5;130;01m\\t\u001b[39;00m\u001b[38;5;124m'\u001b[39m)\n\u001b[0;32m     65\u001b[0m     dtypes, parse_dates, converters \u001b[38;5;241m=\u001b[39m {}, [], {}\n",
      "\u001b[1;31mUnicodeDecodeError\u001b[0m: 'utf-8' codec can't decode byte 0x8b in position 1: invalid start byte"
     ]
    }
   ],
   "source": [
    "#пишем запрос, и получаем данные из clickhouse в pandas dataframe\n",
    "query_create = \"\"\"\n",
    "CREATE TABLE test.mihail_kulyaskin_import_test (\n",
    "    published String,\n",
    "    domain String,\n",
    "    url String\n",
    ")\n",
    "ENGINE = Log\n",
    "\"\"\"\n",
    "df_create = ph.read_clickhouse(query_create, connection=connection)\n",
    "df_create"
   ]
  },
  {
   "cell_type": "code",
   "execution_count": 13,
   "metadata": {
    "ExecuteTime": {
     "end_time": "2023-02-27T09:39:24.984157Z",
     "start_time": "2023-02-27T09:37:26.300239Z"
    }
   },
   "outputs": [
    {
     "data": {
      "text/plain": [
       "92191"
      ]
     },
     "execution_count": 13,
     "metadata": {},
     "output_type": "execute_result"
    }
   ],
   "source": [
    "#записываем данные из pandas в clickhouse\n",
    "ph.to_clickhouse(df_in, 'mihail_kulyaskin_import_test', index=False, connection=connection)"
   ]
  },
  {
   "cell_type": "code",
   "execution_count": 14,
   "metadata": {
    "ExecuteTime": {
     "end_time": "2023-02-27T09:40:07.431895Z",
     "start_time": "2023-02-27T09:39:32.415094Z"
    }
   },
   "outputs": [
    {
     "data": {
      "text/html": [
       "<div>\n",
       "<style scoped>\n",
       "    .dataframe tbody tr th:only-of-type {\n",
       "        vertical-align: middle;\n",
       "    }\n",
       "\n",
       "    .dataframe tbody tr th {\n",
       "        vertical-align: top;\n",
       "    }\n",
       "\n",
       "    .dataframe thead th {\n",
       "        text-align: right;\n",
       "    }\n",
       "</style>\n",
       "<table border=\"1\" class=\"dataframe\">\n",
       "  <thead>\n",
       "    <tr style=\"text-align: right;\">\n",
       "      <th></th>\n",
       "      <th>published</th>\n",
       "      <th>domain</th>\n",
       "      <th>url</th>\n",
       "    </tr>\n",
       "  </thead>\n",
       "  <tbody>\n",
       "    <tr>\n",
       "      <th>0</th>\n",
       "      <td>2017-03-18 04:22:10.169Z</td>\n",
       "      <td>medium.com</td>\n",
       "      <td>https://medium.com/homeland-security/reclaimin...</td>\n",
       "    </tr>\n",
       "    <tr>\n",
       "      <th>1</th>\n",
       "      <td>2017-01-22 13:05:12.277Z</td>\n",
       "      <td>medium.com</td>\n",
       "      <td>https://medium.com/chmehospitality/combating-h...</td>\n",
       "    </tr>\n",
       "    <tr>\n",
       "      <th>2</th>\n",
       "      <td>2017-04-09 06:55:21.616Z</td>\n",
       "      <td>medium.com</td>\n",
       "      <td>https://medium.com/@jpatrickverizon.net/slack-...</td>\n",
       "    </tr>\n",
       "    <tr>\n",
       "      <th>3</th>\n",
       "      <td>2017-04-26 11:11:22.655Z</td>\n",
       "      <td>medium.com</td>\n",
       "      <td>http://iamkenyarae.com/raising-a-confident-and...</td>\n",
       "    </tr>\n",
       "    <tr>\n",
       "      <th>4</th>\n",
       "      <td>2017-06-16 16:39:51.720Z</td>\n",
       "      <td>medium.com</td>\n",
       "      <td>https://medium.com/optimize-fitness/how-many-r...</td>\n",
       "    </tr>\n",
       "    <tr>\n",
       "      <th>...</th>\n",
       "      <td>...</td>\n",
       "      <td>...</td>\n",
       "      <td>...</td>\n",
       "    </tr>\n",
       "    <tr>\n",
       "      <th>92186</th>\n",
       "      <td>2015-11-20 19:03:01.916Z</td>\n",
       "      <td>medium.com</td>\n",
       "      <td>https://medium.com/@KChenoweth/why-adoption-is...</td>\n",
       "    </tr>\n",
       "    <tr>\n",
       "      <th>92187</th>\n",
       "      <td>2016-10-10 15:30:34.716Z</td>\n",
       "      <td>medium.com</td>\n",
       "      <td>https://medium.com/muslim-women-speak/modesty-...</td>\n",
       "    </tr>\n",
       "    <tr>\n",
       "      <th>92188</th>\n",
       "      <td>2016-07-17 22:19:42.345Z</td>\n",
       "      <td>medium.com</td>\n",
       "      <td>https://medium.com/rethinking-the-job-culture/...</td>\n",
       "    </tr>\n",
       "    <tr>\n",
       "      <th>92189</th>\n",
       "      <td>2015-05-03 12:40:35.607Z</td>\n",
       "      <td>medium.com</td>\n",
       "      <td>https://medium.com/@spinosauruskin/first-mgtow...</td>\n",
       "    </tr>\n",
       "    <tr>\n",
       "      <th>92190</th>\n",
       "      <td>2015-05-03 06:46:11.047Z</td>\n",
       "      <td>medium.com</td>\n",
       "      <td>https://medium.com/hashtag-academy/why-the-mgt...</td>\n",
       "    </tr>\n",
       "  </tbody>\n",
       "</table>\n",
       "<p>92191 rows × 3 columns</p>\n",
       "</div>"
      ],
      "text/plain": [
       "                      published      domain  \\\n",
       "0      2017-03-18 04:22:10.169Z  medium.com   \n",
       "1      2017-01-22 13:05:12.277Z  medium.com   \n",
       "2      2017-04-09 06:55:21.616Z  medium.com   \n",
       "3      2017-04-26 11:11:22.655Z  medium.com   \n",
       "4      2017-06-16 16:39:51.720Z  medium.com   \n",
       "...                         ...         ...   \n",
       "92186  2015-11-20 19:03:01.916Z  medium.com   \n",
       "92187  2016-10-10 15:30:34.716Z  medium.com   \n",
       "92188  2016-07-17 22:19:42.345Z  medium.com   \n",
       "92189  2015-05-03 12:40:35.607Z  medium.com   \n",
       "92190  2015-05-03 06:46:11.047Z  medium.com   \n",
       "\n",
       "                                                     url  \n",
       "0      https://medium.com/homeland-security/reclaimin...  \n",
       "1      https://medium.com/chmehospitality/combating-h...  \n",
       "2      https://medium.com/@jpatrickverizon.net/slack-...  \n",
       "3      http://iamkenyarae.com/raising-a-confident-and...  \n",
       "4      https://medium.com/optimize-fitness/how-many-r...  \n",
       "...                                                  ...  \n",
       "92186  https://medium.com/@KChenoweth/why-adoption-is...  \n",
       "92187  https://medium.com/muslim-women-speak/modesty-...  \n",
       "92188  https://medium.com/rethinking-the-job-culture/...  \n",
       "92189  https://medium.com/@spinosauruskin/first-mgtow...  \n",
       "92190  https://medium.com/hashtag-academy/why-the-mgt...  \n",
       "\n",
       "[92191 rows x 3 columns]"
      ]
     },
     "execution_count": 14,
     "metadata": {},
     "output_type": "execute_result"
    }
   ],
   "source": [
    "#проверяем, что записалось\n",
    "query_test = \"\"\"\n",
    "SELECT *\n",
    "FROM test.mihail_kulyaskin_import_test\n",
    "\"\"\"\n",
    "df_new = ph.read_clickhouse(query_test, connection=connection)\n",
    "df_new"
   ]
  },
  {
   "cell_type": "code",
   "execution_count": null,
   "metadata": {},
   "outputs": [],
   "source": []
  }
 ],
 "metadata": {
  "kernelspec": {
   "display_name": "Python 3 (ipykernel)",
   "language": "python",
   "name": "python3"
  },
  "language_info": {
   "codemirror_mode": {
    "name": "ipython",
    "version": 3
   },
   "file_extension": ".py",
   "mimetype": "text/x-python",
   "name": "python",
   "nbconvert_exporter": "python",
   "pygments_lexer": "ipython3",
   "version": "3.10.0"
  },
  "nbTranslate": {
   "displayLangs": [
    "*"
   ],
   "hotkey": "alt-t",
   "langInMainMenu": true,
   "sourceLang": "en",
   "targetLang": "fr",
   "useGoogleTranslate": true
  },
  "toc": {
   "base_numbering": 1,
   "nav_menu": {},
   "number_sections": true,
   "sideBar": true,
   "skip_h1_title": false,
   "title_cell": "Table of Contents",
   "title_sidebar": "Contents",
   "toc_cell": false,
   "toc_position": {},
   "toc_section_display": true,
   "toc_window_display": false
  },
  "varInspector": {
   "cols": {
    "lenName": 16,
    "lenType": 16,
    "lenVar": 40
   },
   "kernels_config": {
    "python": {
     "delete_cmd_postfix": "",
     "delete_cmd_prefix": "del ",
     "library": "var_list.py",
     "varRefreshCmd": "print(var_dic_list())"
    },
    "r": {
     "delete_cmd_postfix": ") ",
     "delete_cmd_prefix": "rm(",
     "library": "var_list.r",
     "varRefreshCmd": "cat(var_dic_list()) "
    }
   },
   "types_to_exclude": [
    "module",
    "function",
    "builtin_function_or_method",
    "instance",
    "_Feature"
   ],
   "window_display": false
  }
 },
 "nbformat": 4,
 "nbformat_minor": 4
}
