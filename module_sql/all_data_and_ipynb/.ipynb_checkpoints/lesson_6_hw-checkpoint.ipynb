{
 "cells": [
  {
   "cell_type": "markdown",
   "id": "767f0796",
   "metadata": {},
   "source": [
    "ldn_listings – информация о жилье, включая полные описания, характеристики и средние оценки в отзывах; поскольку столбцов очень много, нужные перечислены в текстах самих задач"
   ]
  },
  {
   "cell_type": "code",
   "execution_count": 1,
   "id": "818187bf",
   "metadata": {
    "ExecuteTime": {
     "end_time": "2023-03-14T06:34:40.944059Z",
     "start_time": "2023-03-14T06:34:33.610746Z"
    }
   },
   "outputs": [],
   "source": [
    "import pandahouse as ph\n",
    "import seaborn as sns\n",
    "import numpy as np\n",
    "import pandas as pd\n",
    "import matplotlib.pyplot as plt \n",
    "%matplotlib inline"
   ]
  },
  {
   "cell_type": "code",
   "execution_count": 27,
   "id": "f565e0f2",
   "metadata": {
    "ExecuteTime": {
     "end_time": "2023-03-14T06:54:10.879365Z",
     "start_time": "2023-03-14T06:54:10.855861Z"
    }
   },
   "outputs": [],
   "source": [
    "sns.set(\n",
    "    font_scale=1,\n",
    "    style=\"whitegrid\",\n",
    "    rc={'figure.figsize':(12,8)}\n",
    "       )"
   ]
  },
  {
   "cell_type": "code",
   "execution_count": 2,
   "id": "cef7bdd0",
   "metadata": {
    "ExecuteTime": {
     "end_time": "2023-03-14T06:34:41.553616Z",
     "start_time": "2023-03-14T06:34:41.538252Z"
    }
   },
   "outputs": [],
   "source": [
    "connection_default = {'host': 'https://clickhouse.lab.karpov.courses/',\n",
    "                      'database':'default',\n",
    "                      'user':'student', \n",
    "                      'password':'dpo_python_2020'\n",
    "                     }"
   ]
  },
  {
   "cell_type": "code",
   "execution_count": 3,
   "id": "c36fd50f",
   "metadata": {
    "ExecuteTime": {
     "end_time": "2023-03-14T06:34:42.256767Z",
     "start_time": "2023-03-14T06:34:42.229752Z"
    }
   },
   "outputs": [],
   "source": [
    "query = '''\n",
    "SELECT\n",
    "    COUNT(*) AS cnt\n",
    "FROM\n",
    "    {db}.ldn_listings\n",
    "'''"
   ]
  },
  {
   "cell_type": "code",
   "execution_count": 4,
   "id": "2bd3587c",
   "metadata": {
    "ExecuteTime": {
     "end_time": "2023-03-14T06:34:45.075499Z",
     "start_time": "2023-03-14T06:34:43.018323Z"
    }
   },
   "outputs": [
    {
     "data": {
      "text/html": [
       "<div>\n",
       "<style scoped>\n",
       "    .dataframe tbody tr th:only-of-type {\n",
       "        vertical-align: middle;\n",
       "    }\n",
       "\n",
       "    .dataframe tbody tr th {\n",
       "        vertical-align: top;\n",
       "    }\n",
       "\n",
       "    .dataframe thead th {\n",
       "        text-align: right;\n",
       "    }\n",
       "</style>\n",
       "<table border=\"1\" class=\"dataframe\">\n",
       "  <thead>\n",
       "    <tr style=\"text-align: right;\">\n",
       "      <th></th>\n",
       "      <th>cnt</th>\n",
       "    </tr>\n",
       "  </thead>\n",
       "  <tbody>\n",
       "    <tr>\n",
       "      <th>0</th>\n",
       "      <td>85207</td>\n",
       "    </tr>\n",
       "  </tbody>\n",
       "</table>\n",
       "</div>"
      ],
      "text/plain": [
       "     cnt\n",
       "0  85207"
      ]
     },
     "execution_count": 4,
     "metadata": {},
     "output_type": "execute_result"
    }
   ],
   "source": [
    "q_test = ph.read_clickhouse(query=query, connection=connection_default)\n",
    "q_test"
   ]
  },
  {
   "cell_type": "markdown",
   "id": "c8af54eb",
   "metadata": {},
   "source": [
    "Давайте построим график рассеивания, который покажет зависимость средней оценки от средней цены по типу жилья."
   ]
  },
  {
   "cell_type": "code",
   "execution_count": 5,
   "id": "951462ae",
   "metadata": {
    "ExecuteTime": {
     "end_time": "2023-03-14T06:34:46.772698Z",
     "start_time": "2023-03-14T06:34:46.746357Z"
    }
   },
   "outputs": [],
   "source": [
    "query = '''\n",
    "SELECT\n",
    "    room_type,\n",
    "    AVG(price) AS avg_price,\n",
    "    AVG(review_scores_rating) AS avg_review_scores_rating\n",
    "FROM (\n",
    "    SELECT\n",
    "        room_type,\n",
    "        toFloat32OrNull(replaceRegexpAll(price, '[$,]', '')) AS price,\n",
    "        toFloat32OrNull(review_scores_rating) AS review_scores_rating\n",
    "    FROM\n",
    "        ldn_listings\n",
    "    WHERE review_scores_rating IS NOT NULL\n",
    "    ORDER BY\n",
    "        id\n",
    "    LIMIT 1000\n",
    "    ) T1\n",
    "GROUP BY \n",
    "    room_type\n",
    "'''"
   ]
  },
  {
   "cell_type": "code",
   "execution_count": 6,
   "id": "530a3613",
   "metadata": {
    "ExecuteTime": {
     "end_time": "2023-03-14T06:34:48.074869Z",
     "start_time": "2023-03-14T06:34:47.427263Z"
    }
   },
   "outputs": [
    {
     "data": {
      "text/html": [
       "<div>\n",
       "<style scoped>\n",
       "    .dataframe tbody tr th:only-of-type {\n",
       "        vertical-align: middle;\n",
       "    }\n",
       "\n",
       "    .dataframe tbody tr th {\n",
       "        vertical-align: top;\n",
       "    }\n",
       "\n",
       "    .dataframe thead th {\n",
       "        text-align: right;\n",
       "    }\n",
       "</style>\n",
       "<table border=\"1\" class=\"dataframe\">\n",
       "  <thead>\n",
       "    <tr style=\"text-align: right;\">\n",
       "      <th></th>\n",
       "      <th>room_type</th>\n",
       "      <th>avg_price</th>\n",
       "      <th>avg_review_scores_rating</th>\n",
       "    </tr>\n",
       "  </thead>\n",
       "  <tbody>\n",
       "    <tr>\n",
       "      <th>0</th>\n",
       "      <td>Hotel room</td>\n",
       "      <td>134.000000</td>\n",
       "      <td>92.500000</td>\n",
       "    </tr>\n",
       "    <tr>\n",
       "      <th>1</th>\n",
       "      <td>Private room</td>\n",
       "      <td>54.642436</td>\n",
       "      <td>94.766208</td>\n",
       "    </tr>\n",
       "    <tr>\n",
       "      <th>2</th>\n",
       "      <td>Shared room</td>\n",
       "      <td>21.000000</td>\n",
       "      <td>90.000000</td>\n",
       "    </tr>\n",
       "    <tr>\n",
       "      <th>3</th>\n",
       "      <td>Entire home/apt</td>\n",
       "      <td>135.882957</td>\n",
       "      <td>93.568789</td>\n",
       "    </tr>\n",
       "  </tbody>\n",
       "</table>\n",
       "</div>"
      ],
      "text/plain": [
       "         room_type   avg_price  avg_review_scores_rating\n",
       "0       Hotel room  134.000000                 92.500000\n",
       "1     Private room   54.642436                 94.766208\n",
       "2      Shared room   21.000000                 90.000000\n",
       "3  Entire home/apt  135.882957                 93.568789"
      ]
     },
     "execution_count": 6,
     "metadata": {},
     "output_type": "execute_result"
    }
   ],
   "source": [
    "q_first = ph.read_clickhouse(query=query, connection=connection_default)\n",
    "q_first"
   ]
  },
  {
   "cell_type": "code",
   "execution_count": 7,
   "id": "dec73378",
   "metadata": {
    "ExecuteTime": {
     "end_time": "2023-03-14T06:34:49.719987Z",
     "start_time": "2023-03-14T06:34:49.294587Z"
    }
   },
   "outputs": [
    {
     "data": {
      "text/plain": [
       "<AxesSubplot:xlabel='avg_price', ylabel='avg_review_scores_rating'>"
      ]
     },
     "execution_count": 7,
     "metadata": {},
     "output_type": "execute_result"
    },
    {
     "data": {
      "image/png": "[encoded data removed]",
      "text/plain": [
       "<Figure size 432x288 with 1 Axes>"
      ]
     },
     "metadata": {
      "needs_background": "light"
     },
     "output_type": "display_data"
    }
   ],
   "source": [
    "sns.scatterplot(data=q_first, x='avg_price', y='avg_review_scores_rating', hue='room_type')"
   ]
  },
  {
   "cell_type": "markdown",
   "id": "0e69c9d1",
   "metadata": {},
   "source": [
    "Итак, помимо аренды жилья, на Airbnb также есть \"Впечатления\" — мероприятия, которые организуют местные жители.\n",
    "\n",
    "Проверим, какие способы верификации аккаунта использовали хозяева, предлагающие различные впечатления (experiences_offered != 'none')."
   ]
  },
  {
   "cell_type": "code",
   "execution_count": 8,
   "id": "63d0af37",
   "metadata": {
    "ExecuteTime": {
     "end_time": "2023-03-14T06:34:51.220578Z",
     "start_time": "2023-03-14T06:34:51.204590Z"
    }
   },
   "outputs": [],
   "source": [
    "query = '''\n",
    "SELECT DISTINCT\n",
    "    host_id,\n",
    "    host_verifications\n",
    "FROM\n",
    "    {db}.ldn_listings\n",
    "WHERE\n",
    "    experiences_offered != 'none'\n",
    "'''"
   ]
  },
  {
   "cell_type": "code",
   "execution_count": 13,
   "id": "61982ee2",
   "metadata": {
    "ExecuteTime": {
     "end_time": "2023-03-14T06:35:54.413866Z",
     "start_time": "2023-03-14T06:35:53.678812Z"
    }
   },
   "outputs": [
    {
     "data": {
      "text/html": [
       "<div>\n",
       "<style scoped>\n",
       "    .dataframe tbody tr th:only-of-type {\n",
       "        vertical-align: middle;\n",
       "    }\n",
       "\n",
       "    .dataframe tbody tr th {\n",
       "        vertical-align: top;\n",
       "    }\n",
       "\n",
       "    .dataframe thead th {\n",
       "        text-align: right;\n",
       "    }\n",
       "</style>\n",
       "<table border=\"1\" class=\"dataframe\">\n",
       "  <thead>\n",
       "    <tr style=\"text-align: right;\">\n",
       "      <th></th>\n",
       "      <th>host_id</th>\n",
       "      <th>host_verifications</th>\n",
       "    </tr>\n",
       "  </thead>\n",
       "  <tbody>\n",
       "    <tr>\n",
       "      <th>0</th>\n",
       "      <td>54730</td>\n",
       "      <td>['email', 'phone', 'facebook', 'reviews', 'off...</td>\n",
       "    </tr>\n",
       "    <tr>\n",
       "      <th>1</th>\n",
       "      <td>60302</td>\n",
       "      <td>['email', 'phone', 'reviews', 'jumio', 'govern...</td>\n",
       "    </tr>\n",
       "    <tr>\n",
       "      <th>2</th>\n",
       "      <td>67915</td>\n",
       "      <td>['email', 'phone', 'jumio', 'selfie', 'governm...</td>\n",
       "    </tr>\n",
       "    <tr>\n",
       "      <th>3</th>\n",
       "      <td>167107</td>\n",
       "      <td>['email', 'phone', 'manual_offline', 'jumio', ...</td>\n",
       "    </tr>\n",
       "    <tr>\n",
       "      <th>4</th>\n",
       "      <td>103583</td>\n",
       "      <td>['email', 'phone', 'reviews', 'offline_governm...</td>\n",
       "    </tr>\n",
       "    <tr>\n",
       "      <th>...</th>\n",
       "      <td>...</td>\n",
       "      <td>...</td>\n",
       "    </tr>\n",
       "    <tr>\n",
       "      <th>1356</th>\n",
       "      <td>21558962</td>\n",
       "      <td>['email', 'phone', 'reviews', 'jumio', 'govern...</td>\n",
       "    </tr>\n",
       "    <tr>\n",
       "      <th>1357</th>\n",
       "      <td>21257846</td>\n",
       "      <td>['email', 'phone', 'reviews', 'jumio', 'offlin...</td>\n",
       "    </tr>\n",
       "    <tr>\n",
       "      <th>1358</th>\n",
       "      <td>34219613</td>\n",
       "      <td>['email', 'phone', 'reviews', 'jumio', 'govern...</td>\n",
       "    </tr>\n",
       "    <tr>\n",
       "      <th>1359</th>\n",
       "      <td>34299581</td>\n",
       "      <td>['email', 'phone', 'google', 'reviews', 'jumio...</td>\n",
       "    </tr>\n",
       "    <tr>\n",
       "      <th>1360</th>\n",
       "      <td>26917573</td>\n",
       "      <td>['email', 'phone', 'reviews', 'manual_offline'...</td>\n",
       "    </tr>\n",
       "  </tbody>\n",
       "</table>\n",
       "<p>1361 rows × 2 columns</p>\n",
       "</div>"
      ],
      "text/plain": [
       "       host_id                                 host_verifications\n",
       "0        54730  ['email', 'phone', 'facebook', 'reviews', 'off...\n",
       "1        60302  ['email', 'phone', 'reviews', 'jumio', 'govern...\n",
       "2        67915  ['email', 'phone', 'jumio', 'selfie', 'governm...\n",
       "3       167107  ['email', 'phone', 'manual_offline', 'jumio', ...\n",
       "4       103583  ['email', 'phone', 'reviews', 'offline_governm...\n",
       "...        ...                                                ...\n",
       "1356  21558962  ['email', 'phone', 'reviews', 'jumio', 'govern...\n",
       "1357  21257846  ['email', 'phone', 'reviews', 'jumio', 'offlin...\n",
       "1358  34219613  ['email', 'phone', 'reviews', 'jumio', 'govern...\n",
       "1359  34299581  ['email', 'phone', 'google', 'reviews', 'jumio...\n",
       "1360  26917573  ['email', 'phone', 'reviews', 'manual_offline'...\n",
       "\n",
       "[1361 rows x 2 columns]"
      ]
     },
     "execution_count": 13,
     "metadata": {},
     "output_type": "execute_result"
    }
   ],
   "source": [
    "q_second = ph.read_clickhouse(query=query, connection=connection_default)\n",
    "q_second"
   ]
  },
  {
   "cell_type": "code",
   "execution_count": 14,
   "id": "d026c28f",
   "metadata": {
    "ExecuteTime": {
     "end_time": "2023-03-14T06:35:55.751796Z",
     "start_time": "2023-03-14T06:35:55.719667Z"
    }
   },
   "outputs": [],
   "source": [
    "#приведем значения в столбце host_verifications к типу list\n",
    "q_second.host_verifications = q_second.host_verifications.apply(lambda x: x.strip('[]').split(','))"
   ]
  },
  {
   "cell_type": "code",
   "execution_count": 16,
   "id": "8580917e",
   "metadata": {
    "ExecuteTime": {
     "end_time": "2023-03-14T06:36:18.211744Z",
     "start_time": "2023-03-14T06:36:18.165241Z"
    }
   },
   "outputs": [],
   "source": [
    "#подсчитаем сколько раз встречается каждый способ верификации\n",
    "q_second = q_second.explode('host_verifications')"
   ]
  },
  {
   "cell_type": "code",
   "execution_count": 17,
   "id": "9f09fab0",
   "metadata": {
    "ExecuteTime": {
     "end_time": "2023-03-14T06:36:19.141524Z",
     "start_time": "2023-03-14T06:36:19.100559Z"
    }
   },
   "outputs": [
    {
     "data": {
      "text/plain": [
       "'email'                     1345\n",
       " 'phone'                    1345\n",
       " 'reviews'                  1309\n",
       " 'government_id'            1196\n",
       " 'jumio'                    1115\n",
       " 'offline_government_id'     469\n",
       " 'work_email'                279\n",
       " 'facebook'                  270\n",
       " 'selfie'                    252\n",
       " 'identity_manual'           227\n",
       " 'manual_offline'             70\n",
       " 'google'                     34\n",
       " 'kba'                        27\n",
       "'phone'                       16\n",
       " 'manual_online'              16\n",
       " 'sent_id'                     6\n",
       "Name: host_verifications, dtype: int64"
      ]
     },
     "execution_count": 17,
     "metadata": {},
     "output_type": "execute_result"
    }
   ],
   "source": [
    "q_second.host_verifications.value_counts()"
   ]
  },
  {
   "cell_type": "markdown",
   "id": "b12ed1cd",
   "metadata": {},
   "source": [
    "Теперь посмотрим, для скольких объявлений и в каких районах хозяева указали впечатления. "
   ]
  },
  {
   "cell_type": "code",
   "execution_count": 79,
   "id": "bb0c932d",
   "metadata": {
    "ExecuteTime": {
     "end_time": "2023-02-28T13:29:55.357597Z",
     "start_time": "2023-02-28T13:29:55.341598Z"
    }
   },
   "outputs": [],
   "source": [
    "query = '''\n",
    "SELECT\n",
    "    neighbourhood_cleansed,\n",
    "    experiences_offered,\n",
    "    COUNT(*) AS experiences_count\n",
    "FROM\n",
    "    {db}.ldn_listings\n",
    "WHERE\n",
    "    experiences_offered != 'none'\n",
    "GROUP BY \n",
    "    neighbourhood_cleansed,\n",
    "    experiences_offered\n",
    "ORDER BY\n",
    "    experiences_count DESC\n",
    "LIMIT 100\n",
    "'''\n"
   ]
  },
  {
   "cell_type": "code",
   "execution_count": 80,
   "id": "f9f2f3d7",
   "metadata": {
    "ExecuteTime": {
     "end_time": "2023-02-28T13:29:56.094630Z",
     "start_time": "2023-02-28T13:29:55.724184Z"
    }
   },
   "outputs": [
    {
     "data": {
      "text/html": [
       "<div>\n",
       "<style scoped>\n",
       "    .dataframe tbody tr th:only-of-type {\n",
       "        vertical-align: middle;\n",
       "    }\n",
       "\n",
       "    .dataframe tbody tr th {\n",
       "        vertical-align: top;\n",
       "    }\n",
       "\n",
       "    .dataframe thead th {\n",
       "        text-align: right;\n",
       "    }\n",
       "</style>\n",
       "<table border=\"1\" class=\"dataframe\">\n",
       "  <thead>\n",
       "    <tr style=\"text-align: right;\">\n",
       "      <th></th>\n",
       "      <th>neighbourhood_cleansed</th>\n",
       "      <th>experiences_offered</th>\n",
       "      <th>experiences_count</th>\n",
       "    </tr>\n",
       "  </thead>\n",
       "  <tbody>\n",
       "    <tr>\n",
       "      <th>0</th>\n",
       "      <td>Hackney</td>\n",
       "      <td>family</td>\n",
       "      <td>61</td>\n",
       "    </tr>\n",
       "    <tr>\n",
       "      <th>1</th>\n",
       "      <td>Tower Hamlets</td>\n",
       "      <td>business</td>\n",
       "      <td>58</td>\n",
       "    </tr>\n",
       "    <tr>\n",
       "      <th>2</th>\n",
       "      <td>Westminster</td>\n",
       "      <td>business</td>\n",
       "      <td>50</td>\n",
       "    </tr>\n",
       "    <tr>\n",
       "      <th>3</th>\n",
       "      <td>Hackney</td>\n",
       "      <td>social</td>\n",
       "      <td>49</td>\n",
       "    </tr>\n",
       "    <tr>\n",
       "      <th>4</th>\n",
       "      <td>Hammersmith and Fulham</td>\n",
       "      <td>business</td>\n",
       "      <td>48</td>\n",
       "    </tr>\n",
       "    <tr>\n",
       "      <th>...</th>\n",
       "      <td>...</td>\n",
       "      <td>...</td>\n",
       "      <td>...</td>\n",
       "    </tr>\n",
       "    <tr>\n",
       "      <th>95</th>\n",
       "      <td>Redbridge</td>\n",
       "      <td>social</td>\n",
       "      <td>2</td>\n",
       "    </tr>\n",
       "    <tr>\n",
       "      <th>96</th>\n",
       "      <td>Barking and Dagenham</td>\n",
       "      <td>social</td>\n",
       "      <td>2</td>\n",
       "    </tr>\n",
       "    <tr>\n",
       "      <th>97</th>\n",
       "      <td>Newham</td>\n",
       "      <td>romantic</td>\n",
       "      <td>1</td>\n",
       "    </tr>\n",
       "    <tr>\n",
       "      <th>98</th>\n",
       "      <td>Bexley</td>\n",
       "      <td>business</td>\n",
       "      <td>1</td>\n",
       "    </tr>\n",
       "    <tr>\n",
       "      <th>99</th>\n",
       "      <td>City of London</td>\n",
       "      <td>family</td>\n",
       "      <td>1</td>\n",
       "    </tr>\n",
       "  </tbody>\n",
       "</table>\n",
       "<p>100 rows × 3 columns</p>\n",
       "</div>"
      ],
      "text/plain": [
       "    neighbourhood_cleansed experiences_offered  experiences_count\n",
       "0                  Hackney              family                 61\n",
       "1            Tower Hamlets            business                 58\n",
       "2              Westminster            business                 50\n",
       "3                  Hackney              social                 49\n",
       "4   Hammersmith and Fulham            business                 48\n",
       "..                     ...                 ...                ...\n",
       "95               Redbridge              social                  2\n",
       "96    Barking and Dagenham              social                  2\n",
       "97                  Newham            romantic                  1\n",
       "98                  Bexley            business                  1\n",
       "99          City of London              family                  1\n",
       "\n",
       "[100 rows x 3 columns]"
      ]
     },
     "execution_count": 80,
     "metadata": {},
     "output_type": "execute_result"
    }
   ],
   "source": [
    "q_third = ph.read_clickhouse(query=query, connection=connection_default)\n",
    "q_third"
   ]
  },
  {
   "cell_type": "code",
   "execution_count": 90,
   "id": "ac8839f0",
   "metadata": {
    "ExecuteTime": {
     "end_time": "2023-02-28T13:35:52.937298Z",
     "start_time": "2023-02-28T13:35:52.475771Z"
    }
   },
   "outputs": [
    {
     "data": {
      "text/plain": [
       "<AxesSubplot:xlabel='experiences_offered', ylabel='neighbourhood_cleansed'>"
      ]
     },
     "execution_count": 90,
     "metadata": {},
     "output_type": "execute_result"
    },
    {
     "data": {
      "image/png": "[encoded data removed]",
      "text/plain": [
       "<Figure size 432x288 with 2 Axes>"
      ]
     },
     "metadata": {
      "needs_background": "light"
     },
     "output_type": "display_data"
    }
   ],
   "source": [
    "sns.heatmap(pd.pivot_table(data=q_third, index='neighbourhood_cleansed', columns='experiences_offered',\n",
    "               values='experiences_count'), cmap=sns.cubehelix_palette(as_cmap=True))"
   ]
  },
  {
   "cell_type": "code",
   "execution_count": 18,
   "id": "8e3ad93c",
   "metadata": {
    "ExecuteTime": {
     "end_time": "2023-03-14T06:48:27.271513Z",
     "start_time": "2023-03-14T06:48:27.253717Z"
    }
   },
   "outputs": [],
   "source": [
    "query = '''\n",
    "SELECT\n",
    "    room_type,\n",
    "    toFloat32OrNull(replaceRegexpAll(price, '[$,]', '')) as price_corr\n",
    "FROM\n",
    "    {db}.ldn_listings\n",
    "WHERE\n",
    "    experiences_offered != 'none'\n",
    "'''"
   ]
  },
  {
   "cell_type": "code",
   "execution_count": 19,
   "id": "05cd804f",
   "metadata": {
    "ExecuteTime": {
     "end_time": "2023-03-14T06:48:28.721691Z",
     "start_time": "2023-03-14T06:48:28.279145Z"
    }
   },
   "outputs": [
    {
     "data": {
      "text/html": [
       "<div>\n",
       "<style scoped>\n",
       "    .dataframe tbody tr th:only-of-type {\n",
       "        vertical-align: middle;\n",
       "    }\n",
       "\n",
       "    .dataframe tbody tr th {\n",
       "        vertical-align: top;\n",
       "    }\n",
       "\n",
       "    .dataframe thead th {\n",
       "        text-align: right;\n",
       "    }\n",
       "</style>\n",
       "<table border=\"1\" class=\"dataframe\">\n",
       "  <thead>\n",
       "    <tr style=\"text-align: right;\">\n",
       "      <th></th>\n",
       "      <th>room_type</th>\n",
       "      <th>price_corr</th>\n",
       "    </tr>\n",
       "  </thead>\n",
       "  <tbody>\n",
       "    <tr>\n",
       "      <th>0</th>\n",
       "      <td>Private room</td>\n",
       "      <td>65.0</td>\n",
       "    </tr>\n",
       "    <tr>\n",
       "      <th>1</th>\n",
       "      <td>Entire home/apt</td>\n",
       "      <td>100.0</td>\n",
       "    </tr>\n",
       "    <tr>\n",
       "      <th>2</th>\n",
       "      <td>Private room</td>\n",
       "      <td>150.0</td>\n",
       "    </tr>\n",
       "    <tr>\n",
       "      <th>3</th>\n",
       "      <td>Private room</td>\n",
       "      <td>45.0</td>\n",
       "    </tr>\n",
       "    <tr>\n",
       "      <th>4</th>\n",
       "      <td>Private room</td>\n",
       "      <td>25.0</td>\n",
       "    </tr>\n",
       "    <tr>\n",
       "      <th>...</th>\n",
       "      <td>...</td>\n",
       "      <td>...</td>\n",
       "    </tr>\n",
       "    <tr>\n",
       "      <th>1543</th>\n",
       "      <td>Entire home/apt</td>\n",
       "      <td>100.0</td>\n",
       "    </tr>\n",
       "    <tr>\n",
       "      <th>1544</th>\n",
       "      <td>Entire home/apt</td>\n",
       "      <td>125.0</td>\n",
       "    </tr>\n",
       "    <tr>\n",
       "      <th>1545</th>\n",
       "      <td>Entire home/apt</td>\n",
       "      <td>185.0</td>\n",
       "    </tr>\n",
       "    <tr>\n",
       "      <th>1546</th>\n",
       "      <td>Entire home/apt</td>\n",
       "      <td>110.0</td>\n",
       "    </tr>\n",
       "    <tr>\n",
       "      <th>1547</th>\n",
       "      <td>Private room</td>\n",
       "      <td>39.0</td>\n",
       "    </tr>\n",
       "  </tbody>\n",
       "</table>\n",
       "<p>1548 rows × 2 columns</p>\n",
       "</div>"
      ],
      "text/plain": [
       "            room_type  price_corr\n",
       "0        Private room        65.0\n",
       "1     Entire home/apt       100.0\n",
       "2        Private room       150.0\n",
       "3        Private room        45.0\n",
       "4        Private room        25.0\n",
       "...               ...         ...\n",
       "1543  Entire home/apt       100.0\n",
       "1544  Entire home/apt       125.0\n",
       "1545  Entire home/apt       185.0\n",
       "1546  Entire home/apt       110.0\n",
       "1547     Private room        39.0\n",
       "\n",
       "[1548 rows x 2 columns]"
      ]
     },
     "execution_count": 19,
     "metadata": {},
     "output_type": "execute_result"
    }
   ],
   "source": [
    "q_fourth = ph.read_clickhouse(query=query, connection=connection_default)\n",
    "q_fourth"
   ]
  },
  {
   "cell_type": "code",
   "execution_count": 20,
   "id": "10b00514",
   "metadata": {
    "ExecuteTime": {
     "end_time": "2023-03-14T06:48:34.070899Z",
     "start_time": "2023-03-14T06:48:31.948626Z"
    }
   },
   "outputs": [
    {
     "data": {
      "image/png": "[encoded data removed]",
      "text/plain": [
       "<Figure size 1440x1080 with 2 Axes>"
      ]
     },
     "metadata": {
      "needs_background": "light"
     },
     "output_type": "display_data"
    }
   ],
   "source": [
    "#график распределения цен в зависимости от типа жилья, для которого доступен какой-либо вид впечатления\n",
    "fig, axes = plt.subplots(nrows=2, ncols=1, figsize=(20, 15), sharey='col', sharex=False)\n",
    "\n",
    "sns.histplot(data=q_fourth, x='price_corr', hue='room_type', ax = axes.flatten()[0]) # обычная шкала\n",
    "sns.histplot(data=q_fourth, x='price_corr', hue='room_type', log_scale=True, ax = axes.flatten()[1]) # log шкала\n",
    "plt.show()"
   ]
  },
  {
   "cell_type": "code",
   "execution_count": 31,
   "id": "e8c37e4f",
   "metadata": {
    "ExecuteTime": {
     "end_time": "2023-03-14T06:58:40.805072Z",
     "start_time": "2023-03-14T06:58:39.836645Z"
    }
   },
   "outputs": [
    {
     "name": "stderr",
     "output_type": "stream",
     "text": [
      "C:\\Users\\1\\AppData\\Local\\Programs\\Python\\Python310\\lib\\site-packages\\seaborn\\distributions.py:2619: FutureWarning: `distplot` is a deprecated function and will be removed in a future version. Please adapt your code to use either `displot` (a figure-level function with similar flexibility) or `histplot` (an axes-level function for histograms).\n",
      "  warnings.warn(msg, FutureWarning)\n"
     ]
    },
    {
     "data": {
      "text/plain": [
       "<matplotlib.legend.Legend at 0x1838c0bb850>"
      ]
     },
     "execution_count": 31,
     "metadata": {},
     "output_type": "execute_result"
    },
    {
     "data": {
      "image/png": "[encoded data removed]",
      "text/plain": [
       "<Figure size 864x576 with 1 Axes>"
      ]
     },
     "metadata": {},
     "output_type": "display_data"
    }
   ],
   "source": [
    "# построение через distplot\n",
    "sns.distplot(q_fourth[q_fourth.room_type == 'Private room'].price_corr, kde=False, label='Private room')\n",
    "sns.distplot(q_fourth[q_fourth.room_type == 'Entire home/apt'].price_corr, kde=False, label='Entire home/apt')\n",
    "sns.distplot(q_fourth[q_fourth.room_type == 'Hotel room'].price_corr, kde=False, label='Hotel room')\n",
    "sns.distplot(q_fourth[q_fourth.room_type == 'Shared room'].price_corr, kde=False, label='Shared room')\n",
    "plt.legend()"
   ]
  },
  {
   "cell_type": "code",
   "execution_count": 32,
   "id": "5c26992c",
   "metadata": {
    "ExecuteTime": {
     "end_time": "2023-03-14T06:59:26.519463Z",
     "start_time": "2023-03-14T06:59:26.107754Z"
    }
   },
   "outputs": [
    {
     "name": "stderr",
     "output_type": "stream",
     "text": [
      "C:\\Users\\1\\AppData\\Local\\Programs\\Python\\Python310\\lib\\site-packages\\seaborn\\distributions.py:2619: FutureWarning: `distplot` is a deprecated function and will be removed in a future version. Please adapt your code to use either `displot` (a figure-level function with similar flexibility) or `histplot` (an axes-level function for histograms).\n",
      "  warnings.warn(msg, FutureWarning)\n"
     ]
    },
    {
     "data": {
      "text/plain": [
       "<matplotlib.legend.Legend at 0x1838a538a00>"
      ]
     },
     "execution_count": 32,
     "metadata": {},
     "output_type": "execute_result"
    },
    {
     "data": {
      "image/png": "[encoded data removed]",
      "text/plain": [
       "<Figure size 864x576 with 1 Axes>"
      ]
     },
     "metadata": {},
     "output_type": "display_data"
    }
   ],
   "source": [
    "sns.distplot(np.log(q_fourth[q_fourth.room_type == 'Private room'].price_corr), kde=False, label='Private room')\n",
    "sns.distplot(np.log(q_fourth[q_fourth.room_type == 'Entire home/apt'].price_corr), kde=False, label='Entire home/apt')\n",
    "sns.distplot(np.log(q_fourth[q_fourth.room_type == 'Hotel room'].price_corr), kde=False, label='Hotel room')\n",
    "sns.distplot(np.log(q_fourth[q_fourth.room_type == 'Shared room'].price_corr), kde=False, label='Shared room')\n",
    "plt.legend()"
   ]
  },
  {
   "cell_type": "markdown",
   "id": "16a86f6a",
   "metadata": {},
   "source": [
    "Выгрузим данные о цене, типе жилья и дате первого отзыва, начиная со 2 января 2010 года."
   ]
  },
  {
   "cell_type": "code",
   "execution_count": 174,
   "id": "e10aa2d2",
   "metadata": {
    "ExecuteTime": {
     "end_time": "2023-02-28T15:31:46.200340Z",
     "start_time": "2023-02-28T15:31:46.188338Z"
    }
   },
   "outputs": [],
   "source": [
    "query = '''\n",
    "SELECT\n",
    "    room_type,\n",
    "    toFloat32OrNull(replaceRegexpAll(price, '[$,]', '')) as price,\n",
    "    first_review\n",
    "FROM\n",
    "    {db}.ldn_listings\n",
    "WHERE\n",
    "    first_review > '2010-01-01'\n",
    "LIMIT 1000\n",
    "'''"
   ]
  },
  {
   "cell_type": "code",
   "execution_count": 208,
   "id": "52b4586a",
   "metadata": {
    "ExecuteTime": {
     "end_time": "2023-02-28T15:46:06.688087Z",
     "start_time": "2023-02-28T15:46:06.057975Z"
    }
   },
   "outputs": [
    {
     "data": {
      "text/html": [
       "<div>\n",
       "<style scoped>\n",
       "    .dataframe tbody tr th:only-of-type {\n",
       "        vertical-align: middle;\n",
       "    }\n",
       "\n",
       "    .dataframe tbody tr th {\n",
       "        vertical-align: top;\n",
       "    }\n",
       "\n",
       "    .dataframe thead th {\n",
       "        text-align: right;\n",
       "    }\n",
       "</style>\n",
       "<table border=\"1\" class=\"dataframe\">\n",
       "  <thead>\n",
       "    <tr style=\"text-align: right;\">\n",
       "      <th></th>\n",
       "      <th>room_type</th>\n",
       "      <th>price</th>\n",
       "      <th>first_review</th>\n",
       "    </tr>\n",
       "  </thead>\n",
       "  <tbody>\n",
       "    <tr>\n",
       "      <th>0</th>\n",
       "      <td>Private room</td>\n",
       "      <td>65.0</td>\n",
       "      <td>2010-08-18</td>\n",
       "    </tr>\n",
       "    <tr>\n",
       "      <th>1</th>\n",
       "      <td>Entire home/apt</td>\n",
       "      <td>300.0</td>\n",
       "      <td>2011-03-21</td>\n",
       "    </tr>\n",
       "    <tr>\n",
       "      <th>2</th>\n",
       "      <td>Entire home/apt</td>\n",
       "      <td>65.0</td>\n",
       "      <td>2016-03-05</td>\n",
       "    </tr>\n",
       "    <tr>\n",
       "      <th>3</th>\n",
       "      <td>Private room</td>\n",
       "      <td>29.0</td>\n",
       "      <td>2010-04-14</td>\n",
       "    </tr>\n",
       "    <tr>\n",
       "      <th>4</th>\n",
       "      <td>Private room</td>\n",
       "      <td>100.0</td>\n",
       "      <td>2010-10-16</td>\n",
       "    </tr>\n",
       "    <tr>\n",
       "      <th>...</th>\n",
       "      <td>...</td>\n",
       "      <td>...</td>\n",
       "      <td>...</td>\n",
       "    </tr>\n",
       "    <tr>\n",
       "      <th>995</th>\n",
       "      <td>Private room</td>\n",
       "      <td>45.0</td>\n",
       "      <td>2012-11-07</td>\n",
       "    </tr>\n",
       "    <tr>\n",
       "      <th>996</th>\n",
       "      <td>Private room</td>\n",
       "      <td>51.0</td>\n",
       "      <td>2013-03-18</td>\n",
       "    </tr>\n",
       "    <tr>\n",
       "      <th>997</th>\n",
       "      <td>Entire home/apt</td>\n",
       "      <td>79.0</td>\n",
       "      <td>2012-09-17</td>\n",
       "    </tr>\n",
       "    <tr>\n",
       "      <th>998</th>\n",
       "      <td>Entire home/apt</td>\n",
       "      <td>110.0</td>\n",
       "      <td>2012-09-24</td>\n",
       "    </tr>\n",
       "    <tr>\n",
       "      <th>999</th>\n",
       "      <td>Private room</td>\n",
       "      <td>70.0</td>\n",
       "      <td>2012-11-26</td>\n",
       "    </tr>\n",
       "  </tbody>\n",
       "</table>\n",
       "<p>1000 rows × 3 columns</p>\n",
       "</div>"
      ],
      "text/plain": [
       "           room_type  price first_review\n",
       "0       Private room   65.0   2010-08-18\n",
       "1    Entire home/apt  300.0   2011-03-21\n",
       "2    Entire home/apt   65.0   2016-03-05\n",
       "3       Private room   29.0   2010-04-14\n",
       "4       Private room  100.0   2010-10-16\n",
       "..               ...    ...          ...\n",
       "995     Private room   45.0   2012-11-07\n",
       "996     Private room   51.0   2013-03-18\n",
       "997  Entire home/apt   79.0   2012-09-17\n",
       "998  Entire home/apt  110.0   2012-09-24\n",
       "999     Private room   70.0   2012-11-26\n",
       "\n",
       "[1000 rows x 3 columns]"
      ]
     },
     "execution_count": 208,
     "metadata": {},
     "output_type": "execute_result"
    }
   ],
   "source": [
    "q_5 = ph.read_clickhouse(query=query, connection=connection_default)\n",
    "q_5"
   ]
  },
  {
   "cell_type": "code",
   "execution_count": 209,
   "id": "b0e24649",
   "metadata": {
    "ExecuteTime": {
     "end_time": "2023-02-28T15:46:07.249413Z",
     "start_time": "2023-02-28T15:46:07.223124Z"
    }
   },
   "outputs": [],
   "source": [
    "# переведем колонку даты в тип datetime и возьмем год от каждой даты\n",
    "q_5.first_review = pd.to_datetime(q_5.first_review)\n",
    "q_5.first_review = q_5.first_review.dt.year # или можно отрезать первые 4 символа от даты с помощью lambda ф-ии"
   ]
  },
  {
   "cell_type": "code",
   "execution_count": 226,
   "id": "f0ab9d0d",
   "metadata": {
    "ExecuteTime": {
     "end_time": "2023-02-28T15:56:41.395285Z",
     "start_time": "2023-02-28T15:56:41.070520Z"
    }
   },
   "outputs": [
    {
     "data": {
      "text/plain": [
       "<AxesSubplot:xlabel='year', ylabel='avg_price'>"
      ]
     },
     "execution_count": 226,
     "metadata": {},
     "output_type": "execute_result"
    },
    {
     "data": {
      "image/png": "[encoded data removed]",
      "text/plain": [
       "<Figure size 1800x1080 with 1 Axes>"
      ]
     },
     "metadata": {},
     "output_type": "display_data"
    }
   ],
   "source": [
    "fig, ax = plt.subplots(figsize=(25,15))\n",
    "sns.lineplot(data=q_5.groupby(['first_review', 'room_type'], \n",
    "                    as_index=False).agg(avg_price=('price', 'mean')).sort_values('first_review').rename(columns={'first_review': 'year'}), \n",
    "            x='year', y='avg_price', hue='room_type')"
   ]
  },
  {
   "cell_type": "code",
   "execution_count": null,
   "id": "6c0e5191",
   "metadata": {},
   "outputs": [],
   "source": []
  }
 ],
 "metadata": {
  "kernelspec": {
   "display_name": "Python 3 (ipykernel)",
   "language": "python",
   "name": "python3"
  },
  "language_info": {
   "codemirror_mode": {
    "name": "ipython",
    "version": 3
   },
   "file_extension": ".py",
   "mimetype": "text/x-python",
   "name": "python",
   "nbconvert_exporter": "python",
   "pygments_lexer": "ipython3",
   "version": "3.10.0"
  },
  "nbTranslate": {
   "displayLangs": [
    "*"
   ],
   "hotkey": "alt-t",
   "langInMainMenu": true,
   "sourceLang": "en",
   "targetLang": "fr",
   "useGoogleTranslate": true
  },
  "toc": {
   "base_numbering": 1,
   "nav_menu": {},
   "number_sections": true,
   "sideBar": true,
   "skip_h1_title": false,
   "title_cell": "Table of Contents",
   "title_sidebar": "Contents",
   "toc_cell": false,
   "toc_position": {},
   "toc_section_display": true,
   "toc_window_display": false
  },
  "varInspector": {
   "cols": {
    "lenName": 16,
    "lenType": 16,
    "lenVar": 40
   },
   "kernels_config": {
    "python": {
     "delete_cmd_postfix": "",
     "delete_cmd_prefix": "del ",
     "library": "var_list.py",
     "varRefreshCmd": "print(var_dic_list())"
    },
    "r": {
     "delete_cmd_postfix": ") ",
     "delete_cmd_prefix": "rm(",
     "library": "var_list.r",
     "varRefreshCmd": "cat(var_dic_list()) "
    }
   },
   "types_to_exclude": [
    "module",
    "function",
    "builtin_function_or_method",
    "instance",
    "_Feature"
   ],
   "window_display": false
  }
 },
 "nbformat": 4,
 "nbformat_minor": 5
}
