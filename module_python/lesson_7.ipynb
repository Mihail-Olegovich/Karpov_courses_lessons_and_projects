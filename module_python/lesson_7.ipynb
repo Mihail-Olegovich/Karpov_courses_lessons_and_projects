{
 "cells": [
  {
   "cell_type": "code",
   "execution_count": 1,
   "metadata": {
    "ExecuteTime": {
     "end_time": "2023-02-28T19:33:08.897107Z",
     "start_time": "2023-02-28T19:33:03.852507Z"
    }
   },
   "outputs": [],
   "source": [
    "import pandas as pd\n",
    "import datetime\n",
    "import vk_api\n",
    "import os\n",
    "import requests\n",
    "import json\n",
    "import random\n",
    "\n",
    "%matplotlib inline\n",
    "import matplotlib.pyplot as plt\n",
    "import seaborn as sns\n",
    "import sys"
   ]
  },
  {
   "cell_type": "code",
   "execution_count": 2,
   "metadata": {},
   "outputs": [],
   "source": [
    "token = '4e6e771d37dbcbcfcc3b53d291a274d3ae21560a2e81f058a7c177aff044b5141941e89aff1fead50be4f'"
   ]
  },
  {
   "cell_type": "code",
   "execution_count": 3,
   "metadata": {},
   "outputs": [],
   "source": [
    "vk_session = vk_api.VkApi(token=token)\n",
    "vk = vk_session.get_api()"
   ]
  },
  {
   "cell_type": "code",
   "execution_count": 4,
   "metadata": {},
   "outputs": [
    {
     "data": {
      "text/plain": [
       "0"
      ]
     },
     "execution_count": 4,
     "metadata": {},
     "output_type": "execute_result"
    }
   ],
   "source": [
    "vk.messages.send(\n",
    "    chat_id=1,\n",
    "    random_id=2,\n",
    "    message='Matrix has you ...')"
   ]
  },
  {
   "cell_type": "code",
   "execution_count": 5,
   "metadata": {},
   "outputs": [],
   "source": [
    "df = pd.read_csv('/home/jupyter-an.karpov/shared/ads_data.csv.zip', compression='zip')"
   ]
  },
  {
   "cell_type": "code",
   "execution_count": 6,
   "metadata": {},
   "outputs": [],
   "source": [
    "ad_data = df.groupby(['ad_id', 'event'], as_index=False) \\\n",
    "    .agg({'user_id': 'count'})"
   ]
  },
  {
   "cell_type": "code",
   "execution_count": 7,
   "metadata": {},
   "outputs": [],
   "source": [
    "ad_data = ad_data.pivot(index='ad_id', columns='event', values='user_id').reset_index()"
   ]
  },
  {
   "cell_type": "code",
   "execution_count": 8,
   "metadata": {},
   "outputs": [],
   "source": [
    "ad_data = ad_data.fillna(0).assign(ctr=ad_data.click / ad_data.view)"
   ]
  },
  {
   "cell_type": "code",
   "execution_count": 9,
   "metadata": {},
   "outputs": [],
   "source": [
    "top_ctr = ad_data.query('click > 20 & view > 100').sort_values('ctr').tail(10)"
   ]
  },
  {
   "cell_type": "code",
   "execution_count": 10,
   "metadata": {},
   "outputs": [],
   "source": [
    "top_ctr.to_csv('top_ctr_data.csv', index=False)"
   ]
  },
  {
   "cell_type": "code",
   "execution_count": null,
   "metadata": {},
   "outputs": [],
   "source": []
  },
  {
   "cell_type": "code",
   "execution_count": null,
   "metadata": {},
   "outputs": [],
   "source": []
  },
  {
   "cell_type": "code",
   "execution_count": 11,
   "metadata": {},
   "outputs": [
    {
     "data": {
      "text/plain": [
       "{'file': '591438330|0|-1|856324|18a983d0b7|csv|403|top_ctr_data.csv|c2f9e346fc49058f43500d24dbf7ae44|844363341001fa9065f1f71631e3878c||||eyJkaXNrIjoiNyIsInBlZXJfc2VuZGVyIjoiLTE5NjA5OTUyOCJ9'}"
      ]
     },
     "execution_count": 11,
     "metadata": {},
     "output_type": "execute_result"
    }
   ],
   "source": [
    "path = '/home/jupyter-an.karpov/lesson_7/top_ctr_data.csv'\n",
    "file_name = 'top_ctr_data.csv'\n",
    "\n",
    "path_to_file = path\n",
    "upload_url = vk.docs.getMessagesUploadServer(peer_id=2000000001)[\"upload_url\"]\n",
    "file = {'file': (file_name, open(path_to_file, 'rb'))}\n",
    "\n",
    "response = requests.post(upload_url, files=file)\n",
    "\n",
    "json_data = json.loads(response.text)\n",
    "json_data"
   ]
  },
  {
   "cell_type": "code",
   "execution_count": 12,
   "metadata": {},
   "outputs": [],
   "source": [
    "saved_file = vk.docs.save(file=json_data['file'], title=file_name)"
   ]
  },
  {
   "cell_type": "code",
   "execution_count": 13,
   "metadata": {},
   "outputs": [
    {
     "data": {
      "text/plain": [
       "{'type': 'doc',\n",
       " 'doc': {'id': 555175609,\n",
       "  'owner_id': 591438330,\n",
       "  'title': 'top_ctr_data.csv',\n",
       "  'size': 403,\n",
       "  'ext': 'csv',\n",
       "  'date': 1592214057,\n",
       "  'type': 1,\n",
       "  'url': 'https://vk.com/doc591438330_555175609?hash=f5e049dfcd9237bef6&dl=FUYTSNRQHE4TKMRY:1592214057:fde24a49275516c989&api=1&no_preview=1'}}"
      ]
     },
     "execution_count": 13,
     "metadata": {},
     "output_type": "execute_result"
    }
   ],
   "source": [
    "saved_file"
   ]
  },
  {
   "cell_type": "code",
   "execution_count": 14,
   "metadata": {},
   "outputs": [],
   "source": [
    "attachment = 'doc{}_{}'.format(saved_file['doc']['owner_id'], saved_file['doc']['id'])"
   ]
  },
  {
   "cell_type": "code",
   "execution_count": 15,
   "metadata": {},
   "outputs": [
    {
     "data": {
      "text/plain": [
       "'doc591438330_555175609'"
      ]
     },
     "execution_count": 15,
     "metadata": {},
     "output_type": "execute_result"
    }
   ],
   "source": [
    "attachment"
   ]
  },
  {
   "cell_type": "code",
   "execution_count": 16,
   "metadata": {},
   "outputs": [
    {
     "data": {
      "text/plain": [
       "0"
      ]
     },
     "execution_count": 16,
     "metadata": {},
     "output_type": "execute_result"
    }
   ],
   "source": [
    "vk.messages.send(\n",
    "    chat_id=1,\n",
    "    random_id=3,\n",
    "    message='Топ объявлений по CTR', \n",
    "    attachment = attachment\n",
    ")"
   ]
  },
  {
   "cell_type": "code",
   "execution_count": null,
   "metadata": {},
   "outputs": [],
   "source": []
  },
  {
   "cell_type": "code",
   "execution_count": null,
   "metadata": {},
   "outputs": [],
   "source": []
  },
  {
   "cell_type": "code",
   "execution_count": 48,
   "metadata": {},
   "outputs": [],
   "source": [
    "import gspread\n",
    "from df2gspread import df2gspread as d2g\n",
    "from oauth2client.service_account import ServiceAccountCredentials"
   ]
  },
  {
   "cell_type": "code",
   "execution_count": null,
   "metadata": {},
   "outputs": [],
   "source": []
  },
  {
   "cell_type": "code",
   "execution_count": 59,
   "metadata": {},
   "outputs": [],
   "source": [
    "scope = ['https://spreadsheets.google.com/feeds',\n",
    "         'https://www.googleapis.com/auth/drive']\n",
    "\n",
    "my_mail = 'anatoly1804@gmail.com'\n",
    "\n",
    "# Authorization\n",
    "credentials = ServiceAccountCredentials.from_json_keyfile_name('heroic-venture-268009-1dfbcc34e5fa.json', scope)\n",
    "gs = gspread.authorize(credentials)"
   ]
  },
  {
   "cell_type": "code",
   "execution_count": null,
   "metadata": {},
   "outputs": [],
   "source": []
  },
  {
   "cell_type": "code",
   "execution_count": 60,
   "metadata": {},
   "outputs": [],
   "source": [
    "# Name of the table in google sheets, \n",
    "# can be url for open_by_url\n",
    "# or id (key) part for open_by_key\n",
    "table_name = 'to_sequence'  # Your table\n",
    "# Get this table\n",
    "work_sheet = gs.open(table_name)"
   ]
  },
  {
   "cell_type": "code",
   "execution_count": 72,
   "metadata": {},
   "outputs": [],
   "source": [
    "# Select 1st sheet\n",
    "sheet1 = work_sheet.sheet1\n",
    "\n",
    "# Get data in python lists format\n",
    "data = sheet1.get_all_values()"
   ]
  },
  {
   "cell_type": "code",
   "execution_count": null,
   "metadata": {},
   "outputs": [],
   "source": []
  },
  {
   "cell_type": "code",
   "execution_count": 73,
   "metadata": {},
   "outputs": [
    {
     "data": {
      "text/plain": [
       "[['price', 'group'],\n",
       " ['110', 'Group_1'],\n",
       " ['20', 'Group_2'],\n",
       " ['250', 'group_3'],\n",
       " ['500', 'group_4']]"
      ]
     },
     "execution_count": 73,
     "metadata": {},
     "output_type": "execute_result"
    }
   ],
   "source": [
    "data"
   ]
  },
  {
   "cell_type": "code",
   "execution_count": 74,
   "metadata": {},
   "outputs": [],
   "source": [
    "headers = data.pop(0)"
   ]
  },
  {
   "cell_type": "code",
   "execution_count": 75,
   "metadata": {},
   "outputs": [],
   "source": [
    "df = pd.DataFrame(data, columns=headers)"
   ]
  },
  {
   "cell_type": "code",
   "execution_count": 76,
   "metadata": {},
   "outputs": [
    {
     "data": {
      "text/html": [
       "<div>\n",
       "<style scoped>\n",
       "    .dataframe tbody tr th:only-of-type {\n",
       "        vertical-align: middle;\n",
       "    }\n",
       "\n",
       "    .dataframe tbody tr th {\n",
       "        vertical-align: top;\n",
       "    }\n",
       "\n",
       "    .dataframe thead th {\n",
       "        text-align: right;\n",
       "    }\n",
       "</style>\n",
       "<table border=\"1\" class=\"dataframe\">\n",
       "  <thead>\n",
       "    <tr style=\"text-align: right;\">\n",
       "      <th></th>\n",
       "      <th>price</th>\n",
       "      <th>group</th>\n",
       "    </tr>\n",
       "  </thead>\n",
       "  <tbody>\n",
       "    <tr>\n",
       "      <th>0</th>\n",
       "      <td>110</td>\n",
       "      <td>Group_1</td>\n",
       "    </tr>\n",
       "    <tr>\n",
       "      <th>1</th>\n",
       "      <td>20</td>\n",
       "      <td>Group_2</td>\n",
       "    </tr>\n",
       "    <tr>\n",
       "      <th>2</th>\n",
       "      <td>250</td>\n",
       "      <td>group_3</td>\n",
       "    </tr>\n",
       "    <tr>\n",
       "      <th>3</th>\n",
       "      <td>500</td>\n",
       "      <td>group_4</td>\n",
       "    </tr>\n",
       "  </tbody>\n",
       "</table>\n",
       "</div>"
      ],
      "text/plain": [
       "  price    group\n",
       "0   110  Group_1\n",
       "1    20  Group_2\n",
       "2   250  group_3\n",
       "3   500  group_4"
      ]
     },
     "execution_count": 76,
     "metadata": {},
     "output_type": "execute_result"
    }
   ],
   "source": [
    "df"
   ]
  },
  {
   "cell_type": "code",
   "execution_count": 67,
   "metadata": {},
   "outputs": [
    {
     "data": {
      "text/html": [
       "<div>\n",
       "<style scoped>\n",
       "    .dataframe tbody tr th:only-of-type {\n",
       "        vertical-align: middle;\n",
       "    }\n",
       "\n",
       "    .dataframe tbody tr th {\n",
       "        vertical-align: top;\n",
       "    }\n",
       "\n",
       "    .dataframe thead th {\n",
       "        text-align: right;\n",
       "    }\n",
       "</style>\n",
       "<table border=\"1\" class=\"dataframe\">\n",
       "  <thead>\n",
       "    <tr style=\"text-align: right;\">\n",
       "      <th></th>\n",
       "      <th>price</th>\n",
       "      <th>group</th>\n",
       "    </tr>\n",
       "  </thead>\n",
       "  <tbody>\n",
       "    <tr>\n",
       "      <th>1</th>\n",
       "      <td>20</td>\n",
       "      <td>Group_2</td>\n",
       "    </tr>\n",
       "    <tr>\n",
       "      <th>0</th>\n",
       "      <td>110</td>\n",
       "      <td>Group_1</td>\n",
       "    </tr>\n",
       "  </tbody>\n",
       "</table>\n",
       "</div>"
      ],
      "text/plain": [
       "  price    group\n",
       "1    20  Group_2\n",
       "0   110  Group_1"
      ]
     },
     "execution_count": 67,
     "metadata": {},
     "output_type": "execute_result"
    }
   ],
   "source": [
    "df.sort_values('price', ascending=False)"
   ]
  },
  {
   "cell_type": "code",
   "execution_count": 71,
   "metadata": {},
   "outputs": [
    {
     "data": {
      "text/plain": [
       "{'spreadsheetId': '1gjyC_l8LMR3xq6h9w0GlbfsCpjl_V1j3dl9_0WxYyq8',\n",
       " 'tableRange': \"'Лист1'!A1:B4\",\n",
       " 'updates': {'spreadsheetId': '1gjyC_l8LMR3xq6h9w0GlbfsCpjl_V1j3dl9_0WxYyq8',\n",
       "  'updatedRange': \"'Лист1'!A5:B5\",\n",
       "  'updatedRows': 1,\n",
       "  'updatedColumns': 2,\n",
       "  'updatedCells': 2}}"
      ]
     },
     "execution_count": 71,
     "metadata": {},
     "output_type": "execute_result"
    }
   ],
   "source": [
    "sheet1.append_row([500, 'group_4'])"
   ]
  },
  {
   "cell_type": "code",
   "execution_count": 77,
   "metadata": {},
   "outputs": [
    {
     "data": {
      "text/plain": [
       "<Worksheet 'KarpovCorses2' id:1323350636>"
      ]
     },
     "execution_count": 77,
     "metadata": {},
     "output_type": "execute_result"
    }
   ],
   "source": [
    "# Looks like spreadsheet should be already present at the dist (so, run code in create table section)\n",
    "spreadsheet_name = 'A new spreadsheet'\n",
    "sheet = 'KarpovCorses2'\n",
    "d2g.upload(df, spreadsheet_name, sheet, credentials=credentials, row_names=True)"
   ]
  },
  {
   "cell_type": "code",
   "execution_count": null,
   "metadata": {},
   "outputs": [],
   "source": []
  },
  {
   "cell_type": "code",
   "execution_count": null,
   "metadata": {},
   "outputs": [],
   "source": []
  },
  {
   "cell_type": "code",
   "execution_count": null,
   "metadata": {},
   "outputs": [],
   "source": []
  },
  {
   "cell_type": "code",
   "execution_count": 84,
   "metadata": {},
   "outputs": [],
   "source": [
    "url = 'https://api-metrika.yandex.net/stat/v1/data?'\n",
    "visits = 'metrics=ym:s:visits&dimensions=ym:s:date&id=44147844'"
   ]
  },
  {
   "cell_type": "code",
   "execution_count": 85,
   "metadata": {},
   "outputs": [],
   "source": [
    "vistis_url = url + visits"
   ]
  },
  {
   "cell_type": "code",
   "execution_count": 86,
   "metadata": {},
   "outputs": [],
   "source": [
    "vistis_request = requests.get(vistis_url)"
   ]
  },
  {
   "cell_type": "code",
   "execution_count": 87,
   "metadata": {},
   "outputs": [
    {
     "data": {
      "text/plain": [
       "<Response [200]>"
      ]
     },
     "execution_count": 87,
     "metadata": {},
     "output_type": "execute_result"
    }
   ],
   "source": [
    "vistis_request"
   ]
  },
  {
   "cell_type": "code",
   "execution_count": 88,
   "metadata": {},
   "outputs": [],
   "source": [
    "json_data = json.loads(vistis_request.text)"
   ]
  },
  {
   "cell_type": "code",
   "execution_count": 90,
   "metadata": {},
   "outputs": [
    {
     "data": {
      "text/plain": [
       "[{'dimensions': [{'name': '2020-06-05'}], 'metrics': [718.0]},\n",
       " {'dimensions': [{'name': '2020-06-02'}], 'metrics': [644.0]},\n",
       " {'dimensions': [{'name': '2020-06-03'}], 'metrics': [633.0]},\n",
       " {'dimensions': [{'name': '2020-06-04'}], 'metrics': [606.0]},\n",
       " {'dimensions': [{'name': '2020-06-01'}], 'metrics': [572.0]},\n",
       " {'dimensions': [{'name': '2020-06-06'}], 'metrics': [375.0]},\n",
       " {'dimensions': [{'name': '2020-06-07'}], 'metrics': [176.0]}]"
      ]
     },
     "execution_count": 90,
     "metadata": {},
     "output_type": "execute_result"
    }
   ],
   "source": [
    "json_data['data']"
   ]
  },
  {
   "cell_type": "code",
   "execution_count": null,
   "metadata": {},
   "outputs": [],
   "source": []
  },
  {
   "cell_type": "code",
   "execution_count": 95,
   "metadata": {},
   "outputs": [],
   "source": [
    "y_df = pd.DataFrame([(i['dimensions'][0]['name'], \n",
    "  i['metrics'][0]) for i in json_data['data']], columns=['date', \n",
    "                                                        'visits'])"
   ]
  },
  {
   "cell_type": "code",
   "execution_count": 96,
   "metadata": {},
   "outputs": [
    {
     "data": {
      "text/plain": [
       "<Worksheet 'Yandex_visits' id:197715693>"
      ]
     },
     "execution_count": 96,
     "metadata": {},
     "output_type": "execute_result"
    }
   ],
   "source": [
    "spreadsheet_name = 'A new spreadsheet'\n",
    "sheet = 'Yandex_visits'\n",
    "d2g.upload(y_df, spreadsheet_name, sheet, credentials=credentials, row_names=True)"
   ]
  },
  {
   "cell_type": "markdown",
   "metadata": {},
   "source": [
    "Дз и контест"
   ]
  },
  {
   "cell_type": "code",
   "execution_count": 2,
   "metadata": {
    "ExecuteTime": {
     "end_time": "2023-02-06T07:31:43.310599Z",
     "start_time": "2023-02-06T07:31:38.296407Z"
    }
   },
   "outputs": [
    {
     "name": "stdout",
     "output_type": "stream",
     "text": [
      "Collecting vk_api\n",
      "  Downloading vk_api-11.9.9-py3-none-any.whl (48 kB)\n",
      "Requirement already satisfied: requests in c:\\users\\1\\appdata\\local\\programs\\python\\python310\\lib\\site-packages (from vk_api) (2.27.1)\n",
      "Requirement already satisfied: certifi>=2017.4.17 in c:\\users\\1\\appdata\\local\\programs\\python\\python310\\lib\\site-packages (from requests->vk_api) (2022.5.18.1)\n",
      "Requirement already satisfied: urllib3<1.27,>=1.21.1 in c:\\users\\1\\appdata\\local\\programs\\python\\python310\\lib\\site-packages (from requests->vk_api) (1.26.9)\n",
      "Requirement already satisfied: idna<4,>=2.5 in c:\\users\\1\\appdata\\local\\programs\\python\\python310\\lib\\site-packages (from requests->vk_api) (3.3)\n",
      "Requirement already satisfied: charset-normalizer~=2.0.0 in c:\\users\\1\\appdata\\local\\programs\\python\\python310\\lib\\site-packages (from requests->vk_api) (2.0.12)\n",
      "Installing collected packages: vk-api\n",
      "Successfully installed vk-api-11.9.9\n"
     ]
    },
    {
     "name": "stderr",
     "output_type": "stream",
     "text": [
      "WARNING: You are using pip version 21.2.3; however, version 22.3.1 is available.\n",
      "You should consider upgrading via the 'C:\\Users\\1\\AppData\\Local\\Programs\\Python\\Python310\\python.exe -m pip install --upgrade pip' command.\n"
     ]
    }
   ],
   "source": [
    "!pip install vk_api"
   ]
  },
  {
   "cell_type": "code",
   "execution_count": 3,
   "metadata": {
    "ExecuteTime": {
     "end_time": "2023-02-06T07:31:51.537317Z",
     "start_time": "2023-02-06T07:31:46.512425Z"
    }
   },
   "outputs": [],
   "source": [
    "import pandas as pd\n",
    "import datetime\n",
    "import vk_api\n",
    "import os\n",
    "import requests\n",
    "import json\n",
    "import random\n",
    "\n",
    "%matplotlib inline\n",
    "import matplotlib.pyplot as plt\n",
    "import seaborn as sns\n",
    "import sys"
   ]
  },
  {
   "cell_type": "code",
   "execution_count": 21,
   "metadata": {
    "ExecuteTime": {
     "end_time": "2023-02-06T08:42:00.495256Z",
     "start_time": "2023-02-06T08:42:00.479278Z"
    }
   },
   "outputs": [],
   "source": [
    "token = 'vk1.a.VWsUsTsf9q9FY8tweQlpcNf4R4R2nETV4m7q3fVUtFrUZvfkEYdGetTC_w0Rl-tkOjEHN4aTtAFyWTjbk6bXj0RzQE9EcJjPJDfTWiG1Jq8RejCgPj3494YgcfnH1I9IabVtiyYNcvQCXGjC7luf2hWTF2KP2RGCpfNUksRok7rcdM8WWIP_1-KFL7miHxknX0iXj0YCYOaJb5sevc-kiQ'"
   ]
  },
  {
   "cell_type": "code",
   "execution_count": 34,
   "metadata": {
    "ExecuteTime": {
     "end_time": "2023-02-06T09:10:06.346349Z",
     "start_time": "2023-02-06T09:10:06.321044Z"
    }
   },
   "outputs": [],
   "source": [
    "\n",
    "\n",
    "my_id = 320826413 \n",
    "\n",
    "vk_session = vk_api.VkApi(token=token)\n",
    "\n",
    "vk = vk_session.get_api()"
   ]
  },
  {
   "cell_type": "code",
   "execution_count": 35,
   "metadata": {
    "ExecuteTime": {
     "end_time": "2023-02-06T09:10:06.833450Z",
     "start_time": "2023-02-06T09:10:06.626422Z"
    }
   },
   "outputs": [
    {
     "name": "stdout",
     "output_type": "stream",
     "text": [
      "{'count': 1, 'items': [{'conversation': {'peer': {'id': 320826413, 'type': 'user', 'local_id': 320826413}, 'last_message_id': 2, 'in_read': 2, 'out_read': 2, 'last_conversation_message_id': 2, 'in_read_cmid': 2, 'out_read_cmid': 2, 'is_marked_unread': False, 'important': False, 'can_write': {'allowed': True}}, 'last_message': {'date': 1675673800, 'from_id': -218704903, 'id': 2, 'out': 1, 'attachments': [{'type': 'doc', 'doc': {'id': 651232194, 'owner_id': 320826413, 'title': '20221228_113013.jpg', 'size': 4398957, 'ext': 'jpg', 'date': 1675673800, 'type': 4, 'url': 'https://vk.com/doc320826413_651232194?hash=H9hh2ICQEKHJefai0yjU7ruyhFAGhpg5LzMsOP5nnQw&dl=FUZDCOBXGA2DSMBT:1675674603:AZzf1sm6lXQtWxzVR7U6ZvFXjzcOUC53mBYcTWdtUzz&api=1&no_preview=1', 'preview': {'photo': {'sizes': [{'src': 'https://sun9-55.userapi.com/c237131/u320826413/d3/-3/m_3aaca43d22.jpg', 'width': 130, 'height': 100, 'type': 'm'}, {'src': 'https://sun9-70.userapi.com/c237131/u320826413/d3/-3/s_3aaca43d22.jpg', 'width': 100, 'height': 75, 'type': 's'}, {'src': 'https://sun9-9.userapi.com/c237131/u320826413/d3/-3/x_3aaca43d22.jpg', 'width': 453, 'height': 604, 'type': 'x'}, {'src': 'https://sun9-55.userapi.com/c237131/u320826413/d3/-3/y_3aaca43d22.jpg', 'width': 605, 'height': 807, 'type': 'y'}, {'src': 'https://sun9-19.userapi.com/c237131/u320826413/d3/-3/z_3aaca43d22.jpg', 'width': 960, 'height': 1280, 'type': 'z'}, {'src': 'https://sun9-76.userapi.com/c237131/u320826413/d3/-3/o_3aaca43d22.jpg', 'width': 1920, 'height': 2560, 'type': 'o'}]}}, 'access_key': 'GvQYK2RWZrGewZjLFVss2aoftsJkiCSLEcXd9ZeMWZL'}}], 'conversation_message_id': 2, 'fwd_messages': [], 'important': False, 'is_hidden': False, 'peer_id': 320826413, 'random_id': 1881247798, 'text': 'Панкейки!'}}]}\n"
     ]
    }
   ],
   "source": [
    "print(vk.messages.getConversations())"
   ]
  },
  {
   "cell_type": "code",
   "execution_count": 36,
   "metadata": {
    "ExecuteTime": {
     "end_time": "2023-02-06T09:10:07.524078Z",
     "start_time": "2023-02-06T09:10:07.296432Z"
    }
   },
   "outputs": [
    {
     "data": {
      "text/plain": [
       "3"
      ]
     },
     "execution_count": 36,
     "metadata": {},
     "output_type": "execute_result"
    }
   ],
   "source": [
    "vk.messages.send(\n",
    "    user_id=my_id,\n",
    "    random_id=random.randint(1, 2 ** 31),\n",
    "    message='Сообщение бота')"
   ]
  },
  {
   "cell_type": "code",
   "execution_count": 37,
   "metadata": {
    "ExecuteTime": {
     "end_time": "2023-02-06T09:10:13.594162Z",
     "start_time": "2023-02-06T09:10:08.164762Z"
    }
   },
   "outputs": [
    {
     "data": {
      "text/plain": [
       "4"
      ]
     },
     "execution_count": 37,
     "metadata": {},
     "output_type": "execute_result"
    }
   ],
   "source": [
    "path_to_file = r'C:\\Users\\1\\OneDrive\\Изображения\\Галерея Samsung\\DCIM\\Camera\\20221228_113013.jpg'\n",
    "file_name = '20221228_113013.jpg'\n",
    "\n",
    "upload_url = vk.docs.getMessagesUploadServer(peer_id=my_id)[\"upload_url\"]\n",
    "file = {'file': (file_name, open(path_to_file, 'rb'))}\n",
    "\n",
    "# Send request to post this doc on vk.com\n",
    "response = requests.post(upload_url, files=file)\n",
    "\n",
    "json_data = json.loads(response.text)\n",
    "\n",
    "saved_file = vk.docs.save(file=json_data['file'], title=file_name)\n",
    "attachment = 'doc{}_{}'.format(saved_file['doc']['owner_id'], saved_file['doc']['id'])\n",
    "\n",
    "vk.messages.send(\n",
    "    user_id=my_id,  # id of chat where to send\n",
    "    random_id=random.randint(1, 2 ** 31),  # random number for message identification\n",
    "    message='Панкейки!',  # message text, optional here\n",
    "    attachment=attachment)  # attachment name"
   ]
  },
  {
   "cell_type": "code",
   "execution_count": 44,
   "metadata": {
    "ExecuteTime": {
     "end_time": "2023-02-06T09:49:53.622599Z",
     "start_time": "2023-02-06T09:49:41.029160Z"
    },
    "scrolled": true
   },
   "outputs": [
    {
     "name": "stdout",
     "output_type": "stream",
     "text": [
      "Requirement already satisfied: gspread in c:\\users\\1\\appdata\\local\\programs\\python\\python310\\lib\\site-packages (5.7.2)\n",
      "Requirement already satisfied: google-auth>=1.12.0 in c:\\users\\1\\appdata\\local\\programs\\python\\python310\\lib\\site-packages (from gspread) (2.6.6)\n",
      "Requirement already satisfied: google-auth-oauthlib>=0.4.1 in c:\\users\\1\\appdata\\local\\programs\\python\\python310\\lib\\site-packages (from gspread) (0.4.6)\n",
      "Requirement already satisfied: rsa<5,>=3.1.4 in c:\\users\\1\\appdata\\local\\programs\\python\\python310\\lib\\site-packages (from google-auth>=1.12.0->gspread) (4.8)\n",
      "Requirement already satisfied: pyasn1-modules>=0.2.1 in c:\\users\\1\\appdata\\local\\programs\\python\\python310\\lib\\site-packages (from google-auth>=1.12.0->gspread) (0.2.8)\n",
      "Requirement already satisfied: six>=1.9.0 in c:\\users\\1\\appdata\\local\\programs\\python\\python310\\lib\\site-packages (from google-auth>=1.12.0->gspread) (1.16.0)\n",
      "Requirement already satisfied: cachetools<6.0,>=2.0.0 in c:\\users\\1\\appdata\\local\\programs\\python\\python310\\lib\\site-packages (from google-auth>=1.12.0->gspread) (5.2.0)\n",
      "Requirement already satisfied: requests-oauthlib>=0.7.0 in c:\\users\\1\\appdata\\local\\programs\\python\\python310\\lib\\site-packages (from google-auth-oauthlib>=0.4.1->gspread) (1.3.1)\n",
      "Requirement already satisfied: pyasn1<0.5.0,>=0.4.6 in c:\\users\\1\\appdata\\local\\programs\\python\\python310\\lib\\site-packages (from pyasn1-modules>=0.2.1->google-auth>=1.12.0->gspread) (0.4.8)\n",
      "Requirement already satisfied: oauthlib>=3.0.0 in c:\\users\\1\\appdata\\local\\programs\\python\\python310\\lib\\site-packages (from requests-oauthlib>=0.7.0->google-auth-oauthlib>=0.4.1->gspread) (3.2.0)\n",
      "Requirement already satisfied: requests>=2.0.0 in c:\\users\\1\\appdata\\local\\programs\\python\\python310\\lib\\site-packages (from requests-oauthlib>=0.7.0->google-auth-oauthlib>=0.4.1->gspread) (2.27.1)\n",
      "Requirement already satisfied: urllib3<1.27,>=1.21.1 in c:\\users\\1\\appdata\\local\\programs\\python\\python310\\lib\\site-packages (from requests>=2.0.0->requests-oauthlib>=0.7.0->google-auth-oauthlib>=0.4.1->gspread) (1.26.9)\n",
      "Requirement already satisfied: charset-normalizer~=2.0.0 in c:\\users\\1\\appdata\\local\\programs\\python\\python310\\lib\\site-packages (from requests>=2.0.0->requests-oauthlib>=0.7.0->google-auth-oauthlib>=0.4.1->gspread) (2.0.12)\n",
      "Requirement already satisfied: certifi>=2017.4.17 in c:\\users\\1\\appdata\\local\\programs\\python\\python310\\lib\\site-packages (from requests>=2.0.0->requests-oauthlib>=0.7.0->google-auth-oauthlib>=0.4.1->gspread) (2022.5.18.1)\n",
      "Requirement already satisfied: idna<4,>=2.5 in c:\\users\\1\\appdata\\local\\programs\\python\\python310\\lib\\site-packages (from requests>=2.0.0->requests-oauthlib>=0.7.0->google-auth-oauthlib>=0.4.1->gspread) (3.3)\n"
     ]
    },
    {
     "name": "stderr",
     "output_type": "stream",
     "text": [
      "WARNING: You are using pip version 21.2.3; however, version 22.3.1 is available.\n",
      "You should consider upgrading via the 'C:\\Users\\1\\AppData\\Local\\Programs\\Python\\Python310\\python.exe -m pip install --upgrade pip' command.\n"
     ]
    },
    {
     "name": "stdout",
     "output_type": "stream",
     "text": [
      "Requirement already satisfied: oauth2client in c:\\users\\1\\appdata\\local\\programs\\python\\python310\\lib\\site-packages (4.1.3)\n",
      "Requirement already satisfied: six>=1.6.1 in c:\\users\\1\\appdata\\local\\programs\\python\\python310\\lib\\site-packages (from oauth2client) (1.16.0)\n",
      "Requirement already satisfied: rsa>=3.1.4 in c:\\users\\1\\appdata\\local\\programs\\python\\python310\\lib\\site-packages (from oauth2client) (4.8)\n",
      "Requirement already satisfied: pyasn1>=0.1.7 in c:\\users\\1\\appdata\\local\\programs\\python\\python310\\lib\\site-packages (from oauth2client) (0.4.8)\n",
      "Requirement already satisfied: pyasn1-modules>=0.0.5 in c:\\users\\1\\appdata\\local\\programs\\python\\python310\\lib\\site-packages (from oauth2client) (0.2.8)\n",
      "Requirement already satisfied: httplib2>=0.9.1 in c:\\users\\1\\appdata\\local\\programs\\python\\python310\\lib\\site-packages (from oauth2client) (0.21.0)\n",
      "Requirement already satisfied: pyparsing!=3.0.0,!=3.0.1,!=3.0.2,!=3.0.3,<4,>=2.4.2 in c:\\users\\1\\appdata\\local\\programs\\python\\python310\\lib\\site-packages (from httplib2>=0.9.1->oauth2client) (3.0.7)\n"
     ]
    },
    {
     "name": "stderr",
     "output_type": "stream",
     "text": [
      "WARNING: You are using pip version 21.2.3; however, version 22.3.1 is available.\n",
      "You should consider upgrading via the 'C:\\Users\\1\\AppData\\Local\\Programs\\Python\\Python310\\python.exe -m pip install --upgrade pip' command.\n"
     ]
    },
    {
     "name": "stdout",
     "output_type": "stream",
     "text": [
      "Collecting df2gspread\n",
      "  Downloading df2gspread-1.0.4.tar.gz (11 kB)\n",
      "Collecting argparse>=1.3.0\n",
      "  Downloading argparse-1.4.0-py2.py3-none-any.whl (23 kB)\n",
      "Collecting google-api-python-client==1.6.7\n",
      "  Downloading google_api_python_client-1.6.7-py2.py3-none-any.whl (56 kB)\n",
      "Requirement already satisfied: gspread>=2.1.1 in c:\\users\\1\\appdata\\local\\programs\\python\\python310\\lib\\site-packages (from df2gspread) (5.7.2)\n",
      "Requirement already satisfied: oauth2client<5.0.0dev,>=1.5.0 in c:\\users\\1\\appdata\\local\\programs\\python\\python310\\lib\\site-packages (from df2gspread) (4.1.3)\n",
      "Requirement already satisfied: pandas in c:\\users\\1\\appdata\\local\\programs\\python\\python310\\lib\\site-packages (from df2gspread) (1.4.2)\n",
      "Requirement already satisfied: httplib2<1dev,>=0.9.2 in c:\\users\\1\\appdata\\local\\programs\\python\\python310\\lib\\site-packages (from google-api-python-client==1.6.7->df2gspread) (0.21.0)\n",
      "Collecting uritemplate<4dev,>=3.0.0\n",
      "  Downloading uritemplate-3.0.1-py2.py3-none-any.whl (15 kB)\n",
      "Requirement already satisfied: six<2dev,>=1.6.1 in c:\\users\\1\\appdata\\local\\programs\\python\\python310\\lib\\site-packages (from google-api-python-client==1.6.7->df2gspread) (1.16.0)\n",
      "Requirement already satisfied: google-auth-oauthlib>=0.4.1 in c:\\users\\1\\appdata\\local\\programs\\python\\python310\\lib\\site-packages (from gspread>=2.1.1->df2gspread) (0.4.6)\n",
      "Requirement already satisfied: google-auth>=1.12.0 in c:\\users\\1\\appdata\\local\\programs\\python\\python310\\lib\\site-packages (from gspread>=2.1.1->df2gspread) (2.6.6)\n",
      "Requirement already satisfied: cachetools<6.0,>=2.0.0 in c:\\users\\1\\appdata\\local\\programs\\python\\python310\\lib\\site-packages (from google-auth>=1.12.0->gspread>=2.1.1->df2gspread) (5.2.0)\n",
      "Requirement already satisfied: pyasn1-modules>=0.2.1 in c:\\users\\1\\appdata\\local\\programs\\python\\python310\\lib\\site-packages (from google-auth>=1.12.0->gspread>=2.1.1->df2gspread) (0.2.8)\n",
      "Requirement already satisfied: rsa<5,>=3.1.4 in c:\\users\\1\\appdata\\local\\programs\\python\\python310\\lib\\site-packages (from google-auth>=1.12.0->gspread>=2.1.1->df2gspread) (4.8)\n",
      "Requirement already satisfied: requests-oauthlib>=0.7.0 in c:\\users\\1\\appdata\\local\\programs\\python\\python310\\lib\\site-packages (from google-auth-oauthlib>=0.4.1->gspread>=2.1.1->df2gspread) (1.3.1)\n",
      "Requirement already satisfied: pyparsing!=3.0.0,!=3.0.1,!=3.0.2,!=3.0.3,<4,>=2.4.2 in c:\\users\\1\\appdata\\local\\programs\\python\\python310\\lib\\site-packages (from httplib2<1dev,>=0.9.2->google-api-python-client==1.6.7->df2gspread) (3.0.7)\n",
      "Requirement already satisfied: pyasn1>=0.1.7 in c:\\users\\1\\appdata\\local\\programs\\python\\python310\\lib\\site-packages (from oauth2client<5.0.0dev,>=1.5.0->df2gspread) (0.4.8)\n",
      "Requirement already satisfied: requests>=2.0.0 in c:\\users\\1\\appdata\\local\\programs\\python\\python310\\lib\\site-packages (from requests-oauthlib>=0.7.0->google-auth-oauthlib>=0.4.1->gspread>=2.1.1->df2gspread) (2.27.1)\n",
      "Requirement already satisfied: oauthlib>=3.0.0 in c:\\users\\1\\appdata\\local\\programs\\python\\python310\\lib\\site-packages (from requests-oauthlib>=0.7.0->google-auth-oauthlib>=0.4.1->gspread>=2.1.1->df2gspread) (3.2.0)\n",
      "Requirement already satisfied: urllib3<1.27,>=1.21.1 in c:\\users\\1\\appdata\\local\\programs\\python\\python310\\lib\\site-packages (from requests>=2.0.0->requests-oauthlib>=0.7.0->google-auth-oauthlib>=0.4.1->gspread>=2.1.1->df2gspread) (1.26.9)\n",
      "Requirement already satisfied: certifi>=2017.4.17 in c:\\users\\1\\appdata\\local\\programs\\python\\python310\\lib\\site-packages (from requests>=2.0.0->requests-oauthlib>=0.7.0->google-auth-oauthlib>=0.4.1->gspread>=2.1.1->df2gspread) (2022.5.18.1)\n",
      "Requirement already satisfied: idna<4,>=2.5 in c:\\users\\1\\appdata\\local\\programs\\python\\python310\\lib\\site-packages (from requests>=2.0.0->requests-oauthlib>=0.7.0->google-auth-oauthlib>=0.4.1->gspread>=2.1.1->df2gspread) (3.3)\n",
      "Requirement already satisfied: charset-normalizer~=2.0.0 in c:\\users\\1\\appdata\\local\\programs\\python\\python310\\lib\\site-packages (from requests>=2.0.0->requests-oauthlib>=0.7.0->google-auth-oauthlib>=0.4.1->gspread>=2.1.1->df2gspread) (2.0.12)\n",
      "Requirement already satisfied: python-dateutil>=2.8.1 in c:\\users\\1\\appdata\\local\\programs\\python\\python310\\lib\\site-packages (from pandas->df2gspread) (2.8.2)\n",
      "Requirement already satisfied: pytz>=2020.1 in c:\\users\\1\\appdata\\local\\programs\\python\\python310\\lib\\site-packages (from pandas->df2gspread) (2022.1)\n",
      "Requirement already satisfied: numpy>=1.21.0 in c:\\users\\1\\appdata\\local\\programs\\python\\python310\\lib\\site-packages (from pandas->df2gspread) (1.22.2)\n",
      "Building wheels for collected packages: df2gspread\n",
      "  Building wheel for df2gspread (setup.py): started\n",
      "  Building wheel for df2gspread (setup.py): finished with status 'done'\n",
      "  Created wheel for df2gspread: filename=df2gspread-1.0.4-py3-none-any.whl size=11952 sha256=69594526c1bdf30202cb88d4d1ef5668c1d3a8566603f05223256b389457d307\n",
      "  Stored in directory: c:\\users\\1\\appdata\\local\\pip\\cache\\wheels\\80\\2f\\29\\b15c01e2e9fbfaae81e5f9e8a05735954fc125b7cd9f1423a5\n",
      "Successfully built df2gspread\n",
      "Installing collected packages: uritemplate, google-api-python-client, argparse, df2gspread\n",
      "Successfully installed argparse-1.4.0 df2gspread-1.0.4 google-api-python-client-1.6.7 uritemplate-3.0.1\n"
     ]
    },
    {
     "name": "stderr",
     "output_type": "stream",
     "text": [
      "WARNING: You are using pip version 21.2.3; however, version 22.3.1 is available.\n",
      "You should consider upgrading via the 'C:\\Users\\1\\AppData\\Local\\Programs\\Python\\Python310\\python.exe -m pip install --upgrade pip' command.\n"
     ]
    }
   ],
   "source": [
    "!pip install gspread\n",
    "! pip install oauth2client\n",
    "! pip install df2gspread"
   ]
  },
  {
   "cell_type": "code",
   "execution_count": 43,
   "metadata": {
    "ExecuteTime": {
     "end_time": "2023-02-06T09:47:02.861171Z",
     "start_time": "2023-02-06T09:47:00.884052Z"
    }
   },
   "outputs": [
    {
     "data": {
      "text/html": [
       "<div>\n",
       "<style scoped>\n",
       "    .dataframe tbody tr th:only-of-type {\n",
       "        vertical-align: middle;\n",
       "    }\n",
       "\n",
       "    .dataframe tbody tr th {\n",
       "        vertical-align: top;\n",
       "    }\n",
       "\n",
       "    .dataframe thead th {\n",
       "        text-align: right;\n",
       "    }\n",
       "</style>\n",
       "<table border=\"1\" class=\"dataframe\">\n",
       "  <thead>\n",
       "    <tr style=\"text-align: right;\">\n",
       "      <th></th>\n",
       "      <th>0</th>\n",
       "      <th>456</th>\n",
       "    </tr>\n",
       "  </thead>\n",
       "  <tbody>\n",
       "    <tr>\n",
       "      <th>0</th>\n",
       "      <td>1</td>\n",
       "      <td>1243</td>\n",
       "    </tr>\n",
       "    <tr>\n",
       "      <th>1</th>\n",
       "      <td>2</td>\n",
       "      <td>342</td>\n",
       "    </tr>\n",
       "  </tbody>\n",
       "</table>\n",
       "</div>"
      ],
      "text/plain": [
       "   0   456\n",
       "0  1  1243\n",
       "1  2   342"
      ]
     },
     "execution_count": 43,
     "metadata": {},
     "output_type": "execute_result"
    }
   ],
   "source": [
    "import gspread\n",
    "from oauth2client.service_account import ServiceAccountCredentials\n",
    "\n",
    "\n",
    "# Specify path to your file with credentials\n",
    "path_to_credential = 'C:/Users/1/Downloads/my-project-first-377009-c256a91990f3.json'\n",
    "\n",
    "# Specify name of table in google sheets\n",
    "table_name = 'Первый проект с API'\n",
    "\n",
    "scope = ['https://spreadsheets.google.com/feeds',\n",
    "         'https://www.googleapis.com/auth/drive']\n",
    "\n",
    "credentials = ServiceAccountCredentials.from_json_keyfile_name(path_to_credential, scope)\n",
    "\n",
    "gs = gspread.authorize(credentials)\n",
    "work_sheet = gs.open(table_name)\n",
    "\n",
    "# Select 1st sheet\n",
    "sheet1 = work_sheet.sheet1\n",
    "\n",
    "# Get data in python lists format\n",
    "data = sheet1.get_all_values()\n",
    "\n",
    "# Get header from data\n",
    "headers = data.pop(0)\n",
    "\n",
    "# Create df\n",
    "df = pd.DataFrame(data, columns=headers)\n",
    "df.head()"
   ]
  },
  {
   "cell_type": "code",
   "execution_count": 45,
   "metadata": {
    "ExecuteTime": {
     "end_time": "2023-02-06T09:52:04.315108Z",
     "start_time": "2023-02-06T09:51:56.821989Z"
    }
   },
   "outputs": [
    {
     "data": {
      "text/plain": [
       "<Response [200]>"
      ]
     },
     "execution_count": 45,
     "metadata": {},
     "output_type": "execute_result"
    }
   ],
   "source": [
    "scope = ['https://spreadsheets.google.com/feeds',\n",
    "         'https://www.googleapis.com/auth/drive']\n",
    "\n",
    "\n",
    "my_mail = 'mihail.ru02@gmail.com'\n",
    "path_to_credentials = 'C:/Users/1/Downloads/my-project-first-377009-c256a91990f3.json'\n",
    "\n",
    "\n",
    "# Authorization\n",
    "credentials = ServiceAccountCredentials.from_json_keyfile_name(path_to_credentials, scope)\n",
    "gs = gspread.authorize(credentials)\n",
    "\n",
    "#### Загрузка таблицы из гугл доков\n",
    "\n",
    "# Name of the table in google sheets,\n",
    "# can be url for open_by_url\n",
    "# or id (key) part for open_by_key\n",
    "table_name = 'Первый проект с API'  # Your table\n",
    "\n",
    "# Get this table\n",
    "work_sheet = gs.open(table_name)\n",
    "\n",
    "# Select 1st sheet\n",
    "sheet1 = work_sheet.sheet1\n",
    "\n",
    "# Get data in python lists format\n",
    "data = sheet1.get_all_values()\n",
    "\n",
    "# Get header from data\n",
    "headers = data.pop(0)\n",
    "\n",
    "# Create df\n",
    "df = pd.DataFrame(data, columns=headers)\n",
    "df.head()\n",
    "\n",
    "#### Создание своей таблицы\n",
    "\n",
    "# Create empty table\n",
    "table_name = 'A new spreadsheet'\n",
    "\n",
    "sheet = gs.create(table_name)\n",
    "\n",
    "\n",
    "# Make it visible to other guys\n",
    "sheet.share(my_mail, perm_type='user', role='writer')"
   ]
  },
  {
   "cell_type": "code",
   "execution_count": 50,
   "metadata": {
    "ExecuteTime": {
     "end_time": "2023-02-06T09:57:05.348993Z",
     "start_time": "2023-02-06T09:56:59.597324Z"
    }
   },
   "outputs": [
    {
     "data": {
      "text/plain": [
       "<Worksheet 'Sheet1' id:0>"
      ]
     },
     "execution_count": 50,
     "metadata": {},
     "output_type": "execute_result"
    }
   ],
   "source": [
    "from df2gspread import df2gspread as d2g\n",
    "\n",
    "\n",
    "# Create your df\n",
    "df = pd.DataFrame({'name': ['Misha', 'Olesya', 'Kolya'], 'age': [20, 18, 30]})\n",
    "# Looks like spreadsheet should be already present at the dist (so, run code in create table section)\n",
    "sheet = 'Sheet1'\n",
    "d2g.upload(df, table_name, sheet, credentials=credentials, row_names=True)"
   ]
  },
  {
   "cell_type": "markdown",
   "metadata": {},
   "source": [
    "Контест"
   ]
  },
  {
   "cell_type": "markdown",
   "metadata": {},
   "source": [
    "Получение данных по ссылке на гугл таблицы"
   ]
  },
  {
   "cell_type": "code",
   "execution_count": 52,
   "metadata": {
    "ExecuteTime": {
     "end_time": "2023-02-06T10:32:53.913090Z",
     "start_time": "2023-02-06T10:32:53.879701Z"
    }
   },
   "outputs": [],
   "source": [
    "my_link = 'https://docs.google.com/spreadsheets/d/1e3PRXmMNXo9AZZnaol1aHgYxtH6KYaCDymEQlK6jaO8/export?format=csv'"
   ]
  },
  {
   "cell_type": "code",
   "execution_count": 53,
   "metadata": {
    "ExecuteTime": {
     "end_time": "2023-02-06T10:32:57.478593Z",
     "start_time": "2023-02-06T10:32:56.283025Z"
    }
   },
   "outputs": [],
   "source": [
    "from io import BytesIO\n",
    "import requests\n",
    "\n",
    "\n",
    "req = requests.get(my_link)\n",
    "data = req.content\n",
    "\n",
    "df = pd.read_csv(BytesIO(data))"
   ]
  },
  {
   "cell_type": "code",
   "execution_count": 54,
   "metadata": {
    "ExecuteTime": {
     "end_time": "2023-02-06T10:33:01.518671Z",
     "start_time": "2023-02-06T10:33:01.489671Z"
    }
   },
   "outputs": [
    {
     "data": {
      "text/html": [
       "<div>\n",
       "<style scoped>\n",
       "    .dataframe tbody tr th:only-of-type {\n",
       "        vertical-align: middle;\n",
       "    }\n",
       "\n",
       "    .dataframe tbody tr th {\n",
       "        vertical-align: top;\n",
       "    }\n",
       "\n",
       "    .dataframe thead th {\n",
       "        text-align: right;\n",
       "    }\n",
       "</style>\n",
       "<table border=\"1\" class=\"dataframe\">\n",
       "  <thead>\n",
       "    <tr style=\"text-align: right;\">\n",
       "      <th></th>\n",
       "      <th>date</th>\n",
       "      <th>gender</th>\n",
       "      <th>users</th>\n",
       "    </tr>\n",
       "  </thead>\n",
       "  <tbody>\n",
       "    <tr>\n",
       "      <th>0</th>\n",
       "      <td>2020-06-14</td>\n",
       "      <td>Not specified</td>\n",
       "      <td>150</td>\n",
       "    </tr>\n",
       "    <tr>\n",
       "      <th>1</th>\n",
       "      <td>2020-06-14</td>\n",
       "      <td>male</td>\n",
       "      <td>117</td>\n",
       "    </tr>\n",
       "    <tr>\n",
       "      <th>2</th>\n",
       "      <td>2020-06-14</td>\n",
       "      <td>female</td>\n",
       "      <td>21</td>\n",
       "    </tr>\n",
       "  </tbody>\n",
       "</table>\n",
       "</div>"
      ],
      "text/plain": [
       "         date         gender  users\n",
       "0  2020-06-14  Not specified    150\n",
       "1  2020-06-14           male    117\n",
       "2  2020-06-14         female     21"
      ]
     },
     "execution_count": 54,
     "metadata": {},
     "output_type": "execute_result"
    }
   ],
   "source": [
    "df"
   ]
  },
  {
   "cell_type": "code",
   "execution_count": 62,
   "metadata": {
    "ExecuteTime": {
     "end_time": "2023-02-06T10:40:53.540288Z",
     "start_time": "2023-02-06T10:40:53.490745Z"
    },
    "scrolled": true
   },
   "outputs": [
    {
     "data": {
      "text/plain": [
       "1    41.0\n",
       "Name: users, dtype: float64"
      ]
     },
     "execution_count": 62,
     "metadata": {},
     "output_type": "execute_result"
    }
   ],
   "source": [
    "round(df.query('gender == \"male\"').users * 100 / df.users.sum())"
   ]
  },
  {
   "cell_type": "markdown",
   "metadata": {},
   "source": [
    "Файл с данными из Яндекс Метрики"
   ]
  },
  {
   "cell_type": "code",
   "execution_count": 64,
   "metadata": {
    "ExecuteTime": {
     "end_time": "2023-02-06T10:44:48.129078Z",
     "start_time": "2023-02-06T10:44:48.096655Z"
    }
   },
   "outputs": [],
   "source": [
    "df = pd.read_csv('C:/Users/1/JupyterProjects/Karpov_curses_lessons_and_projects/all_data/7_browser.csv')"
   ]
  },
  {
   "cell_type": "code",
   "execution_count": 65,
   "metadata": {
    "ExecuteTime": {
     "end_time": "2023-02-06T10:44:49.529011Z",
     "start_time": "2023-02-06T10:44:49.488124Z"
    },
    "scrolled": true
   },
   "outputs": [
    {
     "data": {
      "text/html": [
       "<div>\n",
       "<style scoped>\n",
       "    .dataframe tbody tr th:only-of-type {\n",
       "        vertical-align: middle;\n",
       "    }\n",
       "\n",
       "    .dataframe tbody tr th {\n",
       "        vertical-align: top;\n",
       "    }\n",
       "\n",
       "    .dataframe thead th {\n",
       "        text-align: right;\n",
       "    }\n",
       "</style>\n",
       "<table border=\"1\" class=\"dataframe\">\n",
       "  <thead>\n",
       "    <tr style=\"text-align: right;\">\n",
       "      <th></th>\n",
       "      <th>date</th>\n",
       "      <th>browser</th>\n",
       "      <th>user_type</th>\n",
       "      <th>users</th>\n",
       "    </tr>\n",
       "  </thead>\n",
       "  <tbody>\n",
       "    <tr>\n",
       "      <th>0</th>\n",
       "      <td>2020-06-14</td>\n",
       "      <td>Google Chrome</td>\n",
       "      <td>People</td>\n",
       "      <td>139</td>\n",
       "    </tr>\n",
       "    <tr>\n",
       "      <th>1</th>\n",
       "      <td>2020-06-14</td>\n",
       "      <td>Chrome Mobile</td>\n",
       "      <td>People</td>\n",
       "      <td>35</td>\n",
       "    </tr>\n",
       "    <tr>\n",
       "      <th>2</th>\n",
       "      <td>2020-06-14</td>\n",
       "      <td>Google Chrome</td>\n",
       "      <td>Robots</td>\n",
       "      <td>28</td>\n",
       "    </tr>\n",
       "    <tr>\n",
       "      <th>3</th>\n",
       "      <td>2020-06-14</td>\n",
       "      <td>Yandex Browser</td>\n",
       "      <td>People</td>\n",
       "      <td>22</td>\n",
       "    </tr>\n",
       "    <tr>\n",
       "      <th>4</th>\n",
       "      <td>2020-06-14</td>\n",
       "      <td>Firefox</td>\n",
       "      <td>People</td>\n",
       "      <td>15</td>\n",
       "    </tr>\n",
       "    <tr>\n",
       "      <th>5</th>\n",
       "      <td>2020-06-14</td>\n",
       "      <td>Safari</td>\n",
       "      <td>People</td>\n",
       "      <td>13</td>\n",
       "    </tr>\n",
       "    <tr>\n",
       "      <th>6</th>\n",
       "      <td>2020-06-14</td>\n",
       "      <td>Firefox</td>\n",
       "      <td>Robots</td>\n",
       "      <td>8</td>\n",
       "    </tr>\n",
       "    <tr>\n",
       "      <th>7</th>\n",
       "      <td>2020-06-14</td>\n",
       "      <td>Android Browser</td>\n",
       "      <td>People</td>\n",
       "      <td>8</td>\n",
       "    </tr>\n",
       "    <tr>\n",
       "      <th>8</th>\n",
       "      <td>2020-06-14</td>\n",
       "      <td>Opera</td>\n",
       "      <td>People</td>\n",
       "      <td>5</td>\n",
       "    </tr>\n",
       "    <tr>\n",
       "      <th>9</th>\n",
       "      <td>2020-06-14</td>\n",
       "      <td>Mobile Safari</td>\n",
       "      <td>People</td>\n",
       "      <td>5</td>\n",
       "    </tr>\n",
       "    <tr>\n",
       "      <th>10</th>\n",
       "      <td>2020-06-14</td>\n",
       "      <td>Samsung Internet</td>\n",
       "      <td>People</td>\n",
       "      <td>5</td>\n",
       "    </tr>\n",
       "    <tr>\n",
       "      <th>11</th>\n",
       "      <td>2020-06-14</td>\n",
       "      <td>Safari</td>\n",
       "      <td>Robots</td>\n",
       "      <td>2</td>\n",
       "    </tr>\n",
       "    <tr>\n",
       "      <th>12</th>\n",
       "      <td>2020-06-14</td>\n",
       "      <td>UCWEB</td>\n",
       "      <td>Robots</td>\n",
       "      <td>2</td>\n",
       "    </tr>\n",
       "    <tr>\n",
       "      <th>13</th>\n",
       "      <td>2020-06-14</td>\n",
       "      <td>Edge</td>\n",
       "      <td>Robots</td>\n",
       "      <td>2</td>\n",
       "    </tr>\n",
       "    <tr>\n",
       "      <th>14</th>\n",
       "      <td>2020-06-14</td>\n",
       "      <td>Opera</td>\n",
       "      <td>Robots</td>\n",
       "      <td>1</td>\n",
       "    </tr>\n",
       "    <tr>\n",
       "      <th>15</th>\n",
       "      <td>2020-06-14</td>\n",
       "      <td>UCWEB</td>\n",
       "      <td>People</td>\n",
       "      <td>1</td>\n",
       "    </tr>\n",
       "    <tr>\n",
       "      <th>16</th>\n",
       "      <td>2020-06-14</td>\n",
       "      <td>Firefox Mobile</td>\n",
       "      <td>People</td>\n",
       "      <td>1</td>\n",
       "    </tr>\n",
       "    <tr>\n",
       "      <th>17</th>\n",
       "      <td>2020-06-14</td>\n",
       "      <td>Yandex Browser</td>\n",
       "      <td>Robots</td>\n",
       "      <td>1</td>\n",
       "    </tr>\n",
       "    <tr>\n",
       "      <th>18</th>\n",
       "      <td>2020-06-14</td>\n",
       "      <td>Android Browser</td>\n",
       "      <td>Robots</td>\n",
       "      <td>1</td>\n",
       "    </tr>\n",
       "    <tr>\n",
       "      <th>19</th>\n",
       "      <td>2020-06-14</td>\n",
       "      <td>Chrome Mobile</td>\n",
       "      <td>Robots</td>\n",
       "      <td>1</td>\n",
       "    </tr>\n",
       "    <tr>\n",
       "      <th>20</th>\n",
       "      <td>2020-06-14</td>\n",
       "      <td>Chromium</td>\n",
       "      <td>People</td>\n",
       "      <td>1</td>\n",
       "    </tr>\n",
       "    <tr>\n",
       "      <th>21</th>\n",
       "      <td>2020-06-14</td>\n",
       "      <td>Chromium</td>\n",
       "      <td>Robots</td>\n",
       "      <td>1</td>\n",
       "    </tr>\n",
       "    <tr>\n",
       "      <th>22</th>\n",
       "      <td>2020-06-14</td>\n",
       "      <td>Edge</td>\n",
       "      <td>People</td>\n",
       "      <td>1</td>\n",
       "    </tr>\n",
       "    <tr>\n",
       "      <th>23</th>\n",
       "      <td>2020-06-14</td>\n",
       "      <td>CocCoc</td>\n",
       "      <td>People</td>\n",
       "      <td>1</td>\n",
       "    </tr>\n",
       "  </tbody>\n",
       "</table>\n",
       "</div>"
      ],
      "text/plain": [
       "          date           browser user_type  users\n",
       "0   2020-06-14     Google Chrome    People    139\n",
       "1   2020-06-14     Chrome Mobile    People     35\n",
       "2   2020-06-14     Google Chrome    Robots     28\n",
       "3   2020-06-14    Yandex Browser    People     22\n",
       "4   2020-06-14           Firefox    People     15\n",
       "5   2020-06-14            Safari    People     13\n",
       "6   2020-06-14           Firefox    Robots      8\n",
       "7   2020-06-14   Android Browser    People      8\n",
       "8   2020-06-14             Opera    People      5\n",
       "9   2020-06-14     Mobile Safari    People      5\n",
       "10  2020-06-14  Samsung Internet    People      5\n",
       "11  2020-06-14            Safari    Robots      2\n",
       "12  2020-06-14             UCWEB    Robots      2\n",
       "13  2020-06-14              Edge    Robots      2\n",
       "14  2020-06-14             Opera    Robots      1\n",
       "15  2020-06-14             UCWEB    People      1\n",
       "16  2020-06-14    Firefox Mobile    People      1\n",
       "17  2020-06-14    Yandex Browser    Robots      1\n",
       "18  2020-06-14   Android Browser    Robots      1\n",
       "19  2020-06-14     Chrome Mobile    Robots      1\n",
       "20  2020-06-14          Chromium    People      1\n",
       "21  2020-06-14          Chromium    Robots      1\n",
       "22  2020-06-14              Edge    People      1\n",
       "23  2020-06-14            CocCoc    People      1"
      ]
     },
     "execution_count": 65,
     "metadata": {},
     "output_type": "execute_result"
    }
   ],
   "source": [
    "df"
   ]
  },
  {
   "cell_type": "code",
   "execution_count": 80,
   "metadata": {
    "ExecuteTime": {
     "end_time": "2023-02-06T11:02:23.475721Z",
     "start_time": "2023-02-06T11:02:23.450007Z"
    }
   },
   "outputs": [],
   "source": [
    "#вариант с np.where(предпочтительнее)\n",
    "chrome_robots = pd.Series(np.where((df.user_type == 'Robots') & (df.browser.str.contains('Chrome')), 1, 0))"
   ]
  },
  {
   "cell_type": "code",
   "execution_count": 79,
   "metadata": {
    "ExecuteTime": {
     "end_time": "2023-02-06T11:01:27.597760Z",
     "start_time": "2023-02-06T11:01:27.581417Z"
    }
   },
   "outputs": [
    {
     "data": {
      "text/plain": [
       "[0, 0, 1, 0, 0, 0, 0, 0, 0, 0, 0, 0, 0, 0, 0, 0, 0, 0, 0, 1, 0, 0, 0, 0]"
      ]
     },
     "execution_count": 79,
     "metadata": {},
     "output_type": "execute_result"
    }
   ],
   "source": [
    "#вариант с генератором списков\n",
    "[1 if user_type == 'Robots' and 'Chrome' in browser else 0 for browser, user_type in zip(df.browser, df.user_type)]"
   ]
  },
  {
   "cell_type": "code",
   "execution_count": 81,
   "metadata": {
    "ExecuteTime": {
     "end_time": "2023-02-06T11:45:19.214271Z",
     "start_time": "2023-02-06T11:45:19.198550Z"
    }
   },
   "outputs": [],
   "source": [
    "ad_sample = pd.read_csv('C:/Users/1/JupyterProjects/Karpov_curses_lessons_and_projects/all_data/sample_ads.csv')"
   ]
  },
  {
   "cell_type": "code",
   "execution_count": 82,
   "metadata": {
    "ExecuteTime": {
     "end_time": "2023-02-06T11:45:26.007116Z",
     "start_time": "2023-02-06T11:45:25.973202Z"
    }
   },
   "outputs": [
    {
     "data": {
      "text/html": [
       "<div>\n",
       "<style scoped>\n",
       "    .dataframe tbody tr th:only-of-type {\n",
       "        vertical-align: middle;\n",
       "    }\n",
       "\n",
       "    .dataframe tbody tr th {\n",
       "        vertical-align: top;\n",
       "    }\n",
       "\n",
       "    .dataframe thead th {\n",
       "        text-align: right;\n",
       "    }\n",
       "</style>\n",
       "<table border=\"1\" class=\"dataframe\">\n",
       "  <thead>\n",
       "    <tr style=\"text-align: right;\">\n",
       "      <th></th>\n",
       "      <th>ad_id</th>\n",
       "      <th>user_id</th>\n",
       "      <th>click_type</th>\n",
       "    </tr>\n",
       "  </thead>\n",
       "  <tbody>\n",
       "    <tr>\n",
       "      <th>0</th>\n",
       "      <td>12345</td>\n",
       "      <td>qwert</td>\n",
       "      <td>top</td>\n",
       "    </tr>\n",
       "    <tr>\n",
       "      <th>1</th>\n",
       "      <td>12345</td>\n",
       "      <td>fsssc</td>\n",
       "      <td>center</td>\n",
       "    </tr>\n",
       "    <tr>\n",
       "      <th>2</th>\n",
       "      <td>12345</td>\n",
       "      <td>vfvgg</td>\n",
       "      <td>NaN</td>\n",
       "    </tr>\n",
       "    <tr>\n",
       "      <th>3</th>\n",
       "      <td>12345</td>\n",
       "      <td>asrvv</td>\n",
       "      <td>NaN</td>\n",
       "    </tr>\n",
       "    <tr>\n",
       "      <th>4</th>\n",
       "      <td>12345</td>\n",
       "      <td>tynuy</td>\n",
       "      <td>top</td>\n",
       "    </tr>\n",
       "    <tr>\n",
       "      <th>5</th>\n",
       "      <td>12345</td>\n",
       "      <td>vreio</td>\n",
       "      <td>NaN</td>\n",
       "    </tr>\n",
       "    <tr>\n",
       "      <th>6</th>\n",
       "      <td>12345</td>\n",
       "      <td>oirbv</td>\n",
       "      <td>top</td>\n",
       "    </tr>\n",
       "    <tr>\n",
       "      <th>7</th>\n",
       "      <td>12345</td>\n",
       "      <td>kjvbe</td>\n",
       "      <td>NaN</td>\n",
       "    </tr>\n",
       "    <tr>\n",
       "      <th>8</th>\n",
       "      <td>12345</td>\n",
       "      <td>vkrej</td>\n",
       "      <td>center</td>\n",
       "    </tr>\n",
       "    <tr>\n",
       "      <th>9</th>\n",
       "      <td>12345</td>\n",
       "      <td>krjvb</td>\n",
       "      <td>top</td>\n",
       "    </tr>\n",
       "    <tr>\n",
       "      <th>10</th>\n",
       "      <td>12345</td>\n",
       "      <td>vrejn</td>\n",
       "      <td>top</td>\n",
       "    </tr>\n",
       "    <tr>\n",
       "      <th>11</th>\n",
       "      <td>12345</td>\n",
       "      <td>vrejk</td>\n",
       "      <td>center</td>\n",
       "    </tr>\n",
       "    <tr>\n",
       "      <th>12</th>\n",
       "      <td>12345</td>\n",
       "      <td>pirbv</td>\n",
       "      <td>NaN</td>\n",
       "    </tr>\n",
       "    <tr>\n",
       "      <th>13</th>\n",
       "      <td>12345</td>\n",
       "      <td>mpev</td>\n",
       "      <td>NaN</td>\n",
       "    </tr>\n",
       "    <tr>\n",
       "      <th>14</th>\n",
       "      <td>12345</td>\n",
       "      <td>pi3bvk</td>\n",
       "      <td>top</td>\n",
       "    </tr>\n",
       "    <tr>\n",
       "      <th>15</th>\n",
       "      <td>12345</td>\n",
       "      <td>osbvor</td>\n",
       "      <td>center</td>\n",
       "    </tr>\n",
       "    <tr>\n",
       "      <th>16</th>\n",
       "      <td>12345</td>\n",
       "      <td>vrbuo</td>\n",
       "      <td>NaN</td>\n",
       "    </tr>\n",
       "    <tr>\n",
       "      <th>17</th>\n",
       "      <td>12345</td>\n",
       "      <td>o3b0v</td>\n",
       "      <td>top</td>\n",
       "    </tr>\n",
       "  </tbody>\n",
       "</table>\n",
       "</div>"
      ],
      "text/plain": [
       "    ad_id user_id click_type\n",
       "0   12345   qwert        top\n",
       "1   12345   fsssc     center\n",
       "2   12345   vfvgg        NaN\n",
       "3   12345   asrvv        NaN\n",
       "4   12345   tynuy        top\n",
       "5   12345   vreio        NaN\n",
       "6   12345   oirbv        top\n",
       "7   12345   kjvbe        NaN\n",
       "8   12345   vkrej     center\n",
       "9   12345   krjvb        top\n",
       "10  12345   vrejn        top\n",
       "11  12345   vrejk     center\n",
       "12  12345   pirbv        NaN\n",
       "13  12345    mpev        NaN\n",
       "14  12345  pi3bvk        top\n",
       "15  12345  osbvor     center\n",
       "16  12345   vrbuo        NaN\n",
       "17  12345   o3b0v        top"
      ]
     },
     "execution_count": 82,
     "metadata": {},
     "output_type": "execute_result"
    }
   ],
   "source": [
    "ad_sample"
   ]
  },
  {
   "cell_type": "code",
   "execution_count": 84,
   "metadata": {
    "ExecuteTime": {
     "end_time": "2023-02-06T11:47:26.572410Z",
     "start_time": "2023-02-06T11:47:26.545475Z"
    }
   },
   "outputs": [
    {
     "data": {
      "text/plain": [
       "11"
      ]
     },
     "execution_count": 84,
     "metadata": {},
     "output_type": "execute_result"
    }
   ],
   "source": [
    "ad_sample.click_type.notna().sum()"
   ]
  },
  {
   "cell_type": "code",
   "execution_count": 2,
   "metadata": {
    "ExecuteTime": {
     "end_time": "2023-02-28T19:33:14.117498Z",
     "start_time": "2023-02-28T19:33:14.093265Z"
    }
   },
   "outputs": [],
   "source": [
    "import requests\n",
    "import json\n",
    "from urllib.parse import urlencode"
   ]
  },
  {
   "cell_type": "code",
   "execution_count": 5,
   "metadata": {
    "ExecuteTime": {
     "end_time": "2023-02-28T19:34:31.192235Z",
     "start_time": "2023-02-28T19:34:30.911192Z"
    }
   },
   "outputs": [
    {
     "data": {
      "text/plain": [
       "200"
      ]
     },
     "execution_count": 5,
     "metadata": {},
     "output_type": "execute_result"
    }
   ],
   "source": [
    "token = '6064030530:AAEK_HrkkNkb5QBEBw-tWHvqtZGvicx1Sqw'\n",
    "api_pattern = f'https://api.telegram.org/bot{token}'\n",
    "update = f'{api_pattern}/getUpdates'\n",
    "info = requests.get(update)\n",
    "info.status_code"
   ]
  },
  {
   "cell_type": "code",
   "execution_count": 6,
   "metadata": {
    "ExecuteTime": {
     "end_time": "2023-02-28T19:34:32.201272Z",
     "start_time": "2023-02-28T19:34:32.173742Z"
    }
   },
   "outputs": [
    {
     "data": {
      "text/plain": [
       "{'ok': True,\n",
       " 'result': [{'update_id': 25848441,\n",
       "   'message': {'message_id': 5,\n",
       "    'from': {'id': 1701509038,\n",
       "     'is_bot': False,\n",
       "     'first_name': 'Михаил',\n",
       "     'last_name': 'Куляскин',\n",
       "     'username': 'alaska_bear',\n",
       "     'language_code': 'ru'},\n",
       "    'chat': {'id': 1701509038,\n",
       "     'first_name': 'Михаил',\n",
       "     'last_name': 'Куляскин',\n",
       "     'username': 'alaska_bear',\n",
       "     'type': 'private'},\n",
       "    'date': 1677612860,\n",
       "    'text': 'Привет салага'}}]}"
      ]
     },
     "execution_count": 6,
     "metadata": {},
     "output_type": "execute_result"
    }
   ],
   "source": [
    "info.json()"
   ]
  },
  {
   "cell_type": "code",
   "execution_count": 7,
   "metadata": {
    "ExecuteTime": {
     "end_time": "2023-02-28T19:36:30.050862Z",
     "start_time": "2023-02-28T19:36:30.026540Z"
    }
   },
   "outputs": [],
   "source": [
    "chat_id = info.json()['result'][0]['message']['chat']['id']"
   ]
  },
  {
   "cell_type": "code",
   "execution_count": 9,
   "metadata": {
    "ExecuteTime": {
     "end_time": "2023-02-28T19:37:24.546045Z",
     "start_time": "2023-02-28T19:37:24.524970Z"
    }
   },
   "outputs": [],
   "source": [
    "send_message = f'{api_pattern}/sendMessage'"
   ]
  },
  {
   "cell_type": "code",
   "execution_count": 10,
   "metadata": {
    "ExecuteTime": {
     "end_time": "2023-02-28T19:38:27.572526Z",
     "start_time": "2023-02-28T19:38:27.564936Z"
    }
   },
   "outputs": [],
   "source": [
    "params = {'chat_id': chat_id, 'text': 'Приветики'}"
   ]
  },
  {
   "cell_type": "code",
   "execution_count": 12,
   "metadata": {
    "ExecuteTime": {
     "end_time": "2023-02-28T19:39:29.225848Z",
     "start_time": "2023-02-28T19:39:28.782992Z"
    }
   },
   "outputs": [],
   "source": [
    "response = requests.get(send_message, params=params)"
   ]
  },
  {
   "cell_type": "code",
   "execution_count": 13,
   "metadata": {
    "ExecuteTime": {
     "end_time": "2023-02-28T19:39:55.045273Z",
     "start_time": "2023-02-28T19:39:55.024443Z"
    }
   },
   "outputs": [
    {
     "data": {
      "text/plain": [
       "'{\"ok\":true,\"result\":{\"message_id\":6,\"from\":{\"id\":6064030530,\"is_bot\":true,\"first_name\":\"MyFirstTgBot\",\"username\":\"My_1023_first_tg_bot\"},\"chat\":{\"id\":1701509038,\"first_name\":\"\\\\u041c\\\\u0438\\\\u0445\\\\u0430\\\\u0438\\\\u043b\",\"last_name\":\"\\\\u041a\\\\u0443\\\\u043b\\\\u044f\\\\u0441\\\\u043a\\\\u0438\\\\u043d\",\"username\":\"alaska_bear\",\"type\":\"private\"},\"date\":1677613167,\"text\":\"\\\\u041f\\\\u0440\\\\u0438\\\\u0432\\\\u0435\\\\u0442\\\\u0438\\\\u043a\\\\u0438\"}}'"
      ]
     },
     "execution_count": 13,
     "metadata": {},
     "output_type": "execute_result"
    }
   ],
   "source": [
    "response.text"
   ]
  },
  {
   "cell_type": "code",
   "execution_count": null,
   "metadata": {},
   "outputs": [],
   "source": []
  }
 ],
 "metadata": {
  "kernelspec": {
   "display_name": "Python 3 (ipykernel)",
   "language": "python",
   "name": "python3"
  },
  "language_info": {
   "codemirror_mode": {
    "name": "ipython",
    "version": 3
   },
   "file_extension": ".py",
   "mimetype": "text/x-python",
   "name": "python",
   "nbconvert_exporter": "python",
   "pygments_lexer": "ipython3",
   "version": "3.10.0"
  },
  "nbTranslate": {
   "displayLangs": [
    "*"
   ],
   "hotkey": "alt-t",
   "langInMainMenu": true,
   "sourceLang": "en",
   "targetLang": "fr",
   "useGoogleTranslate": true
  },
  "toc": {
   "base_numbering": 1,
   "nav_menu": {},
   "number_sections": true,
   "sideBar": true,
   "skip_h1_title": false,
   "title_cell": "Table of Contents",
   "title_sidebar": "Contents",
   "toc_cell": false,
   "toc_position": {},
   "toc_section_display": true,
   "toc_window_display": false
  },
  "varInspector": {
   "cols": {
    "lenName": 16,
    "lenType": 16,
    "lenVar": 40
   },
   "kernels_config": {
    "python": {
     "delete_cmd_postfix": "",
     "delete_cmd_prefix": "del ",
     "library": "var_list.py",
     "varRefreshCmd": "print(var_dic_list())"
    },
    "r": {
     "delete_cmd_postfix": ") ",
     "delete_cmd_prefix": "rm(",
     "library": "var_list.r",
     "varRefreshCmd": "cat(var_dic_list()) "
    }
   },
   "types_to_exclude": [
    "module",
    "function",
    "builtin_function_or_method",
    "instance",
    "_Feature"
   ],
   "window_display": false
  }
 },
 "nbformat": 4,
 "nbformat_minor": 4
}
