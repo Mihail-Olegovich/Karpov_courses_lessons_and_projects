{
 "cells": [
  {
   "cell_type": "code",
   "execution_count": 1,
   "id": "071ac3c8",
   "metadata": {
    "ExecuteTime": {
     "end_time": "2023-02-21T06:24:22.680699Z",
     "start_time": "2023-02-21T06:24:20.476058Z"
    }
   },
   "outputs": [],
   "source": [
    "import pandas as pd\n",
    "import matplotlib.pyplot as plt\n",
    "import seaborn as sns"
   ]
  },
  {
   "cell_type": "markdown",
   "id": "f29f92c3",
   "metadata": {},
   "source": [
    "Для начала, возьмем данные только за Q1, они уже сохранены в переменную bikes_Q1. Перед тем как сделать .resample(), нужно немного подготовить данные. Поместите колонку start_time в качестве индексов и сохраните изменения в исходный датасет. Предварительно проверьте тип переменной, и приведите её к правильному, если необходимо."
   ]
  },
  {
   "cell_type": "code",
   "execution_count": 2,
   "id": "1b9ed7f6",
   "metadata": {
    "ExecuteTime": {
     "end_time": "2023-02-21T06:24:23.384717Z",
     "start_time": "2023-02-21T06:24:22.682703Z"
    }
   },
   "outputs": [],
   "source": [
    "bikes_Q1 = pd.read_csv('C:/Users/1/JupyterProjects/Karpov_courses_lessons_and_projects/module_python/all_data/bikes_q1_sample.csv',\\\n",
    "                       parse_dates=['start_time', 'end_time'])"
   ]
  },
  {
   "cell_type": "code",
   "execution_count": 3,
   "id": "49eb960b",
   "metadata": {
    "ExecuteTime": {
     "end_time": "2023-02-21T06:24:23.400702Z",
     "start_time": "2023-02-21T06:24:23.385702Z"
    },
    "scrolled": false
   },
   "outputs": [
    {
     "data": {
      "text/plain": [
       "trip_id                       int64\n",
       "start_time           datetime64[ns]\n",
       "end_time             datetime64[ns]\n",
       "bikeid                        int64\n",
       "tripduration                 object\n",
       "from_station_id               int64\n",
       "from_station_name            object\n",
       "to_station_id                 int64\n",
       "to_station_name              object\n",
       "usertype                     object\n",
       "gender                       object\n",
       "birthyear                   float64\n",
       "dtype: object"
      ]
     },
     "execution_count": 3,
     "metadata": {},
     "output_type": "execute_result"
    }
   ],
   "source": [
    "bikes_Q1.dtypes"
   ]
  },
  {
   "cell_type": "code",
   "execution_count": 4,
   "id": "fbe26d79",
   "metadata": {
    "ExecuteTime": {
     "end_time": "2023-02-21T06:24:23.416700Z",
     "start_time": "2023-02-21T06:24:23.404704Z"
    }
   },
   "outputs": [],
   "source": [
    "bikes_Q1.set_index('start_time', inplace=True)"
   ]
  },
  {
   "cell_type": "code",
   "execution_count": 5,
   "id": "0c51a87a",
   "metadata": {
    "ExecuteTime": {
     "end_time": "2023-02-21T06:24:23.448708Z",
     "start_time": "2023-02-21T06:24:23.418704Z"
    }
   },
   "outputs": [
    {
     "data": {
      "text/html": [
       "<div>\n",
       "<style scoped>\n",
       "    .dataframe tbody tr th:only-of-type {\n",
       "        vertical-align: middle;\n",
       "    }\n",
       "\n",
       "    .dataframe tbody tr th {\n",
       "        vertical-align: top;\n",
       "    }\n",
       "\n",
       "    .dataframe thead th {\n",
       "        text-align: right;\n",
       "    }\n",
       "</style>\n",
       "<table border=\"1\" class=\"dataframe\">\n",
       "  <thead>\n",
       "    <tr style=\"text-align: right;\">\n",
       "      <th></th>\n",
       "      <th>trip_id</th>\n",
       "      <th>end_time</th>\n",
       "      <th>bikeid</th>\n",
       "      <th>tripduration</th>\n",
       "      <th>from_station_id</th>\n",
       "      <th>from_station_name</th>\n",
       "      <th>to_station_id</th>\n",
       "      <th>to_station_name</th>\n",
       "      <th>usertype</th>\n",
       "      <th>gender</th>\n",
       "      <th>birthyear</th>\n",
       "    </tr>\n",
       "    <tr>\n",
       "      <th>start_time</th>\n",
       "      <th></th>\n",
       "      <th></th>\n",
       "      <th></th>\n",
       "      <th></th>\n",
       "      <th></th>\n",
       "      <th></th>\n",
       "      <th></th>\n",
       "      <th></th>\n",
       "      <th></th>\n",
       "      <th></th>\n",
       "      <th></th>\n",
       "    </tr>\n",
       "  </thead>\n",
       "  <tbody>\n",
       "    <tr>\n",
       "      <th>2018-01-22 20:04:31</th>\n",
       "      <td>17617135</td>\n",
       "      <td>2018-01-22 20:11:53</td>\n",
       "      <td>1131</td>\n",
       "      <td>442.0</td>\n",
       "      <td>471</td>\n",
       "      <td>Francisco Ave &amp; Foster Ave</td>\n",
       "      <td>468</td>\n",
       "      <td>Budlong Woods Library</td>\n",
       "      <td>Subscriber</td>\n",
       "      <td>Female</td>\n",
       "      <td>1949.0</td>\n",
       "    </tr>\n",
       "    <tr>\n",
       "      <th>2018-03-16 19:47:59</th>\n",
       "      <td>17897619</td>\n",
       "      <td>2018-03-16 20:04:00</td>\n",
       "      <td>6146</td>\n",
       "      <td>961.0</td>\n",
       "      <td>296</td>\n",
       "      <td>Broadway &amp; Belmont Ave</td>\n",
       "      <td>253</td>\n",
       "      <td>Winthrop Ave &amp; Lawrence Ave</td>\n",
       "      <td>Subscriber</td>\n",
       "      <td>Male</td>\n",
       "      <td>1988.0</td>\n",
       "    </tr>\n",
       "    <tr>\n",
       "      <th>2018-03-14 18:49:20</th>\n",
       "      <td>17881307</td>\n",
       "      <td>2018-03-14 18:54:38</td>\n",
       "      <td>3847</td>\n",
       "      <td>318.0</td>\n",
       "      <td>260</td>\n",
       "      <td>Kedzie Ave &amp; Milwaukee Ave</td>\n",
       "      <td>503</td>\n",
       "      <td>Drake Ave &amp; Fullerton Ave</td>\n",
       "      <td>Subscriber</td>\n",
       "      <td>Male</td>\n",
       "      <td>1987.0</td>\n",
       "    </tr>\n",
       "    <tr>\n",
       "      <th>2018-03-14 18:33:48</th>\n",
       "      <td>17881130</td>\n",
       "      <td>2018-03-14 19:07:40</td>\n",
       "      <td>1483</td>\n",
       "      <td>2,032.0</td>\n",
       "      <td>199</td>\n",
       "      <td>Wabash Ave &amp; Grand Ave</td>\n",
       "      <td>199</td>\n",
       "      <td>Wabash Ave &amp; Grand Ave</td>\n",
       "      <td>Subscriber</td>\n",
       "      <td>Male</td>\n",
       "      <td>1990.0</td>\n",
       "    </tr>\n",
       "    <tr>\n",
       "      <th>2018-02-05 17:39:14</th>\n",
       "      <td>17686289</td>\n",
       "      <td>2018-02-05 17:46:13</td>\n",
       "      <td>6391</td>\n",
       "      <td>419.0</td>\n",
       "      <td>596</td>\n",
       "      <td>Benson Ave &amp; Church St</td>\n",
       "      <td>605</td>\n",
       "      <td>University Library (NU)</td>\n",
       "      <td>Subscriber</td>\n",
       "      <td>Male</td>\n",
       "      <td>1992.0</td>\n",
       "    </tr>\n",
       "    <tr>\n",
       "      <th>...</th>\n",
       "      <td>...</td>\n",
       "      <td>...</td>\n",
       "      <td>...</td>\n",
       "      <td>...</td>\n",
       "      <td>...</td>\n",
       "      <td>...</td>\n",
       "      <td>...</td>\n",
       "      <td>...</td>\n",
       "      <td>...</td>\n",
       "      <td>...</td>\n",
       "      <td>...</td>\n",
       "    </tr>\n",
       "    <tr>\n",
       "      <th>2018-02-28 17:16:53</th>\n",
       "      <td>17792363</td>\n",
       "      <td>2018-02-28 17:18:49</td>\n",
       "      <td>2401</td>\n",
       "      <td>116.0</td>\n",
       "      <td>50</td>\n",
       "      <td>Clark St &amp; Congress Pkwy</td>\n",
       "      <td>41</td>\n",
       "      <td>Federal St &amp; Polk St</td>\n",
       "      <td>Subscriber</td>\n",
       "      <td>Male</td>\n",
       "      <td>1991.0</td>\n",
       "    </tr>\n",
       "    <tr>\n",
       "      <th>2018-02-08 11:52:44</th>\n",
       "      <td>17695807</td>\n",
       "      <td>2018-02-08 11:58:13</td>\n",
       "      <td>4687</td>\n",
       "      <td>329.0</td>\n",
       "      <td>18</td>\n",
       "      <td>Wacker Dr &amp; Washington St</td>\n",
       "      <td>39</td>\n",
       "      <td>Wabash Ave &amp; Adams St</td>\n",
       "      <td>Subscriber</td>\n",
       "      <td>Male</td>\n",
       "      <td>1979.0</td>\n",
       "    </tr>\n",
       "    <tr>\n",
       "      <th>2018-03-22 17:18:21</th>\n",
       "      <td>17938644</td>\n",
       "      <td>2018-03-22 17:24:13</td>\n",
       "      <td>6200</td>\n",
       "      <td>352.0</td>\n",
       "      <td>59</td>\n",
       "      <td>Wabash Ave &amp; Roosevelt Rd</td>\n",
       "      <td>50</td>\n",
       "      <td>Clark St &amp; Congress Pkwy</td>\n",
       "      <td>Subscriber</td>\n",
       "      <td>Male</td>\n",
       "      <td>1968.0</td>\n",
       "    </tr>\n",
       "    <tr>\n",
       "      <th>2018-02-20 16:45:07</th>\n",
       "      <td>17738202</td>\n",
       "      <td>2018-02-20 16:57:42</td>\n",
       "      <td>757</td>\n",
       "      <td>755.0</td>\n",
       "      <td>99</td>\n",
       "      <td>Lake Shore Dr &amp; Ohio St</td>\n",
       "      <td>38</td>\n",
       "      <td>Clark St &amp; Lake St</td>\n",
       "      <td>Subscriber</td>\n",
       "      <td>Male</td>\n",
       "      <td>1990.0</td>\n",
       "    </tr>\n",
       "    <tr>\n",
       "      <th>2018-01-10 12:08:16</th>\n",
       "      <td>17566765</td>\n",
       "      <td>2018-01-10 12:20:31</td>\n",
       "      <td>4668</td>\n",
       "      <td>735.0</td>\n",
       "      <td>489</td>\n",
       "      <td>Drake Ave &amp; Addison St</td>\n",
       "      <td>500</td>\n",
       "      <td>Central Park Ave &amp; Elbridge Ave</td>\n",
       "      <td>Subscriber</td>\n",
       "      <td>Male</td>\n",
       "      <td>1980.0</td>\n",
       "    </tr>\n",
       "  </tbody>\n",
       "</table>\n",
       "<p>174215 rows × 11 columns</p>\n",
       "</div>"
      ],
      "text/plain": [
       "                      trip_id            end_time  bikeid tripduration  \\\n",
       "start_time                                                               \n",
       "2018-01-22 20:04:31  17617135 2018-01-22 20:11:53    1131        442.0   \n",
       "2018-03-16 19:47:59  17897619 2018-03-16 20:04:00    6146        961.0   \n",
       "2018-03-14 18:49:20  17881307 2018-03-14 18:54:38    3847        318.0   \n",
       "2018-03-14 18:33:48  17881130 2018-03-14 19:07:40    1483      2,032.0   \n",
       "2018-02-05 17:39:14  17686289 2018-02-05 17:46:13    6391        419.0   \n",
       "...                       ...                 ...     ...          ...   \n",
       "2018-02-28 17:16:53  17792363 2018-02-28 17:18:49    2401        116.0   \n",
       "2018-02-08 11:52:44  17695807 2018-02-08 11:58:13    4687        329.0   \n",
       "2018-03-22 17:18:21  17938644 2018-03-22 17:24:13    6200        352.0   \n",
       "2018-02-20 16:45:07  17738202 2018-02-20 16:57:42     757        755.0   \n",
       "2018-01-10 12:08:16  17566765 2018-01-10 12:20:31    4668        735.0   \n",
       "\n",
       "                     from_station_id           from_station_name  \\\n",
       "start_time                                                         \n",
       "2018-01-22 20:04:31              471  Francisco Ave & Foster Ave   \n",
       "2018-03-16 19:47:59              296      Broadway & Belmont Ave   \n",
       "2018-03-14 18:49:20              260  Kedzie Ave & Milwaukee Ave   \n",
       "2018-03-14 18:33:48              199      Wabash Ave & Grand Ave   \n",
       "2018-02-05 17:39:14              596      Benson Ave & Church St   \n",
       "...                              ...                         ...   \n",
       "2018-02-28 17:16:53               50    Clark St & Congress Pkwy   \n",
       "2018-02-08 11:52:44               18   Wacker Dr & Washington St   \n",
       "2018-03-22 17:18:21               59   Wabash Ave & Roosevelt Rd   \n",
       "2018-02-20 16:45:07               99     Lake Shore Dr & Ohio St   \n",
       "2018-01-10 12:08:16              489      Drake Ave & Addison St   \n",
       "\n",
       "                     to_station_id                  to_station_name  \\\n",
       "start_time                                                            \n",
       "2018-01-22 20:04:31            468            Budlong Woods Library   \n",
       "2018-03-16 19:47:59            253      Winthrop Ave & Lawrence Ave   \n",
       "2018-03-14 18:49:20            503        Drake Ave & Fullerton Ave   \n",
       "2018-03-14 18:33:48            199           Wabash Ave & Grand Ave   \n",
       "2018-02-05 17:39:14            605          University Library (NU)   \n",
       "...                            ...                              ...   \n",
       "2018-02-28 17:16:53             41             Federal St & Polk St   \n",
       "2018-02-08 11:52:44             39            Wabash Ave & Adams St   \n",
       "2018-03-22 17:18:21             50         Clark St & Congress Pkwy   \n",
       "2018-02-20 16:45:07             38               Clark St & Lake St   \n",
       "2018-01-10 12:08:16            500  Central Park Ave & Elbridge Ave   \n",
       "\n",
       "                       usertype  gender  birthyear  \n",
       "start_time                                          \n",
       "2018-01-22 20:04:31  Subscriber  Female     1949.0  \n",
       "2018-03-16 19:47:59  Subscriber    Male     1988.0  \n",
       "2018-03-14 18:49:20  Subscriber    Male     1987.0  \n",
       "2018-03-14 18:33:48  Subscriber    Male     1990.0  \n",
       "2018-02-05 17:39:14  Subscriber    Male     1992.0  \n",
       "...                         ...     ...        ...  \n",
       "2018-02-28 17:16:53  Subscriber    Male     1991.0  \n",
       "2018-02-08 11:52:44  Subscriber    Male     1979.0  \n",
       "2018-03-22 17:18:21  Subscriber    Male     1968.0  \n",
       "2018-02-20 16:45:07  Subscriber    Male     1990.0  \n",
       "2018-01-10 12:08:16  Subscriber    Male     1980.0  \n",
       "\n",
       "[174215 rows x 11 columns]"
      ]
     },
     "execution_count": 5,
     "metadata": {},
     "output_type": "execute_result"
    }
   ],
   "source": [
    "bikes_Q1"
   ]
  },
  {
   "cell_type": "markdown",
   "id": "c084e305",
   "metadata": {},
   "source": [
    "В данных имеется как дата аренды, так и её точное время начала и окончания с точностью до секунд. Применим метод pd.resample() и агрегируем данные по дням."
   ]
  },
  {
   "cell_type": "code",
   "execution_count": 6,
   "id": "3e7d548b",
   "metadata": {
    "ExecuteTime": {
     "end_time": "2023-02-21T06:24:23.784700Z",
     "start_time": "2023-02-21T06:24:23.450705Z"
    },
    "scrolled": false
   },
   "outputs": [
    {
     "data": {
      "text/html": [
       "<div>\n",
       "<style scoped>\n",
       "    .dataframe tbody tr th:only-of-type {\n",
       "        vertical-align: middle;\n",
       "    }\n",
       "\n",
       "    .dataframe tbody tr th {\n",
       "        vertical-align: top;\n",
       "    }\n",
       "\n",
       "    .dataframe thead th {\n",
       "        text-align: right;\n",
       "    }\n",
       "</style>\n",
       "<table border=\"1\" class=\"dataframe\">\n",
       "  <thead>\n",
       "    <tr style=\"text-align: right;\">\n",
       "      <th></th>\n",
       "      <th>trip_id</th>\n",
       "      <th>end_time</th>\n",
       "      <th>bikeid</th>\n",
       "      <th>tripduration</th>\n",
       "      <th>from_station_id</th>\n",
       "      <th>from_station_name</th>\n",
       "      <th>to_station_id</th>\n",
       "      <th>to_station_name</th>\n",
       "      <th>usertype</th>\n",
       "      <th>gender</th>\n",
       "      <th>birthyear</th>\n",
       "    </tr>\n",
       "    <tr>\n",
       "      <th>start_time</th>\n",
       "      <th></th>\n",
       "      <th></th>\n",
       "      <th></th>\n",
       "      <th></th>\n",
       "      <th></th>\n",
       "      <th></th>\n",
       "      <th></th>\n",
       "      <th></th>\n",
       "      <th></th>\n",
       "      <th></th>\n",
       "      <th></th>\n",
       "    </tr>\n",
       "  </thead>\n",
       "  <tbody>\n",
       "    <tr>\n",
       "      <th>2018-02-27</th>\n",
       "      <td>4196</td>\n",
       "      <td>4196</td>\n",
       "      <td>4196</td>\n",
       "      <td>4196</td>\n",
       "      <td>4196</td>\n",
       "      <td>4196</td>\n",
       "      <td>4196</td>\n",
       "      <td>4196</td>\n",
       "      <td>4196</td>\n",
       "      <td>3940</td>\n",
       "      <td>3943</td>\n",
       "    </tr>\n",
       "    <tr>\n",
       "      <th>2018-03-28</th>\n",
       "      <td>3640</td>\n",
       "      <td>3640</td>\n",
       "      <td>3640</td>\n",
       "      <td>3640</td>\n",
       "      <td>3640</td>\n",
       "      <td>3640</td>\n",
       "      <td>3640</td>\n",
       "      <td>3640</td>\n",
       "      <td>3640</td>\n",
       "      <td>3265</td>\n",
       "      <td>3268</td>\n",
       "    </tr>\n",
       "    <tr>\n",
       "      <th>2018-02-26</th>\n",
       "      <td>3422</td>\n",
       "      <td>3422</td>\n",
       "      <td>3422</td>\n",
       "      <td>3422</td>\n",
       "      <td>3422</td>\n",
       "      <td>3422</td>\n",
       "      <td>3422</td>\n",
       "      <td>3422</td>\n",
       "      <td>3422</td>\n",
       "      <td>3290</td>\n",
       "      <td>3290</td>\n",
       "    </tr>\n",
       "    <tr>\n",
       "      <th>2018-02-28</th>\n",
       "      <td>3412</td>\n",
       "      <td>3412</td>\n",
       "      <td>3412</td>\n",
       "      <td>3412</td>\n",
       "      <td>3412</td>\n",
       "      <td>3412</td>\n",
       "      <td>3412</td>\n",
       "      <td>3412</td>\n",
       "      <td>3412</td>\n",
       "      <td>3307</td>\n",
       "      <td>3307</td>\n",
       "    </tr>\n",
       "    <tr>\n",
       "      <th>2018-03-15</th>\n",
       "      <td>3245</td>\n",
       "      <td>3245</td>\n",
       "      <td>3245</td>\n",
       "      <td>3245</td>\n",
       "      <td>3245</td>\n",
       "      <td>3245</td>\n",
       "      <td>3245</td>\n",
       "      <td>3245</td>\n",
       "      <td>3245</td>\n",
       "      <td>3054</td>\n",
       "      <td>3054</td>\n",
       "    </tr>\n",
       "    <tr>\n",
       "      <th>...</th>\n",
       "      <td>...</td>\n",
       "      <td>...</td>\n",
       "      <td>...</td>\n",
       "      <td>...</td>\n",
       "      <td>...</td>\n",
       "      <td>...</td>\n",
       "      <td>...</td>\n",
       "      <td>...</td>\n",
       "      <td>...</td>\n",
       "      <td>...</td>\n",
       "      <td>...</td>\n",
       "    </tr>\n",
       "    <tr>\n",
       "      <th>2018-02-10</th>\n",
       "      <td>364</td>\n",
       "      <td>364</td>\n",
       "      <td>364</td>\n",
       "      <td>364</td>\n",
       "      <td>364</td>\n",
       "      <td>364</td>\n",
       "      <td>364</td>\n",
       "      <td>364</td>\n",
       "      <td>364</td>\n",
       "      <td>353</td>\n",
       "      <td>353</td>\n",
       "    </tr>\n",
       "    <tr>\n",
       "      <th>2018-02-11</th>\n",
       "      <td>331</td>\n",
       "      <td>331</td>\n",
       "      <td>331</td>\n",
       "      <td>331</td>\n",
       "      <td>331</td>\n",
       "      <td>331</td>\n",
       "      <td>331</td>\n",
       "      <td>331</td>\n",
       "      <td>331</td>\n",
       "      <td>319</td>\n",
       "      <td>320</td>\n",
       "    </tr>\n",
       "    <tr>\n",
       "      <th>2018-02-09</th>\n",
       "      <td>300</td>\n",
       "      <td>300</td>\n",
       "      <td>300</td>\n",
       "      <td>300</td>\n",
       "      <td>300</td>\n",
       "      <td>300</td>\n",
       "      <td>300</td>\n",
       "      <td>300</td>\n",
       "      <td>300</td>\n",
       "      <td>291</td>\n",
       "      <td>291</td>\n",
       "    </tr>\n",
       "    <tr>\n",
       "      <th>2018-02-04</th>\n",
       "      <td>279</td>\n",
       "      <td>279</td>\n",
       "      <td>279</td>\n",
       "      <td>279</td>\n",
       "      <td>279</td>\n",
       "      <td>279</td>\n",
       "      <td>279</td>\n",
       "      <td>279</td>\n",
       "      <td>279</td>\n",
       "      <td>277</td>\n",
       "      <td>277</td>\n",
       "    </tr>\n",
       "    <tr>\n",
       "      <th>2018-01-01</th>\n",
       "      <td>191</td>\n",
       "      <td>191</td>\n",
       "      <td>191</td>\n",
       "      <td>191</td>\n",
       "      <td>191</td>\n",
       "      <td>191</td>\n",
       "      <td>191</td>\n",
       "      <td>191</td>\n",
       "      <td>191</td>\n",
       "      <td>184</td>\n",
       "      <td>184</td>\n",
       "    </tr>\n",
       "  </tbody>\n",
       "</table>\n",
       "<p>90 rows × 11 columns</p>\n",
       "</div>"
      ],
      "text/plain": [
       "            trip_id  end_time  bikeid  tripduration  from_station_id  \\\n",
       "start_time                                                             \n",
       "2018-02-27     4196      4196    4196          4196             4196   \n",
       "2018-03-28     3640      3640    3640          3640             3640   \n",
       "2018-02-26     3422      3422    3422          3422             3422   \n",
       "2018-02-28     3412      3412    3412          3412             3412   \n",
       "2018-03-15     3245      3245    3245          3245             3245   \n",
       "...             ...       ...     ...           ...              ...   \n",
       "2018-02-10      364       364     364           364              364   \n",
       "2018-02-11      331       331     331           331              331   \n",
       "2018-02-09      300       300     300           300              300   \n",
       "2018-02-04      279       279     279           279              279   \n",
       "2018-01-01      191       191     191           191              191   \n",
       "\n",
       "            from_station_name  to_station_id  to_station_name  usertype  \\\n",
       "start_time                                                                \n",
       "2018-02-27               4196           4196             4196      4196   \n",
       "2018-03-28               3640           3640             3640      3640   \n",
       "2018-02-26               3422           3422             3422      3422   \n",
       "2018-02-28               3412           3412             3412      3412   \n",
       "2018-03-15               3245           3245             3245      3245   \n",
       "...                       ...            ...              ...       ...   \n",
       "2018-02-10                364            364              364       364   \n",
       "2018-02-11                331            331              331       331   \n",
       "2018-02-09                300            300              300       300   \n",
       "2018-02-04                279            279              279       279   \n",
       "2018-01-01                191            191              191       191   \n",
       "\n",
       "            gender  birthyear  \n",
       "start_time                     \n",
       "2018-02-27    3940       3943  \n",
       "2018-03-28    3265       3268  \n",
       "2018-02-26    3290       3290  \n",
       "2018-02-28    3307       3307  \n",
       "2018-03-15    3054       3054  \n",
       "...            ...        ...  \n",
       "2018-02-10     353        353  \n",
       "2018-02-11     319        320  \n",
       "2018-02-09     291        291  \n",
       "2018-02-04     277        277  \n",
       "2018-01-01     184        184  \n",
       "\n",
       "[90 rows x 11 columns]"
      ]
     },
     "execution_count": 6,
     "metadata": {},
     "output_type": "execute_result"
    }
   ],
   "source": [
    "bikes_Q1.resample(rule='D').count().sort_values('trip_id', ascending=False)"
   ]
  },
  {
   "cell_type": "markdown",
   "id": "1374f11f",
   "metadata": {},
   "source": [
    "Посмотрим на распределение количества аренд для разных групп пользователей (usertype) — customers и subscribers в данных за апрель."
   ]
  },
  {
   "cell_type": "code",
   "execution_count": 7,
   "id": "593c9f09",
   "metadata": {
    "ExecuteTime": {
     "end_time": "2023-02-21T06:24:24.168672Z",
     "start_time": "2023-02-21T06:24:23.786706Z"
    }
   },
   "outputs": [],
   "source": [
    "bikes_april = pd.read_csv('C:/Users/1/JupyterProjects/Karpov_courses_lessons_and_projects/module_python/all_data/bikes_april.csv',\\\n",
    "                       parse_dates=['start_time', 'end_time'])"
   ]
  },
  {
   "cell_type": "code",
   "execution_count": 8,
   "id": "b57b6837",
   "metadata": {
    "ExecuteTime": {
     "end_time": "2023-02-21T06:24:24.264680Z",
     "start_time": "2023-02-21T06:24:24.170678Z"
    },
    "scrolled": false
   },
   "outputs": [
    {
     "data": {
      "text/html": [
       "<div>\n",
       "<style scoped>\n",
       "    .dataframe tbody tr th:only-of-type {\n",
       "        vertical-align: middle;\n",
       "    }\n",
       "\n",
       "    .dataframe tbody tr th {\n",
       "        vertical-align: top;\n",
       "    }\n",
       "\n",
       "    .dataframe thead tr th {\n",
       "        text-align: left;\n",
       "    }\n",
       "\n",
       "    .dataframe thead tr:last-of-type th {\n",
       "        text-align: right;\n",
       "    }\n",
       "</style>\n",
       "<table border=\"1\" class=\"dataframe\">\n",
       "  <thead>\n",
       "    <tr>\n",
       "      <th></th>\n",
       "      <th colspan=\"2\" halign=\"left\">trip_id</th>\n",
       "    </tr>\n",
       "    <tr>\n",
       "      <th>usertype</th>\n",
       "      <th>Customer</th>\n",
       "      <th>Subscriber</th>\n",
       "    </tr>\n",
       "    <tr>\n",
       "      <th>start_time</th>\n",
       "      <th></th>\n",
       "      <th></th>\n",
       "    </tr>\n",
       "  </thead>\n",
       "  <tbody>\n",
       "    <tr>\n",
       "      <th>2018-04-01</th>\n",
       "      <td>239.0</td>\n",
       "      <td>825.0</td>\n",
       "    </tr>\n",
       "    <tr>\n",
       "      <th>2018-04-02</th>\n",
       "      <td>166.0</td>\n",
       "      <td>2841.0</td>\n",
       "    </tr>\n",
       "    <tr>\n",
       "      <th>2018-04-03</th>\n",
       "      <td>31.0</td>\n",
       "      <td>1873.0</td>\n",
       "    </tr>\n",
       "    <tr>\n",
       "      <th>2018-04-04</th>\n",
       "      <td>82.0</td>\n",
       "      <td>2253.0</td>\n",
       "    </tr>\n",
       "    <tr>\n",
       "      <th>2018-04-05</th>\n",
       "      <td>90.0</td>\n",
       "      <td>2502.0</td>\n",
       "    </tr>\n",
       "    <tr>\n",
       "      <th>2018-04-06</th>\n",
       "      <td>124.0</td>\n",
       "      <td>2520.0</td>\n",
       "    </tr>\n",
       "    <tr>\n",
       "      <th>2018-04-07</th>\n",
       "      <td>335.0</td>\n",
       "      <td>1416.0</td>\n",
       "    </tr>\n",
       "    <tr>\n",
       "      <th>2018-04-08</th>\n",
       "      <td>242.0</td>\n",
       "      <td>1252.0</td>\n",
       "    </tr>\n",
       "    <tr>\n",
       "      <th>2018-04-09</th>\n",
       "      <td>39.0</td>\n",
       "      <td>1798.0</td>\n",
       "    </tr>\n",
       "    <tr>\n",
       "      <th>2018-04-10</th>\n",
       "      <td>117.0</td>\n",
       "      <td>3114.0</td>\n",
       "    </tr>\n",
       "    <tr>\n",
       "      <th>2018-04-11</th>\n",
       "      <td>305.0</td>\n",
       "      <td>3815.0</td>\n",
       "    </tr>\n",
       "    <tr>\n",
       "      <th>2018-04-12</th>\n",
       "      <td>491.0</td>\n",
       "      <td>4155.0</td>\n",
       "    </tr>\n",
       "    <tr>\n",
       "      <th>2018-04-13</th>\n",
       "      <td>208.0</td>\n",
       "      <td>2811.0</td>\n",
       "    </tr>\n",
       "    <tr>\n",
       "      <th>2018-04-14</th>\n",
       "      <td>41.0</td>\n",
       "      <td>611.0</td>\n",
       "    </tr>\n",
       "    <tr>\n",
       "      <th>2018-04-15</th>\n",
       "      <td>41.0</td>\n",
       "      <td>528.0</td>\n",
       "    </tr>\n",
       "    <tr>\n",
       "      <th>2018-04-16</th>\n",
       "      <td>40.0</td>\n",
       "      <td>1960.0</td>\n",
       "    </tr>\n",
       "    <tr>\n",
       "      <th>2018-04-17</th>\n",
       "      <td>121.0</td>\n",
       "      <td>3090.0</td>\n",
       "    </tr>\n",
       "    <tr>\n",
       "      <th>2018-04-18</th>\n",
       "      <td>45.0</td>\n",
       "      <td>2196.0</td>\n",
       "    </tr>\n",
       "    <tr>\n",
       "      <th>2018-04-19</th>\n",
       "      <td>164.0</td>\n",
       "      <td>3296.0</td>\n",
       "    </tr>\n",
       "    <tr>\n",
       "      <th>2018-04-20</th>\n",
       "      <td>562.0</td>\n",
       "      <td>3747.0</td>\n",
       "    </tr>\n",
       "    <tr>\n",
       "      <th>2018-04-21</th>\n",
       "      <td>655.0</td>\n",
       "      <td>1845.0</td>\n",
       "    </tr>\n",
       "    <tr>\n",
       "      <th>2018-04-22</th>\n",
       "      <td>1055.0</td>\n",
       "      <td>2241.0</td>\n",
       "    </tr>\n",
       "    <tr>\n",
       "      <th>2018-04-23</th>\n",
       "      <td>345.0</td>\n",
       "      <td>3930.0</td>\n",
       "    </tr>\n",
       "    <tr>\n",
       "      <th>2018-04-24</th>\n",
       "      <td>367.0</td>\n",
       "      <td>4356.0</td>\n",
       "    </tr>\n",
       "    <tr>\n",
       "      <th>2018-04-25</th>\n",
       "      <td>220.0</td>\n",
       "      <td>3959.0</td>\n",
       "    </tr>\n",
       "    <tr>\n",
       "      <th>2018-04-26</th>\n",
       "      <td>544.0</td>\n",
       "      <td>4398.0</td>\n",
       "    </tr>\n",
       "    <tr>\n",
       "      <th>2018-04-27</th>\n",
       "      <td>416.0</td>\n",
       "      <td>3424.0</td>\n",
       "    </tr>\n",
       "    <tr>\n",
       "      <th>2018-04-28</th>\n",
       "      <td>713.0</td>\n",
       "      <td>2015.0</td>\n",
       "    </tr>\n",
       "    <tr>\n",
       "      <th>2018-04-29</th>\n",
       "      <td>1082.0</td>\n",
       "      <td>2114.0</td>\n",
       "    </tr>\n",
       "    <tr>\n",
       "      <th>2018-04-30</th>\n",
       "      <td>1098.0</td>\n",
       "      <td>5281.0</td>\n",
       "    </tr>\n",
       "  </tbody>\n",
       "</table>\n",
       "</div>"
      ],
      "text/plain": [
       "            trip_id           \n",
       "usertype   Customer Subscriber\n",
       "start_time                    \n",
       "2018-04-01    239.0      825.0\n",
       "2018-04-02    166.0     2841.0\n",
       "2018-04-03     31.0     1873.0\n",
       "2018-04-04     82.0     2253.0\n",
       "2018-04-05     90.0     2502.0\n",
       "2018-04-06    124.0     2520.0\n",
       "2018-04-07    335.0     1416.0\n",
       "2018-04-08    242.0     1252.0\n",
       "2018-04-09     39.0     1798.0\n",
       "2018-04-10    117.0     3114.0\n",
       "2018-04-11    305.0     3815.0\n",
       "2018-04-12    491.0     4155.0\n",
       "2018-04-13    208.0     2811.0\n",
       "2018-04-14     41.0      611.0\n",
       "2018-04-15     41.0      528.0\n",
       "2018-04-16     40.0     1960.0\n",
       "2018-04-17    121.0     3090.0\n",
       "2018-04-18     45.0     2196.0\n",
       "2018-04-19    164.0     3296.0\n",
       "2018-04-20    562.0     3747.0\n",
       "2018-04-21    655.0     1845.0\n",
       "2018-04-22   1055.0     2241.0\n",
       "2018-04-23    345.0     3930.0\n",
       "2018-04-24    367.0     4356.0\n",
       "2018-04-25    220.0     3959.0\n",
       "2018-04-26    544.0     4398.0\n",
       "2018-04-27    416.0     3424.0\n",
       "2018-04-28    713.0     2015.0\n",
       "2018-04-29   1082.0     2114.0\n",
       "2018-04-30   1098.0     5281.0"
      ]
     },
     "execution_count": 8,
     "metadata": {},
     "output_type": "execute_result"
    }
   ],
   "source": [
    "bikes_april.groupby(['usertype', 'start_time']) \\\n",
    "        .agg({'trip_id': 'count'}) \\\n",
    "        .unstack(level=0) \\\n",
    "        .resample(rule='D').sum()"
   ]
  },
  {
   "cell_type": "markdown",
   "id": "3c190a50",
   "metadata": {},
   "source": [
    "Посмотрим на данные за период с апреля по декабрь."
   ]
  },
  {
   "cell_type": "code",
   "execution_count": 9,
   "id": "508d32f6",
   "metadata": {
    "ExecuteTime": {
     "end_time": "2023-02-21T06:24:26.960936Z",
     "start_time": "2023-02-21T06:24:24.267689Z"
    }
   },
   "outputs": [],
   "source": [
    "bikes_q2_sample_apr = pd.read_csv('C:/Users/1/JupyterProjects/Karpov_courses_lessons_and_projects/module_python/all_data/bikes_q2_sample_apr.csv')\n",
    "bikes_q2_sample_may = pd.read_csv('C:/Users/1/JupyterProjects/Karpov_courses_lessons_and_projects/module_python/all_data/bikes_q2_sample_may.csv')\n",
    "bikes_q2_sample_jun = pd.read_csv('C:/Users/1/JupyterProjects/Karpov_courses_lessons_and_projects/module_python/all_data/bikes_q2_sample_jun.csv')\n",
    "bikes_q3_sample_july = pd.read_csv('C:/Users/1/JupyterProjects/Karpov_courses_lessons_and_projects/module_python/all_data/bikes_q3_sample_july.csv')\n",
    "bikes_q3_sample_aug = pd.read_csv('C:/Users/1/JupyterProjects/Karpov_courses_lessons_and_projects/module_python/all_data/bikes_q3_sample_aug.csv')\n",
    "bikes_q3_sample_sep = pd.read_csv('C:/Users/1/JupyterProjects/Karpov_courses_lessons_and_projects/module_python/all_data/bikes_q3_sample_sep.csv')\n",
    "bikes_q4_sample_oct = pd.read_csv('C:/Users/1/JupyterProjects/Karpov_courses_lessons_and_projects/module_python/all_data/bikes_q4_sample_oct.csv')\n",
    "bikes_q4_sample_nov = pd.read_csv('C:/Users/1/JupyterProjects/Karpov_courses_lessons_and_projects/module_python/all_data/bikes_q4_sample_nov.csv')\n",
    "bikes_q4_sample_dec = pd.read_csv('C:/Users/1/JupyterProjects/Karpov_courses_lessons_and_projects/module_python/all_data/bikes_q4_sample_dec.csv')"
   ]
  },
  {
   "cell_type": "code",
   "execution_count": 10,
   "id": "0c123b45",
   "metadata": {
    "ExecuteTime": {
     "end_time": "2023-02-21T06:24:27.136935Z",
     "start_time": "2023-02-21T06:24:26.966946Z"
    }
   },
   "outputs": [],
   "source": [
    "bikes = pd.concat([bikes_q2_sample_apr, bikes_q2_sample_may, bikes_q2_sample_jun, bikes_q3_sample_july,\\\n",
    "                   bikes_q3_sample_aug, bikes_q3_sample_sep, bikes_q4_sample_oct, bikes_q4_sample_nov,\\\n",
    "                   bikes_q4_sample_dec])"
   ]
  },
  {
   "cell_type": "code",
   "execution_count": 11,
   "id": "bfffd1b6",
   "metadata": {
    "ExecuteTime": {
     "end_time": "2023-02-21T06:24:27.837977Z",
     "start_time": "2023-02-21T06:24:27.138936Z"
    }
   },
   "outputs": [],
   "source": [
    "bikes['start_time'] = pd.to_datetime(bikes['start_time'])"
   ]
  },
  {
   "cell_type": "code",
   "execution_count": 12,
   "id": "179115af",
   "metadata": {
    "ExecuteTime": {
     "end_time": "2023-02-21T06:24:28.794517Z",
     "start_time": "2023-02-21T06:24:27.840978Z"
    },
    "scrolled": true
   },
   "outputs": [],
   "source": [
    "bikes_by_usertype = bikes.groupby(['usertype', 'start_time']).agg({'trip_id': 'count'}) \\\n",
    "        .rename(columns={'trip_id': 'count'}) \\\n",
    "        .unstack(level=0) \\\n",
    "        .resample(rule='D').sum()"
   ]
  },
  {
   "cell_type": "code",
   "execution_count": 13,
   "id": "72f8ef57",
   "metadata": {
    "ExecuteTime": {
     "end_time": "2023-02-21T06:24:28.826516Z",
     "start_time": "2023-02-21T06:24:28.796521Z"
    }
   },
   "outputs": [
    {
     "data": {
      "text/html": [
       "<div>\n",
       "<style scoped>\n",
       "    .dataframe tbody tr th:only-of-type {\n",
       "        vertical-align: middle;\n",
       "    }\n",
       "\n",
       "    .dataframe tbody tr th {\n",
       "        vertical-align: top;\n",
       "    }\n",
       "\n",
       "    .dataframe thead tr th {\n",
       "        text-align: left;\n",
       "    }\n",
       "\n",
       "    .dataframe thead tr:last-of-type th {\n",
       "        text-align: right;\n",
       "    }\n",
       "</style>\n",
       "<table border=\"1\" class=\"dataframe\">\n",
       "  <thead>\n",
       "    <tr>\n",
       "      <th></th>\n",
       "      <th colspan=\"2\" halign=\"left\">count</th>\n",
       "    </tr>\n",
       "    <tr>\n",
       "      <th>usertype</th>\n",
       "      <th>Customer</th>\n",
       "      <th>Subscriber</th>\n",
       "    </tr>\n",
       "    <tr>\n",
       "      <th>start_time</th>\n",
       "      <th></th>\n",
       "      <th></th>\n",
       "    </tr>\n",
       "  </thead>\n",
       "  <tbody>\n",
       "    <tr>\n",
       "      <th>2018-04-01</th>\n",
       "      <td>166.0</td>\n",
       "      <td>549.0</td>\n",
       "    </tr>\n",
       "    <tr>\n",
       "      <th>2018-04-02</th>\n",
       "      <td>110.0</td>\n",
       "      <td>1865.0</td>\n",
       "    </tr>\n",
       "    <tr>\n",
       "      <th>2018-04-03</th>\n",
       "      <td>19.0</td>\n",
       "      <td>1276.0</td>\n",
       "    </tr>\n",
       "    <tr>\n",
       "      <th>2018-04-04</th>\n",
       "      <td>53.0</td>\n",
       "      <td>1501.0</td>\n",
       "    </tr>\n",
       "    <tr>\n",
       "      <th>2018-04-05</th>\n",
       "      <td>62.0</td>\n",
       "      <td>1637.0</td>\n",
       "    </tr>\n",
       "    <tr>\n",
       "      <th>...</th>\n",
       "      <td>...</td>\n",
       "      <td>...</td>\n",
       "    </tr>\n",
       "    <tr>\n",
       "      <th>2018-12-27</th>\n",
       "      <td>28.0</td>\n",
       "      <td>684.0</td>\n",
       "    </tr>\n",
       "    <tr>\n",
       "      <th>2018-12-28</th>\n",
       "      <td>65.0</td>\n",
       "      <td>872.0</td>\n",
       "    </tr>\n",
       "    <tr>\n",
       "      <th>2018-12-29</th>\n",
       "      <td>23.0</td>\n",
       "      <td>350.0</td>\n",
       "    </tr>\n",
       "    <tr>\n",
       "      <th>2018-12-30</th>\n",
       "      <td>55.0</td>\n",
       "      <td>385.0</td>\n",
       "    </tr>\n",
       "    <tr>\n",
       "      <th>2018-12-31</th>\n",
       "      <td>27.0</td>\n",
       "      <td>352.0</td>\n",
       "    </tr>\n",
       "  </tbody>\n",
       "</table>\n",
       "<p>275 rows × 2 columns</p>\n",
       "</div>"
      ],
      "text/plain": [
       "              count           \n",
       "usertype   Customer Subscriber\n",
       "start_time                    \n",
       "2018-04-01    166.0      549.0\n",
       "2018-04-02    110.0     1865.0\n",
       "2018-04-03     19.0     1276.0\n",
       "2018-04-04     53.0     1501.0\n",
       "2018-04-05     62.0     1637.0\n",
       "...             ...        ...\n",
       "2018-12-27     28.0      684.0\n",
       "2018-12-28     65.0      872.0\n",
       "2018-12-29     23.0      350.0\n",
       "2018-12-30     55.0      385.0\n",
       "2018-12-31     27.0      352.0\n",
       "\n",
       "[275 rows x 2 columns]"
      ]
     },
     "execution_count": 13,
     "metadata": {},
     "output_type": "execute_result"
    }
   ],
   "source": [
    "bikes_by_usertype"
   ]
  },
  {
   "cell_type": "code",
   "execution_count": 14,
   "id": "cb55eabc",
   "metadata": {
    "ExecuteTime": {
     "end_time": "2023-02-21T06:24:28.842523Z",
     "start_time": "2023-02-21T06:24:28.828525Z"
    }
   },
   "outputs": [],
   "source": [
    "bikes_by_usertype = bikes_by_usertype.T.reset_index(drop=True).T #reset_index для колонок"
   ]
  },
  {
   "cell_type": "code",
   "execution_count": 15,
   "id": "fa8b55b5",
   "metadata": {
    "ExecuteTime": {
     "end_time": "2023-02-21T06:24:28.858160Z",
     "start_time": "2023-02-21T06:24:28.844520Z"
    }
   },
   "outputs": [],
   "source": [
    "bikes_by_usertype.rename(columns={0: 'Customer', 1: 'Subscriber'}, inplace=True)"
   ]
  },
  {
   "cell_type": "markdown",
   "id": "f0e94df9",
   "metadata": {},
   "source": [
    "Сделаем преобразование по дням для каждой группы пользователей (usertype), затем выберем дни, в которые число аренд, сделанных customers, было больше, чем у subscribers."
   ]
  },
  {
   "cell_type": "code",
   "execution_count": 16,
   "id": "f2e63ba7",
   "metadata": {
    "ExecuteTime": {
     "end_time": "2023-02-21T06:24:28.889334Z",
     "start_time": "2023-02-21T06:24:28.860338Z"
    }
   },
   "outputs": [
    {
     "data": {
      "text/html": [
       "<div>\n",
       "<style scoped>\n",
       "    .dataframe tbody tr th:only-of-type {\n",
       "        vertical-align: middle;\n",
       "    }\n",
       "\n",
       "    .dataframe tbody tr th {\n",
       "        vertical-align: top;\n",
       "    }\n",
       "\n",
       "    .dataframe thead th {\n",
       "        text-align: right;\n",
       "    }\n",
       "</style>\n",
       "<table border=\"1\" class=\"dataframe\">\n",
       "  <thead>\n",
       "    <tr style=\"text-align: right;\">\n",
       "      <th></th>\n",
       "      <th>Customer</th>\n",
       "      <th>Subscriber</th>\n",
       "    </tr>\n",
       "    <tr>\n",
       "      <th>start_time</th>\n",
       "      <th></th>\n",
       "      <th></th>\n",
       "    </tr>\n",
       "  </thead>\n",
       "  <tbody>\n",
       "    <tr>\n",
       "      <th>2018-05-27</th>\n",
       "      <td>3263.0</td>\n",
       "      <td>2449.0</td>\n",
       "    </tr>\n",
       "    <tr>\n",
       "      <th>2018-09-02</th>\n",
       "      <td>2752.0</td>\n",
       "      <td>2183.0</td>\n",
       "    </tr>\n",
       "  </tbody>\n",
       "</table>\n",
       "</div>"
      ],
      "text/plain": [
       "            Customer  Subscriber\n",
       "start_time                      \n",
       "2018-05-27    3263.0      2449.0\n",
       "2018-09-02    2752.0      2183.0"
      ]
     },
     "execution_count": 16,
     "metadata": {},
     "output_type": "execute_result"
    }
   ],
   "source": [
    "bikes_by_usertype.query('Customer > Subscriber')"
   ]
  },
  {
   "cell_type": "code",
   "execution_count": 17,
   "id": "f72e871a",
   "metadata": {
    "ExecuteTime": {
     "end_time": "2023-02-21T06:24:28.905436Z",
     "start_time": "2023-02-21T06:24:28.891334Z"
    },
    "scrolled": true
   },
   "outputs": [],
   "source": [
    "# bikes.set_index('start_time', inplace=True)\n",
    "# bikes.groupby('usertype').resample(rule='D').size().T"
   ]
  },
  {
   "cell_type": "code",
   "execution_count": 18,
   "id": "a1be9d39",
   "metadata": {
    "ExecuteTime": {
     "end_time": "2023-02-21T06:24:29.256297Z",
     "start_time": "2023-02-21T06:24:28.907439Z"
    },
    "scrolled": true
   },
   "outputs": [
    {
     "data": {
      "image/png": "[encoded data removed]",
      "text/plain": [
       "<Figure size 1080x360 with 1 Axes>"
      ]
     },
     "metadata": {
      "needs_background": "light"
     },
     "output_type": "display_data"
    }
   ],
   "source": [
    "# визуализация\n",
    "plt.figure(figsize=(15, 5))\n",
    "bikes_by_usertype.iloc[:, 0].plot(color='Green') # customer\n",
    "bikes_by_usertype.iloc[:, 1].plot(color='Red') # subscriber\n",
    "plt.show()"
   ]
  },
  {
   "cell_type": "markdown",
   "id": "43825c6e",
   "metadata": {},
   "source": [
    "Отлично! Следующий шаг – более подробно посмотреть на летний период.\n",
    "\n",
    "Еще один плюс использования дат в качестве индексов – возможность выбрать данные за интересующий нас промежуток времени. В переменную bikes_summer сохраним наблюдения с 1 июня по 31 августа. Затем запишем в top_destination наиболее популярный пункт назначения (его название). Агрегируем данные по дням и определим, в какой день в полученный пункт (top_destination) было совершено меньше всего поездок. Дату сохраним в bad_day, отформатировав timestamp с помощью .strftime('%Y-%m-%d').bikes"
   ]
  },
  {
   "cell_type": "code",
   "execution_count": 19,
   "id": "71fcabde",
   "metadata": {
    "ExecuteTime": {
     "end_time": "2023-02-21T06:24:29.559296Z",
     "start_time": "2023-02-21T06:24:29.259307Z"
    },
    "scrolled": true
   },
   "outputs": [],
   "source": [
    "bikes = bikes.set_index('start_time')\n",
    "bikes_summer = bikes.loc['2018-06-01': '2018-08-31']"
   ]
  },
  {
   "cell_type": "code",
   "execution_count": 20,
   "id": "ed017b76",
   "metadata": {
    "ExecuteTime": {
     "end_time": "2023-02-21T06:24:29.591307Z",
     "start_time": "2023-02-21T06:24:29.561303Z"
    }
   },
   "outputs": [
    {
     "data": {
      "text/html": [
       "<div>\n",
       "<style scoped>\n",
       "    .dataframe tbody tr th:only-of-type {\n",
       "        vertical-align: middle;\n",
       "    }\n",
       "\n",
       "    .dataframe tbody tr th {\n",
       "        vertical-align: top;\n",
       "    }\n",
       "\n",
       "    .dataframe thead th {\n",
       "        text-align: right;\n",
       "    }\n",
       "</style>\n",
       "<table border=\"1\" class=\"dataframe\">\n",
       "  <thead>\n",
       "    <tr style=\"text-align: right;\">\n",
       "      <th></th>\n",
       "      <th>trip_id</th>\n",
       "      <th>end_time</th>\n",
       "      <th>bikeid</th>\n",
       "      <th>tripduration</th>\n",
       "      <th>from_station_id</th>\n",
       "      <th>from_station_name</th>\n",
       "      <th>to_station_id</th>\n",
       "      <th>to_station_name</th>\n",
       "      <th>usertype</th>\n",
       "      <th>gender</th>\n",
       "      <th>birthyear</th>\n",
       "    </tr>\n",
       "    <tr>\n",
       "      <th>start_time</th>\n",
       "      <th></th>\n",
       "      <th></th>\n",
       "      <th></th>\n",
       "      <th></th>\n",
       "      <th></th>\n",
       "      <th></th>\n",
       "      <th></th>\n",
       "      <th></th>\n",
       "      <th></th>\n",
       "      <th></th>\n",
       "      <th></th>\n",
       "    </tr>\n",
       "  </thead>\n",
       "  <tbody>\n",
       "    <tr>\n",
       "      <th>2018-06-01 00:04:40</th>\n",
       "      <td>18709077</td>\n",
       "      <td>2018-06-01 00:06:47</td>\n",
       "      <td>3155</td>\n",
       "      <td>127.0</td>\n",
       "      <td>128</td>\n",
       "      <td>Damen Ave &amp; Chicago Ave</td>\n",
       "      <td>214</td>\n",
       "      <td>Damen Ave &amp; Grand Ave</td>\n",
       "      <td>Subscriber</td>\n",
       "      <td>Female</td>\n",
       "      <td>1978.0</td>\n",
       "    </tr>\n",
       "    <tr>\n",
       "      <th>2018-06-01 00:06:08</th>\n",
       "      <td>18709080</td>\n",
       "      <td>2018-06-01 00:24:18</td>\n",
       "      <td>2807</td>\n",
       "      <td>1,090.0</td>\n",
       "      <td>258</td>\n",
       "      <td>Logan Blvd &amp; Elston Ave</td>\n",
       "      <td>69</td>\n",
       "      <td>Damen Ave &amp; Pierce Ave</td>\n",
       "      <td>Customer</td>\n",
       "      <td>NaN</td>\n",
       "      <td>NaN</td>\n",
       "    </tr>\n",
       "    <tr>\n",
       "      <th>2018-06-01 00:08:01</th>\n",
       "      <td>18709086</td>\n",
       "      <td>2018-06-01 00:32:55</td>\n",
       "      <td>2737</td>\n",
       "      <td>1,494.0</td>\n",
       "      <td>337</td>\n",
       "      <td>Clark St &amp; Chicago Ave</td>\n",
       "      <td>225</td>\n",
       "      <td>Halsted St &amp; Dickens Ave</td>\n",
       "      <td>Customer</td>\n",
       "      <td>Male</td>\n",
       "      <td>1988.0</td>\n",
       "    </tr>\n",
       "    <tr>\n",
       "      <th>2018-06-01 00:09:02</th>\n",
       "      <td>18709091</td>\n",
       "      <td>2018-06-01 00:19:21</td>\n",
       "      <td>6089</td>\n",
       "      <td>619.0</td>\n",
       "      <td>210</td>\n",
       "      <td>Ashland Ave &amp; Division St</td>\n",
       "      <td>56</td>\n",
       "      <td>Desplaines St &amp; Kinzie St</td>\n",
       "      <td>Subscriber</td>\n",
       "      <td>Male</td>\n",
       "      <td>1987.0</td>\n",
       "    </tr>\n",
       "    <tr>\n",
       "      <th>2018-06-01 00:09:28</th>\n",
       "      <td>18709092</td>\n",
       "      <td>2018-06-01 00:14:44</td>\n",
       "      <td>2352</td>\n",
       "      <td>316.0</td>\n",
       "      <td>240</td>\n",
       "      <td>Sheridan Rd &amp; Irving Park Rd</td>\n",
       "      <td>303</td>\n",
       "      <td>Broadway &amp; Cornelia Ave</td>\n",
       "      <td>Subscriber</td>\n",
       "      <td>Male</td>\n",
       "      <td>1997.0</td>\n",
       "    </tr>\n",
       "    <tr>\n",
       "      <th>...</th>\n",
       "      <td>...</td>\n",
       "      <td>...</td>\n",
       "      <td>...</td>\n",
       "      <td>...</td>\n",
       "      <td>...</td>\n",
       "      <td>...</td>\n",
       "      <td>...</td>\n",
       "      <td>...</td>\n",
       "      <td>...</td>\n",
       "      <td>...</td>\n",
       "      <td>...</td>\n",
       "    </tr>\n",
       "    <tr>\n",
       "      <th>2018-08-31 23:49:34</th>\n",
       "      <td>20479557</td>\n",
       "      <td>2018-08-31 23:56:20</td>\n",
       "      <td>4289</td>\n",
       "      <td>406.0</td>\n",
       "      <td>374</td>\n",
       "      <td>Western Ave &amp; Walton St</td>\n",
       "      <td>69</td>\n",
       "      <td>Damen Ave &amp; Pierce Ave</td>\n",
       "      <td>Subscriber</td>\n",
       "      <td>Male</td>\n",
       "      <td>1987.0</td>\n",
       "    </tr>\n",
       "    <tr>\n",
       "      <th>2018-08-31 23:49:56</th>\n",
       "      <td>20479559</td>\n",
       "      <td>2018-09-01 00:30:37</td>\n",
       "      <td>6337</td>\n",
       "      <td>2,441.0</td>\n",
       "      <td>497</td>\n",
       "      <td>Kimball Ave &amp; Belmont Ave</td>\n",
       "      <td>599</td>\n",
       "      <td>Valli Produce - Evanston Plaza</td>\n",
       "      <td>Subscriber</td>\n",
       "      <td>Male</td>\n",
       "      <td>1989.0</td>\n",
       "    </tr>\n",
       "    <tr>\n",
       "      <th>2018-08-31 23:50:01</th>\n",
       "      <td>20479560</td>\n",
       "      <td>2018-08-31 23:58:00</td>\n",
       "      <td>1429</td>\n",
       "      <td>479.0</td>\n",
       "      <td>113</td>\n",
       "      <td>Bissell St &amp; Armitage Ave</td>\n",
       "      <td>16</td>\n",
       "      <td>Paulina Ave &amp; North Ave</td>\n",
       "      <td>Subscriber</td>\n",
       "      <td>Male</td>\n",
       "      <td>1987.0</td>\n",
       "    </tr>\n",
       "    <tr>\n",
       "      <th>2018-08-31 23:54:44</th>\n",
       "      <td>20479564</td>\n",
       "      <td>2018-09-01 00:06:10</td>\n",
       "      <td>6204</td>\n",
       "      <td>686.0</td>\n",
       "      <td>623</td>\n",
       "      <td>Michigan Ave &amp; 8th St</td>\n",
       "      <td>99</td>\n",
       "      <td>Lake Shore Dr &amp; Ohio St</td>\n",
       "      <td>Subscriber</td>\n",
       "      <td>Male</td>\n",
       "      <td>1985.0</td>\n",
       "    </tr>\n",
       "    <tr>\n",
       "      <th>2018-08-31 23:57:44</th>\n",
       "      <td>20479571</td>\n",
       "      <td>2018-09-01 00:11:35</td>\n",
       "      <td>4357</td>\n",
       "      <td>831.0</td>\n",
       "      <td>297</td>\n",
       "      <td>Paulina St &amp; Montrose Ave</td>\n",
       "      <td>294</td>\n",
       "      <td>Broadway &amp; Berwyn Ave</td>\n",
       "      <td>Subscriber</td>\n",
       "      <td>Female</td>\n",
       "      <td>1995.0</td>\n",
       "    </tr>\n",
       "  </tbody>\n",
       "</table>\n",
       "<p>459817 rows × 11 columns</p>\n",
       "</div>"
      ],
      "text/plain": [
       "                      trip_id             end_time  bikeid tripduration  \\\n",
       "start_time                                                                \n",
       "2018-06-01 00:04:40  18709077  2018-06-01 00:06:47    3155        127.0   \n",
       "2018-06-01 00:06:08  18709080  2018-06-01 00:24:18    2807      1,090.0   \n",
       "2018-06-01 00:08:01  18709086  2018-06-01 00:32:55    2737      1,494.0   \n",
       "2018-06-01 00:09:02  18709091  2018-06-01 00:19:21    6089        619.0   \n",
       "2018-06-01 00:09:28  18709092  2018-06-01 00:14:44    2352        316.0   \n",
       "...                       ...                  ...     ...          ...   \n",
       "2018-08-31 23:49:34  20479557  2018-08-31 23:56:20    4289        406.0   \n",
       "2018-08-31 23:49:56  20479559  2018-09-01 00:30:37    6337      2,441.0   \n",
       "2018-08-31 23:50:01  20479560  2018-08-31 23:58:00    1429        479.0   \n",
       "2018-08-31 23:54:44  20479564  2018-09-01 00:06:10    6204        686.0   \n",
       "2018-08-31 23:57:44  20479571  2018-09-01 00:11:35    4357        831.0   \n",
       "\n",
       "                     from_station_id             from_station_name  \\\n",
       "start_time                                                           \n",
       "2018-06-01 00:04:40              128       Damen Ave & Chicago Ave   \n",
       "2018-06-01 00:06:08              258       Logan Blvd & Elston Ave   \n",
       "2018-06-01 00:08:01              337        Clark St & Chicago Ave   \n",
       "2018-06-01 00:09:02              210     Ashland Ave & Division St   \n",
       "2018-06-01 00:09:28              240  Sheridan Rd & Irving Park Rd   \n",
       "...                              ...                           ...   \n",
       "2018-08-31 23:49:34              374       Western Ave & Walton St   \n",
       "2018-08-31 23:49:56              497     Kimball Ave & Belmont Ave   \n",
       "2018-08-31 23:50:01              113     Bissell St & Armitage Ave   \n",
       "2018-08-31 23:54:44              623         Michigan Ave & 8th St   \n",
       "2018-08-31 23:57:44              297     Paulina St & Montrose Ave   \n",
       "\n",
       "                     to_station_id                 to_station_name  \\\n",
       "start_time                                                           \n",
       "2018-06-01 00:04:40            214           Damen Ave & Grand Ave   \n",
       "2018-06-01 00:06:08             69          Damen Ave & Pierce Ave   \n",
       "2018-06-01 00:08:01            225        Halsted St & Dickens Ave   \n",
       "2018-06-01 00:09:02             56       Desplaines St & Kinzie St   \n",
       "2018-06-01 00:09:28            303         Broadway & Cornelia Ave   \n",
       "...                            ...                             ...   \n",
       "2018-08-31 23:49:34             69          Damen Ave & Pierce Ave   \n",
       "2018-08-31 23:49:56            599  Valli Produce - Evanston Plaza   \n",
       "2018-08-31 23:50:01             16         Paulina Ave & North Ave   \n",
       "2018-08-31 23:54:44             99         Lake Shore Dr & Ohio St   \n",
       "2018-08-31 23:57:44            294           Broadway & Berwyn Ave   \n",
       "\n",
       "                       usertype  gender  birthyear  \n",
       "start_time                                          \n",
       "2018-06-01 00:04:40  Subscriber  Female     1978.0  \n",
       "2018-06-01 00:06:08    Customer     NaN        NaN  \n",
       "2018-06-01 00:08:01    Customer    Male     1988.0  \n",
       "2018-06-01 00:09:02  Subscriber    Male     1987.0  \n",
       "2018-06-01 00:09:28  Subscriber    Male     1997.0  \n",
       "...                         ...     ...        ...  \n",
       "2018-08-31 23:49:34  Subscriber    Male     1987.0  \n",
       "2018-08-31 23:49:56  Subscriber    Male     1989.0  \n",
       "2018-08-31 23:50:01  Subscriber    Male     1987.0  \n",
       "2018-08-31 23:54:44  Subscriber    Male     1985.0  \n",
       "2018-08-31 23:57:44  Subscriber  Female     1995.0  \n",
       "\n",
       "[459817 rows x 11 columns]"
      ]
     },
     "execution_count": 20,
     "metadata": {},
     "output_type": "execute_result"
    }
   ],
   "source": [
    "bikes_summer"
   ]
  },
  {
   "cell_type": "code",
   "execution_count": 21,
   "id": "53cc4b1e",
   "metadata": {
    "ExecuteTime": {
     "end_time": "2023-02-21T06:24:29.958296Z",
     "start_time": "2023-02-21T06:24:29.594306Z"
    }
   },
   "outputs": [],
   "source": [
    "top_destination = bikes_summer.groupby('to_station_name').count().idxmax()[0]\n",
    "# top_destination = bikes_summer.to_station_name.describe().top"
   ]
  },
  {
   "cell_type": "code",
   "execution_count": 22,
   "id": "32ee9438",
   "metadata": {
    "ExecuteTime": {
     "end_time": "2023-02-21T06:24:30.053296Z",
     "start_time": "2023-02-21T06:24:29.960301Z"
    },
    "scrolled": true
   },
   "outputs": [],
   "source": [
    "bad_day = bikes_summer.query('to_station_name == @top_destination')\\\n",
    "        .resample(rule='D').count()\\\n",
    "        .idxmin()[0].strftime('%Y-%m-%d')"
   ]
  },
  {
   "cell_type": "code",
   "execution_count": 23,
   "id": "7ae50fb1",
   "metadata": {
    "ExecuteTime": {
     "end_time": "2023-02-21T06:24:30.069317Z",
     "start_time": "2023-02-21T06:24:30.055301Z"
    }
   },
   "outputs": [
    {
     "data": {
      "text/plain": [
       "'2018-06-21'"
      ]
     },
     "execution_count": 23,
     "metadata": {},
     "output_type": "execute_result"
    }
   ],
   "source": [
    "bad_day"
   ]
  },
  {
   "cell_type": "markdown",
   "id": "35e865ea",
   "metadata": {},
   "source": [
    "Куда больше всего ездят на выходных? Туда же, куда и в будние дни, или в другие пункты назначения?"
   ]
  },
  {
   "cell_type": "code",
   "execution_count": 24,
   "id": "0624f4e9",
   "metadata": {
    "ExecuteTime": {
     "end_time": "2023-02-21T06:24:33.131544Z",
     "start_time": "2023-02-21T06:24:30.072304Z"
    }
   },
   "outputs": [],
   "source": [
    "bikes_summer = bikes_summer.assign(weekday = lambda x: pd.to_datetime(x.index).strftime('%A'))"
   ]
  },
  {
   "cell_type": "code",
   "execution_count": 25,
   "id": "3c36be41",
   "metadata": {
    "ExecuteTime": {
     "end_time": "2023-02-21T06:24:33.274431Z",
     "start_time": "2023-02-21T06:24:33.134443Z"
    }
   },
   "outputs": [
    {
     "data": {
      "text/plain": [
       "to_station_name\n",
       "Streeter Dr & Grand Ave       3461\n",
       "Lake Shore Dr & North Blvd    1690\n",
       "Theater on the Lake           1470\n",
       "Lake Shore Dr & Monroe St     1232\n",
       "Millennium Park               1080\n",
       "                              ... \n",
       "Seeley Ave & Garfield Blvd       1\n",
       "Shields Ave & 43rd St            1\n",
       "Stony Island Ave & 82nd St       1\n",
       "Stony Island Ave & 75th St       1\n",
       "Halsted St & 59th St             1\n",
       "Length: 557, dtype: int64"
      ]
     },
     "execution_count": 25,
     "metadata": {},
     "output_type": "execute_result"
    }
   ],
   "source": [
    "bikes_summer.query('weekday == \"Saturday\"').groupby('to_station_name').size().sort_values(ascending=False)"
   ]
  },
  {
   "cell_type": "code",
   "execution_count": 26,
   "id": "68283508",
   "metadata": {
    "ExecuteTime": {
     "end_time": "2023-02-21T06:24:33.401430Z",
     "start_time": "2023-02-21T06:24:33.276439Z"
    }
   },
   "outputs": [
    {
     "data": {
      "text/plain": [
       "'Streeter Dr & Grand Ave'"
      ]
     },
     "execution_count": 26,
     "metadata": {},
     "output_type": "execute_result"
    }
   ],
   "source": [
    "bikes_summer.query('weekday != \"Saturday\" and weekday != \"Sunday\"').groupby('to_station_name').size().idxmax()"
   ]
  },
  {
   "cell_type": "code",
   "execution_count": 27,
   "id": "c241be7c",
   "metadata": {
    "ExecuteTime": {
     "end_time": "2023-02-21T06:24:33.526430Z",
     "start_time": "2023-02-21T06:24:33.403439Z"
    }
   },
   "outputs": [
    {
     "data": {
      "text/plain": [
       "weekday    to_station_name            \n",
       "Saturday   Streeter Dr & Grand Ave        3461\n",
       "Sunday     Streeter Dr & Grand Ave        2565\n",
       "Friday     Streeter Dr & Grand Ave        1726\n",
       "Saturday   Lake Shore Dr & North Blvd     1690\n",
       "Wednesday  Streeter Dr & Grand Ave        1669\n",
       "                                          ... \n",
       "Sunday     Pulaski Rd & Lake St              1\n",
       "Monday     Racine Ave & 65th St              1\n",
       "Saturday   Halsted St & 59th St              1\n",
       "Friday     South Chicago Ave & 83rd St       1\n",
       "Monday     Austin Blvd & Madison St          1\n",
       "Length: 3893, dtype: int64"
      ]
     },
     "execution_count": 27,
     "metadata": {},
     "output_type": "execute_result"
    }
   ],
   "source": [
    "(bikes_summer\n",
    " .groupby(['weekday', 'to_station_name'])\n",
    " .size()\n",
    ".sort_values(ascending=False)\n",
    ")"
   ]
  },
  {
   "cell_type": "code",
   "execution_count": null,
   "id": "b2540b46",
   "metadata": {},
   "outputs": [],
   "source": []
  }
 ],
 "metadata": {
  "kernelspec": {
   "display_name": "Python 3 (ipykernel)",
   "language": "python",
   "name": "python3"
  },
  "language_info": {
   "codemirror_mode": {
    "name": "ipython",
    "version": 3
   },
   "file_extension": ".py",
   "mimetype": "text/x-python",
   "name": "python",
   "nbconvert_exporter": "python",
   "pygments_lexer": "ipython3",
   "version": "3.10.0"
  },
  "nbTranslate": {
   "displayLangs": [
    "*"
   ],
   "hotkey": "alt-t",
   "langInMainMenu": true,
   "sourceLang": "en",
   "targetLang": "fr",
   "useGoogleTranslate": true
  },
  "toc": {
   "base_numbering": 1,
   "nav_menu": {},
   "number_sections": true,
   "sideBar": true,
   "skip_h1_title": false,
   "title_cell": "Table of Contents",
   "title_sidebar": "Contents",
   "toc_cell": false,
   "toc_position": {},
   "toc_section_display": true,
   "toc_window_display": false
  },
  "varInspector": {
   "cols": {
    "lenName": 16,
    "lenType": 16,
    "lenVar": 40
   },
   "kernels_config": {
    "python": {
     "delete_cmd_postfix": "",
     "delete_cmd_prefix": "del ",
     "library": "var_list.py",
     "varRefreshCmd": "print(var_dic_list())"
    },
    "r": {
     "delete_cmd_postfix": ") ",
     "delete_cmd_prefix": "rm(",
     "library": "var_list.r",
     "varRefreshCmd": "cat(var_dic_list()) "
    }
   },
   "types_to_exclude": [
    "module",
    "function",
    "builtin_function_or_method",
    "instance",
    "_Feature"
   ],
   "window_display": false
  }
 },
 "nbformat": 4,
 "nbformat_minor": 5
}
