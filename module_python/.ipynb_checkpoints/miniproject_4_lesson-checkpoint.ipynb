{
 "cells": [
  {
   "cell_type": "code",
   "execution_count": 4,
   "id": "9dabe0c6",
   "metadata": {
    "ExecuteTime": {
     "end_time": "2023-02-21T06:20:23.866735Z",
     "start_time": "2023-02-21T06:20:23.851074Z"
    }
   },
   "outputs": [],
   "source": [
    "import os \n",
    "import pandas as pd\n",
    "import seaborn as sns\n",
    "import matplotlib.pyplot as plt\n",
    "import re"
   ]
  },
  {
   "cell_type": "markdown",
   "id": "1b9a7c52",
   "metadata": {},
   "source": [
    "На этот раз данные имеют следующую структуру:\n",
    "\n",
    "записываются для каждого пользователя, совершившего покупки, каждый день\n",
    "для каждой даты есть своя папка, внутри неё – папки для каждого пользователя\n",
    "внутри каждой папки есть файл data.csv, где и хранятся данные\n"
   ]
  },
  {
   "cell_type": "markdown",
   "id": "36ad9746",
   "metadata": {},
   "source": [
    "Собераем все данные из папки data в один датафрэйм, имеющий следующие столбцы: колонки из самих файлов (product_id, quantity), имя пользователя (name), и дату этих покупок (date), соответствует названию папки, где лежит папка с пользователем)."
   ]
  },
  {
   "cell_type": "code",
   "execution_count": 34,
   "id": "02355e9f",
   "metadata": {
    "ExecuteTime": {
     "end_time": "2023-02-21T06:46:24.197406Z",
     "start_time": "2023-02-21T06:46:24.190660Z"
    }
   },
   "outputs": [],
   "source": [
    "df = pd.DataFrame()"
   ]
  },
  {
   "cell_type": "code",
   "execution_count": 35,
   "id": "8b908cd2",
   "metadata": {
    "ExecuteTime": {
     "end_time": "2023-02-21T06:46:25.095922Z",
     "start_time": "2023-02-21T06:46:24.947339Z"
    }
   },
   "outputs": [],
   "source": [
    "for date in os.listdir('C:/Users/1/JupyterProjects/Karpov_courses_lessons_and_projects/module_python/all_data/4_data/data/'):\n",
    "    for name in os.listdir(f'C:/Users/1/JupyterProjects/Karpov_courses_lessons_and_projects/module_python/all_data/4_data/data/{date}'):\n",
    "        result_data = pd.read_csv(f'C:/Users/1/JupyterProjects/Karpov_courses_lessons_and_projects/module_python/all_data/4_data/data/{date}/{name}/data.csv', index_col=0)\n",
    "        result_data['name'] = name\n",
    "        result_data['date'] = date\n",
    "        df = pd.concat([df, result_data], ignore_index=True)"
   ]
  },
  {
   "cell_type": "code",
   "execution_count": 9,
   "id": "e91ddef6",
   "metadata": {
    "ExecuteTime": {
     "end_time": "2023-02-21T06:20:24.780296Z",
     "start_time": "2023-02-21T06:20:24.748323Z"
    }
   },
   "outputs": [
    {
     "data": {
      "text/html": [
       "<div>\n",
       "<style scoped>\n",
       "    .dataframe tbody tr th:only-of-type {\n",
       "        vertical-align: middle;\n",
       "    }\n",
       "\n",
       "    .dataframe tbody tr th {\n",
       "        vertical-align: top;\n",
       "    }\n",
       "\n",
       "    .dataframe thead th {\n",
       "        text-align: right;\n",
       "    }\n",
       "</style>\n",
       "<table border=\"1\" class=\"dataframe\">\n",
       "  <thead>\n",
       "    <tr style=\"text-align: right;\">\n",
       "      <th></th>\n",
       "      <th>product_id</th>\n",
       "      <th>quantity</th>\n",
       "      <th>name</th>\n",
       "      <th>date</th>\n",
       "    </tr>\n",
       "  </thead>\n",
       "  <tbody>\n",
       "    <tr>\n",
       "      <th>0</th>\n",
       "      <td>47</td>\n",
       "      <td>1</td>\n",
       "      <td>Alexey_Smirnov</td>\n",
       "      <td>2020-12-03</td>\n",
       "    </tr>\n",
       "    <tr>\n",
       "      <th>1</th>\n",
       "      <td>57</td>\n",
       "      <td>1</td>\n",
       "      <td>Alexey_Smirnov</td>\n",
       "      <td>2020-12-03</td>\n",
       "    </tr>\n",
       "    <tr>\n",
       "      <th>2</th>\n",
       "      <td>14</td>\n",
       "      <td>2</td>\n",
       "      <td>Alexey_Smirnov</td>\n",
       "      <td>2020-12-03</td>\n",
       "    </tr>\n",
       "    <tr>\n",
       "      <th>3</th>\n",
       "      <td>52</td>\n",
       "      <td>1</td>\n",
       "      <td>Alexey_Smirnov</td>\n",
       "      <td>2020-12-03</td>\n",
       "    </tr>\n",
       "    <tr>\n",
       "      <th>4</th>\n",
       "      <td>1</td>\n",
       "      <td>4</td>\n",
       "      <td>Alexey_Smirnov</td>\n",
       "      <td>2020-12-03</td>\n",
       "    </tr>\n",
       "    <tr>\n",
       "      <th>...</th>\n",
       "      <td>...</td>\n",
       "      <td>...</td>\n",
       "      <td>...</td>\n",
       "      <td>...</td>\n",
       "    </tr>\n",
       "    <tr>\n",
       "      <th>156</th>\n",
       "      <td>66</td>\n",
       "      <td>4</td>\n",
       "      <td>Rostislav_Petrov</td>\n",
       "      <td>2020-12-09</td>\n",
       "    </tr>\n",
       "    <tr>\n",
       "      <th>157</th>\n",
       "      <td>39</td>\n",
       "      <td>2</td>\n",
       "      <td>Rostislav_Petrov</td>\n",
       "      <td>2020-12-09</td>\n",
       "    </tr>\n",
       "    <tr>\n",
       "      <th>158</th>\n",
       "      <td>82</td>\n",
       "      <td>4</td>\n",
       "      <td>Vasiliy_Ivanov</td>\n",
       "      <td>2020-12-09</td>\n",
       "    </tr>\n",
       "    <tr>\n",
       "      <th>159</th>\n",
       "      <td>74</td>\n",
       "      <td>2</td>\n",
       "      <td>Vasiliy_Ivanov</td>\n",
       "      <td>2020-12-09</td>\n",
       "    </tr>\n",
       "    <tr>\n",
       "      <th>160</th>\n",
       "      <td>54</td>\n",
       "      <td>3</td>\n",
       "      <td>Vasiliy_Ivanov</td>\n",
       "      <td>2020-12-09</td>\n",
       "    </tr>\n",
       "  </tbody>\n",
       "</table>\n",
       "<p>161 rows × 4 columns</p>\n",
       "</div>"
      ],
      "text/plain": [
       "     product_id  quantity              name        date\n",
       "0            47         1    Alexey_Smirnov  2020-12-03\n",
       "1            57         1    Alexey_Smirnov  2020-12-03\n",
       "2            14         2    Alexey_Smirnov  2020-12-03\n",
       "3            52         1    Alexey_Smirnov  2020-12-03\n",
       "4             1         4    Alexey_Smirnov  2020-12-03\n",
       "..          ...       ...               ...         ...\n",
       "156          66         4  Rostislav_Petrov  2020-12-09\n",
       "157          39         2  Rostislav_Petrov  2020-12-09\n",
       "158          82         4    Vasiliy_Ivanov  2020-12-09\n",
       "159          74         2    Vasiliy_Ivanov  2020-12-09\n",
       "160          54         3    Vasiliy_Ivanov  2020-12-09\n",
       "\n",
       "[161 rows x 4 columns]"
      ]
     },
     "execution_count": 9,
     "metadata": {},
     "output_type": "execute_result"
    }
   ],
   "source": [
    "df"
   ]
  },
  {
   "cell_type": "code",
   "execution_count": 10,
   "id": "638c2ad1",
   "metadata": {
    "ExecuteTime": {
     "end_time": "2023-02-21T06:20:24.796297Z",
     "start_time": "2023-02-21T06:20:24.780296Z"
    }
   },
   "outputs": [
    {
     "data": {
      "text/plain": [
       "480"
      ]
     },
     "execution_count": 10,
     "metadata": {},
     "output_type": "execute_result"
    }
   ],
   "source": [
    "df.quantity.sum()"
   ]
  },
  {
   "cell_type": "markdown",
   "id": "3a162b28",
   "metadata": {},
   "source": [
    "Какие пользователи купили больше всего товаров?"
   ]
  },
  {
   "cell_type": "code",
   "execution_count": 43,
   "id": "3c8ea612",
   "metadata": {
    "ExecuteTime": {
     "end_time": "2023-02-21T06:52:16.846547Z",
     "start_time": "2023-02-21T06:52:16.824549Z"
    }
   },
   "outputs": [],
   "source": [
    "quantity_bought = df.groupby('name', as_index=False).agg({'quantity': 'sum'})\n",
    "max_quantity = quantity_bought.quantity.max()"
   ]
  },
  {
   "cell_type": "code",
   "execution_count": 44,
   "id": "19d09b61",
   "metadata": {
    "ExecuteTime": {
     "end_time": "2023-02-21T06:52:43.843445Z",
     "start_time": "2023-02-21T06:52:43.821449Z"
    }
   },
   "outputs": [
    {
     "data": {
      "text/plain": [
       "3     Alexey_Smirnov\n",
       "13      Petr_Smirnov\n",
       "Name: name, dtype: object"
      ]
     },
     "execution_count": 44,
     "metadata": {},
     "output_type": "execute_result"
    }
   ],
   "source": [
    "quantity_bought.query('quantity == @max_quantity').name"
   ]
  },
  {
   "cell_type": "markdown",
   "id": "48a8fc08",
   "metadata": {},
   "source": [
    "Топ-10 товаров по числу проданных единиц за всё время и построение барплота"
   ]
  },
  {
   "cell_type": "code",
   "execution_count": 45,
   "id": "01c3af83",
   "metadata": {
    "ExecuteTime": {
     "end_time": "2023-02-21T07:12:03.998302Z",
     "start_time": "2023-02-21T07:12:03.956083Z"
    }
   },
   "outputs": [],
   "source": [
    "top_10 = df.groupby('product_id', as_index=False).agg({'quantity': 'sum'}).sort_values(by='quantity', ascending=False).head(10)"
   ]
  },
  {
   "cell_type": "code",
   "execution_count": 48,
   "id": "bb9451c4",
   "metadata": {
    "ExecuteTime": {
     "end_time": "2023-02-21T07:17:43.221240Z",
     "start_time": "2023-02-21T07:17:42.981615Z"
    }
   },
   "outputs": [
    {
     "data": {
      "text/plain": [
       "Text(0.5, 1.0, 'Топ-10 покупаемых товаров')"
      ]
     },
     "execution_count": 48,
     "metadata": {},
     "output_type": "execute_result"
    },
    {
     "data": {
      "image/png": "[encoded data removed]",
      "text/plain": [
       "<Figure size 1224x360 with 1 Axes>"
      ]
     },
     "metadata": {
      "needs_background": "light"
     },
     "output_type": "display_data"
    }
   ],
   "source": [
    "fig, ax = plt.subplots(figsize=(17, 5))\n",
    "sns.barplot(data=top_10, x='product_id', y='quantity',\n",
    "            order=top_10.sort_values('quantity').product_id,\n",
    "            alpha=0.5, color='Red', ax=ax)\n",
    "\n",
    "ax.bar_label(ax.containers[0]) # добавление подписей на столбцы\n",
    "\n",
    "ax.set_title('Топ-10 покупаемых товаров')"
   ]
  },
  {
   "cell_type": "markdown",
   "id": "7fb95bb0",
   "metadata": {},
   "source": [
    "Посмотрим на продажи по дням"
   ]
  },
  {
   "cell_type": "code",
   "execution_count": 15,
   "id": "a7484233",
   "metadata": {
    "ExecuteTime": {
     "end_time": "2023-02-21T06:20:25.258969Z",
     "start_time": "2023-02-21T06:20:25.244310Z"
    }
   },
   "outputs": [],
   "source": [
    "quantity_per_date = df.groupby('date', as_index=False).agg({'quantity': 'sum'})"
   ]
  },
  {
   "cell_type": "code",
   "execution_count": 55,
   "id": "e09daa65",
   "metadata": {
    "ExecuteTime": {
     "end_time": "2023-02-21T07:22:57.419581Z",
     "start_time": "2023-02-21T07:22:57.222441Z"
    }
   },
   "outputs": [
    {
     "data": {
      "text/plain": [
       "Text(0.5, 1.0, 'Покупки по дням')"
      ]
     },
     "execution_count": 55,
     "metadata": {},
     "output_type": "execute_result"
    },
    {
     "data": {
      "image/png": "[encoded data removed]",
      "text/plain": [
       "<Figure size 1224x432 with 1 Axes>"
      ]
     },
     "metadata": {
      "needs_background": "light"
     },
     "output_type": "display_data"
    }
   ],
   "source": [
    "fig, ax = plt.subplots(figsize=(17, 6))\n",
    "sns.barplot(data=quantity_per_date, x='date', y='quantity',\n",
    "            order=quantity_per_date.sort_values('quantity').date,\n",
    "            color='Red', alpha=0.5, ax=ax)\n",
    "\n",
    "ax.bar_label(ax.containers[0])\n",
    "\n",
    "ax.tick_params(axis='x', rotation=45)\n",
    "ax.set_title('Покупки по дням')"
   ]
  },
  {
   "cell_type": "markdown",
   "id": "2be3cf89",
   "metadata": {},
   "source": [
    "Сколько пользователей приобрели какой-либо товар повторно (более 1 раза)? Повтором будем считать покупку товара с одинаковым product_id, совершенную в разные дни. "
   ]
  },
  {
   "cell_type": "code",
   "execution_count": 61,
   "id": "12f88b25",
   "metadata": {
    "ExecuteTime": {
     "end_time": "2023-02-21T07:29:05.799357Z",
     "start_time": "2023-02-21T07:29:05.782357Z"
    }
   },
   "outputs": [],
   "source": [
    "df_without_duplicates = df.drop_duplicates(subset=['name', 'product_id', 'date']) #убираем дубликаты по 3 параметрам"
   ]
  },
  {
   "cell_type": "code",
   "execution_count": 62,
   "id": "74fa8c7b",
   "metadata": {
    "ExecuteTime": {
     "end_time": "2023-02-21T07:29:06.450282Z",
     "start_time": "2023-02-21T07:29:06.435833Z"
    }
   },
   "outputs": [
    {
     "data": {
      "text/html": [
       "<div>\n",
       "<style scoped>\n",
       "    .dataframe tbody tr th:only-of-type {\n",
       "        vertical-align: middle;\n",
       "    }\n",
       "\n",
       "    .dataframe tbody tr th {\n",
       "        vertical-align: top;\n",
       "    }\n",
       "\n",
       "    .dataframe thead th {\n",
       "        text-align: right;\n",
       "    }\n",
       "</style>\n",
       "<table border=\"1\" class=\"dataframe\">\n",
       "  <thead>\n",
       "    <tr style=\"text-align: right;\">\n",
       "      <th></th>\n",
       "      <th>product_id</th>\n",
       "      <th>quantity</th>\n",
       "      <th>name</th>\n",
       "      <th>date</th>\n",
       "    </tr>\n",
       "  </thead>\n",
       "  <tbody>\n",
       "    <tr>\n",
       "      <th>104</th>\n",
       "      <td>94</td>\n",
       "      <td>4</td>\n",
       "      <td>Petr_Fedorov</td>\n",
       "      <td>2020-12-07</td>\n",
       "    </tr>\n",
       "    <tr>\n",
       "      <th>147</th>\n",
       "      <td>15</td>\n",
       "      <td>3</td>\n",
       "      <td>Anton_Ivanov</td>\n",
       "      <td>2020-12-09</td>\n",
       "    </tr>\n",
       "  </tbody>\n",
       "</table>\n",
       "</div>"
      ],
      "text/plain": [
       "     product_id  quantity          name        date\n",
       "104          94         4  Petr_Fedorov  2020-12-07\n",
       "147          15         3  Anton_Ivanov  2020-12-09"
      ]
     },
     "execution_count": 62,
     "metadata": {},
     "output_type": "execute_result"
    }
   ],
   "source": [
    "df_without_duplicates.loc[df_without_duplicates.duplicated(subset=['name', 'product_id'])] #находим дубликаты по 2 параметрам"
   ]
  },
  {
   "cell_type": "markdown",
   "id": "57563858",
   "metadata": {},
   "source": [
    "Дополнительное задание"
   ]
  },
  {
   "cell_type": "code",
   "execution_count": 19,
   "id": "74306c2c",
   "metadata": {
    "ExecuteTime": {
     "end_time": "2023-02-21T06:20:32.254623Z",
     "start_time": "2023-02-21T06:20:25.552085Z"
    }
   },
   "outputs": [
    {
     "name": "stdout",
     "output_type": "stream",
     "text": [
      "Requirement already satisfied: xlrd in c:\\users\\1\\appdata\\local\\programs\\python\\python310\\lib\\site-packages (2.0.1)\n"
     ]
    },
    {
     "name": "stderr",
     "output_type": "stream",
     "text": [
      "WARNING: You are using pip version 21.2.3; however, version 23.0.1 is available.\n",
      "You should consider upgrading via the 'C:\\Users\\1\\AppData\\Local\\Programs\\Python\\Python310\\python.exe -m pip install --upgrade pip' command.\n"
     ]
    }
   ],
   "source": [
    "!pip install xlrd"
   ]
  },
  {
   "cell_type": "code",
   "execution_count": 64,
   "id": "0ddff607",
   "metadata": {
    "ExecuteTime": {
     "end_time": "2023-02-21T07:35:38.494632Z",
     "start_time": "2023-02-21T07:35:38.271430Z"
    },
    "scrolled": true
   },
   "outputs": [],
   "source": [
    "inn = pd.read_excel('C:/Users/1/JupyterProjects/Karpov_courses_lessons_and_projects/module_python/all_data/4_inn.xls', index_col='#')"
   ]
  },
  {
   "cell_type": "code",
   "execution_count": 66,
   "id": "03ebdde5",
   "metadata": {
    "ExecuteTime": {
     "end_time": "2023-02-21T07:36:43.448398Z",
     "start_time": "2023-02-21T07:36:43.440402Z"
    },
    "scrolled": true
   },
   "outputs": [],
   "source": [
    "inn.drop('Unnamed: 0', axis=1, inplace=True)"
   ]
  },
  {
   "cell_type": "code",
   "execution_count": 68,
   "id": "346aaadb",
   "metadata": {
    "ExecuteTime": {
     "end_time": "2023-02-21T07:37:16.225237Z",
     "start_time": "2023-02-21T07:37:16.207824Z"
    }
   },
   "outputs": [
    {
     "data": {
      "text/html": [
       "<div>\n",
       "<style scoped>\n",
       "    .dataframe tbody tr th:only-of-type {\n",
       "        vertical-align: middle;\n",
       "    }\n",
       "\n",
       "    .dataframe tbody tr th {\n",
       "        vertical-align: top;\n",
       "    }\n",
       "\n",
       "    .dataframe thead th {\n",
       "        text-align: right;\n",
       "    }\n",
       "</style>\n",
       "<table border=\"1\" class=\"dataframe\">\n",
       "  <thead>\n",
       "    <tr style=\"text-align: right;\">\n",
       "      <th></th>\n",
       "      <th>name</th>\n",
       "      <th>reg_number</th>\n",
       "      <th>address</th>\n",
       "      <th>head</th>\n",
       "      <th>head_job</th>\n",
       "      <th>head_inn</th>\n",
       "      <th>phone</th>\n",
       "      <th>email</th>\n",
       "      <th>site</th>\n",
       "      <th>registration_date</th>\n",
       "      <th>nalogoplatelschik_code</th>\n",
       "      <th>oktmo_code</th>\n",
       "      <th>okato_code</th>\n",
       "      <th>registration_region</th>\n",
       "      <th>okato_name</th>\n",
       "      <th>field</th>\n",
       "      <th>capital,RUB</th>\n",
       "      <th>income,RUB</th>\n",
       "    </tr>\n",
       "    <tr>\n",
       "      <th>#</th>\n",
       "      <th></th>\n",
       "      <th></th>\n",
       "      <th></th>\n",
       "      <th></th>\n",
       "      <th></th>\n",
       "      <th></th>\n",
       "      <th></th>\n",
       "      <th></th>\n",
       "      <th></th>\n",
       "      <th></th>\n",
       "      <th></th>\n",
       "      <th></th>\n",
       "      <th></th>\n",
       "      <th></th>\n",
       "      <th></th>\n",
       "      <th></th>\n",
       "      <th></th>\n",
       "      <th></th>\n",
       "    </tr>\n",
       "  </thead>\n",
       "  <tbody>\n",
       "    <tr>\n",
       "      <th>0</th>\n",
       "      <td>ЗАО «Власова, Макаров и Шашков»</td>\n",
       "      <td>1143692580560</td>\n",
       "      <td>д. Кирово-Чепецк, пр. Металлургов, д. 537 к. 3...</td>\n",
       "      <td>Жданов Карл Виленович</td>\n",
       "      <td>Маммолог</td>\n",
       "      <td>109092209811</td>\n",
       "      <td>+7 (559) 338-87-76</td>\n",
       "      <td>bogdanovavtonom@yahoo.com</td>\n",
       "      <td>ooo.info</td>\n",
       "      <td>2015-01-07</td>\n",
       "      <td>2006-10-04</td>\n",
       "      <td>21112877268</td>\n",
       "      <td>73423615032</td>\n",
       "      <td>Ulan-Ude</td>\n",
       "      <td>к. Тосно, ул. Пушкинская, д. 896, 617222</td>\n",
       "      <td>Синхронизация критически важных отношений</td>\n",
       "      <td>54875526078</td>\n",
       "      <td>32205872896</td>\n",
       "    </tr>\n",
       "    <tr>\n",
       "      <th>1</th>\n",
       "      <td>РАО «Тимофеева, Алексеева и Кузнецова»</td>\n",
       "      <td>9342309660697</td>\n",
       "      <td>г. Арзамас, наб. Фестивальная, д. 7 стр. 8/2, ...</td>\n",
       "      <td>Рожков Харлампий Алексеевич</td>\n",
       "      <td>Воспитатель</td>\n",
       "      <td>704229465069</td>\n",
       "      <td>8 (632) 620-8879</td>\n",
       "      <td>safonovantonin@rao.org</td>\n",
       "      <td>ooo.net</td>\n",
       "      <td>1990-05-16</td>\n",
       "      <td>2019-01-18</td>\n",
       "      <td>18393547520</td>\n",
       "      <td>19072454279</td>\n",
       "      <td>Tyoply Stan</td>\n",
       "      <td>ст. Кяхта, бул. Нефтяников, д. 24, 768742</td>\n",
       "      <td>Формирование заказных методик</td>\n",
       "      <td>33876448811</td>\n",
       "      <td>47437574301</td>\n",
       "    </tr>\n",
       "    <tr>\n",
       "      <th>2</th>\n",
       "      <td>РАО «Юдин-Ефимова»</td>\n",
       "      <td>1277485323451</td>\n",
       "      <td>п. Меренга, алл. Достоевского, д. 3/4 к. 497, ...</td>\n",
       "      <td>Филимон Фадеевич Дьячков</td>\n",
       "      <td>Автослесарь</td>\n",
       "      <td>267655036377</td>\n",
       "      <td>+74925330378</td>\n",
       "      <td>kdorofeev@npo.ru</td>\n",
       "      <td>ao.com</td>\n",
       "      <td>1982-11-04</td>\n",
       "      <td>1986-06-19</td>\n",
       "      <td>56104355836</td>\n",
       "      <td>18629292792</td>\n",
       "      <td>Danilov</td>\n",
       "      <td>клх Усолье Сибирское, алл. Шишкина, д. 3/9 к. ...</td>\n",
       "      <td>Максимизация корпоративных метрик</td>\n",
       "      <td>94073834991</td>\n",
       "      <td>7701710065</td>\n",
       "    </tr>\n",
       "    <tr>\n",
       "      <th>3</th>\n",
       "      <td>Доронин Инкорпорэйтед</td>\n",
       "      <td>7139161431511</td>\n",
       "      <td>д. Иваново, ул. Красных Партизан, д. 83 к. 4, ...</td>\n",
       "      <td>Крылов Глеб Якубович</td>\n",
       "      <td>Тюремный надзиратель</td>\n",
       "      <td>362024991175</td>\n",
       "      <td>+7 118 643 21 48</td>\n",
       "      <td>nkulakova@mail.ru</td>\n",
       "      <td>ooo.ru</td>\n",
       "      <td>2005-01-02</td>\n",
       "      <td>2004-04-06</td>\n",
       "      <td>10398489351</td>\n",
       "      <td>32502585383</td>\n",
       "      <td>Beryozovsky</td>\n",
       "      <td>г. Заводоуковск, ул. Гражданская, д. 7 к. 8/5,...</td>\n",
       "      <td>Разработка ориентированных на пользователя инт...</td>\n",
       "      <td>86971505490</td>\n",
       "      <td>61148002572</td>\n",
       "    </tr>\n",
       "    <tr>\n",
       "      <th>4</th>\n",
       "      <td>Объединенная энергетическая компания</td>\n",
       "      <td>6114798049639</td>\n",
       "      <td>к. Энгельс, наб. Шишкина, д. 120, 823828</td>\n",
       "      <td>Субботин Вячеслав Федотович</td>\n",
       "      <td>Инженер-электрик</td>\n",
       "      <td>257948948010</td>\n",
       "      <td>8 642 249 2134</td>\n",
       "      <td>evgraf_18@yahoo.com</td>\n",
       "      <td>gerasimova.biz</td>\n",
       "      <td>1983-07-02</td>\n",
       "      <td>1992-06-20</td>\n",
       "      <td>20074507047</td>\n",
       "      <td>40083207999</td>\n",
       "      <td>Bavly</td>\n",
       "      <td>к. Соль-Илецк, пер. Пригородный, д. 804 к. 1/3...</td>\n",
       "      <td>Монетизация интуитивных веб-сервисов</td>\n",
       "      <td>36351136214</td>\n",
       "      <td>34861533393</td>\n",
       "    </tr>\n",
       "  </tbody>\n",
       "</table>\n",
       "</div>"
      ],
      "text/plain": [
       "                                     name     reg_number  \\\n",
       "#                                                          \n",
       "0         ЗАО «Власова, Макаров и Шашков»  1143692580560   \n",
       "1  РАО «Тимофеева, Алексеева и Кузнецова»  9342309660697   \n",
       "2                      РАО «Юдин-Ефимова»  1277485323451   \n",
       "3                   Доронин Инкорпорэйтед  7139161431511   \n",
       "4    Объединенная энергетическая компания  6114798049639   \n",
       "\n",
       "                                             address  \\\n",
       "#                                                      \n",
       "0  д. Кирово-Чепецк, пр. Металлургов, д. 537 к. 3...   \n",
       "1  г. Арзамас, наб. Фестивальная, д. 7 стр. 8/2, ...   \n",
       "2  п. Меренга, алл. Достоевского, д. 3/4 к. 497, ...   \n",
       "3  д. Иваново, ул. Красных Партизан, д. 83 к. 4, ...   \n",
       "4           к. Энгельс, наб. Шишкина, д. 120, 823828   \n",
       "\n",
       "                          head              head_job      head_inn  \\\n",
       "#                                                                    \n",
       "0        Жданов Карл Виленович              Маммолог  109092209811   \n",
       "1  Рожков Харлампий Алексеевич           Воспитатель  704229465069   \n",
       "2     Филимон Фадеевич Дьячков           Автослесарь  267655036377   \n",
       "3         Крылов Глеб Якубович  Тюремный надзиратель  362024991175   \n",
       "4  Субботин Вячеслав Федотович      Инженер-электрик  257948948010   \n",
       "\n",
       "                phone                      email            site  \\\n",
       "#                                                                  \n",
       "0  +7 (559) 338-87-76  bogdanovavtonom@yahoo.com        ooo.info   \n",
       "1    8 (632) 620-8879     safonovantonin@rao.org         ooo.net   \n",
       "2        +74925330378           kdorofeev@npo.ru          ao.com   \n",
       "3    +7 118 643 21 48          nkulakova@mail.ru          ooo.ru   \n",
       "4      8 642 249 2134        evgraf_18@yahoo.com  gerasimova.biz   \n",
       "\n",
       "  registration_date nalogoplatelschik_code   oktmo_code   okato_code  \\\n",
       "#                                                                      \n",
       "0        2015-01-07             2006-10-04  21112877268  73423615032   \n",
       "1        1990-05-16             2019-01-18  18393547520  19072454279   \n",
       "2        1982-11-04             1986-06-19  56104355836  18629292792   \n",
       "3        2005-01-02             2004-04-06  10398489351  32502585383   \n",
       "4        1983-07-02             1992-06-20  20074507047  40083207999   \n",
       "\n",
       "  registration_region                                         okato_name  \\\n",
       "#                                                                          \n",
       "0            Ulan-Ude           к. Тосно, ул. Пушкинская, д. 896, 617222   \n",
       "1         Tyoply Stan          ст. Кяхта, бул. Нефтяников, д. 24, 768742   \n",
       "2             Danilov  клх Усолье Сибирское, алл. Шишкина, д. 3/9 к. ...   \n",
       "3         Beryozovsky  г. Заводоуковск, ул. Гражданская, д. 7 к. 8/5,...   \n",
       "4               Bavly  к. Соль-Илецк, пер. Пригородный, д. 804 к. 1/3...   \n",
       "\n",
       "                                               field  capital,RUB   income,RUB  \n",
       "#                                                                               \n",
       "0          Синхронизация критически важных отношений  54875526078  32205872896  \n",
       "1                      Формирование заказных методик  33876448811  47437574301  \n",
       "2                  Максимизация корпоративных метрик  94073834991   7701710065  \n",
       "3  Разработка ориентированных на пользователя инт...  86971505490  61148002572  \n",
       "4               Монетизация интуитивных веб-сервисов  36351136214  34861533393  "
      ]
     },
     "execution_count": 68,
     "metadata": {},
     "output_type": "execute_result"
    }
   ],
   "source": [
    "inn.head()"
   ]
  },
  {
   "cell_type": "code",
   "execution_count": 69,
   "id": "0a7faf78",
   "metadata": {
    "ExecuteTime": {
     "end_time": "2023-02-21T07:37:32.529894Z",
     "start_time": "2023-02-21T07:37:32.521592Z"
    }
   },
   "outputs": [
    {
     "data": {
      "text/plain": [
       "(2110, 18)"
      ]
     },
     "execution_count": 69,
     "metadata": {},
     "output_type": "execute_result"
    }
   ],
   "source": [
    "inn.shape"
   ]
  },
  {
   "cell_type": "code",
   "execution_count": 80,
   "id": "c5f3439f",
   "metadata": {
    "ExecuteTime": {
     "end_time": "2023-02-21T07:40:03.780691Z",
     "start_time": "2023-02-21T07:40:03.763242Z"
    }
   },
   "outputs": [],
   "source": [
    "necessary_inn = []\n",
    "with open('C:/Users/1/JupyterProjects/Karpov_courses_lessons_and_projects/module_python/all_data/4_necessary_inn.txt') as f:\n",
    "    for line in f:\n",
    "        necessary_inn.append(int(line))"
   ]
  },
  {
   "cell_type": "code",
   "execution_count": 82,
   "id": "c8fdff62",
   "metadata": {
    "ExecuteTime": {
     "end_time": "2023-02-21T07:40:09.541626Z",
     "start_time": "2023-02-21T07:40:09.522653Z"
    }
   },
   "outputs": [],
   "source": [
    "inn = inn.query('head_inn in @necessary_inn')"
   ]
  },
  {
   "cell_type": "code",
   "execution_count": 83,
   "id": "8b259c3a",
   "metadata": {
    "ExecuteTime": {
     "end_time": "2023-02-21T07:40:10.366611Z",
     "start_time": "2023-02-21T07:40:10.359606Z"
    }
   },
   "outputs": [
    {
     "data": {
      "text/plain": [
       "(115, 18)"
      ]
     },
     "execution_count": 83,
     "metadata": {},
     "output_type": "execute_result"
    }
   ],
   "source": [
    "inn.shape"
   ]
  },
  {
   "cell_type": "code",
   "execution_count": 86,
   "id": "8ae45aab",
   "metadata": {
    "ExecuteTime": {
     "end_time": "2023-02-21T07:41:58.694659Z",
     "start_time": "2023-02-21T07:41:58.659929Z"
    }
   },
   "outputs": [],
   "source": [
    "inn.to_csv('selected_inn.csv', index=False)"
   ]
  },
  {
   "cell_type": "code",
   "execution_count": 87,
   "id": "fc950c89",
   "metadata": {
    "ExecuteTime": {
     "end_time": "2023-02-21T07:41:59.586345Z",
     "start_time": "2023-02-21T07:41:59.572410Z"
    }
   },
   "outputs": [
    {
     "data": {
      "text/plain": [
       "6104522627393"
      ]
     },
     "execution_count": 87,
     "metadata": {},
     "output_type": "execute_result"
    }
   ],
   "source": [
    "inn['income,RUB'].sum()"
   ]
  },
  {
   "cell_type": "code",
   "execution_count": null,
   "id": "92939e17",
   "metadata": {},
   "outputs": [],
   "source": []
  }
 ],
 "metadata": {
  "kernelspec": {
   "display_name": "Python 3 (ipykernel)",
   "language": "python",
   "name": "python3"
  },
  "language_info": {
   "codemirror_mode": {
    "name": "ipython",
    "version": 3
   },
   "file_extension": ".py",
   "mimetype": "text/x-python",
   "name": "python",
   "nbconvert_exporter": "python",
   "pygments_lexer": "ipython3",
   "version": "3.10.0"
  },
  "nbTranslate": {
   "displayLangs": [
    "*"
   ],
   "hotkey": "alt-t",
   "langInMainMenu": true,
   "sourceLang": "en",
   "targetLang": "fr",
   "useGoogleTranslate": true
  },
  "toc": {
   "base_numbering": 1,
   "nav_menu": {},
   "number_sections": true,
   "sideBar": true,
   "skip_h1_title": false,
   "title_cell": "Table of Contents",
   "title_sidebar": "Contents",
   "toc_cell": false,
   "toc_position": {},
   "toc_section_display": true,
   "toc_window_display": false
  },
  "varInspector": {
   "cols": {
    "lenName": 16,
    "lenType": 16,
    "lenVar": 40
   },
   "kernels_config": {
    "python": {
     "delete_cmd_postfix": "",
     "delete_cmd_prefix": "del ",
     "library": "var_list.py",
     "varRefreshCmd": "print(var_dic_list())"
    },
    "r": {
     "delete_cmd_postfix": ") ",
     "delete_cmd_prefix": "rm(",
     "library": "var_list.r",
     "varRefreshCmd": "cat(var_dic_list()) "
    }
   },
   "types_to_exclude": [
    "module",
    "function",
    "builtin_function_or_method",
    "instance",
    "_Feature"
   ],
   "window_display": false
  }
 },
 "nbformat": 4,
 "nbformat_minor": 5
}
