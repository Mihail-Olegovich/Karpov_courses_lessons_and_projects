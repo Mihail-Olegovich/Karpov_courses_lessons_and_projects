{
 "cells": [
  {
   "cell_type": "code",
   "execution_count": 2,
   "id": "5705c539",
   "metadata": {
    "ExecuteTime": {
     "end_time": "2023-02-18T07:46:32.561073Z",
     "start_time": "2023-02-18T07:46:29.225687Z"
    }
   },
   "outputs": [],
   "source": [
    "import pandas as pd\n",
    "import numpy as np\n",
    "import seaborn as sns\n",
    "import matplotlib.pyplot as plt"
   ]
  },
  {
   "cell_type": "code",
   "execution_count": 3,
   "id": "399b9b2b",
   "metadata": {
    "ExecuteTime": {
     "end_time": "2023-02-18T07:46:32.805296Z",
     "start_time": "2023-02-18T07:46:32.601095Z"
    },
    "scrolled": true
   },
   "outputs": [],
   "source": [
    "df = pd.read_csv('C:/Users/1/JupyterProjects/Karpov_curses_lessons_and_projects/module_python/all_data/train.csv')"
   ]
  },
  {
   "cell_type": "code",
   "execution_count": 4,
   "id": "f96ed059",
   "metadata": {
    "ExecuteTime": {
     "end_time": "2023-02-18T07:46:32.900536Z",
     "start_time": "2023-02-18T07:46:32.869308Z"
    }
   },
   "outputs": [
    {
     "data": {
      "text/html": [
       "<div>\n",
       "<style scoped>\n",
       "    .dataframe tbody tr th:only-of-type {\n",
       "        vertical-align: middle;\n",
       "    }\n",
       "\n",
       "    .dataframe tbody tr th {\n",
       "        vertical-align: top;\n",
       "    }\n",
       "\n",
       "    .dataframe thead th {\n",
       "        text-align: right;\n",
       "    }\n",
       "</style>\n",
       "<table border=\"1\" class=\"dataframe\">\n",
       "  <thead>\n",
       "    <tr style=\"text-align: right;\">\n",
       "      <th></th>\n",
       "      <th>key</th>\n",
       "      <th>fare_amount</th>\n",
       "      <th>pickup_datetime</th>\n",
       "      <th>pickup_longitude</th>\n",
       "      <th>pickup_latitude</th>\n",
       "      <th>dropoff_longitude</th>\n",
       "      <th>dropoff_latitude</th>\n",
       "      <th>passenger_count</th>\n",
       "    </tr>\n",
       "  </thead>\n",
       "  <tbody>\n",
       "    <tr>\n",
       "      <th>0</th>\n",
       "      <td>2009-06-15 17:26:21.0000001</td>\n",
       "      <td>4.5</td>\n",
       "      <td>2009-06-15 17:26:21 UTC</td>\n",
       "      <td>-73.844311</td>\n",
       "      <td>40.721319</td>\n",
       "      <td>-73.841610</td>\n",
       "      <td>40.712278</td>\n",
       "      <td>1</td>\n",
       "    </tr>\n",
       "    <tr>\n",
       "      <th>1</th>\n",
       "      <td>2010-01-05 16:52:16.0000002</td>\n",
       "      <td>16.9</td>\n",
       "      <td>2010-01-05 16:52:16 UTC</td>\n",
       "      <td>-74.016048</td>\n",
       "      <td>40.711303</td>\n",
       "      <td>-73.979268</td>\n",
       "      <td>40.782004</td>\n",
       "      <td>1</td>\n",
       "    </tr>\n",
       "    <tr>\n",
       "      <th>2</th>\n",
       "      <td>2011-08-18 00:35:00.00000049</td>\n",
       "      <td>5.7</td>\n",
       "      <td>2011-08-18 00:35:00 UTC</td>\n",
       "      <td>-73.982738</td>\n",
       "      <td>40.761270</td>\n",
       "      <td>-73.991242</td>\n",
       "      <td>40.750562</td>\n",
       "      <td>2</td>\n",
       "    </tr>\n",
       "    <tr>\n",
       "      <th>3</th>\n",
       "      <td>2012-04-21 04:30:42.0000001</td>\n",
       "      <td>7.7</td>\n",
       "      <td>2012-04-21 04:30:42 UTC</td>\n",
       "      <td>-73.987130</td>\n",
       "      <td>40.733143</td>\n",
       "      <td>-73.991567</td>\n",
       "      <td>40.758092</td>\n",
       "      <td>1</td>\n",
       "    </tr>\n",
       "    <tr>\n",
       "      <th>4</th>\n",
       "      <td>2010-03-09 07:51:00.000000135</td>\n",
       "      <td>5.3</td>\n",
       "      <td>2010-03-09 07:51:00 UTC</td>\n",
       "      <td>-73.968095</td>\n",
       "      <td>40.768008</td>\n",
       "      <td>-73.956655</td>\n",
       "      <td>40.783762</td>\n",
       "      <td>1</td>\n",
       "    </tr>\n",
       "  </tbody>\n",
       "</table>\n",
       "</div>"
      ],
      "text/plain": [
       "                             key  fare_amount          pickup_datetime  \\\n",
       "0    2009-06-15 17:26:21.0000001          4.5  2009-06-15 17:26:21 UTC   \n",
       "1    2010-01-05 16:52:16.0000002         16.9  2010-01-05 16:52:16 UTC   \n",
       "2   2011-08-18 00:35:00.00000049          5.7  2011-08-18 00:35:00 UTC   \n",
       "3    2012-04-21 04:30:42.0000001          7.7  2012-04-21 04:30:42 UTC   \n",
       "4  2010-03-09 07:51:00.000000135          5.3  2010-03-09 07:51:00 UTC   \n",
       "\n",
       "   pickup_longitude  pickup_latitude  dropoff_longitude  dropoff_latitude  \\\n",
       "0        -73.844311        40.721319         -73.841610         40.712278   \n",
       "1        -74.016048        40.711303         -73.979268         40.782004   \n",
       "2        -73.982738        40.761270         -73.991242         40.750562   \n",
       "3        -73.987130        40.733143         -73.991567         40.758092   \n",
       "4        -73.968095        40.768008         -73.956655         40.783762   \n",
       "\n",
       "   passenger_count  \n",
       "0                1  \n",
       "1                1  \n",
       "2                2  \n",
       "3                1  \n",
       "4                1  "
      ]
     },
     "execution_count": 4,
     "metadata": {},
     "output_type": "execute_result"
    }
   ],
   "source": [
    "df.head()"
   ]
  },
  {
   "cell_type": "markdown",
   "id": "fa912e35",
   "metadata": {},
   "source": [
    "Напишем функцию определения расстояния между пунктами отправления и прибытия"
   ]
  },
  {
   "attachments": {
    "image-2.png": {
     "image/png": "[encoded data removed]"
    }
   },
   "cell_type": "markdown",
   "id": "05a1990b",
   "metadata": {},
   "source": [
    "Формула Гаверсинуса для вычисления расстояния по дуге:\n",
    "![image-2.png](attachment:image-2.png)"
   ]
  },
  {
   "cell_type": "code",
   "execution_count": 5,
   "id": "2ae54b6a",
   "metadata": {
    "ExecuteTime": {
     "end_time": "2023-02-18T07:46:36.465841Z",
     "start_time": "2023-02-18T07:46:36.441888Z"
    }
   },
   "outputs": [],
   "source": [
    "def haversine(pickup_longitude, pickup_latitude, dropoff_longitude, dropoff_latitude, radius=6371):\n",
    "    pickup_longitude, pickup_latitude, dropoff_longitude, dropoff_latitude = \\\n",
    "    map(np.radians, [pickup_longitude, pickup_latitude, dropoff_longitude, dropoff_latitude]) #перевод в радианы\n",
    "    return 2 * radius *\\\n",
    "           np.arcsin(np.sqrt(np.power(np.sin((dropoff_latitude - pickup_latitude) / 2), 2)\\\n",
    "           + np.cos(pickup_latitude) * np.cos(dropoff_latitude)\\\n",
    "           * np.power(np.sin((dropoff_longitude - pickup_longitude) / 2), 2)))"
   ]
  },
  {
   "cell_type": "markdown",
   "id": "6e78892d",
   "metadata": {},
   "source": [
    "## Методы, использующие циклы"
   ]
  },
  {
   "cell_type": "markdown",
   "id": "46cc7b47",
   "metadata": {},
   "source": [
    "Используем itterrows()"
   ]
  },
  {
   "cell_type": "code",
   "execution_count": 6,
   "id": "033337ee",
   "metadata": {
    "ExecuteTime": {
     "end_time": "2023-02-18T07:46:44.586381Z",
     "start_time": "2023-02-18T07:46:37.201083Z"
    }
   },
   "outputs": [
    {
     "name": "stdout",
     "output_type": "stream",
     "text": [
      "CPU times: total: 7.22 s\n",
      "Wall time: 7.38 s\n"
     ]
    }
   ],
   "source": [
    "%%time\n",
    "df['distance'] = pd.Series(haversine(row['pickup_longitude'],\\\n",
    "                                     row['pickup_latitude'],\\\n",
    "                                     row['dropoff_longitude'],\\\n",
    "                                     row['dropoff_latitude'])\\\n",
    "                                     for i, row in df.iterrows())"
   ]
  },
  {
   "cell_type": "markdown",
   "id": "dd8de0bb",
   "metadata": {},
   "source": [
    "Используем itertuples()"
   ]
  },
  {
   "cell_type": "code",
   "execution_count": 7,
   "id": "179c5658",
   "metadata": {
    "ExecuteTime": {
     "end_time": "2023-02-18T07:46:46.681147Z",
     "start_time": "2023-02-18T07:46:44.674375Z"
    }
   },
   "outputs": [
    {
     "name": "stdout",
     "output_type": "stream",
     "text": [
      "CPU times: total: 1.98 s\n",
      "Wall time: 2 s\n"
     ]
    }
   ],
   "source": [
    "%%time\n",
    "df['distance'] = pd.Series(haversine(row.pickup_longitude,\\\n",
    "                                     row.pickup_latitude,\\\n",
    "                                     row.dropoff_longitude,\\\n",
    "                                     row.dropoff_latitude)\\\n",
    "                                     for row in df.itertuples())"
   ]
  },
  {
   "cell_type": "markdown",
   "id": "00c21450",
   "metadata": {},
   "source": [
    "Используем apply()"
   ]
  },
  {
   "cell_type": "code",
   "execution_count": 8,
   "id": "9cf45e4e",
   "metadata": {
    "ExecuteTime": {
     "end_time": "2023-02-18T07:46:49.916097Z",
     "start_time": "2023-02-18T07:46:46.745152Z"
    }
   },
   "outputs": [
    {
     "name": "stdout",
     "output_type": "stream",
     "text": [
      "CPU times: total: 3.16 s\n",
      "Wall time: 3.15 s\n"
     ]
    }
   ],
   "source": [
    "%%time\n",
    "df['distance'] = df.apply(lambda row: haversine(row[3], row[4], row[5], row[6]), axis=1)"
   ]
  },
  {
   "cell_type": "code",
   "execution_count": 9,
   "id": "b68d3274",
   "metadata": {
    "ExecuteTime": {
     "end_time": "2023-02-18T07:46:50.020124Z",
     "start_time": "2023-02-18T07:46:49.996122Z"
    }
   },
   "outputs": [],
   "source": [
    "#Самое большое расстояние \n",
    "longest = df.distance.max()"
   ]
  },
  {
   "cell_type": "code",
   "execution_count": 10,
   "id": "6bd4bff1",
   "metadata": {
    "ExecuteTime": {
     "end_time": "2023-02-18T07:46:50.100128Z",
     "start_time": "2023-02-18T07:46:50.084151Z"
    }
   },
   "outputs": [
    {
     "data": {
      "text/plain": [
       "8667.818812217454"
      ]
     },
     "execution_count": 10,
     "metadata": {},
     "output_type": "execute_result"
    }
   ],
   "source": [
    "longest"
   ]
  },
  {
   "cell_type": "markdown",
   "id": "0ffafefe",
   "metadata": {},
   "source": [
    "## Векторизация"
   ]
  },
  {
   "cell_type": "markdown",
   "id": "ad88edb5",
   "metadata": {},
   "source": [
    "Подаем на вход функции pd.Series"
   ]
  },
  {
   "cell_type": "code",
   "execution_count": 11,
   "id": "eef735ef",
   "metadata": {
    "ExecuteTime": {
     "end_time": "2023-02-18T07:46:50.174647Z",
     "start_time": "2023-02-18T07:46:50.142658Z"
    }
   },
   "outputs": [
    {
     "name": "stdout",
     "output_type": "stream",
     "text": [
      "CPU times: total: 31.2 ms\n",
      "Wall time: 16 ms\n"
     ]
    }
   ],
   "source": [
    "%%time\n",
    "df['distance'] = haversine(df['pickup_longitude'],\\\n",
    "                           df['pickup_latitude'],\\\n",
    "                           df['dropoff_longitude'],\\\n",
    "                           df['dropoff_latitude'])"
   ]
  },
  {
   "cell_type": "markdown",
   "id": "1ae1a968",
   "metadata": {},
   "source": [
    "Подаем на вход функции np.array"
   ]
  },
  {
   "cell_type": "code",
   "execution_count": 12,
   "id": "65aca9a4",
   "metadata": {
    "ExecuteTime": {
     "end_time": "2023-02-18T07:46:50.285141Z",
     "start_time": "2023-02-18T07:46:50.241943Z"
    }
   },
   "outputs": [
    {
     "name": "stdout",
     "output_type": "stream",
     "text": [
      "CPU times: total: 31.2 ms\n",
      "Wall time: 19.8 ms\n"
     ]
    }
   ],
   "source": [
    "%%time\n",
    "df['distance'] = haversine(df['pickup_longitude'].values,\\\n",
    "                           df['pickup_latitude'].values,\\\n",
    "                           df['dropoff_longitude'].values,\\\n",
    "                           df['dropoff_latitude'].values)"
   ]
  },
  {
   "cell_type": "markdown",
   "id": "2218108c",
   "metadata": {},
   "source": [
    "## Проверка поездки с аномально большим расстоянием"
   ]
  },
  {
   "cell_type": "code",
   "execution_count": 13,
   "id": "57f976f6",
   "metadata": {
    "ExecuteTime": {
     "end_time": "2023-02-18T07:46:50.381748Z",
     "start_time": "2023-02-18T07:46:50.341753Z"
    }
   },
   "outputs": [
    {
     "data": {
      "text/html": [
       "<div>\n",
       "<style scoped>\n",
       "    .dataframe tbody tr th:only-of-type {\n",
       "        vertical-align: middle;\n",
       "    }\n",
       "\n",
       "    .dataframe tbody tr th {\n",
       "        vertical-align: top;\n",
       "    }\n",
       "\n",
       "    .dataframe thead th {\n",
       "        text-align: right;\n",
       "    }\n",
       "</style>\n",
       "<table border=\"1\" class=\"dataframe\">\n",
       "  <thead>\n",
       "    <tr style=\"text-align: right;\">\n",
       "      <th></th>\n",
       "      <th>key</th>\n",
       "      <th>fare_amount</th>\n",
       "      <th>pickup_datetime</th>\n",
       "      <th>pickup_longitude</th>\n",
       "      <th>pickup_latitude</th>\n",
       "      <th>dropoff_longitude</th>\n",
       "      <th>dropoff_latitude</th>\n",
       "      <th>passenger_count</th>\n",
       "      <th>distance</th>\n",
       "    </tr>\n",
       "  </thead>\n",
       "  <tbody>\n",
       "    <tr>\n",
       "      <th>48996</th>\n",
       "      <td>2012-05-12 10:48:00.00000020</td>\n",
       "      <td>49.8</td>\n",
       "      <td>2012-05-12 10:48:00 UTC</td>\n",
       "      <td>-74.014917</td>\n",
       "      <td>40.713382</td>\n",
       "      <td>0.0</td>\n",
       "      <td>0.0</td>\n",
       "      <td>1</td>\n",
       "      <td>8667.818812</td>\n",
       "    </tr>\n",
       "  </tbody>\n",
       "</table>\n",
       "</div>"
      ],
      "text/plain": [
       "                                key  fare_amount          pickup_datetime  \\\n",
       "48996  2012-05-12 10:48:00.00000020         49.8  2012-05-12 10:48:00 UTC   \n",
       "\n",
       "       pickup_longitude  pickup_latitude  dropoff_longitude  dropoff_latitude  \\\n",
       "48996        -74.014917        40.713382                0.0               0.0   \n",
       "\n",
       "       passenger_count     distance  \n",
       "48996                1  8667.818812  "
      ]
     },
     "execution_count": 13,
     "metadata": {},
     "output_type": "execute_result"
    }
   ],
   "source": [
    "df.query('distance == @longest')"
   ]
  },
  {
   "cell_type": "markdown",
   "id": "3d2e9ff9",
   "metadata": {},
   "source": [
    "Попробуем найти еще записи с координатами посадки 0"
   ]
  },
  {
   "cell_type": "code",
   "execution_count": 14,
   "id": "e1edf192",
   "metadata": {
    "ExecuteTime": {
     "end_time": "2023-02-18T07:46:50.469743Z",
     "start_time": "2023-02-18T07:46:50.445742Z"
    }
   },
   "outputs": [
    {
     "data": {
      "text/plain": [
       "958"
      ]
     },
     "execution_count": 14,
     "metadata": {},
     "output_type": "execute_result"
    }
   ],
   "source": [
    "df.query('dropoff_longitude == 0 or dropoff_latitude == 0').count()[0]"
   ]
  },
  {
   "cell_type": "markdown",
   "id": "ca7c3f99",
   "metadata": {},
   "source": [
    "Построим распределения переменных координат начала и конца поездки"
   ]
  },
  {
   "cell_type": "code",
   "execution_count": 17,
   "id": "8cb49949",
   "metadata": {
    "ExecuteTime": {
     "end_time": "2023-02-18T07:48:12.736665Z",
     "start_time": "2023-02-18T07:48:12.184507Z"
    },
    "scrolled": false
   },
   "outputs": [
    {
     "data": {
      "text/plain": [
       "<AxesSubplot:xlabel='dropoff_latitude'>"
      ]
     },
     "execution_count": 17,
     "metadata": {},
     "output_type": "execute_result"
    },
    {
     "data": {
      "image/png": "[encoded data removed]",
      "text/plain": [
       "<Figure size 1440x720 with 4 Axes>"
      ]
     },
     "metadata": {
      "needs_background": "light"
     },
     "output_type": "display_data"
    }
   ],
   "source": [
    "fig, axes = plt.subplots(nrows=2, ncols=2, figsize=(20, 10), sharey='col', sharex=False)\n",
    "sns.boxplot(data=df, x='pickup_longitude', ax=axes.flatten()[0])\n",
    "sns.boxplot(data=df, x='pickup_latitude', ax=axes.flatten()[1])\n",
    "sns.boxplot(data=df, x='dropoff_longitude', ax=axes.flatten()[2])\n",
    "sns.boxplot(data=df, x='dropoff_latitude', ax=axes.flatten()[3])\n"
   ]
  },
  {
   "cell_type": "markdown",
   "id": "5612b1e9",
   "metadata": {},
   "source": [
    "Проведем фильтрацию данных для обнаружения самой дальней поездки\n",
    "Пусть \n",
    "10 < pickup_latitude < 120;\n",
    "pickup_longitude < -60;\n",
    "10 < dropoff_latitude;\n",
    "dropoff_longitude < -60"
   ]
  },
  {
   "cell_type": "code",
   "execution_count": 15,
   "id": "aded255b",
   "metadata": {
    "ExecuteTime": {
     "end_time": "2023-02-14T18:50:34.778677Z",
     "start_time": "2023-02-14T18:50:34.747064Z"
    }
   },
   "outputs": [],
   "source": [
    "max_distance = df.query('10 < pickup_latitude < 120\\\n",
    "            and pickup_longitude < -60\\\n",
    "            and 10 < dropoff_latitude\\\n",
    "            and dropoff_longitude < -60\\\n",
    "            and distance <= 50').distance.max()"
   ]
  },
  {
   "cell_type": "code",
   "execution_count": 16,
   "id": "f6eb1356",
   "metadata": {
    "ExecuteTime": {
     "end_time": "2023-02-14T18:50:36.905973Z",
     "start_time": "2023-02-14T18:50:36.890028Z"
    }
   },
   "outputs": [
    {
     "data": {
      "text/plain": [
       "44.74698812099567"
      ]
     },
     "execution_count": 16,
     "metadata": {},
     "output_type": "execute_result"
    }
   ],
   "source": [
    "max_distance #максимальная дистанция "
   ]
  },
  {
   "cell_type": "code",
   "execution_count": 17,
   "id": "fe8bda40",
   "metadata": {
    "ExecuteTime": {
     "end_time": "2023-02-14T18:51:46.819513Z",
     "start_time": "2023-02-14T18:51:46.796102Z"
    }
   },
   "outputs": [],
   "source": [
    "fare_amount_for_max_distance_trip = df.query('distance == @max_distance').fare_amount"
   ]
  },
  {
   "cell_type": "code",
   "execution_count": 18,
   "id": "ca327cd9",
   "metadata": {
    "ExecuteTime": {
     "end_time": "2023-02-14T18:51:48.167793Z",
     "start_time": "2023-02-14T18:51:48.148214Z"
    }
   },
   "outputs": [
    {
     "data": {
      "text/plain": [
       "136.0"
      ]
     },
     "execution_count": 18,
     "metadata": {},
     "output_type": "execute_result"
    }
   ],
   "source": [
    "fare_amount_for_max_distance_trip.values[0] #плата за поездку с максимальной дистанцией"
   ]
  },
  {
   "cell_type": "code",
   "execution_count": null,
   "id": "cf40cdce",
   "metadata": {},
   "outputs": [],
   "source": []
  }
 ],
 "metadata": {
  "kernelspec": {
   "display_name": "Python 3 (ipykernel)",
   "language": "python",
   "name": "python3"
  },
  "language_info": {
   "codemirror_mode": {
    "name": "ipython",
    "version": 3
   },
   "file_extension": ".py",
   "mimetype": "text/x-python",
   "name": "python",
   "nbconvert_exporter": "python",
   "pygments_lexer": "ipython3",
   "version": "3.10.0"
  },
  "nbTranslate": {
   "displayLangs": [
    "*"
   ],
   "hotkey": "alt-t",
   "langInMainMenu": true,
   "sourceLang": "en",
   "targetLang": "fr",
   "useGoogleTranslate": true
  },
  "toc": {
   "base_numbering": 1,
   "nav_menu": {},
   "number_sections": true,
   "sideBar": true,
   "skip_h1_title": false,
   "title_cell": "Table of Contents",
   "title_sidebar": "Contents",
   "toc_cell": false,
   "toc_position": {},
   "toc_section_display": true,
   "toc_window_display": false
  },
  "varInspector": {
   "cols": {
    "lenName": 16,
    "lenType": 16,
    "lenVar": 40
   },
   "kernels_config": {
    "python": {
     "delete_cmd_postfix": "",
     "delete_cmd_prefix": "del ",
     "library": "var_list.py",
     "varRefreshCmd": "print(var_dic_list())"
    },
    "r": {
     "delete_cmd_postfix": ") ",
     "delete_cmd_prefix": "rm(",
     "library": "var_list.r",
     "varRefreshCmd": "cat(var_dic_list()) "
    }
   },
   "types_to_exclude": [
    "module",
    "function",
    "builtin_function_or_method",
    "instance",
    "_Feature"
   ],
   "window_display": false
  }
 },
 "nbformat": 4,
 "nbformat_minor": 5
}
