{
 "cells": [
  {
   "cell_type": "code",
   "execution_count": 92,
   "id": "5705c539",
   "metadata": {
    "ExecuteTime": {
     "end_time": "2023-01-26T09:57:29.192537Z",
     "start_time": "2023-01-26T09:57:29.185482Z"
    }
   },
   "outputs": [],
   "source": [
    "import pandas as pd\n",
    "import numpy as np\n",
    "import seaborn as sns\n",
    "import matplotlib.pyplot as plt"
   ]
  },
  {
   "cell_type": "code",
   "execution_count": 63,
   "id": "399b9b2b",
   "metadata": {
    "ExecuteTime": {
     "end_time": "2023-01-26T09:16:19.950804Z",
     "start_time": "2023-01-26T09:16:19.773616Z"
    }
   },
   "outputs": [],
   "source": [
    "df = pd.read_csv('train.csv')"
   ]
  },
  {
   "cell_type": "code",
   "execution_count": 64,
   "id": "f96ed059",
   "metadata": {
    "ExecuteTime": {
     "end_time": "2023-01-26T09:16:19.980940Z",
     "start_time": "2023-01-26T09:16:19.953585Z"
    }
   },
   "outputs": [
    {
     "data": {
      "text/html": [
       "<div>\n",
       "<style scoped>\n",
       "    .dataframe tbody tr th:only-of-type {\n",
       "        vertical-align: middle;\n",
       "    }\n",
       "\n",
       "    .dataframe tbody tr th {\n",
       "        vertical-align: top;\n",
       "    }\n",
       "\n",
       "    .dataframe thead th {\n",
       "        text-align: right;\n",
       "    }\n",
       "</style>\n",
       "<table border=\"1\" class=\"dataframe\">\n",
       "  <thead>\n",
       "    <tr style=\"text-align: right;\">\n",
       "      <th></th>\n",
       "      <th>key</th>\n",
       "      <th>fare_amount</th>\n",
       "      <th>pickup_datetime</th>\n",
       "      <th>pickup_longitude</th>\n",
       "      <th>pickup_latitude</th>\n",
       "      <th>dropoff_longitude</th>\n",
       "      <th>dropoff_latitude</th>\n",
       "      <th>passenger_count</th>\n",
       "    </tr>\n",
       "  </thead>\n",
       "  <tbody>\n",
       "    <tr>\n",
       "      <th>0</th>\n",
       "      <td>2009-06-15 17:26:21.0000001</td>\n",
       "      <td>4.5</td>\n",
       "      <td>2009-06-15 17:26:21 UTC</td>\n",
       "      <td>-73.844311</td>\n",
       "      <td>40.721319</td>\n",
       "      <td>-73.841610</td>\n",
       "      <td>40.712278</td>\n",
       "      <td>1</td>\n",
       "    </tr>\n",
       "    <tr>\n",
       "      <th>1</th>\n",
       "      <td>2010-01-05 16:52:16.0000002</td>\n",
       "      <td>16.9</td>\n",
       "      <td>2010-01-05 16:52:16 UTC</td>\n",
       "      <td>-74.016048</td>\n",
       "      <td>40.711303</td>\n",
       "      <td>-73.979268</td>\n",
       "      <td>40.782004</td>\n",
       "      <td>1</td>\n",
       "    </tr>\n",
       "    <tr>\n",
       "      <th>2</th>\n",
       "      <td>2011-08-18 00:35:00.00000049</td>\n",
       "      <td>5.7</td>\n",
       "      <td>2011-08-18 00:35:00 UTC</td>\n",
       "      <td>-73.982738</td>\n",
       "      <td>40.761270</td>\n",
       "      <td>-73.991242</td>\n",
       "      <td>40.750562</td>\n",
       "      <td>2</td>\n",
       "    </tr>\n",
       "    <tr>\n",
       "      <th>3</th>\n",
       "      <td>2012-04-21 04:30:42.0000001</td>\n",
       "      <td>7.7</td>\n",
       "      <td>2012-04-21 04:30:42 UTC</td>\n",
       "      <td>-73.987130</td>\n",
       "      <td>40.733143</td>\n",
       "      <td>-73.991567</td>\n",
       "      <td>40.758092</td>\n",
       "      <td>1</td>\n",
       "    </tr>\n",
       "    <tr>\n",
       "      <th>4</th>\n",
       "      <td>2010-03-09 07:51:00.000000135</td>\n",
       "      <td>5.3</td>\n",
       "      <td>2010-03-09 07:51:00 UTC</td>\n",
       "      <td>-73.968095</td>\n",
       "      <td>40.768008</td>\n",
       "      <td>-73.956655</td>\n",
       "      <td>40.783762</td>\n",
       "      <td>1</td>\n",
       "    </tr>\n",
       "  </tbody>\n",
       "</table>\n",
       "</div>"
      ],
      "text/plain": [
       "                             key  fare_amount          pickup_datetime  \\\n",
       "0    2009-06-15 17:26:21.0000001          4.5  2009-06-15 17:26:21 UTC   \n",
       "1    2010-01-05 16:52:16.0000002         16.9  2010-01-05 16:52:16 UTC   \n",
       "2   2011-08-18 00:35:00.00000049          5.7  2011-08-18 00:35:00 UTC   \n",
       "3    2012-04-21 04:30:42.0000001          7.7  2012-04-21 04:30:42 UTC   \n",
       "4  2010-03-09 07:51:00.000000135          5.3  2010-03-09 07:51:00 UTC   \n",
       "\n",
       "   pickup_longitude  pickup_latitude  dropoff_longitude  dropoff_latitude  \\\n",
       "0        -73.844311        40.721319         -73.841610         40.712278   \n",
       "1        -74.016048        40.711303         -73.979268         40.782004   \n",
       "2        -73.982738        40.761270         -73.991242         40.750562   \n",
       "3        -73.987130        40.733143         -73.991567         40.758092   \n",
       "4        -73.968095        40.768008         -73.956655         40.783762   \n",
       "\n",
       "   passenger_count  \n",
       "0                1  \n",
       "1                1  \n",
       "2                2  \n",
       "3                1  \n",
       "4                1  "
      ]
     },
     "execution_count": 64,
     "metadata": {},
     "output_type": "execute_result"
    }
   ],
   "source": [
    "df.head()"
   ]
  },
  {
   "cell_type": "markdown",
   "id": "fa912e35",
   "metadata": {},
   "source": [
    "Напишем функцию определения расстояния между пунктами отправления и прибытия"
   ]
  },
  {
   "cell_type": "code",
   "execution_count": 65,
   "id": "64fb720e",
   "metadata": {
    "ExecuteTime": {
     "end_time": "2023-01-26T09:16:20.000665Z",
     "start_time": "2023-01-26T09:16:19.984251Z"
    }
   },
   "outputs": [],
   "source": [
    "#переведем широты и долготы в радианы\n",
    "df_rad = df[['pickup_longitude', 'pickup_latitude', 'dropoff_longitude', 'dropoff_latitude']].apply(np.radians)"
   ]
  },
  {
   "cell_type": "code",
   "execution_count": 66,
   "id": "8b753141",
   "metadata": {
    "ExecuteTime": {
     "end_time": "2023-01-26T09:16:20.030658Z",
     "start_time": "2023-01-26T09:16:20.004381Z"
    }
   },
   "outputs": [
    {
     "data": {
      "text/html": [
       "<div>\n",
       "<style scoped>\n",
       "    .dataframe tbody tr th:only-of-type {\n",
       "        vertical-align: middle;\n",
       "    }\n",
       "\n",
       "    .dataframe tbody tr th {\n",
       "        vertical-align: top;\n",
       "    }\n",
       "\n",
       "    .dataframe thead th {\n",
       "        text-align: right;\n",
       "    }\n",
       "</style>\n",
       "<table border=\"1\" class=\"dataframe\">\n",
       "  <thead>\n",
       "    <tr style=\"text-align: right;\">\n",
       "      <th></th>\n",
       "      <th>pickup_longitude</th>\n",
       "      <th>pickup_latitude</th>\n",
       "      <th>dropoff_longitude</th>\n",
       "      <th>dropoff_latitude</th>\n",
       "    </tr>\n",
       "  </thead>\n",
       "  <tbody>\n",
       "    <tr>\n",
       "      <th>0</th>\n",
       "      <td>-1.288826</td>\n",
       "      <td>0.710721</td>\n",
       "      <td>-1.288779</td>\n",
       "      <td>0.710563</td>\n",
       "    </tr>\n",
       "    <tr>\n",
       "      <th>1</th>\n",
       "      <td>-1.291824</td>\n",
       "      <td>0.710546</td>\n",
       "      <td>-1.291182</td>\n",
       "      <td>0.711780</td>\n",
       "    </tr>\n",
       "    <tr>\n",
       "      <th>2</th>\n",
       "      <td>-1.291242</td>\n",
       "      <td>0.711418</td>\n",
       "      <td>-1.291391</td>\n",
       "      <td>0.711231</td>\n",
       "    </tr>\n",
       "    <tr>\n",
       "      <th>3</th>\n",
       "      <td>-1.291319</td>\n",
       "      <td>0.710927</td>\n",
       "      <td>-1.291396</td>\n",
       "      <td>0.711363</td>\n",
       "    </tr>\n",
       "    <tr>\n",
       "      <th>4</th>\n",
       "      <td>-1.290987</td>\n",
       "      <td>0.711536</td>\n",
       "      <td>-1.290787</td>\n",
       "      <td>0.711811</td>\n",
       "    </tr>\n",
       "    <tr>\n",
       "      <th>...</th>\n",
       "      <td>...</td>\n",
       "      <td>...</td>\n",
       "      <td>...</td>\n",
       "      <td>...</td>\n",
       "    </tr>\n",
       "    <tr>\n",
       "      <th>49995</th>\n",
       "      <td>-1.291543</td>\n",
       "      <td>0.711196</td>\n",
       "      <td>-1.291839</td>\n",
       "      <td>0.710454</td>\n",
       "    </tr>\n",
       "    <tr>\n",
       "      <th>49996</th>\n",
       "      <td>-1.291278</td>\n",
       "      <td>0.711540</td>\n",
       "      <td>-1.291323</td>\n",
       "      <td>0.711407</td>\n",
       "    </tr>\n",
       "    <tr>\n",
       "      <th>49997</th>\n",
       "      <td>-1.291591</td>\n",
       "      <td>0.711037</td>\n",
       "      <td>-1.291511</td>\n",
       "      <td>0.711387</td>\n",
       "    </tr>\n",
       "    <tr>\n",
       "      <th>49998</th>\n",
       "      <td>-1.290602</td>\n",
       "      <td>0.711703</td>\n",
       "      <td>-1.290731</td>\n",
       "      <td>0.711740</td>\n",
       "    </tr>\n",
       "    <tr>\n",
       "      <th>49999</th>\n",
       "      <td>-1.290367</td>\n",
       "      <td>0.711463</td>\n",
       "      <td>-1.290367</td>\n",
       "      <td>0.711463</td>\n",
       "    </tr>\n",
       "  </tbody>\n",
       "</table>\n",
       "<p>50000 rows × 4 columns</p>\n",
       "</div>"
      ],
      "text/plain": [
       "       pickup_longitude  pickup_latitude  dropoff_longitude  dropoff_latitude\n",
       "0             -1.288826         0.710721          -1.288779          0.710563\n",
       "1             -1.291824         0.710546          -1.291182          0.711780\n",
       "2             -1.291242         0.711418          -1.291391          0.711231\n",
       "3             -1.291319         0.710927          -1.291396          0.711363\n",
       "4             -1.290987         0.711536          -1.290787          0.711811\n",
       "...                 ...              ...                ...               ...\n",
       "49995         -1.291543         0.711196          -1.291839          0.710454\n",
       "49996         -1.291278         0.711540          -1.291323          0.711407\n",
       "49997         -1.291591         0.711037          -1.291511          0.711387\n",
       "49998         -1.290602         0.711703          -1.290731          0.711740\n",
       "49999         -1.290367         0.711463          -1.290367          0.711463\n",
       "\n",
       "[50000 rows x 4 columns]"
      ]
     },
     "execution_count": 66,
     "metadata": {},
     "output_type": "execute_result"
    }
   ],
   "source": [
    "df_rad"
   ]
  },
  {
   "attachments": {
    "image-2.png": {
     "image/png": "[encoded data removed]"
    }
   },
   "cell_type": "markdown",
   "id": "05a1990b",
   "metadata": {},
   "source": [
    "Формула Гаверсинуса для вычисления расстояния по дуге:\n",
    "![image-2.png](attachment:image-2.png)"
   ]
  },
  {
   "cell_type": "code",
   "execution_count": 67,
   "id": "2ae54b6a",
   "metadata": {
    "ExecuteTime": {
     "end_time": "2023-01-26T09:16:20.040848Z",
     "start_time": "2023-01-26T09:16:20.034303Z"
    }
   },
   "outputs": [],
   "source": [
    "def haversine(pickup_longitude, pickup_latitude, dropoff_longitude, dropoff_latitude, radius=6371):\n",
    "    return 2 * radius *\\\n",
    "           np.arcsin(np.sqrt(np.power(np.sin((dropoff_latitude - pickup_latitude) / 2), 2)\\\n",
    "           + np.cos(pickup_latitude) * np.cos(dropoff_latitude)\\\n",
    "           * np.power(np.sin((dropoff_longitude - pickup_longitude) / 2), 2)))"
   ]
  },
  {
   "cell_type": "markdown",
   "id": "6e78892d",
   "metadata": {},
   "source": [
    "## Методы, использующие циклы"
   ]
  },
  {
   "cell_type": "markdown",
   "id": "46cc7b47",
   "metadata": {},
   "source": [
    "Используем itterrows()"
   ]
  },
  {
   "cell_type": "code",
   "execution_count": 86,
   "id": "033337ee",
   "metadata": {
    "ExecuteTime": {
     "end_time": "2023-01-26T09:30:08.233711Z",
     "start_time": "2023-01-26T09:30:00.887443Z"
    }
   },
   "outputs": [
    {
     "name": "stdout",
     "output_type": "stream",
     "text": [
      "CPU times: total: 7.27 s\n",
      "Wall time: 7.33 s\n"
     ]
    }
   ],
   "source": [
    "%%time\n",
    "df['distance'] = pd.Series(haversine(row['pickup_longitude'],\\\n",
    "                                     row['pickup_latitude'],\\\n",
    "                                     row['dropoff_longitude'],\\\n",
    "                                     row['dropoff_latitude'])\\\n",
    "                                     for i, row in df_rad.iterrows())"
   ]
  },
  {
   "cell_type": "markdown",
   "id": "dd8de0bb",
   "metadata": {},
   "source": [
    "Используем itertuples()"
   ]
  },
  {
   "cell_type": "code",
   "execution_count": 69,
   "id": "179c5658",
   "metadata": {
    "ExecuteTime": {
     "end_time": "2023-01-26T09:16:28.810966Z",
     "start_time": "2023-01-26T09:16:27.213723Z"
    }
   },
   "outputs": [
    {
     "name": "stdout",
     "output_type": "stream",
     "text": [
      "CPU times: total: 1.5 s\n",
      "Wall time: 1.56 s\n"
     ]
    }
   ],
   "source": [
    "%%time\n",
    "df['distance'] = pd.Series(haversine(row.pickup_longitude,\\\n",
    "                                     row.pickup_latitude,\\\n",
    "                                     row.dropoff_longitude,\\\n",
    "                                     row.dropoff_latitude)\\\n",
    "                                     for row in df_rad.itertuples())"
   ]
  },
  {
   "cell_type": "markdown",
   "id": "00c21450",
   "metadata": {},
   "source": [
    "Используем apply()"
   ]
  },
  {
   "cell_type": "code",
   "execution_count": 70,
   "id": "9cf45e4e",
   "metadata": {
    "ExecuteTime": {
     "end_time": "2023-01-26T09:16:31.760824Z",
     "start_time": "2023-01-26T09:16:28.813826Z"
    }
   },
   "outputs": [
    {
     "name": "stdout",
     "output_type": "stream",
     "text": [
      "CPU times: total: 2.89 s\n",
      "Wall time: 2.94 s\n"
     ]
    }
   ],
   "source": [
    "%%time\n",
    "df['distance'] = df_rad.apply(lambda row: haversine(row[0], row[1], row[2], row[3]), axis=1)"
   ]
  },
  {
   "cell_type": "code",
   "execution_count": 71,
   "id": "b68d3274",
   "metadata": {
    "ExecuteTime": {
     "end_time": "2023-01-26T09:16:31.781328Z",
     "start_time": "2023-01-26T09:16:31.763815Z"
    }
   },
   "outputs": [],
   "source": [
    "#Самое большое расстояние \n",
    "longest = df.distance.max()"
   ]
  },
  {
   "cell_type": "code",
   "execution_count": 72,
   "id": "6bd4bff1",
   "metadata": {
    "ExecuteTime": {
     "end_time": "2023-01-26T09:16:31.810866Z",
     "start_time": "2023-01-26T09:16:31.790403Z"
    }
   },
   "outputs": [
    {
     "data": {
      "text/plain": [
       "8667.818812217454"
      ]
     },
     "execution_count": 72,
     "metadata": {},
     "output_type": "execute_result"
    }
   ],
   "source": [
    "longest"
   ]
  },
  {
   "cell_type": "markdown",
   "id": "0ffafefe",
   "metadata": {},
   "source": [
    "## Векторизация"
   ]
  },
  {
   "cell_type": "markdown",
   "id": "ad88edb5",
   "metadata": {},
   "source": [
    "Подаем на вход функции pd.Series"
   ]
  },
  {
   "cell_type": "code",
   "execution_count": 81,
   "id": "eef735ef",
   "metadata": {
    "ExecuteTime": {
     "end_time": "2023-01-26T09:25:54.552668Z",
     "start_time": "2023-01-26T09:25:54.532992Z"
    }
   },
   "outputs": [
    {
     "name": "stdout",
     "output_type": "stream",
     "text": [
      "CPU times: total: 15.6 ms\n",
      "Wall time: 10.8 ms\n"
     ]
    }
   ],
   "source": [
    "%%time\n",
    "df['distance'] = haversine(df_rad['pickup_longitude'],\\\n",
    "                           df_rad['pickup_latitude'],\\\n",
    "                           df_rad['dropoff_longitude'],\\\n",
    "                           df_rad['dropoff_latitude'])"
   ]
  },
  {
   "cell_type": "markdown",
   "id": "1ae1a968",
   "metadata": {},
   "source": [
    "Подаем на вход функции np.array"
   ]
  },
  {
   "cell_type": "code",
   "execution_count": 84,
   "id": "65aca9a4",
   "metadata": {
    "ExecuteTime": {
     "end_time": "2023-01-26T09:26:00.092652Z",
     "start_time": "2023-01-26T09:26:00.073868Z"
    }
   },
   "outputs": [
    {
     "name": "stdout",
     "output_type": "stream",
     "text": [
      "CPU times: total: 0 ns\n",
      "Wall time: 10.8 ms\n"
     ]
    }
   ],
   "source": [
    "%%time\n",
    "df['distance'] = haversine(df_rad['pickup_longitude'].values,\\\n",
    "                           df_rad['pickup_latitude'].values,\\\n",
    "                           df_rad['dropoff_longitude'].values,\\\n",
    "                           df_rad['dropoff_latitude'].values)"
   ]
  },
  {
   "cell_type": "markdown",
   "id": "2218108c",
   "metadata": {},
   "source": [
    "## Проверка поездки с аномально большим расстоянием"
   ]
  },
  {
   "cell_type": "code",
   "execution_count": 87,
   "id": "57f976f6",
   "metadata": {
    "ExecuteTime": {
     "end_time": "2023-01-26T09:51:25.202515Z",
     "start_time": "2023-01-26T09:51:25.165834Z"
    }
   },
   "outputs": [
    {
     "data": {
      "text/html": [
       "<div>\n",
       "<style scoped>\n",
       "    .dataframe tbody tr th:only-of-type {\n",
       "        vertical-align: middle;\n",
       "    }\n",
       "\n",
       "    .dataframe tbody tr th {\n",
       "        vertical-align: top;\n",
       "    }\n",
       "\n",
       "    .dataframe thead th {\n",
       "        text-align: right;\n",
       "    }\n",
       "</style>\n",
       "<table border=\"1\" class=\"dataframe\">\n",
       "  <thead>\n",
       "    <tr style=\"text-align: right;\">\n",
       "      <th></th>\n",
       "      <th>key</th>\n",
       "      <th>fare_amount</th>\n",
       "      <th>pickup_datetime</th>\n",
       "      <th>pickup_longitude</th>\n",
       "      <th>pickup_latitude</th>\n",
       "      <th>dropoff_longitude</th>\n",
       "      <th>dropoff_latitude</th>\n",
       "      <th>passenger_count</th>\n",
       "      <th>distance</th>\n",
       "    </tr>\n",
       "  </thead>\n",
       "  <tbody>\n",
       "    <tr>\n",
       "      <th>48996</th>\n",
       "      <td>2012-05-12 10:48:00.00000020</td>\n",
       "      <td>49.8</td>\n",
       "      <td>2012-05-12 10:48:00 UTC</td>\n",
       "      <td>-74.014917</td>\n",
       "      <td>40.713382</td>\n",
       "      <td>0.0</td>\n",
       "      <td>0.0</td>\n",
       "      <td>1</td>\n",
       "      <td>8667.818812</td>\n",
       "    </tr>\n",
       "  </tbody>\n",
       "</table>\n",
       "</div>"
      ],
      "text/plain": [
       "                                key  fare_amount          pickup_datetime  \\\n",
       "48996  2012-05-12 10:48:00.00000020         49.8  2012-05-12 10:48:00 UTC   \n",
       "\n",
       "       pickup_longitude  pickup_latitude  dropoff_longitude  dropoff_latitude  \\\n",
       "48996        -74.014917        40.713382                0.0               0.0   \n",
       "\n",
       "       passenger_count     distance  \n",
       "48996                1  8667.818812  "
      ]
     },
     "execution_count": 87,
     "metadata": {},
     "output_type": "execute_result"
    }
   ],
   "source": [
    "df.query('distance == @longest')"
   ]
  },
  {
   "cell_type": "markdown",
   "id": "3d2e9ff9",
   "metadata": {},
   "source": [
    "Попробуем найти еще записи с координатами посадки 0"
   ]
  },
  {
   "cell_type": "code",
   "execution_count": 90,
   "id": "e1edf192",
   "metadata": {
    "ExecuteTime": {
     "end_time": "2023-01-26T09:53:39.905275Z",
     "start_time": "2023-01-26T09:53:39.878755Z"
    }
   },
   "outputs": [
    {
     "data": {
      "text/plain": [
       "958"
      ]
     },
     "execution_count": 90,
     "metadata": {},
     "output_type": "execute_result"
    }
   ],
   "source": [
    "df.query('dropoff_longitude == 0 or dropoff_latitude == 0').count()[0]"
   ]
  },
  {
   "cell_type": "markdown",
   "id": "ca7c3f99",
   "metadata": {},
   "source": [
    "Построим распределения переменных координат начала и конца поездки"
   ]
  },
  {
   "cell_type": "code",
   "execution_count": 109,
   "id": "8cb49949",
   "metadata": {
    "ExecuteTime": {
     "end_time": "2023-01-26T10:42:48.113072Z",
     "start_time": "2023-01-26T10:42:46.734897Z"
    }
   },
   "outputs": [
    {
     "data": {
      "image/png": "[encoded data removed]",
      "text/plain": [
       "<Figure size 1440x720 with 4 Axes>"
      ]
     },
     "metadata": {
      "needs_background": "light"
     },
     "output_type": "display_data"
    }
   ],
   "source": [
    "fig, axes = plt.subplots(nrows=2, ncols=2, figsize=(20, 10), sharey='col', sharex=False)\n",
    "coord = ['pickup_longitude', 'pickup_latitude', 'dropoff_longitude', 'dropoff_latitude']\n",
    "for coord, ax in zip(coord, axes.flatten()): \n",
    "    ax.hist(df[coord], bins=50)\n",
    "plt.show()"
   ]
  },
  {
   "cell_type": "markdown",
   "id": "5612b1e9",
   "metadata": {},
   "source": [
    "Проведем фильтрацию данных для обнаружения самой дальней поездки\n",
    "Пусть \n",
    "10 < pickup_latitude < 120;\n",
    "pickup_longitude < -60;\n",
    "10 < dropoff_latitude;\n",
    "dropoff_longitude < -60"
   ]
  },
  {
   "cell_type": "code",
   "execution_count": 112,
   "id": "aded255b",
   "metadata": {
    "ExecuteTime": {
     "end_time": "2023-01-26T10:51:28.987266Z",
     "start_time": "2023-01-26T10:51:28.960440Z"
    }
   },
   "outputs": [],
   "source": [
    "max_distance = df.query('10 < pickup_latitude < 120\\\n",
    "            and pickup_longitude < -60\\\n",
    "            and 10 < dropoff_latitude\\\n",
    "            and dropoff_longitude < -60\\\n",
    "            and distance <= 50').distance.max()"
   ]
  },
  {
   "cell_type": "code",
   "execution_count": 114,
   "id": "f6eb1356",
   "metadata": {
    "ExecuteTime": {
     "end_time": "2023-01-26T10:51:57.086983Z",
     "start_time": "2023-01-26T10:51:57.060319Z"
    }
   },
   "outputs": [
    {
     "data": {
      "text/plain": [
       "44.74698812099567"
      ]
     },
     "execution_count": 114,
     "metadata": {},
     "output_type": "execute_result"
    }
   ],
   "source": [
    "max_distance #максимальная дистанция "
   ]
  },
  {
   "cell_type": "code",
   "execution_count": 117,
   "id": "fe8bda40",
   "metadata": {
    "ExecuteTime": {
     "end_time": "2023-01-26T10:53:47.863309Z",
     "start_time": "2023-01-26T10:53:47.848578Z"
    }
   },
   "outputs": [],
   "source": [
    "fare_amount_for_max_distance_trip = df.query('distance == @max_distance').fare_amount"
   ]
  },
  {
   "cell_type": "code",
   "execution_count": 121,
   "id": "ca327cd9",
   "metadata": {
    "ExecuteTime": {
     "end_time": "2023-01-26T10:55:41.707029Z",
     "start_time": "2023-01-26T10:55:41.683018Z"
    }
   },
   "outputs": [
    {
     "data": {
      "text/plain": [
       "136.0"
      ]
     },
     "execution_count": 121,
     "metadata": {},
     "output_type": "execute_result"
    }
   ],
   "source": [
    "fare_amount_for_max_distance_trip.values[0] #плата за поездку с максимальной дистанцией"
   ]
  },
  {
   "cell_type": "code",
   "execution_count": null,
   "id": "cf40cdce",
   "metadata": {},
   "outputs": [],
   "source": [
    "|"
   ]
  }
 ],
 "metadata": {
  "kernelspec": {
   "display_name": "Python 3 (ipykernel)",
   "language": "python",
   "name": "python3"
  },
  "language_info": {
   "codemirror_mode": {
    "name": "ipython",
    "version": 3
   },
   "file_extension": ".py",
   "mimetype": "text/x-python",
   "name": "python",
   "nbconvert_exporter": "python",
   "pygments_lexer": "ipython3",
   "version": "3.10.0"
  },
  "nbTranslate": {
   "displayLangs": [
    "*"
   ],
   "hotkey": "alt-t",
   "langInMainMenu": true,
   "sourceLang": "en",
   "targetLang": "fr",
   "useGoogleTranslate": true
  },
  "toc": {
   "base_numbering": 1,
   "nav_menu": {},
   "number_sections": true,
   "sideBar": true,
   "skip_h1_title": false,
   "title_cell": "Table of Contents",
   "title_sidebar": "Contents",
   "toc_cell": false,
   "toc_position": {},
   "toc_section_display": true,
   "toc_window_display": false
  },
  "varInspector": {
   "cols": {
    "lenName": 16,
    "lenType": 16,
    "lenVar": 40
   },
   "kernels_config": {
    "python": {
     "delete_cmd_postfix": "",
     "delete_cmd_prefix": "del ",
     "library": "var_list.py",
     "varRefreshCmd": "print(var_dic_list())"
    },
    "r": {
     "delete_cmd_postfix": ") ",
     "delete_cmd_prefix": "rm(",
     "library": "var_list.r",
     "varRefreshCmd": "cat(var_dic_list()) "
    }
   },
   "types_to_exclude": [
    "module",
    "function",
    "builtin_function_or_method",
    "instance",
    "_Feature"
   ],
   "window_display": false
  }
 },
 "nbformat": 4,
 "nbformat_minor": 5
}
