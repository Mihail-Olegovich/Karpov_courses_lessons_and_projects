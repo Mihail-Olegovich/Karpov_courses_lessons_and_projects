{
 "cells": [
  {
   "cell_type": "code",
   "execution_count": 2,
   "metadata": {
    "ExecuteTime": {
     "end_time": "2023-02-01T07:47:04.937495Z",
     "start_time": "2023-02-01T07:46:55.799845Z"
    }
   },
   "outputs": [],
   "source": [
    "import pandas as pd\n",
    "import seaborn as sns\n",
    "import matplotlib.pyplot as plt\n",
    "\n",
    "%matplotlib inline "
   ]
  },
  {
   "cell_type": "code",
   "execution_count": 3,
   "metadata": {
    "ExecuteTime": {
     "end_time": "2023-02-01T07:47:04.985521Z",
     "start_time": "2023-02-01T07:47:04.976501Z"
    }
   },
   "outputs": [],
   "source": [
    "# Получить статистику по дням. \n",
    "# Просто посчитать число всех событий по дням, число показов, число кликов, число уникальных объявлений и уникальных кампаний.\n",
    "# Разобраться, почему случился такой скачок 2019-04-05? Каких событий стало больше? У всех объявлений или только у некоторых?\n",
    "\n",
    "# Найти топ 10 объявлений по CTR за все время. CTR — это отношение всех просмотров объявления к кликам. Например, если у объявления было 100 показов и 2 клика, CTR = 0.02. Различается ли средний и медианный CTR объявлений в наших данных?\n",
    "\n",
    "# Похоже, в наших логах есть баг, объявления приходят с кликами, но без показов! \n",
    "# Сколько таких объявлений, есть ли какие-то закономерности? Эта проблема наблюдается на всех платформах?\n",
    "\n",
    "# Есть ли различия в CTR у объявлений с видео и без? А чему равняется 95 процентиль CTR по всем объявлениям за 2019-04-04?\n",
    "\n",
    "# Для финансового отчета нужно рассчитать наш заработок по дням. В какой день мы заработали больше всего? В какой меньше? Мы списываем с клиентов деньги, если произошел клик по CPC объявлению, и мы списываем деньги за каждый показ CPM объявления, если у CPM объявления цена - 200 рублей, то за один показ мы зарабатываем 200 / 1000.\n",
    "# Какая платформа самая популярная для размещения рекламных объявлений? Сколько процентов показов приходится на каждую из платформ (колонка platform)?\n",
    "\n",
    "# А есть ли такие объявления, по которым сначала произошел клик, а только потом показ?"
   ]
  },
  {
   "cell_type": "code",
   "execution_count": 5,
   "metadata": {
    "ExecuteTime": {
     "end_time": "2023-02-01T07:48:11.864554Z",
     "start_time": "2023-02-01T07:48:06.077882Z"
    }
   },
   "outputs": [],
   "source": [
    "ads_data = pd.read_csv('C:/Users/1/JupyterProjects/Karpov_curses_lessons_and_projects/lesson_5_ads_data.csv.zip', compression='zip')"
   ]
  },
  {
   "cell_type": "code",
   "execution_count": 6,
   "metadata": {
    "ExecuteTime": {
     "end_time": "2023-02-01T07:48:13.833428Z",
     "start_time": "2023-02-01T07:48:13.695402Z"
    }
   },
   "outputs": [],
   "source": [
    "ads_data['full_date'] = pd.to_datetime(ads_data.time, unit='s')"
   ]
  },
  {
   "cell_type": "code",
   "execution_count": 7,
   "metadata": {
    "ExecuteTime": {
     "end_time": "2023-02-01T07:48:15.168068Z",
     "start_time": "2023-02-01T07:48:14.628021Z"
    }
   },
   "outputs": [],
   "source": [
    "ads_data['date'] = pd.to_datetime(ads_data.date)"
   ]
  },
  {
   "cell_type": "code",
   "execution_count": 8,
   "metadata": {
    "ExecuteTime": {
     "end_time": "2023-02-01T07:48:15.785617Z",
     "start_time": "2023-02-01T07:48:15.755613Z"
    }
   },
   "outputs": [
    {
     "data": {
      "text/html": [
       "<div>\n",
       "<style scoped>\n",
       "    .dataframe tbody tr th:only-of-type {\n",
       "        vertical-align: middle;\n",
       "    }\n",
       "\n",
       "    .dataframe tbody tr th {\n",
       "        vertical-align: top;\n",
       "    }\n",
       "\n",
       "    .dataframe thead th {\n",
       "        text-align: right;\n",
       "    }\n",
       "</style>\n",
       "<table border=\"1\" class=\"dataframe\">\n",
       "  <thead>\n",
       "    <tr style=\"text-align: right;\">\n",
       "      <th></th>\n",
       "      <th>ad_id</th>\n",
       "      <th>time</th>\n",
       "      <th>event</th>\n",
       "      <th>date</th>\n",
       "      <th>ad_cost_type</th>\n",
       "      <th>has_video</th>\n",
       "      <th>client_union_id</th>\n",
       "      <th>campaign_union_id</th>\n",
       "      <th>platform</th>\n",
       "      <th>ad_cost</th>\n",
       "      <th>target_audience_count</th>\n",
       "      <th>user_id</th>\n",
       "      <th>full_date</th>\n",
       "    </tr>\n",
       "  </thead>\n",
       "  <tbody>\n",
       "    <tr>\n",
       "      <th>0</th>\n",
       "      <td>23456</td>\n",
       "      <td>1554076848</td>\n",
       "      <td>view</td>\n",
       "      <td>2019-04-01</td>\n",
       "      <td>CPM</td>\n",
       "      <td>0</td>\n",
       "      <td>5681</td>\n",
       "      <td>23456</td>\n",
       "      <td>android</td>\n",
       "      <td>190.0</td>\n",
       "      <td>125560</td>\n",
       "      <td>793</td>\n",
       "      <td>2019-04-01 00:00:48</td>\n",
       "    </tr>\n",
       "    <tr>\n",
       "      <th>1</th>\n",
       "      <td>111941</td>\n",
       "      <td>1554135866</td>\n",
       "      <td>view</td>\n",
       "      <td>2019-04-01</td>\n",
       "      <td>CPM</td>\n",
       "      <td>0</td>\n",
       "      <td>111793</td>\n",
       "      <td>111941</td>\n",
       "      <td>ios</td>\n",
       "      <td>215.2</td>\n",
       "      <td>32277</td>\n",
       "      <td>1041</td>\n",
       "      <td>2019-04-01 16:24:26</td>\n",
       "    </tr>\n",
       "    <tr>\n",
       "      <th>2</th>\n",
       "      <td>111941</td>\n",
       "      <td>1554135866</td>\n",
       "      <td>view</td>\n",
       "      <td>2019-04-01</td>\n",
       "      <td>CPM</td>\n",
       "      <td>0</td>\n",
       "      <td>111793</td>\n",
       "      <td>111941</td>\n",
       "      <td>ios</td>\n",
       "      <td>215.2</td>\n",
       "      <td>32277</td>\n",
       "      <td>41</td>\n",
       "      <td>2019-04-01 16:24:26</td>\n",
       "    </tr>\n",
       "    <tr>\n",
       "      <th>3</th>\n",
       "      <td>42987</td>\n",
       "      <td>1554135866</td>\n",
       "      <td>view</td>\n",
       "      <td>2019-04-01</td>\n",
       "      <td>CPM</td>\n",
       "      <td>0</td>\n",
       "      <td>28541</td>\n",
       "      <td>42985</td>\n",
       "      <td>ios</td>\n",
       "      <td>199.1</td>\n",
       "      <td>80160</td>\n",
       "      <td>898</td>\n",
       "      <td>2019-04-01 16:24:26</td>\n",
       "    </tr>\n",
       "    <tr>\n",
       "      <th>4</th>\n",
       "      <td>23456</td>\n",
       "      <td>1554135866</td>\n",
       "      <td>view</td>\n",
       "      <td>2019-04-01</td>\n",
       "      <td>CPM</td>\n",
       "      <td>0</td>\n",
       "      <td>5681</td>\n",
       "      <td>23456</td>\n",
       "      <td>web</td>\n",
       "      <td>190.0</td>\n",
       "      <td>125560</td>\n",
       "      <td>29</td>\n",
       "      <td>2019-04-01 16:24:26</td>\n",
       "    </tr>\n",
       "  </tbody>\n",
       "</table>\n",
       "</div>"
      ],
      "text/plain": [
       "    ad_id        time event       date ad_cost_type  has_video  \\\n",
       "0   23456  1554076848  view 2019-04-01          CPM          0   \n",
       "1  111941  1554135866  view 2019-04-01          CPM          0   \n",
       "2  111941  1554135866  view 2019-04-01          CPM          0   \n",
       "3   42987  1554135866  view 2019-04-01          CPM          0   \n",
       "4   23456  1554135866  view 2019-04-01          CPM          0   \n",
       "\n",
       "   client_union_id  campaign_union_id platform  ad_cost  \\\n",
       "0             5681              23456  android    190.0   \n",
       "1           111793             111941      ios    215.2   \n",
       "2           111793             111941      ios    215.2   \n",
       "3            28541              42985      ios    199.1   \n",
       "4             5681              23456      web    190.0   \n",
       "\n",
       "   target_audience_count  user_id           full_date  \n",
       "0                 125560      793 2019-04-01 00:00:48  \n",
       "1                  32277     1041 2019-04-01 16:24:26  \n",
       "2                  32277       41 2019-04-01 16:24:26  \n",
       "3                  80160      898 2019-04-01 16:24:26  \n",
       "4                 125560       29 2019-04-01 16:24:26  "
      ]
     },
     "execution_count": 8,
     "metadata": {},
     "output_type": "execute_result"
    }
   ],
   "source": [
    "ads_data.head()"
   ]
  },
  {
   "cell_type": "code",
   "execution_count": null,
   "metadata": {},
   "outputs": [],
   "source": []
  },
  {
   "cell_type": "code",
   "execution_count": 9,
   "metadata": {
    "ExecuteTime": {
     "end_time": "2023-02-01T07:48:18.528133Z",
     "start_time": "2023-02-01T07:48:18.520104Z"
    }
   },
   "outputs": [],
   "source": [
    "# Получить статистику по дням. \n",
    "# Просто посчитать число всех событий по дням, число показов, число кликов, число уникальных объявлений и уникальных кампаний.\n",
    "# Разобраться, почему случился такой скачок 2019-04-05? Каких событий стало больше? У всех объявлений или только у некоторых?\n"
   ]
  },
  {
   "cell_type": "code",
   "execution_count": 10,
   "metadata": {
    "ExecuteTime": {
     "end_time": "2023-02-01T07:48:19.252708Z",
     "start_time": "2023-02-01T07:48:18.848289Z"
    }
   },
   "outputs": [
    {
     "data": {
      "text/plain": [
       "<AxesSubplot:xlabel='date'>"
      ]
     },
     "execution_count": 10,
     "metadata": {},
     "output_type": "execute_result"
    },
    {
     "data": {
      "image/png": "[encoded data removed]",
      "text/plain": [
       "<Figure size 432x288 with 1 Axes>"
      ]
     },
     "metadata": {
      "needs_background": "light"
     },
     "output_type": "display_data"
    }
   ],
   "source": [
    "ads_data.groupby('date') \\\n",
    "    .agg({'ad_id': 'count'}).plot()"
   ]
  },
  {
   "cell_type": "code",
   "execution_count": 11,
   "metadata": {
    "ExecuteTime": {
     "end_time": "2023-02-01T07:48:20.709871Z",
     "start_time": "2023-02-01T07:48:20.272510Z"
    }
   },
   "outputs": [
    {
     "data": {
      "text/html": [
       "<div>\n",
       "<style scoped>\n",
       "    .dataframe tbody tr th:only-of-type {\n",
       "        vertical-align: middle;\n",
       "    }\n",
       "\n",
       "    .dataframe tbody tr th {\n",
       "        vertical-align: top;\n",
       "    }\n",
       "\n",
       "    .dataframe thead th {\n",
       "        text-align: right;\n",
       "    }\n",
       "</style>\n",
       "<table border=\"1\" class=\"dataframe\">\n",
       "  <thead>\n",
       "    <tr style=\"text-align: right;\">\n",
       "      <th>event</th>\n",
       "      <th>date</th>\n",
       "      <th>click</th>\n",
       "      <th>view</th>\n",
       "    </tr>\n",
       "  </thead>\n",
       "  <tbody>\n",
       "    <tr>\n",
       "      <th>0</th>\n",
       "      <td>2019-04-01</td>\n",
       "      <td>735</td>\n",
       "      <td>34832</td>\n",
       "    </tr>\n",
       "    <tr>\n",
       "      <th>1</th>\n",
       "      <td>2019-04-02</td>\n",
       "      <td>1518</td>\n",
       "      <td>145811</td>\n",
       "    </tr>\n",
       "    <tr>\n",
       "      <th>2</th>\n",
       "      <td>2019-04-03</td>\n",
       "      <td>1678</td>\n",
       "      <td>214851</td>\n",
       "    </tr>\n",
       "    <tr>\n",
       "      <th>3</th>\n",
       "      <td>2019-04-04</td>\n",
       "      <td>1517</td>\n",
       "      <td>126182</td>\n",
       "    </tr>\n",
       "    <tr>\n",
       "      <th>4</th>\n",
       "      <td>2019-04-05</td>\n",
       "      <td>501595</td>\n",
       "      <td>1783288</td>\n",
       "    </tr>\n",
       "    <tr>\n",
       "      <th>5</th>\n",
       "      <td>2019-04-06</td>\n",
       "      <td>80420</td>\n",
       "      <td>284287</td>\n",
       "    </tr>\n",
       "  </tbody>\n",
       "</table>\n",
       "</div>"
      ],
      "text/plain": [
       "event       date   click     view\n",
       "0     2019-04-01     735    34832\n",
       "1     2019-04-02    1518   145811\n",
       "2     2019-04-03    1678   214851\n",
       "3     2019-04-04    1517   126182\n",
       "4     2019-04-05  501595  1783288\n",
       "5     2019-04-06   80420   284287"
      ]
     },
     "execution_count": 11,
     "metadata": {},
     "output_type": "execute_result"
    }
   ],
   "source": [
    "ads_data.groupby(['date', 'event'], as_index=False) \\\n",
    "    .agg({'ad_id': 'count'}) \\\n",
    "    .pivot(index='date', columns='event', values='ad_id').reset_index()"
   ]
  },
  {
   "cell_type": "code",
   "execution_count": 12,
   "metadata": {
    "ExecuteTime": {
     "end_time": "2023-02-01T07:48:22.623526Z",
     "start_time": "2023-02-01T07:48:22.178487Z"
    }
   },
   "outputs": [
    {
     "data": {
      "text/html": [
       "<div>\n",
       "<style scoped>\n",
       "    .dataframe tbody tr th:only-of-type {\n",
       "        vertical-align: middle;\n",
       "    }\n",
       "\n",
       "    .dataframe tbody tr th {\n",
       "        vertical-align: top;\n",
       "    }\n",
       "\n",
       "    .dataframe thead th {\n",
       "        text-align: right;\n",
       "    }\n",
       "</style>\n",
       "<table border=\"1\" class=\"dataframe\">\n",
       "  <thead>\n",
       "    <tr style=\"text-align: right;\">\n",
       "      <th></th>\n",
       "      <th>time</th>\n",
       "    </tr>\n",
       "    <tr>\n",
       "      <th>ad_id</th>\n",
       "      <th></th>\n",
       "    </tr>\n",
       "  </thead>\n",
       "  <tbody>\n",
       "    <tr>\n",
       "      <th>112583</th>\n",
       "      <td>2166611</td>\n",
       "    </tr>\n",
       "    <tr>\n",
       "      <th>29927</th>\n",
       "      <td>27186</td>\n",
       "    </tr>\n",
       "    <tr>\n",
       "      <th>44635</th>\n",
       "      <td>8268</td>\n",
       "    </tr>\n",
       "    <tr>\n",
       "      <th>46583</th>\n",
       "      <td>7327</td>\n",
       "    </tr>\n",
       "    <tr>\n",
       "      <th>44956</th>\n",
       "      <td>5656</td>\n",
       "    </tr>\n",
       "  </tbody>\n",
       "</table>\n",
       "</div>"
      ],
      "text/plain": [
       "           time\n",
       "ad_id          \n",
       "112583  2166611\n",
       "29927     27186\n",
       "44635      8268\n",
       "46583      7327\n",
       "44956      5656"
      ]
     },
     "execution_count": 12,
     "metadata": {},
     "output_type": "execute_result"
    }
   ],
   "source": [
    "ads_data[ads_data.date == '2019-04-05'] \\\n",
    "    .groupby('ad_id') \\\n",
    "    .agg({'time': 'count'}) \\\n",
    "    .sort_values('time', ascending=False) \\\n",
    "    .head()"
   ]
  },
  {
   "cell_type": "code",
   "execution_count": 13,
   "metadata": {
    "ExecuteTime": {
     "end_time": "2023-02-01T07:48:23.240153Z",
     "start_time": "2023-02-01T07:48:23.224152Z"
    }
   },
   "outputs": [],
   "source": [
    "ad_id = 112583"
   ]
  },
  {
   "cell_type": "code",
   "execution_count": 14,
   "metadata": {
    "ExecuteTime": {
     "end_time": "2023-02-01T07:48:24.552324Z",
     "start_time": "2023-02-01T07:48:24.222290Z"
    }
   },
   "outputs": [
    {
     "data": {
      "text/html": [
       "<div>\n",
       "<style scoped>\n",
       "    .dataframe tbody tr th:only-of-type {\n",
       "        vertical-align: middle;\n",
       "    }\n",
       "\n",
       "    .dataframe tbody tr th {\n",
       "        vertical-align: top;\n",
       "    }\n",
       "\n",
       "    .dataframe thead th {\n",
       "        text-align: right;\n",
       "    }\n",
       "</style>\n",
       "<table border=\"1\" class=\"dataframe\">\n",
       "  <thead>\n",
       "    <tr style=\"text-align: right;\">\n",
       "      <th></th>\n",
       "      <th>ad_id</th>\n",
       "      <th>time</th>\n",
       "      <th>event</th>\n",
       "      <th>date</th>\n",
       "      <th>ad_cost_type</th>\n",
       "      <th>has_video</th>\n",
       "      <th>client_union_id</th>\n",
       "      <th>campaign_union_id</th>\n",
       "      <th>platform</th>\n",
       "      <th>ad_cost</th>\n",
       "      <th>target_audience_count</th>\n",
       "      <th>user_id</th>\n",
       "      <th>full_date</th>\n",
       "    </tr>\n",
       "  </thead>\n",
       "  <tbody>\n",
       "    <tr>\n",
       "      <th>527124</th>\n",
       "      <td>112583</td>\n",
       "      <td>1554480636</td>\n",
       "      <td>view</td>\n",
       "      <td>2019-04-05</td>\n",
       "      <td>CPM</td>\n",
       "      <td>0</td>\n",
       "      <td>111818</td>\n",
       "      <td>112260</td>\n",
       "      <td>web</td>\n",
       "      <td>199.4</td>\n",
       "      <td>239408</td>\n",
       "      <td>4355</td>\n",
       "      <td>2019-04-05 16:10:36</td>\n",
       "    </tr>\n",
       "  </tbody>\n",
       "</table>\n",
       "</div>"
      ],
      "text/plain": [
       "         ad_id        time event       date ad_cost_type  has_video  \\\n",
       "527124  112583  1554480636  view 2019-04-05          CPM          0   \n",
       "\n",
       "        client_union_id  campaign_union_id platform  ad_cost  \\\n",
       "527124           111818             112260      web    199.4   \n",
       "\n",
       "        target_audience_count  user_id           full_date  \n",
       "527124                 239408     4355 2019-04-05 16:10:36  "
      ]
     },
     "execution_count": 14,
     "metadata": {},
     "output_type": "execute_result"
    }
   ],
   "source": [
    "ads_data.query('ad_id == @ad_id').head(1)\n"
   ]
  },
  {
   "cell_type": "code",
   "execution_count": 16,
   "metadata": {
    "ExecuteTime": {
     "end_time": "2023-02-01T07:48:44.282333Z",
     "start_time": "2023-02-01T07:48:43.677273Z"
    }
   },
   "outputs": [
    {
     "data": {
      "text/html": [
       "<div>\n",
       "<style scoped>\n",
       "    .dataframe tbody tr th:only-of-type {\n",
       "        vertical-align: middle;\n",
       "    }\n",
       "\n",
       "    .dataframe tbody tr th {\n",
       "        vertical-align: top;\n",
       "    }\n",
       "\n",
       "    .dataframe thead th {\n",
       "        text-align: right;\n",
       "    }\n",
       "</style>\n",
       "<table border=\"1\" class=\"dataframe\">\n",
       "  <thead>\n",
       "    <tr style=\"text-align: right;\">\n",
       "      <th></th>\n",
       "      <th>date</th>\n",
       "      <th>ad_id</th>\n",
       "    </tr>\n",
       "  </thead>\n",
       "  <tbody>\n",
       "    <tr>\n",
       "      <th>0</th>\n",
       "      <td>2019-04-01</td>\n",
       "      <td>49</td>\n",
       "    </tr>\n",
       "    <tr>\n",
       "      <th>1</th>\n",
       "      <td>2019-04-02</td>\n",
       "      <td>146</td>\n",
       "    </tr>\n",
       "    <tr>\n",
       "      <th>2</th>\n",
       "      <td>2019-04-03</td>\n",
       "      <td>179</td>\n",
       "    </tr>\n",
       "    <tr>\n",
       "      <th>3</th>\n",
       "      <td>2019-04-04</td>\n",
       "      <td>150</td>\n",
       "    </tr>\n",
       "    <tr>\n",
       "      <th>4</th>\n",
       "      <td>2019-04-05</td>\n",
       "      <td>131</td>\n",
       "    </tr>\n",
       "    <tr>\n",
       "      <th>5</th>\n",
       "      <td>2019-04-06</td>\n",
       "      <td>61</td>\n",
       "    </tr>\n",
       "  </tbody>\n",
       "</table>\n",
       "</div>"
      ],
      "text/plain": [
       "        date  ad_id\n",
       "0 2019-04-01     49\n",
       "1 2019-04-02    146\n",
       "2 2019-04-03    179\n",
       "3 2019-04-04    150\n",
       "4 2019-04-05    131\n",
       "5 2019-04-06     61"
      ]
     },
     "execution_count": 16,
     "metadata": {},
     "output_type": "execute_result"
    }
   ],
   "source": [
    "ads_data.groupby('date', as_index=False)\\\n",
    "        .agg({'ad_id': 'nunique'})"
   ]
  },
  {
   "cell_type": "code",
   "execution_count": 17,
   "metadata": {
    "ExecuteTime": {
     "end_time": "2023-02-01T07:50:00.605748Z",
     "start_time": "2023-02-01T07:49:59.989702Z"
    }
   },
   "outputs": [
    {
     "data": {
      "text/html": [
       "<div>\n",
       "<style scoped>\n",
       "    .dataframe tbody tr th:only-of-type {\n",
       "        vertical-align: middle;\n",
       "    }\n",
       "\n",
       "    .dataframe tbody tr th {\n",
       "        vertical-align: top;\n",
       "    }\n",
       "\n",
       "    .dataframe thead th {\n",
       "        text-align: right;\n",
       "    }\n",
       "</style>\n",
       "<table border=\"1\" class=\"dataframe\">\n",
       "  <thead>\n",
       "    <tr style=\"text-align: right;\">\n",
       "      <th></th>\n",
       "      <th>date</th>\n",
       "      <th>campaign_union_id</th>\n",
       "    </tr>\n",
       "  </thead>\n",
       "  <tbody>\n",
       "    <tr>\n",
       "      <th>0</th>\n",
       "      <td>2019-04-01</td>\n",
       "      <td>49</td>\n",
       "    </tr>\n",
       "    <tr>\n",
       "      <th>1</th>\n",
       "      <td>2019-04-02</td>\n",
       "      <td>146</td>\n",
       "    </tr>\n",
       "    <tr>\n",
       "      <th>2</th>\n",
       "      <td>2019-04-03</td>\n",
       "      <td>177</td>\n",
       "    </tr>\n",
       "    <tr>\n",
       "      <th>3</th>\n",
       "      <td>2019-04-04</td>\n",
       "      <td>147</td>\n",
       "    </tr>\n",
       "    <tr>\n",
       "      <th>4</th>\n",
       "      <td>2019-04-05</td>\n",
       "      <td>130</td>\n",
       "    </tr>\n",
       "    <tr>\n",
       "      <th>5</th>\n",
       "      <td>2019-04-06</td>\n",
       "      <td>60</td>\n",
       "    </tr>\n",
       "  </tbody>\n",
       "</table>\n",
       "</div>"
      ],
      "text/plain": [
       "        date  campaign_union_id\n",
       "0 2019-04-01                 49\n",
       "1 2019-04-02                146\n",
       "2 2019-04-03                177\n",
       "3 2019-04-04                147\n",
       "4 2019-04-05                130\n",
       "5 2019-04-06                 60"
      ]
     },
     "execution_count": 17,
     "metadata": {},
     "output_type": "execute_result"
    }
   ],
   "source": [
    "ads_data.groupby('date', as_index=False)\\\n",
    "        .agg({'campaign_union_id': 'nunique'})"
   ]
  },
  {
   "cell_type": "code",
   "execution_count": 18,
   "metadata": {
    "ExecuteTime": {
     "end_time": "2023-02-01T08:12:55.082395Z",
     "start_time": "2023-02-01T08:12:55.068381Z"
    }
   },
   "outputs": [],
   "source": [
    "# Найти топ 10 объявлений по CTR за все время. CTR — это отношение всех просмотров объявления к кликам. \n",
    "# Например, если у объявления было 100 показов и 2 клика, CTR = 0.02. \n",
    "# Различается ли средний и медианный CTR объявлений в наших данных?"
   ]
  },
  {
   "cell_type": "code",
   "execution_count": 19,
   "metadata": {
    "ExecuteTime": {
     "end_time": "2023-02-01T08:12:56.508253Z",
     "start_time": "2023-02-01T08:12:56.048257Z"
    }
   },
   "outputs": [],
   "source": [
    "ads_data_by_ad = ads_data.groupby(['ad_id', 'event'], as_index=False) \\\n",
    "    .agg({'time': 'count'}) \\\n",
    "    .pivot(index='ad_id', columns='event', values='time').reset_index()"
   ]
  },
  {
   "cell_type": "code",
   "execution_count": 20,
   "metadata": {
    "ExecuteTime": {
     "end_time": "2023-02-01T08:12:56.980677Z",
     "start_time": "2023-02-01T08:12:56.962611Z"
    }
   },
   "outputs": [],
   "source": [
    "ads_data_by_ad = ads_data_by_ad.assign(ctr = ads_data_by_ad.click / ads_data_by_ad.view, \n",
    "                           ctr_per = 100 * ads_data_by_ad.click / ads_data_by_ad.view)"
   ]
  },
  {
   "cell_type": "code",
   "execution_count": 21,
   "metadata": {
    "ExecuteTime": {
     "end_time": "2023-02-01T08:12:58.437443Z",
     "start_time": "2023-02-01T08:12:58.408440Z"
    }
   },
   "outputs": [
    {
     "data": {
      "text/html": [
       "<div>\n",
       "<style scoped>\n",
       "    .dataframe tbody tr th:only-of-type {\n",
       "        vertical-align: middle;\n",
       "    }\n",
       "\n",
       "    .dataframe tbody tr th {\n",
       "        vertical-align: top;\n",
       "    }\n",
       "\n",
       "    .dataframe thead th {\n",
       "        text-align: right;\n",
       "    }\n",
       "</style>\n",
       "<table border=\"1\" class=\"dataframe\">\n",
       "  <thead>\n",
       "    <tr style=\"text-align: right;\">\n",
       "      <th>event</th>\n",
       "      <th>ad_id</th>\n",
       "      <th>click</th>\n",
       "      <th>view</th>\n",
       "      <th>ctr</th>\n",
       "      <th>ctr_per</th>\n",
       "    </tr>\n",
       "  </thead>\n",
       "  <tbody>\n",
       "    <tr>\n",
       "      <th>289</th>\n",
       "      <td>112583</td>\n",
       "      <td>580436.0</td>\n",
       "      <td>1934788.0</td>\n",
       "      <td>0.300000</td>\n",
       "      <td>29.999979</td>\n",
       "    </tr>\n",
       "    <tr>\n",
       "      <th>324</th>\n",
       "      <td>119450</td>\n",
       "      <td>258.0</td>\n",
       "      <td>1254.0</td>\n",
       "      <td>0.205742</td>\n",
       "      <td>20.574163</td>\n",
       "    </tr>\n",
       "    <tr>\n",
       "      <th>125</th>\n",
       "      <td>38575</td>\n",
       "      <td>43.0</td>\n",
       "      <td>257.0</td>\n",
       "      <td>0.167315</td>\n",
       "      <td>16.731518</td>\n",
       "    </tr>\n",
       "    <tr>\n",
       "      <th>144</th>\n",
       "      <td>40968</td>\n",
       "      <td>29.0</td>\n",
       "      <td>217.0</td>\n",
       "      <td>0.133641</td>\n",
       "      <td>13.364055</td>\n",
       "    </tr>\n",
       "    <tr>\n",
       "      <th>207</th>\n",
       "      <td>45642</td>\n",
       "      <td>42.0</td>\n",
       "      <td>344.0</td>\n",
       "      <td>0.122093</td>\n",
       "      <td>12.209302</td>\n",
       "    </tr>\n",
       "    <tr>\n",
       "      <th>283</th>\n",
       "      <td>110924</td>\n",
       "      <td>11.0</td>\n",
       "      <td>95.0</td>\n",
       "      <td>0.115789</td>\n",
       "      <td>11.578947</td>\n",
       "    </tr>\n",
       "    <tr>\n",
       "      <th>194</th>\n",
       "      <td>45043</td>\n",
       "      <td>28.0</td>\n",
       "      <td>245.0</td>\n",
       "      <td>0.114286</td>\n",
       "      <td>11.428571</td>\n",
       "    </tr>\n",
       "    <tr>\n",
       "      <th>96</th>\n",
       "      <td>35034</td>\n",
       "      <td>112.0</td>\n",
       "      <td>997.0</td>\n",
       "      <td>0.112337</td>\n",
       "      <td>11.233701</td>\n",
       "    </tr>\n",
       "    <tr>\n",
       "      <th>5</th>\n",
       "      <td>4585</td>\n",
       "      <td>53.0</td>\n",
       "      <td>476.0</td>\n",
       "      <td>0.111345</td>\n",
       "      <td>11.134454</td>\n",
       "    </tr>\n",
       "    <tr>\n",
       "      <th>328</th>\n",
       "      <td>120347</td>\n",
       "      <td>236.0</td>\n",
       "      <td>2168.0</td>\n",
       "      <td>0.108856</td>\n",
       "      <td>10.885609</td>\n",
       "    </tr>\n",
       "  </tbody>\n",
       "</table>\n",
       "</div>"
      ],
      "text/plain": [
       "event   ad_id     click       view       ctr    ctr_per\n",
       "289    112583  580436.0  1934788.0  0.300000  29.999979\n",
       "324    119450     258.0     1254.0  0.205742  20.574163\n",
       "125     38575      43.0      257.0  0.167315  16.731518\n",
       "144     40968      29.0      217.0  0.133641  13.364055\n",
       "207     45642      42.0      344.0  0.122093  12.209302\n",
       "283    110924      11.0       95.0  0.115789  11.578947\n",
       "194     45043      28.0      245.0  0.114286  11.428571\n",
       "96      35034     112.0      997.0  0.112337  11.233701\n",
       "5        4585      53.0      476.0  0.111345  11.134454\n",
       "328    120347     236.0     2168.0  0.108856  10.885609"
      ]
     },
     "execution_count": 21,
     "metadata": {},
     "output_type": "execute_result"
    }
   ],
   "source": [
    "ads_data_by_ad.sort_values('ctr', ascending=False).head(10)"
   ]
  },
  {
   "cell_type": "code",
   "execution_count": 22,
   "metadata": {
    "ExecuteTime": {
     "end_time": "2023-02-01T08:13:00.076083Z",
     "start_time": "2023-02-01T08:13:00.049996Z"
    }
   },
   "outputs": [
    {
     "data": {
      "text/plain": [
       "0.020628096080757954"
      ]
     },
     "execution_count": 22,
     "metadata": {},
     "output_type": "execute_result"
    }
   ],
   "source": [
    "ads_data_by_ad.ctr.mean()"
   ]
  },
  {
   "cell_type": "code",
   "execution_count": 23,
   "metadata": {
    "ExecuteTime": {
     "end_time": "2023-02-01T08:13:00.722623Z",
     "start_time": "2023-02-01T08:13:00.694620Z"
    }
   },
   "outputs": [
    {
     "data": {
      "text/plain": [
       "0.010753240746688594"
      ]
     },
     "execution_count": 23,
     "metadata": {},
     "output_type": "execute_result"
    }
   ],
   "source": [
    "ads_data_by_ad.ctr.median()"
   ]
  },
  {
   "cell_type": "code",
   "execution_count": 24,
   "metadata": {
    "ExecuteTime": {
     "end_time": "2023-02-01T08:13:02.226124Z",
     "start_time": "2023-02-01T08:13:01.934010Z"
    }
   },
   "outputs": [
    {
     "name": "stderr",
     "output_type": "stream",
     "text": [
      "C:\\Users\\1\\AppData\\Local\\Programs\\Python\\Python310\\lib\\site-packages\\seaborn\\distributions.py:2619: FutureWarning: `distplot` is a deprecated function and will be removed in a future version. Please adapt your code to use either `displot` (a figure-level function with similar flexibility) or `histplot` (an axes-level function for histograms).\n",
      "  warnings.warn(msg, FutureWarning)\n"
     ]
    },
    {
     "data": {
      "text/plain": [
       "<AxesSubplot:xlabel='ctr'>"
      ]
     },
     "execution_count": 24,
     "metadata": {},
     "output_type": "execute_result"
    },
    {
     "data": {
      "image/png": "[encoded data removed]",
      "text/plain": [
       "<Figure size 432x288 with 1 Axes>"
      ]
     },
     "metadata": {
      "needs_background": "light"
     },
     "output_type": "display_data"
    }
   ],
   "source": [
    "sns.distplot(ads_data_by_ad.ctr, kde=False)"
   ]
  },
  {
   "cell_type": "code",
   "execution_count": 86,
   "metadata": {},
   "outputs": [],
   "source": [
    "# Похоже, в наших логах есть баг, объявления приходят с кликами, но без показов! \n",
    "# Сколько таких объявлений, есть ли какие-то закономерности? Эта проблема наблюдается на всех платформах?"
   ]
  },
  {
   "cell_type": "code",
   "execution_count": 25,
   "metadata": {
    "ExecuteTime": {
     "end_time": "2023-02-01T08:13:33.417648Z",
     "start_time": "2023-02-01T08:13:33.398413Z"
    }
   },
   "outputs": [],
   "source": [
    "ads_data_by_ad = ads_data_by_ad.fillna(0)"
   ]
  },
  {
   "cell_type": "code",
   "execution_count": 26,
   "metadata": {
    "ExecuteTime": {
     "end_time": "2023-02-01T08:13:34.703411Z",
     "start_time": "2023-02-01T08:13:34.683389Z"
    }
   },
   "outputs": [],
   "source": [
    "ads_ids_bug = ads_data_by_ad.query('view == 0').ad_id"
   ]
  },
  {
   "cell_type": "code",
   "execution_count": 27,
   "metadata": {
    "ExecuteTime": {
     "end_time": "2023-02-01T08:14:01.326971Z",
     "start_time": "2023-02-01T08:14:01.237487Z"
    }
   },
   "outputs": [
    {
     "data": {
      "text/html": [
       "<div>\n",
       "<style scoped>\n",
       "    .dataframe tbody tr th:only-of-type {\n",
       "        vertical-align: middle;\n",
       "    }\n",
       "\n",
       "    .dataframe tbody tr th {\n",
       "        vertical-align: top;\n",
       "    }\n",
       "\n",
       "    .dataframe thead th {\n",
       "        text-align: right;\n",
       "    }\n",
       "</style>\n",
       "<table border=\"1\" class=\"dataframe\">\n",
       "  <thead>\n",
       "    <tr style=\"text-align: right;\">\n",
       "      <th></th>\n",
       "      <th>platform</th>\n",
       "      <th>ad_id</th>\n",
       "    </tr>\n",
       "  </thead>\n",
       "  <tbody>\n",
       "    <tr>\n",
       "      <th>2</th>\n",
       "      <td>web</td>\n",
       "      <td>53</td>\n",
       "    </tr>\n",
       "    <tr>\n",
       "      <th>1</th>\n",
       "      <td>ios</td>\n",
       "      <td>92</td>\n",
       "    </tr>\n",
       "    <tr>\n",
       "      <th>0</th>\n",
       "      <td>android</td>\n",
       "      <td>141</td>\n",
       "    </tr>\n",
       "  </tbody>\n",
       "</table>\n",
       "</div>"
      ],
      "text/plain": [
       "  platform  ad_id\n",
       "2      web     53\n",
       "1      ios     92\n",
       "0  android    141"
      ]
     },
     "execution_count": 27,
     "metadata": {},
     "output_type": "execute_result"
    }
   ],
   "source": [
    "ads_data[ads_data.ad_id.isin(ads_ids_bug)] \\\n",
    "    .groupby('platform', as_index=False) \\\n",
    "    .agg({'ad_id': 'count'}) \\\n",
    "    .sort_values('ad_id')"
   ]
  },
  {
   "cell_type": "code",
   "execution_count": 28,
   "metadata": {
    "ExecuteTime": {
     "end_time": "2023-02-01T08:14:14.457122Z",
     "start_time": "2023-02-01T08:14:14.182066Z"
    }
   },
   "outputs": [
    {
     "data": {
      "text/html": [
       "<div>\n",
       "<style scoped>\n",
       "    .dataframe tbody tr th:only-of-type {\n",
       "        vertical-align: middle;\n",
       "    }\n",
       "\n",
       "    .dataframe tbody tr th {\n",
       "        vertical-align: top;\n",
       "    }\n",
       "\n",
       "    .dataframe thead th {\n",
       "        text-align: right;\n",
       "    }\n",
       "</style>\n",
       "<table border=\"1\" class=\"dataframe\">\n",
       "  <thead>\n",
       "    <tr style=\"text-align: right;\">\n",
       "      <th></th>\n",
       "      <th>platform</th>\n",
       "      <th>ad_id</th>\n",
       "    </tr>\n",
       "  </thead>\n",
       "  <tbody>\n",
       "    <tr>\n",
       "      <th>2</th>\n",
       "      <td>web</td>\n",
       "      <td>635425</td>\n",
       "    </tr>\n",
       "    <tr>\n",
       "      <th>1</th>\n",
       "      <td>ios</td>\n",
       "      <td>953078</td>\n",
       "    </tr>\n",
       "    <tr>\n",
       "      <th>0</th>\n",
       "      <td>android</td>\n",
       "      <td>1588211</td>\n",
       "    </tr>\n",
       "  </tbody>\n",
       "</table>\n",
       "</div>"
      ],
      "text/plain": [
       "  platform    ad_id\n",
       "2      web   635425\n",
       "1      ios   953078\n",
       "0  android  1588211"
      ]
     },
     "execution_count": 28,
     "metadata": {},
     "output_type": "execute_result"
    }
   ],
   "source": [
    "# Какая платформа самая популярная для размещения рекламных объявлений?\n",
    "ads_data \\\n",
    "    .groupby('platform', as_index=False) \\\n",
    "    .agg({'ad_id': 'count'}) \\\n",
    "    .sort_values('ad_id')"
   ]
  },
  {
   "cell_type": "code",
   "execution_count": null,
   "metadata": {},
   "outputs": [],
   "source": []
  },
  {
   "cell_type": "code",
   "execution_count": 31,
   "metadata": {
    "ExecuteTime": {
     "end_time": "2023-02-01T08:29:40.568483Z",
     "start_time": "2023-02-01T08:29:40.562412Z"
    }
   },
   "outputs": [],
   "source": [
    "# Есть ли различия в CTR у объявлений с видео и без? А чему равняется 95 процентиль CTR по всем объявлениям за 2019-04-04?"
   ]
  },
  {
   "cell_type": "code",
   "execution_count": 32,
   "metadata": {
    "ExecuteTime": {
     "end_time": "2023-02-01T08:29:41.199377Z",
     "start_time": "2023-02-01T08:29:41.118088Z"
    }
   },
   "outputs": [],
   "source": [
    "df_2019_04_04 =  ads_data[ads_data.date == '2019-04-04'].groupby(['ad_id', 'event'], as_index=False) \\\n",
    "    .agg({'time': 'count'}) \\\n",
    "    .pivot(index='ad_id', columns='event', values='time').reset_index() \\\n",
    "    .fillna(0)"
   ]
  },
  {
   "cell_type": "code",
   "execution_count": 33,
   "metadata": {
    "ExecuteTime": {
     "end_time": "2023-02-01T08:29:42.070865Z",
     "start_time": "2023-02-01T08:29:42.055866Z"
    }
   },
   "outputs": [],
   "source": [
    "df_2019_04_04['ctr'] = df_2019_04_04.click / df_2019_04_04.view"
   ]
  },
  {
   "cell_type": "code",
   "execution_count": 34,
   "metadata": {
    "ExecuteTime": {
     "end_time": "2023-02-01T08:29:58.093361Z",
     "start_time": "2023-02-01T08:29:58.075259Z"
    }
   },
   "outputs": [
    {
     "data": {
      "text/plain": [
       "0.06624288425047421"
      ]
     },
     "execution_count": 34,
     "metadata": {},
     "output_type": "execute_result"
    }
   ],
   "source": [
    "df_2019_04_04[df_2019_04_04.view > 0].ctr.quantile(q=0.95)"
   ]
  },
  {
   "cell_type": "code",
   "execution_count": 49,
   "metadata": {
    "ExecuteTime": {
     "end_time": "2023-02-01T08:41:05.503857Z",
     "start_time": "2023-02-01T08:41:05.039382Z"
    }
   },
   "outputs": [],
   "source": [
    "ad_id_without_video = ads_data.query('has_video == 0' ).ad_id"
   ]
  },
  {
   "cell_type": "code",
   "execution_count": 50,
   "metadata": {
    "ExecuteTime": {
     "end_time": "2023-02-01T08:41:05.944802Z",
     "start_time": "2023-02-01T08:41:05.903801Z"
    }
   },
   "outputs": [
    {
     "data": {
      "text/plain": [
       "5.31807164018314"
      ]
     },
     "execution_count": 50,
     "metadata": {},
     "output_type": "execute_result"
    }
   ],
   "source": [
    "ads_data_by_ad.query('ad_id in @ad_id_without_video').ctr_per.quantile(q=0.95)"
   ]
  },
  {
   "cell_type": "code",
   "execution_count": 51,
   "metadata": {
    "ExecuteTime": {
     "end_time": "2023-02-01T08:41:06.699765Z",
     "start_time": "2023-02-01T08:41:06.663763Z"
    }
   },
   "outputs": [
    {
     "data": {
      "text/plain": [
       "1.1833340009112439"
      ]
     },
     "execution_count": 51,
     "metadata": {},
     "output_type": "execute_result"
    }
   ],
   "source": [
    "ads_data_by_ad.query('ad_id not in @ad_id_without_video').ctr_per.quantile(q=0.95)"
   ]
  },
  {
   "cell_type": "code",
   "execution_count": null,
   "metadata": {},
   "outputs": [],
   "source": [
    "# Для финансового отчета нужно рассчитать наш заработок по дням. \n",
    "# В какой день мы заработали больше всего? В какой меньше? \n",
    "# Мы списываем с клиентов деньги, если произошел клик по CPC объявлению, \n",
    "# и мы списываем деньги за каждый показ CPM объявления, если у \n",
    "# CPM объявления цена - 200 рублей, то за один показ мы зарабатываем 200 / 1000.\n",
    "# Какая платформа самая популярная для размещения рекламных объявлений? \n",
    "# Сколько процентов показов приходится на каждую из платформ (колонка platform)?\n"
   ]
  },
  {
   "cell_type": "code",
   "execution_count": 146,
   "metadata": {},
   "outputs": [],
   "source": [
    "x = pd.Series([1, 2, 3])"
   ]
  },
  {
   "cell_type": "code",
   "execution_count": 143,
   "metadata": {},
   "outputs": [],
   "source": [
    "import numpy as np"
   ]
  },
  {
   "cell_type": "code",
   "execution_count": 64,
   "metadata": {
    "ExecuteTime": {
     "end_time": "2023-02-01T09:10:36.260471Z",
     "start_time": "2023-02-01T09:10:35.710288Z"
    }
   },
   "outputs": [],
   "source": [
    "profit_per_day = ads_data[(ads_data.ad_cost_type == 'CPC') &  (ads_data.event == 'click')]\\\n",
    "                .groupby('date', as_index=False).agg({'ad_cost': 'sum'}).rename(columns={'ad_cost': 'profit'})"
   ]
  },
  {
   "cell_type": "code",
   "execution_count": 65,
   "metadata": {
    "ExecuteTime": {
     "end_time": "2023-02-01T09:10:38.331767Z",
     "start_time": "2023-02-01T09:10:37.374024Z"
    }
   },
   "outputs": [],
   "source": [
    "profit_per_day['profit'] = profit_per_day['profit'] + \\\n",
    "ads_data[(ads_data.ad_cost_type == 'CPM') &  (ads_data.event == 'view')]\\\n",
    "                .groupby('date', as_index=False).agg({'ad_cost': 'sum'}).rename(columns={'ad_cost': 'ad_cost_CPM'})\\\n",
    "                .ad_cost_CPM.apply(lambda x: x / 1000)"
   ]
  },
  {
   "cell_type": "code",
   "execution_count": 66,
   "metadata": {
    "ExecuteTime": {
     "end_time": "2023-02-01T09:10:42.944864Z",
     "start_time": "2023-02-01T09:10:42.929274Z"
    }
   },
   "outputs": [
    {
     "data": {
      "text/html": [
       "<div>\n",
       "<style scoped>\n",
       "    .dataframe tbody tr th:only-of-type {\n",
       "        vertical-align: middle;\n",
       "    }\n",
       "\n",
       "    .dataframe tbody tr th {\n",
       "        vertical-align: top;\n",
       "    }\n",
       "\n",
       "    .dataframe thead th {\n",
       "        text-align: right;\n",
       "    }\n",
       "</style>\n",
       "<table border=\"1\" class=\"dataframe\">\n",
       "  <thead>\n",
       "    <tr style=\"text-align: right;\">\n",
       "      <th></th>\n",
       "      <th>date</th>\n",
       "      <th>profit</th>\n",
       "    </tr>\n",
       "  </thead>\n",
       "  <tbody>\n",
       "    <tr>\n",
       "      <th>0</th>\n",
       "      <td>2019-04-01</td>\n",
       "      <td>13159.7123</td>\n",
       "    </tr>\n",
       "    <tr>\n",
       "      <th>1</th>\n",
       "      <td>2019-04-02</td>\n",
       "      <td>33837.0051</td>\n",
       "    </tr>\n",
       "    <tr>\n",
       "      <th>2</th>\n",
       "      <td>2019-04-03</td>\n",
       "      <td>73209.5170</td>\n",
       "    </tr>\n",
       "    <tr>\n",
       "      <th>3</th>\n",
       "      <td>2019-04-04</td>\n",
       "      <td>46294.3568</td>\n",
       "    </tr>\n",
       "    <tr>\n",
       "      <th>4</th>\n",
       "      <td>2019-04-05</td>\n",
       "      <td>358559.7490</td>\n",
       "    </tr>\n",
       "    <tr>\n",
       "      <th>5</th>\n",
       "      <td>2019-04-06</td>\n",
       "      <td>56840.3376</td>\n",
       "    </tr>\n",
       "  </tbody>\n",
       "</table>\n",
       "</div>"
      ],
      "text/plain": [
       "        date       profit\n",
       "0 2019-04-01   13159.7123\n",
       "1 2019-04-02   33837.0051\n",
       "2 2019-04-03   73209.5170\n",
       "3 2019-04-04   46294.3568\n",
       "4 2019-04-05  358559.7490\n",
       "5 2019-04-06   56840.3376"
      ]
     },
     "execution_count": 66,
     "metadata": {},
     "output_type": "execute_result"
    }
   ],
   "source": [
    "profit_per_day"
   ]
  },
  {
   "cell_type": "code",
   "execution_count": 70,
   "metadata": {
    "ExecuteTime": {
     "end_time": "2023-02-01T09:12:50.574722Z",
     "start_time": "2023-02-01T09:12:50.557406Z"
    }
   },
   "outputs": [
    {
     "data": {
      "text/plain": [
       "4"
      ]
     },
     "execution_count": 70,
     "metadata": {},
     "output_type": "execute_result"
    }
   ],
   "source": [
    "profit_per_day.profit.idxmax()"
   ]
  },
  {
   "cell_type": "code",
   "execution_count": 71,
   "metadata": {
    "ExecuteTime": {
     "end_time": "2023-02-01T09:13:08.164229Z",
     "start_time": "2023-02-01T09:13:08.150176Z"
    }
   },
   "outputs": [
    {
     "data": {
      "text/plain": [
       "0"
      ]
     },
     "execution_count": 71,
     "metadata": {},
     "output_type": "execute_result"
    }
   ],
   "source": [
    "profit_per_day.profit.idxmin()"
   ]
  },
  {
   "cell_type": "code",
   "execution_count": 86,
   "metadata": {
    "ExecuteTime": {
     "end_time": "2023-02-01T09:26:50.065598Z",
     "start_time": "2023-02-01T09:26:48.854557Z"
    }
   },
   "outputs": [],
   "source": [
    "# Сколько процентов показов приходится на каждую из платформ (колонка platform)?\n",
    "all_views = ads_data.query(' event == \"view\" ').ad_id.count()\n",
    "ads_data_views = ads_data.query(' event == \"view\" ') \\\n",
    "    .groupby('platform', as_index=False) \\\n",
    "    .agg({'ad_id': 'count'}) \\\n",
    "    .sort_values('ad_id')\n",
    "ads_data_views.ad_id = ads_data_views.ad_id * 100 / all_views"
   ]
  },
  {
   "cell_type": "code",
   "execution_count": 87,
   "metadata": {
    "ExecuteTime": {
     "end_time": "2023-02-01T09:26:57.086733Z",
     "start_time": "2023-02-01T09:26:57.062593Z"
    }
   },
   "outputs": [
    {
     "data": {
      "text/html": [
       "<div>\n",
       "<style scoped>\n",
       "    .dataframe tbody tr th:only-of-type {\n",
       "        vertical-align: middle;\n",
       "    }\n",
       "\n",
       "    .dataframe tbody tr th {\n",
       "        vertical-align: top;\n",
       "    }\n",
       "\n",
       "    .dataframe thead th {\n",
       "        text-align: right;\n",
       "    }\n",
       "</style>\n",
       "<table border=\"1\" class=\"dataframe\">\n",
       "  <thead>\n",
       "    <tr style=\"text-align: right;\">\n",
       "      <th></th>\n",
       "      <th>platform</th>\n",
       "      <th>ad_id</th>\n",
       "    </tr>\n",
       "  </thead>\n",
       "  <tbody>\n",
       "    <tr>\n",
       "      <th>2</th>\n",
       "      <td>web</td>\n",
       "      <td>20.003777</td>\n",
       "    </tr>\n",
       "    <tr>\n",
       "      <th>1</th>\n",
       "      <td>ios</td>\n",
       "      <td>29.974460</td>\n",
       "    </tr>\n",
       "    <tr>\n",
       "      <th>0</th>\n",
       "      <td>android</td>\n",
       "      <td>50.021763</td>\n",
       "    </tr>\n",
       "  </tbody>\n",
       "</table>\n",
       "</div>"
      ],
      "text/plain": [
       "  platform      ad_id\n",
       "2      web  20.003777\n",
       "1      ios  29.974460\n",
       "0  android  50.021763"
      ]
     },
     "execution_count": 87,
     "metadata": {},
     "output_type": "execute_result"
    }
   ],
   "source": [
    "ads_data_views"
   ]
  },
  {
   "cell_type": "code",
   "execution_count": 155,
   "metadata": {},
   "outputs": [],
   "source": [
    "# А есть ли такие объявления, по которым сначала произошел клик, а только потом показ?"
   ]
  },
  {
   "cell_type": "code",
   "execution_count": 159,
   "metadata": {},
   "outputs": [
    {
     "data": {
      "text/html": [
       "<div>\n",
       "<style scoped>\n",
       "    .dataframe tbody tr th:only-of-type {\n",
       "        vertical-align: middle;\n",
       "    }\n",
       "\n",
       "    .dataframe tbody tr th {\n",
       "        vertical-align: top;\n",
       "    }\n",
       "\n",
       "    .dataframe thead th {\n",
       "        text-align: right;\n",
       "    }\n",
       "</style>\n",
       "<table border=\"1\" class=\"dataframe\">\n",
       "  <thead>\n",
       "    <tr style=\"text-align: right;\">\n",
       "      <th>event</th>\n",
       "      <th>ad_id</th>\n",
       "      <th>click</th>\n",
       "      <th>view</th>\n",
       "    </tr>\n",
       "  </thead>\n",
       "  <tbody>\n",
       "    <tr>\n",
       "      <th>27</th>\n",
       "      <td>16548</td>\n",
       "      <td>1.554336e+09</td>\n",
       "      <td>1.554336e+09</td>\n",
       "    </tr>\n",
       "    <tr>\n",
       "      <th>81</th>\n",
       "      <td>30939</td>\n",
       "      <td>1.554165e+09</td>\n",
       "      <td>1.554173e+09</td>\n",
       "    </tr>\n",
       "    <tr>\n",
       "      <th>138</th>\n",
       "      <td>40464</td>\n",
       "      <td>1.554164e+09</td>\n",
       "      <td>1.554164e+09</td>\n",
       "    </tr>\n",
       "    <tr>\n",
       "      <th>158</th>\n",
       "      <td>42007</td>\n",
       "      <td>1.554423e+09</td>\n",
       "      <td>1.554423e+09</td>\n",
       "    </tr>\n",
       "    <tr>\n",
       "      <th>185</th>\n",
       "      <td>44543</td>\n",
       "      <td>1.554336e+09</td>\n",
       "      <td>1.554337e+09</td>\n",
       "    </tr>\n",
       "    <tr>\n",
       "      <th>201</th>\n",
       "      <td>45436</td>\n",
       "      <td>1.554336e+09</td>\n",
       "      <td>1.554336e+09</td>\n",
       "    </tr>\n",
       "    <tr>\n",
       "      <th>324</th>\n",
       "      <td>119450</td>\n",
       "      <td>1.554336e+09</td>\n",
       "      <td>1.554336e+09</td>\n",
       "    </tr>\n",
       "  </tbody>\n",
       "</table>\n",
       "</div>"
      ],
      "text/plain": [
       "event   ad_id         click          view\n",
       "27      16548  1.554336e+09  1.554336e+09\n",
       "81      30939  1.554165e+09  1.554173e+09\n",
       "138     40464  1.554164e+09  1.554164e+09\n",
       "158     42007  1.554423e+09  1.554423e+09\n",
       "185     44543  1.554336e+09  1.554337e+09\n",
       "201     45436  1.554336e+09  1.554336e+09\n",
       "324    119450  1.554336e+09  1.554336e+09"
      ]
     },
     "execution_count": 159,
     "metadata": {},
     "output_type": "execute_result"
    }
   ],
   "source": [
    "ads_data.groupby(['ad_id', 'event'], as_index=False) \\\n",
    "    .agg({'time': 'min'}) \\\n",
    "    .pivot(index='ad_id', columns='event', values='time').reset_index() \\\n",
    "    .query('click < view')"
   ]
  },
  {
   "cell_type": "code",
   "execution_count": 161,
   "metadata": {},
   "outputs": [
    {
     "data": {
      "text/html": [
       "<div>\n",
       "<style scoped>\n",
       "    .dataframe tbody tr th:only-of-type {\n",
       "        vertical-align: middle;\n",
       "    }\n",
       "\n",
       "    .dataframe tbody tr th {\n",
       "        vertical-align: top;\n",
       "    }\n",
       "\n",
       "    .dataframe thead th {\n",
       "        text-align: right;\n",
       "    }\n",
       "</style>\n",
       "<table border=\"1\" class=\"dataframe\">\n",
       "  <thead>\n",
       "    <tr style=\"text-align: right;\">\n",
       "      <th></th>\n",
       "      <th>ad_id</th>\n",
       "      <th>time</th>\n",
       "      <th>event</th>\n",
       "      <th>date</th>\n",
       "      <th>ad_cost_type</th>\n",
       "      <th>has_video</th>\n",
       "      <th>client_union_id</th>\n",
       "      <th>campaign_union_id</th>\n",
       "      <th>platform</th>\n",
       "      <th>ad_cost</th>\n",
       "      <th>target_audience_count</th>\n",
       "      <th>user_id</th>\n",
       "      <th>full_date</th>\n",
       "    </tr>\n",
       "  </thead>\n",
       "  <tbody>\n",
       "    <tr>\n",
       "      <th>512690</th>\n",
       "      <td>16548</td>\n",
       "      <td>1554336083</td>\n",
       "      <td>click</td>\n",
       "      <td>2019-04-04</td>\n",
       "      <td>CPM</td>\n",
       "      <td>0</td>\n",
       "      <td>722</td>\n",
       "      <td>16523</td>\n",
       "      <td>ios</td>\n",
       "      <td>196.6</td>\n",
       "      <td>53199</td>\n",
       "      <td>4133</td>\n",
       "      <td>2019-04-04 00:01:23</td>\n",
       "    </tr>\n",
       "    <tr>\n",
       "      <th>511482</th>\n",
       "      <td>16548</td>\n",
       "      <td>1554336278</td>\n",
       "      <td>view</td>\n",
       "      <td>2019-04-04</td>\n",
       "      <td>CPM</td>\n",
       "      <td>0</td>\n",
       "      <td>722</td>\n",
       "      <td>16523</td>\n",
       "      <td>android</td>\n",
       "      <td>196.6</td>\n",
       "      <td>53199</td>\n",
       "      <td>3736</td>\n",
       "      <td>2019-04-04 00:04:38</td>\n",
       "    </tr>\n",
       "    <tr>\n",
       "      <th>511439</th>\n",
       "      <td>16548</td>\n",
       "      <td>1554336352</td>\n",
       "      <td>view</td>\n",
       "      <td>2019-04-04</td>\n",
       "      <td>CPM</td>\n",
       "      <td>0</td>\n",
       "      <td>722</td>\n",
       "      <td>16523</td>\n",
       "      <td>android</td>\n",
       "      <td>196.6</td>\n",
       "      <td>53199</td>\n",
       "      <td>4968</td>\n",
       "      <td>2019-04-04 00:05:52</td>\n",
       "    </tr>\n",
       "    <tr>\n",
       "      <th>511438</th>\n",
       "      <td>16548</td>\n",
       "      <td>1554336352</td>\n",
       "      <td>view</td>\n",
       "      <td>2019-04-04</td>\n",
       "      <td>CPM</td>\n",
       "      <td>0</td>\n",
       "      <td>722</td>\n",
       "      <td>16523</td>\n",
       "      <td>ios</td>\n",
       "      <td>196.6</td>\n",
       "      <td>53199</td>\n",
       "      <td>4206</td>\n",
       "      <td>2019-04-04 00:05:52</td>\n",
       "    </tr>\n",
       "    <tr>\n",
       "      <th>511437</th>\n",
       "      <td>16548</td>\n",
       "      <td>1554336352</td>\n",
       "      <td>view</td>\n",
       "      <td>2019-04-04</td>\n",
       "      <td>CPM</td>\n",
       "      <td>0</td>\n",
       "      <td>722</td>\n",
       "      <td>16523</td>\n",
       "      <td>web</td>\n",
       "      <td>196.6</td>\n",
       "      <td>53199</td>\n",
       "      <td>3898</td>\n",
       "      <td>2019-04-04 00:05:52</td>\n",
       "    </tr>\n",
       "    <tr>\n",
       "      <th>...</th>\n",
       "      <td>...</td>\n",
       "      <td>...</td>\n",
       "      <td>...</td>\n",
       "      <td>...</td>\n",
       "      <td>...</td>\n",
       "      <td>...</td>\n",
       "      <td>...</td>\n",
       "      <td>...</td>\n",
       "      <td>...</td>\n",
       "      <td>...</td>\n",
       "      <td>...</td>\n",
       "      <td>...</td>\n",
       "      <td>...</td>\n",
       "    </tr>\n",
       "    <tr>\n",
       "      <th>2056433</th>\n",
       "      <td>16548</td>\n",
       "      <td>1554422265</td>\n",
       "      <td>view</td>\n",
       "      <td>2019-04-05</td>\n",
       "      <td>CPM</td>\n",
       "      <td>0</td>\n",
       "      <td>722</td>\n",
       "      <td>16523</td>\n",
       "      <td>android</td>\n",
       "      <td>196.6</td>\n",
       "      <td>53199</td>\n",
       "      <td>3613</td>\n",
       "      <td>2019-04-04 23:57:45</td>\n",
       "    </tr>\n",
       "    <tr>\n",
       "      <th>2056432</th>\n",
       "      <td>16548</td>\n",
       "      <td>1554422265</td>\n",
       "      <td>view</td>\n",
       "      <td>2019-04-05</td>\n",
       "      <td>CPM</td>\n",
       "      <td>0</td>\n",
       "      <td>722</td>\n",
       "      <td>16523</td>\n",
       "      <td>android</td>\n",
       "      <td>196.6</td>\n",
       "      <td>53199</td>\n",
       "      <td>6044</td>\n",
       "      <td>2019-04-04 23:57:45</td>\n",
       "    </tr>\n",
       "    <tr>\n",
       "      <th>2056461</th>\n",
       "      <td>16548</td>\n",
       "      <td>1554422308</td>\n",
       "      <td>view</td>\n",
       "      <td>2019-04-05</td>\n",
       "      <td>CPM</td>\n",
       "      <td>0</td>\n",
       "      <td>722</td>\n",
       "      <td>16523</td>\n",
       "      <td>ios</td>\n",
       "      <td>196.6</td>\n",
       "      <td>53199</td>\n",
       "      <td>5831</td>\n",
       "      <td>2019-04-04 23:58:28</td>\n",
       "    </tr>\n",
       "    <tr>\n",
       "      <th>2056652</th>\n",
       "      <td>16548</td>\n",
       "      <td>1554422338</td>\n",
       "      <td>view</td>\n",
       "      <td>2019-04-05</td>\n",
       "      <td>CPM</td>\n",
       "      <td>0</td>\n",
       "      <td>722</td>\n",
       "      <td>16523</td>\n",
       "      <td>android</td>\n",
       "      <td>196.6</td>\n",
       "      <td>53199</td>\n",
       "      <td>2837</td>\n",
       "      <td>2019-04-04 23:58:58</td>\n",
       "    </tr>\n",
       "    <tr>\n",
       "      <th>2056681</th>\n",
       "      <td>16548</td>\n",
       "      <td>1554422371</td>\n",
       "      <td>view</td>\n",
       "      <td>2019-04-05</td>\n",
       "      <td>CPM</td>\n",
       "      <td>0</td>\n",
       "      <td>722</td>\n",
       "      <td>16523</td>\n",
       "      <td>ios</td>\n",
       "      <td>196.6</td>\n",
       "      <td>53199</td>\n",
       "      <td>6051</td>\n",
       "      <td>2019-04-04 23:59:31</td>\n",
       "    </tr>\n",
       "  </tbody>\n",
       "</table>\n",
       "<p>2235 rows × 13 columns</p>\n",
       "</div>"
      ],
      "text/plain": [
       "         ad_id        time  event       date ad_cost_type  has_video  \\\n",
       "512690   16548  1554336083  click 2019-04-04          CPM          0   \n",
       "511482   16548  1554336278   view 2019-04-04          CPM          0   \n",
       "511439   16548  1554336352   view 2019-04-04          CPM          0   \n",
       "511438   16548  1554336352   view 2019-04-04          CPM          0   \n",
       "511437   16548  1554336352   view 2019-04-04          CPM          0   \n",
       "...        ...         ...    ...        ...          ...        ...   \n",
       "2056433  16548  1554422265   view 2019-04-05          CPM          0   \n",
       "2056432  16548  1554422265   view 2019-04-05          CPM          0   \n",
       "2056461  16548  1554422308   view 2019-04-05          CPM          0   \n",
       "2056652  16548  1554422338   view 2019-04-05          CPM          0   \n",
       "2056681  16548  1554422371   view 2019-04-05          CPM          0   \n",
       "\n",
       "         client_union_id  campaign_union_id platform  ad_cost  \\\n",
       "512690               722              16523      ios    196.6   \n",
       "511482               722              16523  android    196.6   \n",
       "511439               722              16523  android    196.6   \n",
       "511438               722              16523      ios    196.6   \n",
       "511437               722              16523      web    196.6   \n",
       "...                  ...                ...      ...      ...   \n",
       "2056433              722              16523  android    196.6   \n",
       "2056432              722              16523  android    196.6   \n",
       "2056461              722              16523      ios    196.6   \n",
       "2056652              722              16523  android    196.6   \n",
       "2056681              722              16523      ios    196.6   \n",
       "\n",
       "         target_audience_count  user_id           full_date  \n",
       "512690                   53199     4133 2019-04-04 00:01:23  \n",
       "511482                   53199     3736 2019-04-04 00:04:38  \n",
       "511439                   53199     4968 2019-04-04 00:05:52  \n",
       "511438                   53199     4206 2019-04-04 00:05:52  \n",
       "511437                   53199     3898 2019-04-04 00:05:52  \n",
       "...                        ...      ...                 ...  \n",
       "2056433                  53199     3613 2019-04-04 23:57:45  \n",
       "2056432                  53199     6044 2019-04-04 23:57:45  \n",
       "2056461                  53199     5831 2019-04-04 23:58:28  \n",
       "2056652                  53199     2837 2019-04-04 23:58:58  \n",
       "2056681                  53199     6051 2019-04-04 23:59:31  \n",
       "\n",
       "[2235 rows x 13 columns]"
      ]
     },
     "execution_count": 161,
     "metadata": {},
     "output_type": "execute_result"
    }
   ],
   "source": [
    "ads_data[ads_data.ad_id == 16548].sort_values('time')"
   ]
  },
  {
   "cell_type": "markdown",
   "metadata": {},
   "source": [
    "Задания из контеста"
   ]
  },
  {
   "cell_type": "code",
   "execution_count": 88,
   "metadata": {
    "ExecuteTime": {
     "end_time": "2023-02-01T11:30:00.727421Z",
     "start_time": "2023-02-01T11:29:59.441336Z"
    }
   },
   "outputs": [],
   "source": [
    "retail = pd.read_csv('C:/Users/1/JupyterProjects/Karpov_curses_lessons_and_projects/5_data.csv.zip',\\\n",
    "                     compression='zip', encoding='ISO-8859-1')"
   ]
  },
  {
   "cell_type": "code",
   "execution_count": 89,
   "metadata": {
    "ExecuteTime": {
     "end_time": "2023-02-01T11:30:04.139928Z",
     "start_time": "2023-02-01T11:30:04.103832Z"
    },
    "scrolled": false
   },
   "outputs": [
    {
     "data": {
      "text/html": [
       "<div>\n",
       "<style scoped>\n",
       "    .dataframe tbody tr th:only-of-type {\n",
       "        vertical-align: middle;\n",
       "    }\n",
       "\n",
       "    .dataframe tbody tr th {\n",
       "        vertical-align: top;\n",
       "    }\n",
       "\n",
       "    .dataframe thead th {\n",
       "        text-align: right;\n",
       "    }\n",
       "</style>\n",
       "<table border=\"1\" class=\"dataframe\">\n",
       "  <thead>\n",
       "    <tr style=\"text-align: right;\">\n",
       "      <th></th>\n",
       "      <th>InvoiceNo</th>\n",
       "      <th>StockCode</th>\n",
       "      <th>Description</th>\n",
       "      <th>Quantity</th>\n",
       "      <th>InvoiceDate</th>\n",
       "      <th>UnitPrice</th>\n",
       "      <th>CustomerID</th>\n",
       "      <th>Country</th>\n",
       "    </tr>\n",
       "  </thead>\n",
       "  <tbody>\n",
       "    <tr>\n",
       "      <th>0</th>\n",
       "      <td>536365</td>\n",
       "      <td>85123A</td>\n",
       "      <td>WHITE HANGING HEART T-LIGHT HOLDER</td>\n",
       "      <td>6</td>\n",
       "      <td>12/1/2010 8:26</td>\n",
       "      <td>2.55</td>\n",
       "      <td>17850.0</td>\n",
       "      <td>United Kingdom</td>\n",
       "    </tr>\n",
       "    <tr>\n",
       "      <th>1</th>\n",
       "      <td>536365</td>\n",
       "      <td>71053</td>\n",
       "      <td>WHITE METAL LANTERN</td>\n",
       "      <td>6</td>\n",
       "      <td>12/1/2010 8:26</td>\n",
       "      <td>3.39</td>\n",
       "      <td>17850.0</td>\n",
       "      <td>United Kingdom</td>\n",
       "    </tr>\n",
       "    <tr>\n",
       "      <th>2</th>\n",
       "      <td>536365</td>\n",
       "      <td>84406B</td>\n",
       "      <td>CREAM CUPID HEARTS COAT HANGER</td>\n",
       "      <td>8</td>\n",
       "      <td>12/1/2010 8:26</td>\n",
       "      <td>2.75</td>\n",
       "      <td>17850.0</td>\n",
       "      <td>United Kingdom</td>\n",
       "    </tr>\n",
       "    <tr>\n",
       "      <th>3</th>\n",
       "      <td>536365</td>\n",
       "      <td>84029G</td>\n",
       "      <td>KNITTED UNION FLAG HOT WATER BOTTLE</td>\n",
       "      <td>6</td>\n",
       "      <td>12/1/2010 8:26</td>\n",
       "      <td>3.39</td>\n",
       "      <td>17850.0</td>\n",
       "      <td>United Kingdom</td>\n",
       "    </tr>\n",
       "    <tr>\n",
       "      <th>4</th>\n",
       "      <td>536365</td>\n",
       "      <td>84029E</td>\n",
       "      <td>RED WOOLLY HOTTIE WHITE HEART.</td>\n",
       "      <td>6</td>\n",
       "      <td>12/1/2010 8:26</td>\n",
       "      <td>3.39</td>\n",
       "      <td>17850.0</td>\n",
       "      <td>United Kingdom</td>\n",
       "    </tr>\n",
       "    <tr>\n",
       "      <th>...</th>\n",
       "      <td>...</td>\n",
       "      <td>...</td>\n",
       "      <td>...</td>\n",
       "      <td>...</td>\n",
       "      <td>...</td>\n",
       "      <td>...</td>\n",
       "      <td>...</td>\n",
       "      <td>...</td>\n",
       "    </tr>\n",
       "    <tr>\n",
       "      <th>541904</th>\n",
       "      <td>581587</td>\n",
       "      <td>22613</td>\n",
       "      <td>PACK OF 20 SPACEBOY NAPKINS</td>\n",
       "      <td>12</td>\n",
       "      <td>12/9/2011 12:50</td>\n",
       "      <td>0.85</td>\n",
       "      <td>12680.0</td>\n",
       "      <td>France</td>\n",
       "    </tr>\n",
       "    <tr>\n",
       "      <th>541905</th>\n",
       "      <td>581587</td>\n",
       "      <td>22899</td>\n",
       "      <td>CHILDREN'S APRON DOLLY GIRL</td>\n",
       "      <td>6</td>\n",
       "      <td>12/9/2011 12:50</td>\n",
       "      <td>2.10</td>\n",
       "      <td>12680.0</td>\n",
       "      <td>France</td>\n",
       "    </tr>\n",
       "    <tr>\n",
       "      <th>541906</th>\n",
       "      <td>581587</td>\n",
       "      <td>23254</td>\n",
       "      <td>CHILDRENS CUTLERY DOLLY GIRL</td>\n",
       "      <td>4</td>\n",
       "      <td>12/9/2011 12:50</td>\n",
       "      <td>4.15</td>\n",
       "      <td>12680.0</td>\n",
       "      <td>France</td>\n",
       "    </tr>\n",
       "    <tr>\n",
       "      <th>541907</th>\n",
       "      <td>581587</td>\n",
       "      <td>23255</td>\n",
       "      <td>CHILDRENS CUTLERY CIRCUS PARADE</td>\n",
       "      <td>4</td>\n",
       "      <td>12/9/2011 12:50</td>\n",
       "      <td>4.15</td>\n",
       "      <td>12680.0</td>\n",
       "      <td>France</td>\n",
       "    </tr>\n",
       "    <tr>\n",
       "      <th>541908</th>\n",
       "      <td>581587</td>\n",
       "      <td>22138</td>\n",
       "      <td>BAKING SET 9 PIECE RETROSPOT</td>\n",
       "      <td>3</td>\n",
       "      <td>12/9/2011 12:50</td>\n",
       "      <td>4.95</td>\n",
       "      <td>12680.0</td>\n",
       "      <td>France</td>\n",
       "    </tr>\n",
       "  </tbody>\n",
       "</table>\n",
       "<p>541909 rows × 8 columns</p>\n",
       "</div>"
      ],
      "text/plain": [
       "       InvoiceNo StockCode                          Description  Quantity  \\\n",
       "0         536365    85123A   WHITE HANGING HEART T-LIGHT HOLDER         6   \n",
       "1         536365     71053                  WHITE METAL LANTERN         6   \n",
       "2         536365    84406B       CREAM CUPID HEARTS COAT HANGER         8   \n",
       "3         536365    84029G  KNITTED UNION FLAG HOT WATER BOTTLE         6   \n",
       "4         536365    84029E       RED WOOLLY HOTTIE WHITE HEART.         6   \n",
       "...          ...       ...                                  ...       ...   \n",
       "541904    581587     22613          PACK OF 20 SPACEBOY NAPKINS        12   \n",
       "541905    581587     22899         CHILDREN'S APRON DOLLY GIRL          6   \n",
       "541906    581587     23254        CHILDRENS CUTLERY DOLLY GIRL          4   \n",
       "541907    581587     23255      CHILDRENS CUTLERY CIRCUS PARADE         4   \n",
       "541908    581587     22138        BAKING SET 9 PIECE RETROSPOT          3   \n",
       "\n",
       "            InvoiceDate  UnitPrice  CustomerID         Country  \n",
       "0        12/1/2010 8:26       2.55     17850.0  United Kingdom  \n",
       "1        12/1/2010 8:26       3.39     17850.0  United Kingdom  \n",
       "2        12/1/2010 8:26       2.75     17850.0  United Kingdom  \n",
       "3        12/1/2010 8:26       3.39     17850.0  United Kingdom  \n",
       "4        12/1/2010 8:26       3.39     17850.0  United Kingdom  \n",
       "...                 ...        ...         ...             ...  \n",
       "541904  12/9/2011 12:50       0.85     12680.0          France  \n",
       "541905  12/9/2011 12:50       2.10     12680.0          France  \n",
       "541906  12/9/2011 12:50       4.15     12680.0          France  \n",
       "541907  12/9/2011 12:50       4.15     12680.0          France  \n",
       "541908  12/9/2011 12:50       4.95     12680.0          France  \n",
       "\n",
       "[541909 rows x 8 columns]"
      ]
     },
     "execution_count": 89,
     "metadata": {},
     "output_type": "execute_result"
    }
   ],
   "source": [
    "retail"
   ]
  },
  {
   "cell_type": "code",
   "execution_count": 91,
   "metadata": {
    "ExecuteTime": {
     "end_time": "2023-02-01T11:31:05.111361Z",
     "start_time": "2023-02-01T11:31:05.092726Z"
    }
   },
   "outputs": [],
   "source": [
    "retail_columns = retail.columns"
   ]
  },
  {
   "cell_type": "code",
   "execution_count": 92,
   "metadata": {
    "ExecuteTime": {
     "end_time": "2023-02-01T11:31:08.841482Z",
     "start_time": "2023-02-01T11:31:08.831626Z"
    }
   },
   "outputs": [
    {
     "data": {
      "text/plain": [
       "Index(['InvoiceNo', 'StockCode', 'Description', 'Quantity', 'InvoiceDate',\n",
       "       'UnitPrice', 'CustomerID', 'Country'],\n",
       "      dtype='object')"
      ]
     },
     "execution_count": 92,
     "metadata": {},
     "output_type": "execute_result"
    }
   ],
   "source": [
    "retail_columns"
   ]
  },
  {
   "cell_type": "code",
   "execution_count": 93,
   "metadata": {
    "ExecuteTime": {
     "end_time": "2023-02-01T11:33:23.668460Z",
     "start_time": "2023-02-01T11:33:23.103503Z"
    }
   },
   "outputs": [
    {
     "data": {
      "text/html": [
       "<div>\n",
       "<style scoped>\n",
       "    .dataframe tbody tr th:only-of-type {\n",
       "        vertical-align: middle;\n",
       "    }\n",
       "\n",
       "    .dataframe tbody tr th {\n",
       "        vertical-align: top;\n",
       "    }\n",
       "\n",
       "    .dataframe thead th {\n",
       "        text-align: right;\n",
       "    }\n",
       "</style>\n",
       "<table border=\"1\" class=\"dataframe\">\n",
       "  <thead>\n",
       "    <tr style=\"text-align: right;\">\n",
       "      <th></th>\n",
       "      <th>InvoiceNo</th>\n",
       "      <th>StockCode</th>\n",
       "      <th>Description</th>\n",
       "      <th>Quantity</th>\n",
       "      <th>InvoiceDate</th>\n",
       "      <th>UnitPrice</th>\n",
       "      <th>CustomerID</th>\n",
       "      <th>Country</th>\n",
       "    </tr>\n",
       "  </thead>\n",
       "  <tbody>\n",
       "    <tr>\n",
       "      <th>517</th>\n",
       "      <td>536409</td>\n",
       "      <td>21866</td>\n",
       "      <td>UNION JACK FLAG LUGGAGE TAG</td>\n",
       "      <td>1</td>\n",
       "      <td>12/1/2010 11:45</td>\n",
       "      <td>1.25</td>\n",
       "      <td>17908.0</td>\n",
       "      <td>United Kingdom</td>\n",
       "    </tr>\n",
       "    <tr>\n",
       "      <th>527</th>\n",
       "      <td>536409</td>\n",
       "      <td>22866</td>\n",
       "      <td>HAND WARMER SCOTTY DOG DESIGN</td>\n",
       "      <td>1</td>\n",
       "      <td>12/1/2010 11:45</td>\n",
       "      <td>2.10</td>\n",
       "      <td>17908.0</td>\n",
       "      <td>United Kingdom</td>\n",
       "    </tr>\n",
       "    <tr>\n",
       "      <th>537</th>\n",
       "      <td>536409</td>\n",
       "      <td>22900</td>\n",
       "      <td>SET 2 TEA TOWELS I LOVE LONDON</td>\n",
       "      <td>1</td>\n",
       "      <td>12/1/2010 11:45</td>\n",
       "      <td>2.95</td>\n",
       "      <td>17908.0</td>\n",
       "      <td>United Kingdom</td>\n",
       "    </tr>\n",
       "    <tr>\n",
       "      <th>539</th>\n",
       "      <td>536409</td>\n",
       "      <td>22111</td>\n",
       "      <td>SCOTTIE DOG HOT WATER BOTTLE</td>\n",
       "      <td>1</td>\n",
       "      <td>12/1/2010 11:45</td>\n",
       "      <td>4.95</td>\n",
       "      <td>17908.0</td>\n",
       "      <td>United Kingdom</td>\n",
       "    </tr>\n",
       "    <tr>\n",
       "      <th>555</th>\n",
       "      <td>536412</td>\n",
       "      <td>22327</td>\n",
       "      <td>ROUND SNACK BOXES SET OF 4 SKULLS</td>\n",
       "      <td>1</td>\n",
       "      <td>12/1/2010 11:49</td>\n",
       "      <td>2.95</td>\n",
       "      <td>17920.0</td>\n",
       "      <td>United Kingdom</td>\n",
       "    </tr>\n",
       "    <tr>\n",
       "      <th>...</th>\n",
       "      <td>...</td>\n",
       "      <td>...</td>\n",
       "      <td>...</td>\n",
       "      <td>...</td>\n",
       "      <td>...</td>\n",
       "      <td>...</td>\n",
       "      <td>...</td>\n",
       "      <td>...</td>\n",
       "    </tr>\n",
       "    <tr>\n",
       "      <th>541675</th>\n",
       "      <td>581538</td>\n",
       "      <td>22068</td>\n",
       "      <td>BLACK PIRATE TREASURE CHEST</td>\n",
       "      <td>1</td>\n",
       "      <td>12/9/2011 11:34</td>\n",
       "      <td>0.39</td>\n",
       "      <td>14446.0</td>\n",
       "      <td>United Kingdom</td>\n",
       "    </tr>\n",
       "    <tr>\n",
       "      <th>541689</th>\n",
       "      <td>581538</td>\n",
       "      <td>23318</td>\n",
       "      <td>BOX OF 6 MINI VINTAGE CRACKERS</td>\n",
       "      <td>1</td>\n",
       "      <td>12/9/2011 11:34</td>\n",
       "      <td>2.49</td>\n",
       "      <td>14446.0</td>\n",
       "      <td>United Kingdom</td>\n",
       "    </tr>\n",
       "    <tr>\n",
       "      <th>541692</th>\n",
       "      <td>581538</td>\n",
       "      <td>22992</td>\n",
       "      <td>REVOLVER WOODEN RULER</td>\n",
       "      <td>1</td>\n",
       "      <td>12/9/2011 11:34</td>\n",
       "      <td>1.95</td>\n",
       "      <td>14446.0</td>\n",
       "      <td>United Kingdom</td>\n",
       "    </tr>\n",
       "    <tr>\n",
       "      <th>541699</th>\n",
       "      <td>581538</td>\n",
       "      <td>22694</td>\n",
       "      <td>WICKER STAR</td>\n",
       "      <td>1</td>\n",
       "      <td>12/9/2011 11:34</td>\n",
       "      <td>2.10</td>\n",
       "      <td>14446.0</td>\n",
       "      <td>United Kingdom</td>\n",
       "    </tr>\n",
       "    <tr>\n",
       "      <th>541701</th>\n",
       "      <td>581538</td>\n",
       "      <td>23343</td>\n",
       "      <td>JUMBO BAG VINTAGE CHRISTMAS</td>\n",
       "      <td>1</td>\n",
       "      <td>12/9/2011 11:34</td>\n",
       "      <td>2.08</td>\n",
       "      <td>14446.0</td>\n",
       "      <td>United Kingdom</td>\n",
       "    </tr>\n",
       "  </tbody>\n",
       "</table>\n",
       "<p>5268 rows × 8 columns</p>\n",
       "</div>"
      ],
      "text/plain": [
       "       InvoiceNo StockCode                        Description  Quantity  \\\n",
       "517       536409     21866        UNION JACK FLAG LUGGAGE TAG         1   \n",
       "527       536409     22866      HAND WARMER SCOTTY DOG DESIGN         1   \n",
       "537       536409     22900    SET 2 TEA TOWELS I LOVE LONDON          1   \n",
       "539       536409     22111       SCOTTIE DOG HOT WATER BOTTLE         1   \n",
       "555       536412     22327  ROUND SNACK BOXES SET OF 4 SKULLS         1   \n",
       "...          ...       ...                                ...       ...   \n",
       "541675    581538     22068        BLACK PIRATE TREASURE CHEST         1   \n",
       "541689    581538     23318     BOX OF 6 MINI VINTAGE CRACKERS         1   \n",
       "541692    581538     22992             REVOLVER WOODEN RULER          1   \n",
       "541699    581538     22694                       WICKER STAR          1   \n",
       "541701    581538     23343       JUMBO BAG VINTAGE CHRISTMAS          1   \n",
       "\n",
       "            InvoiceDate  UnitPrice  CustomerID         Country  \n",
       "517     12/1/2010 11:45       1.25     17908.0  United Kingdom  \n",
       "527     12/1/2010 11:45       2.10     17908.0  United Kingdom  \n",
       "537     12/1/2010 11:45       2.95     17908.0  United Kingdom  \n",
       "539     12/1/2010 11:45       4.95     17908.0  United Kingdom  \n",
       "555     12/1/2010 11:49       2.95     17920.0  United Kingdom  \n",
       "...                 ...        ...         ...             ...  \n",
       "541675  12/9/2011 11:34       0.39     14446.0  United Kingdom  \n",
       "541689  12/9/2011 11:34       2.49     14446.0  United Kingdom  \n",
       "541692  12/9/2011 11:34       1.95     14446.0  United Kingdom  \n",
       "541699  12/9/2011 11:34       2.10     14446.0  United Kingdom  \n",
       "541701  12/9/2011 11:34       2.08     14446.0  United Kingdom  \n",
       "\n",
       "[5268 rows x 8 columns]"
      ]
     },
     "execution_count": 93,
     "metadata": {},
     "output_type": "execute_result"
    }
   ],
   "source": [
    "retail.loc[retail.duplicated()]"
   ]
  },
  {
   "cell_type": "code",
   "execution_count": 94,
   "metadata": {
    "ExecuteTime": {
     "end_time": "2023-02-01T11:34:14.487028Z",
     "start_time": "2023-02-01T11:34:13.813713Z"
    }
   },
   "outputs": [],
   "source": [
    "retail = retail.drop_duplicates()"
   ]
  },
  {
   "cell_type": "code",
   "execution_count": 100,
   "metadata": {
    "ExecuteTime": {
     "end_time": "2023-02-01T11:35:31.117455Z",
     "start_time": "2023-02-01T11:35:31.073488Z"
    }
   },
   "outputs": [
    {
     "data": {
      "text/html": [
       "<div>\n",
       "<style scoped>\n",
       "    .dataframe tbody tr th:only-of-type {\n",
       "        vertical-align: middle;\n",
       "    }\n",
       "\n",
       "    .dataframe tbody tr th {\n",
       "        vertical-align: top;\n",
       "    }\n",
       "\n",
       "    .dataframe thead th {\n",
       "        text-align: right;\n",
       "    }\n",
       "</style>\n",
       "<table border=\"1\" class=\"dataframe\">\n",
       "  <thead>\n",
       "    <tr style=\"text-align: right;\">\n",
       "      <th></th>\n",
       "      <th>InvoiceNo</th>\n",
       "      <th>StockCode</th>\n",
       "      <th>Description</th>\n",
       "      <th>Quantity</th>\n",
       "      <th>InvoiceDate</th>\n",
       "      <th>UnitPrice</th>\n",
       "      <th>CustomerID</th>\n",
       "      <th>Country</th>\n",
       "    </tr>\n",
       "  </thead>\n",
       "  <tbody>\n",
       "    <tr>\n",
       "      <th>419290</th>\n",
       "      <td>572764</td>\n",
       "      <td>22114</td>\n",
       "      <td>HOT WATER BOTTLE TEA AND SYMPATHY</td>\n",
       "      <td>8</td>\n",
       "      <td>10/26/2011 9:58</td>\n",
       "      <td>4.25</td>\n",
       "      <td>15110.0</td>\n",
       "      <td>United Kingdom</td>\n",
       "    </tr>\n",
       "    <tr>\n",
       "      <th>146992</th>\n",
       "      <td>C549041</td>\n",
       "      <td>21039</td>\n",
       "      <td>RED RETROSPOT SHOPPING BAG</td>\n",
       "      <td>-6</td>\n",
       "      <td>4/5/2011 17:22</td>\n",
       "      <td>2.55</td>\n",
       "      <td>17644.0</td>\n",
       "      <td>United Kingdom</td>\n",
       "    </tr>\n",
       "    <tr>\n",
       "      <th>357860</th>\n",
       "      <td>568134</td>\n",
       "      <td>23061</td>\n",
       "      <td>VINTAGE EMBOSSED HEART</td>\n",
       "      <td>2</td>\n",
       "      <td>9/23/2011 17:02</td>\n",
       "      <td>2.46</td>\n",
       "      <td>NaN</td>\n",
       "      <td>United Kingdom</td>\n",
       "    </tr>\n",
       "    <tr>\n",
       "      <th>97893</th>\n",
       "      <td>544660</td>\n",
       "      <td>21916</td>\n",
       "      <td>SET 12 RETRO WHITE CHALK STICKS</td>\n",
       "      <td>24</td>\n",
       "      <td>2/22/2011 13:47</td>\n",
       "      <td>0.42</td>\n",
       "      <td>15078.0</td>\n",
       "      <td>United Kingdom</td>\n",
       "    </tr>\n",
       "    <tr>\n",
       "      <th>168482</th>\n",
       "      <td>551056</td>\n",
       "      <td>22729</td>\n",
       "      <td>ALARM CLOCK BAKELIKE ORANGE</td>\n",
       "      <td>1</td>\n",
       "      <td>4/26/2011 11:51</td>\n",
       "      <td>3.75</td>\n",
       "      <td>16442.0</td>\n",
       "      <td>United Kingdom</td>\n",
       "    </tr>\n",
       "    <tr>\n",
       "      <th>160386</th>\n",
       "      <td>550458</td>\n",
       "      <td>35810A</td>\n",
       "      <td>ENAMEL PINK COFFEE CONTAINER</td>\n",
       "      <td>1</td>\n",
       "      <td>4/18/2011 13:13</td>\n",
       "      <td>2.46</td>\n",
       "      <td>NaN</td>\n",
       "      <td>United Kingdom</td>\n",
       "    </tr>\n",
       "    <tr>\n",
       "      <th>404542</th>\n",
       "      <td>571679</td>\n",
       "      <td>85099B</td>\n",
       "      <td>JUMBO BAG RED RETROSPOT</td>\n",
       "      <td>2</td>\n",
       "      <td>10/18/2011 13:41</td>\n",
       "      <td>2.08</td>\n",
       "      <td>14159.0</td>\n",
       "      <td>United Kingdom</td>\n",
       "    </tr>\n",
       "    <tr>\n",
       "      <th>497118</th>\n",
       "      <td>578347</td>\n",
       "      <td>84569A</td>\n",
       "      <td>PACK 3 IRON ON DOG PATCHES</td>\n",
       "      <td>2</td>\n",
       "      <td>11/24/2011 9:26</td>\n",
       "      <td>2.46</td>\n",
       "      <td>NaN</td>\n",
       "      <td>United Kingdom</td>\n",
       "    </tr>\n",
       "    <tr>\n",
       "      <th>122022</th>\n",
       "      <td>546846</td>\n",
       "      <td>22647</td>\n",
       "      <td>CERAMIC LOVE HEART MONEY BANK</td>\n",
       "      <td>2</td>\n",
       "      <td>3/17/2011 12:47</td>\n",
       "      <td>1.45</td>\n",
       "      <td>13533.0</td>\n",
       "      <td>United Kingdom</td>\n",
       "    </tr>\n",
       "    <tr>\n",
       "      <th>346204</th>\n",
       "      <td>567183</td>\n",
       "      <td>22465</td>\n",
       "      <td>HANGING METAL STAR LANTERN</td>\n",
       "      <td>6</td>\n",
       "      <td>9/18/2011 15:32</td>\n",
       "      <td>1.65</td>\n",
       "      <td>14769.0</td>\n",
       "      <td>United Kingdom</td>\n",
       "    </tr>\n",
       "  </tbody>\n",
       "</table>\n",
       "</div>"
      ],
      "text/plain": [
       "       InvoiceNo StockCode                        Description  Quantity  \\\n",
       "419290    572764     22114  HOT WATER BOTTLE TEA AND SYMPATHY         8   \n",
       "146992   C549041     21039         RED RETROSPOT SHOPPING BAG        -6   \n",
       "357860    568134     23061             VINTAGE EMBOSSED HEART         2   \n",
       "97893     544660     21916    SET 12 RETRO WHITE CHALK STICKS        24   \n",
       "168482    551056     22729        ALARM CLOCK BAKELIKE ORANGE         1   \n",
       "160386    550458    35810A       ENAMEL PINK COFFEE CONTAINER         1   \n",
       "404542    571679    85099B            JUMBO BAG RED RETROSPOT         2   \n",
       "497118    578347    84569A         PACK 3 IRON ON DOG PATCHES         2   \n",
       "122022    546846     22647      CERAMIC LOVE HEART MONEY BANK         2   \n",
       "346204    567183     22465         HANGING METAL STAR LANTERN         6   \n",
       "\n",
       "             InvoiceDate  UnitPrice  CustomerID         Country  \n",
       "419290   10/26/2011 9:58       4.25     15110.0  United Kingdom  \n",
       "146992    4/5/2011 17:22       2.55     17644.0  United Kingdom  \n",
       "357860   9/23/2011 17:02       2.46         NaN  United Kingdom  \n",
       "97893    2/22/2011 13:47       0.42     15078.0  United Kingdom  \n",
       "168482   4/26/2011 11:51       3.75     16442.0  United Kingdom  \n",
       "160386   4/18/2011 13:13       2.46         NaN  United Kingdom  \n",
       "404542  10/18/2011 13:41       2.08     14159.0  United Kingdom  \n",
       "497118   11/24/2011 9:26       2.46         NaN  United Kingdom  \n",
       "122022   3/17/2011 12:47       1.45     13533.0  United Kingdom  \n",
       "346204   9/18/2011 15:32       1.65     14769.0  United Kingdom  "
      ]
     },
     "execution_count": 100,
     "metadata": {},
     "output_type": "execute_result"
    }
   ],
   "source": [
    "retail.sample(10)"
   ]
  },
  {
   "cell_type": "code",
   "execution_count": 102,
   "metadata": {
    "ExecuteTime": {
     "end_time": "2023-02-01T11:37:27.071081Z",
     "start_time": "2023-02-01T11:37:26.698787Z"
    }
   },
   "outputs": [
    {
     "data": {
      "text/html": [
       "<div>\n",
       "<style scoped>\n",
       "    .dataframe tbody tr th:only-of-type {\n",
       "        vertical-align: middle;\n",
       "    }\n",
       "\n",
       "    .dataframe tbody tr th {\n",
       "        vertical-align: top;\n",
       "    }\n",
       "\n",
       "    .dataframe thead th {\n",
       "        text-align: right;\n",
       "    }\n",
       "</style>\n",
       "<table border=\"1\" class=\"dataframe\">\n",
       "  <thead>\n",
       "    <tr style=\"text-align: right;\">\n",
       "      <th></th>\n",
       "      <th>InvoiceNo</th>\n",
       "      <th>StockCode</th>\n",
       "      <th>Description</th>\n",
       "      <th>Quantity</th>\n",
       "      <th>InvoiceDate</th>\n",
       "      <th>UnitPrice</th>\n",
       "      <th>CustomerID</th>\n",
       "      <th>Country</th>\n",
       "    </tr>\n",
       "  </thead>\n",
       "  <tbody>\n",
       "    <tr>\n",
       "      <th>141</th>\n",
       "      <td>C536379</td>\n",
       "      <td>D</td>\n",
       "      <td>Discount</td>\n",
       "      <td>-1</td>\n",
       "      <td>12/1/2010 9:41</td>\n",
       "      <td>27.50</td>\n",
       "      <td>14527.0</td>\n",
       "      <td>United Kingdom</td>\n",
       "    </tr>\n",
       "    <tr>\n",
       "      <th>154</th>\n",
       "      <td>C536383</td>\n",
       "      <td>35004C</td>\n",
       "      <td>SET OF 3 COLOURED  FLYING DUCKS</td>\n",
       "      <td>-1</td>\n",
       "      <td>12/1/2010 9:49</td>\n",
       "      <td>4.65</td>\n",
       "      <td>15311.0</td>\n",
       "      <td>United Kingdom</td>\n",
       "    </tr>\n",
       "    <tr>\n",
       "      <th>235</th>\n",
       "      <td>C536391</td>\n",
       "      <td>22556</td>\n",
       "      <td>PLASTERS IN TIN CIRCUS PARADE</td>\n",
       "      <td>-12</td>\n",
       "      <td>12/1/2010 10:24</td>\n",
       "      <td>1.65</td>\n",
       "      <td>17548.0</td>\n",
       "      <td>United Kingdom</td>\n",
       "    </tr>\n",
       "    <tr>\n",
       "      <th>236</th>\n",
       "      <td>C536391</td>\n",
       "      <td>21984</td>\n",
       "      <td>PACK OF 12 PINK PAISLEY TISSUES</td>\n",
       "      <td>-24</td>\n",
       "      <td>12/1/2010 10:24</td>\n",
       "      <td>0.29</td>\n",
       "      <td>17548.0</td>\n",
       "      <td>United Kingdom</td>\n",
       "    </tr>\n",
       "    <tr>\n",
       "      <th>237</th>\n",
       "      <td>C536391</td>\n",
       "      <td>21983</td>\n",
       "      <td>PACK OF 12 BLUE PAISLEY TISSUES</td>\n",
       "      <td>-24</td>\n",
       "      <td>12/1/2010 10:24</td>\n",
       "      <td>0.29</td>\n",
       "      <td>17548.0</td>\n",
       "      <td>United Kingdom</td>\n",
       "    </tr>\n",
       "    <tr>\n",
       "      <th>...</th>\n",
       "      <td>...</td>\n",
       "      <td>...</td>\n",
       "      <td>...</td>\n",
       "      <td>...</td>\n",
       "      <td>...</td>\n",
       "      <td>...</td>\n",
       "      <td>...</td>\n",
       "      <td>...</td>\n",
       "    </tr>\n",
       "    <tr>\n",
       "      <th>540449</th>\n",
       "      <td>C581490</td>\n",
       "      <td>23144</td>\n",
       "      <td>ZINC T-LIGHT HOLDER STARS SMALL</td>\n",
       "      <td>-11</td>\n",
       "      <td>12/9/2011 9:57</td>\n",
       "      <td>0.83</td>\n",
       "      <td>14397.0</td>\n",
       "      <td>United Kingdom</td>\n",
       "    </tr>\n",
       "    <tr>\n",
       "      <th>541541</th>\n",
       "      <td>C581499</td>\n",
       "      <td>M</td>\n",
       "      <td>Manual</td>\n",
       "      <td>-1</td>\n",
       "      <td>12/9/2011 10:28</td>\n",
       "      <td>224.69</td>\n",
       "      <td>15498.0</td>\n",
       "      <td>United Kingdom</td>\n",
       "    </tr>\n",
       "    <tr>\n",
       "      <th>541715</th>\n",
       "      <td>C581568</td>\n",
       "      <td>21258</td>\n",
       "      <td>VICTORIAN SEWING BOX LARGE</td>\n",
       "      <td>-5</td>\n",
       "      <td>12/9/2011 11:57</td>\n",
       "      <td>10.95</td>\n",
       "      <td>15311.0</td>\n",
       "      <td>United Kingdom</td>\n",
       "    </tr>\n",
       "    <tr>\n",
       "      <th>541716</th>\n",
       "      <td>C581569</td>\n",
       "      <td>84978</td>\n",
       "      <td>HANGING HEART JAR T-LIGHT HOLDER</td>\n",
       "      <td>-1</td>\n",
       "      <td>12/9/2011 11:58</td>\n",
       "      <td>1.25</td>\n",
       "      <td>17315.0</td>\n",
       "      <td>United Kingdom</td>\n",
       "    </tr>\n",
       "    <tr>\n",
       "      <th>541717</th>\n",
       "      <td>C581569</td>\n",
       "      <td>20979</td>\n",
       "      <td>36 PENCILS TUBE RED RETROSPOT</td>\n",
       "      <td>-5</td>\n",
       "      <td>12/9/2011 11:58</td>\n",
       "      <td>1.25</td>\n",
       "      <td>17315.0</td>\n",
       "      <td>United Kingdom</td>\n",
       "    </tr>\n",
       "  </tbody>\n",
       "</table>\n",
       "<p>9251 rows × 8 columns</p>\n",
       "</div>"
      ],
      "text/plain": [
       "       InvoiceNo StockCode                       Description  Quantity  \\\n",
       "141      C536379         D                          Discount        -1   \n",
       "154      C536383    35004C   SET OF 3 COLOURED  FLYING DUCKS        -1   \n",
       "235      C536391     22556    PLASTERS IN TIN CIRCUS PARADE        -12   \n",
       "236      C536391     21984  PACK OF 12 PINK PAISLEY TISSUES        -24   \n",
       "237      C536391     21983  PACK OF 12 BLUE PAISLEY TISSUES        -24   \n",
       "...          ...       ...                               ...       ...   \n",
       "540449   C581490     23144   ZINC T-LIGHT HOLDER STARS SMALL       -11   \n",
       "541541   C581499         M                            Manual        -1   \n",
       "541715   C581568     21258        VICTORIAN SEWING BOX LARGE        -5   \n",
       "541716   C581569     84978  HANGING HEART JAR T-LIGHT HOLDER        -1   \n",
       "541717   C581569     20979     36 PENCILS TUBE RED RETROSPOT        -5   \n",
       "\n",
       "            InvoiceDate  UnitPrice  CustomerID         Country  \n",
       "141      12/1/2010 9:41      27.50     14527.0  United Kingdom  \n",
       "154      12/1/2010 9:49       4.65     15311.0  United Kingdom  \n",
       "235     12/1/2010 10:24       1.65     17548.0  United Kingdom  \n",
       "236     12/1/2010 10:24       0.29     17548.0  United Kingdom  \n",
       "237     12/1/2010 10:24       0.29     17548.0  United Kingdom  \n",
       "...                 ...        ...         ...             ...  \n",
       "540449   12/9/2011 9:57       0.83     14397.0  United Kingdom  \n",
       "541541  12/9/2011 10:28     224.69     15498.0  United Kingdom  \n",
       "541715  12/9/2011 11:57      10.95     15311.0  United Kingdom  \n",
       "541716  12/9/2011 11:58       1.25     17315.0  United Kingdom  \n",
       "541717  12/9/2011 11:58       1.25     17315.0  United Kingdom  \n",
       "\n",
       "[9251 rows x 8 columns]"
      ]
     },
     "execution_count": 102,
     "metadata": {},
     "output_type": "execute_result"
    }
   ],
   "source": [
    "retail.loc[retail.InvoiceNo.str.startswith('C')]"
   ]
  },
  {
   "cell_type": "code",
   "execution_count": 103,
   "metadata": {
    "ExecuteTime": {
     "end_time": "2023-02-01T11:38:57.395269Z",
     "start_time": "2023-02-01T11:38:57.313032Z"
    }
   },
   "outputs": [],
   "source": [
    "retail = retail.query('Quantity > 0')"
   ]
  },
  {
   "cell_type": "code",
   "execution_count": 104,
   "metadata": {
    "ExecuteTime": {
     "end_time": "2023-02-01T11:39:00.222118Z",
     "start_time": "2023-02-01T11:39:00.189381Z"
    }
   },
   "outputs": [
    {
     "data": {
      "text/html": [
       "<div>\n",
       "<style scoped>\n",
       "    .dataframe tbody tr th:only-of-type {\n",
       "        vertical-align: middle;\n",
       "    }\n",
       "\n",
       "    .dataframe tbody tr th {\n",
       "        vertical-align: top;\n",
       "    }\n",
       "\n",
       "    .dataframe thead th {\n",
       "        text-align: right;\n",
       "    }\n",
       "</style>\n",
       "<table border=\"1\" class=\"dataframe\">\n",
       "  <thead>\n",
       "    <tr style=\"text-align: right;\">\n",
       "      <th></th>\n",
       "      <th>InvoiceNo</th>\n",
       "      <th>StockCode</th>\n",
       "      <th>Description</th>\n",
       "      <th>Quantity</th>\n",
       "      <th>InvoiceDate</th>\n",
       "      <th>UnitPrice</th>\n",
       "      <th>CustomerID</th>\n",
       "      <th>Country</th>\n",
       "    </tr>\n",
       "  </thead>\n",
       "  <tbody>\n",
       "    <tr>\n",
       "      <th>0</th>\n",
       "      <td>536365</td>\n",
       "      <td>85123A</td>\n",
       "      <td>WHITE HANGING HEART T-LIGHT HOLDER</td>\n",
       "      <td>6</td>\n",
       "      <td>12/1/2010 8:26</td>\n",
       "      <td>2.55</td>\n",
       "      <td>17850.0</td>\n",
       "      <td>United Kingdom</td>\n",
       "    </tr>\n",
       "    <tr>\n",
       "      <th>1</th>\n",
       "      <td>536365</td>\n",
       "      <td>71053</td>\n",
       "      <td>WHITE METAL LANTERN</td>\n",
       "      <td>6</td>\n",
       "      <td>12/1/2010 8:26</td>\n",
       "      <td>3.39</td>\n",
       "      <td>17850.0</td>\n",
       "      <td>United Kingdom</td>\n",
       "    </tr>\n",
       "    <tr>\n",
       "      <th>2</th>\n",
       "      <td>536365</td>\n",
       "      <td>84406B</td>\n",
       "      <td>CREAM CUPID HEARTS COAT HANGER</td>\n",
       "      <td>8</td>\n",
       "      <td>12/1/2010 8:26</td>\n",
       "      <td>2.75</td>\n",
       "      <td>17850.0</td>\n",
       "      <td>United Kingdom</td>\n",
       "    </tr>\n",
       "    <tr>\n",
       "      <th>3</th>\n",
       "      <td>536365</td>\n",
       "      <td>84029G</td>\n",
       "      <td>KNITTED UNION FLAG HOT WATER BOTTLE</td>\n",
       "      <td>6</td>\n",
       "      <td>12/1/2010 8:26</td>\n",
       "      <td>3.39</td>\n",
       "      <td>17850.0</td>\n",
       "      <td>United Kingdom</td>\n",
       "    </tr>\n",
       "    <tr>\n",
       "      <th>4</th>\n",
       "      <td>536365</td>\n",
       "      <td>84029E</td>\n",
       "      <td>RED WOOLLY HOTTIE WHITE HEART.</td>\n",
       "      <td>6</td>\n",
       "      <td>12/1/2010 8:26</td>\n",
       "      <td>3.39</td>\n",
       "      <td>17850.0</td>\n",
       "      <td>United Kingdom</td>\n",
       "    </tr>\n",
       "    <tr>\n",
       "      <th>...</th>\n",
       "      <td>...</td>\n",
       "      <td>...</td>\n",
       "      <td>...</td>\n",
       "      <td>...</td>\n",
       "      <td>...</td>\n",
       "      <td>...</td>\n",
       "      <td>...</td>\n",
       "      <td>...</td>\n",
       "    </tr>\n",
       "    <tr>\n",
       "      <th>541904</th>\n",
       "      <td>581587</td>\n",
       "      <td>22613</td>\n",
       "      <td>PACK OF 20 SPACEBOY NAPKINS</td>\n",
       "      <td>12</td>\n",
       "      <td>12/9/2011 12:50</td>\n",
       "      <td>0.85</td>\n",
       "      <td>12680.0</td>\n",
       "      <td>France</td>\n",
       "    </tr>\n",
       "    <tr>\n",
       "      <th>541905</th>\n",
       "      <td>581587</td>\n",
       "      <td>22899</td>\n",
       "      <td>CHILDREN'S APRON DOLLY GIRL</td>\n",
       "      <td>6</td>\n",
       "      <td>12/9/2011 12:50</td>\n",
       "      <td>2.10</td>\n",
       "      <td>12680.0</td>\n",
       "      <td>France</td>\n",
       "    </tr>\n",
       "    <tr>\n",
       "      <th>541906</th>\n",
       "      <td>581587</td>\n",
       "      <td>23254</td>\n",
       "      <td>CHILDRENS CUTLERY DOLLY GIRL</td>\n",
       "      <td>4</td>\n",
       "      <td>12/9/2011 12:50</td>\n",
       "      <td>4.15</td>\n",
       "      <td>12680.0</td>\n",
       "      <td>France</td>\n",
       "    </tr>\n",
       "    <tr>\n",
       "      <th>541907</th>\n",
       "      <td>581587</td>\n",
       "      <td>23255</td>\n",
       "      <td>CHILDRENS CUTLERY CIRCUS PARADE</td>\n",
       "      <td>4</td>\n",
       "      <td>12/9/2011 12:50</td>\n",
       "      <td>4.15</td>\n",
       "      <td>12680.0</td>\n",
       "      <td>France</td>\n",
       "    </tr>\n",
       "    <tr>\n",
       "      <th>541908</th>\n",
       "      <td>581587</td>\n",
       "      <td>22138</td>\n",
       "      <td>BAKING SET 9 PIECE RETROSPOT</td>\n",
       "      <td>3</td>\n",
       "      <td>12/9/2011 12:50</td>\n",
       "      <td>4.95</td>\n",
       "      <td>12680.0</td>\n",
       "      <td>France</td>\n",
       "    </tr>\n",
       "  </tbody>\n",
       "</table>\n",
       "<p>526054 rows × 8 columns</p>\n",
       "</div>"
      ],
      "text/plain": [
       "       InvoiceNo StockCode                          Description  Quantity  \\\n",
       "0         536365    85123A   WHITE HANGING HEART T-LIGHT HOLDER         6   \n",
       "1         536365     71053                  WHITE METAL LANTERN         6   \n",
       "2         536365    84406B       CREAM CUPID HEARTS COAT HANGER         8   \n",
       "3         536365    84029G  KNITTED UNION FLAG HOT WATER BOTTLE         6   \n",
       "4         536365    84029E       RED WOOLLY HOTTIE WHITE HEART.         6   \n",
       "...          ...       ...                                  ...       ...   \n",
       "541904    581587     22613          PACK OF 20 SPACEBOY NAPKINS        12   \n",
       "541905    581587     22899         CHILDREN'S APRON DOLLY GIRL          6   \n",
       "541906    581587     23254        CHILDRENS CUTLERY DOLLY GIRL          4   \n",
       "541907    581587     23255      CHILDRENS CUTLERY CIRCUS PARADE         4   \n",
       "541908    581587     22138        BAKING SET 9 PIECE RETROSPOT          3   \n",
       "\n",
       "            InvoiceDate  UnitPrice  CustomerID         Country  \n",
       "0        12/1/2010 8:26       2.55     17850.0  United Kingdom  \n",
       "1        12/1/2010 8:26       3.39     17850.0  United Kingdom  \n",
       "2        12/1/2010 8:26       2.75     17850.0  United Kingdom  \n",
       "3        12/1/2010 8:26       3.39     17850.0  United Kingdom  \n",
       "4        12/1/2010 8:26       3.39     17850.0  United Kingdom  \n",
       "...                 ...        ...         ...             ...  \n",
       "541904  12/9/2011 12:50       0.85     12680.0          France  \n",
       "541905  12/9/2011 12:50       2.10     12680.0          France  \n",
       "541906  12/9/2011 12:50       4.15     12680.0          France  \n",
       "541907  12/9/2011 12:50       4.15     12680.0          France  \n",
       "541908  12/9/2011 12:50       4.95     12680.0          France  \n",
       "\n",
       "[526054 rows x 8 columns]"
      ]
     },
     "execution_count": 104,
     "metadata": {},
     "output_type": "execute_result"
    }
   ],
   "source": [
    "retail"
   ]
  },
  {
   "cell_type": "code",
   "execution_count": 123,
   "metadata": {
    "ExecuteTime": {
     "end_time": "2023-02-01T11:52:12.274253Z",
     "start_time": "2023-02-01T11:52:12.231707Z"
    }
   },
   "outputs": [],
   "source": [
    "N = retail.query(' Country == \"Germany\" ')\\\n",
    "            .groupby('CustomerID', as_index=False)\\\n",
    "            .agg({'InvoiceNo': 'nunique'}).InvoiceNo.quantile(q=0.8)"
   ]
  },
  {
   "cell_type": "code",
   "execution_count": 124,
   "metadata": {
    "ExecuteTime": {
     "end_time": "2023-02-01T11:52:12.790170Z",
     "start_time": "2023-02-01T11:52:12.752251Z"
    }
   },
   "outputs": [],
   "source": [
    "germany_top = retail.query(' Country == \"Germany\" ')\\\n",
    "            .groupby('CustomerID', as_index=False)\\\n",
    "            .agg({'InvoiceNo': 'nunique'}).query('InvoiceNo > @N').CustomerID"
   ]
  },
  {
   "cell_type": "code",
   "execution_count": 125,
   "metadata": {
    "ExecuteTime": {
     "end_time": "2023-02-01T11:52:13.320220Z",
     "start_time": "2023-02-01T11:52:13.306832Z"
    }
   },
   "outputs": [
    {
     "data": {
      "text/plain": [
       "3     12471.0\n",
       "6     12474.0\n",
       "8     12476.0\n",
       "12    12481.0\n",
       "16    12500.0\n",
       "26    12524.0\n",
       "37    12569.0\n",
       "44    12600.0\n",
       "51    12619.0\n",
       "52    12621.0\n",
       "56    12626.0\n",
       "64    12647.0\n",
       "69    12662.0\n",
       "77    12705.0\n",
       "78    12708.0\n",
       "79    12709.0\n",
       "81    12712.0\n",
       "83    12720.0\n",
       "Name: CustomerID, dtype: float64"
      ]
     },
     "execution_count": 125,
     "metadata": {},
     "output_type": "execute_result"
    }
   ],
   "source": [
    "germany_top"
   ]
  },
  {
   "cell_type": "code",
   "execution_count": 130,
   "metadata": {
    "ExecuteTime": {
     "end_time": "2023-02-01T11:58:53.575276Z",
     "start_time": "2023-02-01T11:58:53.552706Z"
    }
   },
   "outputs": [],
   "source": [
    "top_retail_germany = retail.query('CustomerID in @germany_top')"
   ]
  },
  {
   "cell_type": "code",
   "execution_count": 135,
   "metadata": {
    "ExecuteTime": {
     "end_time": "2023-02-01T12:03:53.265883Z",
     "start_time": "2023-02-01T12:03:53.243953Z"
    }
   },
   "outputs": [
    {
     "data": {
      "text/html": [
       "<div>\n",
       "<style scoped>\n",
       "    .dataframe tbody tr th:only-of-type {\n",
       "        vertical-align: middle;\n",
       "    }\n",
       "\n",
       "    .dataframe tbody tr th {\n",
       "        vertical-align: top;\n",
       "    }\n",
       "\n",
       "    .dataframe thead th {\n",
       "        text-align: right;\n",
       "    }\n",
       "</style>\n",
       "<table border=\"1\" class=\"dataframe\">\n",
       "  <thead>\n",
       "    <tr style=\"text-align: right;\">\n",
       "      <th></th>\n",
       "      <th>StockCode</th>\n",
       "      <th>count</th>\n",
       "    </tr>\n",
       "  </thead>\n",
       "  <tbody>\n",
       "    <tr>\n",
       "      <th>1157</th>\n",
       "      <td>POST</td>\n",
       "      <td>213</td>\n",
       "    </tr>\n",
       "    <tr>\n",
       "      <th>409</th>\n",
       "      <td>22326</td>\n",
       "      <td>52</td>\n",
       "    </tr>\n",
       "    <tr>\n",
       "      <th>411</th>\n",
       "      <td>22328</td>\n",
       "      <td>38</td>\n",
       "    </tr>\n",
       "    <tr>\n",
       "      <th>453</th>\n",
       "      <td>22423</td>\n",
       "      <td>34</td>\n",
       "    </tr>\n",
       "    <tr>\n",
       "      <th>45</th>\n",
       "      <td>20719</td>\n",
       "      <td>30</td>\n",
       "    </tr>\n",
       "    <tr>\n",
       "      <th>...</th>\n",
       "      <td>...</td>\n",
       "      <td>...</td>\n",
       "    </tr>\n",
       "    <tr>\n",
       "      <th>520</th>\n",
       "      <td>22563</td>\n",
       "      <td>1</td>\n",
       "    </tr>\n",
       "    <tr>\n",
       "      <th>524</th>\n",
       "      <td>22569</td>\n",
       "      <td>1</td>\n",
       "    </tr>\n",
       "    <tr>\n",
       "      <th>528</th>\n",
       "      <td>22574</td>\n",
       "      <td>1</td>\n",
       "    </tr>\n",
       "    <tr>\n",
       "      <th>529</th>\n",
       "      <td>22576</td>\n",
       "      <td>1</td>\n",
       "    </tr>\n",
       "    <tr>\n",
       "      <th>579</th>\n",
       "      <td>22662</td>\n",
       "      <td>1</td>\n",
       "    </tr>\n",
       "  </tbody>\n",
       "</table>\n",
       "<p>1158 rows × 2 columns</p>\n",
       "</div>"
      ],
      "text/plain": [
       "     StockCode  count\n",
       "1157      POST    213\n",
       "409      22326     52\n",
       "411      22328     38\n",
       "453      22423     34\n",
       "45       20719     30\n",
       "...        ...    ...\n",
       "520      22563      1\n",
       "524      22569      1\n",
       "528      22574      1\n",
       "529      22576      1\n",
       "579      22662      1\n",
       "\n",
       "[1158 rows x 2 columns]"
      ]
     },
     "execution_count": 135,
     "metadata": {},
     "output_type": "execute_result"
    }
   ],
   "source": [
    "top_retail_germany.groupby('StockCode', as_index=False)\\\n",
    "                .agg({'InvoiceNo': 'count'})\\\n",
    "                .rename(columns={'InvoiceNo': 'count'})\\\n",
    "                .sort_values('count', ascending=False)"
   ]
  },
  {
   "cell_type": "code",
   "execution_count": 136,
   "metadata": {
    "ExecuteTime": {
     "end_time": "2023-02-01T12:07:04.235193Z",
     "start_time": "2023-02-01T12:07:04.195177Z"
    }
   },
   "outputs": [],
   "source": [
    "retail = retail.assign(Revenue = retail.Quantity * retail.UnitPrice)"
   ]
  },
  {
   "cell_type": "code",
   "execution_count": 137,
   "metadata": {
    "ExecuteTime": {
     "end_time": "2023-02-01T12:07:08.851617Z",
     "start_time": "2023-02-01T12:07:08.821158Z"
    }
   },
   "outputs": [
    {
     "data": {
      "text/html": [
       "<div>\n",
       "<style scoped>\n",
       "    .dataframe tbody tr th:only-of-type {\n",
       "        vertical-align: middle;\n",
       "    }\n",
       "\n",
       "    .dataframe tbody tr th {\n",
       "        vertical-align: top;\n",
       "    }\n",
       "\n",
       "    .dataframe thead th {\n",
       "        text-align: right;\n",
       "    }\n",
       "</style>\n",
       "<table border=\"1\" class=\"dataframe\">\n",
       "  <thead>\n",
       "    <tr style=\"text-align: right;\">\n",
       "      <th></th>\n",
       "      <th>InvoiceNo</th>\n",
       "      <th>StockCode</th>\n",
       "      <th>Description</th>\n",
       "      <th>Quantity</th>\n",
       "      <th>InvoiceDate</th>\n",
       "      <th>UnitPrice</th>\n",
       "      <th>CustomerID</th>\n",
       "      <th>Country</th>\n",
       "      <th>Revenue</th>\n",
       "    </tr>\n",
       "  </thead>\n",
       "  <tbody>\n",
       "    <tr>\n",
       "      <th>0</th>\n",
       "      <td>536365</td>\n",
       "      <td>85123A</td>\n",
       "      <td>WHITE HANGING HEART T-LIGHT HOLDER</td>\n",
       "      <td>6</td>\n",
       "      <td>12/1/2010 8:26</td>\n",
       "      <td>2.55</td>\n",
       "      <td>17850.0</td>\n",
       "      <td>United Kingdom</td>\n",
       "      <td>15.30</td>\n",
       "    </tr>\n",
       "    <tr>\n",
       "      <th>1</th>\n",
       "      <td>536365</td>\n",
       "      <td>71053</td>\n",
       "      <td>WHITE METAL LANTERN</td>\n",
       "      <td>6</td>\n",
       "      <td>12/1/2010 8:26</td>\n",
       "      <td>3.39</td>\n",
       "      <td>17850.0</td>\n",
       "      <td>United Kingdom</td>\n",
       "      <td>20.34</td>\n",
       "    </tr>\n",
       "    <tr>\n",
       "      <th>2</th>\n",
       "      <td>536365</td>\n",
       "      <td>84406B</td>\n",
       "      <td>CREAM CUPID HEARTS COAT HANGER</td>\n",
       "      <td>8</td>\n",
       "      <td>12/1/2010 8:26</td>\n",
       "      <td>2.75</td>\n",
       "      <td>17850.0</td>\n",
       "      <td>United Kingdom</td>\n",
       "      <td>22.00</td>\n",
       "    </tr>\n",
       "    <tr>\n",
       "      <th>3</th>\n",
       "      <td>536365</td>\n",
       "      <td>84029G</td>\n",
       "      <td>KNITTED UNION FLAG HOT WATER BOTTLE</td>\n",
       "      <td>6</td>\n",
       "      <td>12/1/2010 8:26</td>\n",
       "      <td>3.39</td>\n",
       "      <td>17850.0</td>\n",
       "      <td>United Kingdom</td>\n",
       "      <td>20.34</td>\n",
       "    </tr>\n",
       "    <tr>\n",
       "      <th>4</th>\n",
       "      <td>536365</td>\n",
       "      <td>84029E</td>\n",
       "      <td>RED WOOLLY HOTTIE WHITE HEART.</td>\n",
       "      <td>6</td>\n",
       "      <td>12/1/2010 8:26</td>\n",
       "      <td>3.39</td>\n",
       "      <td>17850.0</td>\n",
       "      <td>United Kingdom</td>\n",
       "      <td>20.34</td>\n",
       "    </tr>\n",
       "    <tr>\n",
       "      <th>...</th>\n",
       "      <td>...</td>\n",
       "      <td>...</td>\n",
       "      <td>...</td>\n",
       "      <td>...</td>\n",
       "      <td>...</td>\n",
       "      <td>...</td>\n",
       "      <td>...</td>\n",
       "      <td>...</td>\n",
       "      <td>...</td>\n",
       "    </tr>\n",
       "    <tr>\n",
       "      <th>541904</th>\n",
       "      <td>581587</td>\n",
       "      <td>22613</td>\n",
       "      <td>PACK OF 20 SPACEBOY NAPKINS</td>\n",
       "      <td>12</td>\n",
       "      <td>12/9/2011 12:50</td>\n",
       "      <td>0.85</td>\n",
       "      <td>12680.0</td>\n",
       "      <td>France</td>\n",
       "      <td>10.20</td>\n",
       "    </tr>\n",
       "    <tr>\n",
       "      <th>541905</th>\n",
       "      <td>581587</td>\n",
       "      <td>22899</td>\n",
       "      <td>CHILDREN'S APRON DOLLY GIRL</td>\n",
       "      <td>6</td>\n",
       "      <td>12/9/2011 12:50</td>\n",
       "      <td>2.10</td>\n",
       "      <td>12680.0</td>\n",
       "      <td>France</td>\n",
       "      <td>12.60</td>\n",
       "    </tr>\n",
       "    <tr>\n",
       "      <th>541906</th>\n",
       "      <td>581587</td>\n",
       "      <td>23254</td>\n",
       "      <td>CHILDRENS CUTLERY DOLLY GIRL</td>\n",
       "      <td>4</td>\n",
       "      <td>12/9/2011 12:50</td>\n",
       "      <td>4.15</td>\n",
       "      <td>12680.0</td>\n",
       "      <td>France</td>\n",
       "      <td>16.60</td>\n",
       "    </tr>\n",
       "    <tr>\n",
       "      <th>541907</th>\n",
       "      <td>581587</td>\n",
       "      <td>23255</td>\n",
       "      <td>CHILDRENS CUTLERY CIRCUS PARADE</td>\n",
       "      <td>4</td>\n",
       "      <td>12/9/2011 12:50</td>\n",
       "      <td>4.15</td>\n",
       "      <td>12680.0</td>\n",
       "      <td>France</td>\n",
       "      <td>16.60</td>\n",
       "    </tr>\n",
       "    <tr>\n",
       "      <th>541908</th>\n",
       "      <td>581587</td>\n",
       "      <td>22138</td>\n",
       "      <td>BAKING SET 9 PIECE RETROSPOT</td>\n",
       "      <td>3</td>\n",
       "      <td>12/9/2011 12:50</td>\n",
       "      <td>4.95</td>\n",
       "      <td>12680.0</td>\n",
       "      <td>France</td>\n",
       "      <td>14.85</td>\n",
       "    </tr>\n",
       "  </tbody>\n",
       "</table>\n",
       "<p>526054 rows × 9 columns</p>\n",
       "</div>"
      ],
      "text/plain": [
       "       InvoiceNo StockCode                          Description  Quantity  \\\n",
       "0         536365    85123A   WHITE HANGING HEART T-LIGHT HOLDER         6   \n",
       "1         536365     71053                  WHITE METAL LANTERN         6   \n",
       "2         536365    84406B       CREAM CUPID HEARTS COAT HANGER         8   \n",
       "3         536365    84029G  KNITTED UNION FLAG HOT WATER BOTTLE         6   \n",
       "4         536365    84029E       RED WOOLLY HOTTIE WHITE HEART.         6   \n",
       "...          ...       ...                                  ...       ...   \n",
       "541904    581587     22613          PACK OF 20 SPACEBOY NAPKINS        12   \n",
       "541905    581587     22899         CHILDREN'S APRON DOLLY GIRL          6   \n",
       "541906    581587     23254        CHILDRENS CUTLERY DOLLY GIRL          4   \n",
       "541907    581587     23255      CHILDRENS CUTLERY CIRCUS PARADE         4   \n",
       "541908    581587     22138        BAKING SET 9 PIECE RETROSPOT          3   \n",
       "\n",
       "            InvoiceDate  UnitPrice  CustomerID         Country  Revenue  \n",
       "0        12/1/2010 8:26       2.55     17850.0  United Kingdom    15.30  \n",
       "1        12/1/2010 8:26       3.39     17850.0  United Kingdom    20.34  \n",
       "2        12/1/2010 8:26       2.75     17850.0  United Kingdom    22.00  \n",
       "3        12/1/2010 8:26       3.39     17850.0  United Kingdom    20.34  \n",
       "4        12/1/2010 8:26       3.39     17850.0  United Kingdom    20.34  \n",
       "...                 ...        ...         ...             ...      ...  \n",
       "541904  12/9/2011 12:50       0.85     12680.0          France    10.20  \n",
       "541905  12/9/2011 12:50       2.10     12680.0          France    12.60  \n",
       "541906  12/9/2011 12:50       4.15     12680.0          France    16.60  \n",
       "541907  12/9/2011 12:50       4.15     12680.0          France    16.60  \n",
       "541908  12/9/2011 12:50       4.95     12680.0          France    14.85  \n",
       "\n",
       "[526054 rows x 9 columns]"
      ]
     },
     "execution_count": 137,
     "metadata": {},
     "output_type": "execute_result"
    }
   ],
   "source": [
    "retail"
   ]
  },
  {
   "cell_type": "code",
   "execution_count": 148,
   "metadata": {
    "ExecuteTime": {
     "end_time": "2023-02-01T12:18:52.909243Z",
     "start_time": "2023-02-01T12:18:52.818488Z"
    }
   },
   "outputs": [
    {
     "data": {
      "text/html": [
       "<div>\n",
       "<style scoped>\n",
       "    .dataframe tbody tr th:only-of-type {\n",
       "        vertical-align: middle;\n",
       "    }\n",
       "\n",
       "    .dataframe tbody tr th {\n",
       "        vertical-align: top;\n",
       "    }\n",
       "\n",
       "    .dataframe thead th {\n",
       "        text-align: right;\n",
       "    }\n",
       "</style>\n",
       "<table border=\"1\" class=\"dataframe\">\n",
       "  <thead>\n",
       "    <tr style=\"text-align: right;\">\n",
       "      <th></th>\n",
       "      <th>InvoiceNo</th>\n",
       "      <th>TotalRevenue</th>\n",
       "    </tr>\n",
       "  </thead>\n",
       "  <tbody>\n",
       "    <tr>\n",
       "      <th>20689</th>\n",
       "      <td>581483</td>\n",
       "      <td>168469.60</td>\n",
       "    </tr>\n",
       "    <tr>\n",
       "      <th>2202</th>\n",
       "      <td>541431</td>\n",
       "      <td>77183.60</td>\n",
       "    </tr>\n",
       "    <tr>\n",
       "      <th>17582</th>\n",
       "      <td>574941</td>\n",
       "      <td>52940.94</td>\n",
       "    </tr>\n",
       "    <tr>\n",
       "      <th>18251</th>\n",
       "      <td>576365</td>\n",
       "      <td>50653.91</td>\n",
       "    </tr>\n",
       "    <tr>\n",
       "      <th>9034</th>\n",
       "      <td>556444</td>\n",
       "      <td>38970.00</td>\n",
       "    </tr>\n",
       "  </tbody>\n",
       "</table>\n",
       "</div>"
      ],
      "text/plain": [
       "      InvoiceNo  TotalRevenue\n",
       "20689    581483     168469.60\n",
       "2202     541431      77183.60\n",
       "17582    574941      52940.94\n",
       "18251    576365      50653.91\n",
       "9034     556444      38970.00"
      ]
     },
     "execution_count": 148,
     "metadata": {},
     "output_type": "execute_result"
    }
   ],
   "source": [
    "retail.groupby('InvoiceNo', as_index=False)\\\n",
    "            .agg({'Revenue': 'sum'})\\\n",
    "            .rename(columns={'Revenue': 'TotalRevenue'})\\\n",
    "            .sort_values('TotalRevenue', ascending=False).head()"
   ]
  },
  {
   "cell_type": "code",
   "execution_count": null,
   "metadata": {},
   "outputs": [],
   "source": []
  }
 ],
 "metadata": {
  "kernelspec": {
   "display_name": "Python 3 (ipykernel)",
   "language": "python",
   "name": "python3"
  },
  "language_info": {
   "codemirror_mode": {
    "name": "ipython",
    "version": 3
   },
   "file_extension": ".py",
   "mimetype": "text/x-python",
   "name": "python",
   "nbconvert_exporter": "python",
   "pygments_lexer": "ipython3",
   "version": "3.10.0"
  },
  "nbTranslate": {
   "displayLangs": [
    "*"
   ],
   "hotkey": "alt-t",
   "langInMainMenu": true,
   "sourceLang": "en",
   "targetLang": "fr",
   "useGoogleTranslate": true
  },
  "toc": {
   "base_numbering": 1,
   "nav_menu": {},
   "number_sections": true,
   "sideBar": true,
   "skip_h1_title": false,
   "title_cell": "Table of Contents",
   "title_sidebar": "Contents",
   "toc_cell": false,
   "toc_position": {},
   "toc_section_display": true,
   "toc_window_display": false
  },
  "varInspector": {
   "cols": {
    "lenName": 16,
    "lenType": 16,
    "lenVar": 40
   },
   "kernels_config": {
    "python": {
     "delete_cmd_postfix": "",
     "delete_cmd_prefix": "del ",
     "library": "var_list.py",
     "varRefreshCmd": "print(var_dic_list())"
    },
    "r": {
     "delete_cmd_postfix": ") ",
     "delete_cmd_prefix": "rm(",
     "library": "var_list.r",
     "varRefreshCmd": "cat(var_dic_list()) "
    }
   },
   "types_to_exclude": [
    "module",
    "function",
    "builtin_function_or_method",
    "instance",
    "_Feature"
   ],
   "window_display": false
  }
 },
 "nbformat": 4,
 "nbformat_minor": 4
}
