{
 "cells": [
  {
   "cell_type": "code",
   "execution_count": 2,
   "id": "4827585f",
   "metadata": {
    "ExecuteTime": {
     "end_time": "2023-03-10T13:33:40.546997Z",
     "start_time": "2023-03-10T13:33:40.533675Z"
    }
   },
   "outputs": [],
   "source": [
    "from scipy import special #модуль питона, предназначенный для научных и инженерных расчетов"
   ]
  },
  {
   "cell_type": "code",
   "execution_count": 3,
   "id": "dd705aec",
   "metadata": {
    "ExecuteTime": {
     "end_time": "2023-03-10T13:34:27.321608Z",
     "start_time": "2023-03-10T13:34:27.265445Z"
    }
   },
   "outputs": [
    {
     "data": {
      "text/plain": [
       "0.2304"
      ]
     },
     "execution_count": 3,
     "metadata": {},
     "output_type": "execute_result"
    }
   ],
   "source": [
    "round(special.comb(5, 3) * 0.4 ** 3 * 0.6 ** 2, 4)"
   ]
  },
  {
   "cell_type": "code",
   "execution_count": 4,
   "id": "0821de5e",
   "metadata": {
    "ExecuteTime": {
     "end_time": "2023-03-10T13:37:59.004812Z",
     "start_time": "2023-03-10T13:37:58.981045Z"
    }
   },
   "outputs": [
    {
     "data": {
      "text/plain": [
       "0.922"
      ]
     },
     "execution_count": 4,
     "metadata": {},
     "output_type": "execute_result"
    }
   ],
   "source": [
    "round(1 - 0.6 ** 5, 3)"
   ]
  },
  {
   "cell_type": "code",
   "execution_count": 5,
   "id": "f48ea4a8",
   "metadata": {
    "ExecuteTime": {
     "end_time": "2023-03-10T13:44:37.740898Z",
     "start_time": "2023-03-10T13:44:37.719048Z"
    }
   },
   "outputs": [
    {
     "data": {
      "text/plain": [
       "0.745"
      ]
     },
     "execution_count": 5,
     "metadata": {},
     "output_type": "execute_result"
    }
   ],
   "source": [
    "round(1 - special.comb(8, 0) * 0.3 ** 0 * 0.7 ** 8 - special.comb(8, 1) * 0.3 ** 1 * 0.7 ** 7, 3)"
   ]
  },
  {
   "cell_type": "code",
   "execution_count": 6,
   "id": "fa274c0c",
   "metadata": {
    "ExecuteTime": {
     "end_time": "2023-03-10T14:01:26.562892Z",
     "start_time": "2023-03-10T14:01:26.534426Z"
    }
   },
   "outputs": [
    {
     "data": {
      "text/plain": [
       "0.42"
      ]
     },
     "execution_count": 6,
     "metadata": {},
     "output_type": "execute_result"
    }
   ],
   "source": [
    "round(special.comb(7, 0) * 0.4 ** 0 * 0.6 ** 7 + special.comb(7, 1) * 0.4 ** 1 * 0.6 ** 6 + special.comb(7, 2) * 0.4 ** 2 * 0.6 ** 5, 2)"
   ]
  },
  {
   "cell_type": "code",
   "execution_count": 7,
   "id": "e55c97ac",
   "metadata": {
    "ExecuteTime": {
     "end_time": "2023-03-10T14:04:15.483844Z",
     "start_time": "2023-03-10T14:04:15.464337Z"
    }
   },
   "outputs": [
    {
     "data": {
      "text/plain": [
       "0.773"
      ]
     },
     "execution_count": 7,
     "metadata": {},
     "output_type": "execute_result"
    }
   ],
   "source": [
    "round(1 - special.comb(7, 0) * 0.5 ** 0 * 0.5 ** 7 - special.comb(7, 1) * 0.5 ** 1 * 0.5 ** 6 - special.comb(7, 2) * 0.5 ** 2 * 0.5 ** 5, 3)"
   ]
  },
  {
   "cell_type": "code",
   "execution_count": 8,
   "id": "ba9e3bc3",
   "metadata": {
    "ExecuteTime": {
     "end_time": "2023-03-10T14:06:36.932160Z",
     "start_time": "2023-03-10T14:06:36.895004Z"
    }
   },
   "outputs": [
    {
     "data": {
      "text/plain": [
       "0.47"
      ]
     },
     "execution_count": 8,
     "metadata": {},
     "output_type": "execute_result"
    }
   ],
   "source": [
    "round(1 - special.comb(6, 0) * 0.25 ** 0 * 0.75 ** 6 - special.comb(6, 1) * 0.25 ** 1 * 0.75 ** 5, 2)"
   ]
  },
  {
   "cell_type": "code",
   "execution_count": 9,
   "id": "adcade24",
   "metadata": {
    "ExecuteTime": {
     "end_time": "2023-03-10T14:11:52.772667Z",
     "start_time": "2023-03-10T14:11:52.737299Z"
    }
   },
   "outputs": [
    {
     "data": {
      "text/plain": [
       "0.93"
      ]
     },
     "execution_count": 9,
     "metadata": {},
     "output_type": "execute_result"
    }
   ],
   "source": [
    "round(special.comb(10, 0) * 0.1 ** 0 * 0.9 ** 10 + special.comb(10, 1) * 0.1 ** 1 * 0.9 ** 9 + special.comb(10, 2) * 0.1 ** 2 * 0.9 ** 8, 2)"
   ]
  },
  {
   "cell_type": "code",
   "execution_count": 10,
   "id": "4a583568",
   "metadata": {
    "ExecuteTime": {
     "end_time": "2023-03-10T14:13:44.681744Z",
     "start_time": "2023-03-10T14:13:44.653436Z"
    }
   },
   "outputs": [
    {
     "data": {
      "text/plain": [
       "0.228"
      ]
     },
     "execution_count": 10,
     "metadata": {},
     "output_type": "execute_result"
    }
   ],
   "source": [
    "round(special.comb(30, 2) * 0.1 ** 2 * 0.9 ** 28, 3)"
   ]
  },
  {
   "cell_type": "code",
   "execution_count": 11,
   "id": "20efa861",
   "metadata": {
    "ExecuteTime": {
     "end_time": "2023-03-10T14:25:03.212574Z",
     "start_time": "2023-03-10T14:25:03.184722Z"
    }
   },
   "outputs": [
    {
     "data": {
      "text/plain": [
       "0.088"
      ]
     },
     "execution_count": 11,
     "metadata": {},
     "output_type": "execute_result"
    }
   ],
   "source": [
    "round(special.comb(5, 2) * 0.75 ** 2 * 0.25 ** 3, 3)"
   ]
  },
  {
   "cell_type": "code",
   "execution_count": null,
   "id": "3bf2c33a",
   "metadata": {},
   "outputs": [],
   "source": []
  }
 ],
 "metadata": {
  "kernelspec": {
   "display_name": "Python 3 (ipykernel)",
   "language": "python",
   "name": "python3"
  },
  "language_info": {
   "codemirror_mode": {
    "name": "ipython",
    "version": 3
   },
   "file_extension": ".py",
   "mimetype": "text/x-python",
   "name": "python",
   "nbconvert_exporter": "python",
   "pygments_lexer": "ipython3",
   "version": "3.10.0"
  },
  "nbTranslate": {
   "displayLangs": [
    "*"
   ],
   "hotkey": "alt-t",
   "langInMainMenu": true,
   "sourceLang": "en",
   "targetLang": "fr",
   "useGoogleTranslate": true
  },
  "toc": {
   "base_numbering": 1,
   "nav_menu": {},
   "number_sections": true,
   "sideBar": true,
   "skip_h1_title": false,
   "title_cell": "Table of Contents",
   "title_sidebar": "Contents",
   "toc_cell": false,
   "toc_position": {},
   "toc_section_display": true,
   "toc_window_display": false
  },
  "varInspector": {
   "cols": {
    "lenName": 16,
    "lenType": 16,
    "lenVar": 40
   },
   "kernels_config": {
    "python": {
     "delete_cmd_postfix": "",
     "delete_cmd_prefix": "del ",
     "library": "var_list.py",
     "varRefreshCmd": "print(var_dic_list())"
    },
    "r": {
     "delete_cmd_postfix": ") ",
     "delete_cmd_prefix": "rm(",
     "library": "var_list.r",
     "varRefreshCmd": "cat(var_dic_list()) "
    }
   },
   "types_to_exclude": [
    "module",
    "function",
    "builtin_function_or_method",
    "instance",
    "_Feature"
   ],
   "window_display": false
  }
 },
 "nbformat": 4,
 "nbformat_minor": 5
}
